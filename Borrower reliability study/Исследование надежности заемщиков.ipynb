{
 "cells": [
  {
   "cell_type": "markdown",
   "id": "c86f454c",
   "metadata": {
    "deletable": false,
    "editable": false,
    "id": "c81daeeb"
   },
   "source": [
    "# Исследование надежности заемщиков\n"
   ]
  },
  {
   "cell_type": "markdown",
   "id": "981aa70a",
   "metadata": {
    "deletable": false,
    "editable": false,
    "id": "827c20bf"
   },
   "source": [
    "Во второй части проекта вы выполните шаги 3 и 4. Их вручную проверит ревьюер.\n",
    "Чтобы вам не пришлось писать код заново для шагов 1 и 2, мы добавили авторские решения в ячейки с кодом. \n",
    "\n"
   ]
  },
  {
   "cell_type": "markdown",
   "id": "30936d14",
   "metadata": {
    "deletable": false,
    "editable": false,
    "id": "744d7639"
   },
   "source": [
    "## Откройте таблицу и изучите общую информацию о данных"
   ]
  },
  {
   "cell_type": "markdown",
   "id": "25493f87",
   "metadata": {
    "deletable": false,
    "editable": false,
    "id": "e7a14c31"
   },
   "source": [
    "**Задание 1. Импортируйте библиотеку pandas. Считайте данные из csv-файла в датафрейм и сохраните в переменную `data`. Путь к файлу:**\n",
    "\n",
    "`/datasets/data.csv`"
   ]
  },
  {
   "cell_type": "code",
   "execution_count": 110,
   "id": "f54d9b35",
   "metadata": {
    "deletable": false,
    "id": "7bcf75c9"
   },
   "outputs": [],
   "source": [
    "import pandas as pd\n",
    "\n",
    "try:\n",
    "    data = pd.read_csv('/datasets/data.csv')\n",
    "except:\n",
    "    data = pd.read_csv('https://code.s3.yandex.net/datasets/data.csv')"
   ]
  },
  {
   "cell_type": "markdown",
   "id": "82a653d6",
   "metadata": {
    "deletable": false,
    "editable": false,
    "id": "b8038fe3"
   },
   "source": [
    "**Задание 2. Выведите первые 20 строчек датафрейма `data` на экран.**"
   ]
  },
  {
   "cell_type": "code",
   "execution_count": 111,
   "id": "394af8c6",
   "metadata": {
    "deletable": false,
    "id": "2a7cab99",
    "outputId": "1a8f3ef2-d323-4ec2-ddf7-89670b5944c4"
   },
   "outputs": [
    {
     "data": {
      "text/html": [
       "<div>\n",
       "<style scoped>\n",
       "    .dataframe tbody tr th:only-of-type {\n",
       "        vertical-align: middle;\n",
       "    }\n",
       "\n",
       "    .dataframe tbody tr th {\n",
       "        vertical-align: top;\n",
       "    }\n",
       "\n",
       "    .dataframe thead th {\n",
       "        text-align: right;\n",
       "    }\n",
       "</style>\n",
       "<table border=\"1\" class=\"dataframe\">\n",
       "  <thead>\n",
       "    <tr style=\"text-align: right;\">\n",
       "      <th></th>\n",
       "      <th>children</th>\n",
       "      <th>days_employed</th>\n",
       "      <th>dob_years</th>\n",
       "      <th>education</th>\n",
       "      <th>education_id</th>\n",
       "      <th>family_status</th>\n",
       "      <th>family_status_id</th>\n",
       "      <th>gender</th>\n",
       "      <th>income_type</th>\n",
       "      <th>debt</th>\n",
       "      <th>total_income</th>\n",
       "      <th>purpose</th>\n",
       "    </tr>\n",
       "  </thead>\n",
       "  <tbody>\n",
       "    <tr>\n",
       "      <th>0</th>\n",
       "      <td>1</td>\n",
       "      <td>-8437.673028</td>\n",
       "      <td>42</td>\n",
       "      <td>высшее</td>\n",
       "      <td>0</td>\n",
       "      <td>женат / замужем</td>\n",
       "      <td>0</td>\n",
       "      <td>F</td>\n",
       "      <td>сотрудник</td>\n",
       "      <td>0</td>\n",
       "      <td>253875.639453</td>\n",
       "      <td>покупка жилья</td>\n",
       "    </tr>\n",
       "    <tr>\n",
       "      <th>1</th>\n",
       "      <td>1</td>\n",
       "      <td>-4024.803754</td>\n",
       "      <td>36</td>\n",
       "      <td>среднее</td>\n",
       "      <td>1</td>\n",
       "      <td>женат / замужем</td>\n",
       "      <td>0</td>\n",
       "      <td>F</td>\n",
       "      <td>сотрудник</td>\n",
       "      <td>0</td>\n",
       "      <td>112080.014102</td>\n",
       "      <td>приобретение автомобиля</td>\n",
       "    </tr>\n",
       "    <tr>\n",
       "      <th>2</th>\n",
       "      <td>0</td>\n",
       "      <td>-5623.422610</td>\n",
       "      <td>33</td>\n",
       "      <td>Среднее</td>\n",
       "      <td>1</td>\n",
       "      <td>женат / замужем</td>\n",
       "      <td>0</td>\n",
       "      <td>M</td>\n",
       "      <td>сотрудник</td>\n",
       "      <td>0</td>\n",
       "      <td>145885.952297</td>\n",
       "      <td>покупка жилья</td>\n",
       "    </tr>\n",
       "    <tr>\n",
       "      <th>3</th>\n",
       "      <td>3</td>\n",
       "      <td>-4124.747207</td>\n",
       "      <td>32</td>\n",
       "      <td>среднее</td>\n",
       "      <td>1</td>\n",
       "      <td>женат / замужем</td>\n",
       "      <td>0</td>\n",
       "      <td>M</td>\n",
       "      <td>сотрудник</td>\n",
       "      <td>0</td>\n",
       "      <td>267628.550329</td>\n",
       "      <td>дополнительное образование</td>\n",
       "    </tr>\n",
       "    <tr>\n",
       "      <th>4</th>\n",
       "      <td>0</td>\n",
       "      <td>340266.072047</td>\n",
       "      <td>53</td>\n",
       "      <td>среднее</td>\n",
       "      <td>1</td>\n",
       "      <td>гражданский брак</td>\n",
       "      <td>1</td>\n",
       "      <td>F</td>\n",
       "      <td>пенсионер</td>\n",
       "      <td>0</td>\n",
       "      <td>158616.077870</td>\n",
       "      <td>сыграть свадьбу</td>\n",
       "    </tr>\n",
       "    <tr>\n",
       "      <th>5</th>\n",
       "      <td>0</td>\n",
       "      <td>-926.185831</td>\n",
       "      <td>27</td>\n",
       "      <td>высшее</td>\n",
       "      <td>0</td>\n",
       "      <td>гражданский брак</td>\n",
       "      <td>1</td>\n",
       "      <td>M</td>\n",
       "      <td>компаньон</td>\n",
       "      <td>0</td>\n",
       "      <td>255763.565419</td>\n",
       "      <td>покупка жилья</td>\n",
       "    </tr>\n",
       "    <tr>\n",
       "      <th>6</th>\n",
       "      <td>0</td>\n",
       "      <td>-2879.202052</td>\n",
       "      <td>43</td>\n",
       "      <td>высшее</td>\n",
       "      <td>0</td>\n",
       "      <td>женат / замужем</td>\n",
       "      <td>0</td>\n",
       "      <td>F</td>\n",
       "      <td>компаньон</td>\n",
       "      <td>0</td>\n",
       "      <td>240525.971920</td>\n",
       "      <td>операции с жильем</td>\n",
       "    </tr>\n",
       "    <tr>\n",
       "      <th>7</th>\n",
       "      <td>0</td>\n",
       "      <td>-152.779569</td>\n",
       "      <td>50</td>\n",
       "      <td>СРЕДНЕЕ</td>\n",
       "      <td>1</td>\n",
       "      <td>женат / замужем</td>\n",
       "      <td>0</td>\n",
       "      <td>M</td>\n",
       "      <td>сотрудник</td>\n",
       "      <td>0</td>\n",
       "      <td>135823.934197</td>\n",
       "      <td>образование</td>\n",
       "    </tr>\n",
       "    <tr>\n",
       "      <th>8</th>\n",
       "      <td>2</td>\n",
       "      <td>-6929.865299</td>\n",
       "      <td>35</td>\n",
       "      <td>ВЫСШЕЕ</td>\n",
       "      <td>0</td>\n",
       "      <td>гражданский брак</td>\n",
       "      <td>1</td>\n",
       "      <td>F</td>\n",
       "      <td>сотрудник</td>\n",
       "      <td>0</td>\n",
       "      <td>95856.832424</td>\n",
       "      <td>на проведение свадьбы</td>\n",
       "    </tr>\n",
       "    <tr>\n",
       "      <th>9</th>\n",
       "      <td>0</td>\n",
       "      <td>-2188.756445</td>\n",
       "      <td>41</td>\n",
       "      <td>среднее</td>\n",
       "      <td>1</td>\n",
       "      <td>женат / замужем</td>\n",
       "      <td>0</td>\n",
       "      <td>M</td>\n",
       "      <td>сотрудник</td>\n",
       "      <td>0</td>\n",
       "      <td>144425.938277</td>\n",
       "      <td>покупка жилья для семьи</td>\n",
       "    </tr>\n",
       "    <tr>\n",
       "      <th>10</th>\n",
       "      <td>2</td>\n",
       "      <td>-4171.483647</td>\n",
       "      <td>36</td>\n",
       "      <td>высшее</td>\n",
       "      <td>0</td>\n",
       "      <td>женат / замужем</td>\n",
       "      <td>0</td>\n",
       "      <td>M</td>\n",
       "      <td>компаньон</td>\n",
       "      <td>0</td>\n",
       "      <td>113943.491460</td>\n",
       "      <td>покупка недвижимости</td>\n",
       "    </tr>\n",
       "    <tr>\n",
       "      <th>11</th>\n",
       "      <td>0</td>\n",
       "      <td>-792.701887</td>\n",
       "      <td>40</td>\n",
       "      <td>среднее</td>\n",
       "      <td>1</td>\n",
       "      <td>женат / замужем</td>\n",
       "      <td>0</td>\n",
       "      <td>F</td>\n",
       "      <td>сотрудник</td>\n",
       "      <td>0</td>\n",
       "      <td>77069.234271</td>\n",
       "      <td>покупка коммерческой недвижимости</td>\n",
       "    </tr>\n",
       "    <tr>\n",
       "      <th>12</th>\n",
       "      <td>0</td>\n",
       "      <td>NaN</td>\n",
       "      <td>65</td>\n",
       "      <td>среднее</td>\n",
       "      <td>1</td>\n",
       "      <td>гражданский брак</td>\n",
       "      <td>1</td>\n",
       "      <td>M</td>\n",
       "      <td>пенсионер</td>\n",
       "      <td>0</td>\n",
       "      <td>NaN</td>\n",
       "      <td>сыграть свадьбу</td>\n",
       "    </tr>\n",
       "    <tr>\n",
       "      <th>13</th>\n",
       "      <td>0</td>\n",
       "      <td>-1846.641941</td>\n",
       "      <td>54</td>\n",
       "      <td>неоконченное высшее</td>\n",
       "      <td>2</td>\n",
       "      <td>женат / замужем</td>\n",
       "      <td>0</td>\n",
       "      <td>F</td>\n",
       "      <td>сотрудник</td>\n",
       "      <td>0</td>\n",
       "      <td>130458.228857</td>\n",
       "      <td>приобретение автомобиля</td>\n",
       "    </tr>\n",
       "    <tr>\n",
       "      <th>14</th>\n",
       "      <td>0</td>\n",
       "      <td>-1844.956182</td>\n",
       "      <td>56</td>\n",
       "      <td>высшее</td>\n",
       "      <td>0</td>\n",
       "      <td>гражданский брак</td>\n",
       "      <td>1</td>\n",
       "      <td>F</td>\n",
       "      <td>компаньон</td>\n",
       "      <td>1</td>\n",
       "      <td>165127.911772</td>\n",
       "      <td>покупка жилой недвижимости</td>\n",
       "    </tr>\n",
       "    <tr>\n",
       "      <th>15</th>\n",
       "      <td>1</td>\n",
       "      <td>-972.364419</td>\n",
       "      <td>26</td>\n",
       "      <td>среднее</td>\n",
       "      <td>1</td>\n",
       "      <td>женат / замужем</td>\n",
       "      <td>0</td>\n",
       "      <td>F</td>\n",
       "      <td>сотрудник</td>\n",
       "      <td>0</td>\n",
       "      <td>116820.904450</td>\n",
       "      <td>строительство собственной недвижимости</td>\n",
       "    </tr>\n",
       "    <tr>\n",
       "      <th>16</th>\n",
       "      <td>0</td>\n",
       "      <td>-1719.934226</td>\n",
       "      <td>35</td>\n",
       "      <td>среднее</td>\n",
       "      <td>1</td>\n",
       "      <td>женат / замужем</td>\n",
       "      <td>0</td>\n",
       "      <td>F</td>\n",
       "      <td>сотрудник</td>\n",
       "      <td>0</td>\n",
       "      <td>289202.704229</td>\n",
       "      <td>недвижимость</td>\n",
       "    </tr>\n",
       "    <tr>\n",
       "      <th>17</th>\n",
       "      <td>0</td>\n",
       "      <td>-2369.999720</td>\n",
       "      <td>33</td>\n",
       "      <td>высшее</td>\n",
       "      <td>0</td>\n",
       "      <td>гражданский брак</td>\n",
       "      <td>1</td>\n",
       "      <td>M</td>\n",
       "      <td>сотрудник</td>\n",
       "      <td>0</td>\n",
       "      <td>90410.586745</td>\n",
       "      <td>строительство недвижимости</td>\n",
       "    </tr>\n",
       "    <tr>\n",
       "      <th>18</th>\n",
       "      <td>0</td>\n",
       "      <td>400281.136913</td>\n",
       "      <td>53</td>\n",
       "      <td>среднее</td>\n",
       "      <td>1</td>\n",
       "      <td>вдовец / вдова</td>\n",
       "      <td>2</td>\n",
       "      <td>F</td>\n",
       "      <td>пенсионер</td>\n",
       "      <td>0</td>\n",
       "      <td>56823.777243</td>\n",
       "      <td>на покупку подержанного автомобиля</td>\n",
       "    </tr>\n",
       "    <tr>\n",
       "      <th>19</th>\n",
       "      <td>0</td>\n",
       "      <td>-10038.818549</td>\n",
       "      <td>48</td>\n",
       "      <td>СРЕДНЕЕ</td>\n",
       "      <td>1</td>\n",
       "      <td>в разводе</td>\n",
       "      <td>3</td>\n",
       "      <td>F</td>\n",
       "      <td>сотрудник</td>\n",
       "      <td>0</td>\n",
       "      <td>242831.107982</td>\n",
       "      <td>на покупку своего автомобиля</td>\n",
       "    </tr>\n",
       "  </tbody>\n",
       "</table>\n",
       "</div>"
      ],
      "text/plain": [
       "    children  days_employed  dob_years            education  education_id  \\\n",
       "0          1   -8437.673028         42               высшее             0   \n",
       "1          1   -4024.803754         36              среднее             1   \n",
       "2          0   -5623.422610         33              Среднее             1   \n",
       "3          3   -4124.747207         32              среднее             1   \n",
       "4          0  340266.072047         53              среднее             1   \n",
       "5          0    -926.185831         27               высшее             0   \n",
       "6          0   -2879.202052         43               высшее             0   \n",
       "7          0    -152.779569         50              СРЕДНЕЕ             1   \n",
       "8          2   -6929.865299         35               ВЫСШЕЕ             0   \n",
       "9          0   -2188.756445         41              среднее             1   \n",
       "10         2   -4171.483647         36               высшее             0   \n",
       "11         0    -792.701887         40              среднее             1   \n",
       "12         0            NaN         65              среднее             1   \n",
       "13         0   -1846.641941         54  неоконченное высшее             2   \n",
       "14         0   -1844.956182         56               высшее             0   \n",
       "15         1    -972.364419         26              среднее             1   \n",
       "16         0   -1719.934226         35              среднее             1   \n",
       "17         0   -2369.999720         33               высшее             0   \n",
       "18         0  400281.136913         53              среднее             1   \n",
       "19         0  -10038.818549         48              СРЕДНЕЕ             1   \n",
       "\n",
       "       family_status  family_status_id gender income_type  debt  \\\n",
       "0    женат / замужем                 0      F   сотрудник     0   \n",
       "1    женат / замужем                 0      F   сотрудник     0   \n",
       "2    женат / замужем                 0      M   сотрудник     0   \n",
       "3    женат / замужем                 0      M   сотрудник     0   \n",
       "4   гражданский брак                 1      F   пенсионер     0   \n",
       "5   гражданский брак                 1      M   компаньон     0   \n",
       "6    женат / замужем                 0      F   компаньон     0   \n",
       "7    женат / замужем                 0      M   сотрудник     0   \n",
       "8   гражданский брак                 1      F   сотрудник     0   \n",
       "9    женат / замужем                 0      M   сотрудник     0   \n",
       "10   женат / замужем                 0      M   компаньон     0   \n",
       "11   женат / замужем                 0      F   сотрудник     0   \n",
       "12  гражданский брак                 1      M   пенсионер     0   \n",
       "13   женат / замужем                 0      F   сотрудник     0   \n",
       "14  гражданский брак                 1      F   компаньон     1   \n",
       "15   женат / замужем                 0      F   сотрудник     0   \n",
       "16   женат / замужем                 0      F   сотрудник     0   \n",
       "17  гражданский брак                 1      M   сотрудник     0   \n",
       "18    вдовец / вдова                 2      F   пенсионер     0   \n",
       "19         в разводе                 3      F   сотрудник     0   \n",
       "\n",
       "     total_income                                 purpose  \n",
       "0   253875.639453                           покупка жилья  \n",
       "1   112080.014102                 приобретение автомобиля  \n",
       "2   145885.952297                           покупка жилья  \n",
       "3   267628.550329              дополнительное образование  \n",
       "4   158616.077870                         сыграть свадьбу  \n",
       "5   255763.565419                           покупка жилья  \n",
       "6   240525.971920                       операции с жильем  \n",
       "7   135823.934197                             образование  \n",
       "8    95856.832424                   на проведение свадьбы  \n",
       "9   144425.938277                 покупка жилья для семьи  \n",
       "10  113943.491460                    покупка недвижимости  \n",
       "11   77069.234271       покупка коммерческой недвижимости  \n",
       "12            NaN                         сыграть свадьбу  \n",
       "13  130458.228857                 приобретение автомобиля  \n",
       "14  165127.911772              покупка жилой недвижимости  \n",
       "15  116820.904450  строительство собственной недвижимости  \n",
       "16  289202.704229                            недвижимость  \n",
       "17   90410.586745              строительство недвижимости  \n",
       "18   56823.777243      на покупку подержанного автомобиля  \n",
       "19  242831.107982            на покупку своего автомобиля  "
      ]
     },
     "execution_count": 111,
     "metadata": {},
     "output_type": "execute_result"
    }
   ],
   "source": [
    "data.head(20)"
   ]
  },
  {
   "cell_type": "markdown",
   "id": "9bdcd05f",
   "metadata": {
    "deletable": false,
    "editable": false,
    "id": "1c12e233"
   },
   "source": [
    "**Задание 3. Выведите основную информацию о датафрейме с помощью метода `info()`.**"
   ]
  },
  {
   "cell_type": "code",
   "execution_count": 112,
   "id": "60e709ed",
   "metadata": {
    "deletable": false,
    "id": "2b757bca",
    "outputId": "15376089-8dad-46c9-b520-c05248d43158"
   },
   "outputs": [
    {
     "name": "stdout",
     "output_type": "stream",
     "text": [
      "<class 'pandas.core.frame.DataFrame'>\n",
      "RangeIndex: 21525 entries, 0 to 21524\n",
      "Data columns (total 12 columns):\n",
      " #   Column            Non-Null Count  Dtype  \n",
      "---  ------            --------------  -----  \n",
      " 0   children          21525 non-null  int64  \n",
      " 1   days_employed     19351 non-null  float64\n",
      " 2   dob_years         21525 non-null  int64  \n",
      " 3   education         21525 non-null  object \n",
      " 4   education_id      21525 non-null  int64  \n",
      " 5   family_status     21525 non-null  object \n",
      " 6   family_status_id  21525 non-null  int64  \n",
      " 7   gender            21525 non-null  object \n",
      " 8   income_type       21525 non-null  object \n",
      " 9   debt              21525 non-null  int64  \n",
      " 10  total_income      19351 non-null  float64\n",
      " 11  purpose           21525 non-null  object \n",
      "dtypes: float64(2), int64(5), object(5)\n",
      "memory usage: 2.0+ MB\n"
     ]
    }
   ],
   "source": [
    "data.info()"
   ]
  },
  {
   "cell_type": "markdown",
   "id": "a6142070",
   "metadata": {
    "deletable": false,
    "editable": false,
    "id": "333ec665"
   },
   "source": [
    "## Предобработка данных"
   ]
  },
  {
   "cell_type": "markdown",
   "id": "f339e80e",
   "metadata": {
    "deletable": false,
    "editable": false,
    "id": "02d92d53"
   },
   "source": [
    "### Удаление пропусков"
   ]
  },
  {
   "cell_type": "markdown",
   "id": "b7db6959",
   "metadata": {
    "deletable": false,
    "editable": false,
    "id": "cd84967c"
   },
   "source": [
    "**Задание 4. Выведите количество пропущенных значений для каждого столбца. Используйте комбинацию двух методов.**"
   ]
  },
  {
   "cell_type": "code",
   "execution_count": 113,
   "id": "db7e0ce7",
   "metadata": {
    "deletable": false,
    "id": "7f9b2309",
    "outputId": "81f4d817-781c-465c-ed15-91ce4446810d"
   },
   "outputs": [
    {
     "data": {
      "text/plain": [
       "children               0\n",
       "days_employed       2174\n",
       "dob_years              0\n",
       "education              0\n",
       "education_id           0\n",
       "family_status          0\n",
       "family_status_id       0\n",
       "gender                 0\n",
       "income_type            0\n",
       "debt                   0\n",
       "total_income        2174\n",
       "purpose                0\n",
       "dtype: int64"
      ]
     },
     "execution_count": 113,
     "metadata": {},
     "output_type": "execute_result"
    }
   ],
   "source": [
    "data.isna().sum()"
   ]
  },
  {
   "cell_type": "markdown",
   "id": "aaf2b019",
   "metadata": {
    "deletable": false,
    "editable": false,
    "id": "db86e27b"
   },
   "source": [
    "**Задание 5. В двух столбцах есть пропущенные значения. Один из них — `days_employed`. Пропуски в этом столбце вы обработаете на следующем этапе. Другой столбец с пропущенными значениями — `total_income` — хранит данные о доходах. На сумму дохода сильнее всего влияет тип занятости, поэтому заполнить пропуски в этом столбце нужно медианным значением по каждому типу из столбца `income_type`. Например, у человека с типом занятости `сотрудник` пропуск в столбце `total_income` должен быть заполнен медианным доходом среди всех записей с тем же типом.**"
   ]
  },
  {
   "cell_type": "code",
   "execution_count": 114,
   "id": "89f6945c",
   "metadata": {
    "deletable": false,
    "id": "42006a93"
   },
   "outputs": [],
   "source": [
    "for t in data['income_type'].unique():\n",
    "    data.loc[(data['income_type'] == t) & (data['total_income'].isna()), 'total_income'] = \\\n",
    "    data.loc[(data['income_type'] == t), 'total_income'].median()"
   ]
  },
  {
   "cell_type": "markdown",
   "id": "df683d1b",
   "metadata": {
    "deletable": false,
    "editable": false,
    "id": "89da5ece"
   },
   "source": [
    "### Обработка аномальных значений"
   ]
  },
  {
   "cell_type": "markdown",
   "id": "facbdc07",
   "metadata": {
    "deletable": false,
    "editable": false,
    "id": "57964554"
   },
   "source": [
    "**Задание 6. В данных могут встречаться артефакты (аномалии) — значения, которые не отражают действительность и появились по какой-то ошибке. таким артефактом будет отрицательное количество дней трудового стажа в столбце `days_employed`. Для реальных данных это нормально. Обработайте значения в этом столбце: замените все отрицательные значения положительными с помощью метода `abs()`.**"
   ]
  },
  {
   "cell_type": "code",
   "execution_count": 115,
   "id": "7e5d0d8a",
   "metadata": {
    "deletable": false,
    "id": "f6f055bf"
   },
   "outputs": [],
   "source": [
    "data['days_employed'] = data['days_employed'].abs()"
   ]
  },
  {
   "cell_type": "markdown",
   "id": "157efb44",
   "metadata": {
    "deletable": false,
    "editable": false,
    "id": "6107dd2f"
   },
   "source": [
    "**Задание 7. Для каждого типа занятости выведите медианное значение трудового стажа `days_employed` в днях.**"
   ]
  },
  {
   "cell_type": "code",
   "execution_count": 116,
   "id": "d719eac6",
   "metadata": {
    "deletable": false,
    "id": "85a5faf6",
    "outputId": "801ef80e-522b-4668-f34e-565af7432bcf"
   },
   "outputs": [
    {
     "data": {
      "text/plain": [
       "income_type\n",
       "безработный        366413.652744\n",
       "в декрете            3296.759962\n",
       "госслужащий          2689.368353\n",
       "компаньон            1547.382223\n",
       "пенсионер          365213.306266\n",
       "предприниматель       520.848083\n",
       "сотрудник            1574.202821\n",
       "студент               578.751554\n",
       "Name: days_employed, dtype: float64"
      ]
     },
     "execution_count": 116,
     "metadata": {},
     "output_type": "execute_result"
    }
   ],
   "source": [
    "data.groupby('income_type')['days_employed'].agg('median')"
   ]
  },
  {
   "cell_type": "markdown",
   "id": "f16013f4",
   "metadata": {
    "deletable": false,
    "editable": false,
    "id": "38d1a030"
   },
   "source": [
    "У двух типов (безработные и пенсионеры) получатся аномально большие значения. Исправить такие значения сложно, поэтому оставьте их как есть. Тем более этот столбец не понадобится вам для исследования."
   ]
  },
  {
   "cell_type": "markdown",
   "id": "d397a04d",
   "metadata": {
    "deletable": false,
    "editable": false,
    "id": "d8a9f147"
   },
   "source": [
    "**Задание 8. Выведите перечень уникальных значений столбца `children`.**"
   ]
  },
  {
   "cell_type": "code",
   "execution_count": 117,
   "id": "3506c89c",
   "metadata": {
    "deletable": false,
    "id": "ef5056eb",
    "outputId": "6975b15c-7f95-4697-d16d-a0c79b657b03"
   },
   "outputs": [
    {
     "data": {
      "text/plain": [
       "array([ 1,  0,  3,  2, -1,  4, 20,  5])"
      ]
     },
     "execution_count": 117,
     "metadata": {},
     "output_type": "execute_result"
    }
   ],
   "source": [
    "data['children'].unique()"
   ]
  },
  {
   "cell_type": "markdown",
   "id": "ae78dd77",
   "metadata": {
    "deletable": false,
    "editable": false,
    "id": "40b9ebf2"
   },
   "source": [
    "**Задание 9. В столбце `children` есть два аномальных значения. Удалите строки, в которых встречаются такие аномальные значения из датафрейма `data`.**"
   ]
  },
  {
   "cell_type": "code",
   "execution_count": 118,
   "id": "96e3dbb8",
   "metadata": {
    "deletable": false,
    "id": "3ff9801d"
   },
   "outputs": [],
   "source": [
    "data = data[(data['children'] != -1) & (data['children'] != 20)]"
   ]
  },
  {
   "cell_type": "markdown",
   "id": "70717754",
   "metadata": {
    "deletable": false,
    "editable": false,
    "id": "bbc4d0ce"
   },
   "source": [
    "**Задание 10. Ещё раз выведите перечень уникальных значений столбца `children`, чтобы убедиться, что артефакты удалены.**"
   ]
  },
  {
   "cell_type": "code",
   "execution_count": 119,
   "id": "56cafa4e",
   "metadata": {
    "deletable": false,
    "id": "ad4fa8b7",
    "outputId": "b2097101-d49d-44d9-901b-32a65c9463d1"
   },
   "outputs": [
    {
     "data": {
      "text/plain": [
       "array([1, 0, 3, 2, 4, 5])"
      ]
     },
     "execution_count": 119,
     "metadata": {},
     "output_type": "execute_result"
    }
   ],
   "source": [
    "data['children'].unique()"
   ]
  },
  {
   "cell_type": "markdown",
   "id": "723539bc",
   "metadata": {
    "deletable": false,
    "editable": false,
    "id": "75440b63"
   },
   "source": [
    "### Удаление пропусков (продолжение)"
   ]
  },
  {
   "cell_type": "markdown",
   "id": "7986923e",
   "metadata": {
    "deletable": false,
    "editable": false,
    "id": "f4ea573f"
   },
   "source": [
    "**Задание 11. Заполните пропуски в столбце `days_employed` медианными значениями по каждого типа занятости `income_type`.**"
   ]
  },
  {
   "cell_type": "code",
   "execution_count": 120,
   "id": "79bb489c",
   "metadata": {
    "deletable": false,
    "id": "af6b1a7e"
   },
   "outputs": [],
   "source": [
    "for t in data['income_type'].unique():\n",
    "    data.loc[(data['income_type'] == t) & (data['days_employed'].isna()), 'days_employed'] = \\\n",
    "    data.loc[(data['income_type'] == t), 'days_employed'].median()"
   ]
  },
  {
   "cell_type": "markdown",
   "id": "e856c3a0",
   "metadata": {
    "deletable": false,
    "editable": false,
    "id": "2753f40d"
   },
   "source": [
    "**Задание 12. Убедитесь, что все пропуски заполнены. Проверьте себя и ещё раз выведите количество пропущенных значений для каждого столбца с помощью двух методов.**"
   ]
  },
  {
   "cell_type": "code",
   "execution_count": 121,
   "id": "48fa7d71",
   "metadata": {
    "deletable": false,
    "id": "55f78bc2",
    "outputId": "8da1e4e1-358e-4e87-98c9-f261bce0a7b2"
   },
   "outputs": [
    {
     "data": {
      "text/plain": [
       "children            0\n",
       "days_employed       0\n",
       "dob_years           0\n",
       "education           0\n",
       "education_id        0\n",
       "family_status       0\n",
       "family_status_id    0\n",
       "gender              0\n",
       "income_type         0\n",
       "debt                0\n",
       "total_income        0\n",
       "purpose             0\n",
       "dtype: int64"
      ]
     },
     "execution_count": 121,
     "metadata": {},
     "output_type": "execute_result"
    }
   ],
   "source": [
    "data.isna().sum()"
   ]
  },
  {
   "cell_type": "markdown",
   "id": "1b7fe77f",
   "metadata": {
    "deletable": false,
    "editable": false,
    "id": "ddc81e43"
   },
   "source": [
    "### Изменение типов данных"
   ]
  },
  {
   "cell_type": "markdown",
   "id": "3f877637",
   "metadata": {
    "deletable": false,
    "editable": false,
    "id": "42d19d24"
   },
   "source": [
    "**Задание 13. Замените вещественный тип данных в столбце `total_income` на целочисленный с помощью метода `astype()`.**"
   ]
  },
  {
   "cell_type": "code",
   "execution_count": 122,
   "id": "0ebb096a",
   "metadata": {
    "deletable": false,
    "id": "920b65ad"
   },
   "outputs": [],
   "source": [
    "data['total_income'] = data['total_income'].astype(int)"
   ]
  },
  {
   "cell_type": "markdown",
   "id": "60ccfdd7",
   "metadata": {
    "deletable": false,
    "editable": false,
    "id": "80c420ba"
   },
   "source": [
    "### Обработка дубликатов"
   ]
  },
  {
   "cell_type": "markdown",
   "id": "31016acb",
   "metadata": {
    "deletable": false,
    "editable": false
   },
   "source": [
    "**Задание 14. Обработайте неявные дубликаты в столбце `education`. В этом столбце есть одни и те же значения, но записанные по-разному: с использованием заглавных и строчных букв. Приведите их к нижнему регистру. Проверьте остальные столбцы.**"
   ]
  },
  {
   "cell_type": "code",
   "execution_count": 123,
   "id": "37e01f65",
   "metadata": {
    "deletable": false
   },
   "outputs": [],
   "source": [
    "data['education'] = data['education'].str.lower()"
   ]
  },
  {
   "cell_type": "markdown",
   "id": "2e155497",
   "metadata": {
    "deletable": false,
    "editable": false,
    "id": "dc587695"
   },
   "source": [
    "**Задание 15. Выведите на экран количество строк-дубликатов в данных. Если такие строки присутствуют, удалите их.**"
   ]
  },
  {
   "cell_type": "code",
   "execution_count": 124,
   "id": "ae16a291",
   "metadata": {
    "deletable": false,
    "id": "3ee445e4",
    "outputId": "9684deba-1934-42d1-99e1-cda61740f822"
   },
   "outputs": [
    {
     "data": {
      "text/plain": [
       "71"
      ]
     },
     "execution_count": 124,
     "metadata": {},
     "output_type": "execute_result"
    }
   ],
   "source": [
    "data.duplicated().sum()"
   ]
  },
  {
   "cell_type": "code",
   "execution_count": 125,
   "id": "8e898c5b",
   "metadata": {
    "deletable": false,
    "id": "8575fe05"
   },
   "outputs": [],
   "source": [
    "data = data.drop_duplicates()"
   ]
  },
  {
   "cell_type": "markdown",
   "id": "b38508de",
   "metadata": {
    "deletable": false,
    "editable": false,
    "id": "9904cf55"
   },
   "source": [
    "### Категоризация данных"
   ]
  },
  {
   "cell_type": "markdown",
   "id": "f1968770",
   "metadata": {
    "deletable": false,
    "editable": false,
    "id": "72fcc8a2"
   },
   "source": [
    "**Задание 16. На основании диапазонов, указанных ниже, создайте в датафрейме `data` столбец `total_income_category` с категориями:**\n",
    "\n",
    "- 0–30000 — `'E'`;\n",
    "- 30001–50000 — `'D'`;\n",
    "- 50001–200000 — `'C'`;\n",
    "- 200001–1000000 — `'B'`;\n",
    "- 1000001 и выше — `'A'`.\n",
    "\n",
    "\n",
    "**Например, кредитополучателю с доходом 25000 нужно назначить категорию `'E'`, а клиенту, получающему 235000, — `'B'`. Используйте собственную функцию с именем `categorize_income()` и метод `apply()`.**"
   ]
  },
  {
   "cell_type": "code",
   "execution_count": 126,
   "id": "6614cebf",
   "metadata": {
    "deletable": false,
    "id": "e1771346"
   },
   "outputs": [],
   "source": [
    "def categorize_income(income):\n",
    "    try:\n",
    "        if 0 <= income <= 30000:\n",
    "            return 'E'\n",
    "        elif 30001 <= income <= 50000:\n",
    "            return 'D'\n",
    "        elif 50001 <= income <= 200000:\n",
    "            return 'C'\n",
    "        elif 200001 <= income <= 1000000:\n",
    "            return 'B'\n",
    "        elif income >= 1000001:\n",
    "            return 'A'\n",
    "    except:\n",
    "        pass"
   ]
  },
  {
   "cell_type": "code",
   "execution_count": 127,
   "id": "fbb70020",
   "metadata": {
    "deletable": false,
    "id": "d5f3586d"
   },
   "outputs": [],
   "source": [
    "data['total_income_category'] = data['total_income'].apply(categorize_income)"
   ]
  },
  {
   "cell_type": "markdown",
   "id": "db965e62",
   "metadata": {
    "deletable": false,
    "editable": false,
    "id": "dde49b5c"
   },
   "source": [
    "**Задание 17. Выведите на экран перечень уникальных целей взятия кредита из столбца `purpose`.**"
   ]
  },
  {
   "cell_type": "code",
   "execution_count": 128,
   "id": "78ec0935",
   "metadata": {
    "deletable": false,
    "id": "f67ce9b3",
    "outputId": "673c12d9-7d7e-4ae0-9812-c622c89dd244"
   },
   "outputs": [
    {
     "data": {
      "text/plain": [
       "array(['покупка жилья', 'приобретение автомобиля',\n",
       "       'дополнительное образование', 'сыграть свадьбу',\n",
       "       'операции с жильем', 'образование', 'на проведение свадьбы',\n",
       "       'покупка жилья для семьи', 'покупка недвижимости',\n",
       "       'покупка коммерческой недвижимости', 'покупка жилой недвижимости',\n",
       "       'строительство собственной недвижимости', 'недвижимость',\n",
       "       'строительство недвижимости', 'на покупку подержанного автомобиля',\n",
       "       'на покупку своего автомобиля',\n",
       "       'операции с коммерческой недвижимостью',\n",
       "       'строительство жилой недвижимости', 'жилье',\n",
       "       'операции со своей недвижимостью', 'автомобили',\n",
       "       'заняться образованием', 'сделка с подержанным автомобилем',\n",
       "       'получение образования', 'автомобиль', 'свадьба',\n",
       "       'получение дополнительного образования', 'покупка своего жилья',\n",
       "       'операции с недвижимостью', 'получение высшего образования',\n",
       "       'свой автомобиль', 'сделка с автомобилем',\n",
       "       'профильное образование', 'высшее образование',\n",
       "       'покупка жилья для сдачи', 'на покупку автомобиля', 'ремонт жилью',\n",
       "       'заняться высшим образованием'], dtype=object)"
      ]
     },
     "execution_count": 128,
     "metadata": {},
     "output_type": "execute_result"
    }
   ],
   "source": [
    "data['purpose'].unique()"
   ]
  },
  {
   "cell_type": "markdown",
   "id": "1687e6d4",
   "metadata": {
    "deletable": false,
    "editable": false,
    "id": "85d0aef0"
   },
   "source": [
    "**Задание 18. Создайте функцию, которая на основании данных из столбца `purpose` сформирует новый столбец `purpose_category`, в который войдут следующие категории:**\n",
    "\n",
    "- `'операции с автомобилем'`,\n",
    "- `'операции с недвижимостью'`,\n",
    "- `'проведение свадьбы'`,\n",
    "- `'получение образования'`.\n",
    "\n",
    "**Например, если в столбце `purpose` находится подстрока `'на покупку автомобиля'`, то в столбце `purpose_category` должна появиться строка `'операции с автомобилем'`.**\n",
    "\n",
    "**Используйте собственную функцию с именем `categorize_purpose()` и метод `apply()`. Изучите данные в столбце `purpose` и определите, какие подстроки помогут вам правильно определить категорию.**"
   ]
  },
  {
   "cell_type": "code",
   "execution_count": 129,
   "id": "441ec2fb",
   "metadata": {
    "deletable": false,
    "id": "e149fab4"
   },
   "outputs": [],
   "source": [
    "def categorize_purpose(row):\n",
    "    try:\n",
    "        if 'автом' in row:\n",
    "            return 'операции с автомобилем'\n",
    "        elif 'жил' in row or 'недвиж' in row:\n",
    "            return 'операции с недвижимостью'\n",
    "        elif 'свад' in row:\n",
    "            return 'проведение свадьбы'\n",
    "        elif 'образов' in row:\n",
    "            return 'получение образования'\n",
    "    except:\n",
    "        return 'нет категории'"
   ]
  },
  {
   "cell_type": "code",
   "execution_count": 130,
   "id": "b6813829",
   "metadata": {
    "deletable": false,
    "id": "bf36e69b"
   },
   "outputs": [],
   "source": [
    "data['purpose_category'] = data['purpose'].apply(categorize_purpose)"
   ]
  },
  {
   "cell_type": "markdown",
   "id": "e2b81c9f",
   "metadata": {
    "deletable": false,
    "editable": false,
    "id": "09b242bf"
   },
   "source": [
    "### Шаг 3. Исследуйте данные и ответьте на вопросы"
   ]
  },
  {
   "cell_type": "markdown",
   "id": "5f684045",
   "metadata": {
    "deletable": false,
    "editable": false,
    "id": "c5d66278"
   },
   "source": [
    "#### 3.1 Есть ли зависимость между количеством детей и возвратом кредита в срок?"
   ]
  },
  {
   "cell_type": "markdown",
   "id": "3377bcf0",
   "metadata": {},
   "source": [
    "Выведем из таблицы data необходимые данные для анализа, и сохраним в новую таблицу category, и переменуем названия столбцов для более наглядного представления:"
   ]
  },
  {
   "cell_type": "code",
   "execution_count": 131,
   "id": "f9ecc036",
   "metadata": {},
   "outputs": [
    {
     "name": "stdout",
     "output_type": "stream",
     "text": [
      "       количеcтво детей семейное положение  заемщики  \\\n",
      "0                     1    женат / замужем         0   \n",
      "1                     1    женат / замужем         0   \n",
      "2                     0    женат / замужем         0   \n",
      "3                     3    женат / замужем         0   \n",
      "4                     0   гражданский брак         0   \n",
      "...                 ...                ...       ...   \n",
      "21520                 1   гражданский брак         0   \n",
      "21521                 0    женат / замужем         0   \n",
      "21522                 1   гражданский брак         1   \n",
      "21523                 3    женат / замужем         1   \n",
      "21524                 2    женат / замужем         0   \n",
      "\n",
      "                   цели кридита уровень дохода  \n",
      "0      операции с недвижимостью              B  \n",
      "1        операции с автомобилем              C  \n",
      "2      операции с недвижимостью              C  \n",
      "3         получение образования              B  \n",
      "4            проведение свадьбы              C  \n",
      "...                         ...            ...  \n",
      "21520  операции с недвижимостью              B  \n",
      "21521    операции с автомобилем              C  \n",
      "21522  операции с недвижимостью              C  \n",
      "21523    операции с автомобилем              B  \n",
      "21524    операции с автомобилем              C  \n",
      "\n",
      "[21331 rows x 5 columns]\n"
     ]
    }
   ],
   "source": [
    "category = data.rename(columns={'children': 'количеcтво детей',\n",
    "                                'family_status': 'семейное положение',\n",
    "                                'debt': 'заемщики',\n",
    "                               'purpose_category': 'цели кридита',\n",
    "                               'total_income_category': 'уровень дохода'})\n",
    "\n",
    "print(category[['количеcтво детей','семейное положение',\n",
    "                'заемщики','цели кридита','уровень дохода']])"
   ]
  },
  {
   "cell_type": "markdown",
   "id": "e59f707e",
   "metadata": {},
   "source": [
    "Теперь определим количество детей для каждого заемщика, а также список должников и найдем среднее значение:"
   ]
  },
  {
   "cell_type": "code",
   "execution_count": 132,
   "id": "55ce20af",
   "metadata": {
    "deletable": false,
    "id": "2cacfc4a"
   },
   "outputs": [
    {
     "data": {
      "text/html": [
       "<div>\n",
       "<style scoped>\n",
       "    .dataframe tbody tr th:only-of-type {\n",
       "        vertical-align: middle;\n",
       "    }\n",
       "\n",
       "    .dataframe tbody tr th {\n",
       "        vertical-align: top;\n",
       "    }\n",
       "\n",
       "    .dataframe thead th {\n",
       "        text-align: right;\n",
       "    }\n",
       "</style>\n",
       "<table border=\"1\" class=\"dataframe\">\n",
       "  <thead>\n",
       "    <tr style=\"text-align: right;\">\n",
       "      <th></th>\n",
       "      <th>count</th>\n",
       "      <th>sum</th>\n",
       "      <th>mean</th>\n",
       "    </tr>\n",
       "    <tr>\n",
       "      <th>количеcтво детей</th>\n",
       "      <th></th>\n",
       "      <th></th>\n",
       "      <th></th>\n",
       "    </tr>\n",
       "  </thead>\n",
       "  <tbody>\n",
       "    <tr>\n",
       "      <th>0</th>\n",
       "      <td>14091</td>\n",
       "      <td>1063</td>\n",
       "      <td>0.075438</td>\n",
       "    </tr>\n",
       "    <tr>\n",
       "      <th>1</th>\n",
       "      <td>4808</td>\n",
       "      <td>444</td>\n",
       "      <td>0.092346</td>\n",
       "    </tr>\n",
       "    <tr>\n",
       "      <th>2</th>\n",
       "      <td>2052</td>\n",
       "      <td>194</td>\n",
       "      <td>0.094542</td>\n",
       "    </tr>\n",
       "    <tr>\n",
       "      <th>3</th>\n",
       "      <td>330</td>\n",
       "      <td>27</td>\n",
       "      <td>0.081818</td>\n",
       "    </tr>\n",
       "    <tr>\n",
       "      <th>4</th>\n",
       "      <td>41</td>\n",
       "      <td>4</td>\n",
       "      <td>0.097561</td>\n",
       "    </tr>\n",
       "    <tr>\n",
       "      <th>5</th>\n",
       "      <td>9</td>\n",
       "      <td>0</td>\n",
       "      <td>0.000000</td>\n",
       "    </tr>\n",
       "  </tbody>\n",
       "</table>\n",
       "</div>"
      ],
      "text/plain": [
       "                  count   sum      mean\n",
       "количеcтво детей                       \n",
       "0                 14091  1063  0.075438\n",
       "1                  4808   444  0.092346\n",
       "2                  2052   194  0.094542\n",
       "3                   330    27  0.081818\n",
       "4                    41     4  0.097561\n",
       "5                     9     0  0.000000"
      ]
     },
     "metadata": {},
     "output_type": "display_data"
    }
   ],
   "source": [
    "table_children = category.groupby('количеcтво детей')['заемщики'].agg(['count','sum', 'mean'])\n",
    "display(table_children)"
   ]
  },
  {
   "cell_type": "markdown",
   "id": "8c3e99b2",
   "metadata": {},
   "source": [
    "Переведем среднее значение в проценты для более наглядного представления картины:"
   ]
  },
  {
   "cell_type": "code",
   "execution_count": 133,
   "id": "74a3547f",
   "metadata": {},
   "outputs": [
    {
     "data": {
      "text/html": [
       "<div>\n",
       "<style scoped>\n",
       "    .dataframe tbody tr th:only-of-type {\n",
       "        vertical-align: middle;\n",
       "    }\n",
       "\n",
       "    .dataframe tbody tr th {\n",
       "        vertical-align: top;\n",
       "    }\n",
       "\n",
       "    .dataframe thead th {\n",
       "        text-align: right;\n",
       "    }\n",
       "</style>\n",
       "<table border=\"1\" class=\"dataframe\">\n",
       "  <thead>\n",
       "    <tr style=\"text-align: right;\">\n",
       "      <th></th>\n",
       "      <th>count</th>\n",
       "      <th>sum</th>\n",
       "      <th>mean</th>\n",
       "    </tr>\n",
       "    <tr>\n",
       "      <th>количеcтво детей</th>\n",
       "      <th></th>\n",
       "      <th></th>\n",
       "      <th></th>\n",
       "    </tr>\n",
       "  </thead>\n",
       "  <tbody>\n",
       "    <tr>\n",
       "      <th>0</th>\n",
       "      <td>14091</td>\n",
       "      <td>1063</td>\n",
       "      <td>7.54%</td>\n",
       "    </tr>\n",
       "    <tr>\n",
       "      <th>1</th>\n",
       "      <td>4808</td>\n",
       "      <td>444</td>\n",
       "      <td>9.23%</td>\n",
       "    </tr>\n",
       "    <tr>\n",
       "      <th>2</th>\n",
       "      <td>2052</td>\n",
       "      <td>194</td>\n",
       "      <td>9.45%</td>\n",
       "    </tr>\n",
       "    <tr>\n",
       "      <th>3</th>\n",
       "      <td>330</td>\n",
       "      <td>27</td>\n",
       "      <td>8.18%</td>\n",
       "    </tr>\n",
       "    <tr>\n",
       "      <th>4</th>\n",
       "      <td>41</td>\n",
       "      <td>4</td>\n",
       "      <td>9.76%</td>\n",
       "    </tr>\n",
       "    <tr>\n",
       "      <th>5</th>\n",
       "      <td>9</td>\n",
       "      <td>0</td>\n",
       "      <td>0.00%</td>\n",
       "    </tr>\n",
       "  </tbody>\n",
       "</table>\n",
       "</div>"
      ],
      "text/plain": [
       "                  count   sum   mean\n",
       "количеcтво детей                    \n",
       "0                 14091  1063  7.54%\n",
       "1                  4808   444  9.23%\n",
       "2                  2052   194  9.45%\n",
       "3                   330    27  8.18%\n",
       "4                    41     4  9.76%\n",
       "5                     9     0  0.00%"
      ]
     },
     "metadata": {},
     "output_type": "display_data"
    }
   ],
   "source": [
    "table_children['mean'] = table_children['mean'].apply(lambda x:f'{x:.2%}')\n",
    "display(table_children)"
   ]
  },
  {
   "cell_type": "markdown",
   "id": "9ac4703c",
   "metadata": {},
   "source": [
    "Теперь переменуем столбцы:"
   ]
  },
  {
   "cell_type": "code",
   "execution_count": 134,
   "id": "b6ec4abd",
   "metadata": {},
   "outputs": [
    {
     "data": {
      "text/html": [
       "<div>\n",
       "<style scoped>\n",
       "    .dataframe tbody tr th:only-of-type {\n",
       "        vertical-align: middle;\n",
       "    }\n",
       "\n",
       "    .dataframe tbody tr th {\n",
       "        vertical-align: top;\n",
       "    }\n",
       "\n",
       "    .dataframe thead th {\n",
       "        text-align: right;\n",
       "    }\n",
       "</style>\n",
       "<table border=\"1\" class=\"dataframe\">\n",
       "  <thead>\n",
       "    <tr style=\"text-align: right;\">\n",
       "      <th></th>\n",
       "      <th>количество заемщиков</th>\n",
       "      <th>количество должников</th>\n",
       "      <th>доля должников в %</th>\n",
       "    </tr>\n",
       "    <tr>\n",
       "      <th>количеcтво детей</th>\n",
       "      <th></th>\n",
       "      <th></th>\n",
       "      <th></th>\n",
       "    </tr>\n",
       "  </thead>\n",
       "  <tbody>\n",
       "    <tr>\n",
       "      <th>0</th>\n",
       "      <td>14091</td>\n",
       "      <td>1063</td>\n",
       "      <td>7.54%</td>\n",
       "    </tr>\n",
       "    <tr>\n",
       "      <th>1</th>\n",
       "      <td>4808</td>\n",
       "      <td>444</td>\n",
       "      <td>9.23%</td>\n",
       "    </tr>\n",
       "    <tr>\n",
       "      <th>2</th>\n",
       "      <td>2052</td>\n",
       "      <td>194</td>\n",
       "      <td>9.45%</td>\n",
       "    </tr>\n",
       "    <tr>\n",
       "      <th>3</th>\n",
       "      <td>330</td>\n",
       "      <td>27</td>\n",
       "      <td>8.18%</td>\n",
       "    </tr>\n",
       "    <tr>\n",
       "      <th>4</th>\n",
       "      <td>41</td>\n",
       "      <td>4</td>\n",
       "      <td>9.76%</td>\n",
       "    </tr>\n",
       "    <tr>\n",
       "      <th>5</th>\n",
       "      <td>9</td>\n",
       "      <td>0</td>\n",
       "      <td>0.00%</td>\n",
       "    </tr>\n",
       "  </tbody>\n",
       "</table>\n",
       "</div>"
      ],
      "text/plain": [
       "                  количество заемщиков  количество должников  \\\n",
       "количеcтво детей                                               \n",
       "0                                14091                  1063   \n",
       "1                                 4808                   444   \n",
       "2                                 2052                   194   \n",
       "3                                  330                    27   \n",
       "4                                   41                     4   \n",
       "5                                    9                     0   \n",
       "\n",
       "                 доля должников в %  \n",
       "количеcтво детей                     \n",
       "0                             7.54%  \n",
       "1                             9.23%  \n",
       "2                             9.45%  \n",
       "3                             8.18%  \n",
       "4                             9.76%  \n",
       "5                             0.00%  "
      ]
     },
     "metadata": {},
     "output_type": "display_data"
    }
   ],
   "source": [
    "table_children = table_children.rename(columns={'count': 'количество заемщиков',\n",
    "                                                'sum': 'количество должников', \n",
    "                                                'mean': 'доля должников в %'})\n",
    "display(table_children)"
   ]
  },
  {
   "cell_type": "markdown",
   "id": "55104c8e",
   "metadata": {},
   "source": [
    "Отсортируем значения по таблице \"доля должников в %\" в порядке убывания:"
   ]
  },
  {
   "cell_type": "code",
   "execution_count": 135,
   "id": "addd0777",
   "metadata": {},
   "outputs": [
    {
     "data": {
      "text/html": [
       "<div>\n",
       "<style scoped>\n",
       "    .dataframe tbody tr th:only-of-type {\n",
       "        vertical-align: middle;\n",
       "    }\n",
       "\n",
       "    .dataframe tbody tr th {\n",
       "        vertical-align: top;\n",
       "    }\n",
       "\n",
       "    .dataframe thead th {\n",
       "        text-align: right;\n",
       "    }\n",
       "</style>\n",
       "<table border=\"1\" class=\"dataframe\">\n",
       "  <thead>\n",
       "    <tr style=\"text-align: right;\">\n",
       "      <th></th>\n",
       "      <th>количество заемщиков</th>\n",
       "      <th>количество должников</th>\n",
       "      <th>доля должников в %</th>\n",
       "    </tr>\n",
       "    <tr>\n",
       "      <th>количеcтво детей</th>\n",
       "      <th></th>\n",
       "      <th></th>\n",
       "      <th></th>\n",
       "    </tr>\n",
       "  </thead>\n",
       "  <tbody>\n",
       "    <tr>\n",
       "      <th>4</th>\n",
       "      <td>41</td>\n",
       "      <td>4</td>\n",
       "      <td>9.76%</td>\n",
       "    </tr>\n",
       "    <tr>\n",
       "      <th>2</th>\n",
       "      <td>2052</td>\n",
       "      <td>194</td>\n",
       "      <td>9.45%</td>\n",
       "    </tr>\n",
       "    <tr>\n",
       "      <th>1</th>\n",
       "      <td>4808</td>\n",
       "      <td>444</td>\n",
       "      <td>9.23%</td>\n",
       "    </tr>\n",
       "    <tr>\n",
       "      <th>3</th>\n",
       "      <td>330</td>\n",
       "      <td>27</td>\n",
       "      <td>8.18%</td>\n",
       "    </tr>\n",
       "    <tr>\n",
       "      <th>0</th>\n",
       "      <td>14091</td>\n",
       "      <td>1063</td>\n",
       "      <td>7.54%</td>\n",
       "    </tr>\n",
       "    <tr>\n",
       "      <th>5</th>\n",
       "      <td>9</td>\n",
       "      <td>0</td>\n",
       "      <td>0.00%</td>\n",
       "    </tr>\n",
       "  </tbody>\n",
       "</table>\n",
       "</div>"
      ],
      "text/plain": [
       "                  количество заемщиков  количество должников  \\\n",
       "количеcтво детей                                               \n",
       "4                                   41                     4   \n",
       "2                                 2052                   194   \n",
       "1                                 4808                   444   \n",
       "3                                  330                    27   \n",
       "0                                14091                  1063   \n",
       "5                                    9                     0   \n",
       "\n",
       "                 доля должников в %  \n",
       "количеcтво детей                     \n",
       "4                             9.76%  \n",
       "2                             9.45%  \n",
       "1                             9.23%  \n",
       "3                             8.18%  \n",
       "0                             7.54%  \n",
       "5                             0.00%  "
      ]
     },
     "metadata": {},
     "output_type": "display_data"
    }
   ],
   "source": [
    "table_children = table_children.sort_values('доля должников в %', ascending=False)\n",
    "display(table_children)"
   ]
  },
  {
   "cell_type": "markdown",
   "id": "d1709363",
   "metadata": {
    "deletable": false,
    "id": "3a6b99ec"
   },
   "source": [
    "**Вывод:** Больше всего задолжников по платежам прослеживается у представителей, имеющих одного, двух и четырех детей. У представителей, имеющих три и пять детей, наблюдаются более сниженные показатели, что может быть связанj с небольшим количеством клиентов, подпадающих под данную категорию.     "
   ]
  },
  {
   "cell_type": "markdown",
   "id": "29a052d1",
   "metadata": {
    "deletable": false,
    "editable": false,
    "id": "97be82ca"
   },
   "source": [
    "#### 3.2 Есть ли зависимость между семейным положением и возвратом кредита в срок?"
   ]
  },
  {
   "cell_type": "markdown",
   "id": "0fd7f448",
   "metadata": {},
   "source": [
    "Произведем группировку данных по семейному положению и возврату кредита в срок и также, как и в первом случае, рассчитаем список должников и их среднее значение:"
   ]
  },
  {
   "cell_type": "code",
   "execution_count": 136,
   "id": "19ec49ea",
   "metadata": {
    "deletable": false,
    "id": "dc3f7ee8"
   },
   "outputs": [
    {
     "data": {
      "text/html": [
       "<div>\n",
       "<style scoped>\n",
       "    .dataframe tbody tr th:only-of-type {\n",
       "        vertical-align: middle;\n",
       "    }\n",
       "\n",
       "    .dataframe tbody tr th {\n",
       "        vertical-align: top;\n",
       "    }\n",
       "\n",
       "    .dataframe thead th {\n",
       "        text-align: right;\n",
       "    }\n",
       "</style>\n",
       "<table border=\"1\" class=\"dataframe\">\n",
       "  <thead>\n",
       "    <tr style=\"text-align: right;\">\n",
       "      <th></th>\n",
       "      <th>count</th>\n",
       "      <th>sum</th>\n",
       "      <th>mean</th>\n",
       "    </tr>\n",
       "    <tr>\n",
       "      <th>семейное положение</th>\n",
       "      <th></th>\n",
       "      <th></th>\n",
       "      <th></th>\n",
       "    </tr>\n",
       "  </thead>\n",
       "  <tbody>\n",
       "    <tr>\n",
       "      <th>Не женат / не замужем</th>\n",
       "      <td>2796</td>\n",
       "      <td>273</td>\n",
       "      <td>0.097639</td>\n",
       "    </tr>\n",
       "    <tr>\n",
       "      <th>в разводе</th>\n",
       "      <td>1189</td>\n",
       "      <td>84</td>\n",
       "      <td>0.070648</td>\n",
       "    </tr>\n",
       "    <tr>\n",
       "      <th>вдовец / вдова</th>\n",
       "      <td>951</td>\n",
       "      <td>63</td>\n",
       "      <td>0.066246</td>\n",
       "    </tr>\n",
       "    <tr>\n",
       "      <th>гражданский брак</th>\n",
       "      <td>4134</td>\n",
       "      <td>385</td>\n",
       "      <td>0.093130</td>\n",
       "    </tr>\n",
       "    <tr>\n",
       "      <th>женат / замужем</th>\n",
       "      <td>12261</td>\n",
       "      <td>927</td>\n",
       "      <td>0.075606</td>\n",
       "    </tr>\n",
       "  </tbody>\n",
       "</table>\n",
       "</div>"
      ],
      "text/plain": [
       "                       count  sum      mean\n",
       "семейное положение                         \n",
       "Не женат / не замужем   2796  273  0.097639\n",
       "в разводе               1189   84  0.070648\n",
       "вдовец / вдова           951   63  0.066246\n",
       "гражданский брак        4134  385  0.093130\n",
       "женат / замужем        12261  927  0.075606"
      ]
     },
     "metadata": {},
     "output_type": "display_data"
    }
   ],
   "source": [
    "family_table = category.groupby('семейное положение')['заемщики'].agg(['count','sum', 'mean'])\n",
    "display(family_table)"
   ]
  },
  {
   "cell_type": "markdown",
   "id": "fd7a36b9",
   "metadata": {},
   "source": [
    "Приведем таблицу в более наглядное представление:"
   ]
  },
  {
   "cell_type": "code",
   "execution_count": 137,
   "id": "e8b9a624",
   "metadata": {},
   "outputs": [
    {
     "data": {
      "text/html": [
       "<div>\n",
       "<style scoped>\n",
       "    .dataframe tbody tr th:only-of-type {\n",
       "        vertical-align: middle;\n",
       "    }\n",
       "\n",
       "    .dataframe tbody tr th {\n",
       "        vertical-align: top;\n",
       "    }\n",
       "\n",
       "    .dataframe thead th {\n",
       "        text-align: right;\n",
       "    }\n",
       "</style>\n",
       "<table border=\"1\" class=\"dataframe\">\n",
       "  <thead>\n",
       "    <tr style=\"text-align: right;\">\n",
       "      <th></th>\n",
       "      <th>количество заемщиков</th>\n",
       "      <th>количество должников</th>\n",
       "      <th>доля должников в %</th>\n",
       "    </tr>\n",
       "    <tr>\n",
       "      <th>семейное положение</th>\n",
       "      <th></th>\n",
       "      <th></th>\n",
       "      <th></th>\n",
       "    </tr>\n",
       "  </thead>\n",
       "  <tbody>\n",
       "    <tr>\n",
       "      <th>Не женат / не замужем</th>\n",
       "      <td>2796</td>\n",
       "      <td>273</td>\n",
       "      <td>9.76%</td>\n",
       "    </tr>\n",
       "    <tr>\n",
       "      <th>гражданский брак</th>\n",
       "      <td>4134</td>\n",
       "      <td>385</td>\n",
       "      <td>9.31%</td>\n",
       "    </tr>\n",
       "    <tr>\n",
       "      <th>женат / замужем</th>\n",
       "      <td>12261</td>\n",
       "      <td>927</td>\n",
       "      <td>7.56%</td>\n",
       "    </tr>\n",
       "    <tr>\n",
       "      <th>в разводе</th>\n",
       "      <td>1189</td>\n",
       "      <td>84</td>\n",
       "      <td>7.06%</td>\n",
       "    </tr>\n",
       "    <tr>\n",
       "      <th>вдовец / вдова</th>\n",
       "      <td>951</td>\n",
       "      <td>63</td>\n",
       "      <td>6.62%</td>\n",
       "    </tr>\n",
       "  </tbody>\n",
       "</table>\n",
       "</div>"
      ],
      "text/plain": [
       "                       количество заемщиков  количество должников  \\\n",
       "семейное положение                                                  \n",
       "Не женат / не замужем                  2796                   273   \n",
       "гражданский брак                       4134                   385   \n",
       "женат / замужем                       12261                   927   \n",
       "в разводе                              1189                    84   \n",
       "вдовец / вдова                          951                    63   \n",
       "\n",
       "                      доля должников в %  \n",
       "семейное положение                        \n",
       "Не женат / не замужем              9.76%  \n",
       "гражданский брак                   9.31%  \n",
       "женат / замужем                    7.56%  \n",
       "в разводе                          7.06%  \n",
       "вдовец / вдова                     6.62%  "
      ]
     },
     "metadata": {},
     "output_type": "display_data"
    }
   ],
   "source": [
    "# Приведем средние значения в процентное соотношение:\n",
    "family_table['mean'] = family_table['mean'].apply(lambda x:f'{x:.2%}')\n",
    "\n",
    "# Заменим значения в таблице:\n",
    "family_table = family_table.rename(columns={'count': 'количество заемщиков',\n",
    "                                            'sum': 'количество должников', \n",
    "                                            'mean': 'доля должников в %'})\n",
    "\n",
    "# Отсортируем таблицу по доле должников в порядке убывания:\n",
    "family_table = family_table.sort_values('доля должников в %', ascending=False)\n",
    "display(family_table)"
   ]
  },
  {
   "cell_type": "markdown",
   "id": "293240cc",
   "metadata": {
    "deletable": false,
    "id": "1cef7837"
   },
   "source": [
    "**Вывод:** Не женатые и не замужние заемщики имеют наибольшую долю просрочек по кредиту. Высокие показатели также имеют заемщики состоящие в гражданском браке. "
   ]
  },
  {
   "cell_type": "markdown",
   "id": "bdebefab",
   "metadata": {
    "deletable": false,
    "editable": false,
    "id": "1e8b2fca"
   },
   "source": [
    "#### 3.3 Есть ли зависимость между уровнем дохода и возвратом кредита в срок?"
   ]
  },
  {
   "cell_type": "markdown",
   "id": "4a68b124",
   "metadata": {},
   "source": [
    "Теперь проверим зависимость от уровня дохода и возрата кридита в срок: "
   ]
  },
  {
   "cell_type": "code",
   "execution_count": 138,
   "id": "9e23375e",
   "metadata": {
    "deletable": false,
    "id": "cd7e3720"
   },
   "outputs": [
    {
     "data": {
      "text/html": [
       "<div>\n",
       "<style scoped>\n",
       "    .dataframe tbody tr th:only-of-type {\n",
       "        vertical-align: middle;\n",
       "    }\n",
       "\n",
       "    .dataframe tbody tr th {\n",
       "        vertical-align: top;\n",
       "    }\n",
       "\n",
       "    .dataframe thead th {\n",
       "        text-align: right;\n",
       "    }\n",
       "</style>\n",
       "<table border=\"1\" class=\"dataframe\">\n",
       "  <thead>\n",
       "    <tr style=\"text-align: right;\">\n",
       "      <th></th>\n",
       "      <th>количество заемщиков</th>\n",
       "      <th>количество должников</th>\n",
       "      <th>доля должников в %</th>\n",
       "    </tr>\n",
       "    <tr>\n",
       "      <th>уровень дохода</th>\n",
       "      <th></th>\n",
       "      <th></th>\n",
       "      <th></th>\n",
       "    </tr>\n",
       "  </thead>\n",
       "  <tbody>\n",
       "    <tr>\n",
       "      <th>E</th>\n",
       "      <td>22</td>\n",
       "      <td>2</td>\n",
       "      <td>9.09%</td>\n",
       "    </tr>\n",
       "    <tr>\n",
       "      <th>C</th>\n",
       "      <td>15921</td>\n",
       "      <td>1353</td>\n",
       "      <td>8.50%</td>\n",
       "    </tr>\n",
       "    <tr>\n",
       "      <th>A</th>\n",
       "      <td>25</td>\n",
       "      <td>2</td>\n",
       "      <td>8.00%</td>\n",
       "    </tr>\n",
       "    <tr>\n",
       "      <th>B</th>\n",
       "      <td>5014</td>\n",
       "      <td>354</td>\n",
       "      <td>7.06%</td>\n",
       "    </tr>\n",
       "    <tr>\n",
       "      <th>D</th>\n",
       "      <td>349</td>\n",
       "      <td>21</td>\n",
       "      <td>6.02%</td>\n",
       "    </tr>\n",
       "  </tbody>\n",
       "</table>\n",
       "</div>"
      ],
      "text/plain": [
       "                количество заемщиков  количество должников доля должников в %\n",
       "уровень дохода                                                               \n",
       "E                                 22                     2              9.09%\n",
       "C                              15921                  1353              8.50%\n",
       "A                                 25                     2              8.00%\n",
       "B                               5014                   354              7.06%\n",
       "D                                349                    21              6.02%"
      ]
     },
     "metadata": {},
     "output_type": "display_data"
    }
   ],
   "source": [
    "# Определяем уровень дохода для каждого заемщика, а также список должников и находим среднее значение:\n",
    "purpose_table = category.groupby('уровень дохода')['заемщики'].agg(['count','sum', 'mean'])\n",
    "\n",
    "# Приведем средние значения в процентное соотношение:\n",
    "purpose_table['mean'] = purpose_table['mean'].apply(lambda x:f'{x:.2%}')\n",
    "\n",
    "# Заменим значения в таблице:\n",
    "purpose_table = purpose_table.rename(columns={'count': 'количество заемщиков',\n",
    "                                            'sum': 'количество должников', \n",
    "                                            'mean': 'доля должников в %'})\n",
    "\n",
    "# Отсортируем таблицу по доле должников в порядке убывания:\n",
    "purpose_table = purpose_table.sort_values('доля должников в %', ascending=False)\n",
    "display(purpose_table)"
   ]
  },
  {
   "cell_type": "markdown",
   "id": "e92b71ca",
   "metadata": {
    "deletable": false,
    "id": "e8593def"
   },
   "source": [
    "**Вывод:** Наибольшая задолжность наблюдается у заемщиков, имеющих уровень дохода до 30 тысяч рублей, также большие значения имеют заемщики с доходом от 50 до 200 тысяч. Наименьшие показатели имеют заемщики с доходом от 200 тысяч до 1 млн рублей и от 30 до 50 тысяч рублей."
   ]
  },
  {
   "cell_type": "markdown",
   "id": "24c2d7c0",
   "metadata": {
    "deletable": false,
    "editable": false,
    "id": "99ecbd1f"
   },
   "source": [
    "#### 3.4 Как разные цели кредита влияют на его возврат в срок?"
   ]
  },
  {
   "cell_type": "markdown",
   "id": "c667b5ab",
   "metadata": {},
   "source": [
    "Теперь проверим, по каким целям кридита выявляется большая задолжность:"
   ]
  },
  {
   "cell_type": "code",
   "execution_count": 139,
   "id": "dc2c9c48",
   "metadata": {
    "deletable": false,
    "id": "2b687290"
   },
   "outputs": [
    {
     "data": {
      "text/html": [
       "<div>\n",
       "<style scoped>\n",
       "    .dataframe tbody tr th:only-of-type {\n",
       "        vertical-align: middle;\n",
       "    }\n",
       "\n",
       "    .dataframe tbody tr th {\n",
       "        vertical-align: top;\n",
       "    }\n",
       "\n",
       "    .dataframe thead th {\n",
       "        text-align: right;\n",
       "    }\n",
       "</style>\n",
       "<table border=\"1\" class=\"dataframe\">\n",
       "  <thead>\n",
       "    <tr style=\"text-align: right;\">\n",
       "      <th></th>\n",
       "      <th>количество заемщиков</th>\n",
       "      <th>количество должников</th>\n",
       "      <th>доля должников в %</th>\n",
       "    </tr>\n",
       "    <tr>\n",
       "      <th>цели кридита</th>\n",
       "      <th></th>\n",
       "      <th></th>\n",
       "      <th></th>\n",
       "    </tr>\n",
       "  </thead>\n",
       "  <tbody>\n",
       "    <tr>\n",
       "      <th>операции с автомобилем</th>\n",
       "      <td>4279</td>\n",
       "      <td>400</td>\n",
       "      <td>9.35%</td>\n",
       "    </tr>\n",
       "    <tr>\n",
       "      <th>получение образования</th>\n",
       "      <td>3988</td>\n",
       "      <td>369</td>\n",
       "      <td>9.25%</td>\n",
       "    </tr>\n",
       "    <tr>\n",
       "      <th>проведение свадьбы</th>\n",
       "      <td>2313</td>\n",
       "      <td>183</td>\n",
       "      <td>7.91%</td>\n",
       "    </tr>\n",
       "    <tr>\n",
       "      <th>операции с недвижимостью</th>\n",
       "      <td>10751</td>\n",
       "      <td>780</td>\n",
       "      <td>7.26%</td>\n",
       "    </tr>\n",
       "  </tbody>\n",
       "</table>\n",
       "</div>"
      ],
      "text/plain": [
       "                          количество заемщиков  количество должников  \\\n",
       "цели кридита                                                           \n",
       "операции с автомобилем                    4279                   400   \n",
       "получение образования                     3988                   369   \n",
       "проведение свадьбы                        2313                   183   \n",
       "операции с недвижимостью                 10751                   780   \n",
       "\n",
       "                         доля должников в %  \n",
       "цели кридита                                 \n",
       "операции с автомобилем                9.35%  \n",
       "получение образования                 9.25%  \n",
       "проведение свадьбы                    7.91%  \n",
       "операции с недвижимостью              7.26%  "
      ]
     },
     "metadata": {},
     "output_type": "display_data"
    }
   ],
   "source": [
    "# Определяем цели кридита каждого заемщика, а также список должников и находим среднее значение:\n",
    "income_table = category.groupby('цели кридита')['заемщики'].agg(['count','sum', 'mean'])\n",
    "\n",
    "# Приведем средние значения в процентное соотношение:\n",
    "income_table['mean'] = income_table['mean'].apply(lambda x:f'{x:.2%}')\n",
    "\n",
    "# Заменим значения в таблице:\n",
    "income_table = income_table.rename(columns={'count': 'количество заемщиков',\n",
    "                                            'sum': 'количество должников', \n",
    "                                            'mean': 'доля должников в %'})\n",
    "\n",
    "# Отсортируем таблицу по доле должников в порядке убывания:\n",
    "income_table = income_table.sort_values('доля должников в %', ascending=False)\n",
    "display(income_table)"
   ]
  },
  {
   "cell_type": "markdown",
   "id": "86f09ed4",
   "metadata": {
    "deletable": false,
    "id": "b4bb2ce6"
   },
   "source": [
    "**Вывод:** Наибольшие задолжности наблюдатся по кридитам, связанным с образованием и операцимями с автомобилями. А самые низкие задолжности по кридиту наблюдаются по операциям с недвижимостью и провидением свадеб. "
   ]
  },
  {
   "cell_type": "markdown",
   "id": "e7b14c66",
   "metadata": {
    "deletable": false,
    "editable": false,
    "id": "09c3ac4c"
   },
   "source": [
    "#### 3.5 Приведите возможные причины появления пропусков в исходных данных."
   ]
  },
  {
   "cell_type": "markdown",
   "id": "69a3362a",
   "metadata": {
    "deletable": false,
    "id": "9da2ceda"
   },
   "source": [
    "*Ответ:* Самый основной - это человеческий фактор. Второй причиной могут быть отсутсвие данных, из-за чего могут возникать пропуски. Третьей причной может быть переформатирование данных, при котором теряются либо перезаписываются значения."
   ]
  },
  {
   "cell_type": "markdown",
   "id": "7083da76",
   "metadata": {
    "deletable": false,
    "editable": false,
    "id": "7b0487d6"
   },
   "source": [
    "#### 3.6 Объясните, почему заполнить пропуски медианным значением — лучшее решение для количественных переменных."
   ]
  },
  {
   "cell_type": "markdown",
   "id": "c134a78b",
   "metadata": {
    "deletable": false,
    "id": "7ecf2b8e"
   },
   "source": [
    "*Ответ:* Медиана показывает более объективную информацию, то есть не искажается  при больших и малых значений, тем самым обеспечивает лучшее представление о значениях"
   ]
  },
  {
   "cell_type": "markdown",
   "id": "2abbfb12",
   "metadata": {
    "deletable": false,
    "editable": false,
    "id": "6db5255a"
   },
   "source": [
    "### Шаг 4: общий вывод."
   ]
  },
  {
   "cell_type": "markdown",
   "id": "05d230f9",
   "metadata": {
    "deletable": false,
    "id": "bad65432"
   },
   "source": [
    "Исходя из анализа всех таблиц можно сделать вывод, что больший приоритет при расмотрении заявки на кридит, будут иметь заемщики:\n",
    "* Не имеющих детей и не состаящие в браке\n",
    "* Имеющих доход от 30 до 50 тысяч рублей\n",
    "* Желающие взять кридит на проведение свадьбы или операции, связанные с нидвижимостью"
   ]
  },
  {
   "cell_type": "markdown",
   "id": "198d5410",
   "metadata": {},
   "source": [
    "* Определяем количество детей для каждого заемщика, а также список должников и находим среднее значение в %:\n",
    "* Отсортировывем таблицу по доле должников в порядке убывания:\n",
    "* Получаем таблицу и проделываем тоже самое с уровнем дохода, с семейным положением и с цельями кридита:"
   ]
  },
  {
   "cell_type": "markdown",
   "id": "8a89d77a",
   "metadata": {},
   "source": [
    "| Количество детей                    | Количество заемщиков |количество должников | доля должников в % |\n",
    "|--------------------------|-----------------|--------------------|-------------|\n",
    "| 4               | 41                |     4         | 9.76       |\n",
    "| 2               | 2052           | 194             |9.45       |\n",
    "| 1               | 4808           | 444             | 9.23         |\n",
    "| 3               | 330           | 27            | 8.18         |\n",
    "| 0               | 14091           | 1063              | 7.54         |\n",
    "| 5               | 9          | 0             | 0         |\n"
   ]
  },
  {
   "cell_type": "markdown",
   "id": "a224dd64",
   "metadata": {},
   "source": [
    "\t"
   ]
  }
 ],
 "metadata": {
  "ExecuteTimeLog": [
   {
    "duration": 52,
    "start_time": "2022-09-30T08:05:23.425Z"
   },
   {
    "duration": 435,
    "start_time": "2022-09-30T08:05:28.880Z"
   },
   {
    "duration": 20,
    "start_time": "2022-09-30T08:05:29.317Z"
   },
   {
    "duration": 15,
    "start_time": "2022-09-30T08:05:29.339Z"
   },
   {
    "duration": 8,
    "start_time": "2022-09-30T08:05:29.356Z"
   },
   {
    "duration": 32,
    "start_time": "2022-09-30T08:05:29.366Z"
   },
   {
    "duration": 4,
    "start_time": "2022-09-30T08:05:29.400Z"
   },
   {
    "duration": 12,
    "start_time": "2022-09-30T08:05:29.422Z"
   },
   {
    "duration": 4,
    "start_time": "2022-09-30T08:05:29.436Z"
   },
   {
    "duration": 11,
    "start_time": "2022-09-30T08:05:29.441Z"
   },
   {
    "duration": 4,
    "start_time": "2022-09-30T08:05:29.453Z"
   },
   {
    "duration": 29,
    "start_time": "2022-09-30T08:05:29.458Z"
   },
   {
    "duration": 8,
    "start_time": "2022-09-30T08:05:29.488Z"
   },
   {
    "duration": 27,
    "start_time": "2022-09-30T08:05:29.497Z"
   },
   {
    "duration": 29,
    "start_time": "2022-09-30T08:05:29.526Z"
   },
   {
    "duration": 22,
    "start_time": "2022-09-30T08:05:29.557Z"
   },
   {
    "duration": 14,
    "start_time": "2022-09-30T08:05:29.581Z"
   },
   {
    "duration": 4,
    "start_time": "2022-09-30T08:05:29.596Z"
   },
   {
    "duration": 11,
    "start_time": "2022-09-30T08:05:29.601Z"
   },
   {
    "duration": 9,
    "start_time": "2022-09-30T08:05:29.613Z"
   },
   {
    "duration": 4,
    "start_time": "2022-09-30T08:05:29.623Z"
   },
   {
    "duration": 19,
    "start_time": "2022-09-30T08:05:29.628Z"
   },
   {
    "duration": 19,
    "start_time": "2022-09-30T08:05:31.320Z"
   },
   {
    "duration": 2,
    "start_time": "2022-09-30T08:38:53.847Z"
   },
   {
    "duration": 5,
    "start_time": "2022-09-30T09:21:04.730Z"
   },
   {
    "duration": 5,
    "start_time": "2022-09-30T09:21:07.720Z"
   },
   {
    "duration": 7,
    "start_time": "2022-09-30T09:21:45.706Z"
   },
   {
    "duration": 3,
    "start_time": "2022-09-30T09:24:18.450Z"
   },
   {
    "duration": 2,
    "start_time": "2022-09-30T09:24:19.822Z"
   },
   {
    "duration": 5,
    "start_time": "2022-09-30T10:18:10.904Z"
   },
   {
    "duration": 6,
    "start_time": "2022-09-30T10:19:27.518Z"
   },
   {
    "duration": 38,
    "start_time": "2022-09-30T10:22:51.710Z"
   },
   {
    "duration": 5333,
    "start_time": "2022-09-30T10:24:41.212Z"
   },
   {
    "duration": 3116,
    "start_time": "2022-09-30T10:25:36.606Z"
   },
   {
    "duration": 5,
    "start_time": "2022-09-30T10:45:24.630Z"
   },
   {
    "duration": 4,
    "start_time": "2022-09-30T10:45:39.912Z"
   },
   {
    "duration": 7,
    "start_time": "2022-09-30T10:46:09.540Z"
   },
   {
    "duration": 5,
    "start_time": "2022-09-30T10:46:23.520Z"
   },
   {
    "duration": 5,
    "start_time": "2022-09-30T10:47:04.310Z"
   },
   {
    "duration": 3,
    "start_time": "2022-09-30T10:48:52.721Z"
   },
   {
    "duration": 12,
    "start_time": "2022-09-30T10:49:39.970Z"
   },
   {
    "duration": 7,
    "start_time": "2022-09-30T11:04:34.873Z"
   },
   {
    "duration": 5,
    "start_time": "2022-09-30T11:13:42.823Z"
   },
   {
    "duration": 5,
    "start_time": "2022-09-30T11:13:55.348Z"
   },
   {
    "duration": 1046,
    "start_time": "2022-09-30T12:46:10.175Z"
   },
   {
    "duration": 3,
    "start_time": "2022-09-30T12:47:21.124Z"
   },
   {
    "duration": 2,
    "start_time": "2022-09-30T12:47:35.736Z"
   },
   {
    "duration": 6,
    "start_time": "2022-09-30T13:22:13.638Z"
   },
   {
    "duration": 5,
    "start_time": "2022-09-30T13:22:30.016Z"
   },
   {
    "duration": 8,
    "start_time": "2022-09-30T13:22:41.876Z"
   },
   {
    "duration": 4,
    "start_time": "2022-09-30T13:31:00.317Z"
   },
   {
    "duration": 5,
    "start_time": "2022-09-30T13:31:11.749Z"
   },
   {
    "duration": 12,
    "start_time": "2022-09-30T13:36:55.111Z"
   },
   {
    "duration": 6,
    "start_time": "2022-09-30T13:37:12.549Z"
   },
   {
    "duration": 10,
    "start_time": "2022-09-30T13:37:22.256Z"
   },
   {
    "duration": 20,
    "start_time": "2022-09-30T14:03:14.903Z"
   },
   {
    "duration": 6,
    "start_time": "2022-09-30T14:05:35.346Z"
   },
   {
    "duration": 16,
    "start_time": "2022-09-30T14:05:51.964Z"
   },
   {
    "duration": 9,
    "start_time": "2022-09-30T14:09:49.007Z"
   },
   {
    "duration": 11,
    "start_time": "2022-09-30T14:38:43.094Z"
   },
   {
    "duration": 8,
    "start_time": "2022-09-30T14:39:12.530Z"
   },
   {
    "duration": 12,
    "start_time": "2022-09-30T14:46:09.538Z"
   },
   {
    "duration": 12,
    "start_time": "2022-09-30T14:46:43.862Z"
   },
   {
    "duration": 10,
    "start_time": "2022-09-30T14:47:20.642Z"
   },
   {
    "duration": 3,
    "start_time": "2022-09-30T15:11:56.893Z"
   },
   {
    "duration": 49,
    "start_time": "2022-09-30T19:26:26.226Z"
   },
   {
    "duration": 7,
    "start_time": "2022-09-30T19:28:34.726Z"
   },
   {
    "duration": 541,
    "start_time": "2022-09-30T19:28:39.277Z"
   },
   {
    "duration": 22,
    "start_time": "2022-09-30T19:28:39.820Z"
   },
   {
    "duration": 16,
    "start_time": "2022-09-30T19:28:39.843Z"
   },
   {
    "duration": 9,
    "start_time": "2022-09-30T19:28:39.860Z"
   },
   {
    "duration": 40,
    "start_time": "2022-09-30T19:28:39.871Z"
   },
   {
    "duration": 3,
    "start_time": "2022-09-30T19:28:39.913Z"
   },
   {
    "duration": 11,
    "start_time": "2022-09-30T19:28:39.918Z"
   },
   {
    "duration": 5,
    "start_time": "2022-09-30T19:28:39.930Z"
   },
   {
    "duration": 8,
    "start_time": "2022-09-30T19:28:39.936Z"
   },
   {
    "duration": 4,
    "start_time": "2022-09-30T19:28:39.945Z"
   },
   {
    "duration": 61,
    "start_time": "2022-09-30T19:28:39.951Z"
   },
   {
    "duration": 9,
    "start_time": "2022-09-30T19:28:40.014Z"
   },
   {
    "duration": 5,
    "start_time": "2022-09-30T19:28:40.024Z"
   },
   {
    "duration": 22,
    "start_time": "2022-09-30T19:28:40.031Z"
   },
   {
    "duration": 27,
    "start_time": "2022-09-30T19:28:40.055Z"
   },
   {
    "duration": 18,
    "start_time": "2022-09-30T19:28:40.095Z"
   },
   {
    "duration": 3,
    "start_time": "2022-09-30T19:28:40.115Z"
   },
   {
    "duration": 13,
    "start_time": "2022-09-30T19:28:40.119Z"
   },
   {
    "duration": 9,
    "start_time": "2022-09-30T19:28:40.133Z"
   },
   {
    "duration": 4,
    "start_time": "2022-09-30T19:28:40.143Z"
   },
   {
    "duration": 11,
    "start_time": "2022-09-30T19:28:40.148Z"
   },
   {
    "duration": 13,
    "start_time": "2022-09-30T19:28:42.032Z"
   },
   {
    "duration": 14,
    "start_time": "2022-09-30T19:30:40.940Z"
   },
   {
    "duration": 8,
    "start_time": "2022-09-30T19:30:59.647Z"
   },
   {
    "duration": 6,
    "start_time": "2022-09-30T19:33:34.753Z"
   },
   {
    "duration": 9,
    "start_time": "2022-09-30T19:34:06.939Z"
   },
   {
    "duration": 12,
    "start_time": "2022-09-30T19:34:38.117Z"
   },
   {
    "duration": 9,
    "start_time": "2022-09-30T19:34:47.931Z"
   },
   {
    "duration": 9,
    "start_time": "2022-09-30T19:35:17.470Z"
   },
   {
    "duration": 8,
    "start_time": "2022-09-30T19:35:39.620Z"
   },
   {
    "duration": 51,
    "start_time": "2022-09-30T19:36:45.773Z"
   },
   {
    "duration": 10,
    "start_time": "2022-09-30T19:37:19.306Z"
   },
   {
    "duration": 10,
    "start_time": "2022-09-30T19:37:22.625Z"
   },
   {
    "duration": 9,
    "start_time": "2022-09-30T19:37:23.144Z"
   },
   {
    "duration": 9,
    "start_time": "2022-09-30T19:37:24.078Z"
   },
   {
    "duration": 10,
    "start_time": "2022-09-30T19:37:31.384Z"
   },
   {
    "duration": 15,
    "start_time": "2022-09-30T19:37:36.902Z"
   },
   {
    "duration": 73,
    "start_time": "2022-09-30T19:37:45.836Z"
   },
   {
    "duration": 14,
    "start_time": "2022-09-30T19:37:45.911Z"
   },
   {
    "duration": 17,
    "start_time": "2022-09-30T19:37:45.927Z"
   },
   {
    "duration": 9,
    "start_time": "2022-09-30T19:37:45.946Z"
   },
   {
    "duration": 52,
    "start_time": "2022-09-30T19:37:45.956Z"
   },
   {
    "duration": 3,
    "start_time": "2022-09-30T19:37:46.009Z"
   },
   {
    "duration": 10,
    "start_time": "2022-09-30T19:37:46.014Z"
   },
   {
    "duration": 4,
    "start_time": "2022-09-30T19:37:46.026Z"
   },
   {
    "duration": 7,
    "start_time": "2022-09-30T19:37:46.031Z"
   },
   {
    "duration": 5,
    "start_time": "2022-09-30T19:37:46.040Z"
   },
   {
    "duration": 61,
    "start_time": "2022-09-30T19:37:46.046Z"
   },
   {
    "duration": 9,
    "start_time": "2022-09-30T19:37:46.109Z"
   },
   {
    "duration": 8,
    "start_time": "2022-09-30T19:37:46.119Z"
   },
   {
    "duration": 18,
    "start_time": "2022-09-30T19:37:46.128Z"
   },
   {
    "duration": 19,
    "start_time": "2022-09-30T19:37:46.147Z"
   },
   {
    "duration": 36,
    "start_time": "2022-09-30T19:37:46.168Z"
   },
   {
    "duration": 4,
    "start_time": "2022-09-30T19:37:46.205Z"
   },
   {
    "duration": 14,
    "start_time": "2022-09-30T19:37:46.210Z"
   },
   {
    "duration": 6,
    "start_time": "2022-09-30T19:37:46.225Z"
   },
   {
    "duration": 8,
    "start_time": "2022-09-30T19:37:46.232Z"
   },
   {
    "duration": 13,
    "start_time": "2022-09-30T19:37:46.241Z"
   },
   {
    "duration": 9,
    "start_time": "2022-09-30T19:37:47.877Z"
   },
   {
    "duration": 9,
    "start_time": "2022-09-30T19:38:05.022Z"
   },
   {
    "duration": 11,
    "start_time": "2022-09-30T19:38:08.144Z"
   },
   {
    "duration": 9,
    "start_time": "2022-09-30T19:38:11.320Z"
   },
   {
    "duration": 7,
    "start_time": "2022-09-30T19:38:15.224Z"
   },
   {
    "duration": 10,
    "start_time": "2022-09-30T19:38:24.091Z"
   },
   {
    "duration": 10,
    "start_time": "2022-09-30T19:38:34.060Z"
   },
   {
    "duration": 11,
    "start_time": "2022-09-30T19:38:41.451Z"
   },
   {
    "duration": 10,
    "start_time": "2022-09-30T19:38:44.400Z"
   },
   {
    "duration": 10,
    "start_time": "2022-09-30T19:38:48.953Z"
   },
   {
    "duration": 9,
    "start_time": "2022-09-30T19:38:51.180Z"
   },
   {
    "duration": 8,
    "start_time": "2022-09-30T19:39:11.095Z"
   },
   {
    "duration": 7,
    "start_time": "2022-09-30T19:39:33.312Z"
   },
   {
    "duration": 8,
    "start_time": "2022-09-30T19:39:55.301Z"
   },
   {
    "duration": 9,
    "start_time": "2022-09-30T19:39:58.604Z"
   },
   {
    "duration": 3,
    "start_time": "2022-09-30T19:40:22.660Z"
   },
   {
    "duration": 8,
    "start_time": "2022-09-30T19:40:28.123Z"
   },
   {
    "duration": 3,
    "start_time": "2022-09-30T19:43:39.196Z"
   },
   {
    "duration": 8,
    "start_time": "2022-09-30T19:43:57.433Z"
   },
   {
    "duration": 8,
    "start_time": "2022-09-30T19:44:11.986Z"
   },
   {
    "duration": 9,
    "start_time": "2022-09-30T19:44:31.267Z"
   },
   {
    "duration": 12,
    "start_time": "2022-09-30T19:44:37.693Z"
   },
   {
    "duration": 4,
    "start_time": "2022-09-30T19:44:39.799Z"
   },
   {
    "duration": 8,
    "start_time": "2022-09-30T19:55:26.158Z"
   },
   {
    "duration": 8,
    "start_time": "2022-09-30T19:55:29.966Z"
   },
   {
    "duration": 12,
    "start_time": "2022-09-30T19:55:33.998Z"
   },
   {
    "duration": 9,
    "start_time": "2022-09-30T19:55:37.043Z"
   },
   {
    "duration": 47,
    "start_time": "2022-10-01T07:04:52.706Z"
   },
   {
    "duration": 486,
    "start_time": "2022-10-01T07:05:34.554Z"
   },
   {
    "duration": 25,
    "start_time": "2022-10-01T07:05:35.043Z"
   },
   {
    "duration": 15,
    "start_time": "2022-10-01T07:05:35.070Z"
   },
   {
    "duration": 13,
    "start_time": "2022-10-01T07:05:35.086Z"
   },
   {
    "duration": 36,
    "start_time": "2022-10-01T07:05:35.101Z"
   },
   {
    "duration": 3,
    "start_time": "2022-10-01T07:05:35.139Z"
   },
   {
    "duration": 12,
    "start_time": "2022-10-01T07:05:35.144Z"
   },
   {
    "duration": 4,
    "start_time": "2022-10-01T07:05:35.158Z"
   },
   {
    "duration": 36,
    "start_time": "2022-10-01T07:05:35.164Z"
   },
   {
    "duration": 5,
    "start_time": "2022-10-01T07:05:35.202Z"
   },
   {
    "duration": 35,
    "start_time": "2022-10-01T07:05:35.208Z"
   },
   {
    "duration": 9,
    "start_time": "2022-10-01T07:05:35.245Z"
   },
   {
    "duration": 4,
    "start_time": "2022-10-01T07:05:35.256Z"
   },
   {
    "duration": 37,
    "start_time": "2022-10-01T07:05:35.263Z"
   },
   {
    "duration": 21,
    "start_time": "2022-10-01T07:05:35.302Z"
   },
   {
    "duration": 18,
    "start_time": "2022-10-01T07:05:35.325Z"
   },
   {
    "duration": 4,
    "start_time": "2022-10-01T07:05:35.345Z"
   },
   {
    "duration": 12,
    "start_time": "2022-10-01T07:05:35.350Z"
   },
   {
    "duration": 6,
    "start_time": "2022-10-01T07:05:35.395Z"
   },
   {
    "duration": 4,
    "start_time": "2022-10-01T07:05:35.402Z"
   },
   {
    "duration": 13,
    "start_time": "2022-10-01T07:05:35.407Z"
   },
   {
    "duration": 14,
    "start_time": "2022-10-01T07:05:38.497Z"
   },
   {
    "duration": 11,
    "start_time": "2022-10-01T07:05:55.301Z"
   },
   {
    "duration": 12,
    "start_time": "2022-10-01T07:06:44.396Z"
   },
   {
    "duration": 13,
    "start_time": "2022-10-01T07:07:43.594Z"
   },
   {
    "duration": 9,
    "start_time": "2022-10-01T07:07:51.834Z"
   },
   {
    "duration": 10,
    "start_time": "2022-10-01T07:08:19.722Z"
   },
   {
    "duration": 10,
    "start_time": "2022-10-01T07:08:41.771Z"
   },
   {
    "duration": 9,
    "start_time": "2022-10-01T07:09:11.514Z"
   },
   {
    "duration": 35,
    "start_time": "2022-10-01T07:09:16.234Z"
   },
   {
    "duration": 12,
    "start_time": "2022-10-01T07:09:18.994Z"
   },
   {
    "duration": 4,
    "start_time": "2022-10-01T07:09:21.035Z"
   },
   {
    "duration": 8,
    "start_time": "2022-10-01T07:09:22.483Z"
   },
   {
    "duration": 12,
    "start_time": "2022-10-01T07:10:22.874Z"
   },
   {
    "duration": 15,
    "start_time": "2022-10-01T07:16:26.721Z"
   },
   {
    "duration": 16,
    "start_time": "2022-10-01T07:16:51.922Z"
   },
   {
    "duration": 12,
    "start_time": "2022-10-01T07:17:39.984Z"
   },
   {
    "duration": 16,
    "start_time": "2022-10-01T07:17:57.266Z"
   },
   {
    "duration": 11,
    "start_time": "2022-10-01T07:17:59.825Z"
   },
   {
    "duration": 13,
    "start_time": "2022-10-01T07:18:46.560Z"
   },
   {
    "duration": 12,
    "start_time": "2022-10-01T07:21:50.954Z"
   },
   {
    "duration": 16,
    "start_time": "2022-10-01T07:22:22.873Z"
   },
   {
    "duration": 64,
    "start_time": "2022-10-01T07:27:39.600Z"
   },
   {
    "duration": 65,
    "start_time": "2022-10-01T07:27:52.721Z"
   },
   {
    "duration": 16,
    "start_time": "2022-10-01T07:27:52.788Z"
   },
   {
    "duration": 20,
    "start_time": "2022-10-01T07:27:52.806Z"
   },
   {
    "duration": 13,
    "start_time": "2022-10-01T07:27:52.828Z"
   },
   {
    "duration": 58,
    "start_time": "2022-10-01T07:27:52.844Z"
   },
   {
    "duration": 8,
    "start_time": "2022-10-01T07:27:52.904Z"
   },
   {
    "duration": 19,
    "start_time": "2022-10-01T07:27:52.914Z"
   },
   {
    "duration": 9,
    "start_time": "2022-10-01T07:27:52.935Z"
   },
   {
    "duration": 6,
    "start_time": "2022-10-01T07:27:52.946Z"
   },
   {
    "duration": 5,
    "start_time": "2022-10-01T07:27:52.953Z"
   },
   {
    "duration": 54,
    "start_time": "2022-10-01T07:27:52.959Z"
   },
   {
    "duration": 8,
    "start_time": "2022-10-01T07:27:53.015Z"
   },
   {
    "duration": 4,
    "start_time": "2022-10-01T07:27:53.025Z"
   },
   {
    "duration": 11,
    "start_time": "2022-10-01T07:27:53.031Z"
   },
   {
    "duration": 22,
    "start_time": "2022-10-01T07:27:53.044Z"
   },
   {
    "duration": 37,
    "start_time": "2022-10-01T07:27:53.068Z"
   },
   {
    "duration": 4,
    "start_time": "2022-10-01T07:27:53.107Z"
   },
   {
    "duration": 12,
    "start_time": "2022-10-01T07:27:53.113Z"
   },
   {
    "duration": 9,
    "start_time": "2022-10-01T07:27:53.126Z"
   },
   {
    "duration": 3,
    "start_time": "2022-10-01T07:27:53.136Z"
   },
   {
    "duration": 16,
    "start_time": "2022-10-01T07:27:53.140Z"
   },
   {
    "duration": 70,
    "start_time": "2022-10-01T07:27:57.287Z"
   },
   {
    "duration": 79,
    "start_time": "2022-10-01T07:28:11.592Z"
   },
   {
    "duration": 74,
    "start_time": "2022-10-01T07:28:12.713Z"
   },
   {
    "duration": 78,
    "start_time": "2022-10-01T07:28:20.081Z"
   },
   {
    "duration": 9,
    "start_time": "2022-10-01T07:28:32.153Z"
   },
   {
    "duration": 4,
    "start_time": "2022-10-01T07:28:58.952Z"
   },
   {
    "duration": 9,
    "start_time": "2022-10-01T07:29:02.393Z"
   },
   {
    "duration": 8,
    "start_time": "2022-10-01T07:29:25.426Z"
   },
   {
    "duration": 9,
    "start_time": "2022-10-01T07:29:42.395Z"
   },
   {
    "duration": 9,
    "start_time": "2022-10-01T07:29:43.664Z"
   },
   {
    "duration": 9,
    "start_time": "2022-10-01T07:29:44.640Z"
   },
   {
    "duration": 9,
    "start_time": "2022-10-01T07:29:45.433Z"
   },
   {
    "duration": 68,
    "start_time": "2022-10-01T07:29:48.952Z"
   },
   {
    "duration": 15,
    "start_time": "2022-10-01T07:29:49.022Z"
   },
   {
    "duration": 14,
    "start_time": "2022-10-01T07:29:49.039Z"
   },
   {
    "duration": 8,
    "start_time": "2022-10-01T07:29:49.056Z"
   },
   {
    "duration": 57,
    "start_time": "2022-10-01T07:29:49.066Z"
   },
   {
    "duration": 4,
    "start_time": "2022-10-01T07:29:49.124Z"
   },
   {
    "duration": 11,
    "start_time": "2022-10-01T07:29:49.129Z"
   },
   {
    "duration": 4,
    "start_time": "2022-10-01T07:29:49.141Z"
   },
   {
    "duration": 6,
    "start_time": "2022-10-01T07:29:49.147Z"
   },
   {
    "duration": 4,
    "start_time": "2022-10-01T07:29:49.155Z"
   },
   {
    "duration": 60,
    "start_time": "2022-10-01T07:29:49.161Z"
   },
   {
    "duration": 10,
    "start_time": "2022-10-01T07:29:49.223Z"
   },
   {
    "duration": 4,
    "start_time": "2022-10-01T07:29:49.235Z"
   },
   {
    "duration": 12,
    "start_time": "2022-10-01T07:29:49.240Z"
   },
   {
    "duration": 19,
    "start_time": "2022-10-01T07:29:49.254Z"
   },
   {
    "duration": 17,
    "start_time": "2022-10-01T07:29:49.296Z"
   },
   {
    "duration": 3,
    "start_time": "2022-10-01T07:29:49.315Z"
   },
   {
    "duration": 15,
    "start_time": "2022-10-01T07:29:49.319Z"
   },
   {
    "duration": 6,
    "start_time": "2022-10-01T07:29:49.336Z"
   },
   {
    "duration": 3,
    "start_time": "2022-10-01T07:29:49.343Z"
   },
   {
    "duration": 12,
    "start_time": "2022-10-01T07:29:49.348Z"
   },
   {
    "duration": 8,
    "start_time": "2022-10-01T07:29:52.152Z"
   },
   {
    "duration": 11,
    "start_time": "2022-10-01T07:30:00.491Z"
   },
   {
    "duration": 9,
    "start_time": "2022-10-01T07:30:27.992Z"
   },
   {
    "duration": 9,
    "start_time": "2022-10-01T07:30:39.768Z"
   },
   {
    "duration": 9,
    "start_time": "2022-10-01T07:30:51.745Z"
   },
   {
    "duration": 9,
    "start_time": "2022-10-01T07:31:32.441Z"
   },
   {
    "duration": 10,
    "start_time": "2022-10-01T07:31:53.032Z"
   },
   {
    "duration": 22,
    "start_time": "2022-10-01T07:32:03.528Z"
   },
   {
    "duration": 10,
    "start_time": "2022-10-01T07:32:08.232Z"
   },
   {
    "duration": 9,
    "start_time": "2022-10-01T07:32:21.104Z"
   },
   {
    "duration": 9,
    "start_time": "2022-10-01T07:32:41.832Z"
   },
   {
    "duration": 9,
    "start_time": "2022-10-01T07:32:51.840Z"
   },
   {
    "duration": 9,
    "start_time": "2022-10-01T07:33:07.594Z"
   },
   {
    "duration": 9,
    "start_time": "2022-10-01T07:33:10.472Z"
   },
   {
    "duration": 8,
    "start_time": "2022-10-01T07:33:10.954Z"
   },
   {
    "duration": 8,
    "start_time": "2022-10-01T07:33:11.345Z"
   },
   {
    "duration": 7,
    "start_time": "2022-10-01T07:33:11.832Z"
   },
   {
    "duration": 8,
    "start_time": "2022-10-01T07:33:12.008Z"
   },
   {
    "duration": 8,
    "start_time": "2022-10-01T07:33:12.240Z"
   },
   {
    "duration": 9,
    "start_time": "2022-10-01T07:33:12.472Z"
   },
   {
    "duration": 8,
    "start_time": "2022-10-01T07:33:12.640Z"
   },
   {
    "duration": 9,
    "start_time": "2022-10-01T07:33:12.873Z"
   },
   {
    "duration": 8,
    "start_time": "2022-10-01T07:33:13.032Z"
   },
   {
    "duration": 8,
    "start_time": "2022-10-01T07:33:13.607Z"
   },
   {
    "duration": 69,
    "start_time": "2022-10-01T07:33:19.596Z"
   },
   {
    "duration": 16,
    "start_time": "2022-10-01T07:33:19.667Z"
   },
   {
    "duration": 19,
    "start_time": "2022-10-01T07:33:19.685Z"
   },
   {
    "duration": 11,
    "start_time": "2022-10-01T07:33:19.706Z"
   },
   {
    "duration": 37,
    "start_time": "2022-10-01T07:33:19.720Z"
   },
   {
    "duration": 4,
    "start_time": "2022-10-01T07:33:19.759Z"
   },
   {
    "duration": 10,
    "start_time": "2022-10-01T07:33:19.765Z"
   },
   {
    "duration": 5,
    "start_time": "2022-10-01T07:33:19.796Z"
   },
   {
    "duration": 7,
    "start_time": "2022-10-01T07:33:19.803Z"
   },
   {
    "duration": 5,
    "start_time": "2022-10-01T07:33:19.811Z"
   },
   {
    "duration": 34,
    "start_time": "2022-10-01T07:33:19.818Z"
   },
   {
    "duration": 47,
    "start_time": "2022-10-01T07:33:19.854Z"
   },
   {
    "duration": 4,
    "start_time": "2022-10-01T07:33:19.903Z"
   },
   {
    "duration": 12,
    "start_time": "2022-10-01T07:33:19.911Z"
   },
   {
    "duration": 22,
    "start_time": "2022-10-01T07:33:19.924Z"
   },
   {
    "duration": 47,
    "start_time": "2022-10-01T07:33:19.948Z"
   },
   {
    "duration": 4,
    "start_time": "2022-10-01T07:33:19.997Z"
   },
   {
    "duration": 14,
    "start_time": "2022-10-01T07:33:20.002Z"
   },
   {
    "duration": 6,
    "start_time": "2022-10-01T07:33:20.018Z"
   },
   {
    "duration": 4,
    "start_time": "2022-10-01T07:33:20.026Z"
   },
   {
    "duration": 13,
    "start_time": "2022-10-01T07:33:20.032Z"
   },
   {
    "duration": 8,
    "start_time": "2022-10-01T07:33:23.681Z"
   },
   {
    "duration": 8,
    "start_time": "2022-10-01T07:34:12.073Z"
   },
   {
    "duration": 10,
    "start_time": "2022-10-01T07:34:13.032Z"
   },
   {
    "duration": 9,
    "start_time": "2022-10-01T07:34:13.672Z"
   },
   {
    "duration": 8,
    "start_time": "2022-10-01T07:34:14.240Z"
   },
   {
    "duration": 8,
    "start_time": "2022-10-01T07:34:14.568Z"
   },
   {
    "duration": 8,
    "start_time": "2022-10-01T07:34:14.953Z"
   },
   {
    "duration": 9,
    "start_time": "2022-10-01T07:34:15.344Z"
   },
   {
    "duration": 9,
    "start_time": "2022-10-01T07:34:18.561Z"
   },
   {
    "duration": 8,
    "start_time": "2022-10-01T07:34:19.291Z"
   },
   {
    "duration": 9,
    "start_time": "2022-10-01T07:34:19.911Z"
   },
   {
    "duration": 0,
    "start_time": "2022-10-01T07:34:22.810Z"
   },
   {
    "duration": 8,
    "start_time": "2022-10-01T07:34:26.793Z"
   },
   {
    "duration": 9,
    "start_time": "2022-10-01T07:34:37.990Z"
   },
   {
    "duration": 9,
    "start_time": "2022-10-01T07:34:44.952Z"
   },
   {
    "duration": 9,
    "start_time": "2022-10-01T07:34:46.472Z"
   },
   {
    "duration": 8,
    "start_time": "2022-10-01T07:34:47.192Z"
   },
   {
    "duration": 9,
    "start_time": "2022-10-01T07:34:47.591Z"
   },
   {
    "duration": 10,
    "start_time": "2022-10-01T07:34:48.232Z"
   },
   {
    "duration": 72,
    "start_time": "2022-10-01T07:34:57.112Z"
   },
   {
    "duration": 13,
    "start_time": "2022-10-01T07:35:02.472Z"
   },
   {
    "duration": 18,
    "start_time": "2022-10-01T07:35:59.344Z"
   },
   {
    "duration": 11,
    "start_time": "2022-10-01T07:36:13.353Z"
   },
   {
    "duration": 12,
    "start_time": "2022-10-01T07:36:32.865Z"
   },
   {
    "duration": 12,
    "start_time": "2022-10-01T07:36:48.496Z"
   },
   {
    "duration": 9,
    "start_time": "2022-10-01T07:51:04.464Z"
   },
   {
    "duration": 8,
    "start_time": "2022-10-01T07:54:15.521Z"
   },
   {
    "duration": 8,
    "start_time": "2022-10-01T07:54:31.913Z"
   },
   {
    "duration": 9,
    "start_time": "2022-10-01T07:54:55.504Z"
   },
   {
    "duration": 9,
    "start_time": "2022-10-01T07:55:12.465Z"
   },
   {
    "duration": 12,
    "start_time": "2022-10-01T07:55:38.072Z"
   },
   {
    "duration": 8,
    "start_time": "2022-10-01T07:56:49.121Z"
   },
   {
    "duration": 12,
    "start_time": "2022-10-01T08:00:26.553Z"
   },
   {
    "duration": 9,
    "start_time": "2022-10-01T08:01:19.826Z"
   },
   {
    "duration": 14,
    "start_time": "2022-10-01T08:01:26.589Z"
   },
   {
    "duration": 12,
    "start_time": "2022-10-01T08:01:30.409Z"
   },
   {
    "duration": 9,
    "start_time": "2022-10-01T08:01:48.065Z"
   },
   {
    "duration": 12,
    "start_time": "2022-10-01T08:01:53.105Z"
   },
   {
    "duration": 10,
    "start_time": "2022-10-01T08:01:56.808Z"
   },
   {
    "duration": 13,
    "start_time": "2022-10-01T08:02:08.721Z"
   },
   {
    "duration": 8,
    "start_time": "2022-10-01T08:02:55.929Z"
   },
   {
    "duration": 4,
    "start_time": "2022-10-01T08:03:08.073Z"
   },
   {
    "duration": 13,
    "start_time": "2022-10-01T09:11:38.044Z"
   },
   {
    "duration": 5,
    "start_time": "2022-10-01T09:17:21.737Z"
   },
   {
    "duration": 343,
    "start_time": "2022-10-01T09:17:24.865Z"
   },
   {
    "duration": 311,
    "start_time": "2022-10-01T09:17:37.725Z"
   },
   {
    "duration": 11,
    "start_time": "2022-10-01T09:17:41.344Z"
   },
   {
    "duration": 90,
    "start_time": "2022-10-01T09:17:45.816Z"
   },
   {
    "duration": 26,
    "start_time": "2022-10-01T09:17:45.909Z"
   },
   {
    "duration": 23,
    "start_time": "2022-10-01T09:17:45.938Z"
   },
   {
    "duration": 32,
    "start_time": "2022-10-01T09:17:45.964Z"
   },
   {
    "duration": 41,
    "start_time": "2022-10-01T09:17:45.999Z"
   },
   {
    "duration": 4,
    "start_time": "2022-10-01T09:17:46.043Z"
   },
   {
    "duration": 18,
    "start_time": "2022-10-01T09:17:46.049Z"
   },
   {
    "duration": 6,
    "start_time": "2022-10-01T09:17:46.095Z"
   },
   {
    "duration": 14,
    "start_time": "2022-10-01T09:17:46.103Z"
   },
   {
    "duration": 10,
    "start_time": "2022-10-01T09:17:46.121Z"
   },
   {
    "duration": 42,
    "start_time": "2022-10-01T09:17:46.133Z"
   },
   {
    "duration": 31,
    "start_time": "2022-10-01T09:17:46.177Z"
   },
   {
    "duration": 20,
    "start_time": "2022-10-01T09:17:46.210Z"
   },
   {
    "duration": 16,
    "start_time": "2022-10-01T09:17:46.234Z"
   },
   {
    "duration": 23,
    "start_time": "2022-10-01T09:17:46.252Z"
   },
   {
    "duration": 35,
    "start_time": "2022-10-01T09:17:46.277Z"
   },
   {
    "duration": 5,
    "start_time": "2022-10-01T09:17:46.314Z"
   },
   {
    "duration": 14,
    "start_time": "2022-10-01T09:17:46.322Z"
   },
   {
    "duration": 16,
    "start_time": "2022-10-01T09:17:46.338Z"
   },
   {
    "duration": 4,
    "start_time": "2022-10-01T09:17:46.356Z"
   },
   {
    "duration": 13,
    "start_time": "2022-10-01T09:17:46.362Z"
   },
   {
    "duration": 21,
    "start_time": "2022-10-01T09:17:46.395Z"
   },
   {
    "duration": 14,
    "start_time": "2022-10-01T09:17:49.097Z"
   },
   {
    "duration": 5,
    "start_time": "2022-10-01T09:17:51.767Z"
   },
   {
    "duration": 348,
    "start_time": "2022-10-01T09:18:08.974Z"
   },
   {
    "duration": 414,
    "start_time": "2022-10-01T09:18:30.997Z"
   },
   {
    "duration": 9,
    "start_time": "2022-10-01T09:18:59.779Z"
   },
   {
    "duration": 8,
    "start_time": "2022-10-01T09:19:44.566Z"
   },
   {
    "duration": 361,
    "start_time": "2022-10-01T09:20:37.895Z"
   },
   {
    "duration": 348,
    "start_time": "2022-10-01T09:20:49.513Z"
   },
   {
    "duration": 4,
    "start_time": "2022-10-01T09:23:21.156Z"
   },
   {
    "duration": 10,
    "start_time": "2022-10-01T09:23:23.862Z"
   },
   {
    "duration": 12,
    "start_time": "2022-10-01T09:26:28.014Z"
   },
   {
    "duration": 6,
    "start_time": "2022-10-01T09:28:46.542Z"
   },
   {
    "duration": 4,
    "start_time": "2022-10-01T09:29:01.580Z"
   },
   {
    "duration": 13,
    "start_time": "2022-10-01T09:29:17.998Z"
   },
   {
    "duration": 13,
    "start_time": "2022-10-01T09:29:39.425Z"
   },
   {
    "duration": 14,
    "start_time": "2022-10-01T09:29:44.516Z"
   },
   {
    "duration": 20,
    "start_time": "2022-10-01T09:29:47.834Z"
   },
   {
    "duration": 18,
    "start_time": "2022-10-01T09:29:51.068Z"
   },
   {
    "duration": 5,
    "start_time": "2022-10-01T09:29:55.224Z"
   },
   {
    "duration": 10,
    "start_time": "2022-10-01T09:29:58.963Z"
   },
   {
    "duration": 22,
    "start_time": "2022-10-01T09:30:26.893Z"
   },
   {
    "duration": 14,
    "start_time": "2022-10-01T09:30:30.470Z"
   },
   {
    "duration": 16,
    "start_time": "2022-10-01T09:30:48.820Z"
   },
   {
    "duration": 15,
    "start_time": "2022-10-01T09:30:57.358Z"
   },
   {
    "duration": 14,
    "start_time": "2022-10-01T09:31:08.308Z"
   },
   {
    "duration": 12,
    "start_time": "2022-10-01T09:32:08.433Z"
   },
   {
    "duration": 12,
    "start_time": "2022-10-01T09:32:10.959Z"
   },
   {
    "duration": 11,
    "start_time": "2022-10-01T09:32:13.169Z"
   },
   {
    "duration": 19,
    "start_time": "2022-10-01T09:32:16.642Z"
   },
   {
    "duration": 17,
    "start_time": "2022-10-01T09:32:19.476Z"
   },
   {
    "duration": 5,
    "start_time": "2022-10-01T09:32:21.782Z"
   },
   {
    "duration": 21,
    "start_time": "2022-10-01T09:32:25.792Z"
   },
   {
    "duration": 18,
    "start_time": "2022-10-01T09:32:29.292Z"
   },
   {
    "duration": 22,
    "start_time": "2022-10-01T09:32:32.446Z"
   },
   {
    "duration": 13,
    "start_time": "2022-10-01T09:32:35.039Z"
   },
   {
    "duration": 5,
    "start_time": "2022-10-01T09:32:38.172Z"
   },
   {
    "duration": 13,
    "start_time": "2022-10-01T09:32:43.888Z"
   },
   {
    "duration": 22,
    "start_time": "2022-10-01T09:32:46.999Z"
   },
   {
    "duration": 1459,
    "start_time": "2022-10-01T09:33:16.137Z"
   },
   {
    "duration": 21,
    "start_time": "2022-10-01T09:33:21.017Z"
   },
   {
    "duration": 14,
    "start_time": "2022-10-01T09:33:23.492Z"
   },
   {
    "duration": 4,
    "start_time": "2022-10-01T09:33:25.887Z"
   },
   {
    "duration": 9,
    "start_time": "2022-10-01T09:33:27.821Z"
   },
   {
    "duration": 9,
    "start_time": "2022-10-01T09:33:29.737Z"
   },
   {
    "duration": 14,
    "start_time": "2022-10-01T09:42:03.236Z"
   },
   {
    "duration": 22,
    "start_time": "2022-10-01T09:43:53.580Z"
   },
   {
    "duration": 14,
    "start_time": "2022-10-01T09:45:36.838Z"
   },
   {
    "duration": 12,
    "start_time": "2022-10-01T09:46:08.466Z"
   },
   {
    "duration": 4,
    "start_time": "2022-10-01T09:46:11.073Z"
   },
   {
    "duration": 11,
    "start_time": "2022-10-01T09:46:13.218Z"
   },
   {
    "duration": 13,
    "start_time": "2022-10-01T09:46:15.912Z"
   },
   {
    "duration": 11,
    "start_time": "2022-10-01T09:50:42.323Z"
   },
   {
    "duration": 18,
    "start_time": "2022-10-01T09:51:44.117Z"
   },
   {
    "duration": 29,
    "start_time": "2022-10-01T09:51:47.116Z"
   },
   {
    "duration": 9,
    "start_time": "2022-10-01T09:51:50.521Z"
   },
   {
    "duration": 8,
    "start_time": "2022-10-01T09:51:53.035Z"
   },
   {
    "duration": 460,
    "start_time": "2022-10-01T09:52:36.928Z"
   },
   {
    "duration": 13,
    "start_time": "2022-10-01T09:52:40.523Z"
   },
   {
    "duration": 13,
    "start_time": "2022-10-01T09:52:43.042Z"
   },
   {
    "duration": 9,
    "start_time": "2022-10-01T09:52:45.245Z"
   },
   {
    "duration": 11,
    "start_time": "2022-10-01T09:52:48.199Z"
   },
   {
    "duration": 11,
    "start_time": "2022-10-01T09:52:51.879Z"
   },
   {
    "duration": 12,
    "start_time": "2022-10-01T09:53:37.513Z"
   },
   {
    "duration": 12,
    "start_time": "2022-10-01T09:53:41.527Z"
   },
   {
    "duration": 24,
    "start_time": "2022-10-01T09:53:44.282Z"
   },
   {
    "duration": 9,
    "start_time": "2022-10-01T09:53:45.652Z"
   },
   {
    "duration": 8,
    "start_time": "2022-10-01T09:53:46.948Z"
   },
   {
    "duration": 11,
    "start_time": "2022-10-01T09:53:48.551Z"
   },
   {
    "duration": 8,
    "start_time": "2022-10-01T09:54:09.558Z"
   },
   {
    "duration": 10,
    "start_time": "2022-10-01T10:31:19.054Z"
   },
   {
    "duration": 10,
    "start_time": "2022-10-01T10:31:22.226Z"
   },
   {
    "duration": 14,
    "start_time": "2022-10-01T10:31:25.218Z"
   },
   {
    "duration": 13,
    "start_time": "2022-10-01T10:31:27.753Z"
   },
   {
    "duration": 9,
    "start_time": "2022-10-01T10:31:29.979Z"
   },
   {
    "duration": 12,
    "start_time": "2022-10-01T10:31:32.562Z"
   },
   {
    "duration": 9,
    "start_time": "2022-10-01T10:31:47.519Z"
   },
   {
    "duration": 13,
    "start_time": "2022-10-01T10:51:43.968Z"
   },
   {
    "duration": 17,
    "start_time": "2022-10-01T10:51:49.963Z"
   },
   {
    "duration": 90,
    "start_time": "2022-10-01T10:52:06.345Z"
   },
   {
    "duration": 19,
    "start_time": "2022-10-01T10:52:06.437Z"
   },
   {
    "duration": 43,
    "start_time": "2022-10-01T10:52:06.458Z"
   },
   {
    "duration": 22,
    "start_time": "2022-10-01T10:52:06.503Z"
   },
   {
    "duration": 41,
    "start_time": "2022-10-01T10:52:06.528Z"
   },
   {
    "duration": 4,
    "start_time": "2022-10-01T10:52:06.571Z"
   },
   {
    "duration": 32,
    "start_time": "2022-10-01T10:52:06.576Z"
   },
   {
    "duration": 21,
    "start_time": "2022-10-01T10:52:06.609Z"
   },
   {
    "duration": 13,
    "start_time": "2022-10-01T10:52:06.634Z"
   },
   {
    "duration": 12,
    "start_time": "2022-10-01T10:52:06.651Z"
   },
   {
    "duration": 63,
    "start_time": "2022-10-01T10:52:06.665Z"
   },
   {
    "duration": 15,
    "start_time": "2022-10-01T10:52:06.731Z"
   },
   {
    "duration": 11,
    "start_time": "2022-10-01T10:52:06.749Z"
   },
   {
    "duration": 16,
    "start_time": "2022-10-01T10:52:06.763Z"
   },
   {
    "duration": 65,
    "start_time": "2022-10-01T10:52:06.781Z"
   },
   {
    "duration": 25,
    "start_time": "2022-10-01T10:52:06.848Z"
   },
   {
    "duration": 56,
    "start_time": "2022-10-01T10:52:06.875Z"
   },
   {
    "duration": 43,
    "start_time": "2022-10-01T10:52:06.933Z"
   },
   {
    "duration": 9,
    "start_time": "2022-10-01T10:52:06.979Z"
   },
   {
    "duration": 25,
    "start_time": "2022-10-01T10:52:06.991Z"
   },
   {
    "duration": 20,
    "start_time": "2022-10-01T10:52:07.021Z"
   },
   {
    "duration": 21,
    "start_time": "2022-10-01T10:52:07.044Z"
   },
   {
    "duration": 17,
    "start_time": "2022-10-01T10:52:07.067Z"
   },
   {
    "duration": 19,
    "start_time": "2022-10-01T10:52:07.086Z"
   },
   {
    "duration": 29,
    "start_time": "2022-10-01T10:52:07.107Z"
   },
   {
    "duration": 10,
    "start_time": "2022-10-01T10:52:09.560Z"
   },
   {
    "duration": 12,
    "start_time": "2022-10-01T10:52:10.928Z"
   },
   {
    "duration": 14,
    "start_time": "2022-10-01T10:52:36.877Z"
   },
   {
    "duration": 16,
    "start_time": "2022-10-01T10:52:42.734Z"
   },
   {
    "duration": 13,
    "start_time": "2022-10-01T10:52:45.945Z"
   },
   {
    "duration": 9,
    "start_time": "2022-10-01T10:52:47.683Z"
   },
   {
    "duration": 12,
    "start_time": "2022-10-01T10:52:49.264Z"
   },
   {
    "duration": 13,
    "start_time": "2022-10-01T10:52:51.121Z"
   },
   {
    "duration": 14,
    "start_time": "2022-10-01T10:53:35.201Z"
   },
   {
    "duration": 11,
    "start_time": "2022-10-01T10:54:05.231Z"
   },
   {
    "duration": 11,
    "start_time": "2022-10-01T10:54:15.069Z"
   },
   {
    "duration": 12,
    "start_time": "2022-10-01T10:55:10.324Z"
   },
   {
    "duration": 11,
    "start_time": "2022-10-01T10:55:28.028Z"
   },
   {
    "duration": 18,
    "start_time": "2022-10-01T10:55:31.013Z"
   },
   {
    "duration": 14,
    "start_time": "2022-10-01T10:55:33.673Z"
   },
   {
    "duration": 7,
    "start_time": "2022-10-01T10:56:48.349Z"
   },
   {
    "duration": 14,
    "start_time": "2022-10-01T10:56:51.737Z"
   },
   {
    "duration": 19,
    "start_time": "2022-10-01T10:56:53.887Z"
   },
   {
    "duration": 11,
    "start_time": "2022-10-01T10:56:56.366Z"
   },
   {
    "duration": 16,
    "start_time": "2022-10-01T10:57:11.887Z"
   },
   {
    "duration": 24,
    "start_time": "2022-10-01T10:57:21.341Z"
   },
   {
    "duration": 10,
    "start_time": "2022-10-01T10:57:38.542Z"
   },
   {
    "duration": 17,
    "start_time": "2022-10-01T10:57:49.594Z"
   },
   {
    "duration": 20,
    "start_time": "2022-10-01T11:00:07.994Z"
   },
   {
    "duration": 14,
    "start_time": "2022-10-01T11:00:18.638Z"
   },
   {
    "duration": 19,
    "start_time": "2022-10-01T11:00:21.320Z"
   },
   {
    "duration": 14,
    "start_time": "2022-10-01T11:00:23.414Z"
   },
   {
    "duration": 12,
    "start_time": "2022-10-01T11:00:25.441Z"
   },
   {
    "duration": 13,
    "start_time": "2022-10-01T11:00:27.318Z"
   },
   {
    "duration": 14,
    "start_time": "2022-10-01T11:00:29.112Z"
   },
   {
    "duration": 9,
    "start_time": "2022-10-01T12:02:41.467Z"
   },
   {
    "duration": 9,
    "start_time": "2022-10-01T12:02:53.767Z"
   },
   {
    "duration": 9,
    "start_time": "2022-10-01T12:03:11.464Z"
   },
   {
    "duration": 15,
    "start_time": "2022-10-01T12:03:25.287Z"
   },
   {
    "duration": 77,
    "start_time": "2022-10-01T12:03:37.598Z"
   },
   {
    "duration": 19,
    "start_time": "2022-10-01T12:03:37.677Z"
   },
   {
    "duration": 17,
    "start_time": "2022-10-01T12:03:37.698Z"
   },
   {
    "duration": 9,
    "start_time": "2022-10-01T12:03:37.717Z"
   },
   {
    "duration": 34,
    "start_time": "2022-10-01T12:03:37.728Z"
   },
   {
    "duration": 6,
    "start_time": "2022-10-01T12:03:37.797Z"
   },
   {
    "duration": 10,
    "start_time": "2022-10-01T12:03:37.804Z"
   },
   {
    "duration": 4,
    "start_time": "2022-10-01T12:03:37.816Z"
   },
   {
    "duration": 6,
    "start_time": "2022-10-01T12:03:37.822Z"
   },
   {
    "duration": 5,
    "start_time": "2022-10-01T12:03:37.830Z"
   },
   {
    "duration": 78,
    "start_time": "2022-10-01T12:03:37.837Z"
   },
   {
    "duration": 9,
    "start_time": "2022-10-01T12:03:37.917Z"
   },
   {
    "duration": 3,
    "start_time": "2022-10-01T12:03:37.928Z"
   },
   {
    "duration": 11,
    "start_time": "2022-10-01T12:03:37.933Z"
   },
   {
    "duration": 50,
    "start_time": "2022-10-01T12:03:37.946Z"
   },
   {
    "duration": 23,
    "start_time": "2022-10-01T12:03:37.998Z"
   },
   {
    "duration": 4,
    "start_time": "2022-10-01T12:03:38.023Z"
   },
   {
    "duration": 32,
    "start_time": "2022-10-01T12:03:38.029Z"
   },
   {
    "duration": 5,
    "start_time": "2022-10-01T12:03:38.063Z"
   },
   {
    "duration": 5,
    "start_time": "2022-10-01T12:03:38.070Z"
   },
   {
    "duration": 22,
    "start_time": "2022-10-01T12:03:38.077Z"
   },
   {
    "duration": 21,
    "start_time": "2022-10-01T12:03:38.101Z"
   },
   {
    "duration": 25,
    "start_time": "2022-10-01T12:03:38.124Z"
   },
   {
    "duration": 9,
    "start_time": "2022-10-01T12:03:38.151Z"
   },
   {
    "duration": 11,
    "start_time": "2022-10-01T12:03:38.163Z"
   },
   {
    "duration": 27,
    "start_time": "2022-10-01T12:03:38.177Z"
   },
   {
    "duration": 17,
    "start_time": "2022-10-01T12:03:42.854Z"
   },
   {
    "duration": 9,
    "start_time": "2022-10-01T12:03:45.551Z"
   },
   {
    "duration": 1186,
    "start_time": "2022-10-01T12:05:26.660Z"
   },
   {
    "duration": 77,
    "start_time": "2022-10-01T12:05:35.033Z"
   },
   {
    "duration": 15,
    "start_time": "2022-10-01T12:05:35.112Z"
   },
   {
    "duration": 17,
    "start_time": "2022-10-01T12:05:35.129Z"
   },
   {
    "duration": 9,
    "start_time": "2022-10-01T12:05:35.148Z"
   },
   {
    "duration": 58,
    "start_time": "2022-10-01T12:05:35.158Z"
   },
   {
    "duration": 4,
    "start_time": "2022-10-01T12:05:35.218Z"
   },
   {
    "duration": 11,
    "start_time": "2022-10-01T12:05:35.223Z"
   },
   {
    "duration": 7,
    "start_time": "2022-10-01T12:05:35.235Z"
   },
   {
    "duration": 9,
    "start_time": "2022-10-01T12:05:35.244Z"
   },
   {
    "duration": 7,
    "start_time": "2022-10-01T12:05:35.255Z"
   },
   {
    "duration": 48,
    "start_time": "2022-10-01T12:05:35.264Z"
   },
   {
    "duration": 10,
    "start_time": "2022-10-01T12:05:35.313Z"
   },
   {
    "duration": 5,
    "start_time": "2022-10-01T12:05:35.325Z"
   },
   {
    "duration": 12,
    "start_time": "2022-10-01T12:05:35.331Z"
   },
   {
    "duration": 20,
    "start_time": "2022-10-01T12:05:35.345Z"
   },
   {
    "duration": 41,
    "start_time": "2022-10-01T12:05:35.367Z"
   },
   {
    "duration": 4,
    "start_time": "2022-10-01T12:05:35.409Z"
   },
   {
    "duration": 15,
    "start_time": "2022-10-01T12:05:35.416Z"
   },
   {
    "duration": 6,
    "start_time": "2022-10-01T12:05:35.434Z"
   },
   {
    "duration": 3,
    "start_time": "2022-10-01T12:05:35.442Z"
   },
   {
    "duration": 9,
    "start_time": "2022-10-01T12:05:35.447Z"
   },
   {
    "duration": 45,
    "start_time": "2022-10-01T12:05:35.458Z"
   },
   {
    "duration": 11,
    "start_time": "2022-10-01T12:05:35.504Z"
   },
   {
    "duration": 7,
    "start_time": "2022-10-01T12:05:35.517Z"
   },
   {
    "duration": 9,
    "start_time": "2022-10-01T12:05:35.526Z"
   },
   {
    "duration": 11,
    "start_time": "2022-10-01T12:05:35.537Z"
   },
   {
    "duration": 49,
    "start_time": "2022-10-01T12:05:35.550Z"
   },
   {
    "duration": 17,
    "start_time": "2022-10-01T12:05:38.046Z"
   },
   {
    "duration": 1264,
    "start_time": "2022-10-01T12:05:52.030Z"
   },
   {
    "duration": 121,
    "start_time": "2022-10-01T12:06:02.399Z"
   },
   {
    "duration": 16,
    "start_time": "2022-10-01T12:06:02.522Z"
   },
   {
    "duration": 16,
    "start_time": "2022-10-01T12:06:02.540Z"
   },
   {
    "duration": 37,
    "start_time": "2022-10-01T12:06:02.559Z"
   },
   {
    "duration": 35,
    "start_time": "2022-10-01T12:06:02.598Z"
   },
   {
    "duration": 4,
    "start_time": "2022-10-01T12:06:02.634Z"
   },
   {
    "duration": 13,
    "start_time": "2022-10-01T12:06:02.640Z"
   },
   {
    "duration": 4,
    "start_time": "2022-10-01T12:06:02.655Z"
   },
   {
    "duration": 11,
    "start_time": "2022-10-01T12:06:02.660Z"
   },
   {
    "duration": 27,
    "start_time": "2022-10-01T12:06:02.673Z"
   },
   {
    "duration": 36,
    "start_time": "2022-10-01T12:06:02.702Z"
   },
   {
    "duration": 11,
    "start_time": "2022-10-01T12:06:02.740Z"
   },
   {
    "duration": 8,
    "start_time": "2022-10-01T12:06:02.753Z"
   },
   {
    "duration": 35,
    "start_time": "2022-10-01T12:06:02.762Z"
   },
   {
    "duration": 25,
    "start_time": "2022-10-01T12:06:02.800Z"
   },
   {
    "duration": 29,
    "start_time": "2022-10-01T12:06:02.828Z"
   },
   {
    "duration": 13,
    "start_time": "2022-10-01T12:06:02.860Z"
   },
   {
    "duration": 30,
    "start_time": "2022-10-01T12:06:02.876Z"
   },
   {
    "duration": 17,
    "start_time": "2022-10-01T12:06:02.908Z"
   },
   {
    "duration": 13,
    "start_time": "2022-10-01T12:06:02.927Z"
   },
   {
    "duration": 14,
    "start_time": "2022-10-01T12:06:02.942Z"
   },
   {
    "duration": 12,
    "start_time": "2022-10-01T12:06:02.959Z"
   },
   {
    "duration": 29,
    "start_time": "2022-10-01T12:06:02.973Z"
   },
   {
    "duration": 9,
    "start_time": "2022-10-01T12:06:03.003Z"
   },
   {
    "duration": 10,
    "start_time": "2022-10-01T12:06:03.013Z"
   },
   {
    "duration": 15,
    "start_time": "2022-10-01T12:06:03.026Z"
   },
   {
    "duration": 13,
    "start_time": "2022-10-01T12:06:03.043Z"
   },
   {
    "duration": 19,
    "start_time": "2022-10-01T12:06:07.236Z"
   },
   {
    "duration": 87,
    "start_time": "2022-10-01T12:08:11.684Z"
   },
   {
    "duration": 21,
    "start_time": "2022-10-01T12:14:45.748Z"
   },
   {
    "duration": 101,
    "start_time": "2022-10-01T12:14:52.406Z"
   },
   {
    "duration": 15,
    "start_time": "2022-10-01T12:14:52.509Z"
   },
   {
    "duration": 16,
    "start_time": "2022-10-01T12:14:52.526Z"
   },
   {
    "duration": 9,
    "start_time": "2022-10-01T12:14:52.544Z"
   },
   {
    "duration": 64,
    "start_time": "2022-10-01T12:14:52.555Z"
   },
   {
    "duration": 3,
    "start_time": "2022-10-01T12:14:52.621Z"
   },
   {
    "duration": 12,
    "start_time": "2022-10-01T12:14:52.626Z"
   },
   {
    "duration": 5,
    "start_time": "2022-10-01T12:14:52.640Z"
   },
   {
    "duration": 7,
    "start_time": "2022-10-01T12:14:52.647Z"
   },
   {
    "duration": 6,
    "start_time": "2022-10-01T12:14:52.657Z"
   },
   {
    "duration": 69,
    "start_time": "2022-10-01T12:14:52.665Z"
   },
   {
    "duration": 10,
    "start_time": "2022-10-01T12:14:52.736Z"
   },
   {
    "duration": 4,
    "start_time": "2022-10-01T12:14:52.747Z"
   },
   {
    "duration": 13,
    "start_time": "2022-10-01T12:14:52.753Z"
   },
   {
    "duration": 45,
    "start_time": "2022-10-01T12:14:52.767Z"
   },
   {
    "duration": 22,
    "start_time": "2022-10-01T12:14:52.814Z"
   },
   {
    "duration": 5,
    "start_time": "2022-10-01T12:14:52.838Z"
   },
   {
    "duration": 20,
    "start_time": "2022-10-01T12:14:52.845Z"
   },
   {
    "duration": 36,
    "start_time": "2022-10-01T12:14:52.866Z"
   },
   {
    "duration": 6,
    "start_time": "2022-10-01T12:14:52.906Z"
   },
   {
    "duration": 24,
    "start_time": "2022-10-01T12:14:52.914Z"
   },
   {
    "duration": 17,
    "start_time": "2022-10-01T12:14:57.268Z"
   },
   {
    "duration": 12,
    "start_time": "2022-10-01T12:15:00.065Z"
   },
   {
    "duration": 18,
    "start_time": "2022-10-01T12:15:18.000Z"
   },
   {
    "duration": 19,
    "start_time": "2022-10-01T12:15:32.141Z"
   },
   {
    "duration": 15,
    "start_time": "2022-10-01T12:16:59.467Z"
   },
   {
    "duration": 19,
    "start_time": "2022-10-01T12:35:33.618Z"
   },
   {
    "duration": 15,
    "start_time": "2022-10-01T12:44:24.626Z"
   },
   {
    "duration": 16,
    "start_time": "2022-10-01T12:44:32.175Z"
   },
   {
    "duration": 11,
    "start_time": "2022-10-01T12:46:34.269Z"
   },
   {
    "duration": 18,
    "start_time": "2022-10-01T12:46:36.650Z"
   },
   {
    "duration": 22,
    "start_time": "2022-10-01T12:46:39.591Z"
   },
   {
    "duration": 21,
    "start_time": "2022-10-01T12:52:56.387Z"
   },
   {
    "duration": 16,
    "start_time": "2022-10-01T12:53:45.762Z"
   },
   {
    "duration": 14,
    "start_time": "2022-10-01T12:53:53.226Z"
   },
   {
    "duration": 19,
    "start_time": "2022-10-01T13:01:11.615Z"
   },
   {
    "duration": 9,
    "start_time": "2022-10-01T13:03:30.942Z"
   },
   {
    "duration": 148,
    "start_time": "2022-10-01T13:03:37.949Z"
   },
   {
    "duration": 24,
    "start_time": "2022-10-01T13:03:38.104Z"
   },
   {
    "duration": 36,
    "start_time": "2022-10-01T13:03:38.130Z"
   },
   {
    "duration": 17,
    "start_time": "2022-10-01T13:03:38.168Z"
   },
   {
    "duration": 48,
    "start_time": "2022-10-01T13:03:38.187Z"
   },
   {
    "duration": 4,
    "start_time": "2022-10-01T13:03:38.237Z"
   },
   {
    "duration": 12,
    "start_time": "2022-10-01T13:03:38.243Z"
   },
   {
    "duration": 5,
    "start_time": "2022-10-01T13:03:38.257Z"
   },
   {
    "duration": 37,
    "start_time": "2022-10-01T13:03:38.264Z"
   },
   {
    "duration": 6,
    "start_time": "2022-10-01T13:03:38.308Z"
   },
   {
    "duration": 43,
    "start_time": "2022-10-01T13:03:38.318Z"
   },
   {
    "duration": 9,
    "start_time": "2022-10-01T13:03:38.363Z"
   },
   {
    "duration": 17,
    "start_time": "2022-10-01T13:03:38.375Z"
   },
   {
    "duration": 31,
    "start_time": "2022-10-01T13:03:38.397Z"
   },
   {
    "duration": 29,
    "start_time": "2022-10-01T13:03:38.431Z"
   },
   {
    "duration": 22,
    "start_time": "2022-10-01T13:03:38.462Z"
   },
   {
    "duration": 4,
    "start_time": "2022-10-01T13:03:38.486Z"
   },
   {
    "duration": 33,
    "start_time": "2022-10-01T13:03:38.491Z"
   },
   {
    "duration": 9,
    "start_time": "2022-10-01T13:03:38.525Z"
   },
   {
    "duration": 5,
    "start_time": "2022-10-01T13:03:38.535Z"
   },
   {
    "duration": 17,
    "start_time": "2022-10-01T13:03:38.541Z"
   },
   {
    "duration": 15,
    "start_time": "2022-10-01T13:03:38.560Z"
   },
   {
    "duration": 31,
    "start_time": "2022-10-01T13:03:38.576Z"
   },
   {
    "duration": 11,
    "start_time": "2022-10-01T13:03:38.609Z"
   },
   {
    "duration": 19,
    "start_time": "2022-10-01T13:03:38.622Z"
   },
   {
    "duration": 22,
    "start_time": "2022-10-01T13:03:38.643Z"
   },
   {
    "duration": 19,
    "start_time": "2022-10-01T13:03:38.667Z"
   },
   {
    "duration": 23,
    "start_time": "2022-10-01T13:03:38.690Z"
   },
   {
    "duration": 24,
    "start_time": "2022-10-01T13:03:38.715Z"
   },
   {
    "duration": 12,
    "start_time": "2022-10-01T13:03:38.741Z"
   },
   {
    "duration": 12,
    "start_time": "2022-10-01T13:03:47.618Z"
   },
   {
    "duration": 16,
    "start_time": "2022-10-01T13:04:22.954Z"
   },
   {
    "duration": 18,
    "start_time": "2022-10-01T15:43:51.995Z"
   },
   {
    "duration": 35,
    "start_time": "2022-10-01T15:45:12.973Z"
   },
   {
    "duration": 34,
    "start_time": "2022-10-01T15:45:40.634Z"
   },
   {
    "duration": 21,
    "start_time": "2022-10-01T15:45:58.786Z"
   },
   {
    "duration": 14,
    "start_time": "2022-10-01T15:46:15.937Z"
   },
   {
    "duration": 80,
    "start_time": "2022-10-01T15:49:17.310Z"
   },
   {
    "duration": 31,
    "start_time": "2022-10-01T15:49:17.392Z"
   },
   {
    "duration": 18,
    "start_time": "2022-10-01T15:49:17.424Z"
   },
   {
    "duration": 9,
    "start_time": "2022-10-01T15:49:17.443Z"
   },
   {
    "duration": 63,
    "start_time": "2022-10-01T15:49:17.455Z"
   },
   {
    "duration": 4,
    "start_time": "2022-10-01T15:49:17.524Z"
   },
   {
    "duration": 13,
    "start_time": "2022-10-01T15:49:17.529Z"
   },
   {
    "duration": 4,
    "start_time": "2022-10-01T15:49:17.544Z"
   },
   {
    "duration": 6,
    "start_time": "2022-10-01T15:49:17.550Z"
   },
   {
    "duration": 5,
    "start_time": "2022-10-01T15:49:17.558Z"
   },
   {
    "duration": 59,
    "start_time": "2022-10-01T15:49:17.564Z"
   },
   {
    "duration": 10,
    "start_time": "2022-10-01T15:49:17.625Z"
   },
   {
    "duration": 3,
    "start_time": "2022-10-01T15:49:17.637Z"
   },
   {
    "duration": 10,
    "start_time": "2022-10-01T15:49:17.643Z"
   },
   {
    "duration": 20,
    "start_time": "2022-10-01T15:49:17.655Z"
   },
   {
    "duration": 26,
    "start_time": "2022-10-01T15:49:17.697Z"
   },
   {
    "duration": 5,
    "start_time": "2022-10-01T15:49:17.725Z"
   },
   {
    "duration": 14,
    "start_time": "2022-10-01T15:49:17.731Z"
   },
   {
    "duration": 6,
    "start_time": "2022-10-01T15:49:17.747Z"
   },
   {
    "duration": 8,
    "start_time": "2022-10-01T15:49:17.755Z"
   },
   {
    "duration": 37,
    "start_time": "2022-10-01T15:49:17.764Z"
   },
   {
    "duration": 19,
    "start_time": "2022-10-01T15:49:17.804Z"
   },
   {
    "duration": 14,
    "start_time": "2022-10-01T15:49:17.824Z"
   },
   {
    "duration": 8,
    "start_time": "2022-10-01T15:49:17.839Z"
   },
   {
    "duration": 10,
    "start_time": "2022-10-01T15:49:17.848Z"
   },
   {
    "duration": 11,
    "start_time": "2022-10-01T15:49:17.860Z"
   },
   {
    "duration": 38,
    "start_time": "2022-10-01T15:49:17.873Z"
   },
   {
    "duration": 13,
    "start_time": "2022-10-01T15:49:17.912Z"
   },
   {
    "duration": 12,
    "start_time": "2022-10-01T15:49:17.927Z"
   },
   {
    "duration": 10,
    "start_time": "2022-10-01T15:49:17.940Z"
   },
   {
    "duration": 18,
    "start_time": "2022-10-01T15:49:17.951Z"
   },
   {
    "duration": 21,
    "start_time": "2022-10-01T15:56:31.341Z"
   },
   {
    "duration": 13,
    "start_time": "2022-10-01T15:56:42.318Z"
   },
   {
    "duration": 16,
    "start_time": "2022-10-01T15:58:24.838Z"
   },
   {
    "duration": 93,
    "start_time": "2022-10-01T16:23:26.313Z"
   },
   {
    "duration": 11,
    "start_time": "2022-10-01T16:55:56.108Z"
   },
   {
    "duration": 46,
    "start_time": "2022-10-02T08:48:57.166Z"
   },
   {
    "duration": 706,
    "start_time": "2022-10-02T08:49:04.543Z"
   },
   {
    "duration": 20,
    "start_time": "2022-10-02T08:49:05.251Z"
   },
   {
    "duration": 27,
    "start_time": "2022-10-02T08:49:05.272Z"
   },
   {
    "duration": 9,
    "start_time": "2022-10-02T08:49:05.301Z"
   },
   {
    "duration": 34,
    "start_time": "2022-10-02T08:49:05.312Z"
   },
   {
    "duration": 3,
    "start_time": "2022-10-02T08:49:05.347Z"
   },
   {
    "duration": 9,
    "start_time": "2022-10-02T08:49:05.352Z"
   },
   {
    "duration": 7,
    "start_time": "2022-10-02T08:49:05.362Z"
   },
   {
    "duration": 13,
    "start_time": "2022-10-02T08:49:05.370Z"
   },
   {
    "duration": 4,
    "start_time": "2022-10-02T08:49:05.385Z"
   },
   {
    "duration": 54,
    "start_time": "2022-10-02T08:49:05.390Z"
   },
   {
    "duration": 9,
    "start_time": "2022-10-02T08:49:05.445Z"
   },
   {
    "duration": 9,
    "start_time": "2022-10-02T08:49:05.456Z"
   },
   {
    "duration": 13,
    "start_time": "2022-10-02T08:49:05.466Z"
   },
   {
    "duration": 25,
    "start_time": "2022-10-02T08:49:05.481Z"
   },
   {
    "duration": 26,
    "start_time": "2022-10-02T08:49:05.507Z"
   },
   {
    "duration": 3,
    "start_time": "2022-10-02T08:49:05.535Z"
   },
   {
    "duration": 13,
    "start_time": "2022-10-02T08:49:05.539Z"
   },
   {
    "duration": 6,
    "start_time": "2022-10-02T08:49:05.553Z"
   },
   {
    "duration": 7,
    "start_time": "2022-10-02T08:49:05.560Z"
   },
   {
    "duration": 14,
    "start_time": "2022-10-02T08:49:05.568Z"
   },
   {
    "duration": 20,
    "start_time": "2022-10-02T08:49:05.583Z"
   },
   {
    "duration": 33,
    "start_time": "2022-10-02T08:49:05.604Z"
   },
   {
    "duration": 8,
    "start_time": "2022-10-02T08:49:05.638Z"
   },
   {
    "duration": 9,
    "start_time": "2022-10-02T08:49:05.648Z"
   },
   {
    "duration": 12,
    "start_time": "2022-10-02T08:49:05.658Z"
   },
   {
    "duration": 17,
    "start_time": "2022-10-02T08:49:05.671Z"
   },
   {
    "duration": 9,
    "start_time": "2022-10-02T08:49:05.690Z"
   },
   {
    "duration": 37,
    "start_time": "2022-10-02T08:49:05.701Z"
   },
   {
    "duration": 14,
    "start_time": "2022-10-02T08:49:05.740Z"
   },
   {
    "duration": 418,
    "start_time": "2022-10-02T08:49:09.790Z"
   },
   {
    "duration": 25,
    "start_time": "2022-10-02T08:54:19.772Z"
   },
   {
    "duration": 76,
    "start_time": "2022-10-02T18:47:34.720Z"
   },
   {
    "duration": 82,
    "start_time": "2022-10-02T18:51:43.412Z"
   },
   {
    "duration": 44,
    "start_time": "2022-10-02T18:54:00.740Z"
   },
   {
    "duration": 626,
    "start_time": "2022-10-02T18:54:05.668Z"
   },
   {
    "duration": 19,
    "start_time": "2022-10-02T18:54:06.296Z"
   },
   {
    "duration": 15,
    "start_time": "2022-10-02T18:54:06.317Z"
   },
   {
    "duration": 28,
    "start_time": "2022-10-02T18:54:06.335Z"
   },
   {
    "duration": 28,
    "start_time": "2022-10-02T18:54:06.364Z"
   },
   {
    "duration": 3,
    "start_time": "2022-10-02T18:54:06.393Z"
   },
   {
    "duration": 9,
    "start_time": "2022-10-02T18:54:06.397Z"
   },
   {
    "duration": 4,
    "start_time": "2022-10-02T18:54:06.408Z"
   },
   {
    "duration": 9,
    "start_time": "2022-10-02T18:54:06.413Z"
   },
   {
    "duration": 5,
    "start_time": "2022-10-02T18:54:06.424Z"
   },
   {
    "duration": 36,
    "start_time": "2022-10-02T18:54:06.430Z"
   },
   {
    "duration": 12,
    "start_time": "2022-10-02T18:54:06.468Z"
   },
   {
    "duration": 5,
    "start_time": "2022-10-02T18:54:06.481Z"
   },
   {
    "duration": 30,
    "start_time": "2022-10-02T18:54:06.488Z"
   },
   {
    "duration": 23,
    "start_time": "2022-10-02T18:54:06.520Z"
   },
   {
    "duration": 21,
    "start_time": "2022-10-02T18:54:06.545Z"
   },
   {
    "duration": 4,
    "start_time": "2022-10-02T18:54:06.567Z"
   },
   {
    "duration": 37,
    "start_time": "2022-10-02T18:54:06.572Z"
   },
   {
    "duration": 6,
    "start_time": "2022-10-02T18:54:06.610Z"
   },
   {
    "duration": 4,
    "start_time": "2022-10-02T18:54:06.617Z"
   },
   {
    "duration": 11,
    "start_time": "2022-10-02T18:54:06.622Z"
   },
   {
    "duration": 14,
    "start_time": "2022-10-02T18:54:06.634Z"
   },
   {
    "duration": 9,
    "start_time": "2022-10-02T18:54:06.649Z"
   },
   {
    "duration": 6,
    "start_time": "2022-10-02T18:54:06.660Z"
   },
   {
    "duration": 41,
    "start_time": "2022-10-02T18:54:06.668Z"
   },
   {
    "duration": 15,
    "start_time": "2022-10-02T18:54:06.710Z"
   },
   {
    "duration": 12,
    "start_time": "2022-10-02T18:54:06.726Z"
   },
   {
    "duration": 9,
    "start_time": "2022-10-02T18:54:06.740Z"
   },
   {
    "duration": 15,
    "start_time": "2022-10-02T18:54:06.751Z"
   },
   {
    "duration": 13,
    "start_time": "2022-10-02T18:54:06.768Z"
   },
   {
    "duration": 37,
    "start_time": "2022-10-02T18:54:09.427Z"
   },
   {
    "duration": 13,
    "start_time": "2022-10-02T18:54:36.852Z"
   },
   {
    "duration": 13,
    "start_time": "2022-10-02T18:56:37.691Z"
   },
   {
    "duration": 15,
    "start_time": "2022-10-02T18:56:54.480Z"
   },
   {
    "duration": 68,
    "start_time": "2022-10-02T18:56:59.589Z"
   },
   {
    "duration": 13,
    "start_time": "2022-10-02T18:56:59.659Z"
   },
   {
    "duration": 13,
    "start_time": "2022-10-02T18:56:59.673Z"
   },
   {
    "duration": 22,
    "start_time": "2022-10-02T18:56:59.688Z"
   },
   {
    "duration": 28,
    "start_time": "2022-10-02T18:56:59.711Z"
   },
   {
    "duration": 3,
    "start_time": "2022-10-02T18:56:59.741Z"
   },
   {
    "duration": 9,
    "start_time": "2022-10-02T18:56:59.745Z"
   },
   {
    "duration": 4,
    "start_time": "2022-10-02T18:56:59.755Z"
   },
   {
    "duration": 5,
    "start_time": "2022-10-02T18:56:59.760Z"
   },
   {
    "duration": 3,
    "start_time": "2022-10-02T18:56:59.767Z"
   },
   {
    "duration": 62,
    "start_time": "2022-10-02T18:56:59.772Z"
   },
   {
    "duration": 7,
    "start_time": "2022-10-02T18:56:59.836Z"
   },
   {
    "duration": 3,
    "start_time": "2022-10-02T18:56:59.845Z"
   },
   {
    "duration": 12,
    "start_time": "2022-10-02T18:56:59.849Z"
   },
   {
    "duration": 19,
    "start_time": "2022-10-02T18:56:59.862Z"
   },
   {
    "duration": 39,
    "start_time": "2022-10-02T18:56:59.882Z"
   },
   {
    "duration": 4,
    "start_time": "2022-10-02T18:56:59.922Z"
   },
   {
    "duration": 10,
    "start_time": "2022-10-02T18:56:59.928Z"
   },
   {
    "duration": 7,
    "start_time": "2022-10-02T18:56:59.939Z"
   },
   {
    "duration": 4,
    "start_time": "2022-10-02T18:56:59.948Z"
   },
   {
    "duration": 10,
    "start_time": "2022-10-02T18:56:59.953Z"
   },
   {
    "duration": 14,
    "start_time": "2022-10-02T18:56:59.964Z"
   },
   {
    "duration": 10,
    "start_time": "2022-10-02T18:57:00.008Z"
   },
   {
    "duration": 7,
    "start_time": "2022-10-02T18:57:00.019Z"
   },
   {
    "duration": 12,
    "start_time": "2022-10-02T18:57:00.027Z"
   },
   {
    "duration": 9,
    "start_time": "2022-10-02T18:57:00.040Z"
   },
   {
    "duration": 15,
    "start_time": "2022-10-02T18:57:00.051Z"
   },
   {
    "duration": 8,
    "start_time": "2022-10-02T18:57:00.069Z"
   },
   {
    "duration": 38,
    "start_time": "2022-10-02T18:57:00.078Z"
   },
   {
    "duration": 13,
    "start_time": "2022-10-02T18:57:00.117Z"
   },
   {
    "duration": 14,
    "start_time": "2022-10-02T18:57:02.182Z"
   },
   {
    "duration": 13,
    "start_time": "2022-10-02T19:00:39.754Z"
   },
   {
    "duration": 13,
    "start_time": "2022-10-02T19:01:09.296Z"
   },
   {
    "duration": 444,
    "start_time": "2022-10-02T19:01:34.133Z"
   },
   {
    "duration": 584,
    "start_time": "2022-10-03T06:49:35.263Z"
   },
   {
    "duration": 24,
    "start_time": "2022-10-03T06:49:35.849Z"
   },
   {
    "duration": 18,
    "start_time": "2022-10-03T06:49:35.874Z"
   },
   {
    "duration": 11,
    "start_time": "2022-10-03T06:49:35.894Z"
   },
   {
    "duration": 38,
    "start_time": "2022-10-03T06:49:35.906Z"
   },
   {
    "duration": 4,
    "start_time": "2022-10-03T06:49:35.945Z"
   },
   {
    "duration": 10,
    "start_time": "2022-10-03T06:49:35.951Z"
   },
   {
    "duration": 5,
    "start_time": "2022-10-03T06:49:35.989Z"
   },
   {
    "duration": 8,
    "start_time": "2022-10-03T06:49:35.995Z"
   },
   {
    "duration": 4,
    "start_time": "2022-10-03T06:49:36.007Z"
   },
   {
    "duration": 37,
    "start_time": "2022-10-03T06:49:36.013Z"
   },
   {
    "duration": 40,
    "start_time": "2022-10-03T06:49:36.052Z"
   },
   {
    "duration": 6,
    "start_time": "2022-10-03T06:49:36.094Z"
   },
   {
    "duration": 15,
    "start_time": "2022-10-03T06:49:36.102Z"
   },
   {
    "duration": 22,
    "start_time": "2022-10-03T06:49:36.118Z"
   },
   {
    "duration": 17,
    "start_time": "2022-10-03T06:49:36.142Z"
   },
   {
    "duration": 3,
    "start_time": "2022-10-03T06:49:36.190Z"
   },
   {
    "duration": 12,
    "start_time": "2022-10-03T06:49:36.195Z"
   },
   {
    "duration": 6,
    "start_time": "2022-10-03T06:49:36.209Z"
   },
   {
    "duration": 5,
    "start_time": "2022-10-03T06:49:36.216Z"
   },
   {
    "duration": 17,
    "start_time": "2022-10-03T06:49:36.222Z"
   },
   {
    "duration": 48,
    "start_time": "2022-10-03T06:49:36.241Z"
   },
   {
    "duration": 11,
    "start_time": "2022-10-03T06:49:36.291Z"
   },
   {
    "duration": 8,
    "start_time": "2022-10-03T06:49:36.304Z"
   },
   {
    "duration": 10,
    "start_time": "2022-10-03T06:49:36.314Z"
   },
   {
    "duration": 12,
    "start_time": "2022-10-03T06:49:36.326Z"
   },
   {
    "duration": 14,
    "start_time": "2022-10-03T06:49:36.340Z"
   },
   {
    "duration": 40,
    "start_time": "2022-10-03T06:49:36.360Z"
   },
   {
    "duration": 23,
    "start_time": "2022-10-03T06:49:36.402Z"
   },
   {
    "duration": 15,
    "start_time": "2022-10-03T06:49:36.428Z"
   },
   {
    "duration": 83,
    "start_time": "2022-10-03T06:56:28.828Z"
   },
   {
    "duration": 84,
    "start_time": "2022-10-03T06:56:33.732Z"
   },
   {
    "duration": 19,
    "start_time": "2022-10-03T06:56:33.818Z"
   },
   {
    "duration": 21,
    "start_time": "2022-10-03T06:56:33.840Z"
   },
   {
    "duration": 28,
    "start_time": "2022-10-03T06:56:33.864Z"
   },
   {
    "duration": 37,
    "start_time": "2022-10-03T06:56:33.894Z"
   },
   {
    "duration": 4,
    "start_time": "2022-10-03T06:56:33.933Z"
   },
   {
    "duration": 11,
    "start_time": "2022-10-03T06:56:33.939Z"
   },
   {
    "duration": 5,
    "start_time": "2022-10-03T06:56:33.952Z"
   },
   {
    "duration": 31,
    "start_time": "2022-10-03T06:56:33.958Z"
   },
   {
    "duration": 7,
    "start_time": "2022-10-03T06:56:33.992Z"
   },
   {
    "duration": 36,
    "start_time": "2022-10-03T06:56:34.000Z"
   },
   {
    "duration": 9,
    "start_time": "2022-10-03T06:56:34.038Z"
   },
   {
    "duration": 5,
    "start_time": "2022-10-03T06:56:34.049Z"
   },
   {
    "duration": 43,
    "start_time": "2022-10-03T06:56:34.055Z"
   },
   {
    "duration": 22,
    "start_time": "2022-10-03T06:56:34.100Z"
   },
   {
    "duration": 18,
    "start_time": "2022-10-03T06:56:34.124Z"
   },
   {
    "duration": 4,
    "start_time": "2022-10-03T06:56:34.144Z"
   },
   {
    "duration": 45,
    "start_time": "2022-10-03T06:56:34.150Z"
   },
   {
    "duration": 7,
    "start_time": "2022-10-03T06:56:34.197Z"
   },
   {
    "duration": 3,
    "start_time": "2022-10-03T06:56:34.206Z"
   },
   {
    "duration": 16,
    "start_time": "2022-10-03T06:56:34.211Z"
   },
   {
    "duration": 19,
    "start_time": "2022-10-03T06:56:34.229Z"
   },
   {
    "duration": 40,
    "start_time": "2022-10-03T06:56:34.250Z"
   },
   {
    "duration": 13,
    "start_time": "2022-10-03T06:56:34.292Z"
   },
   {
    "duration": 12,
    "start_time": "2022-10-03T06:56:34.307Z"
   },
   {
    "duration": 16,
    "start_time": "2022-10-03T06:56:34.321Z"
   },
   {
    "duration": 15,
    "start_time": "2022-10-03T06:56:34.338Z"
   },
   {
    "duration": 32,
    "start_time": "2022-10-03T06:56:34.357Z"
   },
   {
    "duration": 15,
    "start_time": "2022-10-03T06:56:34.391Z"
   },
   {
    "duration": 21,
    "start_time": "2022-10-03T06:56:34.408Z"
   },
   {
    "duration": 13,
    "start_time": "2022-10-03T06:56:36.011Z"
   },
   {
    "duration": 11,
    "start_time": "2022-10-03T06:58:10.471Z"
   },
   {
    "duration": 13,
    "start_time": "2022-10-03T06:58:33.360Z"
   },
   {
    "duration": 16,
    "start_time": "2022-10-03T07:03:00.089Z"
   },
   {
    "duration": 11,
    "start_time": "2022-10-03T07:03:34.756Z"
   },
   {
    "duration": 8,
    "start_time": "2022-10-03T07:03:36.710Z"
   },
   {
    "duration": 9,
    "start_time": "2022-10-03T07:03:39.414Z"
   },
   {
    "duration": 8,
    "start_time": "2022-10-03T07:03:42.205Z"
   },
   {
    "duration": 17,
    "start_time": "2022-10-03T07:03:45.125Z"
   },
   {
    "duration": 14,
    "start_time": "2022-10-03T07:03:54.133Z"
   },
   {
    "duration": 17,
    "start_time": "2022-10-03T07:04:02.303Z"
   },
   {
    "duration": 16,
    "start_time": "2022-10-03T07:04:04.647Z"
   },
   {
    "duration": 15,
    "start_time": "2022-10-03T07:04:48.480Z"
   },
   {
    "duration": 17,
    "start_time": "2022-10-03T07:05:00.300Z"
   },
   {
    "duration": 15,
    "start_time": "2022-10-03T07:05:35.904Z"
   },
   {
    "duration": 75,
    "start_time": "2022-10-03T07:06:26.314Z"
   },
   {
    "duration": 17,
    "start_time": "2022-10-03T07:06:26.391Z"
   },
   {
    "duration": 39,
    "start_time": "2022-10-03T07:06:26.410Z"
   },
   {
    "duration": 19,
    "start_time": "2022-10-03T07:06:26.451Z"
   },
   {
    "duration": 46,
    "start_time": "2022-10-03T07:06:26.473Z"
   },
   {
    "duration": 4,
    "start_time": "2022-10-03T07:06:26.521Z"
   },
   {
    "duration": 15,
    "start_time": "2022-10-03T07:06:26.527Z"
   },
   {
    "duration": 5,
    "start_time": "2022-10-03T07:06:26.544Z"
   },
   {
    "duration": 8,
    "start_time": "2022-10-03T07:06:26.551Z"
   },
   {
    "duration": 8,
    "start_time": "2022-10-03T07:06:26.560Z"
   },
   {
    "duration": 58,
    "start_time": "2022-10-03T07:06:26.571Z"
   },
   {
    "duration": 14,
    "start_time": "2022-10-03T07:06:26.630Z"
   },
   {
    "duration": 5,
    "start_time": "2022-10-03T07:06:26.646Z"
   },
   {
    "duration": 42,
    "start_time": "2022-10-03T07:06:26.654Z"
   },
   {
    "duration": 19,
    "start_time": "2022-10-03T07:06:26.698Z"
   },
   {
    "duration": 18,
    "start_time": "2022-10-03T07:06:26.719Z"
   },
   {
    "duration": 4,
    "start_time": "2022-10-03T07:06:26.738Z"
   },
   {
    "duration": 13,
    "start_time": "2022-10-03T07:06:26.743Z"
   },
   {
    "duration": 33,
    "start_time": "2022-10-03T07:06:26.758Z"
   },
   {
    "duration": 5,
    "start_time": "2022-10-03T07:06:26.793Z"
   },
   {
    "duration": 13,
    "start_time": "2022-10-03T07:06:26.800Z"
   },
   {
    "duration": 16,
    "start_time": "2022-10-03T07:06:26.815Z"
   },
   {
    "duration": 13,
    "start_time": "2022-10-03T07:06:26.833Z"
   },
   {
    "duration": 49,
    "start_time": "2022-10-03T07:06:26.848Z"
   },
   {
    "duration": 33,
    "start_time": "2022-10-03T07:06:26.900Z"
   },
   {
    "duration": 26,
    "start_time": "2022-10-03T07:06:26.935Z"
   },
   {
    "duration": 22,
    "start_time": "2022-10-03T07:06:26.963Z"
   },
   {
    "duration": 15,
    "start_time": "2022-10-03T07:06:26.987Z"
   },
   {
    "duration": 21,
    "start_time": "2022-10-03T07:06:27.005Z"
   },
   {
    "duration": 15,
    "start_time": "2022-10-03T07:06:27.028Z"
   },
   {
    "duration": 12,
    "start_time": "2022-10-03T07:06:27.045Z"
   },
   {
    "duration": 40,
    "start_time": "2022-10-03T07:06:27.059Z"
   },
   {
    "duration": 19,
    "start_time": "2022-10-03T07:06:27.101Z"
   },
   {
    "duration": 73,
    "start_time": "2022-10-03T07:34:02.903Z"
   },
   {
    "duration": 27,
    "start_time": "2022-10-03T07:34:02.978Z"
   },
   {
    "duration": 26,
    "start_time": "2022-10-03T07:34:03.006Z"
   },
   {
    "duration": 14,
    "start_time": "2022-10-03T07:34:03.033Z"
   },
   {
    "duration": 54,
    "start_time": "2022-10-03T07:34:03.049Z"
   },
   {
    "duration": 5,
    "start_time": "2022-10-03T07:34:03.106Z"
   },
   {
    "duration": 13,
    "start_time": "2022-10-03T07:34:03.113Z"
   },
   {
    "duration": 5,
    "start_time": "2022-10-03T07:34:03.127Z"
   },
   {
    "duration": 19,
    "start_time": "2022-10-03T07:34:03.134Z"
   },
   {
    "duration": 11,
    "start_time": "2022-10-03T07:34:03.155Z"
   },
   {
    "duration": 60,
    "start_time": "2022-10-03T07:34:03.168Z"
   },
   {
    "duration": 13,
    "start_time": "2022-10-03T07:34:03.229Z"
   },
   {
    "duration": 5,
    "start_time": "2022-10-03T07:34:03.244Z"
   },
   {
    "duration": 30,
    "start_time": "2022-10-03T07:34:03.252Z"
   },
   {
    "duration": 38,
    "start_time": "2022-10-03T07:34:03.284Z"
   },
   {
    "duration": 28,
    "start_time": "2022-10-03T07:34:03.324Z"
   },
   {
    "duration": 5,
    "start_time": "2022-10-03T07:34:03.354Z"
   },
   {
    "duration": 27,
    "start_time": "2022-10-03T07:34:03.361Z"
   },
   {
    "duration": 21,
    "start_time": "2022-10-03T07:34:03.391Z"
   },
   {
    "duration": 16,
    "start_time": "2022-10-03T07:34:03.414Z"
   },
   {
    "duration": 29,
    "start_time": "2022-10-03T07:34:03.432Z"
   },
   {
    "duration": 36,
    "start_time": "2022-10-03T07:34:03.463Z"
   },
   {
    "duration": 25,
    "start_time": "2022-10-03T07:34:03.501Z"
   },
   {
    "duration": 12,
    "start_time": "2022-10-03T07:34:03.527Z"
   },
   {
    "duration": 15,
    "start_time": "2022-10-03T07:34:03.541Z"
   },
   {
    "duration": 28,
    "start_time": "2022-10-03T07:34:03.558Z"
   },
   {
    "duration": 32,
    "start_time": "2022-10-03T07:34:03.588Z"
   },
   {
    "duration": 16,
    "start_time": "2022-10-03T07:34:03.621Z"
   },
   {
    "duration": 19,
    "start_time": "2022-10-03T07:34:03.638Z"
   },
   {
    "duration": 43,
    "start_time": "2022-10-03T07:34:03.659Z"
   }
  ],
  "colab": {
   "name": "dpp_template_part2.ipynb",
   "provenance": []
  },
  "kernelspec": {
   "display_name": "Python 3 (ipykernel)",
   "language": "python",
   "name": "python3"
  },
  "language_info": {
   "codemirror_mode": {
    "name": "ipython",
    "version": 3
   },
   "file_extension": ".py",
   "mimetype": "text/x-python",
   "name": "python",
   "nbconvert_exporter": "python",
   "pygments_lexer": "ipython3",
   "version": "3.9.12"
  },
  "toc": {
   "base_numbering": 1,
   "nav_menu": {},
   "number_sections": true,
   "sideBar": true,
   "skip_h1_title": true,
   "title_cell": "Table of Contents",
   "title_sidebar": "Contents",
   "toc_cell": false,
   "toc_position": {},
   "toc_section_display": true,
   "toc_window_display": true
  }
 },
 "nbformat": 4,
 "nbformat_minor": 5
}

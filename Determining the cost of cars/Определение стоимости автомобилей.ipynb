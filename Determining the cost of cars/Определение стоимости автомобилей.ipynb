{
 "cells": [
  {
   "cell_type": "markdown",
   "metadata": {},
   "source": [
    "# Определение стоимости автомобилей"
   ]
  },
  {
   "cell_type": "markdown",
   "metadata": {},
   "source": [
    "Сервис по продаже автомобилей с пробегом «Не бит, не крашен» разрабатывает приложение для привлечения новых клиентов. В нём можно быстро узнать рыночную стоимость своего автомобиля. В вашем распоряжении исторические данные: технические характеристики, комплектации и цены автомобилей. Вам нужно построить модель для определения стоимости. \n",
    "\n",
    "Заказчику важны:\n",
    "\n",
    "- качество предсказания;\n",
    "- скорость предсказания;\n",
    "- время обучения."
   ]
  },
  {
   "cell_type": "markdown",
   "metadata": {},
   "source": [
    "## Подготовка данных"
   ]
  },
  {
   "cell_type": "code",
   "execution_count": 1,
   "metadata": {},
   "outputs": [],
   "source": [
    "# Импортируем все необходимые библиотеки\n",
    "import pandas as pd\n",
    "import numpy as np\n",
    "import random\n",
    "import time\n",
    "from catboost import CatBoostRegressor, Pool\n",
    "from sklearn.model_selection import train_test_split, GridSearchCV\n",
    "from sklearn.metrics import mean_squared_error\n",
    "from sklearn.pipeline import make_pipeline\n",
    "from sklearn.preprocessing import LabelEncoder, OrdinalEncoder, StandardScaler, OneHotEncoder\n",
    "from sklearn.tree import DecisionTreeClassifier,DecisionTreeRegressor\n",
    "from sklearn.linear_model import LinearRegression\n",
    "from sklearn.ensemble import RandomForestRegressor, GradientBoostingRegressor\n",
    "from catboost import CatBoostRegressor \n",
    "from lightgbm import LGBMRegressor\n"
   ]
  },
  {
   "cell_type": "code",
   "execution_count": 2,
   "metadata": {},
   "outputs": [
    {
     "data": {
      "text/html": [
       "<div>\n",
       "<style scoped>\n",
       "    .dataframe tbody tr th:only-of-type {\n",
       "        vertical-align: middle;\n",
       "    }\n",
       "\n",
       "    .dataframe tbody tr th {\n",
       "        vertical-align: top;\n",
       "    }\n",
       "\n",
       "    .dataframe thead th {\n",
       "        text-align: right;\n",
       "    }\n",
       "</style>\n",
       "<table border=\"1\" class=\"dataframe\">\n",
       "  <thead>\n",
       "    <tr style=\"text-align: right;\">\n",
       "      <th></th>\n",
       "      <th>DateCrawled</th>\n",
       "      <th>Price</th>\n",
       "      <th>VehicleType</th>\n",
       "      <th>RegistrationYear</th>\n",
       "      <th>Gearbox</th>\n",
       "      <th>Power</th>\n",
       "      <th>Model</th>\n",
       "      <th>Kilometer</th>\n",
       "      <th>RegistrationMonth</th>\n",
       "      <th>FuelType</th>\n",
       "      <th>Brand</th>\n",
       "      <th>Repaired</th>\n",
       "      <th>DateCreated</th>\n",
       "      <th>NumberOfPictures</th>\n",
       "      <th>PostalCode</th>\n",
       "      <th>LastSeen</th>\n",
       "    </tr>\n",
       "  </thead>\n",
       "  <tbody>\n",
       "    <tr>\n",
       "      <th>0</th>\n",
       "      <td>2016-03-24 11:52:17</td>\n",
       "      <td>480</td>\n",
       "      <td>NaN</td>\n",
       "      <td>1993</td>\n",
       "      <td>manual</td>\n",
       "      <td>0</td>\n",
       "      <td>golf</td>\n",
       "      <td>150000</td>\n",
       "      <td>0</td>\n",
       "      <td>petrol</td>\n",
       "      <td>volkswagen</td>\n",
       "      <td>NaN</td>\n",
       "      <td>2016-03-24 00:00:00</td>\n",
       "      <td>0</td>\n",
       "      <td>70435</td>\n",
       "      <td>2016-04-07 03:16:57</td>\n",
       "    </tr>\n",
       "    <tr>\n",
       "      <th>1</th>\n",
       "      <td>2016-03-24 10:58:45</td>\n",
       "      <td>18300</td>\n",
       "      <td>coupe</td>\n",
       "      <td>2011</td>\n",
       "      <td>manual</td>\n",
       "      <td>190</td>\n",
       "      <td>NaN</td>\n",
       "      <td>125000</td>\n",
       "      <td>5</td>\n",
       "      <td>gasoline</td>\n",
       "      <td>audi</td>\n",
       "      <td>yes</td>\n",
       "      <td>2016-03-24 00:00:00</td>\n",
       "      <td>0</td>\n",
       "      <td>66954</td>\n",
       "      <td>2016-04-07 01:46:50</td>\n",
       "    </tr>\n",
       "    <tr>\n",
       "      <th>2</th>\n",
       "      <td>2016-03-14 12:52:21</td>\n",
       "      <td>9800</td>\n",
       "      <td>suv</td>\n",
       "      <td>2004</td>\n",
       "      <td>auto</td>\n",
       "      <td>163</td>\n",
       "      <td>grand</td>\n",
       "      <td>125000</td>\n",
       "      <td>8</td>\n",
       "      <td>gasoline</td>\n",
       "      <td>jeep</td>\n",
       "      <td>NaN</td>\n",
       "      <td>2016-03-14 00:00:00</td>\n",
       "      <td>0</td>\n",
       "      <td>90480</td>\n",
       "      <td>2016-04-05 12:47:46</td>\n",
       "    </tr>\n",
       "    <tr>\n",
       "      <th>3</th>\n",
       "      <td>2016-03-17 16:54:04</td>\n",
       "      <td>1500</td>\n",
       "      <td>small</td>\n",
       "      <td>2001</td>\n",
       "      <td>manual</td>\n",
       "      <td>75</td>\n",
       "      <td>golf</td>\n",
       "      <td>150000</td>\n",
       "      <td>6</td>\n",
       "      <td>petrol</td>\n",
       "      <td>volkswagen</td>\n",
       "      <td>no</td>\n",
       "      <td>2016-03-17 00:00:00</td>\n",
       "      <td>0</td>\n",
       "      <td>91074</td>\n",
       "      <td>2016-03-17 17:40:17</td>\n",
       "    </tr>\n",
       "    <tr>\n",
       "      <th>4</th>\n",
       "      <td>2016-03-31 17:25:20</td>\n",
       "      <td>3600</td>\n",
       "      <td>small</td>\n",
       "      <td>2008</td>\n",
       "      <td>manual</td>\n",
       "      <td>69</td>\n",
       "      <td>fabia</td>\n",
       "      <td>90000</td>\n",
       "      <td>7</td>\n",
       "      <td>gasoline</td>\n",
       "      <td>skoda</td>\n",
       "      <td>no</td>\n",
       "      <td>2016-03-31 00:00:00</td>\n",
       "      <td>0</td>\n",
       "      <td>60437</td>\n",
       "      <td>2016-04-06 10:17:21</td>\n",
       "    </tr>\n",
       "    <tr>\n",
       "      <th>...</th>\n",
       "      <td>...</td>\n",
       "      <td>...</td>\n",
       "      <td>...</td>\n",
       "      <td>...</td>\n",
       "      <td>...</td>\n",
       "      <td>...</td>\n",
       "      <td>...</td>\n",
       "      <td>...</td>\n",
       "      <td>...</td>\n",
       "      <td>...</td>\n",
       "      <td>...</td>\n",
       "      <td>...</td>\n",
       "      <td>...</td>\n",
       "      <td>...</td>\n",
       "      <td>...</td>\n",
       "      <td>...</td>\n",
       "    </tr>\n",
       "    <tr>\n",
       "      <th>354364</th>\n",
       "      <td>2016-03-21 09:50:58</td>\n",
       "      <td>0</td>\n",
       "      <td>NaN</td>\n",
       "      <td>2005</td>\n",
       "      <td>manual</td>\n",
       "      <td>0</td>\n",
       "      <td>colt</td>\n",
       "      <td>150000</td>\n",
       "      <td>7</td>\n",
       "      <td>petrol</td>\n",
       "      <td>mitsubishi</td>\n",
       "      <td>yes</td>\n",
       "      <td>2016-03-21 00:00:00</td>\n",
       "      <td>0</td>\n",
       "      <td>2694</td>\n",
       "      <td>2016-03-21 10:42:49</td>\n",
       "    </tr>\n",
       "    <tr>\n",
       "      <th>354365</th>\n",
       "      <td>2016-03-14 17:48:27</td>\n",
       "      <td>2200</td>\n",
       "      <td>NaN</td>\n",
       "      <td>2005</td>\n",
       "      <td>NaN</td>\n",
       "      <td>0</td>\n",
       "      <td>NaN</td>\n",
       "      <td>20000</td>\n",
       "      <td>1</td>\n",
       "      <td>NaN</td>\n",
       "      <td>sonstige_autos</td>\n",
       "      <td>NaN</td>\n",
       "      <td>2016-03-14 00:00:00</td>\n",
       "      <td>0</td>\n",
       "      <td>39576</td>\n",
       "      <td>2016-04-06 00:46:52</td>\n",
       "    </tr>\n",
       "    <tr>\n",
       "      <th>354366</th>\n",
       "      <td>2016-03-05 19:56:21</td>\n",
       "      <td>1199</td>\n",
       "      <td>convertible</td>\n",
       "      <td>2000</td>\n",
       "      <td>auto</td>\n",
       "      <td>101</td>\n",
       "      <td>fortwo</td>\n",
       "      <td>125000</td>\n",
       "      <td>3</td>\n",
       "      <td>petrol</td>\n",
       "      <td>smart</td>\n",
       "      <td>no</td>\n",
       "      <td>2016-03-05 00:00:00</td>\n",
       "      <td>0</td>\n",
       "      <td>26135</td>\n",
       "      <td>2016-03-11 18:17:12</td>\n",
       "    </tr>\n",
       "    <tr>\n",
       "      <th>354367</th>\n",
       "      <td>2016-03-19 18:57:12</td>\n",
       "      <td>9200</td>\n",
       "      <td>bus</td>\n",
       "      <td>1996</td>\n",
       "      <td>manual</td>\n",
       "      <td>102</td>\n",
       "      <td>transporter</td>\n",
       "      <td>150000</td>\n",
       "      <td>3</td>\n",
       "      <td>gasoline</td>\n",
       "      <td>volkswagen</td>\n",
       "      <td>no</td>\n",
       "      <td>2016-03-19 00:00:00</td>\n",
       "      <td>0</td>\n",
       "      <td>87439</td>\n",
       "      <td>2016-04-07 07:15:26</td>\n",
       "    </tr>\n",
       "    <tr>\n",
       "      <th>354368</th>\n",
       "      <td>2016-03-20 19:41:08</td>\n",
       "      <td>3400</td>\n",
       "      <td>wagon</td>\n",
       "      <td>2002</td>\n",
       "      <td>manual</td>\n",
       "      <td>100</td>\n",
       "      <td>golf</td>\n",
       "      <td>150000</td>\n",
       "      <td>6</td>\n",
       "      <td>gasoline</td>\n",
       "      <td>volkswagen</td>\n",
       "      <td>NaN</td>\n",
       "      <td>2016-03-20 00:00:00</td>\n",
       "      <td>0</td>\n",
       "      <td>40764</td>\n",
       "      <td>2016-03-24 12:45:21</td>\n",
       "    </tr>\n",
       "  </tbody>\n",
       "</table>\n",
       "<p>354369 rows × 16 columns</p>\n",
       "</div>"
      ],
      "text/plain": [
       "                DateCrawled  Price  VehicleType  RegistrationYear Gearbox  \\\n",
       "0       2016-03-24 11:52:17    480          NaN              1993  manual   \n",
       "1       2016-03-24 10:58:45  18300        coupe              2011  manual   \n",
       "2       2016-03-14 12:52:21   9800          suv              2004    auto   \n",
       "3       2016-03-17 16:54:04   1500        small              2001  manual   \n",
       "4       2016-03-31 17:25:20   3600        small              2008  manual   \n",
       "...                     ...    ...          ...               ...     ...   \n",
       "354364  2016-03-21 09:50:58      0          NaN              2005  manual   \n",
       "354365  2016-03-14 17:48:27   2200          NaN              2005     NaN   \n",
       "354366  2016-03-05 19:56:21   1199  convertible              2000    auto   \n",
       "354367  2016-03-19 18:57:12   9200          bus              1996  manual   \n",
       "354368  2016-03-20 19:41:08   3400        wagon              2002  manual   \n",
       "\n",
       "        Power        Model  Kilometer  RegistrationMonth  FuelType  \\\n",
       "0           0         golf     150000                  0    petrol   \n",
       "1         190          NaN     125000                  5  gasoline   \n",
       "2         163        grand     125000                  8  gasoline   \n",
       "3          75         golf     150000                  6    petrol   \n",
       "4          69        fabia      90000                  7  gasoline   \n",
       "...       ...          ...        ...                ...       ...   \n",
       "354364      0         colt     150000                  7    petrol   \n",
       "354365      0          NaN      20000                  1       NaN   \n",
       "354366    101       fortwo     125000                  3    petrol   \n",
       "354367    102  transporter     150000                  3  gasoline   \n",
       "354368    100         golf     150000                  6  gasoline   \n",
       "\n",
       "                 Brand Repaired          DateCreated  NumberOfPictures  \\\n",
       "0           volkswagen      NaN  2016-03-24 00:00:00                 0   \n",
       "1                 audi      yes  2016-03-24 00:00:00                 0   \n",
       "2                 jeep      NaN  2016-03-14 00:00:00                 0   \n",
       "3           volkswagen       no  2016-03-17 00:00:00                 0   \n",
       "4                skoda       no  2016-03-31 00:00:00                 0   \n",
       "...                ...      ...                  ...               ...   \n",
       "354364      mitsubishi      yes  2016-03-21 00:00:00                 0   \n",
       "354365  sonstige_autos      NaN  2016-03-14 00:00:00                 0   \n",
       "354366           smart       no  2016-03-05 00:00:00                 0   \n",
       "354367      volkswagen       no  2016-03-19 00:00:00                 0   \n",
       "354368      volkswagen      NaN  2016-03-20 00:00:00                 0   \n",
       "\n",
       "        PostalCode             LastSeen  \n",
       "0            70435  2016-04-07 03:16:57  \n",
       "1            66954  2016-04-07 01:46:50  \n",
       "2            90480  2016-04-05 12:47:46  \n",
       "3            91074  2016-03-17 17:40:17  \n",
       "4            60437  2016-04-06 10:17:21  \n",
       "...            ...                  ...  \n",
       "354364        2694  2016-03-21 10:42:49  \n",
       "354365       39576  2016-04-06 00:46:52  \n",
       "354366       26135  2016-03-11 18:17:12  \n",
       "354367       87439  2016-04-07 07:15:26  \n",
       "354368       40764  2016-03-24 12:45:21  \n",
       "\n",
       "[354369 rows x 16 columns]"
      ]
     },
     "metadata": {},
     "output_type": "display_data"
    },
    {
     "data": {
      "text/html": [
       "<div>\n",
       "<style scoped>\n",
       "    .dataframe tbody tr th:only-of-type {\n",
       "        vertical-align: middle;\n",
       "    }\n",
       "\n",
       "    .dataframe tbody tr th {\n",
       "        vertical-align: top;\n",
       "    }\n",
       "\n",
       "    .dataframe thead th {\n",
       "        text-align: right;\n",
       "    }\n",
       "</style>\n",
       "<table border=\"1\" class=\"dataframe\">\n",
       "  <thead>\n",
       "    <tr style=\"text-align: right;\">\n",
       "      <th></th>\n",
       "      <th>Price</th>\n",
       "      <th>RegistrationYear</th>\n",
       "      <th>Power</th>\n",
       "      <th>Kilometer</th>\n",
       "      <th>RegistrationMonth</th>\n",
       "      <th>NumberOfPictures</th>\n",
       "      <th>PostalCode</th>\n",
       "    </tr>\n",
       "  </thead>\n",
       "  <tbody>\n",
       "    <tr>\n",
       "      <th>count</th>\n",
       "      <td>354369.000000</td>\n",
       "      <td>354369.000000</td>\n",
       "      <td>354369.000000</td>\n",
       "      <td>354369.000000</td>\n",
       "      <td>354369.000000</td>\n",
       "      <td>354369.0</td>\n",
       "      <td>354369.000000</td>\n",
       "    </tr>\n",
       "    <tr>\n",
       "      <th>mean</th>\n",
       "      <td>4416.656776</td>\n",
       "      <td>2004.234448</td>\n",
       "      <td>110.094337</td>\n",
       "      <td>128211.172535</td>\n",
       "      <td>5.714645</td>\n",
       "      <td>0.0</td>\n",
       "      <td>50508.689087</td>\n",
       "    </tr>\n",
       "    <tr>\n",
       "      <th>std</th>\n",
       "      <td>4514.158514</td>\n",
       "      <td>90.227958</td>\n",
       "      <td>189.850405</td>\n",
       "      <td>37905.341530</td>\n",
       "      <td>3.726421</td>\n",
       "      <td>0.0</td>\n",
       "      <td>25783.096248</td>\n",
       "    </tr>\n",
       "    <tr>\n",
       "      <th>min</th>\n",
       "      <td>0.000000</td>\n",
       "      <td>1000.000000</td>\n",
       "      <td>0.000000</td>\n",
       "      <td>5000.000000</td>\n",
       "      <td>0.000000</td>\n",
       "      <td>0.0</td>\n",
       "      <td>1067.000000</td>\n",
       "    </tr>\n",
       "    <tr>\n",
       "      <th>25%</th>\n",
       "      <td>1050.000000</td>\n",
       "      <td>1999.000000</td>\n",
       "      <td>69.000000</td>\n",
       "      <td>125000.000000</td>\n",
       "      <td>3.000000</td>\n",
       "      <td>0.0</td>\n",
       "      <td>30165.000000</td>\n",
       "    </tr>\n",
       "    <tr>\n",
       "      <th>50%</th>\n",
       "      <td>2700.000000</td>\n",
       "      <td>2003.000000</td>\n",
       "      <td>105.000000</td>\n",
       "      <td>150000.000000</td>\n",
       "      <td>6.000000</td>\n",
       "      <td>0.0</td>\n",
       "      <td>49413.000000</td>\n",
       "    </tr>\n",
       "    <tr>\n",
       "      <th>75%</th>\n",
       "      <td>6400.000000</td>\n",
       "      <td>2008.000000</td>\n",
       "      <td>143.000000</td>\n",
       "      <td>150000.000000</td>\n",
       "      <td>9.000000</td>\n",
       "      <td>0.0</td>\n",
       "      <td>71083.000000</td>\n",
       "    </tr>\n",
       "    <tr>\n",
       "      <th>max</th>\n",
       "      <td>20000.000000</td>\n",
       "      <td>9999.000000</td>\n",
       "      <td>20000.000000</td>\n",
       "      <td>150000.000000</td>\n",
       "      <td>12.000000</td>\n",
       "      <td>0.0</td>\n",
       "      <td>99998.000000</td>\n",
       "    </tr>\n",
       "  </tbody>\n",
       "</table>\n",
       "</div>"
      ],
      "text/plain": [
       "               Price  RegistrationYear          Power      Kilometer  \\\n",
       "count  354369.000000     354369.000000  354369.000000  354369.000000   \n",
       "mean     4416.656776       2004.234448     110.094337  128211.172535   \n",
       "std      4514.158514         90.227958     189.850405   37905.341530   \n",
       "min         0.000000       1000.000000       0.000000    5000.000000   \n",
       "25%      1050.000000       1999.000000      69.000000  125000.000000   \n",
       "50%      2700.000000       2003.000000     105.000000  150000.000000   \n",
       "75%      6400.000000       2008.000000     143.000000  150000.000000   \n",
       "max     20000.000000       9999.000000   20000.000000  150000.000000   \n",
       "\n",
       "       RegistrationMonth  NumberOfPictures     PostalCode  \n",
       "count      354369.000000          354369.0  354369.000000  \n",
       "mean            5.714645               0.0   50508.689087  \n",
       "std             3.726421               0.0   25783.096248  \n",
       "min             0.000000               0.0    1067.000000  \n",
       "25%             3.000000               0.0   30165.000000  \n",
       "50%             6.000000               0.0   49413.000000  \n",
       "75%             9.000000               0.0   71083.000000  \n",
       "max            12.000000               0.0   99998.000000  "
      ]
     },
     "metadata": {},
     "output_type": "display_data"
    },
    {
     "name": "stdout",
     "output_type": "stream",
     "text": [
      "<class 'pandas.core.frame.DataFrame'>\n",
      "RangeIndex: 354369 entries, 0 to 354368\n",
      "Data columns (total 16 columns):\n",
      " #   Column             Non-Null Count   Dtype \n",
      "---  ------             --------------   ----- \n",
      " 0   DateCrawled        354369 non-null  object\n",
      " 1   Price              354369 non-null  int64 \n",
      " 2   VehicleType        316879 non-null  object\n",
      " 3   RegistrationYear   354369 non-null  int64 \n",
      " 4   Gearbox            334536 non-null  object\n",
      " 5   Power              354369 non-null  int64 \n",
      " 6   Model              334664 non-null  object\n",
      " 7   Kilometer          354369 non-null  int64 \n",
      " 8   RegistrationMonth  354369 non-null  int64 \n",
      " 9   FuelType           321474 non-null  object\n",
      " 10  Brand              354369 non-null  object\n",
      " 11  Repaired           283215 non-null  object\n",
      " 12  DateCreated        354369 non-null  object\n",
      " 13  NumberOfPictures   354369 non-null  int64 \n",
      " 14  PostalCode         354369 non-null  int64 \n",
      " 15  LastSeen           354369 non-null  object\n",
      "dtypes: int64(7), object(9)\n",
      "memory usage: 43.3+ MB\n"
     ]
    }
   ],
   "source": [
    "# Выведем датафрейм и изучим признаки\n",
    "try:\n",
    "    df = pd.read_csv('/datasets/autos.csv')\n",
    "except:\n",
    "    df = pd.read_csv('autos.csv')\n",
    "\n",
    "# Выведем датафрейм \n",
    "display(df)\n",
    "display(df.describe())\n",
    "df.info()"
   ]
  },
  {
   "cell_type": "code",
   "execution_count": 3,
   "metadata": {},
   "outputs": [],
   "source": [
    "# Создадим функцию, которая выведет количество пропущенных значений, дубликатов и уникальныъ значений таблиц\n",
    "def information(data):\n",
    "    for i in data.columns:\n",
    "        print(f'\\nУникальные значения {i}:\\n', data[i].unique())\n",
    "    print('\\nКоличество пропущенных значений:\\n', data.isna().sum())\n",
    "    print('\\nКоличество дубликатов в датафрейме:', data.duplicated().sum())"
   ]
  },
  {
   "cell_type": "code",
   "execution_count": 4,
   "metadata": {},
   "outputs": [
    {
     "name": "stdout",
     "output_type": "stream",
     "text": [
      "\n",
      "Уникальные значения DateCrawled:\n",
      " ['2016-03-24 11:52:17' '2016-03-24 10:58:45' '2016-03-14 12:52:21' ...\n",
      " '2016-03-21 09:50:58' '2016-03-14 17:48:27' '2016-03-19 18:57:12']\n",
      "\n",
      "Уникальные значения Price:\n",
      " [  480 18300  9800 ... 12395 18429 10985]\n",
      "\n",
      "Уникальные значения VehicleType:\n",
      " [nan 'coupe' 'suv' 'small' 'sedan' 'convertible' 'bus' 'wagon' 'other']\n",
      "\n",
      "Уникальные значения RegistrationYear:\n",
      " [1993 2011 2004 2001 2008 1995 1980 2014 1998 2005 1910 2016 2007 2009\n",
      " 2002 2018 1997 1990 2017 1981 2003 1994 1991 1984 2006 1999 2012 2010\n",
      " 2000 1992 2013 1996 1985 1989 2015 1982 1976 1983 1973 1111 1969 1971\n",
      " 1987 1986 1988 1970 1965 1945 1925 1974 1979 1955 1978 1972 1968 1977\n",
      " 1961 1960 1966 1975 1963 1964 5000 1954 1958 1967 1959 9999 1956 3200\n",
      " 1000 1941 8888 1500 2200 4100 1962 1929 1957 1940 3000 2066 1949 2019\n",
      " 1937 1951 1800 1953 1234 8000 5300 9000 2900 6000 5900 5911 1933 1400\n",
      " 1950 4000 1948 1952 1200 8500 1932 1255 3700 3800 4800 1942 7000 1935\n",
      " 1936 6500 1923 2290 2500 1930 1001 9450 1944 1943 1934 1938 1688 2800\n",
      " 1253 1928 1919 5555 5600 1600 2222 1039 9996 1300 8455 1931 1915 4500\n",
      " 1920 1602 7800 9229 1947 1927 7100 8200 1946 7500 3500]\n",
      "\n",
      "Уникальные значения Gearbox:\n",
      " ['manual' 'auto' nan]\n",
      "\n",
      "Уникальные значения Power:\n",
      " [    0   190   163    75    69   102   109    50   125   101   105   140\n",
      "   115   131    60   136   160   231    90   118   193    99   113   218\n",
      "   122   129    70   306    95    61   177    80   170    55   143    64\n",
      "   286   232   150   156    82   155    54   185    87   180    86    84\n",
      "   224   235   200   178   265    77   110   144   120   116   184   126\n",
      "   204    88   194   305   197   179   250    45   313    41   165    98\n",
      "   130   114   211    56   201   213    58   107    83   174   100   220\n",
      "    85    73   192    68    66   299    74    52   147    65   310    71\n",
      "    97   239   203     5   300   103   258   320    63    81   148    44\n",
      "   145   230   280   260   104   188   333   186   117   141    59   132\n",
      "   234   158    39    92    51   135    53   209    43   146    67   106\n",
      "   166   276   344    72   249   237   245   111   326   279    23   138\n",
      "   175    96   226    26    37   301   334   128   133   124    33   219\n",
      "   241   167    94   182   196   238  1398   228   112    48   272   139\n",
      "  1799    40   240    79   256   360   243   375   252   396   340   108\n",
      "   121   345   187   289   222   198   284   450   233   387   152   347\n",
      "   172    57   137   212   476   314    30     7    47   173   290   207\n",
      "   205   171   750    78    91    89   349   325    76   151   350   953\n",
      "    93   142   500   343   199   119   164    16   264   367   208   210\n",
      "    46   435  1001   225   127   176   161   603   307   354    35   206\n",
      "   771   355   273   223   255   123   154   149  7515  1400   268   620\n",
      "   169   400   275    34     2   242  1779   285   162   328  1753   329\n",
      "   134   420   247   168 10317   215    18   330   283    62    10   214\n",
      "   183   254    15   321   322   315   952   600   181   426   599   379\n",
      "   999    22   157    42   195   553     4   309   507   381   271   440\n",
      "   189   401  1111  2729    21   236  1240  1704   521     1  1900   270\n",
      "    24   159   292   808   515  1200   303    29    38  1993    14   216\n",
      "   610   504    49   267   331   363   261   385  1011   253   696 10520\n",
      "   376   227   311    27   217    20  1999    11  1056    25   394    12\n",
      "   298   296  1659   294   551  6920   246    17  1800  1625   368   390\n",
      "   221  1367   259   606   327  2017  1597   266   374   392     9   405\n",
      "    13   262   601   430   295     8   411   900   541  7512   382 10218\n",
      "  7544  1102   287    19   751   297  1090   457   282   602   388     6\n",
      "  1000  5411   335  1360   202  3750   805  1062  1024 11530   364  1796\n",
      "  5000   269   460  1002   288  1780 12012 17932   316  2005  1399   191\n",
      "   278  1300   380   257   449  1256   153  1653   520   560   281 12510\n",
      "     3  1500   386    32  1202  2016  1436  1405   671   274  1288  1055\n",
      " 10912 15016  6226  1115   277  1105   341  1223  2340  8404  1968   338\n",
      "   445  1920   370   517  4400 10710 10522  9010   431  1164 11509   371\n",
      "  1501   428 11635    36   304   348  1703  1910  1995   579 10000   580\n",
      "   408    31  1005   358  1403   489  5575 19211   585   960   365   353\n",
      "   490   352  1801   346   550  3199   800  7508  1312   357  1937   950\n",
      "  4700  1600  3454 19208   251   850   337   700  8011  2331  2789   487\n",
      "   519  2461  6006  3500  5815  6018  1781  1503   612  1596   229  1506\n",
      "  5809 15020  5867  2172  1598 17410  1363   584  1054   851  1339   318\n",
      "   510   525  1700    28  1151   685  6011   317   703  1771 15001   514\n",
      "   362   332   324  6045   530   425   308  6010   475   903   640  2000\n",
      "   248   651  2799 17011   505  1103  1521   351 16051   398  9000  1998\n",
      " 10311   409  1230 17019 12684  8259  1895   901  1317   871   909  2201\n",
      "  1595   776 17700 11011  1199   459  1162  1120 15033  1896   339   361\n",
      "   574  6512   454   650 13616   604   607 16312  1082   336 20000   416\n",
      "   678  6012  1401  1021  1870 13636  1250  9710   323  1158  2009   902\n",
      "  6062  1275   572   244   399  1016   743  1221  2402 16011  1362   544\n",
      "   645   907   702 12512  1986  1003  1432  9013  9011   442  1017  1394\n",
      " 15017 10910  1992   540  2018 11025  1433  1701  2792  1502  1239  1390\n",
      " 14009  1160  1351 11111  1783  9007   923  1149   754  1988   402  2004\n",
      "  5420  1793  1324   356  7511  1299   293 19312  1079  1689   998  1100\n",
      "  9012  1933   508 16311   682  1252  1922  7529   732  2389  2200  1707\n",
      "  1416  8500  1012   485  3000 10110   421  4507  1631  7518   377  1004\n",
      "  2007  2598  1548  1241]\n",
      "\n",
      "Уникальные значения Model:\n",
      " ['golf' nan 'grand' 'fabia' '3er' '2_reihe' 'other' 'c_max' '3_reihe'\n",
      " 'passat' 'navara' 'ka' 'polo' 'twingo' 'a_klasse' 'scirocco' '5er'\n",
      " 'meriva' 'arosa' 'c4' 'civic' 'transporter' 'punto' 'e_klasse' 'clio'\n",
      " 'kadett' 'kangoo' 'corsa' 'one' 'fortwo' '1er' 'b_klasse' 'signum'\n",
      " 'astra' 'a8' 'jetta' 'fiesta' 'c_klasse' 'micra' 'vito' 'sprinter' '156'\n",
      " 'escort' 'forester' 'xc_reihe' 'scenic' 'a4' 'a1' 'insignia' 'combo'\n",
      " 'focus' 'tt' 'a6' 'jazz' 'omega' 'slk' '7er' '80' '147' '100' 'z_reihe'\n",
      " 'sportage' 'sorento' 'v40' 'ibiza' 'mustang' 'eos' 'touran' 'getz' 'a3'\n",
      " 'almera' 'megane' 'lupo' 'r19' 'zafira' 'caddy' 'mondeo' 'cordoba' 'colt'\n",
      " 'impreza' 'vectra' 'berlingo' 'tiguan' 'i_reihe' 'espace' 'sharan'\n",
      " '6_reihe' 'panda' 'up' 'seicento' 'ceed' '5_reihe' 'yeti' 'octavia' 'mii'\n",
      " 'rx_reihe' '6er' 'modus' 'fox' 'matiz' 'beetle' 'c1' 'rio' 'touareg'\n",
      " 'logan' 'spider' 'cuore' 's_max' 'a2' 'galaxy' 'c3' 'viano' 's_klasse'\n",
      " '1_reihe' 'avensis' 'roomster' 'sl' 'kaefer' 'santa' 'cooper' 'leon'\n",
      " '4_reihe' 'a5' '500' 'laguna' 'ptcruiser' 'clk' 'primera' 'x_reihe'\n",
      " 'exeo' '159' 'transit' 'juke' 'qashqai' 'carisma' 'accord' 'corolla'\n",
      " 'lanos' 'phaeton' 'verso' 'swift' 'rav' 'picanto' 'boxster' 'kalos'\n",
      " 'superb' 'stilo' 'alhambra' 'mx_reihe' 'roadster' 'ypsilon' 'cayenne'\n",
      " 'galant' 'justy' '90' 'sirion' 'crossfire' 'agila' 'duster' 'cr_reihe'\n",
      " 'v50' 'c_reihe' 'v_klasse' 'm_klasse' 'yaris' 'c5' 'aygo' 'cc' 'carnival'\n",
      " 'fusion' '911' 'bora' 'forfour' 'm_reihe' 'cl' 'tigra' '300c' 'spark'\n",
      " 'v70' 'kuga' 'x_type' 'ducato' 's_type' 'x_trail' 'toledo' 'altea'\n",
      " 'voyager' 'calibra' 'bravo' 'antara' 'tucson' 'citigo' 'jimny' 'wrangler'\n",
      " 'lybra' 'q7' 'lancer' 'captiva' 'c2' 'discovery' 'freelander' 'sandero'\n",
      " 'note' '900' 'cherokee' 'clubman' 'samara' 'defender' '601' 'cx_reihe'\n",
      " 'legacy' 'pajero' 'auris' 'niva' 's60' 'nubira' 'vivaro' 'g_klasse'\n",
      " 'lodgy' '850' 'range_rover' 'q3' 'serie_2' 'glk' 'charade' 'croma'\n",
      " 'outlander' 'doblo' 'musa' 'move' '9000' 'v60' '145' 'aveo' '200' 'b_max'\n",
      " 'range_rover_sport' 'terios' 'rangerover' 'q5' 'range_rover_evoque'\n",
      " 'materia' 'delta' 'gl' 'kalina' 'amarok' 'elefantino' 'i3' 'kappa'\n",
      " 'serie_3' 'serie_1']\n",
      "\n",
      "Уникальные значения Kilometer:\n",
      " [150000 125000  90000  40000  30000  70000   5000 100000  60000  20000\n",
      "  80000  50000  10000]\n",
      "\n",
      "Уникальные значения RegistrationMonth:\n",
      " [ 0  5  8  6  7 10 12 11  2  3  1  4  9]\n",
      "\n",
      "Уникальные значения FuelType:\n",
      " ['petrol' 'gasoline' nan 'lpg' 'other' 'hybrid' 'cng' 'electric']\n",
      "\n",
      "Уникальные значения Brand:\n",
      " ['volkswagen' 'audi' 'jeep' 'skoda' 'bmw' 'peugeot' 'ford' 'mazda'\n",
      " 'nissan' 'renault' 'mercedes_benz' 'opel' 'seat' 'citroen' 'honda' 'fiat'\n",
      " 'mini' 'smart' 'hyundai' 'sonstige_autos' 'alfa_romeo' 'subaru' 'volvo'\n",
      " 'mitsubishi' 'kia' 'suzuki' 'lancia' 'toyota' 'chevrolet' 'dacia'\n",
      " 'daihatsu' 'trabant' 'saab' 'chrysler' 'jaguar' 'daewoo' 'porsche'\n",
      " 'rover' 'land_rover' 'lada']\n",
      "\n",
      "Уникальные значения Repaired:\n",
      " [nan 'yes' 'no']\n",
      "\n",
      "Уникальные значения DateCreated:\n",
      " ['2016-03-24 00:00:00' '2016-03-14 00:00:00' '2016-03-17 00:00:00'\n",
      " '2016-03-31 00:00:00' '2016-04-04 00:00:00' '2016-04-01 00:00:00'\n",
      " '2016-03-21 00:00:00' '2016-03-26 00:00:00' '2016-04-07 00:00:00'\n",
      " '2016-03-15 00:00:00' '2016-03-11 00:00:00' '2016-03-20 00:00:00'\n",
      " '2016-03-23 00:00:00' '2016-03-27 00:00:00' '2016-03-12 00:00:00'\n",
      " '2016-03-13 00:00:00' '2016-03-18 00:00:00' '2016-03-10 00:00:00'\n",
      " '2016-03-07 00:00:00' '2016-03-09 00:00:00' '2016-03-08 00:00:00'\n",
      " '2016-04-03 00:00:00' '2016-03-29 00:00:00' '2016-03-25 00:00:00'\n",
      " '2016-03-28 00:00:00' '2016-03-30 00:00:00' '2016-03-22 00:00:00'\n",
      " '2016-02-09 00:00:00' '2016-03-05 00:00:00' '2016-04-02 00:00:00'\n",
      " '2016-03-16 00:00:00' '2016-03-19 00:00:00' '2016-04-05 00:00:00'\n",
      " '2016-03-06 00:00:00' '2016-02-12 00:00:00' '2016-03-03 00:00:00'\n",
      " '2016-03-01 00:00:00' '2016-03-04 00:00:00' '2016-04-06 00:00:00'\n",
      " '2016-02-15 00:00:00' '2016-02-24 00:00:00' '2016-02-27 00:00:00'\n",
      " '2015-03-20 00:00:00' '2016-02-28 00:00:00' '2016-02-17 00:00:00'\n",
      " '2016-01-27 00:00:00' '2016-02-20 00:00:00' '2016-02-29 00:00:00'\n",
      " '2016-02-10 00:00:00' '2016-02-23 00:00:00' '2016-02-21 00:00:00'\n",
      " '2015-11-02 00:00:00' '2016-02-19 00:00:00' '2016-02-26 00:00:00'\n",
      " '2016-02-11 00:00:00' '2016-01-10 00:00:00' '2016-02-06 00:00:00'\n",
      " '2016-02-18 00:00:00' '2016-01-29 00:00:00' '2016-03-02 00:00:00'\n",
      " '2015-12-06 00:00:00' '2016-01-24 00:00:00' '2016-01-30 00:00:00'\n",
      " '2016-02-02 00:00:00' '2016-02-16 00:00:00' '2016-02-13 00:00:00'\n",
      " '2016-02-05 00:00:00' '2016-02-22 00:00:00' '2015-11-17 00:00:00'\n",
      " '2014-03-10 00:00:00' '2016-02-07 00:00:00' '2016-01-23 00:00:00'\n",
      " '2016-02-25 00:00:00' '2016-02-14 00:00:00' '2016-01-02 00:00:00'\n",
      " '2015-09-04 00:00:00' '2015-11-12 00:00:00' '2015-12-27 00:00:00'\n",
      " '2015-11-24 00:00:00' '2016-01-20 00:00:00' '2016-02-03 00:00:00'\n",
      " '2015-12-05 00:00:00' '2015-08-07 00:00:00' '2016-01-28 00:00:00'\n",
      " '2016-01-31 00:00:00' '2016-02-08 00:00:00' '2016-01-07 00:00:00'\n",
      " '2016-01-22 00:00:00' '2016-01-18 00:00:00' '2016-01-08 00:00:00'\n",
      " '2015-11-23 00:00:00' '2016-01-13 00:00:00' '2016-01-17 00:00:00'\n",
      " '2016-01-15 00:00:00' '2015-11-08 00:00:00' '2016-01-26 00:00:00'\n",
      " '2016-02-04 00:00:00' '2016-01-25 00:00:00' '2016-01-16 00:00:00'\n",
      " '2015-08-10 00:00:00' '2016-01-03 00:00:00' '2016-01-19 00:00:00'\n",
      " '2015-12-30 00:00:00' '2016-02-01 00:00:00' '2015-12-17 00:00:00'\n",
      " '2015-11-10 00:00:00' '2016-01-06 00:00:00' '2015-09-09 00:00:00'\n",
      " '2015-06-18 00:00:00']\n",
      "\n",
      "Уникальные значения NumberOfPictures:\n",
      " [0]\n",
      "\n",
      "Уникальные значения PostalCode:\n",
      " [70435 66954 90480 ... 38528 38325 31096]\n",
      "\n",
      "Уникальные значения LastSeen:\n",
      " ['2016-04-07 03:16:57' '2016-04-07 01:46:50' '2016-04-05 12:47:46' ...\n",
      " '2016-03-19 20:44:43' '2016-03-29 10:17:23' '2016-03-21 10:42:49']\n",
      "\n",
      "Количество пропущенных значений:\n",
      " DateCrawled              0\n",
      "Price                    0\n",
      "VehicleType          37490\n",
      "RegistrationYear         0\n",
      "Gearbox              19833\n",
      "Power                    0\n",
      "Model                19705\n",
      "Kilometer                0\n",
      "RegistrationMonth        0\n",
      "FuelType             32895\n",
      "Brand                    0\n",
      "Repaired             71154\n",
      "DateCreated              0\n",
      "NumberOfPictures         0\n",
      "PostalCode               0\n",
      "LastSeen                 0\n",
      "dtype: int64\n",
      "\n",
      "Количество дубликатов в датафрейме: 4\n"
     ]
    }
   ],
   "source": [
    "# Получим информацию по нашему датафрейму\n",
    "information(df)"
   ]
  },
  {
   "cell_type": "markdown",
   "metadata": {},
   "source": [
    "**Вывод:** \n",
    "* В датафрейме присутствуют таблицы, в которых необходимо изменить формат на дату (DateCrawled, DateCreated, LastSeen)\n",
    "* Столбец года регистрации автомобиля (RegistrationYear) скоректируем по правильным годам\n",
    "* Отсеим значения цены равное 0.\n",
    "* Столбец значения месяца заменим с помощью рандомных чисел в диапозоне от 1 до 12.\n",
    "* Значения таблицы тип топлива (FuelType), пустые значения заменим на other\n",
    "* Заменим пустые значения таблицы модели машины (Model) на other\n",
    "* Столбец типа коробки передач (Gearbox) заполним пустые значения на другое (other), так как помимо механической и автомотизированной коробки передач, есть еще роботизированные и Вариативная (бесступенчатая) коробки переключения передач.\n",
    "* Произведем замены в таблице NotRepaired и заменим пропущенные значения на unknown.\n",
    "* Подкариктируем столбец мощности (Power) \n",
    "* Заменим пустые значения в таблице тип автомобильного кузова (VehicleType) по модели (Model).\n",
    "* Удалим дубликаты\n",
    "* Удалим ненужные столбцы мешающие обучению модели\n",
    "\n"
   ]
  },
  {
   "cell_type": "markdown",
   "metadata": {},
   "source": [
    "### Обработка таблиц  DateCrawled, DateCreated, LastSeen"
   ]
  },
  {
   "cell_type": "code",
   "execution_count": 5,
   "metadata": {},
   "outputs": [
    {
     "data": {
      "text/plain": [
       "DateCrawled          datetime64[ns]\n",
       "Price                         int64\n",
       "VehicleType                  object\n",
       "RegistrationYear              int64\n",
       "Gearbox                      object\n",
       "Power                         int64\n",
       "Model                        object\n",
       "Kilometer                     int64\n",
       "RegistrationMonth             int64\n",
       "FuelType                     object\n",
       "Brand                        object\n",
       "Repaired                     object\n",
       "DateCreated          datetime64[ns]\n",
       "NumberOfPictures              int64\n",
       "PostalCode                    int64\n",
       "LastSeen             datetime64[ns]\n",
       "dtype: object"
      ]
     },
     "execution_count": 5,
     "metadata": {},
     "output_type": "execute_result"
    }
   ],
   "source": [
    "# Изменим формат перечисленных таблиц на формат даты и время с помощью метода apply\n",
    "df[['DateCrawled', 'DateCreated', 'LastSeen']] = df[['DateCrawled', \n",
    "                                                     'DateCreated', \n",
    "                                                     'LastSeen']].apply(pd.to_datetime,\n",
    "                                                                        format='%Y-%m-%d %H:%M:%S')\n",
    "# Проверим полученные изменения\n",
    "df.dtypes"
   ]
  },
  {
   "cell_type": "markdown",
   "metadata": {},
   "source": [
    "Теперь определим когда в последний раз были скачены анкеты из базы, а также определим, когда были созданы первые анкеты"
   ]
  },
  {
   "cell_type": "code",
   "execution_count": 6,
   "metadata": {},
   "outputs": [
    {
     "data": {
      "text/plain": [
       "90713    2016-04-07 14:36:58\n",
       "339649   2016-04-07 14:36:56\n",
       "301030   2016-04-07 14:36:55\n",
       "53739    2016-04-07 14:36:54\n",
       "204218   2016-04-07 14:36:53\n",
       "                 ...        \n",
       "99885    2016-03-05 14:06:24\n",
       "324763   2016-03-05 14:06:24\n",
       "176823   2016-03-05 14:06:24\n",
       "220583   2016-03-05 14:06:23\n",
       "329497   2016-03-05 14:06:22\n",
       "Name: DateCrawled, Length: 354369, dtype: datetime64[ns]"
      ]
     },
     "execution_count": 6,
     "metadata": {},
     "output_type": "execute_result"
    }
   ],
   "source": [
    "# Выведем таблицу с датами скачиванния анкеты из базы\n",
    "df['DateCrawled'].sort_values(ascending=False)"
   ]
  },
  {
   "cell_type": "code",
   "execution_count": 7,
   "metadata": {},
   "outputs": [
    {
     "data": {
      "text/plain": [
       "323825   2016-04-07\n",
       "238423   2016-04-07\n",
       "218464   2016-04-07\n",
       "8823     2016-04-07\n",
       "136456   2016-04-07\n",
       "            ...    \n",
       "175103   2015-08-10\n",
       "86601    2015-08-07\n",
       "342275   2015-06-18\n",
       "4001     2015-03-20\n",
       "61207    2014-03-10\n",
       "Name: DateCreated, Length: 354369, dtype: datetime64[ns]"
      ]
     },
     "execution_count": 7,
     "metadata": {},
     "output_type": "execute_result"
    }
   ],
   "source": [
    "# Выведем таблицу с датой создания анкеты \n",
    "df['DateCreated'].sort_values(ascending=False)"
   ]
  },
  {
   "cell_type": "markdown",
   "metadata": {},
   "source": [
    "**Вывод:** Последний раз анкеты с базами данных вытаскивали 7 апреля 2016 года, а первая же публикация анкеты была зафиксированна 10 марта 2014 года. Так как нам необходимо скоректировать столбец с годами регистрации автомобиля, то максимальный порог зафиксируем на 2016 годе. "
   ]
  },
  {
   "cell_type": "markdown",
   "metadata": {},
   "source": [
    "### Обработка таблицы RegistrationYear"
   ]
  },
  {
   "cell_type": "code",
   "execution_count": null,
   "metadata": {},
   "outputs": [],
   "source": []
  },
  {
   "cell_type": "code",
   "execution_count": 8,
   "metadata": {},
   "outputs": [
    {
     "data": {
      "text/plain": [
       "70     1000\n",
       "118    1001\n",
       "133    1039\n",
       "39     1111\n",
       "102    1200\n",
       "       ... \n",
       "91     9000\n",
       "143    9229\n",
       "119    9450\n",
       "134    9996\n",
       "67     9999\n",
       "Length: 151, dtype: int64"
      ]
     },
     "execution_count": 8,
     "metadata": {},
     "output_type": "execute_result"
    }
   ],
   "source": [
    "pd.Series(df['RegistrationYear'].unique()).sort_values()"
   ]
  },
  {
   "cell_type": "code",
   "execution_count": 9,
   "metadata": {},
   "outputs": [
    {
     "data": {
      "image/png": "[encoded data removed]",
      "text/plain": [
       "<Figure size 1080x720 with 1 Axes>"
      ]
     },
     "metadata": {
      "needs_background": "light"
     },
     "output_type": "display_data"
    }
   ],
   "source": [
    "# Построим график года регистрации автомобиля по уникальным значениям в столбце\n",
    "pd.Series(df['RegistrationYear'].unique()).sort_values().hist(bins=100, \n",
    "                                                              figsize=(15,10), \n",
    "                                                              color='tomato');"
   ]
  },
  {
   "cell_type": "markdown",
   "metadata": {},
   "source": [
    "Установим диапозон значений регистраций автомобиля в диапозоне с 1900 года по 2017 год, так активная регистрация и автомобилей началось имненно в 19 веке."
   ]
  },
  {
   "cell_type": "code",
   "execution_count": 10,
   "metadata": {},
   "outputs": [],
   "source": [
    "# Устанавливаем диапозон значений регистраций автомобилей\n",
    "df=df.query('1900 <= RegistrationYear < 2017')"
   ]
  },
  {
   "cell_type": "code",
   "execution_count": 11,
   "metadata": {},
   "outputs": [
    {
     "data": {
      "image/png": "[encoded data removed]",
      "text/plain": [
       "<Figure size 1080x720 with 1 Axes>"
      ]
     },
     "metadata": {
      "needs_background": "light"
     },
     "output_type": "display_data"
    }
   ],
   "source": [
    "# Построим график года регистрации автомобиля\n",
    "df['RegistrationYear'].hist(bins=70, figsize=(15,10), color='tomato');"
   ]
  },
  {
   "cell_type": "markdown",
   "metadata": {},
   "source": [
    "### Обработка таблицы Price"
   ]
  },
  {
   "cell_type": "code",
   "execution_count": 12,
   "metadata": {},
   "outputs": [
    {
     "data": {
      "text/html": [
       "<div>\n",
       "<style scoped>\n",
       "    .dataframe tbody tr th:only-of-type {\n",
       "        vertical-align: middle;\n",
       "    }\n",
       "\n",
       "    .dataframe tbody tr th {\n",
       "        vertical-align: top;\n",
       "    }\n",
       "\n",
       "    .dataframe thead th {\n",
       "        text-align: right;\n",
       "    }\n",
       "</style>\n",
       "<table border=\"1\" class=\"dataframe\">\n",
       "  <thead>\n",
       "    <tr style=\"text-align: right;\">\n",
       "      <th></th>\n",
       "      <th>DateCrawled</th>\n",
       "      <th>Price</th>\n",
       "      <th>VehicleType</th>\n",
       "      <th>RegistrationYear</th>\n",
       "      <th>Gearbox</th>\n",
       "      <th>Power</th>\n",
       "      <th>Model</th>\n",
       "      <th>Kilometer</th>\n",
       "      <th>RegistrationMonth</th>\n",
       "      <th>FuelType</th>\n",
       "      <th>Brand</th>\n",
       "      <th>Repaired</th>\n",
       "      <th>DateCreated</th>\n",
       "      <th>NumberOfPictures</th>\n",
       "      <th>PostalCode</th>\n",
       "      <th>LastSeen</th>\n",
       "    </tr>\n",
       "  </thead>\n",
       "  <tbody>\n",
       "    <tr>\n",
       "      <th>7</th>\n",
       "      <td>2016-03-21 18:54:38</td>\n",
       "      <td>0</td>\n",
       "      <td>sedan</td>\n",
       "      <td>1980</td>\n",
       "      <td>manual</td>\n",
       "      <td>50</td>\n",
       "      <td>other</td>\n",
       "      <td>40000</td>\n",
       "      <td>7</td>\n",
       "      <td>petrol</td>\n",
       "      <td>volkswagen</td>\n",
       "      <td>no</td>\n",
       "      <td>2016-03-21</td>\n",
       "      <td>0</td>\n",
       "      <td>19348</td>\n",
       "      <td>2016-03-25 16:47:58</td>\n",
       "    </tr>\n",
       "    <tr>\n",
       "      <th>40</th>\n",
       "      <td>2016-03-26 22:06:17</td>\n",
       "      <td>0</td>\n",
       "      <td>NaN</td>\n",
       "      <td>1990</td>\n",
       "      <td>NaN</td>\n",
       "      <td>0</td>\n",
       "      <td>corsa</td>\n",
       "      <td>150000</td>\n",
       "      <td>1</td>\n",
       "      <td>petrol</td>\n",
       "      <td>opel</td>\n",
       "      <td>NaN</td>\n",
       "      <td>2016-03-26</td>\n",
       "      <td>0</td>\n",
       "      <td>56412</td>\n",
       "      <td>2016-03-27 17:43:34</td>\n",
       "    </tr>\n",
       "    <tr>\n",
       "      <th>115</th>\n",
       "      <td>2016-03-20 18:53:27</td>\n",
       "      <td>0</td>\n",
       "      <td>small</td>\n",
       "      <td>1999</td>\n",
       "      <td>NaN</td>\n",
       "      <td>0</td>\n",
       "      <td>NaN</td>\n",
       "      <td>5000</td>\n",
       "      <td>0</td>\n",
       "      <td>petrol</td>\n",
       "      <td>volkswagen</td>\n",
       "      <td>NaN</td>\n",
       "      <td>2016-03-20</td>\n",
       "      <td>0</td>\n",
       "      <td>37520</td>\n",
       "      <td>2016-04-07 02:45:22</td>\n",
       "    </tr>\n",
       "    <tr>\n",
       "      <th>152</th>\n",
       "      <td>2016-03-11 18:55:53</td>\n",
       "      <td>0</td>\n",
       "      <td>bus</td>\n",
       "      <td>2004</td>\n",
       "      <td>manual</td>\n",
       "      <td>101</td>\n",
       "      <td>meriva</td>\n",
       "      <td>150000</td>\n",
       "      <td>10</td>\n",
       "      <td>lpg</td>\n",
       "      <td>opel</td>\n",
       "      <td>yes</td>\n",
       "      <td>2016-03-11</td>\n",
       "      <td>0</td>\n",
       "      <td>27432</td>\n",
       "      <td>2016-03-12 23:47:10</td>\n",
       "    </tr>\n",
       "    <tr>\n",
       "      <th>154</th>\n",
       "      <td>2016-03-22 16:37:59</td>\n",
       "      <td>0</td>\n",
       "      <td>NaN</td>\n",
       "      <td>2006</td>\n",
       "      <td>NaN</td>\n",
       "      <td>0</td>\n",
       "      <td>other</td>\n",
       "      <td>5000</td>\n",
       "      <td>0</td>\n",
       "      <td>NaN</td>\n",
       "      <td>fiat</td>\n",
       "      <td>NaN</td>\n",
       "      <td>2016-03-22</td>\n",
       "      <td>0</td>\n",
       "      <td>44867</td>\n",
       "      <td>2016-04-06 06:17:56</td>\n",
       "    </tr>\n",
       "    <tr>\n",
       "      <th>...</th>\n",
       "      <td>...</td>\n",
       "      <td>...</td>\n",
       "      <td>...</td>\n",
       "      <td>...</td>\n",
       "      <td>...</td>\n",
       "      <td>...</td>\n",
       "      <td>...</td>\n",
       "      <td>...</td>\n",
       "      <td>...</td>\n",
       "      <td>...</td>\n",
       "      <td>...</td>\n",
       "      <td>...</td>\n",
       "      <td>...</td>\n",
       "      <td>...</td>\n",
       "      <td>...</td>\n",
       "      <td>...</td>\n",
       "    </tr>\n",
       "    <tr>\n",
       "      <th>354205</th>\n",
       "      <td>2016-03-09 15:56:30</td>\n",
       "      <td>0</td>\n",
       "      <td>NaN</td>\n",
       "      <td>2000</td>\n",
       "      <td>manual</td>\n",
       "      <td>65</td>\n",
       "      <td>corsa</td>\n",
       "      <td>150000</td>\n",
       "      <td>0</td>\n",
       "      <td>NaN</td>\n",
       "      <td>opel</td>\n",
       "      <td>yes</td>\n",
       "      <td>2016-03-09</td>\n",
       "      <td>0</td>\n",
       "      <td>23758</td>\n",
       "      <td>2016-03-30 11:16:08</td>\n",
       "    </tr>\n",
       "    <tr>\n",
       "      <th>354238</th>\n",
       "      <td>2016-03-20 14:55:07</td>\n",
       "      <td>0</td>\n",
       "      <td>small</td>\n",
       "      <td>2002</td>\n",
       "      <td>manual</td>\n",
       "      <td>60</td>\n",
       "      <td>fiesta</td>\n",
       "      <td>150000</td>\n",
       "      <td>3</td>\n",
       "      <td>petrol</td>\n",
       "      <td>ford</td>\n",
       "      <td>NaN</td>\n",
       "      <td>2016-03-20</td>\n",
       "      <td>0</td>\n",
       "      <td>33659</td>\n",
       "      <td>2016-04-06 18:45:23</td>\n",
       "    </tr>\n",
       "    <tr>\n",
       "      <th>354248</th>\n",
       "      <td>2016-03-24 13:48:05</td>\n",
       "      <td>0</td>\n",
       "      <td>small</td>\n",
       "      <td>1999</td>\n",
       "      <td>manual</td>\n",
       "      <td>53</td>\n",
       "      <td>swift</td>\n",
       "      <td>150000</td>\n",
       "      <td>3</td>\n",
       "      <td>petrol</td>\n",
       "      <td>suzuki</td>\n",
       "      <td>NaN</td>\n",
       "      <td>2016-03-24</td>\n",
       "      <td>0</td>\n",
       "      <td>42329</td>\n",
       "      <td>2016-04-07 05:17:24</td>\n",
       "    </tr>\n",
       "    <tr>\n",
       "      <th>354277</th>\n",
       "      <td>2016-03-10 22:55:50</td>\n",
       "      <td>0</td>\n",
       "      <td>small</td>\n",
       "      <td>1999</td>\n",
       "      <td>manual</td>\n",
       "      <td>37</td>\n",
       "      <td>arosa</td>\n",
       "      <td>150000</td>\n",
       "      <td>7</td>\n",
       "      <td>petrol</td>\n",
       "      <td>seat</td>\n",
       "      <td>yes</td>\n",
       "      <td>2016-03-10</td>\n",
       "      <td>0</td>\n",
       "      <td>22559</td>\n",
       "      <td>2016-03-12 23:46:32</td>\n",
       "    </tr>\n",
       "    <tr>\n",
       "      <th>354364</th>\n",
       "      <td>2016-03-21 09:50:58</td>\n",
       "      <td>0</td>\n",
       "      <td>NaN</td>\n",
       "      <td>2005</td>\n",
       "      <td>manual</td>\n",
       "      <td>0</td>\n",
       "      <td>colt</td>\n",
       "      <td>150000</td>\n",
       "      <td>7</td>\n",
       "      <td>petrol</td>\n",
       "      <td>mitsubishi</td>\n",
       "      <td>yes</td>\n",
       "      <td>2016-03-21</td>\n",
       "      <td>0</td>\n",
       "      <td>2694</td>\n",
       "      <td>2016-03-21 10:42:49</td>\n",
       "    </tr>\n",
       "  </tbody>\n",
       "</table>\n",
       "<p>10008 rows × 16 columns</p>\n",
       "</div>"
      ],
      "text/plain": [
       "               DateCrawled  Price VehicleType  RegistrationYear Gearbox  \\\n",
       "7      2016-03-21 18:54:38      0       sedan              1980  manual   \n",
       "40     2016-03-26 22:06:17      0         NaN              1990     NaN   \n",
       "115    2016-03-20 18:53:27      0       small              1999     NaN   \n",
       "152    2016-03-11 18:55:53      0         bus              2004  manual   \n",
       "154    2016-03-22 16:37:59      0         NaN              2006     NaN   \n",
       "...                    ...    ...         ...               ...     ...   \n",
       "354205 2016-03-09 15:56:30      0         NaN              2000  manual   \n",
       "354238 2016-03-20 14:55:07      0       small              2002  manual   \n",
       "354248 2016-03-24 13:48:05      0       small              1999  manual   \n",
       "354277 2016-03-10 22:55:50      0       small              1999  manual   \n",
       "354364 2016-03-21 09:50:58      0         NaN              2005  manual   \n",
       "\n",
       "        Power   Model  Kilometer  RegistrationMonth FuelType       Brand  \\\n",
       "7          50   other      40000                  7   petrol  volkswagen   \n",
       "40          0   corsa     150000                  1   petrol        opel   \n",
       "115         0     NaN       5000                  0   petrol  volkswagen   \n",
       "152       101  meriva     150000                 10      lpg        opel   \n",
       "154         0   other       5000                  0      NaN        fiat   \n",
       "...       ...     ...        ...                ...      ...         ...   \n",
       "354205     65   corsa     150000                  0      NaN        opel   \n",
       "354238     60  fiesta     150000                  3   petrol        ford   \n",
       "354248     53   swift     150000                  3   petrol      suzuki   \n",
       "354277     37   arosa     150000                  7   petrol        seat   \n",
       "354364      0    colt     150000                  7   petrol  mitsubishi   \n",
       "\n",
       "       Repaired DateCreated  NumberOfPictures  PostalCode            LastSeen  \n",
       "7            no  2016-03-21                 0       19348 2016-03-25 16:47:58  \n",
       "40          NaN  2016-03-26                 0       56412 2016-03-27 17:43:34  \n",
       "115         NaN  2016-03-20                 0       37520 2016-04-07 02:45:22  \n",
       "152         yes  2016-03-11                 0       27432 2016-03-12 23:47:10  \n",
       "154         NaN  2016-03-22                 0       44867 2016-04-06 06:17:56  \n",
       "...         ...         ...               ...         ...                 ...  \n",
       "354205      yes  2016-03-09                 0       23758 2016-03-30 11:16:08  \n",
       "354238      NaN  2016-03-20                 0       33659 2016-04-06 18:45:23  \n",
       "354248      NaN  2016-03-24                 0       42329 2016-04-07 05:17:24  \n",
       "354277      yes  2016-03-10                 0       22559 2016-03-12 23:46:32  \n",
       "354364      yes  2016-03-21                 0        2694 2016-03-21 10:42:49  \n",
       "\n",
       "[10008 rows x 16 columns]"
      ]
     },
     "execution_count": 12,
     "metadata": {},
     "output_type": "execute_result"
    },
    {
     "data": {
      "image/png": "[encoded data removed]",
      "text/plain": [
       "<Figure size 1080x720 with 1 Axes>"
      ]
     },
     "metadata": {
      "needs_background": "light"
     },
     "output_type": "display_data"
    }
   ],
   "source": [
    "# Проверим целевой признак цены по графику\n",
    "df['Price'].hist(bins=100, figsize=(15,10), color='blue');\n",
    "\n",
    "# Проверим сколько данных имют нулевую цену\n",
    "df.query('Price==0')"
   ]
  },
  {
   "cell_type": "markdown",
   "metadata": {},
   "source": [
    "**Вывод:** 10772 значения имеют нулевую цену, установим минимальное значение стоимости автомобиля."
   ]
  },
  {
   "cell_type": "code",
   "execution_count": 13,
   "metadata": {},
   "outputs": [
    {
     "data": {
      "image/png": "[encoded data removed]",
      "text/plain": [
       "<Figure size 1080x720 with 1 Axes>"
      ]
     },
     "metadata": {
      "needs_background": "light"
     },
     "output_type": "display_data"
    }
   ],
   "source": [
    "# Отсеим значения меньше 200 евро\n",
    "df = df.query('Price>200')\n",
    "\n",
    "# Проверим целевой признак цены по графику\n",
    "df['Price'].hist(bins=100, figsize=(15,10), color='blue');\n"
   ]
  },
  {
   "cell_type": "markdown",
   "metadata": {},
   "source": [
    "### Обработка таблицы RegistrationMonth"
   ]
  },
  {
   "cell_type": "code",
   "execution_count": 14,
   "metadata": {},
   "outputs": [],
   "source": [
    "# Создадим генерацию случайных чисел в диапозоне от 1 до 12 и сохраним в переменную d\n",
    "d = random.randint(1,12)"
   ]
  },
  {
   "cell_type": "code",
   "execution_count": 15,
   "metadata": {},
   "outputs": [
    {
     "data": {
      "text/plain": [
       "array([ 9,  5,  8,  6,  7, 10, 12, 11,  2,  3,  1,  4])"
      ]
     },
     "execution_count": 15,
     "metadata": {},
     "output_type": "execute_result"
    }
   ],
   "source": [
    "# Передадим значения с числами 0 значения случайных чисел\n",
    "df.loc[df['RegistrationMonth'] == 0,'RegistrationMonth'] = d\n",
    "\n",
    "# Проверим количество уникальных значений \n",
    "df['RegistrationMonth'].unique()"
   ]
  },
  {
   "cell_type": "markdown",
   "metadata": {},
   "source": [
    "### Обработка таблиц FuelType, Gearbox, Model"
   ]
  },
  {
   "cell_type": "code",
   "execution_count": 16,
   "metadata": {},
   "outputs": [
    {
     "data": {
      "text/plain": [
       "array(['petrol', 'gasoline', 'other', 'lpg', 'hybrid', 'cng', 'electric'],\n",
       "      dtype=object)"
      ]
     },
     "execution_count": 16,
     "metadata": {},
     "output_type": "execute_result"
    }
   ],
   "source": [
    "# Заполняем пустые значения в таблицах на other\n",
    "df[['FuelType', 'Gearbox', 'Model']] = df[['FuelType', 'Gearbox', 'Model']].fillna('other')\n",
    "\n",
    "# Проверим произведенные замены\n",
    "df['FuelType'].unique()"
   ]
  },
  {
   "cell_type": "markdown",
   "metadata": {},
   "source": [
    "### Обработка таблицы Power"
   ]
  },
  {
   "cell_type": "code",
   "execution_count": 17,
   "metadata": {},
   "outputs": [
    {
     "data": {
      "image/png": "[encoded data removed]",
      "text/plain": [
       "<Figure size 1080x720 with 1 Axes>"
      ]
     },
     "metadata": {
      "needs_background": "light"
     },
     "output_type": "display_data"
    }
   ],
   "source": [
    "pd.Series(df['Power'].unique()).sort_values().hist(bins=100, figsize=(15,10), color='red');"
   ]
  },
  {
   "cell_type": "markdown",
   "metadata": {},
   "source": [
    "Выставим диапозон мощностей двигателей от 10 до 2000 л.с. выше этого значеня машин не существует. "
   ]
  },
  {
   "cell_type": "code",
   "execution_count": 18,
   "metadata": {},
   "outputs": [
    {
     "data": {
      "image/png": "[encoded data removed]",
      "text/plain": [
       "<Figure size 1080x720 with 1 Axes>"
      ]
     },
     "metadata": {
      "needs_background": "light"
     },
     "output_type": "display_data"
    }
   ],
   "source": [
    "# Отсеим значения меньше 0\n",
    "df = df.query('10<Power<2000')\n",
    "# Проверим целевой признак цены по графику\n",
    "df['Power'].hist(bins=100, figsize=(15,10), color='red');"
   ]
  },
  {
   "cell_type": "markdown",
   "metadata": {},
   "source": [
    "### Обработка таблицы Repaired"
   ]
  },
  {
   "cell_type": "code",
   "execution_count": 19,
   "metadata": {},
   "outputs": [
    {
     "data": {
      "text/plain": [
       "array(['yes', 'unknown', 'no'], dtype=object)"
      ]
     },
     "execution_count": 19,
     "metadata": {},
     "output_type": "execute_result"
    }
   ],
   "source": [
    "# Заменим пустые значения на unknown\n",
    "df['Repaired'] = df['Repaired'].fillna('unknown')\n",
    "df['Repaired'].unique()"
   ]
  },
  {
   "cell_type": "markdown",
   "metadata": {},
   "source": [
    "### Обработка таблицы VehicleType"
   ]
  },
  {
   "cell_type": "code",
   "execution_count": 20,
   "metadata": {},
   "outputs": [
    {
     "data": {
      "text/plain": [
       "Model\n",
       "100                  [sedan, wagon, nan, coupe, convertible]\n",
       "145                        [small, sedan, coupe, nan, other]\n",
       "147                 [sedan, small, wagon, coupe, nan, other]\n",
       "156                        [wagon, sedan, nan, coupe, small]\n",
       "159                                      [sedan, wagon, nan]\n",
       "                                 ...                        \n",
       "yaris                 [small, bus, other, nan, wagon, sedan]\n",
       "yeti                                [suv, nan, other, wagon]\n",
       "ypsilon                                         [small, nan]\n",
       "z_reihe                          [convertible, coupe, sedan]\n",
       "zafira     [bus, nan, other, wagon, small, sedan, suv, co...\n",
       "Name: VehicleType, Length: 249, dtype: object"
      ]
     },
     "execution_count": 20,
     "metadata": {},
     "output_type": "execute_result"
    }
   ],
   "source": [
    "# Создадим данные из таблиц по моделям\n",
    "sk = df.groupby('Model')['VehicleType'].agg('unique')\n",
    "sk"
   ]
  },
  {
   "cell_type": "markdown",
   "metadata": {},
   "source": [
    "Отсеим пустые значения, но так чтобы они данные таблицы VehicleType, заполнялись по определенной модели."
   ]
  },
  {
   "cell_type": "code",
   "execution_count": 21,
   "metadata": {},
   "outputs": [
    {
     "data": {
      "text/plain": [
       "1               coupe\n",
       "2                 suv\n",
       "3               small\n",
       "4               small\n",
       "5               sedan\n",
       "             ...     \n",
       "354361          sedan\n",
       "354362          sedan\n",
       "354366    convertible\n",
       "354367            bus\n",
       "354368          wagon\n",
       "Name: VehicleType, Length: 291367, dtype: object"
      ]
     },
     "execution_count": 21,
     "metadata": {},
     "output_type": "execute_result"
    }
   ],
   "source": [
    "# Отсеим  пустые значения с помощью метода mode\n",
    "df['VehicleType'] = df['VehicleType'].fillna(df['VehicleType'].mode()[0])\n",
    "df['VehicleType']"
   ]
  },
  {
   "cell_type": "markdown",
   "metadata": {},
   "source": [
    "Количество данных осталось прежним"
   ]
  },
  {
   "cell_type": "markdown",
   "metadata": {},
   "source": [
    "### Удаление дубликатов"
   ]
  },
  {
   "cell_type": "code",
   "execution_count": 22,
   "metadata": {},
   "outputs": [
    {
     "data": {
      "text/plain": [
       "0"
      ]
     },
     "execution_count": 22,
     "metadata": {},
     "output_type": "execute_result"
    }
   ],
   "source": [
    "# Удаляем дубликаты в датафрейме\n",
    "df = df.drop_duplicates()\n",
    "df.duplicated().sum()"
   ]
  },
  {
   "cell_type": "code",
   "execution_count": 23,
   "metadata": {},
   "outputs": [
    {
     "data": {
      "text/plain": [
       "DateCrawled          0\n",
       "Price                0\n",
       "VehicleType          0\n",
       "RegistrationYear     0\n",
       "Gearbox              0\n",
       "Power                0\n",
       "Model                0\n",
       "Kilometer            0\n",
       "RegistrationMonth    0\n",
       "FuelType             0\n",
       "Brand                0\n",
       "Repaired             0\n",
       "DateCreated          0\n",
       "NumberOfPictures     0\n",
       "PostalCode           0\n",
       "LastSeen             0\n",
       "dtype: int64"
      ]
     },
     "execution_count": 23,
     "metadata": {},
     "output_type": "execute_result"
    }
   ],
   "source": [
    "# Проверим данные на количество пропусков\n",
    "df.isna().sum()"
   ]
  },
  {
   "cell_type": "markdown",
   "metadata": {},
   "source": [
    "Данные обрабатоны, теперь избавимся от признаков, не влияющие на обучение модели."
   ]
  },
  {
   "cell_type": "markdown",
   "metadata": {},
   "source": [
    "Оставим более значимые таблицы для создания модели: \n",
    "* Тип автомобильного кузова (VehicleType)\n",
    "* тип коробки передач (Gearbox)\n",
    "* Мощность (Power)\n",
    "* Модель автомобиля (Model)\n",
    "* Пробег (Kilometer)\n",
    "* Бренд (Brand)\n",
    "* Тип топлива (FuelType)\n",
    "* Год регистрации автомобиля (RegistrationYear) \n",
    "* Месяц регистрации автомобиля (RegistrationMonth)\n",
    "\n",
    "Избавимся от таблиц, так как они в дальнейшем могут помещать процессу обучения:\n",
    "* Дата создания анкеты (DateCreated)\n",
    "* Количество фотографий автомобиля (NumberOfPictures)\n",
    "* Почтовый индекс владельца анкеты (PostalCode)\n",
    "* дата последней активности пользователя (LastSeen)\n",
    "* дата скачивания анкеты из базы (DateCrawled)"
   ]
  },
  {
   "cell_type": "code",
   "execution_count": 24,
   "metadata": {},
   "outputs": [],
   "source": [
    "# Удаляем не нужные столбцы\n",
    "df = df = df.drop(['DateCreated', \n",
    "                   'NumberOfPictures', \n",
    "                   'DateCrawled', \n",
    "                   'PostalCode', \n",
    "                   'LastSeen'], axis=1)"
   ]
  },
  {
   "cell_type": "markdown",
   "metadata": {},
   "source": [
    "**Вывод:** Датафрейм обработан, пропусков нет, лишнее таблицы удалены, теперь можно делить фрейм на тренировачную и тестевую выборку."
   ]
  },
  {
   "cell_type": "markdown",
   "metadata": {},
   "source": [
    "## Обучение моделей"
   ]
  },
  {
   "cell_type": "markdown",
   "metadata": {},
   "source": [
    "Создадим списки категориальных и численных признаков. В Дальнейшем по ним произвдем кодирование."
   ]
  },
  {
   "cell_type": "code",
   "execution_count": 25,
   "metadata": {},
   "outputs": [
    {
     "name": "stdout",
     "output_type": "stream",
     "text": [
      "['VehicleType', 'Gearbox', 'Model', 'FuelType', 'Brand', 'Repaired']\n",
      "['RegistrationYear', 'Power', 'Kilometer', 'RegistrationMonth']\n"
     ]
    }
   ],
   "source": [
    "# Создадим список с категориальными признаками\n",
    "cat_features = df.select_dtypes(include='object').columns.to_list()\n",
    "print(cat_features)\n",
    "\n",
    "# Выведем численные признаки\n",
    "num_features = df.select_dtypes(exclude='object').columns.to_list()\n",
    "\n",
    "# Удалим целевой признак Price\n",
    "num_features.remove('Price')\n",
    "print(num_features)"
   ]
  },
  {
   "cell_type": "code",
   "execution_count": 26,
   "metadata": {
    "scrolled": true
   },
   "outputs": [
    {
     "data": {
      "text/html": [
       "<div>\n",
       "<style scoped>\n",
       "    .dataframe tbody tr th:only-of-type {\n",
       "        vertical-align: middle;\n",
       "    }\n",
       "\n",
       "    .dataframe tbody tr th {\n",
       "        vertical-align: top;\n",
       "    }\n",
       "\n",
       "    .dataframe thead th {\n",
       "        text-align: right;\n",
       "    }\n",
       "</style>\n",
       "<table border=\"1\" class=\"dataframe\">\n",
       "  <thead>\n",
       "    <tr style=\"text-align: right;\">\n",
       "      <th></th>\n",
       "      <th>Price</th>\n",
       "      <th>VehicleType</th>\n",
       "      <th>RegistrationYear</th>\n",
       "      <th>Gearbox</th>\n",
       "      <th>Power</th>\n",
       "      <th>Model</th>\n",
       "      <th>Kilometer</th>\n",
       "      <th>RegistrationMonth</th>\n",
       "      <th>FuelType</th>\n",
       "      <th>Brand</th>\n",
       "      <th>Repaired</th>\n",
       "    </tr>\n",
       "  </thead>\n",
       "  <tbody>\n",
       "    <tr>\n",
       "      <th>0</th>\n",
       "      <td>18300</td>\n",
       "      <td>coupe</td>\n",
       "      <td>2011</td>\n",
       "      <td>manual</td>\n",
       "      <td>190</td>\n",
       "      <td>other</td>\n",
       "      <td>125000</td>\n",
       "      <td>5</td>\n",
       "      <td>gasoline</td>\n",
       "      <td>audi</td>\n",
       "      <td>yes</td>\n",
       "    </tr>\n",
       "    <tr>\n",
       "      <th>1</th>\n",
       "      <td>9800</td>\n",
       "      <td>suv</td>\n",
       "      <td>2004</td>\n",
       "      <td>auto</td>\n",
       "      <td>163</td>\n",
       "      <td>grand</td>\n",
       "      <td>125000</td>\n",
       "      <td>8</td>\n",
       "      <td>gasoline</td>\n",
       "      <td>jeep</td>\n",
       "      <td>unknown</td>\n",
       "    </tr>\n",
       "    <tr>\n",
       "      <th>2</th>\n",
       "      <td>1500</td>\n",
       "      <td>small</td>\n",
       "      <td>2001</td>\n",
       "      <td>manual</td>\n",
       "      <td>75</td>\n",
       "      <td>golf</td>\n",
       "      <td>150000</td>\n",
       "      <td>6</td>\n",
       "      <td>petrol</td>\n",
       "      <td>volkswagen</td>\n",
       "      <td>no</td>\n",
       "    </tr>\n",
       "    <tr>\n",
       "      <th>3</th>\n",
       "      <td>3600</td>\n",
       "      <td>small</td>\n",
       "      <td>2008</td>\n",
       "      <td>manual</td>\n",
       "      <td>69</td>\n",
       "      <td>fabia</td>\n",
       "      <td>90000</td>\n",
       "      <td>7</td>\n",
       "      <td>gasoline</td>\n",
       "      <td>skoda</td>\n",
       "      <td>no</td>\n",
       "    </tr>\n",
       "    <tr>\n",
       "      <th>4</th>\n",
       "      <td>650</td>\n",
       "      <td>sedan</td>\n",
       "      <td>1995</td>\n",
       "      <td>manual</td>\n",
       "      <td>102</td>\n",
       "      <td>3er</td>\n",
       "      <td>150000</td>\n",
       "      <td>10</td>\n",
       "      <td>petrol</td>\n",
       "      <td>bmw</td>\n",
       "      <td>yes</td>\n",
       "    </tr>\n",
       "    <tr>\n",
       "      <th>...</th>\n",
       "      <td>...</td>\n",
       "      <td>...</td>\n",
       "      <td>...</td>\n",
       "      <td>...</td>\n",
       "      <td>...</td>\n",
       "      <td>...</td>\n",
       "      <td>...</td>\n",
       "      <td>...</td>\n",
       "      <td>...</td>\n",
       "      <td>...</td>\n",
       "      <td>...</td>\n",
       "    </tr>\n",
       "    <tr>\n",
       "      <th>291358</th>\n",
       "      <td>5250</td>\n",
       "      <td>sedan</td>\n",
       "      <td>2016</td>\n",
       "      <td>auto</td>\n",
       "      <td>150</td>\n",
       "      <td>159</td>\n",
       "      <td>150000</td>\n",
       "      <td>12</td>\n",
       "      <td>other</td>\n",
       "      <td>alfa_romeo</td>\n",
       "      <td>no</td>\n",
       "    </tr>\n",
       "    <tr>\n",
       "      <th>291359</th>\n",
       "      <td>3200</td>\n",
       "      <td>sedan</td>\n",
       "      <td>2004</td>\n",
       "      <td>manual</td>\n",
       "      <td>225</td>\n",
       "      <td>leon</td>\n",
       "      <td>150000</td>\n",
       "      <td>5</td>\n",
       "      <td>petrol</td>\n",
       "      <td>seat</td>\n",
       "      <td>yes</td>\n",
       "    </tr>\n",
       "    <tr>\n",
       "      <th>291360</th>\n",
       "      <td>1199</td>\n",
       "      <td>convertible</td>\n",
       "      <td>2000</td>\n",
       "      <td>auto</td>\n",
       "      <td>101</td>\n",
       "      <td>fortwo</td>\n",
       "      <td>125000</td>\n",
       "      <td>3</td>\n",
       "      <td>petrol</td>\n",
       "      <td>smart</td>\n",
       "      <td>no</td>\n",
       "    </tr>\n",
       "    <tr>\n",
       "      <th>291361</th>\n",
       "      <td>9200</td>\n",
       "      <td>bus</td>\n",
       "      <td>1996</td>\n",
       "      <td>manual</td>\n",
       "      <td>102</td>\n",
       "      <td>transporter</td>\n",
       "      <td>150000</td>\n",
       "      <td>3</td>\n",
       "      <td>gasoline</td>\n",
       "      <td>volkswagen</td>\n",
       "      <td>no</td>\n",
       "    </tr>\n",
       "    <tr>\n",
       "      <th>291362</th>\n",
       "      <td>3400</td>\n",
       "      <td>wagon</td>\n",
       "      <td>2002</td>\n",
       "      <td>manual</td>\n",
       "      <td>100</td>\n",
       "      <td>golf</td>\n",
       "      <td>150000</td>\n",
       "      <td>6</td>\n",
       "      <td>gasoline</td>\n",
       "      <td>volkswagen</td>\n",
       "      <td>unknown</td>\n",
       "    </tr>\n",
       "  </tbody>\n",
       "</table>\n",
       "<p>291363 rows × 11 columns</p>\n",
       "</div>"
      ],
      "text/plain": [
       "        Price  VehicleType  RegistrationYear Gearbox  Power        Model  \\\n",
       "0       18300        coupe              2011  manual    190        other   \n",
       "1        9800          suv              2004    auto    163        grand   \n",
       "2        1500        small              2001  manual     75         golf   \n",
       "3        3600        small              2008  manual     69        fabia   \n",
       "4         650        sedan              1995  manual    102          3er   \n",
       "...       ...          ...               ...     ...    ...          ...   \n",
       "291358   5250        sedan              2016    auto    150          159   \n",
       "291359   3200        sedan              2004  manual    225         leon   \n",
       "291360   1199  convertible              2000    auto    101       fortwo   \n",
       "291361   9200          bus              1996  manual    102  transporter   \n",
       "291362   3400        wagon              2002  manual    100         golf   \n",
       "\n",
       "        Kilometer  RegistrationMonth  FuelType       Brand Repaired  \n",
       "0          125000                  5  gasoline        audi      yes  \n",
       "1          125000                  8  gasoline        jeep  unknown  \n",
       "2          150000                  6    petrol  volkswagen       no  \n",
       "3           90000                  7  gasoline       skoda       no  \n",
       "4          150000                 10    petrol         bmw      yes  \n",
       "...           ...                ...       ...         ...      ...  \n",
       "291358     150000                 12     other  alfa_romeo       no  \n",
       "291359     150000                  5    petrol        seat      yes  \n",
       "291360     125000                  3    petrol       smart       no  \n",
       "291361     150000                  3  gasoline  volkswagen       no  \n",
       "291362     150000                  6  gasoline  volkswagen  unknown  \n",
       "\n",
       "[291363 rows x 11 columns]"
      ]
     },
     "execution_count": 26,
     "metadata": {},
     "output_type": "execute_result"
    }
   ],
   "source": [
    "# Сбросим индексы, чтобы лишние и битые значения в котегориальных признаках были нормально \n",
    "# трансформированы в цифровой формат\n",
    "\n",
    "df = df.reset_index(drop=True)\n",
    "df"
   ]
  },
  {
   "cell_type": "code",
   "execution_count": 27,
   "metadata": {},
   "outputs": [],
   "source": [
    "# Разделим датафрейм на основную и целевую выборку\n",
    "features = df.drop(['Price'], axis=1)\n",
    "target = df['Price']"
   ]
  },
  {
   "cell_type": "code",
   "execution_count": 28,
   "metadata": {},
   "outputs": [],
   "source": [
    "# Разделим данные на тренировачную и тестевую выборки\n",
    "train_features, test_features, train_target, test_target = train_test_split(features, target, \n",
    "                                                                            test_size=0.25, random_state=15)\n",
    "# Поделим тестевую выборку на части\n",
    "train_feat_valid, test_feat_valid, tar_train_valid, tar_test_valid = train_test_split(test_features, test_target, \n",
    "                                                                            test_size=0.5, random_state=15)"
   ]
  },
  {
   "cell_type": "code",
   "execution_count": 29,
   "metadata": {},
   "outputs": [
    {
     "name": "stderr",
     "output_type": "stream",
     "text": [
      "/tmp/ipykernel_78/3699394716.py:8: SettingWithCopyWarning: \n",
      "A value is trying to be set on a copy of a slice from a DataFrame.\n",
      "Try using .loc[row_indexer,col_indexer] = value instead\n",
      "\n",
      "See the caveats in the documentation: https://pandas.pydata.org/pandas-docs/stable/user_guide/indexing.html#returning-a-view-versus-a-copy\n",
      "  train_features[cat_features] = encoder.transform(train_features[cat_features])\n",
      "/opt/conda/lib/python3.9/site-packages/pandas/core/indexing.py:1738: SettingWithCopyWarning: \n",
      "A value is trying to be set on a copy of a slice from a DataFrame.\n",
      "Try using .loc[row_indexer,col_indexer] = value instead\n",
      "\n",
      "See the caveats in the documentation: https://pandas.pydata.org/pandas-docs/stable/user_guide/indexing.html#returning-a-view-versus-a-copy\n",
      "  self._setitem_single_column(loc, value[:, i].tolist(), pi)\n"
     ]
    },
    {
     "data": {
      "text/html": [
       "<div>\n",
       "<style scoped>\n",
       "    .dataframe tbody tr th:only-of-type {\n",
       "        vertical-align: middle;\n",
       "    }\n",
       "\n",
       "    .dataframe tbody tr th {\n",
       "        vertical-align: top;\n",
       "    }\n",
       "\n",
       "    .dataframe thead th {\n",
       "        text-align: right;\n",
       "    }\n",
       "</style>\n",
       "<table border=\"1\" class=\"dataframe\">\n",
       "  <thead>\n",
       "    <tr style=\"text-align: right;\">\n",
       "      <th></th>\n",
       "      <th>VehicleType</th>\n",
       "      <th>RegistrationYear</th>\n",
       "      <th>Gearbox</th>\n",
       "      <th>Power</th>\n",
       "      <th>Model</th>\n",
       "      <th>Kilometer</th>\n",
       "      <th>RegistrationMonth</th>\n",
       "      <th>FuelType</th>\n",
       "      <th>Brand</th>\n",
       "      <th>Repaired</th>\n",
       "    </tr>\n",
       "  </thead>\n",
       "  <tbody>\n",
       "    <tr>\n",
       "      <th>10297</th>\n",
       "      <td>6.0</td>\n",
       "      <td>2008</td>\n",
       "      <td>0.0</td>\n",
       "      <td>315</td>\n",
       "      <td>243.0</td>\n",
       "      <td>150000</td>\n",
       "      <td>4</td>\n",
       "      <td>6.0</td>\n",
       "      <td>39.0</td>\n",
       "      <td>0.0</td>\n",
       "    </tr>\n",
       "    <tr>\n",
       "      <th>99114</th>\n",
       "      <td>5.0</td>\n",
       "      <td>2003</td>\n",
       "      <td>1.0</td>\n",
       "      <td>60</td>\n",
       "      <td>8.0</td>\n",
       "      <td>150000</td>\n",
       "      <td>12</td>\n",
       "      <td>6.0</td>\n",
       "      <td>25.0</td>\n",
       "      <td>0.0</td>\n",
       "    </tr>\n",
       "    <tr>\n",
       "      <th>241540</th>\n",
       "      <td>4.0</td>\n",
       "      <td>2001</td>\n",
       "      <td>0.0</td>\n",
       "      <td>275</td>\n",
       "      <td>170.0</td>\n",
       "      <td>150000</td>\n",
       "      <td>10</td>\n",
       "      <td>6.0</td>\n",
       "      <td>38.0</td>\n",
       "      <td>0.0</td>\n",
       "    </tr>\n",
       "    <tr>\n",
       "      <th>12041</th>\n",
       "      <td>4.0</td>\n",
       "      <td>2012</td>\n",
       "      <td>1.0</td>\n",
       "      <td>179</td>\n",
       "      <td>42.0</td>\n",
       "      <td>40000</td>\n",
       "      <td>4</td>\n",
       "      <td>6.0</td>\n",
       "      <td>24.0</td>\n",
       "      <td>0.0</td>\n",
       "    </tr>\n",
       "    <tr>\n",
       "      <th>190017</th>\n",
       "      <td>5.0</td>\n",
       "      <td>2013</td>\n",
       "      <td>1.0</td>\n",
       "      <td>110</td>\n",
       "      <td>126.0</td>\n",
       "      <td>40000</td>\n",
       "      <td>8</td>\n",
       "      <td>2.0</td>\n",
       "      <td>23.0</td>\n",
       "      <td>0.0</td>\n",
       "    </tr>\n",
       "    <tr>\n",
       "      <th>...</th>\n",
       "      <td>...</td>\n",
       "      <td>...</td>\n",
       "      <td>...</td>\n",
       "      <td>...</td>\n",
       "      <td>...</td>\n",
       "      <td>...</td>\n",
       "      <td>...</td>\n",
       "      <td>...</td>\n",
       "      <td>...</td>\n",
       "      <td>...</td>\n",
       "    </tr>\n",
       "    <tr>\n",
       "      <th>104832</th>\n",
       "      <td>1.0</td>\n",
       "      <td>2002</td>\n",
       "      <td>0.0</td>\n",
       "      <td>54</td>\n",
       "      <td>106.0</td>\n",
       "      <td>100000</td>\n",
       "      <td>2</td>\n",
       "      <td>6.0</td>\n",
       "      <td>32.0</td>\n",
       "      <td>0.0</td>\n",
       "    </tr>\n",
       "    <tr>\n",
       "      <th>180087</th>\n",
       "      <td>7.0</td>\n",
       "      <td>2005</td>\n",
       "      <td>0.0</td>\n",
       "      <td>131</td>\n",
       "      <td>29.0</td>\n",
       "      <td>150000</td>\n",
       "      <td>7</td>\n",
       "      <td>4.0</td>\n",
       "      <td>1.0</td>\n",
       "      <td>0.0</td>\n",
       "    </tr>\n",
       "    <tr>\n",
       "      <th>199301</th>\n",
       "      <td>5.0</td>\n",
       "      <td>2010</td>\n",
       "      <td>1.0</td>\n",
       "      <td>75</td>\n",
       "      <td>166.0</td>\n",
       "      <td>125000</td>\n",
       "      <td>10</td>\n",
       "      <td>6.0</td>\n",
       "      <td>19.0</td>\n",
       "      <td>0.0</td>\n",
       "    </tr>\n",
       "    <tr>\n",
       "      <th>270220</th>\n",
       "      <td>4.0</td>\n",
       "      <td>2002</td>\n",
       "      <td>1.0</td>\n",
       "      <td>150</td>\n",
       "      <td>11.0</td>\n",
       "      <td>150000</td>\n",
       "      <td>10</td>\n",
       "      <td>2.0</td>\n",
       "      <td>2.0</td>\n",
       "      <td>0.0</td>\n",
       "    </tr>\n",
       "    <tr>\n",
       "      <th>269768</th>\n",
       "      <td>4.0</td>\n",
       "      <td>2007</td>\n",
       "      <td>0.0</td>\n",
       "      <td>340</td>\n",
       "      <td>192.0</td>\n",
       "      <td>150000</td>\n",
       "      <td>2</td>\n",
       "      <td>6.0</td>\n",
       "      <td>20.0</td>\n",
       "      <td>0.0</td>\n",
       "    </tr>\n",
       "  </tbody>\n",
       "</table>\n",
       "<p>218522 rows × 10 columns</p>\n",
       "</div>"
      ],
      "text/plain": [
       "        VehicleType  RegistrationYear  Gearbox  Power  Model  Kilometer  \\\n",
       "10297           6.0              2008      0.0    315  243.0     150000   \n",
       "99114           5.0              2003      1.0     60    8.0     150000   \n",
       "241540          4.0              2001      0.0    275  170.0     150000   \n",
       "12041           4.0              2012      1.0    179   42.0      40000   \n",
       "190017          5.0              2013      1.0    110  126.0      40000   \n",
       "...             ...               ...      ...    ...    ...        ...   \n",
       "104832          1.0              2002      0.0     54  106.0     100000   \n",
       "180087          7.0              2005      0.0    131   29.0     150000   \n",
       "199301          5.0              2010      1.0     75  166.0     125000   \n",
       "270220          4.0              2002      1.0    150   11.0     150000   \n",
       "269768          4.0              2007      0.0    340  192.0     150000   \n",
       "\n",
       "        RegistrationMonth  FuelType  Brand  Repaired  \n",
       "10297                   4       6.0   39.0       0.0  \n",
       "99114                  12       6.0   25.0       0.0  \n",
       "241540                 10       6.0   38.0       0.0  \n",
       "12041                   4       6.0   24.0       0.0  \n",
       "190017                  8       2.0   23.0       0.0  \n",
       "...                   ...       ...    ...       ...  \n",
       "104832                  2       6.0   32.0       0.0  \n",
       "180087                  7       4.0    1.0       0.0  \n",
       "199301                 10       6.0   19.0       0.0  \n",
       "270220                 10       2.0    2.0       0.0  \n",
       "269768                  2       6.0   20.0       0.0  \n",
       "\n",
       "[218522 rows x 10 columns]"
      ]
     },
     "execution_count": 29,
     "metadata": {},
     "output_type": "execute_result"
    }
   ],
   "source": [
    "# Закадируем тренеровачную выборку\n",
    "encoder = OrdinalEncoder()\n",
    "\n",
    "# Обучим encoder на тренеровачной выборке\n",
    "encoder.fit(train_features[cat_features])\n",
    "\n",
    "# Закадируем тренеровачную выборку\n",
    "train_features[cat_features] = encoder.transform(train_features[cat_features])\n",
    "train_features"
   ]
  },
  {
   "cell_type": "code",
   "execution_count": 30,
   "metadata": {},
   "outputs": [
    {
     "name": "stderr",
     "output_type": "stream",
     "text": [
      "/tmp/ipykernel_78/2616426292.py:2: SettingWithCopyWarning: \n",
      "A value is trying to be set on a copy of a slice from a DataFrame.\n",
      "Try using .loc[row_indexer,col_indexer] = value instead\n",
      "\n",
      "See the caveats in the documentation: https://pandas.pydata.org/pandas-docs/stable/user_guide/indexing.html#returning-a-view-versus-a-copy\n",
      "  test_features[cat_features] = encoder.transform(test_features[cat_features])\n",
      "/opt/conda/lib/python3.9/site-packages/pandas/core/indexing.py:1738: SettingWithCopyWarning: \n",
      "A value is trying to be set on a copy of a slice from a DataFrame.\n",
      "Try using .loc[row_indexer,col_indexer] = value instead\n",
      "\n",
      "See the caveats in the documentation: https://pandas.pydata.org/pandas-docs/stable/user_guide/indexing.html#returning-a-view-versus-a-copy\n",
      "  self._setitem_single_column(loc, value[:, i].tolist(), pi)\n"
     ]
    },
    {
     "data": {
      "text/html": [
       "<div>\n",
       "<style scoped>\n",
       "    .dataframe tbody tr th:only-of-type {\n",
       "        vertical-align: middle;\n",
       "    }\n",
       "\n",
       "    .dataframe tbody tr th {\n",
       "        vertical-align: top;\n",
       "    }\n",
       "\n",
       "    .dataframe thead th {\n",
       "        text-align: right;\n",
       "    }\n",
       "</style>\n",
       "<table border=\"1\" class=\"dataframe\">\n",
       "  <thead>\n",
       "    <tr style=\"text-align: right;\">\n",
       "      <th></th>\n",
       "      <th>VehicleType</th>\n",
       "      <th>RegistrationYear</th>\n",
       "      <th>Gearbox</th>\n",
       "      <th>Power</th>\n",
       "      <th>Model</th>\n",
       "      <th>Kilometer</th>\n",
       "      <th>RegistrationMonth</th>\n",
       "      <th>FuelType</th>\n",
       "      <th>Brand</th>\n",
       "      <th>Repaired</th>\n",
       "    </tr>\n",
       "  </thead>\n",
       "  <tbody>\n",
       "    <tr>\n",
       "      <th>31842</th>\n",
       "      <td>4.0</td>\n",
       "      <td>1989</td>\n",
       "      <td>0.0</td>\n",
       "      <td>139</td>\n",
       "      <td>166.0</td>\n",
       "      <td>150000</td>\n",
       "      <td>12</td>\n",
       "      <td>6.0</td>\n",
       "      <td>33.0</td>\n",
       "      <td>0.0</td>\n",
       "    </tr>\n",
       "    <tr>\n",
       "      <th>100683</th>\n",
       "      <td>0.0</td>\n",
       "      <td>1974</td>\n",
       "      <td>1.0</td>\n",
       "      <td>50</td>\n",
       "      <td>223.0</td>\n",
       "      <td>100000</td>\n",
       "      <td>12</td>\n",
       "      <td>6.0</td>\n",
       "      <td>38.0</td>\n",
       "      <td>0.0</td>\n",
       "    </tr>\n",
       "    <tr>\n",
       "      <th>90886</th>\n",
       "      <td>4.0</td>\n",
       "      <td>1994</td>\n",
       "      <td>0.0</td>\n",
       "      <td>90</td>\n",
       "      <td>170.0</td>\n",
       "      <td>5000</td>\n",
       "      <td>9</td>\n",
       "      <td>6.0</td>\n",
       "      <td>38.0</td>\n",
       "      <td>0.0</td>\n",
       "    </tr>\n",
       "    <tr>\n",
       "      <th>111299</th>\n",
       "      <td>4.0</td>\n",
       "      <td>2005</td>\n",
       "      <td>1.0</td>\n",
       "      <td>105</td>\n",
       "      <td>42.0</td>\n",
       "      <td>100000</td>\n",
       "      <td>5</td>\n",
       "      <td>6.0</td>\n",
       "      <td>24.0</td>\n",
       "      <td>0.0</td>\n",
       "    </tr>\n",
       "    <tr>\n",
       "      <th>260509</th>\n",
       "      <td>4.0</td>\n",
       "      <td>2012</td>\n",
       "      <td>0.0</td>\n",
       "      <td>140</td>\n",
       "      <td>42.0</td>\n",
       "      <td>40000</td>\n",
       "      <td>11</td>\n",
       "      <td>6.0</td>\n",
       "      <td>24.0</td>\n",
       "      <td>0.0</td>\n",
       "    </tr>\n",
       "    <tr>\n",
       "      <th>...</th>\n",
       "      <td>...</td>\n",
       "      <td>...</td>\n",
       "      <td>...</td>\n",
       "      <td>...</td>\n",
       "      <td>...</td>\n",
       "      <td>...</td>\n",
       "      <td>...</td>\n",
       "      <td>...</td>\n",
       "      <td>...</td>\n",
       "      <td>...</td>\n",
       "    </tr>\n",
       "    <tr>\n",
       "      <th>23250</th>\n",
       "      <td>7.0</td>\n",
       "      <td>2002</td>\n",
       "      <td>1.0</td>\n",
       "      <td>100</td>\n",
       "      <td>248.0</td>\n",
       "      <td>150000</td>\n",
       "      <td>3</td>\n",
       "      <td>0.0</td>\n",
       "      <td>24.0</td>\n",
       "      <td>2.0</td>\n",
       "    </tr>\n",
       "    <tr>\n",
       "      <th>175471</th>\n",
       "      <td>7.0</td>\n",
       "      <td>1994</td>\n",
       "      <td>1.0</td>\n",
       "      <td>71</td>\n",
       "      <td>42.0</td>\n",
       "      <td>150000</td>\n",
       "      <td>9</td>\n",
       "      <td>6.0</td>\n",
       "      <td>24.0</td>\n",
       "      <td>0.0</td>\n",
       "    </tr>\n",
       "    <tr>\n",
       "      <th>248723</th>\n",
       "      <td>4.0</td>\n",
       "      <td>2012</td>\n",
       "      <td>0.0</td>\n",
       "      <td>184</td>\n",
       "      <td>6.0</td>\n",
       "      <td>90000</td>\n",
       "      <td>4</td>\n",
       "      <td>2.0</td>\n",
       "      <td>2.0</td>\n",
       "      <td>0.0</td>\n",
       "    </tr>\n",
       "    <tr>\n",
       "      <th>126760</th>\n",
       "      <td>5.0</td>\n",
       "      <td>2004</td>\n",
       "      <td>1.0</td>\n",
       "      <td>60</td>\n",
       "      <td>35.0</td>\n",
       "      <td>150000</td>\n",
       "      <td>1</td>\n",
       "      <td>6.0</td>\n",
       "      <td>24.0</td>\n",
       "      <td>2.0</td>\n",
       "    </tr>\n",
       "    <tr>\n",
       "      <th>221070</th>\n",
       "      <td>4.0</td>\n",
       "      <td>2004</td>\n",
       "      <td>1.0</td>\n",
       "      <td>90</td>\n",
       "      <td>42.0</td>\n",
       "      <td>150000</td>\n",
       "      <td>5</td>\n",
       "      <td>6.0</td>\n",
       "      <td>24.0</td>\n",
       "      <td>0.0</td>\n",
       "    </tr>\n",
       "  </tbody>\n",
       "</table>\n",
       "<p>72841 rows × 10 columns</p>\n",
       "</div>"
      ],
      "text/plain": [
       "        VehicleType  RegistrationYear  Gearbox  Power  Model  Kilometer  \\\n",
       "31842           4.0              1989      0.0    139  166.0     150000   \n",
       "100683          0.0              1974      1.0     50  223.0     100000   \n",
       "90886           4.0              1994      0.0     90  170.0       5000   \n",
       "111299          4.0              2005      1.0    105   42.0     100000   \n",
       "260509          4.0              2012      0.0    140   42.0      40000   \n",
       "...             ...               ...      ...    ...    ...        ...   \n",
       "23250           7.0              2002      1.0    100  248.0     150000   \n",
       "175471          7.0              1994      1.0     71   42.0     150000   \n",
       "248723          4.0              2012      0.0    184    6.0      90000   \n",
       "126760          5.0              2004      1.0     60   35.0     150000   \n",
       "221070          4.0              2004      1.0     90   42.0     150000   \n",
       "\n",
       "        RegistrationMonth  FuelType  Brand  Repaired  \n",
       "31842                  12       6.0   33.0       0.0  \n",
       "100683                 12       6.0   38.0       0.0  \n",
       "90886                   9       6.0   38.0       0.0  \n",
       "111299                  5       6.0   24.0       0.0  \n",
       "260509                 11       6.0   24.0       0.0  \n",
       "...                   ...       ...    ...       ...  \n",
       "23250                   3       0.0   24.0       2.0  \n",
       "175471                  9       6.0   24.0       0.0  \n",
       "248723                  4       2.0    2.0       0.0  \n",
       "126760                  1       6.0   24.0       2.0  \n",
       "221070                  5       6.0   24.0       0.0  \n",
       "\n",
       "[72841 rows x 10 columns]"
      ]
     },
     "execution_count": 30,
     "metadata": {},
     "output_type": "execute_result"
    }
   ],
   "source": [
    "# Закадируем тестовую выборку\n",
    "test_features[cat_features] = encoder.transform(test_features[cat_features])\n",
    "test_features"
   ]
  },
  {
   "cell_type": "code",
   "execution_count": 31,
   "metadata": {},
   "outputs": [
    {
     "name": "stderr",
     "output_type": "stream",
     "text": [
      "/tmp/ipykernel_78/2819239487.py:2: SettingWithCopyWarning: \n",
      "A value is trying to be set on a copy of a slice from a DataFrame.\n",
      "Try using .loc[row_indexer,col_indexer] = value instead\n",
      "\n",
      "See the caveats in the documentation: https://pandas.pydata.org/pandas-docs/stable/user_guide/indexing.html#returning-a-view-versus-a-copy\n",
      "  train_feat_valid[cat_features] = encoder.transform(train_feat_valid[cat_features])\n",
      "/opt/conda/lib/python3.9/site-packages/pandas/core/indexing.py:1738: SettingWithCopyWarning: \n",
      "A value is trying to be set on a copy of a slice from a DataFrame.\n",
      "Try using .loc[row_indexer,col_indexer] = value instead\n",
      "\n",
      "See the caveats in the documentation: https://pandas.pydata.org/pandas-docs/stable/user_guide/indexing.html#returning-a-view-versus-a-copy\n",
      "  self._setitem_single_column(loc, value[:, i].tolist(), pi)\n"
     ]
    },
    {
     "data": {
      "text/html": [
       "<div>\n",
       "<style scoped>\n",
       "    .dataframe tbody tr th:only-of-type {\n",
       "        vertical-align: middle;\n",
       "    }\n",
       "\n",
       "    .dataframe tbody tr th {\n",
       "        vertical-align: top;\n",
       "    }\n",
       "\n",
       "    .dataframe thead th {\n",
       "        text-align: right;\n",
       "    }\n",
       "</style>\n",
       "<table border=\"1\" class=\"dataframe\">\n",
       "  <thead>\n",
       "    <tr style=\"text-align: right;\">\n",
       "      <th></th>\n",
       "      <th>VehicleType</th>\n",
       "      <th>RegistrationYear</th>\n",
       "      <th>Gearbox</th>\n",
       "      <th>Power</th>\n",
       "      <th>Model</th>\n",
       "      <th>Kilometer</th>\n",
       "      <th>RegistrationMonth</th>\n",
       "      <th>FuelType</th>\n",
       "      <th>Brand</th>\n",
       "      <th>Repaired</th>\n",
       "    </tr>\n",
       "  </thead>\n",
       "  <tbody>\n",
       "    <tr>\n",
       "      <th>28947</th>\n",
       "      <td>5.0</td>\n",
       "      <td>2014</td>\n",
       "      <td>0.0</td>\n",
       "      <td>75</td>\n",
       "      <td>227.0</td>\n",
       "      <td>20000</td>\n",
       "      <td>1</td>\n",
       "      <td>6.0</td>\n",
       "      <td>38.0</td>\n",
       "      <td>0.0</td>\n",
       "    </tr>\n",
       "    <tr>\n",
       "      <th>158715</th>\n",
       "      <td>5.0</td>\n",
       "      <td>2006</td>\n",
       "      <td>1.0</td>\n",
       "      <td>65</td>\n",
       "      <td>166.0</td>\n",
       "      <td>150000</td>\n",
       "      <td>3</td>\n",
       "      <td>6.0</td>\n",
       "      <td>9.0</td>\n",
       "      <td>2.0</td>\n",
       "    </tr>\n",
       "    <tr>\n",
       "      <th>115323</th>\n",
       "      <td>7.0</td>\n",
       "      <td>2007</td>\n",
       "      <td>0.0</td>\n",
       "      <td>163</td>\n",
       "      <td>11.0</td>\n",
       "      <td>150000</td>\n",
       "      <td>1</td>\n",
       "      <td>2.0</td>\n",
       "      <td>2.0</td>\n",
       "      <td>0.0</td>\n",
       "    </tr>\n",
       "    <tr>\n",
       "      <th>41795</th>\n",
       "      <td>4.0</td>\n",
       "      <td>2006</td>\n",
       "      <td>1.0</td>\n",
       "      <td>105</td>\n",
       "      <td>42.0</td>\n",
       "      <td>150000</td>\n",
       "      <td>5</td>\n",
       "      <td>6.0</td>\n",
       "      <td>24.0</td>\n",
       "      <td>0.0</td>\n",
       "    </tr>\n",
       "    <tr>\n",
       "      <th>163739</th>\n",
       "      <td>4.0</td>\n",
       "      <td>1996</td>\n",
       "      <td>1.0</td>\n",
       "      <td>60</td>\n",
       "      <td>116.0</td>\n",
       "      <td>150000</td>\n",
       "      <td>10</td>\n",
       "      <td>6.0</td>\n",
       "      <td>38.0</td>\n",
       "      <td>0.0</td>\n",
       "    </tr>\n",
       "    <tr>\n",
       "      <th>...</th>\n",
       "      <td>...</td>\n",
       "      <td>...</td>\n",
       "      <td>...</td>\n",
       "      <td>...</td>\n",
       "      <td>...</td>\n",
       "      <td>...</td>\n",
       "      <td>...</td>\n",
       "      <td>...</td>\n",
       "      <td>...</td>\n",
       "      <td>...</td>\n",
       "    </tr>\n",
       "    <tr>\n",
       "      <th>101770</th>\n",
       "      <td>4.0</td>\n",
       "      <td>1996</td>\n",
       "      <td>1.0</td>\n",
       "      <td>170</td>\n",
       "      <td>15.0</td>\n",
       "      <td>150000</td>\n",
       "      <td>12</td>\n",
       "      <td>5.0</td>\n",
       "      <td>2.0</td>\n",
       "      <td>1.0</td>\n",
       "    </tr>\n",
       "    <tr>\n",
       "      <th>233049</th>\n",
       "      <td>2.0</td>\n",
       "      <td>2007</td>\n",
       "      <td>0.0</td>\n",
       "      <td>231</td>\n",
       "      <td>11.0</td>\n",
       "      <td>150000</td>\n",
       "      <td>10</td>\n",
       "      <td>2.0</td>\n",
       "      <td>2.0</td>\n",
       "      <td>0.0</td>\n",
       "    </tr>\n",
       "    <tr>\n",
       "      <th>24359</th>\n",
       "      <td>7.0</td>\n",
       "      <td>2003</td>\n",
       "      <td>0.0</td>\n",
       "      <td>163</td>\n",
       "      <td>29.0</td>\n",
       "      <td>150000</td>\n",
       "      <td>6</td>\n",
       "      <td>5.0</td>\n",
       "      <td>1.0</td>\n",
       "      <td>0.0</td>\n",
       "    </tr>\n",
       "    <tr>\n",
       "      <th>39246</th>\n",
       "      <td>4.0</td>\n",
       "      <td>2004</td>\n",
       "      <td>1.0</td>\n",
       "      <td>82</td>\n",
       "      <td>166.0</td>\n",
       "      <td>150000</td>\n",
       "      <td>9</td>\n",
       "      <td>2.0</td>\n",
       "      <td>12.0</td>\n",
       "      <td>2.0</td>\n",
       "    </tr>\n",
       "    <tr>\n",
       "      <th>7189</th>\n",
       "      <td>4.0</td>\n",
       "      <td>2010</td>\n",
       "      <td>0.0</td>\n",
       "      <td>231</td>\n",
       "      <td>95.0</td>\n",
       "      <td>150000</td>\n",
       "      <td>3</td>\n",
       "      <td>2.0</td>\n",
       "      <td>20.0</td>\n",
       "      <td>0.0</td>\n",
       "    </tr>\n",
       "  </tbody>\n",
       "</table>\n",
       "<p>36420 rows × 10 columns</p>\n",
       "</div>"
      ],
      "text/plain": [
       "        VehicleType  RegistrationYear  Gearbox  Power  Model  Kilometer  \\\n",
       "28947           5.0              2014      0.0     75  227.0      20000   \n",
       "158715          5.0              2006      1.0     65  166.0     150000   \n",
       "115323          7.0              2007      0.0    163   11.0     150000   \n",
       "41795           4.0              2006      1.0    105   42.0     150000   \n",
       "163739          4.0              1996      1.0     60  116.0     150000   \n",
       "...             ...               ...      ...    ...    ...        ...   \n",
       "101770          4.0              1996      1.0    170   15.0     150000   \n",
       "233049          2.0              2007      0.0    231   11.0     150000   \n",
       "24359           7.0              2003      0.0    163   29.0     150000   \n",
       "39246           4.0              2004      1.0     82  166.0     150000   \n",
       "7189            4.0              2010      0.0    231   95.0     150000   \n",
       "\n",
       "        RegistrationMonth  FuelType  Brand  Repaired  \n",
       "28947                   1       6.0   38.0       0.0  \n",
       "158715                  3       6.0    9.0       2.0  \n",
       "115323                  1       2.0    2.0       0.0  \n",
       "41795                   5       6.0   24.0       0.0  \n",
       "163739                 10       6.0   38.0       0.0  \n",
       "...                   ...       ...    ...       ...  \n",
       "101770                 12       5.0    2.0       1.0  \n",
       "233049                 10       2.0    2.0       0.0  \n",
       "24359                   6       5.0    1.0       0.0  \n",
       "39246                   9       2.0   12.0       2.0  \n",
       "7189                    3       2.0   20.0       0.0  \n",
       "\n",
       "[36420 rows x 10 columns]"
      ]
     },
     "execution_count": 31,
     "metadata": {},
     "output_type": "execute_result"
    }
   ],
   "source": [
    "# Закадируем валидационную выборку\n",
    "train_feat_valid[cat_features] = encoder.transform(train_feat_valid[cat_features])\n",
    "train_feat_valid"
   ]
  },
  {
   "cell_type": "code",
   "execution_count": 32,
   "metadata": {},
   "outputs": [
    {
     "name": "stderr",
     "output_type": "stream",
     "text": [
      "/tmp/ipykernel_78/3136159414.py:7: SettingWithCopyWarning: \n",
      "A value is trying to be set on a copy of a slice from a DataFrame.\n",
      "Try using .loc[row_indexer,col_indexer] = value instead\n",
      "\n",
      "See the caveats in the documentation: https://pandas.pydata.org/pandas-docs/stable/user_guide/indexing.html#returning-a-view-versus-a-copy\n",
      "  train_features[num_features] = scaler.transform(train_features[num_features])\n",
      "/opt/conda/lib/python3.9/site-packages/pandas/core/indexing.py:1738: SettingWithCopyWarning: \n",
      "A value is trying to be set on a copy of a slice from a DataFrame.\n",
      "Try using .loc[row_indexer,col_indexer] = value instead\n",
      "\n",
      "See the caveats in the documentation: https://pandas.pydata.org/pandas-docs/stable/user_guide/indexing.html#returning-a-view-versus-a-copy\n",
      "  self._setitem_single_column(loc, value[:, i].tolist(), pi)\n"
     ]
    },
    {
     "data": {
      "text/html": [
       "<div>\n",
       "<style scoped>\n",
       "    .dataframe tbody tr th:only-of-type {\n",
       "        vertical-align: middle;\n",
       "    }\n",
       "\n",
       "    .dataframe tbody tr th {\n",
       "        vertical-align: top;\n",
       "    }\n",
       "\n",
       "    .dataframe thead th {\n",
       "        text-align: right;\n",
       "    }\n",
       "</style>\n",
       "<table border=\"1\" class=\"dataframe\">\n",
       "  <thead>\n",
       "    <tr style=\"text-align: right;\">\n",
       "      <th></th>\n",
       "      <th>VehicleType</th>\n",
       "      <th>RegistrationYear</th>\n",
       "      <th>Gearbox</th>\n",
       "      <th>Power</th>\n",
       "      <th>Model</th>\n",
       "      <th>Kilometer</th>\n",
       "      <th>RegistrationMonth</th>\n",
       "      <th>FuelType</th>\n",
       "      <th>Brand</th>\n",
       "      <th>Repaired</th>\n",
       "    </tr>\n",
       "  </thead>\n",
       "  <tbody>\n",
       "    <tr>\n",
       "      <th>10297</th>\n",
       "      <td>6.0</td>\n",
       "      <td>0.782876</td>\n",
       "      <td>0.0</td>\n",
       "      <td>3.097539</td>\n",
       "      <td>243.0</td>\n",
       "      <td>0.593445</td>\n",
       "      <td>-0.767238</td>\n",
       "      <td>6.0</td>\n",
       "      <td>39.0</td>\n",
       "      <td>0.0</td>\n",
       "    </tr>\n",
       "    <tr>\n",
       "      <th>99114</th>\n",
       "      <td>5.0</td>\n",
       "      <td>0.014879</td>\n",
       "      <td>1.0</td>\n",
       "      <td>-0.997704</td>\n",
       "      <td>8.0</td>\n",
       "      <td>0.593445</td>\n",
       "      <td>1.651953</td>\n",
       "      <td>6.0</td>\n",
       "      <td>25.0</td>\n",
       "      <td>0.0</td>\n",
       "    </tr>\n",
       "    <tr>\n",
       "      <th>241540</th>\n",
       "      <td>4.0</td>\n",
       "      <td>-0.292320</td>\n",
       "      <td>0.0</td>\n",
       "      <td>2.455148</td>\n",
       "      <td>170.0</td>\n",
       "      <td>0.593445</td>\n",
       "      <td>1.047155</td>\n",
       "      <td>6.0</td>\n",
       "      <td>38.0</td>\n",
       "      <td>0.0</td>\n",
       "    </tr>\n",
       "    <tr>\n",
       "      <th>12041</th>\n",
       "      <td>4.0</td>\n",
       "      <td>1.397274</td>\n",
       "      <td>1.0</td>\n",
       "      <td>0.913410</td>\n",
       "      <td>42.0</td>\n",
       "      <td>-2.403148</td>\n",
       "      <td>-0.767238</td>\n",
       "      <td>6.0</td>\n",
       "      <td>24.0</td>\n",
       "      <td>0.0</td>\n",
       "    </tr>\n",
       "    <tr>\n",
       "      <th>190017</th>\n",
       "      <td>5.0</td>\n",
       "      <td>1.550873</td>\n",
       "      <td>1.0</td>\n",
       "      <td>-0.194715</td>\n",
       "      <td>126.0</td>\n",
       "      <td>-2.403148</td>\n",
       "      <td>0.442357</td>\n",
       "      <td>2.0</td>\n",
       "      <td>23.0</td>\n",
       "      <td>0.0</td>\n",
       "    </tr>\n",
       "    <tr>\n",
       "      <th>...</th>\n",
       "      <td>...</td>\n",
       "      <td>...</td>\n",
       "      <td>...</td>\n",
       "      <td>...</td>\n",
       "      <td>...</td>\n",
       "      <td>...</td>\n",
       "      <td>...</td>\n",
       "      <td>...</td>\n",
       "      <td>...</td>\n",
       "      <td>...</td>\n",
       "    </tr>\n",
       "    <tr>\n",
       "      <th>104832</th>\n",
       "      <td>1.0</td>\n",
       "      <td>-0.138720</td>\n",
       "      <td>0.0</td>\n",
       "      <td>-1.094063</td>\n",
       "      <td>106.0</td>\n",
       "      <td>-0.768643</td>\n",
       "      <td>-1.372036</td>\n",
       "      <td>6.0</td>\n",
       "      <td>32.0</td>\n",
       "      <td>0.0</td>\n",
       "    </tr>\n",
       "    <tr>\n",
       "      <th>180087</th>\n",
       "      <td>7.0</td>\n",
       "      <td>0.322078</td>\n",
       "      <td>0.0</td>\n",
       "      <td>0.142540</td>\n",
       "      <td>29.0</td>\n",
       "      <td>0.593445</td>\n",
       "      <td>0.139959</td>\n",
       "      <td>4.0</td>\n",
       "      <td>1.0</td>\n",
       "      <td>0.0</td>\n",
       "    </tr>\n",
       "    <tr>\n",
       "      <th>199301</th>\n",
       "      <td>5.0</td>\n",
       "      <td>1.090075</td>\n",
       "      <td>1.0</td>\n",
       "      <td>-0.756808</td>\n",
       "      <td>166.0</td>\n",
       "      <td>-0.087599</td>\n",
       "      <td>1.047155</td>\n",
       "      <td>6.0</td>\n",
       "      <td>19.0</td>\n",
       "      <td>0.0</td>\n",
       "    </tr>\n",
       "    <tr>\n",
       "      <th>270220</th>\n",
       "      <td>4.0</td>\n",
       "      <td>-0.138720</td>\n",
       "      <td>1.0</td>\n",
       "      <td>0.447676</td>\n",
       "      <td>11.0</td>\n",
       "      <td>0.593445</td>\n",
       "      <td>1.047155</td>\n",
       "      <td>2.0</td>\n",
       "      <td>2.0</td>\n",
       "      <td>0.0</td>\n",
       "    </tr>\n",
       "    <tr>\n",
       "      <th>269768</th>\n",
       "      <td>4.0</td>\n",
       "      <td>0.629277</td>\n",
       "      <td>0.0</td>\n",
       "      <td>3.499034</td>\n",
       "      <td>192.0</td>\n",
       "      <td>0.593445</td>\n",
       "      <td>-1.372036</td>\n",
       "      <td>6.0</td>\n",
       "      <td>20.0</td>\n",
       "      <td>0.0</td>\n",
       "    </tr>\n",
       "  </tbody>\n",
       "</table>\n",
       "<p>218522 rows × 10 columns</p>\n",
       "</div>"
      ],
      "text/plain": [
       "        VehicleType  RegistrationYear  Gearbox     Power  Model  Kilometer  \\\n",
       "10297           6.0          0.782876      0.0  3.097539  243.0   0.593445   \n",
       "99114           5.0          0.014879      1.0 -0.997704    8.0   0.593445   \n",
       "241540          4.0         -0.292320      0.0  2.455148  170.0   0.593445   \n",
       "12041           4.0          1.397274      1.0  0.913410   42.0  -2.403148   \n",
       "190017          5.0          1.550873      1.0 -0.194715  126.0  -2.403148   \n",
       "...             ...               ...      ...       ...    ...        ...   \n",
       "104832          1.0         -0.138720      0.0 -1.094063  106.0  -0.768643   \n",
       "180087          7.0          0.322078      0.0  0.142540   29.0   0.593445   \n",
       "199301          5.0          1.090075      1.0 -0.756808  166.0  -0.087599   \n",
       "270220          4.0         -0.138720      1.0  0.447676   11.0   0.593445   \n",
       "269768          4.0          0.629277      0.0  3.499034  192.0   0.593445   \n",
       "\n",
       "        RegistrationMonth  FuelType  Brand  Repaired  \n",
       "10297           -0.767238       6.0   39.0       0.0  \n",
       "99114            1.651953       6.0   25.0       0.0  \n",
       "241540           1.047155       6.0   38.0       0.0  \n",
       "12041           -0.767238       6.0   24.0       0.0  \n",
       "190017           0.442357       2.0   23.0       0.0  \n",
       "...                   ...       ...    ...       ...  \n",
       "104832          -1.372036       6.0   32.0       0.0  \n",
       "180087           0.139959       4.0    1.0       0.0  \n",
       "199301           1.047155       6.0   19.0       0.0  \n",
       "270220           1.047155       2.0    2.0       0.0  \n",
       "269768          -1.372036       6.0   20.0       0.0  \n",
       "\n",
       "[218522 rows x 10 columns]"
      ]
     },
     "execution_count": 32,
     "metadata": {},
     "output_type": "execute_result"
    }
   ],
   "source": [
    "# создаём скелер\n",
    "scaler = StandardScaler()\n",
    "# обучаем его на тренеровачной выборке\n",
    "scaler.fit(train_features[num_features])\n",
    "\n",
    "# Закадируем его на тренеровачной выборке\n",
    "train_features[num_features] = scaler.transform(train_features[num_features])\n",
    "\n",
    "# смотрим на результат\n",
    "train_features"
   ]
  },
  {
   "cell_type": "code",
   "execution_count": 33,
   "metadata": {},
   "outputs": [
    {
     "name": "stderr",
     "output_type": "stream",
     "text": [
      "/tmp/ipykernel_78/1242487887.py:2: SettingWithCopyWarning: \n",
      "A value is trying to be set on a copy of a slice from a DataFrame.\n",
      "Try using .loc[row_indexer,col_indexer] = value instead\n",
      "\n",
      "See the caveats in the documentation: https://pandas.pydata.org/pandas-docs/stable/user_guide/indexing.html#returning-a-view-versus-a-copy\n",
      "  test_features[num_features] = scaler.transform(test_features[num_features])\n",
      "/opt/conda/lib/python3.9/site-packages/pandas/core/indexing.py:1738: SettingWithCopyWarning: \n",
      "A value is trying to be set on a copy of a slice from a DataFrame.\n",
      "Try using .loc[row_indexer,col_indexer] = value instead\n",
      "\n",
      "See the caveats in the documentation: https://pandas.pydata.org/pandas-docs/stable/user_guide/indexing.html#returning-a-view-versus-a-copy\n",
      "  self._setitem_single_column(loc, value[:, i].tolist(), pi)\n"
     ]
    },
    {
     "data": {
      "text/html": [
       "<div>\n",
       "<style scoped>\n",
       "    .dataframe tbody tr th:only-of-type {\n",
       "        vertical-align: middle;\n",
       "    }\n",
       "\n",
       "    .dataframe tbody tr th {\n",
       "        vertical-align: top;\n",
       "    }\n",
       "\n",
       "    .dataframe thead th {\n",
       "        text-align: right;\n",
       "    }\n",
       "</style>\n",
       "<table border=\"1\" class=\"dataframe\">\n",
       "  <thead>\n",
       "    <tr style=\"text-align: right;\">\n",
       "      <th></th>\n",
       "      <th>VehicleType</th>\n",
       "      <th>RegistrationYear</th>\n",
       "      <th>Gearbox</th>\n",
       "      <th>Power</th>\n",
       "      <th>Model</th>\n",
       "      <th>Kilometer</th>\n",
       "      <th>RegistrationMonth</th>\n",
       "      <th>FuelType</th>\n",
       "      <th>Brand</th>\n",
       "      <th>Repaired</th>\n",
       "    </tr>\n",
       "  </thead>\n",
       "  <tbody>\n",
       "    <tr>\n",
       "      <th>31842</th>\n",
       "      <td>4.0</td>\n",
       "      <td>-2.135513</td>\n",
       "      <td>0.0</td>\n",
       "      <td>0.271018</td>\n",
       "      <td>166.0</td>\n",
       "      <td>0.593445</td>\n",
       "      <td>1.651953</td>\n",
       "      <td>6.0</td>\n",
       "      <td>33.0</td>\n",
       "      <td>0.0</td>\n",
       "    </tr>\n",
       "    <tr>\n",
       "      <th>100683</th>\n",
       "      <td>0.0</td>\n",
       "      <td>-4.439505</td>\n",
       "      <td>1.0</td>\n",
       "      <td>-1.158302</td>\n",
       "      <td>223.0</td>\n",
       "      <td>-0.768643</td>\n",
       "      <td>1.651953</td>\n",
       "      <td>6.0</td>\n",
       "      <td>38.0</td>\n",
       "      <td>0.0</td>\n",
       "    </tr>\n",
       "    <tr>\n",
       "      <th>90886</th>\n",
       "      <td>4.0</td>\n",
       "      <td>-1.367516</td>\n",
       "      <td>0.0</td>\n",
       "      <td>-0.515911</td>\n",
       "      <td>170.0</td>\n",
       "      <td>-3.356610</td>\n",
       "      <td>0.744756</td>\n",
       "      <td>6.0</td>\n",
       "      <td>38.0</td>\n",
       "      <td>0.0</td>\n",
       "    </tr>\n",
       "    <tr>\n",
       "      <th>111299</th>\n",
       "      <td>4.0</td>\n",
       "      <td>0.322078</td>\n",
       "      <td>1.0</td>\n",
       "      <td>-0.275014</td>\n",
       "      <td>42.0</td>\n",
       "      <td>-0.768643</td>\n",
       "      <td>-0.464839</td>\n",
       "      <td>6.0</td>\n",
       "      <td>24.0</td>\n",
       "      <td>0.0</td>\n",
       "    </tr>\n",
       "    <tr>\n",
       "      <th>260509</th>\n",
       "      <td>4.0</td>\n",
       "      <td>1.397274</td>\n",
       "      <td>0.0</td>\n",
       "      <td>0.287078</td>\n",
       "      <td>42.0</td>\n",
       "      <td>-2.403148</td>\n",
       "      <td>1.349554</td>\n",
       "      <td>6.0</td>\n",
       "      <td>24.0</td>\n",
       "      <td>0.0</td>\n",
       "    </tr>\n",
       "    <tr>\n",
       "      <th>...</th>\n",
       "      <td>...</td>\n",
       "      <td>...</td>\n",
       "      <td>...</td>\n",
       "      <td>...</td>\n",
       "      <td>...</td>\n",
       "      <td>...</td>\n",
       "      <td>...</td>\n",
       "      <td>...</td>\n",
       "      <td>...</td>\n",
       "      <td>...</td>\n",
       "    </tr>\n",
       "    <tr>\n",
       "      <th>23250</th>\n",
       "      <td>7.0</td>\n",
       "      <td>-0.138720</td>\n",
       "      <td>1.0</td>\n",
       "      <td>-0.355313</td>\n",
       "      <td>248.0</td>\n",
       "      <td>0.593445</td>\n",
       "      <td>-1.069637</td>\n",
       "      <td>0.0</td>\n",
       "      <td>24.0</td>\n",
       "      <td>2.0</td>\n",
       "    </tr>\n",
       "    <tr>\n",
       "      <th>175471</th>\n",
       "      <td>7.0</td>\n",
       "      <td>-1.367516</td>\n",
       "      <td>1.0</td>\n",
       "      <td>-0.821047</td>\n",
       "      <td>42.0</td>\n",
       "      <td>0.593445</td>\n",
       "      <td>0.744756</td>\n",
       "      <td>6.0</td>\n",
       "      <td>24.0</td>\n",
       "      <td>0.0</td>\n",
       "    </tr>\n",
       "    <tr>\n",
       "      <th>248723</th>\n",
       "      <td>4.0</td>\n",
       "      <td>1.397274</td>\n",
       "      <td>0.0</td>\n",
       "      <td>0.993708</td>\n",
       "      <td>6.0</td>\n",
       "      <td>-1.041060</td>\n",
       "      <td>-0.767238</td>\n",
       "      <td>2.0</td>\n",
       "      <td>2.0</td>\n",
       "      <td>0.0</td>\n",
       "    </tr>\n",
       "    <tr>\n",
       "      <th>126760</th>\n",
       "      <td>5.0</td>\n",
       "      <td>0.168478</td>\n",
       "      <td>1.0</td>\n",
       "      <td>-0.997704</td>\n",
       "      <td>35.0</td>\n",
       "      <td>0.593445</td>\n",
       "      <td>-1.674435</td>\n",
       "      <td>6.0</td>\n",
       "      <td>24.0</td>\n",
       "      <td>2.0</td>\n",
       "    </tr>\n",
       "    <tr>\n",
       "      <th>221070</th>\n",
       "      <td>4.0</td>\n",
       "      <td>0.168478</td>\n",
       "      <td>1.0</td>\n",
       "      <td>-0.515911</td>\n",
       "      <td>42.0</td>\n",
       "      <td>0.593445</td>\n",
       "      <td>-0.464839</td>\n",
       "      <td>6.0</td>\n",
       "      <td>24.0</td>\n",
       "      <td>0.0</td>\n",
       "    </tr>\n",
       "  </tbody>\n",
       "</table>\n",
       "<p>72841 rows × 10 columns</p>\n",
       "</div>"
      ],
      "text/plain": [
       "        VehicleType  RegistrationYear  Gearbox     Power  Model  Kilometer  \\\n",
       "31842           4.0         -2.135513      0.0  0.271018  166.0   0.593445   \n",
       "100683          0.0         -4.439505      1.0 -1.158302  223.0  -0.768643   \n",
       "90886           4.0         -1.367516      0.0 -0.515911  170.0  -3.356610   \n",
       "111299          4.0          0.322078      1.0 -0.275014   42.0  -0.768643   \n",
       "260509          4.0          1.397274      0.0  0.287078   42.0  -2.403148   \n",
       "...             ...               ...      ...       ...    ...        ...   \n",
       "23250           7.0         -0.138720      1.0 -0.355313  248.0   0.593445   \n",
       "175471          7.0         -1.367516      1.0 -0.821047   42.0   0.593445   \n",
       "248723          4.0          1.397274      0.0  0.993708    6.0  -1.041060   \n",
       "126760          5.0          0.168478      1.0 -0.997704   35.0   0.593445   \n",
       "221070          4.0          0.168478      1.0 -0.515911   42.0   0.593445   \n",
       "\n",
       "        RegistrationMonth  FuelType  Brand  Repaired  \n",
       "31842            1.651953       6.0   33.0       0.0  \n",
       "100683           1.651953       6.0   38.0       0.0  \n",
       "90886            0.744756       6.0   38.0       0.0  \n",
       "111299          -0.464839       6.0   24.0       0.0  \n",
       "260509           1.349554       6.0   24.0       0.0  \n",
       "...                   ...       ...    ...       ...  \n",
       "23250           -1.069637       0.0   24.0       2.0  \n",
       "175471           0.744756       6.0   24.0       0.0  \n",
       "248723          -0.767238       2.0    2.0       0.0  \n",
       "126760          -1.674435       6.0   24.0       2.0  \n",
       "221070          -0.464839       6.0   24.0       0.0  \n",
       "\n",
       "[72841 rows x 10 columns]"
      ]
     },
     "execution_count": 33,
     "metadata": {},
     "output_type": "execute_result"
    }
   ],
   "source": [
    "# скелером, который обучен на тренеровачной выбоке, масштабируем тестовую выборку\n",
    "test_features[num_features] = scaler.transform(test_features[num_features])\n",
    "test_features"
   ]
  },
  {
   "cell_type": "code",
   "execution_count": 34,
   "metadata": {},
   "outputs": [
    {
     "name": "stderr",
     "output_type": "stream",
     "text": [
      "/tmp/ipykernel_78/2083225591.py:2: SettingWithCopyWarning: \n",
      "A value is trying to be set on a copy of a slice from a DataFrame.\n",
      "Try using .loc[row_indexer,col_indexer] = value instead\n",
      "\n",
      "See the caveats in the documentation: https://pandas.pydata.org/pandas-docs/stable/user_guide/indexing.html#returning-a-view-versus-a-copy\n",
      "  train_feat_valid[num_features] = scaler.transform(train_feat_valid[num_features])\n",
      "/opt/conda/lib/python3.9/site-packages/pandas/core/indexing.py:1738: SettingWithCopyWarning: \n",
      "A value is trying to be set on a copy of a slice from a DataFrame.\n",
      "Try using .loc[row_indexer,col_indexer] = value instead\n",
      "\n",
      "See the caveats in the documentation: https://pandas.pydata.org/pandas-docs/stable/user_guide/indexing.html#returning-a-view-versus-a-copy\n",
      "  self._setitem_single_column(loc, value[:, i].tolist(), pi)\n"
     ]
    },
    {
     "data": {
      "text/html": [
       "<div>\n",
       "<style scoped>\n",
       "    .dataframe tbody tr th:only-of-type {\n",
       "        vertical-align: middle;\n",
       "    }\n",
       "\n",
       "    .dataframe tbody tr th {\n",
       "        vertical-align: top;\n",
       "    }\n",
       "\n",
       "    .dataframe thead th {\n",
       "        text-align: right;\n",
       "    }\n",
       "</style>\n",
       "<table border=\"1\" class=\"dataframe\">\n",
       "  <thead>\n",
       "    <tr style=\"text-align: right;\">\n",
       "      <th></th>\n",
       "      <th>VehicleType</th>\n",
       "      <th>RegistrationYear</th>\n",
       "      <th>Gearbox</th>\n",
       "      <th>Power</th>\n",
       "      <th>Model</th>\n",
       "      <th>Kilometer</th>\n",
       "      <th>RegistrationMonth</th>\n",
       "      <th>FuelType</th>\n",
       "      <th>Brand</th>\n",
       "      <th>Repaired</th>\n",
       "    </tr>\n",
       "  </thead>\n",
       "  <tbody>\n",
       "    <tr>\n",
       "      <th>28947</th>\n",
       "      <td>5.0</td>\n",
       "      <td>1.704473</td>\n",
       "      <td>0.0</td>\n",
       "      <td>-0.756808</td>\n",
       "      <td>227.0</td>\n",
       "      <td>-2.947984</td>\n",
       "      <td>-1.674435</td>\n",
       "      <td>6.0</td>\n",
       "      <td>38.0</td>\n",
       "      <td>0.0</td>\n",
       "    </tr>\n",
       "    <tr>\n",
       "      <th>158715</th>\n",
       "      <td>5.0</td>\n",
       "      <td>0.475677</td>\n",
       "      <td>1.0</td>\n",
       "      <td>-0.917405</td>\n",
       "      <td>166.0</td>\n",
       "      <td>0.593445</td>\n",
       "      <td>-1.069637</td>\n",
       "      <td>6.0</td>\n",
       "      <td>9.0</td>\n",
       "      <td>2.0</td>\n",
       "    </tr>\n",
       "    <tr>\n",
       "      <th>115323</th>\n",
       "      <td>7.0</td>\n",
       "      <td>0.629277</td>\n",
       "      <td>0.0</td>\n",
       "      <td>0.656453</td>\n",
       "      <td>11.0</td>\n",
       "      <td>0.593445</td>\n",
       "      <td>-1.674435</td>\n",
       "      <td>2.0</td>\n",
       "      <td>2.0</td>\n",
       "      <td>0.0</td>\n",
       "    </tr>\n",
       "    <tr>\n",
       "      <th>41795</th>\n",
       "      <td>4.0</td>\n",
       "      <td>0.475677</td>\n",
       "      <td>1.0</td>\n",
       "      <td>-0.275014</td>\n",
       "      <td>42.0</td>\n",
       "      <td>0.593445</td>\n",
       "      <td>-0.464839</td>\n",
       "      <td>6.0</td>\n",
       "      <td>24.0</td>\n",
       "      <td>0.0</td>\n",
       "    </tr>\n",
       "    <tr>\n",
       "      <th>163739</th>\n",
       "      <td>4.0</td>\n",
       "      <td>-1.060317</td>\n",
       "      <td>1.0</td>\n",
       "      <td>-0.997704</td>\n",
       "      <td>116.0</td>\n",
       "      <td>0.593445</td>\n",
       "      <td>1.047155</td>\n",
       "      <td>6.0</td>\n",
       "      <td>38.0</td>\n",
       "      <td>0.0</td>\n",
       "    </tr>\n",
       "    <tr>\n",
       "      <th>...</th>\n",
       "      <td>...</td>\n",
       "      <td>...</td>\n",
       "      <td>...</td>\n",
       "      <td>...</td>\n",
       "      <td>...</td>\n",
       "      <td>...</td>\n",
       "      <td>...</td>\n",
       "      <td>...</td>\n",
       "      <td>...</td>\n",
       "      <td>...</td>\n",
       "    </tr>\n",
       "    <tr>\n",
       "      <th>101770</th>\n",
       "      <td>4.0</td>\n",
       "      <td>-1.060317</td>\n",
       "      <td>1.0</td>\n",
       "      <td>0.768872</td>\n",
       "      <td>15.0</td>\n",
       "      <td>0.593445</td>\n",
       "      <td>1.651953</td>\n",
       "      <td>5.0</td>\n",
       "      <td>2.0</td>\n",
       "      <td>1.0</td>\n",
       "    </tr>\n",
       "    <tr>\n",
       "      <th>233049</th>\n",
       "      <td>2.0</td>\n",
       "      <td>0.629277</td>\n",
       "      <td>0.0</td>\n",
       "      <td>1.748518</td>\n",
       "      <td>11.0</td>\n",
       "      <td>0.593445</td>\n",
       "      <td>1.047155</td>\n",
       "      <td>2.0</td>\n",
       "      <td>2.0</td>\n",
       "      <td>0.0</td>\n",
       "    </tr>\n",
       "    <tr>\n",
       "      <th>24359</th>\n",
       "      <td>7.0</td>\n",
       "      <td>0.014879</td>\n",
       "      <td>0.0</td>\n",
       "      <td>0.656453</td>\n",
       "      <td>29.0</td>\n",
       "      <td>0.593445</td>\n",
       "      <td>-0.162440</td>\n",
       "      <td>5.0</td>\n",
       "      <td>1.0</td>\n",
       "      <td>0.0</td>\n",
       "    </tr>\n",
       "    <tr>\n",
       "      <th>39246</th>\n",
       "      <td>4.0</td>\n",
       "      <td>0.168478</td>\n",
       "      <td>1.0</td>\n",
       "      <td>-0.644389</td>\n",
       "      <td>166.0</td>\n",
       "      <td>0.593445</td>\n",
       "      <td>0.744756</td>\n",
       "      <td>2.0</td>\n",
       "      <td>12.0</td>\n",
       "      <td>2.0</td>\n",
       "    </tr>\n",
       "    <tr>\n",
       "      <th>7189</th>\n",
       "      <td>4.0</td>\n",
       "      <td>1.090075</td>\n",
       "      <td>0.0</td>\n",
       "      <td>1.748518</td>\n",
       "      <td>95.0</td>\n",
       "      <td>0.593445</td>\n",
       "      <td>-1.069637</td>\n",
       "      <td>2.0</td>\n",
       "      <td>20.0</td>\n",
       "      <td>0.0</td>\n",
       "    </tr>\n",
       "  </tbody>\n",
       "</table>\n",
       "<p>36420 rows × 10 columns</p>\n",
       "</div>"
      ],
      "text/plain": [
       "        VehicleType  RegistrationYear  Gearbox     Power  Model  Kilometer  \\\n",
       "28947           5.0          1.704473      0.0 -0.756808  227.0  -2.947984   \n",
       "158715          5.0          0.475677      1.0 -0.917405  166.0   0.593445   \n",
       "115323          7.0          0.629277      0.0  0.656453   11.0   0.593445   \n",
       "41795           4.0          0.475677      1.0 -0.275014   42.0   0.593445   \n",
       "163739          4.0         -1.060317      1.0 -0.997704  116.0   0.593445   \n",
       "...             ...               ...      ...       ...    ...        ...   \n",
       "101770          4.0         -1.060317      1.0  0.768872   15.0   0.593445   \n",
       "233049          2.0          0.629277      0.0  1.748518   11.0   0.593445   \n",
       "24359           7.0          0.014879      0.0  0.656453   29.0   0.593445   \n",
       "39246           4.0          0.168478      1.0 -0.644389  166.0   0.593445   \n",
       "7189            4.0          1.090075      0.0  1.748518   95.0   0.593445   \n",
       "\n",
       "        RegistrationMonth  FuelType  Brand  Repaired  \n",
       "28947           -1.674435       6.0   38.0       0.0  \n",
       "158715          -1.069637       6.0    9.0       2.0  \n",
       "115323          -1.674435       2.0    2.0       0.0  \n",
       "41795           -0.464839       6.0   24.0       0.0  \n",
       "163739           1.047155       6.0   38.0       0.0  \n",
       "...                   ...       ...    ...       ...  \n",
       "101770           1.651953       5.0    2.0       1.0  \n",
       "233049           1.047155       2.0    2.0       0.0  \n",
       "24359           -0.162440       5.0    1.0       0.0  \n",
       "39246            0.744756       2.0   12.0       2.0  \n",
       "7189            -1.069637       2.0   20.0       0.0  \n",
       "\n",
       "[36420 rows x 10 columns]"
      ]
     },
     "execution_count": 34,
     "metadata": {},
     "output_type": "execute_result"
    }
   ],
   "source": [
    "# скелером, который обучен на тренеровачной выбоке, масштабируем тестовую выборку\n",
    "train_feat_valid[num_features] = scaler.transform(train_feat_valid[num_features])\n",
    "train_feat_valid"
   ]
  },
  {
   "cell_type": "markdown",
   "metadata": {},
   "source": [
    "Теперь опредлим лучшую модель. Заказчику важно, чтобы модель имела хорошее качество предсказания, время обучения модели и время предсказания модели. Создадим функцию, которая будет определять время на обучение и предсказания модели."
   ]
  },
  {
   "cell_type": "code",
   "execution_count": 35,
   "metadata": {},
   "outputs": [],
   "source": [
    "# Функция, которая будет считать время обучения на базовых моделях\n",
    "def time_training(model, features_tr, target_tr):\n",
    "    start = time.time()\n",
    "    model.fit(features_tr, target_tr)\n",
    "    end = time.time()\n",
    "    time_fit = round(end - start, 2)\n",
    "    return time_fit,model"
   ]
  },
  {
   "cell_type": "code",
   "execution_count": 36,
   "metadata": {},
   "outputs": [],
   "source": [
    "# Функция считающая время на предсказания\n",
    "def time_prediction(model, features_val):\n",
    "    start = time.time()\n",
    "    predict = model.predict(features_val)\n",
    "    end = time.time()\n",
    "    time_predict= round(end - start, 2)\n",
    "    return time_predict, predict"
   ]
  },
  {
   "cell_type": "code",
   "execution_count": 37,
   "metadata": {},
   "outputs": [
    {
     "data": {
      "text/html": [
       "<div>\n",
       "<style scoped>\n",
       "    .dataframe tbody tr th:only-of-type {\n",
       "        vertical-align: middle;\n",
       "    }\n",
       "\n",
       "    .dataframe tbody tr th {\n",
       "        vertical-align: top;\n",
       "    }\n",
       "\n",
       "    .dataframe thead th {\n",
       "        text-align: right;\n",
       "    }\n",
       "</style>\n",
       "<table border=\"1\" class=\"dataframe\">\n",
       "  <thead>\n",
       "    <tr style=\"text-align: right;\">\n",
       "      <th></th>\n",
       "      <th>RMSE</th>\n",
       "      <th>Время обучения</th>\n",
       "      <th>Время предсказания</th>\n",
       "      <th>Модель</th>\n",
       "    </tr>\n",
       "  </thead>\n",
       "  <tbody>\n",
       "  </tbody>\n",
       "</table>\n",
       "</div>"
      ],
      "text/plain": [
       "Empty DataFrame\n",
       "Columns: [RMSE, Время обучения, Время предсказания, Модель]\n",
       "Index: []"
      ]
     },
     "execution_count": 37,
     "metadata": {},
     "output_type": "execute_result"
    }
   ],
   "source": [
    "# Создадим отдельный список, в который будут сохраняться результаты моделей на тренировочной выборке  \n",
    "results_models = pd.DataFrame(columns=['RMSE','Время обучения','Время предсказания','Модель'])\n",
    "\n",
    "# Создадим отдельный список, в который будут сохраняться результаты лучшей модели на тестевой выборке\n",
    "results_best_models = pd.DataFrame(columns=['RMSE','Время обучения','Время предсказания','Модель'])\n",
    "results_models"
   ]
  },
  {
   "cell_type": "code",
   "execution_count": 38,
   "metadata": {},
   "outputs": [],
   "source": [
    "# Создадим функцию, которая будет сохранять полученные результаты моделей на тренировачной выборке в фрейм \n",
    "def metrics_models(RMSE, time_tr , time_pr , name_models, df):\n",
    "    df.loc[name_models,'RMSE'] = RMSE\n",
    "    df.loc[name_models,'Время обучения'] = time_tr\n",
    "    df.loc[name_models,'Время предсказания'] = time_pr\n",
    "    df.loc[name_models,'Модель'] = name_models\n",
    "    return df"
   ]
  },
  {
   "cell_type": "markdown",
   "metadata": {},
   "source": [
    "### Модель DecisionTreeRegressor"
   ]
  },
  {
   "cell_type": "code",
   "execution_count": 39,
   "metadata": {},
   "outputs": [
    {
     "data": {
      "text/html": [
       "<div>\n",
       "<style scoped>\n",
       "    .dataframe tbody tr th:only-of-type {\n",
       "        vertical-align: middle;\n",
       "    }\n",
       "\n",
       "    .dataframe tbody tr th {\n",
       "        vertical-align: top;\n",
       "    }\n",
       "\n",
       "    .dataframe thead th {\n",
       "        text-align: right;\n",
       "    }\n",
       "</style>\n",
       "<table border=\"1\" class=\"dataframe\">\n",
       "  <thead>\n",
       "    <tr style=\"text-align: right;\">\n",
       "      <th></th>\n",
       "      <th>RMSE</th>\n",
       "      <th>Время обучения</th>\n",
       "      <th>Время предсказания</th>\n",
       "      <th>Модель</th>\n",
       "    </tr>\n",
       "  </thead>\n",
       "  <tbody>\n",
       "    <tr>\n",
       "      <th>DecisionTree</th>\n",
       "      <td>2020.77</td>\n",
       "      <td>0.93</td>\n",
       "      <td>0.02</td>\n",
       "      <td>DecisionTree</td>\n",
       "    </tr>\n",
       "  </tbody>\n",
       "</table>\n",
       "</div>"
      ],
      "text/plain": [
       "                 RMSE Время обучения Время предсказания        Модель\n",
       "DecisionTree  2020.77           0.93               0.02  DecisionTree"
      ]
     },
     "execution_count": 39,
     "metadata": {},
     "output_type": "execute_result"
    }
   ],
   "source": [
    "model_dtr = DecisionTreeRegressor()\n",
    "\n",
    "# Время обучения модели\n",
    "DTR_time_tr, DTR_model = time_training(DecisionTreeRegressor(),train_features, train_target)\n",
    "\n",
    "# Время предсказания модели\n",
    "DTR_time_pr, DTR_predict = time_prediction(DTR_model, train_feat_valid)\n",
    "\n",
    "# Рассчет RMSE\n",
    "rmse_DTR = np.sqrt(mean_squared_error(tar_train_valid, DTR_predict)).round(2)\n",
    "\n",
    "# Сохранение в отдельный датафрейм полученных результатов \n",
    "metrics_models(rmse_DTR, DTR_time_tr, DTR_time_pr, 'DecisionTree', results_models)"
   ]
  },
  {
   "cell_type": "markdown",
   "metadata": {},
   "source": [
    "### Модель LinearRegression"
   ]
  },
  {
   "cell_type": "code",
   "execution_count": 40,
   "metadata": {},
   "outputs": [
    {
     "data": {
      "text/html": [
       "<div>\n",
       "<style scoped>\n",
       "    .dataframe tbody tr th:only-of-type {\n",
       "        vertical-align: middle;\n",
       "    }\n",
       "\n",
       "    .dataframe tbody tr th {\n",
       "        vertical-align: top;\n",
       "    }\n",
       "\n",
       "    .dataframe thead th {\n",
       "        text-align: right;\n",
       "    }\n",
       "</style>\n",
       "<table border=\"1\" class=\"dataframe\">\n",
       "  <thead>\n",
       "    <tr style=\"text-align: right;\">\n",
       "      <th></th>\n",
       "      <th>RMSE</th>\n",
       "      <th>Время обучения</th>\n",
       "      <th>Время предсказания</th>\n",
       "      <th>Модель</th>\n",
       "    </tr>\n",
       "  </thead>\n",
       "  <tbody>\n",
       "    <tr>\n",
       "      <th>DecisionTree</th>\n",
       "      <td>2020.77</td>\n",
       "      <td>0.93</td>\n",
       "      <td>0.02</td>\n",
       "      <td>DecisionTree</td>\n",
       "    </tr>\n",
       "    <tr>\n",
       "      <th>LinearRegression</th>\n",
       "      <td>3165.0</td>\n",
       "      <td>0.12</td>\n",
       "      <td>0.09</td>\n",
       "      <td>LinearRegression</td>\n",
       "    </tr>\n",
       "  </tbody>\n",
       "</table>\n",
       "</div>"
      ],
      "text/plain": [
       "                     RMSE Время обучения Время предсказания            Модель\n",
       "DecisionTree      2020.77           0.93               0.02      DecisionTree\n",
       "LinearRegression   3165.0           0.12               0.09  LinearRegression"
      ]
     },
     "execution_count": 40,
     "metadata": {},
     "output_type": "execute_result"
    }
   ],
   "source": [
    "# Гиперпараметры модели\n",
    "model_lr = LinearRegression(normalize=True)\n",
    "\n",
    "# Время обучения модели\n",
    "LR_time_tr, LR_model = time_training(model_lr, train_features, train_target)\n",
    "\n",
    "# Время предсказания модели\n",
    "LR_pred_time, LR_predict = time_prediction(LR_model, train_feat_valid)\n",
    "\n",
    "# Рассчет RMSE\n",
    "rmse_LR = np.sqrt(mean_squared_error(tar_train_valid, LR_predict)).round(2)\n",
    "\n",
    "# Сохранение в отдельный датафрейм полученные результаты \n",
    "metrics_models(rmse_LR ,LR_time_tr, LR_pred_time,'LinearRegression', results_models)"
   ]
  },
  {
   "cell_type": "markdown",
   "metadata": {},
   "source": [
    "### Модель RandomForestRegressor"
   ]
  },
  {
   "cell_type": "code",
   "execution_count": 41,
   "metadata": {},
   "outputs": [
    {
     "data": {
      "text/html": [
       "<div>\n",
       "<style scoped>\n",
       "    .dataframe tbody tr th:only-of-type {\n",
       "        vertical-align: middle;\n",
       "    }\n",
       "\n",
       "    .dataframe tbody tr th {\n",
       "        vertical-align: top;\n",
       "    }\n",
       "\n",
       "    .dataframe thead th {\n",
       "        text-align: right;\n",
       "    }\n",
       "</style>\n",
       "<table border=\"1\" class=\"dataframe\">\n",
       "  <thead>\n",
       "    <tr style=\"text-align: right;\">\n",
       "      <th></th>\n",
       "      <th>RMSE</th>\n",
       "      <th>Время обучения</th>\n",
       "      <th>Время предсказания</th>\n",
       "      <th>Модель</th>\n",
       "    </tr>\n",
       "  </thead>\n",
       "  <tbody>\n",
       "    <tr>\n",
       "      <th>DecisionTree</th>\n",
       "      <td>2020.77</td>\n",
       "      <td>0.93</td>\n",
       "      <td>0.02</td>\n",
       "      <td>DecisionTree</td>\n",
       "    </tr>\n",
       "    <tr>\n",
       "      <th>LinearRegression</th>\n",
       "      <td>3165.0</td>\n",
       "      <td>0.12</td>\n",
       "      <td>0.09</td>\n",
       "      <td>LinearRegression</td>\n",
       "    </tr>\n",
       "    <tr>\n",
       "      <th>RandomForest</th>\n",
       "      <td>1582.03</td>\n",
       "      <td>65.33</td>\n",
       "      <td>1.89</td>\n",
       "      <td>RandomForest</td>\n",
       "    </tr>\n",
       "  </tbody>\n",
       "</table>\n",
       "</div>"
      ],
      "text/plain": [
       "                     RMSE Время обучения Время предсказания            Модель\n",
       "DecisionTree      2020.77           0.93               0.02      DecisionTree\n",
       "LinearRegression   3165.0           0.12               0.09  LinearRegression\n",
       "RandomForest      1582.03          65.33               1.89      RandomForest"
      ]
     },
     "execution_count": 41,
     "metadata": {},
     "output_type": "execute_result"
    }
   ],
   "source": [
    "# Гиперпараметры модели\n",
    "model_rf = RandomForestRegressor(criterion='mse',warm_start=False, n_estimators=100, random_state=15)\n",
    "\n",
    "# Время обучения модели\n",
    "RF_time_tr, RF_model = time_training(model_rf, train_features, train_target)\n",
    "\n",
    "# Время предсказания модели\n",
    "RF_pred_time, RF_predict = time_prediction(RF_model, train_feat_valid)\n",
    "\n",
    "# Рассчет RMSE\n",
    "rmse_RF = np.sqrt(mean_squared_error(tar_train_valid, RF_predict)).round(2)\n",
    "\n",
    "# Сохранение в отдельный датафрейм полученные результаты \n",
    "metrics_models(rmse_RF, RF_time_tr, RF_pred_time,'RandomForest', results_models)"
   ]
  },
  {
   "cell_type": "markdown",
   "metadata": {},
   "source": [
    "### Модель GradientBoostingRegressor"
   ]
  },
  {
   "cell_type": "code",
   "execution_count": 42,
   "metadata": {},
   "outputs": [
    {
     "data": {
      "text/html": [
       "<div>\n",
       "<style scoped>\n",
       "    .dataframe tbody tr th:only-of-type {\n",
       "        vertical-align: middle;\n",
       "    }\n",
       "\n",
       "    .dataframe tbody tr th {\n",
       "        vertical-align: top;\n",
       "    }\n",
       "\n",
       "    .dataframe thead th {\n",
       "        text-align: right;\n",
       "    }\n",
       "</style>\n",
       "<table border=\"1\" class=\"dataframe\">\n",
       "  <thead>\n",
       "    <tr style=\"text-align: right;\">\n",
       "      <th></th>\n",
       "      <th>RMSE</th>\n",
       "      <th>Время обучения</th>\n",
       "      <th>Время предсказания</th>\n",
       "      <th>Модель</th>\n",
       "    </tr>\n",
       "  </thead>\n",
       "  <tbody>\n",
       "    <tr>\n",
       "      <th>DecisionTree</th>\n",
       "      <td>2020.77</td>\n",
       "      <td>0.93</td>\n",
       "      <td>0.02</td>\n",
       "      <td>DecisionTree</td>\n",
       "    </tr>\n",
       "    <tr>\n",
       "      <th>LinearRegression</th>\n",
       "      <td>3165.0</td>\n",
       "      <td>0.12</td>\n",
       "      <td>0.09</td>\n",
       "      <td>LinearRegression</td>\n",
       "    </tr>\n",
       "    <tr>\n",
       "      <th>RandomForest</th>\n",
       "      <td>1582.03</td>\n",
       "      <td>65.33</td>\n",
       "      <td>1.89</td>\n",
       "      <td>RandomForest</td>\n",
       "    </tr>\n",
       "    <tr>\n",
       "      <th>GradientBoostingRegressor</th>\n",
       "      <td>1920.9</td>\n",
       "      <td>15.97</td>\n",
       "      <td>0.04</td>\n",
       "      <td>GradientBoostingRegressor</td>\n",
       "    </tr>\n",
       "  </tbody>\n",
       "</table>\n",
       "</div>"
      ],
      "text/plain": [
       "                              RMSE Время обучения Время предсказания  \\\n",
       "DecisionTree               2020.77           0.93               0.02   \n",
       "LinearRegression            3165.0           0.12               0.09   \n",
       "RandomForest               1582.03          65.33               1.89   \n",
       "GradientBoostingRegressor   1920.9          15.97               0.04   \n",
       "\n",
       "                                              Модель  \n",
       "DecisionTree                            DecisionTree  \n",
       "LinearRegression                    LinearRegression  \n",
       "RandomForest                            RandomForest  \n",
       "GradientBoostingRegressor  GradientBoostingRegressor  "
      ]
     },
     "execution_count": 42,
     "metadata": {},
     "output_type": "execute_result"
    }
   ],
   "source": [
    "# Гиперпараметры модели\n",
    "gbr_model = GradientBoostingRegressor(n_estimators=100,random_state=15)\n",
    "\n",
    "# Время обучения модели\n",
    "GBR_time_tr, GBR_model = time_training(gbr_model, train_features, train_target)\n",
    "\n",
    "# Время предсказания модели\n",
    "GBR_pred_time, GBR_predict = time_prediction(GBR_model, train_feat_valid)\n",
    "\n",
    "# Рассчет RMSE\n",
    "rmse_GBR = np.sqrt(mean_squared_error(tar_train_valid, GBR_predict)).round(2)\n",
    "\n",
    "# Сохранение в отдельный датафрейм полученные результаты \n",
    "metrics_models(rmse_GBR, GBR_time_tr, GBR_pred_time, 'GradientBoostingRegressor', results_models)"
   ]
  },
  {
   "cell_type": "markdown",
   "metadata": {},
   "source": [
    "### Модель CatBoostRegressor"
   ]
  },
  {
   "cell_type": "code",
   "execution_count": 43,
   "metadata": {},
   "outputs": [
    {
     "name": "stdout",
     "output_type": "stream",
     "text": [
      "0:\tlearn: 3500.4413040\ttotal: 89.2ms\tremaining: 1m 29s\n",
      "100:\tlearn: 1623.9668295\ttotal: 3.11s\tremaining: 27.7s\n",
      "200:\tlearn: 1546.4380524\ttotal: 5.83s\tremaining: 23.2s\n",
      "300:\tlearn: 1498.9985307\ttotal: 8.65s\tremaining: 20.1s\n",
      "400:\tlearn: 1463.6251445\ttotal: 11.4s\tremaining: 17s\n",
      "500:\tlearn: 1437.5194411\ttotal: 14s\tremaining: 14s\n",
      "600:\tlearn: 1415.8940597\ttotal: 16.7s\tremaining: 11.1s\n",
      "700:\tlearn: 1396.7970575\ttotal: 19.4s\tremaining: 8.26s\n",
      "800:\tlearn: 1379.2232215\ttotal: 22.2s\tremaining: 5.52s\n",
      "900:\tlearn: 1365.8724379\ttotal: 25.3s\tremaining: 2.78s\n",
      "999:\tlearn: 1353.8414149\ttotal: 28.6s\tremaining: 0us\n"
     ]
    },
    {
     "data": {
      "text/html": [
       "<div>\n",
       "<style scoped>\n",
       "    .dataframe tbody tr th:only-of-type {\n",
       "        vertical-align: middle;\n",
       "    }\n",
       "\n",
       "    .dataframe tbody tr th {\n",
       "        vertical-align: top;\n",
       "    }\n",
       "\n",
       "    .dataframe thead th {\n",
       "        text-align: right;\n",
       "    }\n",
       "</style>\n",
       "<table border=\"1\" class=\"dataframe\">\n",
       "  <thead>\n",
       "    <tr style=\"text-align: right;\">\n",
       "      <th></th>\n",
       "      <th>RMSE</th>\n",
       "      <th>Время обучения</th>\n",
       "      <th>Время предсказания</th>\n",
       "      <th>Модель</th>\n",
       "    </tr>\n",
       "  </thead>\n",
       "  <tbody>\n",
       "    <tr>\n",
       "      <th>DecisionTree</th>\n",
       "      <td>2020.77</td>\n",
       "      <td>0.93</td>\n",
       "      <td>0.02</td>\n",
       "      <td>DecisionTree</td>\n",
       "    </tr>\n",
       "    <tr>\n",
       "      <th>LinearRegression</th>\n",
       "      <td>3165.0</td>\n",
       "      <td>0.12</td>\n",
       "      <td>0.09</td>\n",
       "      <td>LinearRegression</td>\n",
       "    </tr>\n",
       "    <tr>\n",
       "      <th>RandomForest</th>\n",
       "      <td>1582.03</td>\n",
       "      <td>65.33</td>\n",
       "      <td>1.89</td>\n",
       "      <td>RandomForest</td>\n",
       "    </tr>\n",
       "    <tr>\n",
       "      <th>GradientBoostingRegressor</th>\n",
       "      <td>1920.9</td>\n",
       "      <td>15.97</td>\n",
       "      <td>0.04</td>\n",
       "      <td>GradientBoostingRegressor</td>\n",
       "    </tr>\n",
       "    <tr>\n",
       "      <th>Catboost</th>\n",
       "      <td>1549.09</td>\n",
       "      <td>29.73</td>\n",
       "      <td>0.04</td>\n",
       "      <td>Catboost</td>\n",
       "    </tr>\n",
       "  </tbody>\n",
       "</table>\n",
       "</div>"
      ],
      "text/plain": [
       "                              RMSE Время обучения Время предсказания  \\\n",
       "DecisionTree               2020.77           0.93               0.02   \n",
       "LinearRegression            3165.0           0.12               0.09   \n",
       "RandomForest               1582.03          65.33               1.89   \n",
       "GradientBoostingRegressor   1920.9          15.97               0.04   \n",
       "Catboost                   1549.09          29.73               0.04   \n",
       "\n",
       "                                              Модель  \n",
       "DecisionTree                            DecisionTree  \n",
       "LinearRegression                    LinearRegression  \n",
       "RandomForest                            RandomForest  \n",
       "GradientBoostingRegressor  GradientBoostingRegressor  \n",
       "Catboost                                    Catboost  "
      ]
     },
     "execution_count": 43,
     "metadata": {},
     "output_type": "execute_result"
    }
   ],
   "source": [
    "# Гиперпараметры модели\n",
    "cbr_model = CatBoostRegressor(loss_function='RMSE', \n",
    "                              learning_rate=0.4, \n",
    "                              verbose=100, \n",
    "                              n_estimators=1000)\n",
    "# Время обучения модели\n",
    "CBR_time_tr, CBR_model = time_training(cbr_model, train_features, train_target)\n",
    "\n",
    "# Время предсказания модели\n",
    "CBR_pred_time, CBR_predict = time_prediction(CBR_model, train_feat_valid)\n",
    "\n",
    "# Рассчет RMSE\n",
    "rmse_CBR  = np.sqrt(mean_squared_error(tar_train_valid, CBR_predict)).round(2)\n",
    "\n",
    "# Сохранение в отдельный датафрейм полученные результаты \n",
    "metrics_models(rmse_CBR, CBR_time_tr, CBR_pred_time, 'Catboost', results_models)"
   ]
  },
  {
   "cell_type": "markdown",
   "metadata": {},
   "source": [
    "### Модель LightGBM"
   ]
  },
  {
   "cell_type": "code",
   "execution_count": 44,
   "metadata": {},
   "outputs": [
    {
     "data": {
      "text/html": [
       "<div>\n",
       "<style scoped>\n",
       "    .dataframe tbody tr th:only-of-type {\n",
       "        vertical-align: middle;\n",
       "    }\n",
       "\n",
       "    .dataframe tbody tr th {\n",
       "        vertical-align: top;\n",
       "    }\n",
       "\n",
       "    .dataframe thead th {\n",
       "        text-align: right;\n",
       "    }\n",
       "</style>\n",
       "<table border=\"1\" class=\"dataframe\">\n",
       "  <thead>\n",
       "    <tr style=\"text-align: right;\">\n",
       "      <th></th>\n",
       "      <th>RMSE</th>\n",
       "      <th>Время обучения</th>\n",
       "      <th>Время предсказания</th>\n",
       "      <th>Модель</th>\n",
       "    </tr>\n",
       "  </thead>\n",
       "  <tbody>\n",
       "    <tr>\n",
       "      <th>DecisionTree</th>\n",
       "      <td>2020.77</td>\n",
       "      <td>0.93</td>\n",
       "      <td>0.02</td>\n",
       "      <td>DecisionTree</td>\n",
       "    </tr>\n",
       "    <tr>\n",
       "      <th>LinearRegression</th>\n",
       "      <td>3165.0</td>\n",
       "      <td>0.12</td>\n",
       "      <td>0.09</td>\n",
       "      <td>LinearRegression</td>\n",
       "    </tr>\n",
       "    <tr>\n",
       "      <th>RandomForest</th>\n",
       "      <td>1582.03</td>\n",
       "      <td>65.33</td>\n",
       "      <td>1.89</td>\n",
       "      <td>RandomForest</td>\n",
       "    </tr>\n",
       "    <tr>\n",
       "      <th>GradientBoostingRegressor</th>\n",
       "      <td>1920.9</td>\n",
       "      <td>15.97</td>\n",
       "      <td>0.04</td>\n",
       "      <td>GradientBoostingRegressor</td>\n",
       "    </tr>\n",
       "    <tr>\n",
       "      <th>Catboost</th>\n",
       "      <td>1549.09</td>\n",
       "      <td>29.73</td>\n",
       "      <td>0.04</td>\n",
       "      <td>Catboost</td>\n",
       "    </tr>\n",
       "    <tr>\n",
       "      <th>Lightgbm</th>\n",
       "      <td>1534.55</td>\n",
       "      <td>1557.64</td>\n",
       "      <td>2.62</td>\n",
       "      <td>Lightgbm</td>\n",
       "    </tr>\n",
       "  </tbody>\n",
       "</table>\n",
       "</div>"
      ],
      "text/plain": [
       "                              RMSE Время обучения Время предсказания  \\\n",
       "DecisionTree               2020.77           0.93               0.02   \n",
       "LinearRegression            3165.0           0.12               0.09   \n",
       "RandomForest               1582.03          65.33               1.89   \n",
       "GradientBoostingRegressor   1920.9          15.97               0.04   \n",
       "Catboost                   1549.09          29.73               0.04   \n",
       "Lightgbm                   1534.55        1557.64               2.62   \n",
       "\n",
       "                                              Модель  \n",
       "DecisionTree                            DecisionTree  \n",
       "LinearRegression                    LinearRegression  \n",
       "RandomForest                            RandomForest  \n",
       "GradientBoostingRegressor  GradientBoostingRegressor  \n",
       "Catboost                                    Catboost  \n",
       "Lightgbm                                    Lightgbm  "
      ]
     },
     "execution_count": 44,
     "metadata": {},
     "output_type": "execute_result"
    }
   ],
   "source": [
    "# Гиперпараметры модели\n",
    "model_lgb = LGBMRegressor(n_estimators=1000,\n",
    "                          random_state=15,\n",
    "                          learning_rate=0.4,\n",
    "                          objective='rmse')\n",
    "# Время обучения модели\n",
    "LGB_time_tr, LGB_model = time_training(model_lgb, train_features, train_target)\n",
    "\n",
    "# Время предсказания модели\n",
    "LGB_pred_time, LGB_predict = time_prediction(LGB_model, train_feat_valid)\n",
    "\n",
    "# Рассчет RMSE\n",
    "rmse_LGB  = np.sqrt(mean_squared_error(tar_train_valid, LGB_predict)).round(2)\n",
    "\n",
    "# Сохранение в отдельный датафрейм полученные результаты \n",
    "metrics_models(rmse_LGB, LGB_time_tr, LGB_pred_time,'Lightgbm', results_models)\n"
   ]
  },
  {
   "cell_type": "markdown",
   "metadata": {},
   "source": [
    "## Анализ моделей"
   ]
  },
  {
   "cell_type": "code",
   "execution_count": 45,
   "metadata": {},
   "outputs": [
    {
     "data": {
      "text/html": [
       "<div>\n",
       "<style scoped>\n",
       "    .dataframe tbody tr th:only-of-type {\n",
       "        vertical-align: middle;\n",
       "    }\n",
       "\n",
       "    .dataframe tbody tr th {\n",
       "        vertical-align: top;\n",
       "    }\n",
       "\n",
       "    .dataframe thead th {\n",
       "        text-align: right;\n",
       "    }\n",
       "</style>\n",
       "<table border=\"1\" class=\"dataframe\">\n",
       "  <thead>\n",
       "    <tr style=\"text-align: right;\">\n",
       "      <th></th>\n",
       "      <th>RMSE</th>\n",
       "      <th>Время обучения</th>\n",
       "      <th>Время предсказания</th>\n",
       "      <th>Модель</th>\n",
       "    </tr>\n",
       "  </thead>\n",
       "  <tbody>\n",
       "    <tr>\n",
       "      <th>DecisionTree</th>\n",
       "      <td>2020.77</td>\n",
       "      <td>0.93</td>\n",
       "      <td>0.02</td>\n",
       "      <td>DecisionTree</td>\n",
       "    </tr>\n",
       "    <tr>\n",
       "      <th>LinearRegression</th>\n",
       "      <td>3165.0</td>\n",
       "      <td>0.12</td>\n",
       "      <td>0.09</td>\n",
       "      <td>LinearRegression</td>\n",
       "    </tr>\n",
       "    <tr>\n",
       "      <th>RandomForest</th>\n",
       "      <td>1582.03</td>\n",
       "      <td>65.33</td>\n",
       "      <td>1.89</td>\n",
       "      <td>RandomForest</td>\n",
       "    </tr>\n",
       "    <tr>\n",
       "      <th>GradientBoostingRegressor</th>\n",
       "      <td>1920.9</td>\n",
       "      <td>15.97</td>\n",
       "      <td>0.04</td>\n",
       "      <td>GradientBoostingRegressor</td>\n",
       "    </tr>\n",
       "    <tr>\n",
       "      <th>Catboost</th>\n",
       "      <td>1549.09</td>\n",
       "      <td>29.73</td>\n",
       "      <td>0.04</td>\n",
       "      <td>Catboost</td>\n",
       "    </tr>\n",
       "    <tr>\n",
       "      <th>Lightgbm</th>\n",
       "      <td>1534.55</td>\n",
       "      <td>1557.64</td>\n",
       "      <td>2.62</td>\n",
       "      <td>Lightgbm</td>\n",
       "    </tr>\n",
       "  </tbody>\n",
       "</table>\n",
       "</div>"
      ],
      "text/plain": [
       "                              RMSE Время обучения Время предсказания  \\\n",
       "DecisionTree               2020.77           0.93               0.02   \n",
       "LinearRegression            3165.0           0.12               0.09   \n",
       "RandomForest               1582.03          65.33               1.89   \n",
       "GradientBoostingRegressor   1920.9          15.97               0.04   \n",
       "Catboost                   1549.09          29.73               0.04   \n",
       "Lightgbm                   1534.55        1557.64               2.62   \n",
       "\n",
       "                                              Модель  \n",
       "DecisionTree                            DecisionTree  \n",
       "LinearRegression                    LinearRegression  \n",
       "RandomForest                            RandomForest  \n",
       "GradientBoostingRegressor  GradientBoostingRegressor  \n",
       "Catboost                                    Catboost  \n",
       "Lightgbm                                    Lightgbm  "
      ]
     },
     "execution_count": 45,
     "metadata": {},
     "output_type": "execute_result"
    }
   ],
   "source": [
    "# Выведем результаты полученных значений \n",
    "results_models"
   ]
  },
  {
   "cell_type": "markdown",
   "metadata": {},
   "source": [
    "**Вывод:** \n",
    "* Была произведена обработка данных, были удалены аномальные значения, заполнены пропуски. \n",
    "* На подготовленных данных было произведенно обучение разных типов моделей регрессии.\n",
    "* Так наименьшую оценку RMSE имеет модель градиентного бустинга LightGBM, при  этом она сильно уступает по скорости предсказания всем другим моделям. По времени предсказания, быстрее всех работает модель линейной регрессии, но качество предсказаний у этой модели самое худшее. Модель CatBoostRegressor имеет хорошее RMSE и небольшое время по скорости предсказания. Следовательно остановимся на рекомедации именно этой модели.  "
   ]
  },
  {
   "cell_type": "code",
   "execution_count": 46,
   "metadata": {},
   "outputs": [
    {
     "data": {
      "text/html": [
       "<div>\n",
       "<style scoped>\n",
       "    .dataframe tbody tr th:only-of-type {\n",
       "        vertical-align: middle;\n",
       "    }\n",
       "\n",
       "    .dataframe tbody tr th {\n",
       "        vertical-align: top;\n",
       "    }\n",
       "\n",
       "    .dataframe thead th {\n",
       "        text-align: right;\n",
       "    }\n",
       "</style>\n",
       "<table border=\"1\" class=\"dataframe\">\n",
       "  <thead>\n",
       "    <tr style=\"text-align: right;\">\n",
       "      <th></th>\n",
       "      <th>RMSE</th>\n",
       "      <th>Время обучения</th>\n",
       "      <th>Время предсказания</th>\n",
       "      <th>Модель</th>\n",
       "    </tr>\n",
       "  </thead>\n",
       "  <tbody>\n",
       "    <tr>\n",
       "      <th>GradientBoostingRegressor</th>\n",
       "      <td>1911.47</td>\n",
       "      <td>18.87</td>\n",
       "      <td>0.09</td>\n",
       "      <td>GradientBoostingRegressor</td>\n",
       "    </tr>\n",
       "  </tbody>\n",
       "</table>\n",
       "</div>"
      ],
      "text/plain": [
       "                              RMSE Время обучения Время предсказания  \\\n",
       "GradientBoostingRegressor  1911.47          18.87               0.09   \n",
       "\n",
       "                                              Модель  \n",
       "GradientBoostingRegressor  GradientBoostingRegressor  "
      ]
     },
     "execution_count": 46,
     "metadata": {},
     "output_type": "execute_result"
    }
   ],
   "source": [
    "# Проверка лучшей модели на тестевой выборке\n",
    "# Дообучим модель на тренеровачно-валидационной выборке \n",
    "features = pd.concat([train_features, train_feat_valid])\n",
    "target = pd.concat([train_target, tar_train_valid])\n",
    "\n",
    "# Проведем тестирование лучшей модели \n",
    "GBR_time_tr, GBR_model = time_training(gbr_model, features, target)\n",
    "\n",
    "# Время предсказания модели\n",
    "GBR_pred_time, GBR_predict = time_prediction(GBR_model, test_features)\n",
    "\n",
    "# Рассчет RMSE\n",
    "rmse_GBR = np.sqrt(mean_squared_error(test_target, GBR_predict)).round(2)\n",
    "\n",
    "# Сохранение в отдельный датафрейм полученных результатов \n",
    "metrics_models(rmse_GBR, GBR_time_tr, GBR_pred_time, 'GradientBoostingRegressor', results_best_models)"
   ]
  },
  {
   "cell_type": "markdown",
   "metadata": {},
   "source": [
    "**Вывод:** Модель показала хорошие результаты на тестевой выборке."
   ]
  },
  {
   "cell_type": "markdown",
   "metadata": {},
   "source": [
    "## Чек-лист проверки"
   ]
  },
  {
   "cell_type": "markdown",
   "metadata": {},
   "source": [
    "Поставьте 'x' в выполненных пунктах. Далее нажмите Shift+Enter."
   ]
  },
  {
   "cell_type": "markdown",
   "metadata": {},
   "source": [
    "- [x]  Jupyter Notebook открыт\n",
    "- [X]  Весь код выполняется без ошибок\n",
    "- [X]  Ячейки с кодом расположены в порядке исполнения\n",
    "- [X]  Выполнена загрузка и подготовка данных\n",
    "- [X]  Выполнено обучение моделей\n",
    "- [X]  Есть анализ скорости работы и качества моделей"
   ]
  },
  {
   "cell_type": "code",
   "execution_count": null,
   "metadata": {},
   "outputs": [],
   "source": []
  }
 ],
 "metadata": {
  "ExecuteTimeLog": [
   {
    "duration": 392,
    "start_time": "2023-02-09T07:55:35.681Z"
   },
   {
    "duration": 3242,
    "start_time": "2023-02-09T07:55:36.987Z"
   },
   {
    "duration": 3,
    "start_time": "2023-02-09T07:55:40.231Z"
   },
   {
    "duration": 839,
    "start_time": "2023-02-09T07:56:25.588Z"
   },
   {
    "duration": 3,
    "start_time": "2023-02-09T07:58:53.146Z"
   },
   {
    "duration": 808,
    "start_time": "2023-02-09T07:58:54.674Z"
   },
   {
    "duration": 3,
    "start_time": "2023-02-09T07:59:17.726Z"
   },
   {
    "duration": 797,
    "start_time": "2023-02-09T07:59:20.008Z"
   },
   {
    "duration": 75,
    "start_time": "2023-02-09T09:11:30.693Z"
   },
   {
    "duration": 3,
    "start_time": "2023-02-09T09:12:01.062Z"
   },
   {
    "duration": 3,
    "start_time": "2023-02-09T09:12:05.266Z"
   },
   {
    "duration": 4,
    "start_time": "2023-02-09T09:12:07.371Z"
   },
   {
    "duration": 4,
    "start_time": "2023-02-09T09:12:30.576Z"
   },
   {
    "duration": 5,
    "start_time": "2023-02-09T09:12:32.234Z"
   },
   {
    "duration": 4,
    "start_time": "2023-02-09T09:12:32.963Z"
   },
   {
    "duration": 4,
    "start_time": "2023-02-09T09:12:33.594Z"
   },
   {
    "duration": 3,
    "start_time": "2023-02-09T09:12:34.294Z"
   },
   {
    "duration": 4,
    "start_time": "2023-02-09T09:13:13.975Z"
   },
   {
    "duration": 10,
    "start_time": "2023-02-09T09:13:14.573Z"
   },
   {
    "duration": 5,
    "start_time": "2023-02-09T09:13:15.015Z"
   },
   {
    "duration": 3,
    "start_time": "2023-02-09T09:13:15.462Z"
   },
   {
    "duration": 4,
    "start_time": "2023-02-09T09:13:16.578Z"
   },
   {
    "duration": 4,
    "start_time": "2023-02-09T09:13:17.137Z"
   },
   {
    "duration": 8,
    "start_time": "2023-02-09T11:44:50.691Z"
   },
   {
    "duration": 337,
    "start_time": "2023-02-09T11:45:15.981Z"
   },
   {
    "duration": 14,
    "start_time": "2023-02-09T11:46:03.146Z"
   },
   {
    "duration": 82,
    "start_time": "2023-02-09T11:46:24.225Z"
   },
   {
    "duration": 484,
    "start_time": "2023-02-09T11:48:22.895Z"
   },
   {
    "duration": 88,
    "start_time": "2023-02-09T11:51:11.534Z"
   },
   {
    "duration": 533,
    "start_time": "2023-02-09T11:51:20.683Z"
   },
   {
    "duration": 53,
    "start_time": "2023-02-10T07:12:24.604Z"
   },
   {
    "duration": 431,
    "start_time": "2023-02-10T07:12:48.061Z"
   },
   {
    "duration": 3243,
    "start_time": "2023-02-10T07:12:48.495Z"
   },
   {
    "duration": 4,
    "start_time": "2023-02-10T07:12:51.740Z"
   },
   {
    "duration": 1069,
    "start_time": "2023-02-10T07:12:51.747Z"
   },
   {
    "duration": 86,
    "start_time": "2023-02-10T07:12:59.380Z"
   },
   {
    "duration": 20,
    "start_time": "2023-02-10T07:22:24.063Z"
   },
   {
    "duration": 592,
    "start_time": "2023-02-10T07:24:02.026Z"
   },
   {
    "duration": 7,
    "start_time": "2023-02-10T07:24:31.649Z"
   },
   {
    "duration": 17,
    "start_time": "2023-02-10T07:24:41.149Z"
   },
   {
    "duration": 7,
    "start_time": "2023-02-10T07:34:15.837Z"
   },
   {
    "duration": 84,
    "start_time": "2023-02-10T07:34:48.941Z"
   },
   {
    "duration": 315,
    "start_time": "2023-02-10T07:35:03.338Z"
   },
   {
    "duration": 533,
    "start_time": "2023-02-10T07:36:23.768Z"
   },
   {
    "duration": 108,
    "start_time": "2023-02-10T07:36:53.702Z"
   },
   {
    "duration": 507,
    "start_time": "2023-02-10T07:37:24.506Z"
   },
   {
    "duration": 46,
    "start_time": "2023-02-10T07:37:48.311Z"
   },
   {
    "duration": 47,
    "start_time": "2023-02-10T07:38:05.692Z"
   },
   {
    "duration": 85,
    "start_time": "2023-02-10T07:38:18.154Z"
   },
   {
    "duration": 40,
    "start_time": "2023-02-10T07:38:24.447Z"
   },
   {
    "duration": 49,
    "start_time": "2023-02-10T07:38:41.352Z"
   },
   {
    "duration": 75,
    "start_time": "2023-02-10T07:38:45.073Z"
   },
   {
    "duration": 56,
    "start_time": "2023-02-10T07:39:32.521Z"
   },
   {
    "duration": 39,
    "start_time": "2023-02-10T07:40:07.336Z"
   },
   {
    "duration": 74,
    "start_time": "2023-02-10T07:40:16.737Z"
   },
   {
    "duration": 40,
    "start_time": "2023-02-10T07:41:54.690Z"
   },
   {
    "duration": 697,
    "start_time": "2023-02-10T09:44:26.763Z"
   },
   {
    "duration": 317,
    "start_time": "2023-02-10T09:44:53.580Z"
   },
   {
    "duration": 307,
    "start_time": "2023-02-10T09:45:00.054Z"
   },
   {
    "duration": 357,
    "start_time": "2023-02-10T09:45:41.921Z"
   },
   {
    "duration": 419,
    "start_time": "2023-02-10T09:45:52.409Z"
   },
   {
    "duration": 409,
    "start_time": "2023-02-10T09:46:18.580Z"
   },
   {
    "duration": 356,
    "start_time": "2023-02-10T09:46:31.656Z"
   },
   {
    "duration": 393,
    "start_time": "2023-02-10T09:47:50.193Z"
   },
   {
    "duration": 338,
    "start_time": "2023-02-10T09:47:58.873Z"
   },
   {
    "duration": 366,
    "start_time": "2023-02-10T09:48:12.190Z"
   },
   {
    "duration": 332,
    "start_time": "2023-02-10T09:48:28.955Z"
   },
   {
    "duration": 50,
    "start_time": "2023-02-10T09:48:59.790Z"
   },
   {
    "duration": 460,
    "start_time": "2023-02-10T09:49:20.780Z"
   },
   {
    "duration": 50,
    "start_time": "2023-02-10T09:49:33.755Z"
   },
   {
    "duration": 329,
    "start_time": "2023-02-10T09:49:38.894Z"
   },
   {
    "duration": 328,
    "start_time": "2023-02-10T09:51:17.273Z"
   },
   {
    "duration": 50,
    "start_time": "2023-02-10T13:19:32.535Z"
   },
   {
    "duration": 423,
    "start_time": "2023-02-10T13:19:37.945Z"
   },
   {
    "duration": 3,
    "start_time": "2023-02-10T13:19:44.266Z"
   },
   {
    "duration": 1324,
    "start_time": "2023-02-10T13:19:44.271Z"
   },
   {
    "duration": 4,
    "start_time": "2023-02-10T13:19:45.596Z"
   },
   {
    "duration": 991,
    "start_time": "2023-02-10T13:19:45.601Z"
   },
   {
    "duration": 288,
    "start_time": "2023-02-10T13:19:46.593Z"
   },
   {
    "duration": 54,
    "start_time": "2023-02-10T13:19:46.882Z"
   },
   {
    "duration": 5,
    "start_time": "2023-02-10T13:19:46.938Z"
   },
   {
    "duration": 383,
    "start_time": "2023-02-10T13:19:46.945Z"
   },
   {
    "duration": 41,
    "start_time": "2023-02-10T13:21:27.871Z"
   },
   {
    "duration": 11,
    "start_time": "2023-02-10T13:21:43.548Z"
   },
   {
    "duration": 36,
    "start_time": "2023-02-10T13:21:45.785Z"
   },
   {
    "duration": 37,
    "start_time": "2023-02-10T13:21:58.777Z"
   },
   {
    "duration": 39,
    "start_time": "2023-02-10T13:22:13.553Z"
   },
   {
    "duration": 8,
    "start_time": "2023-02-10T13:22:14.779Z"
   },
   {
    "duration": 46,
    "start_time": "2023-02-10T13:23:06.997Z"
   },
   {
    "duration": 48,
    "start_time": "2023-02-10T13:23:29.995Z"
   },
   {
    "duration": 72,
    "start_time": "2023-02-10T13:23:46.310Z"
   },
   {
    "duration": 7,
    "start_time": "2023-02-10T16:35:06.197Z"
   },
   {
    "duration": 221,
    "start_time": "2023-02-10T16:35:16.394Z"
   },
   {
    "duration": 313,
    "start_time": "2023-02-10T16:35:49.380Z"
   },
   {
    "duration": 189,
    "start_time": "2023-02-10T16:36:07.861Z"
   },
   {
    "duration": 358,
    "start_time": "2023-02-10T16:36:17.455Z"
   },
   {
    "duration": 343,
    "start_time": "2023-02-10T16:36:24.615Z"
   },
   {
    "duration": 281,
    "start_time": "2023-02-10T16:36:43.802Z"
   },
   {
    "duration": 362,
    "start_time": "2023-02-10T16:36:49.264Z"
   },
   {
    "duration": 350,
    "start_time": "2023-02-10T16:37:18.225Z"
   },
   {
    "duration": 341,
    "start_time": "2023-02-10T16:37:33.281Z"
   },
   {
    "duration": 373,
    "start_time": "2023-02-10T16:38:06.433Z"
   },
   {
    "duration": 15,
    "start_time": "2023-02-10T16:45:41.129Z"
   },
   {
    "duration": 11,
    "start_time": "2023-02-10T16:45:46.362Z"
   },
   {
    "duration": 309,
    "start_time": "2023-02-10T16:47:36.672Z"
   },
   {
    "duration": 54,
    "start_time": "2023-02-10T16:47:59.314Z"
   },
   {
    "duration": 47,
    "start_time": "2023-02-10T16:48:03.854Z"
   },
   {
    "duration": 11,
    "start_time": "2023-02-10T16:48:24.513Z"
   },
   {
    "duration": 9,
    "start_time": "2023-02-10T16:48:33.099Z"
   },
   {
    "duration": 6,
    "start_time": "2023-02-10T16:48:41.241Z"
   },
   {
    "duration": 9,
    "start_time": "2023-02-10T16:49:07.552Z"
   },
   {
    "duration": 473,
    "start_time": "2023-02-10T16:49:24.765Z"
   },
   {
    "duration": 48,
    "start_time": "2023-02-10T16:49:59.287Z"
   },
   {
    "duration": 8,
    "start_time": "2023-02-10T16:50:07.613Z"
   },
   {
    "duration": 11,
    "start_time": "2023-02-10T16:50:24.337Z"
   },
   {
    "duration": 10,
    "start_time": "2023-02-10T16:50:43.169Z"
   },
   {
    "duration": 9,
    "start_time": "2023-02-10T16:50:44.317Z"
   },
   {
    "duration": 369,
    "start_time": "2023-02-10T16:50:54.726Z"
   },
   {
    "duration": 310,
    "start_time": "2023-02-10T16:51:03.686Z"
   },
   {
    "duration": 9,
    "start_time": "2023-02-10T16:51:15.351Z"
   },
   {
    "duration": 8,
    "start_time": "2023-02-10T16:51:18.954Z"
   },
   {
    "duration": 11,
    "start_time": "2023-02-10T17:06:22.848Z"
   },
   {
    "duration": 296,
    "start_time": "2023-02-10T17:06:46.140Z"
   },
   {
    "duration": 471,
    "start_time": "2023-02-10T17:23:35.016Z"
   },
   {
    "duration": 53,
    "start_time": "2023-02-11T06:35:37.749Z"
   },
   {
    "duration": 361,
    "start_time": "2023-02-11T06:35:42.698Z"
   },
   {
    "duration": 3015,
    "start_time": "2023-02-11T06:35:43.061Z"
   },
   {
    "duration": 4,
    "start_time": "2023-02-11T06:35:46.078Z"
   },
   {
    "duration": 910,
    "start_time": "2023-02-11T06:35:46.084Z"
   },
   {
    "duration": 328,
    "start_time": "2023-02-11T06:35:46.997Z"
   },
   {
    "duration": 63,
    "start_time": "2023-02-11T06:35:47.327Z"
   },
   {
    "duration": 47,
    "start_time": "2023-02-11T06:35:47.392Z"
   },
   {
    "duration": 10,
    "start_time": "2023-02-11T06:35:47.441Z"
   },
   {
    "duration": 698,
    "start_time": "2023-02-11T06:35:47.453Z"
   },
   {
    "duration": 5,
    "start_time": "2023-02-11T06:40:41.294Z"
   },
   {
    "duration": 43,
    "start_time": "2023-02-11T06:55:11.455Z"
   },
   {
    "duration": 66,
    "start_time": "2023-02-11T06:55:25.482Z"
   },
   {
    "duration": 329,
    "start_time": "2023-02-11T06:55:42.024Z"
   },
   {
    "duration": 251,
    "start_time": "2023-02-11T06:55:57.126Z"
   },
   {
    "duration": 350,
    "start_time": "2023-02-11T06:56:02.966Z"
   },
   {
    "duration": 283,
    "start_time": "2023-02-11T06:56:08.758Z"
   },
   {
    "duration": 44,
    "start_time": "2023-02-11T06:57:40.990Z"
   },
   {
    "duration": 45,
    "start_time": "2023-02-11T06:57:57.961Z"
   },
   {
    "duration": 302,
    "start_time": "2023-02-11T06:58:07.256Z"
   },
   {
    "duration": 275,
    "start_time": "2023-02-11T06:58:27.247Z"
   },
   {
    "duration": 10,
    "start_time": "2023-02-11T08:05:40.969Z"
   },
   {
    "duration": 9,
    "start_time": "2023-02-11T08:05:50.342Z"
   },
   {
    "duration": 34,
    "start_time": "2023-02-11T08:06:03.089Z"
   },
   {
    "duration": 50,
    "start_time": "2023-02-11T08:06:26.653Z"
   },
   {
    "duration": 355,
    "start_time": "2023-02-11T08:06:45.130Z"
   },
   {
    "duration": 3,
    "start_time": "2023-02-11T08:15:28.560Z"
   },
   {
    "duration": 4,
    "start_time": "2023-02-11T08:15:31.966Z"
   },
   {
    "duration": 4,
    "start_time": "2023-02-11T08:15:32.596Z"
   },
   {
    "duration": 4,
    "start_time": "2023-02-11T08:15:33.168Z"
   },
   {
    "duration": 4,
    "start_time": "2023-02-11T08:15:33.642Z"
   },
   {
    "duration": 4,
    "start_time": "2023-02-11T08:15:34.079Z"
   },
   {
    "duration": 5,
    "start_time": "2023-02-11T08:15:34.491Z"
   },
   {
    "duration": 4,
    "start_time": "2023-02-11T08:15:37.158Z"
   },
   {
    "duration": 4,
    "start_time": "2023-02-11T08:15:38.216Z"
   },
   {
    "duration": 3,
    "start_time": "2023-02-11T08:15:39.728Z"
   },
   {
    "duration": 4,
    "start_time": "2023-02-11T08:15:40.660Z"
   },
   {
    "duration": 5,
    "start_time": "2023-02-11T08:15:41.493Z"
   },
   {
    "duration": 8,
    "start_time": "2023-02-11T08:53:13.617Z"
   },
   {
    "duration": 6,
    "start_time": "2023-02-11T08:53:25.247Z"
   },
   {
    "duration": 4,
    "start_time": "2023-02-11T08:53:44.112Z"
   },
   {
    "duration": 3,
    "start_time": "2023-02-11T08:53:46.053Z"
   },
   {
    "duration": 4,
    "start_time": "2023-02-11T08:53:46.879Z"
   },
   {
    "duration": 6,
    "start_time": "2023-02-11T08:53:48.613Z"
   },
   {
    "duration": 6,
    "start_time": "2023-02-11T08:54:10.568Z"
   },
   {
    "duration": 10,
    "start_time": "2023-02-11T08:56:30.869Z"
   },
   {
    "duration": 13,
    "start_time": "2023-02-11T08:57:14.959Z"
   },
   {
    "duration": 13,
    "start_time": "2023-02-11T08:57:22.623Z"
   },
   {
    "duration": 59,
    "start_time": "2023-02-11T09:50:29.289Z"
   },
   {
    "duration": 59,
    "start_time": "2023-02-11T09:50:38.798Z"
   },
   {
    "duration": 58,
    "start_time": "2023-02-11T13:03:27.920Z"
   },
   {
    "duration": 76,
    "start_time": "2023-02-11T13:50:06.176Z"
   },
   {
    "duration": 72,
    "start_time": "2023-02-11T13:50:20.593Z"
   },
   {
    "duration": 43,
    "start_time": "2023-02-11T13:50:42.781Z"
   },
   {
    "duration": 45,
    "start_time": "2023-02-11T13:50:46.456Z"
   },
   {
    "duration": 70,
    "start_time": "2023-02-11T13:50:53.924Z"
   },
   {
    "duration": 742,
    "start_time": "2023-02-11T14:03:11.058Z"
   },
   {
    "duration": 739,
    "start_time": "2023-02-11T14:03:21.412Z"
   },
   {
    "duration": 791,
    "start_time": "2023-02-11T14:03:41.975Z"
   },
   {
    "duration": 12,
    "start_time": "2023-02-11T14:03:58.368Z"
   },
   {
    "duration": 95,
    "start_time": "2023-02-11T14:04:19.224Z"
   },
   {
    "duration": 2,
    "start_time": "2023-02-11T14:04:24.811Z"
   },
   {
    "duration": 1093,
    "start_time": "2023-02-11T14:04:24.834Z"
   },
   {
    "duration": 8,
    "start_time": "2023-02-11T14:04:25.930Z"
   },
   {
    "duration": 854,
    "start_time": "2023-02-11T14:04:25.940Z"
   },
   {
    "duration": 297,
    "start_time": "2023-02-11T14:04:26.796Z"
   },
   {
    "duration": 67,
    "start_time": "2023-02-11T14:04:27.096Z"
   },
   {
    "duration": 33,
    "start_time": "2023-02-11T14:04:27.165Z"
   },
   {
    "duration": 7,
    "start_time": "2023-02-11T14:04:27.200Z"
   },
   {
    "duration": 281,
    "start_time": "2023-02-11T14:04:27.209Z"
   },
   {
    "duration": 46,
    "start_time": "2023-02-11T14:04:27.492Z"
   },
   {
    "duration": 268,
    "start_time": "2023-02-11T14:04:27.539Z"
   },
   {
    "duration": 360,
    "start_time": "2023-02-11T14:04:27.809Z"
   },
   {
    "duration": 379,
    "start_time": "2023-02-11T14:04:28.170Z"
   },
   {
    "duration": 3,
    "start_time": "2023-02-11T14:04:28.551Z"
   },
   {
    "duration": 15,
    "start_time": "2023-02-11T14:04:28.556Z"
   },
   {
    "duration": 86,
    "start_time": "2023-02-11T14:04:31.413Z"
   },
   {
    "duration": 27,
    "start_time": "2023-02-11T14:04:35.027Z"
   },
   {
    "duration": 266,
    "start_time": "2023-02-11T14:04:42.639Z"
   },
   {
    "duration": 381,
    "start_time": "2023-02-11T14:05:35.924Z"
   },
   {
    "duration": 313,
    "start_time": "2023-02-11T14:05:51.372Z"
   },
   {
    "duration": 321,
    "start_time": "2023-02-11T14:11:06.933Z"
   },
   {
    "duration": 271,
    "start_time": "2023-02-11T14:11:14.477Z"
   },
   {
    "duration": 316,
    "start_time": "2023-02-11T14:11:36.046Z"
   },
   {
    "duration": 322,
    "start_time": "2023-02-11T14:11:50.318Z"
   },
   {
    "duration": 393,
    "start_time": "2023-02-11T14:12:26.556Z"
   },
   {
    "duration": 21,
    "start_time": "2023-02-11T19:17:09.828Z"
   },
   {
    "duration": 26,
    "start_time": "2023-02-11T19:17:24.260Z"
   },
   {
    "duration": 30,
    "start_time": "2023-02-11T19:17:40.688Z"
   },
   {
    "duration": 47,
    "start_time": "2023-02-12T07:00:29.594Z"
   },
   {
    "duration": 362,
    "start_time": "2023-02-12T07:00:34.386Z"
   },
   {
    "duration": 1400,
    "start_time": "2023-02-12T07:00:34.750Z"
   },
   {
    "duration": 4,
    "start_time": "2023-02-12T07:00:36.152Z"
   },
   {
    "duration": 1019,
    "start_time": "2023-02-12T07:00:36.157Z"
   },
   {
    "duration": 322,
    "start_time": "2023-02-12T07:00:37.179Z"
   },
   {
    "duration": 63,
    "start_time": "2023-02-12T07:00:37.503Z"
   },
   {
    "duration": 43,
    "start_time": "2023-02-12T07:00:37.569Z"
   },
   {
    "duration": 20,
    "start_time": "2023-02-12T07:00:37.614Z"
   },
   {
    "duration": 740,
    "start_time": "2023-02-12T07:00:37.636Z"
   },
   {
    "duration": 53,
    "start_time": "2023-02-12T07:00:38.381Z"
   },
   {
    "duration": 282,
    "start_time": "2023-02-12T07:00:38.436Z"
   },
   {
    "duration": 417,
    "start_time": "2023-02-12T07:00:38.720Z"
   },
   {
    "duration": 361,
    "start_time": "2023-02-12T07:00:39.139Z"
   },
   {
    "duration": 2,
    "start_time": "2023-02-12T07:00:39.503Z"
   },
   {
    "duration": 24,
    "start_time": "2023-02-12T07:00:39.507Z"
   },
   {
    "duration": 79,
    "start_time": "2023-02-12T07:00:39.534Z"
   },
   {
    "duration": 380,
    "start_time": "2023-02-12T07:00:39.628Z"
   },
   {
    "duration": 400,
    "start_time": "2023-02-12T07:00:40.010Z"
   },
   {
    "duration": 50,
    "start_time": "2023-02-12T07:00:40.413Z"
   },
   {
    "duration": 17,
    "start_time": "2023-02-12T07:00:43.267Z"
   },
   {
    "duration": 319,
    "start_time": "2023-02-12T07:29:48.385Z"
   },
   {
    "duration": 317,
    "start_time": "2023-02-12T07:30:07.519Z"
   },
   {
    "duration": 295,
    "start_time": "2023-02-12T07:30:14.870Z"
   },
   {
    "duration": 287,
    "start_time": "2023-02-12T07:31:08.203Z"
   },
   {
    "duration": 23,
    "start_time": "2023-02-12T07:31:44.174Z"
   },
   {
    "duration": 292,
    "start_time": "2023-02-12T07:31:52.269Z"
   },
   {
    "duration": 176,
    "start_time": "2023-02-12T07:32:17.145Z"
   },
   {
    "duration": 72,
    "start_time": "2023-02-12T07:32:46.981Z"
   },
   {
    "duration": 5,
    "start_time": "2023-02-12T07:32:53.015Z"
   },
   {
    "duration": 4,
    "start_time": "2023-02-12T07:33:47.728Z"
   },
   {
    "duration": 4,
    "start_time": "2023-02-12T07:33:50.996Z"
   },
   {
    "duration": 131,
    "start_time": "2023-02-12T07:34:17.280Z"
   },
   {
    "duration": 24,
    "start_time": "2023-02-12T07:34:22.687Z"
   },
   {
    "duration": 1752,
    "start_time": "2023-02-12T07:34:47.107Z"
   },
   {
    "duration": 93,
    "start_time": "2023-02-12T07:34:50.365Z"
   },
   {
    "duration": 101,
    "start_time": "2023-02-12T07:35:43.962Z"
   },
   {
    "duration": 14,
    "start_time": "2023-02-12T07:35:45.195Z"
   },
   {
    "duration": 106,
    "start_time": "2023-02-12T07:36:36.452Z"
   },
   {
    "duration": 126,
    "start_time": "2023-02-12T07:36:40.153Z"
   },
   {
    "duration": 13,
    "start_time": "2023-02-12T07:36:41.776Z"
   },
   {
    "duration": 70,
    "start_time": "2023-02-12T07:42:36.056Z"
   },
   {
    "duration": 12,
    "start_time": "2023-02-12T07:42:39.291Z"
   },
   {
    "duration": 27,
    "start_time": "2023-02-12T07:42:51.207Z"
   },
   {
    "duration": 206,
    "start_time": "2023-02-12T07:43:20.540Z"
   },
   {
    "duration": 197,
    "start_time": "2023-02-12T07:43:29.951Z"
   },
   {
    "duration": 176,
    "start_time": "2023-02-12T07:43:37.120Z"
   },
   {
    "duration": 96,
    "start_time": "2023-02-12T07:43:48.224Z"
   },
   {
    "duration": 11,
    "start_time": "2023-02-12T07:43:52.165Z"
   },
   {
    "duration": 19,
    "start_time": "2023-02-12T08:29:14.063Z"
   },
   {
    "duration": 4,
    "start_time": "2023-02-12T08:32:02.954Z"
   },
   {
    "duration": 119,
    "start_time": "2023-02-12T08:38:27.980Z"
   },
   {
    "duration": 6,
    "start_time": "2023-02-12T08:38:42.749Z"
   },
   {
    "duration": 28,
    "start_time": "2023-02-12T08:40:38.429Z"
   },
   {
    "duration": 35,
    "start_time": "2023-02-12T08:40:48.807Z"
   },
   {
    "duration": 66,
    "start_time": "2023-02-12T08:41:05.219Z"
   },
   {
    "duration": 5,
    "start_time": "2023-02-12T08:51:56.065Z"
   },
   {
    "duration": 1305,
    "start_time": "2023-02-12T08:51:56.072Z"
   },
   {
    "duration": 5,
    "start_time": "2023-02-12T08:51:57.380Z"
   },
   {
    "duration": 1018,
    "start_time": "2023-02-12T08:51:57.387Z"
   },
   {
    "duration": 284,
    "start_time": "2023-02-12T08:51:58.407Z"
   },
   {
    "duration": 71,
    "start_time": "2023-02-12T08:51:58.693Z"
   },
   {
    "duration": 35,
    "start_time": "2023-02-12T08:51:58.766Z"
   },
   {
    "duration": 39,
    "start_time": "2023-02-12T08:51:58.804Z"
   },
   {
    "duration": 414,
    "start_time": "2023-02-12T08:51:58.845Z"
   },
   {
    "duration": 51,
    "start_time": "2023-02-12T08:51:59.263Z"
   },
   {
    "duration": 320,
    "start_time": "2023-02-12T08:51:59.316Z"
   },
   {
    "duration": 400,
    "start_time": "2023-02-12T08:51:59.644Z"
   },
   {
    "duration": 461,
    "start_time": "2023-02-12T08:52:00.046Z"
   },
   {
    "duration": 2,
    "start_time": "2023-02-12T08:52:00.510Z"
   },
   {
    "duration": 187,
    "start_time": "2023-02-12T08:52:00.514Z"
   },
   {
    "duration": 210,
    "start_time": "2023-02-12T08:52:00.704Z"
   },
   {
    "duration": 577,
    "start_time": "2023-02-12T08:52:00.918Z"
   },
   {
    "duration": 489,
    "start_time": "2023-02-12T08:52:01.499Z"
   },
   {
    "duration": 60,
    "start_time": "2023-02-12T08:52:01.991Z"
   },
   {
    "duration": 110,
    "start_time": "2023-02-12T08:52:05.874Z"
   },
   {
    "duration": 124,
    "start_time": "2023-02-12T08:55:03.594Z"
   },
   {
    "duration": 12,
    "start_time": "2023-02-12T08:55:46.357Z"
   },
   {
    "duration": 22,
    "start_time": "2023-02-12T08:56:02.590Z"
   },
   {
    "duration": 37,
    "start_time": "2023-02-12T08:56:14.256Z"
   },
   {
    "duration": 63,
    "start_time": "2023-02-12T08:57:25.597Z"
   },
   {
    "duration": 34,
    "start_time": "2023-02-12T09:11:17.761Z"
   },
   {
    "duration": 80,
    "start_time": "2023-02-12T10:54:24.372Z"
   },
   {
    "duration": 72,
    "start_time": "2023-02-12T10:54:44.648Z"
   },
   {
    "duration": 28,
    "start_time": "2023-02-12T10:55:51.851Z"
   },
   {
    "duration": 64,
    "start_time": "2023-02-12T10:55:55.425Z"
   },
   {
    "duration": 167,
    "start_time": "2023-02-12T10:56:29.602Z"
   },
   {
    "duration": 83,
    "start_time": "2023-02-12T10:56:35.084Z"
   },
   {
    "duration": 8,
    "start_time": "2023-02-12T11:02:43.977Z"
   },
   {
    "duration": 5,
    "start_time": "2023-02-12T11:02:55.104Z"
   },
   {
    "duration": 2,
    "start_time": "2023-02-12T11:07:32.007Z"
   },
   {
    "duration": 1035,
    "start_time": "2023-02-12T11:07:32.011Z"
   },
   {
    "duration": 4,
    "start_time": "2023-02-12T11:07:33.047Z"
   },
   {
    "duration": 868,
    "start_time": "2023-02-12T11:07:33.052Z"
   },
   {
    "duration": 276,
    "start_time": "2023-02-12T11:07:33.923Z"
   },
   {
    "duration": 65,
    "start_time": "2023-02-12T11:07:34.201Z"
   },
   {
    "duration": 33,
    "start_time": "2023-02-12T11:07:34.268Z"
   },
   {
    "duration": 26,
    "start_time": "2023-02-12T11:07:34.303Z"
   },
   {
    "duration": 290,
    "start_time": "2023-02-12T11:07:34.332Z"
   },
   {
    "duration": 35,
    "start_time": "2023-02-12T11:07:34.636Z"
   },
   {
    "duration": 274,
    "start_time": "2023-02-12T11:07:34.673Z"
   },
   {
    "duration": 351,
    "start_time": "2023-02-12T11:07:34.949Z"
   },
   {
    "duration": 335,
    "start_time": "2023-02-12T11:07:35.301Z"
   },
   {
    "duration": 3,
    "start_time": "2023-02-12T11:07:35.639Z"
   },
   {
    "duration": 29,
    "start_time": "2023-02-12T11:07:35.643Z"
   },
   {
    "duration": 73,
    "start_time": "2023-02-12T11:07:35.674Z"
   },
   {
    "duration": 309,
    "start_time": "2023-02-12T11:07:35.748Z"
   },
   {
    "duration": 433,
    "start_time": "2023-02-12T11:07:36.059Z"
   },
   {
    "duration": 44,
    "start_time": "2023-02-12T11:07:36.494Z"
   },
   {
    "duration": 67,
    "start_time": "2023-02-12T11:07:36.540Z"
   },
   {
    "duration": 5,
    "start_time": "2023-02-12T11:07:41.216Z"
   },
   {
    "duration": 27,
    "start_time": "2023-02-12T11:08:02.086Z"
   },
   {
    "duration": 5,
    "start_time": "2023-02-12T11:08:05.358Z"
   },
   {
    "duration": 7,
    "start_time": "2023-02-12T11:09:23.411Z"
   },
   {
    "duration": 101,
    "start_time": "2023-02-12T11:09:30.379Z"
   },
   {
    "duration": 8,
    "start_time": "2023-02-12T11:11:47.809Z"
   },
   {
    "duration": 3,
    "start_time": "2023-02-12T11:12:02.007Z"
   },
   {
    "duration": 1015,
    "start_time": "2023-02-12T11:12:02.012Z"
   },
   {
    "duration": 6,
    "start_time": "2023-02-12T11:12:03.029Z"
   },
   {
    "duration": 824,
    "start_time": "2023-02-12T11:12:03.038Z"
   },
   {
    "duration": 268,
    "start_time": "2023-02-12T11:12:03.864Z"
   },
   {
    "duration": 53,
    "start_time": "2023-02-12T11:12:04.134Z"
   },
   {
    "duration": 51,
    "start_time": "2023-02-12T11:12:04.189Z"
   },
   {
    "duration": 8,
    "start_time": "2023-02-12T11:12:04.242Z"
   },
   {
    "duration": 284,
    "start_time": "2023-02-12T11:12:04.252Z"
   },
   {
    "duration": 33,
    "start_time": "2023-02-12T11:12:04.537Z"
   },
   {
    "duration": 283,
    "start_time": "2023-02-12T11:12:04.572Z"
   },
   {
    "duration": 347,
    "start_time": "2023-02-12T11:12:04.856Z"
   },
   {
    "duration": 351,
    "start_time": "2023-02-12T11:12:05.205Z"
   },
   {
    "duration": 3,
    "start_time": "2023-02-12T11:12:05.557Z"
   },
   {
    "duration": 26,
    "start_time": "2023-02-12T11:12:05.562Z"
   },
   {
    "duration": 82,
    "start_time": "2023-02-12T11:12:05.590Z"
   },
   {
    "duration": 319,
    "start_time": "2023-02-12T11:12:05.674Z"
   },
   {
    "duration": 450,
    "start_time": "2023-02-12T11:12:05.995Z"
   },
   {
    "duration": 32,
    "start_time": "2023-02-12T11:12:06.446Z"
   },
   {
    "duration": 86,
    "start_time": "2023-02-12T11:12:06.479Z"
   },
   {
    "duration": 27,
    "start_time": "2023-02-12T11:12:06.567Z"
   },
   {
    "duration": 6,
    "start_time": "2023-02-12T11:12:18.749Z"
   },
   {
    "duration": 6,
    "start_time": "2023-02-12T11:12:29.175Z"
   },
   {
    "duration": 6,
    "start_time": "2023-02-12T11:12:31.856Z"
   },
   {
    "duration": 32,
    "start_time": "2023-02-12T11:12:56.948Z"
   },
   {
    "duration": 83,
    "start_time": "2023-02-12T11:13:36.188Z"
   },
   {
    "duration": 68,
    "start_time": "2023-02-12T11:14:13.101Z"
   },
   {
    "duration": 381,
    "start_time": "2023-02-12T18:36:52.310Z"
   },
   {
    "duration": 3479,
    "start_time": "2023-02-12T18:36:52.692Z"
   },
   {
    "duration": 3,
    "start_time": "2023-02-12T18:36:56.173Z"
   },
   {
    "duration": 888,
    "start_time": "2023-02-12T18:36:56.178Z"
   },
   {
    "duration": 324,
    "start_time": "2023-02-12T18:36:57.068Z"
   },
   {
    "duration": 55,
    "start_time": "2023-02-12T18:36:57.394Z"
   },
   {
    "duration": 36,
    "start_time": "2023-02-12T18:36:57.451Z"
   },
   {
    "duration": 7,
    "start_time": "2023-02-12T18:36:57.488Z"
   },
   {
    "duration": 705,
    "start_time": "2023-02-12T18:36:57.496Z"
   },
   {
    "duration": 63,
    "start_time": "2023-02-12T18:36:58.203Z"
   },
   {
    "duration": 262,
    "start_time": "2023-02-12T18:36:58.267Z"
   },
   {
    "duration": 393,
    "start_time": "2023-02-12T18:36:58.531Z"
   },
   {
    "duration": 356,
    "start_time": "2023-02-12T18:36:58.926Z"
   },
   {
    "duration": 3,
    "start_time": "2023-02-12T18:36:59.284Z"
   },
   {
    "duration": 13,
    "start_time": "2023-02-12T18:36:59.288Z"
   },
   {
    "duration": 93,
    "start_time": "2023-02-12T18:36:59.302Z"
   },
   {
    "duration": 305,
    "start_time": "2023-02-12T18:36:59.396Z"
   },
   {
    "duration": 323,
    "start_time": "2023-02-12T18:36:59.703Z"
   },
   {
    "duration": 46,
    "start_time": "2023-02-12T18:37:00.027Z"
   },
   {
    "duration": 87,
    "start_time": "2023-02-12T18:37:00.074Z"
   },
   {
    "duration": 32,
    "start_time": "2023-02-12T18:37:00.162Z"
   },
   {
    "duration": 81,
    "start_time": "2023-02-12T18:37:04.037Z"
   },
   {
    "duration": 213,
    "start_time": "2023-02-12T18:37:24.233Z"
   },
   {
    "duration": 217,
    "start_time": "2023-02-12T18:37:31.283Z"
   },
   {
    "duration": 79,
    "start_time": "2023-02-12T19:09:36.721Z"
   },
   {
    "duration": 7,
    "start_time": "2023-02-12T19:09:48.308Z"
   },
   {
    "duration": 7,
    "start_time": "2023-02-12T19:09:52.683Z"
   },
   {
    "duration": 8,
    "start_time": "2023-02-12T19:12:18.898Z"
   },
   {
    "duration": 236,
    "start_time": "2023-02-12T19:12:42.500Z"
   },
   {
    "duration": 237,
    "start_time": "2023-02-12T19:12:51.465Z"
   },
   {
    "duration": 277,
    "start_time": "2023-02-12T19:13:04.319Z"
   },
   {
    "duration": 443,
    "start_time": "2023-02-12T19:13:09.995Z"
   },
   {
    "duration": 451,
    "start_time": "2023-02-12T19:13:16.686Z"
   },
   {
    "duration": 451,
    "start_time": "2023-02-12T19:13:48.725Z"
   },
   {
    "duration": 46,
    "start_time": "2023-02-13T07:27:45.290Z"
   },
   {
    "duration": 394,
    "start_time": "2023-02-13T07:27:48.964Z"
   },
   {
    "duration": 3703,
    "start_time": "2023-02-13T07:27:49.360Z"
   },
   {
    "duration": 14,
    "start_time": "2023-02-13T07:27:53.070Z"
   },
   {
    "duration": 914,
    "start_time": "2023-02-13T07:27:53.086Z"
   },
   {
    "duration": 310,
    "start_time": "2023-02-13T07:27:54.002Z"
   },
   {
    "duration": 65,
    "start_time": "2023-02-13T07:27:54.313Z"
   },
   {
    "duration": 37,
    "start_time": "2023-02-13T07:27:54.380Z"
   },
   {
    "duration": 7,
    "start_time": "2023-02-13T07:27:54.418Z"
   },
   {
    "duration": 847,
    "start_time": "2023-02-13T07:27:54.426Z"
   },
   {
    "duration": 59,
    "start_time": "2023-02-13T07:27:55.279Z"
   },
   {
    "duration": 275,
    "start_time": "2023-02-13T07:27:55.340Z"
   },
   {
    "duration": 383,
    "start_time": "2023-02-13T07:27:55.617Z"
   },
   {
    "duration": 406,
    "start_time": "2023-02-13T07:27:56.002Z"
   },
   {
    "duration": 3,
    "start_time": "2023-02-13T07:27:56.410Z"
   },
   {
    "duration": 13,
    "start_time": "2023-02-13T07:27:56.415Z"
   },
   {
    "duration": 91,
    "start_time": "2023-02-13T07:27:56.430Z"
   },
   {
    "duration": 302,
    "start_time": "2023-02-13T07:27:56.522Z"
   },
   {
    "duration": 330,
    "start_time": "2023-02-13T07:27:56.826Z"
   },
   {
    "duration": 44,
    "start_time": "2023-02-13T07:27:57.158Z"
   },
   {
    "duration": 81,
    "start_time": "2023-02-13T07:27:57.203Z"
   },
   {
    "duration": 30,
    "start_time": "2023-02-13T07:27:57.286Z"
   },
   {
    "duration": 423,
    "start_time": "2023-02-13T07:27:57.318Z"
   },
   {
    "duration": 89,
    "start_time": "2023-02-13T07:27:57.743Z"
   },
   {
    "duration": 18,
    "start_time": "2023-02-13T07:33:24.255Z"
   },
   {
    "duration": 55,
    "start_time": "2023-02-13T07:33:33.137Z"
   },
   {
    "duration": 10,
    "start_time": "2023-02-13T07:33:44.754Z"
   },
   {
    "duration": 23,
    "start_time": "2023-02-13T07:33:51.552Z"
   },
   {
    "duration": 604,
    "start_time": "2023-02-13T07:47:38.784Z"
   },
   {
    "duration": 11,
    "start_time": "2023-02-13T07:49:56.491Z"
   },
   {
    "duration": 11,
    "start_time": "2023-02-13T07:50:35.517Z"
   },
   {
    "duration": 2,
    "start_time": "2023-02-13T07:50:41.626Z"
   },
   {
    "duration": 1016,
    "start_time": "2023-02-13T07:50:41.630Z"
   },
   {
    "duration": 4,
    "start_time": "2023-02-13T07:50:42.647Z"
   },
   {
    "duration": 915,
    "start_time": "2023-02-13T07:50:42.653Z"
   },
   {
    "duration": 276,
    "start_time": "2023-02-13T07:50:43.573Z"
   },
   {
    "duration": 70,
    "start_time": "2023-02-13T07:50:43.850Z"
   },
   {
    "duration": 33,
    "start_time": "2023-02-13T07:50:43.921Z"
   },
   {
    "duration": 19,
    "start_time": "2023-02-13T07:50:43.955Z"
   },
   {
    "duration": 276,
    "start_time": "2023-02-13T07:50:43.976Z"
   },
   {
    "duration": 46,
    "start_time": "2023-02-13T07:50:44.253Z"
   },
   {
    "duration": 346,
    "start_time": "2023-02-13T07:50:44.301Z"
   },
   {
    "duration": 400,
    "start_time": "2023-02-13T07:50:44.649Z"
   },
   {
    "duration": 356,
    "start_time": "2023-02-13T07:50:45.051Z"
   },
   {
    "duration": 4,
    "start_time": "2023-02-13T07:50:45.411Z"
   },
   {
    "duration": 16,
    "start_time": "2023-02-13T07:50:45.417Z"
   },
   {
    "duration": 94,
    "start_time": "2023-02-13T07:50:45.434Z"
   },
   {
    "duration": 313,
    "start_time": "2023-02-13T07:50:45.529Z"
   },
   {
    "duration": 339,
    "start_time": "2023-02-13T07:50:45.844Z"
   },
   {
    "duration": 30,
    "start_time": "2023-02-13T07:50:46.185Z"
   },
   {
    "duration": 72,
    "start_time": "2023-02-13T07:50:46.216Z"
   },
   {
    "duration": 30,
    "start_time": "2023-02-13T07:50:46.290Z"
   },
   {
    "duration": 402,
    "start_time": "2023-02-13T07:50:46.322Z"
   },
   {
    "duration": 104,
    "start_time": "2023-02-13T07:50:46.726Z"
   },
   {
    "duration": 17,
    "start_time": "2023-02-13T07:50:46.832Z"
   },
   {
    "duration": 30,
    "start_time": "2023-02-13T07:50:46.852Z"
   },
   {
    "duration": 18,
    "start_time": "2023-02-13T07:50:48.564Z"
   },
   {
    "duration": 565,
    "start_time": "2023-02-13T07:51:20.956Z"
   },
   {
    "duration": 2,
    "start_time": "2023-02-13T13:01:31.066Z"
   },
   {
    "duration": 962,
    "start_time": "2023-02-13T13:01:31.070Z"
   },
   {
    "duration": 4,
    "start_time": "2023-02-13T13:01:58.979Z"
   },
   {
    "duration": 8,
    "start_time": "2023-02-13T13:02:11.935Z"
   },
   {
    "duration": 115,
    "start_time": "2023-02-13T13:02:22.055Z"
   },
   {
    "duration": 57,
    "start_time": "2023-02-13T13:02:26.654Z"
   },
   {
    "duration": 10,
    "start_time": "2023-02-13T13:02:33.495Z"
   },
   {
    "duration": 830,
    "start_time": "2023-02-13T14:53:54.925Z"
   },
   {
    "duration": 128,
    "start_time": "2023-02-13T14:59:49.942Z"
   },
   {
    "duration": 130,
    "start_time": "2023-02-13T14:59:52.505Z"
   },
   {
    "duration": 1744,
    "start_time": "2023-02-13T14:59:59.847Z"
   },
   {
    "duration": 2,
    "start_time": "2023-02-13T15:00:09.239Z"
   },
   {
    "duration": 1028,
    "start_time": "2023-02-13T15:00:09.243Z"
   },
   {
    "duration": 3,
    "start_time": "2023-02-13T15:00:10.273Z"
   },
   {
    "duration": 803,
    "start_time": "2023-02-13T15:00:10.278Z"
   },
   {
    "duration": 253,
    "start_time": "2023-02-13T15:00:11.083Z"
   },
   {
    "duration": 59,
    "start_time": "2023-02-13T15:00:11.338Z"
   },
   {
    "duration": 32,
    "start_time": "2023-02-13T15:00:11.398Z"
   },
   {
    "duration": 7,
    "start_time": "2023-02-13T15:00:11.431Z"
   },
   {
    "duration": 349,
    "start_time": "2023-02-13T15:00:11.440Z"
   },
   {
    "duration": 35,
    "start_time": "2023-02-13T15:00:11.791Z"
   },
   {
    "duration": 262,
    "start_time": "2023-02-13T15:00:11.828Z"
   },
   {
    "duration": 329,
    "start_time": "2023-02-13T15:00:12.092Z"
   },
   {
    "duration": 329,
    "start_time": "2023-02-13T15:00:12.422Z"
   },
   {
    "duration": 3,
    "start_time": "2023-02-13T15:00:12.753Z"
   },
   {
    "duration": 24,
    "start_time": "2023-02-13T15:00:12.758Z"
   },
   {
    "duration": 86,
    "start_time": "2023-02-13T15:00:12.784Z"
   },
   {
    "duration": 286,
    "start_time": "2023-02-13T15:00:12.872Z"
   },
   {
    "duration": 277,
    "start_time": "2023-02-13T15:00:13.160Z"
   },
   {
    "duration": 47,
    "start_time": "2023-02-13T15:00:13.439Z"
   },
   {
    "duration": 86,
    "start_time": "2023-02-13T15:00:13.488Z"
   },
   {
    "duration": 35,
    "start_time": "2023-02-13T15:00:13.576Z"
   },
   {
    "duration": 12,
    "start_time": "2023-02-13T15:32:34.447Z"
   },
   {
    "duration": 22,
    "start_time": "2023-02-13T15:32:47.692Z"
   },
   {
    "duration": 559,
    "start_time": "2023-02-13T17:51:08.175Z"
   },
   {
    "duration": 73,
    "start_time": "2023-02-14T07:00:01.424Z"
   },
   {
    "duration": 390,
    "start_time": "2023-02-14T07:00:05.745Z"
   },
   {
    "duration": 3630,
    "start_time": "2023-02-14T07:00:06.137Z"
   },
   {
    "duration": 4,
    "start_time": "2023-02-14T07:00:09.769Z"
   },
   {
    "duration": 1037,
    "start_time": "2023-02-14T07:00:09.775Z"
   },
   {
    "duration": 349,
    "start_time": "2023-02-14T07:00:10.815Z"
   },
   {
    "duration": 71,
    "start_time": "2023-02-14T07:00:11.167Z"
   },
   {
    "duration": 47,
    "start_time": "2023-02-14T07:00:11.243Z"
   },
   {
    "duration": 11,
    "start_time": "2023-02-14T07:00:11.305Z"
   },
   {
    "duration": 931,
    "start_time": "2023-02-14T07:00:11.319Z"
   },
   {
    "duration": 69,
    "start_time": "2023-02-14T07:00:12.252Z"
   },
   {
    "duration": 324,
    "start_time": "2023-02-14T07:00:12.324Z"
   },
   {
    "duration": 434,
    "start_time": "2023-02-14T07:00:12.649Z"
   },
   {
    "duration": 403,
    "start_time": "2023-02-14T07:00:13.085Z"
   },
   {
    "duration": 12,
    "start_time": "2023-02-14T07:00:13.492Z"
   },
   {
    "duration": 37,
    "start_time": "2023-02-14T07:00:13.506Z"
   },
   {
    "duration": 88,
    "start_time": "2023-02-14T07:00:13.545Z"
   },
   {
    "duration": 343,
    "start_time": "2023-02-14T07:00:13.634Z"
   },
   {
    "duration": 349,
    "start_time": "2023-02-14T07:00:13.979Z"
   },
   {
    "duration": 35,
    "start_time": "2023-02-14T07:00:14.330Z"
   },
   {
    "duration": 98,
    "start_time": "2023-02-14T07:00:14.367Z"
   },
   {
    "duration": 52,
    "start_time": "2023-02-14T07:00:14.467Z"
   },
   {
    "duration": 469,
    "start_time": "2023-02-14T07:00:14.521Z"
   },
   {
    "duration": 97,
    "start_time": "2023-02-14T07:00:14.992Z"
   },
   {
    "duration": 35,
    "start_time": "2023-02-14T07:00:15.091Z"
   },
   {
    "duration": 12,
    "start_time": "2023-02-14T07:00:23.380Z"
   },
   {
    "duration": 30,
    "start_time": "2023-02-14T07:14:52.148Z"
   },
   {
    "duration": 39,
    "start_time": "2023-02-14T08:11:45.129Z"
   },
   {
    "duration": 658,
    "start_time": "2023-02-14T08:12:05.752Z"
   },
   {
    "duration": 37,
    "start_time": "2023-02-14T08:12:17.528Z"
   },
   {
    "duration": 9,
    "start_time": "2023-02-14T08:12:37.674Z"
   },
   {
    "duration": 9,
    "start_time": "2023-02-14T08:20:48.280Z"
   },
   {
    "duration": 9,
    "start_time": "2023-02-14T08:22:23.813Z"
   },
   {
    "duration": 19,
    "start_time": "2023-02-14T08:22:34.554Z"
   },
   {
    "duration": 399,
    "start_time": "2023-02-14T08:22:37.616Z"
   },
   {
    "duration": 413,
    "start_time": "2023-02-14T08:23:04.982Z"
   },
   {
    "duration": 426,
    "start_time": "2023-02-14T08:23:13.604Z"
   },
   {
    "duration": 432,
    "start_time": "2023-02-14T08:23:23.916Z"
   },
   {
    "duration": 2,
    "start_time": "2023-02-14T08:23:51.271Z"
   },
   {
    "duration": 948,
    "start_time": "2023-02-14T08:23:51.275Z"
   },
   {
    "duration": 4,
    "start_time": "2023-02-14T08:23:52.225Z"
   },
   {
    "duration": 769,
    "start_time": "2023-02-14T08:23:52.231Z"
   },
   {
    "duration": 239,
    "start_time": "2023-02-14T08:23:53.003Z"
   },
   {
    "duration": 60,
    "start_time": "2023-02-14T08:23:53.243Z"
   },
   {
    "duration": 33,
    "start_time": "2023-02-14T08:23:53.305Z"
   },
   {
    "duration": 7,
    "start_time": "2023-02-14T08:23:53.339Z"
   },
   {
    "duration": 266,
    "start_time": "2023-02-14T08:23:53.348Z"
   },
   {
    "duration": 33,
    "start_time": "2023-02-14T08:23:53.615Z"
   },
   {
    "duration": 248,
    "start_time": "2023-02-14T08:23:53.649Z"
   },
   {
    "duration": 378,
    "start_time": "2023-02-14T08:23:53.903Z"
   },
   {
    "duration": 312,
    "start_time": "2023-02-14T08:23:54.283Z"
   },
   {
    "duration": 6,
    "start_time": "2023-02-14T08:23:54.597Z"
   },
   {
    "duration": 9,
    "start_time": "2023-02-14T08:23:54.605Z"
   },
   {
    "duration": 72,
    "start_time": "2023-02-14T08:23:54.616Z"
   },
   {
    "duration": 295,
    "start_time": "2023-02-14T08:23:54.690Z"
   },
   {
    "duration": 313,
    "start_time": "2023-02-14T08:23:54.987Z"
   },
   {
    "duration": 34,
    "start_time": "2023-02-14T08:23:55.302Z"
   },
   {
    "duration": 87,
    "start_time": "2023-02-14T08:23:55.337Z"
   },
   {
    "duration": 31,
    "start_time": "2023-02-14T08:23:55.426Z"
   },
   {
    "duration": 390,
    "start_time": "2023-02-14T08:23:55.459Z"
   },
   {
    "duration": 77,
    "start_time": "2023-02-14T08:23:55.851Z"
   },
   {
    "duration": 16,
    "start_time": "2023-02-14T08:23:55.930Z"
   },
   {
    "duration": 25,
    "start_time": "2023-02-14T08:23:55.947Z"
   },
   {
    "duration": 36,
    "start_time": "2023-02-14T08:23:55.974Z"
   },
   {
    "duration": 408,
    "start_time": "2023-02-14T08:23:59.196Z"
   },
   {
    "duration": 448,
    "start_time": "2023-02-14T08:24:48.678Z"
   },
   {
    "duration": 477,
    "start_time": "2023-02-14T08:25:50.777Z"
   },
   {
    "duration": 451,
    "start_time": "2023-02-14T08:26:14.543Z"
   },
   {
    "duration": 4,
    "start_time": "2023-02-14T08:26:37.160Z"
   },
   {
    "duration": 439,
    "start_time": "2023-02-14T08:26:57.096Z"
   },
   {
    "duration": 523,
    "start_time": "2023-02-14T08:27:26.746Z"
   },
   {
    "duration": 428,
    "start_time": "2023-02-14T08:29:49.962Z"
   },
   {
    "duration": 4,
    "start_time": "2023-02-14T08:30:33.148Z"
   },
   {
    "duration": 1031,
    "start_time": "2023-02-14T08:30:33.156Z"
   },
   {
    "duration": 4,
    "start_time": "2023-02-14T08:30:34.189Z"
   },
   {
    "duration": 792,
    "start_time": "2023-02-14T08:30:34.195Z"
   },
   {
    "duration": 244,
    "start_time": "2023-02-14T08:30:34.990Z"
   },
   {
    "duration": 67,
    "start_time": "2023-02-14T08:30:35.237Z"
   },
   {
    "duration": 36,
    "start_time": "2023-02-14T08:30:35.306Z"
   },
   {
    "duration": 9,
    "start_time": "2023-02-14T08:30:35.344Z"
   },
   {
    "duration": 282,
    "start_time": "2023-02-14T08:30:35.356Z"
   },
   {
    "duration": 33,
    "start_time": "2023-02-14T08:30:35.641Z"
   },
   {
    "duration": 271,
    "start_time": "2023-02-14T08:30:35.676Z"
   },
   {
    "duration": 422,
    "start_time": "2023-02-14T08:30:35.949Z"
   },
   {
    "duration": 360,
    "start_time": "2023-02-14T08:30:36.374Z"
   },
   {
    "duration": 3,
    "start_time": "2023-02-14T08:30:36.737Z"
   },
   {
    "duration": 22,
    "start_time": "2023-02-14T08:30:36.741Z"
   },
   {
    "duration": 120,
    "start_time": "2023-02-14T08:30:36.765Z"
   },
   {
    "duration": 303,
    "start_time": "2023-02-14T08:30:36.886Z"
   },
   {
    "duration": 303,
    "start_time": "2023-02-14T08:30:37.191Z"
   },
   {
    "duration": 36,
    "start_time": "2023-02-14T08:30:37.496Z"
   },
   {
    "duration": 83,
    "start_time": "2023-02-14T08:30:37.534Z"
   },
   {
    "duration": 34,
    "start_time": "2023-02-14T08:30:37.618Z"
   },
   {
    "duration": 420,
    "start_time": "2023-02-14T08:30:37.653Z"
   },
   {
    "duration": 69,
    "start_time": "2023-02-14T08:30:38.075Z"
   },
   {
    "duration": 15,
    "start_time": "2023-02-14T08:30:38.145Z"
   },
   {
    "duration": 43,
    "start_time": "2023-02-14T08:30:38.162Z"
   },
   {
    "duration": 22,
    "start_time": "2023-02-14T08:30:38.207Z"
   },
   {
    "duration": 382,
    "start_time": "2023-02-14T08:30:41.471Z"
   },
   {
    "duration": 381,
    "start_time": "2023-02-14T08:30:51.409Z"
   },
   {
    "duration": 6,
    "start_time": "2023-02-14T08:33:44.369Z"
   },
   {
    "duration": 535,
    "start_time": "2023-02-14T08:33:47.253Z"
   },
   {
    "duration": 2,
    "start_time": "2023-02-14T12:00:19.597Z"
   },
   {
    "duration": 601,
    "start_time": "2023-02-14T12:00:46.445Z"
   },
   {
    "duration": 623,
    "start_time": "2023-02-14T12:01:09.920Z"
   },
   {
    "duration": 24,
    "start_time": "2023-02-14T12:03:01.807Z"
   },
   {
    "duration": 21,
    "start_time": "2023-02-14T12:03:27.198Z"
   },
   {
    "duration": 17,
    "start_time": "2023-02-14T12:04:42.271Z"
   },
   {
    "duration": 19,
    "start_time": "2023-02-14T12:05:53.367Z"
   },
   {
    "duration": 17,
    "start_time": "2023-02-14T12:05:56.078Z"
   },
   {
    "duration": 18,
    "start_time": "2023-02-14T12:05:56.565Z"
   },
   {
    "duration": 22,
    "start_time": "2023-02-14T12:05:56.980Z"
   },
   {
    "duration": 17,
    "start_time": "2023-02-14T12:05:57.237Z"
   },
   {
    "duration": 22,
    "start_time": "2023-02-14T12:05:57.435Z"
   },
   {
    "duration": 17,
    "start_time": "2023-02-14T12:05:57.603Z"
   },
   {
    "duration": 3,
    "start_time": "2023-02-14T12:06:05.923Z"
   },
   {
    "duration": 1006,
    "start_time": "2023-02-14T12:06:05.928Z"
   },
   {
    "duration": 4,
    "start_time": "2023-02-14T12:06:06.937Z"
   },
   {
    "duration": 813,
    "start_time": "2023-02-14T12:06:06.943Z"
   },
   {
    "duration": 240,
    "start_time": "2023-02-14T12:06:07.758Z"
   },
   {
    "duration": 64,
    "start_time": "2023-02-14T12:06:07.999Z"
   },
   {
    "duration": 46,
    "start_time": "2023-02-14T12:06:08.065Z"
   },
   {
    "duration": 8,
    "start_time": "2023-02-14T12:06:08.113Z"
   },
   {
    "duration": 310,
    "start_time": "2023-02-14T12:06:08.123Z"
   },
   {
    "duration": 36,
    "start_time": "2023-02-14T12:06:08.435Z"
   },
   {
    "duration": 384,
    "start_time": "2023-02-14T12:06:08.474Z"
   },
   {
    "duration": 367,
    "start_time": "2023-02-14T12:06:08.859Z"
   },
   {
    "duration": 342,
    "start_time": "2023-02-14T12:06:09.229Z"
   },
   {
    "duration": 3,
    "start_time": "2023-02-14T12:06:09.573Z"
   },
   {
    "duration": 12,
    "start_time": "2023-02-14T12:06:09.578Z"
   },
   {
    "duration": 82,
    "start_time": "2023-02-14T12:06:09.591Z"
   },
   {
    "duration": 297,
    "start_time": "2023-02-14T12:06:09.675Z"
   },
   {
    "duration": 347,
    "start_time": "2023-02-14T12:06:09.974Z"
   },
   {
    "duration": 32,
    "start_time": "2023-02-14T12:06:10.323Z"
   },
   {
    "duration": 95,
    "start_time": "2023-02-14T12:06:10.357Z"
   },
   {
    "duration": 33,
    "start_time": "2023-02-14T12:06:10.454Z"
   },
   {
    "duration": 422,
    "start_time": "2023-02-14T12:06:10.488Z"
   },
   {
    "duration": 71,
    "start_time": "2023-02-14T12:06:10.912Z"
   },
   {
    "duration": 31,
    "start_time": "2023-02-14T12:06:10.985Z"
   },
   {
    "duration": 38,
    "start_time": "2023-02-14T12:06:11.018Z"
   },
   {
    "duration": 5,
    "start_time": "2023-02-14T12:06:11.058Z"
   },
   {
    "duration": 557,
    "start_time": "2023-02-14T12:06:12.573Z"
   },
   {
    "duration": 25,
    "start_time": "2023-02-14T12:06:14.848Z"
   },
   {
    "duration": 2,
    "start_time": "2023-02-14T12:06:40.979Z"
   },
   {
    "duration": 1007,
    "start_time": "2023-02-14T12:06:40.984Z"
   },
   {
    "duration": 13,
    "start_time": "2023-02-14T12:06:41.994Z"
   },
   {
    "duration": 818,
    "start_time": "2023-02-14T12:06:42.010Z"
   },
   {
    "duration": 245,
    "start_time": "2023-02-14T12:06:42.830Z"
   },
   {
    "duration": 64,
    "start_time": "2023-02-14T12:06:43.077Z"
   },
   {
    "duration": 33,
    "start_time": "2023-02-14T12:06:43.143Z"
   },
   {
    "duration": 7,
    "start_time": "2023-02-14T12:06:43.178Z"
   },
   {
    "duration": 285,
    "start_time": "2023-02-14T12:06:43.205Z"
   },
   {
    "duration": 50,
    "start_time": "2023-02-14T12:06:43.491Z"
   },
   {
    "duration": 368,
    "start_time": "2023-02-14T12:06:43.543Z"
   },
   {
    "duration": 363,
    "start_time": "2023-02-14T12:06:43.913Z"
   },
   {
    "duration": 334,
    "start_time": "2023-02-14T12:06:44.277Z"
   },
   {
    "duration": 3,
    "start_time": "2023-02-14T12:06:44.614Z"
   },
   {
    "duration": 25,
    "start_time": "2023-02-14T12:06:44.619Z"
   },
   {
    "duration": 80,
    "start_time": "2023-02-14T12:06:44.645Z"
   },
   {
    "duration": 331,
    "start_time": "2023-02-14T12:06:44.727Z"
   },
   {
    "duration": 373,
    "start_time": "2023-02-14T12:06:45.060Z"
   },
   {
    "duration": 50,
    "start_time": "2023-02-14T12:06:45.435Z"
   },
   {
    "duration": 97,
    "start_time": "2023-02-14T12:06:45.487Z"
   },
   {
    "duration": 55,
    "start_time": "2023-02-14T12:06:45.586Z"
   },
   {
    "duration": 444,
    "start_time": "2023-02-14T12:06:45.642Z"
   },
   {
    "duration": 92,
    "start_time": "2023-02-14T12:06:46.088Z"
   },
   {
    "duration": 21,
    "start_time": "2023-02-14T12:06:46.183Z"
   },
   {
    "duration": 34,
    "start_time": "2023-02-14T12:06:46.206Z"
   },
   {
    "duration": 4,
    "start_time": "2023-02-14T12:06:46.242Z"
   },
   {
    "duration": 547,
    "start_time": "2023-02-14T12:06:47.926Z"
   },
   {
    "duration": 29,
    "start_time": "2023-02-14T12:08:28.247Z"
   },
   {
    "duration": 3,
    "start_time": "2023-02-14T12:08:33.867Z"
   },
   {
    "duration": 1079,
    "start_time": "2023-02-14T12:08:33.872Z"
   },
   {
    "duration": 5,
    "start_time": "2023-02-14T12:08:34.953Z"
   },
   {
    "duration": 981,
    "start_time": "2023-02-14T12:08:34.959Z"
   },
   {
    "duration": 294,
    "start_time": "2023-02-14T12:08:35.945Z"
   },
   {
    "duration": 65,
    "start_time": "2023-02-14T12:08:36.241Z"
   },
   {
    "duration": 46,
    "start_time": "2023-02-14T12:08:36.308Z"
   },
   {
    "duration": 8,
    "start_time": "2023-02-14T12:08:36.356Z"
   },
   {
    "duration": 381,
    "start_time": "2023-02-14T12:08:36.365Z"
   },
   {
    "duration": 33,
    "start_time": "2023-02-14T12:08:36.748Z"
   },
   {
    "duration": 329,
    "start_time": "2023-02-14T12:08:36.782Z"
   },
   {
    "duration": 448,
    "start_time": "2023-02-14T12:08:37.115Z"
   },
   {
    "duration": 325,
    "start_time": "2023-02-14T12:08:37.565Z"
   },
   {
    "duration": 3,
    "start_time": "2023-02-14T12:08:37.892Z"
   },
   {
    "duration": 29,
    "start_time": "2023-02-14T12:08:37.897Z"
   },
   {
    "duration": 113,
    "start_time": "2023-02-14T12:08:37.928Z"
   },
   {
    "duration": 345,
    "start_time": "2023-02-14T12:08:38.043Z"
   },
   {
    "duration": 366,
    "start_time": "2023-02-14T12:08:38.390Z"
   },
   {
    "duration": 57,
    "start_time": "2023-02-14T12:08:38.758Z"
   },
   {
    "duration": 82,
    "start_time": "2023-02-14T12:08:38.817Z"
   },
   {
    "duration": 36,
    "start_time": "2023-02-14T12:08:38.903Z"
   },
   {
    "duration": 471,
    "start_time": "2023-02-14T12:08:38.940Z"
   },
   {
    "duration": 95,
    "start_time": "2023-02-14T12:08:39.413Z"
   },
   {
    "duration": 15,
    "start_time": "2023-02-14T12:08:39.510Z"
   },
   {
    "duration": 32,
    "start_time": "2023-02-14T12:08:39.527Z"
   },
   {
    "duration": 3,
    "start_time": "2023-02-14T12:08:39.561Z"
   },
   {
    "duration": 575,
    "start_time": "2023-02-14T12:08:48.884Z"
   },
   {
    "duration": 24,
    "start_time": "2023-02-14T12:09:19.070Z"
   },
   {
    "duration": 17,
    "start_time": "2023-02-14T12:09:27.509Z"
   },
   {
    "duration": 3,
    "start_time": "2023-02-14T12:09:34.127Z"
   },
   {
    "duration": 1126,
    "start_time": "2023-02-14T12:09:34.133Z"
   },
   {
    "duration": 5,
    "start_time": "2023-02-14T12:09:35.261Z"
   },
   {
    "duration": 972,
    "start_time": "2023-02-14T12:09:35.268Z"
   },
   {
    "duration": 295,
    "start_time": "2023-02-14T12:09:36.243Z"
   },
   {
    "duration": 69,
    "start_time": "2023-02-14T12:09:36.541Z"
   },
   {
    "duration": 54,
    "start_time": "2023-02-14T12:09:36.616Z"
   },
   {
    "duration": 8,
    "start_time": "2023-02-14T12:09:36.672Z"
   },
   {
    "duration": 489,
    "start_time": "2023-02-14T12:09:36.682Z"
   },
   {
    "duration": 51,
    "start_time": "2023-02-14T12:09:37.172Z"
   },
   {
    "duration": 282,
    "start_time": "2023-02-14T12:09:37.225Z"
   },
   {
    "duration": 379,
    "start_time": "2023-02-14T12:09:37.509Z"
   },
   {
    "duration": 370,
    "start_time": "2023-02-14T12:09:37.891Z"
   },
   {
    "duration": 2,
    "start_time": "2023-02-14T12:09:38.264Z"
   },
   {
    "duration": 12,
    "start_time": "2023-02-14T12:09:38.268Z"
   },
   {
    "duration": 101,
    "start_time": "2023-02-14T12:09:38.281Z"
   },
   {
    "duration": 330,
    "start_time": "2023-02-14T12:09:38.383Z"
   },
   {
    "duration": 469,
    "start_time": "2023-02-14T12:09:38.715Z"
   },
   {
    "duration": 46,
    "start_time": "2023-02-14T12:09:39.185Z"
   },
   {
    "duration": 96,
    "start_time": "2023-02-14T12:09:39.233Z"
   },
   {
    "duration": 56,
    "start_time": "2023-02-14T12:09:39.332Z"
   },
   {
    "duration": 500,
    "start_time": "2023-02-14T12:09:39.390Z"
   },
   {
    "duration": 87,
    "start_time": "2023-02-14T12:09:39.892Z"
   },
   {
    "duration": 26,
    "start_time": "2023-02-14T12:09:39.981Z"
   },
   {
    "duration": 36,
    "start_time": "2023-02-14T12:09:40.009Z"
   },
   {
    "duration": 4,
    "start_time": "2023-02-14T12:09:40.048Z"
   },
   {
    "duration": 626,
    "start_time": "2023-02-14T12:09:40.054Z"
   },
   {
    "duration": 3,
    "start_time": "2023-02-14T12:09:40.682Z"
   },
   {
    "duration": 18,
    "start_time": "2023-02-14T12:09:46.918Z"
   },
   {
    "duration": 17,
    "start_time": "2023-02-14T12:09:48.634Z"
   },
   {
    "duration": 13,
    "start_time": "2023-02-14T12:09:49.464Z"
   },
   {
    "duration": 9,
    "start_time": "2023-02-14T12:31:08.518Z"
   },
   {
    "duration": 21,
    "start_time": "2023-02-14T12:31:52.021Z"
   },
   {
    "duration": 10,
    "start_time": "2023-02-14T12:31:58.030Z"
   },
   {
    "duration": 33,
    "start_time": "2023-02-14T12:32:51.245Z"
   },
   {
    "duration": 48,
    "start_time": "2023-02-14T12:32:55.840Z"
   },
   {
    "duration": 45,
    "start_time": "2023-02-14T12:33:19.735Z"
   },
   {
    "duration": 64,
    "start_time": "2023-02-14T12:33:40.260Z"
   },
   {
    "duration": 67,
    "start_time": "2023-02-14T12:34:08.805Z"
   },
   {
    "duration": 69,
    "start_time": "2023-02-14T12:42:09.931Z"
   },
   {
    "duration": 19,
    "start_time": "2023-02-14T14:17:24.054Z"
   },
   {
    "duration": 9,
    "start_time": "2023-02-14T14:17:26.099Z"
   },
   {
    "duration": 4,
    "start_time": "2023-02-14T14:18:07.939Z"
   },
   {
    "duration": 97,
    "start_time": "2023-02-14T14:18:13.796Z"
   },
   {
    "duration": 19,
    "start_time": "2023-02-14T14:18:18.827Z"
   },
   {
    "duration": 26,
    "start_time": "2023-02-14T14:18:25.741Z"
   },
   {
    "duration": 29,
    "start_time": "2023-02-14T14:18:29.095Z"
   },
   {
    "duration": 20,
    "start_time": "2023-02-14T14:18:29.853Z"
   },
   {
    "duration": 20,
    "start_time": "2023-02-14T14:18:30.336Z"
   },
   {
    "duration": 30,
    "start_time": "2023-02-14T14:18:31.188Z"
   },
   {
    "duration": 4,
    "start_time": "2023-02-14T14:20:38.131Z"
   },
   {
    "duration": 2703,
    "start_time": "2023-02-14T14:20:38.137Z"
   },
   {
    "duration": 6,
    "start_time": "2023-02-14T14:20:40.842Z"
   },
   {
    "duration": 1085,
    "start_time": "2023-02-14T14:20:40.850Z"
   },
   {
    "duration": 243,
    "start_time": "2023-02-14T14:20:41.938Z"
   },
   {
    "duration": 63,
    "start_time": "2023-02-14T14:20:42.183Z"
   },
   {
    "duration": 32,
    "start_time": "2023-02-14T14:20:42.248Z"
   },
   {
    "duration": 25,
    "start_time": "2023-02-14T14:20:42.282Z"
   },
   {
    "duration": 361,
    "start_time": "2023-02-14T14:20:42.309Z"
   },
   {
    "duration": 48,
    "start_time": "2023-02-14T14:20:42.672Z"
   },
   {
    "duration": 272,
    "start_time": "2023-02-14T14:20:42.721Z"
   },
   {
    "duration": 354,
    "start_time": "2023-02-14T14:20:42.995Z"
   },
   {
    "duration": 458,
    "start_time": "2023-02-14T14:20:43.351Z"
   },
   {
    "duration": 4,
    "start_time": "2023-02-14T14:20:43.813Z"
   },
   {
    "duration": 16,
    "start_time": "2023-02-14T14:20:43.819Z"
   },
   {
    "duration": 88,
    "start_time": "2023-02-14T14:20:43.836Z"
   },
   {
    "duration": 409,
    "start_time": "2023-02-14T14:20:43.925Z"
   },
   {
    "duration": 320,
    "start_time": "2023-02-14T14:20:44.336Z"
   },
   {
    "duration": 34,
    "start_time": "2023-02-14T14:20:44.658Z"
   },
   {
    "duration": 75,
    "start_time": "2023-02-14T14:20:44.706Z"
   },
   {
    "duration": 47,
    "start_time": "2023-02-14T14:20:44.783Z"
   },
   {
    "duration": 530,
    "start_time": "2023-02-14T14:20:44.831Z"
   },
   {
    "duration": 82,
    "start_time": "2023-02-14T14:20:45.363Z"
   },
   {
    "duration": 22,
    "start_time": "2023-02-14T14:20:45.447Z"
   },
   {
    "duration": 48,
    "start_time": "2023-02-14T14:20:45.471Z"
   },
   {
    "duration": 8,
    "start_time": "2023-02-14T14:20:45.521Z"
   },
   {
    "duration": 503,
    "start_time": "2023-02-14T14:20:45.531Z"
   },
   {
    "duration": 16,
    "start_time": "2023-02-14T14:20:46.036Z"
   },
   {
    "duration": 95,
    "start_time": "2023-02-14T14:20:46.053Z"
   },
   {
    "duration": 29,
    "start_time": "2023-02-14T14:20:54.260Z"
   },
   {
    "duration": 24,
    "start_time": "2023-02-14T14:22:43.660Z"
   },
   {
    "duration": 4,
    "start_time": "2023-02-14T14:22:48.001Z"
   },
   {
    "duration": 1095,
    "start_time": "2023-02-14T14:22:48.034Z"
   },
   {
    "duration": 4,
    "start_time": "2023-02-14T14:22:49.135Z"
   },
   {
    "duration": 935,
    "start_time": "2023-02-14T14:22:49.142Z"
   },
   {
    "duration": 289,
    "start_time": "2023-02-14T14:22:50.079Z"
   },
   {
    "duration": 63,
    "start_time": "2023-02-14T14:22:50.372Z"
   },
   {
    "duration": 38,
    "start_time": "2023-02-14T14:22:50.437Z"
   },
   {
    "duration": 8,
    "start_time": "2023-02-14T14:22:50.477Z"
   },
   {
    "duration": 284,
    "start_time": "2023-02-14T14:22:50.508Z"
   },
   {
    "duration": 43,
    "start_time": "2023-02-14T14:22:50.794Z"
   },
   {
    "duration": 276,
    "start_time": "2023-02-14T14:22:50.839Z"
   },
   {
    "duration": 354,
    "start_time": "2023-02-14T14:22:51.117Z"
   },
   {
    "duration": 340,
    "start_time": "2023-02-14T14:22:51.473Z"
   },
   {
    "duration": 7,
    "start_time": "2023-02-14T14:22:51.819Z"
   },
   {
    "duration": 24,
    "start_time": "2023-02-14T14:22:51.828Z"
   },
   {
    "duration": 82,
    "start_time": "2023-02-14T14:22:51.853Z"
   },
   {
    "duration": 409,
    "start_time": "2023-02-14T14:22:51.937Z"
   },
   {
    "duration": 321,
    "start_time": "2023-02-14T14:22:52.348Z"
   },
   {
    "duration": 48,
    "start_time": "2023-02-14T14:22:52.671Z"
   },
   {
    "duration": 70,
    "start_time": "2023-02-14T14:22:52.720Z"
   },
   {
    "duration": 49,
    "start_time": "2023-02-14T14:22:52.791Z"
   },
   {
    "duration": 445,
    "start_time": "2023-02-14T14:22:52.842Z"
   },
   {
    "duration": 104,
    "start_time": "2023-02-14T14:22:53.289Z"
   },
   {
    "duration": 21,
    "start_time": "2023-02-14T14:22:53.407Z"
   },
   {
    "duration": 30,
    "start_time": "2023-02-14T14:22:53.430Z"
   },
   {
    "duration": 5,
    "start_time": "2023-02-14T14:22:53.462Z"
   },
   {
    "duration": 560,
    "start_time": "2023-02-14T14:22:55.580Z"
   },
   {
    "duration": 16,
    "start_time": "2023-02-14T14:22:57.737Z"
   },
   {
    "duration": 23,
    "start_time": "2023-02-14T14:23:00.120Z"
   },
   {
    "duration": 542,
    "start_time": "2023-02-14T14:24:07.143Z"
   },
   {
    "duration": 24,
    "start_time": "2023-02-14T14:24:13.827Z"
   },
   {
    "duration": 18,
    "start_time": "2023-02-14T14:25:04.275Z"
   },
   {
    "duration": 3,
    "start_time": "2023-02-14T14:25:07.641Z"
   },
   {
    "duration": 1022,
    "start_time": "2023-02-14T14:25:07.645Z"
   },
   {
    "duration": 4,
    "start_time": "2023-02-14T14:25:08.669Z"
   },
   {
    "duration": 1013,
    "start_time": "2023-02-14T14:25:08.675Z"
   },
   {
    "duration": 329,
    "start_time": "2023-02-14T14:25:09.691Z"
   },
   {
    "duration": 60,
    "start_time": "2023-02-14T14:25:10.031Z"
   },
   {
    "duration": 44,
    "start_time": "2023-02-14T14:25:10.093Z"
   },
   {
    "duration": 7,
    "start_time": "2023-02-14T14:25:10.139Z"
   },
   {
    "duration": 340,
    "start_time": "2023-02-14T14:25:10.148Z"
   },
   {
    "duration": 49,
    "start_time": "2023-02-14T14:25:10.489Z"
   },
   {
    "duration": 306,
    "start_time": "2023-02-14T14:25:10.540Z"
   },
   {
    "duration": 461,
    "start_time": "2023-02-14T14:25:10.848Z"
   },
   {
    "duration": 575,
    "start_time": "2023-02-14T14:25:11.311Z"
   },
   {
    "duration": 2,
    "start_time": "2023-02-14T14:25:11.890Z"
   },
   {
    "duration": 48,
    "start_time": "2023-02-14T14:25:11.894Z"
   },
   {
    "duration": 116,
    "start_time": "2023-02-14T14:25:11.944Z"
   },
   {
    "duration": 448,
    "start_time": "2023-02-14T14:25:12.063Z"
   },
   {
    "duration": 373,
    "start_time": "2023-02-14T14:25:12.513Z"
   },
   {
    "duration": 65,
    "start_time": "2023-02-14T14:25:12.888Z"
   },
   {
    "duration": 133,
    "start_time": "2023-02-14T14:25:12.955Z"
   },
   {
    "duration": 59,
    "start_time": "2023-02-14T14:25:13.089Z"
   },
   {
    "duration": 558,
    "start_time": "2023-02-14T14:25:13.150Z"
   },
   {
    "duration": 99,
    "start_time": "2023-02-14T14:25:13.714Z"
   },
   {
    "duration": 21,
    "start_time": "2023-02-14T14:25:13.816Z"
   },
   {
    "duration": 46,
    "start_time": "2023-02-14T14:25:13.839Z"
   },
   {
    "duration": 5,
    "start_time": "2023-02-14T14:25:13.886Z"
   },
   {
    "duration": 820,
    "start_time": "2023-02-14T14:25:15.939Z"
   },
   {
    "duration": 33,
    "start_time": "2023-02-14T14:25:20.236Z"
   },
   {
    "duration": 34,
    "start_time": "2023-02-14T14:25:21.495Z"
   },
   {
    "duration": 32,
    "start_time": "2023-02-14T14:25:22.179Z"
   },
   {
    "duration": 28,
    "start_time": "2023-02-14T14:25:22.645Z"
   },
   {
    "duration": 25,
    "start_time": "2023-02-14T14:25:23.078Z"
   },
   {
    "duration": 56,
    "start_time": "2023-02-14T14:25:30.701Z"
   },
   {
    "duration": 4,
    "start_time": "2023-02-14T14:25:34.657Z"
   },
   {
    "duration": 1201,
    "start_time": "2023-02-14T14:25:34.663Z"
   },
   {
    "duration": 4,
    "start_time": "2023-02-14T14:25:35.867Z"
   },
   {
    "duration": 1015,
    "start_time": "2023-02-14T14:25:35.873Z"
   },
   {
    "duration": 336,
    "start_time": "2023-02-14T14:25:36.891Z"
   },
   {
    "duration": 64,
    "start_time": "2023-02-14T14:25:37.229Z"
   },
   {
    "duration": 49,
    "start_time": "2023-02-14T14:25:37.295Z"
   },
   {
    "duration": 10,
    "start_time": "2023-02-14T14:25:37.347Z"
   },
   {
    "duration": 322,
    "start_time": "2023-02-14T14:25:37.359Z"
   },
   {
    "duration": 50,
    "start_time": "2023-02-14T14:25:37.682Z"
   },
   {
    "duration": 301,
    "start_time": "2023-02-14T14:25:37.735Z"
   },
   {
    "duration": 367,
    "start_time": "2023-02-14T14:25:38.038Z"
   },
   {
    "duration": 457,
    "start_time": "2023-02-14T14:25:38.407Z"
   },
   {
    "duration": 4,
    "start_time": "2023-02-14T14:25:38.869Z"
   },
   {
    "duration": 28,
    "start_time": "2023-02-14T14:25:38.875Z"
   },
   {
    "duration": 126,
    "start_time": "2023-02-14T14:25:38.914Z"
   },
   {
    "duration": 411,
    "start_time": "2023-02-14T14:25:39.043Z"
   },
   {
    "duration": 353,
    "start_time": "2023-02-14T14:25:39.456Z"
   },
   {
    "duration": 57,
    "start_time": "2023-02-14T14:25:39.812Z"
   },
   {
    "duration": 101,
    "start_time": "2023-02-14T14:25:39.871Z"
   },
   {
    "duration": 42,
    "start_time": "2023-02-14T14:25:39.974Z"
   },
   {
    "duration": 468,
    "start_time": "2023-02-14T14:25:40.023Z"
   },
   {
    "duration": 133,
    "start_time": "2023-02-14T14:25:40.493Z"
   },
   {
    "duration": 18,
    "start_time": "2023-02-14T14:25:40.628Z"
   },
   {
    "duration": 53,
    "start_time": "2023-02-14T14:25:40.648Z"
   },
   {
    "duration": 5,
    "start_time": "2023-02-14T14:25:40.702Z"
   },
   {
    "duration": 571,
    "start_time": "2023-02-14T14:25:42.452Z"
   },
   {
    "duration": 28,
    "start_time": "2023-02-14T14:25:45.342Z"
   },
   {
    "duration": 30,
    "start_time": "2023-02-14T14:25:46.382Z"
   },
   {
    "duration": 21,
    "start_time": "2023-02-14T14:25:47.227Z"
   },
   {
    "duration": 19,
    "start_time": "2023-02-14T14:25:47.827Z"
   },
   {
    "duration": 5,
    "start_time": "2023-02-14T14:35:05.348Z"
   },
   {
    "duration": 4,
    "start_time": "2023-02-14T14:35:22.759Z"
   },
   {
    "duration": 33,
    "start_time": "2023-02-14T14:35:25.060Z"
   },
   {
    "duration": 3,
    "start_time": "2023-02-14T14:35:29.556Z"
   },
   {
    "duration": 2858,
    "start_time": "2023-02-14T14:35:29.561Z"
   },
   {
    "duration": 3,
    "start_time": "2023-02-14T14:35:32.421Z"
   },
   {
    "duration": 868,
    "start_time": "2023-02-14T14:35:32.426Z"
   },
   {
    "duration": 261,
    "start_time": "2023-02-14T14:35:33.297Z"
   },
   {
    "duration": 63,
    "start_time": "2023-02-14T14:35:33.560Z"
   },
   {
    "duration": 32,
    "start_time": "2023-02-14T14:35:33.624Z"
   },
   {
    "duration": 6,
    "start_time": "2023-02-14T14:35:33.658Z"
   },
   {
    "duration": 312,
    "start_time": "2023-02-14T14:35:33.666Z"
   },
   {
    "duration": 45,
    "start_time": "2023-02-14T14:35:33.980Z"
   },
   {
    "duration": 294,
    "start_time": "2023-02-14T14:35:34.027Z"
   },
   {
    "duration": 461,
    "start_time": "2023-02-14T14:35:34.323Z"
   },
   {
    "duration": 358,
    "start_time": "2023-02-14T14:35:34.786Z"
   },
   {
    "duration": 2,
    "start_time": "2023-02-14T14:35:35.148Z"
   },
   {
    "duration": 27,
    "start_time": "2023-02-14T14:35:35.152Z"
   },
   {
    "duration": 89,
    "start_time": "2023-02-14T14:35:35.180Z"
   },
   {
    "duration": 321,
    "start_time": "2023-02-14T14:35:35.270Z"
   },
   {
    "duration": 366,
    "start_time": "2023-02-14T14:35:35.593Z"
   },
   {
    "duration": 31,
    "start_time": "2023-02-14T14:35:35.961Z"
   },
   {
    "duration": 97,
    "start_time": "2023-02-14T14:35:35.994Z"
   },
   {
    "duration": 41,
    "start_time": "2023-02-14T14:35:36.093Z"
   },
   {
    "duration": 439,
    "start_time": "2023-02-14T14:35:36.136Z"
   },
   {
    "duration": 93,
    "start_time": "2023-02-14T14:35:36.577Z"
   },
   {
    "duration": 15,
    "start_time": "2023-02-14T14:35:36.672Z"
   },
   {
    "duration": 49,
    "start_time": "2023-02-14T14:35:36.689Z"
   },
   {
    "duration": 5,
    "start_time": "2023-02-14T14:35:36.740Z"
   },
   {
    "duration": 550,
    "start_time": "2023-02-14T14:35:40.866Z"
   },
   {
    "duration": 33,
    "start_time": "2023-02-14T14:35:48.692Z"
   },
   {
    "duration": 15,
    "start_time": "2023-02-14T14:36:19.539Z"
   },
   {
    "duration": 27,
    "start_time": "2023-02-14T14:36:29.175Z"
   },
   {
    "duration": 16,
    "start_time": "2023-02-14T14:36:36.743Z"
   },
   {
    "duration": 157,
    "start_time": "2023-02-14T16:11:36.428Z"
   },
   {
    "duration": 179,
    "start_time": "2023-02-14T16:11:53.067Z"
   },
   {
    "duration": 138,
    "start_time": "2023-02-14T16:12:08.248Z"
   },
   {
    "duration": 171,
    "start_time": "2023-02-14T16:12:18.386Z"
   },
   {
    "duration": 259,
    "start_time": "2023-02-14T16:12:31.902Z"
   },
   {
    "duration": 159,
    "start_time": "2023-02-14T16:13:32.472Z"
   },
   {
    "duration": 160,
    "start_time": "2023-02-14T16:32:39.824Z"
   },
   {
    "duration": 152,
    "start_time": "2023-02-14T16:32:55.527Z"
   },
   {
    "duration": 13,
    "start_time": "2023-02-14T16:59:57.544Z"
   },
   {
    "duration": 53,
    "start_time": "2023-02-14T17:00:07.983Z"
   },
   {
    "duration": 27,
    "start_time": "2023-02-14T17:02:02.598Z"
   },
   {
    "duration": 10,
    "start_time": "2023-02-14T17:02:36.284Z"
   },
   {
    "duration": 3,
    "start_time": "2023-02-14T17:02:40.723Z"
   },
   {
    "duration": 3014,
    "start_time": "2023-02-14T17:02:40.729Z"
   },
   {
    "duration": 3,
    "start_time": "2023-02-14T17:02:43.745Z"
   },
   {
    "duration": 868,
    "start_time": "2023-02-14T17:02:43.750Z"
   },
   {
    "duration": 256,
    "start_time": "2023-02-14T17:02:44.619Z"
   },
   {
    "duration": 60,
    "start_time": "2023-02-14T17:02:44.877Z"
   },
   {
    "duration": 31,
    "start_time": "2023-02-14T17:02:44.939Z"
   },
   {
    "duration": 7,
    "start_time": "2023-02-14T17:02:44.972Z"
   },
   {
    "duration": 295,
    "start_time": "2023-02-14T17:02:44.981Z"
   },
   {
    "duration": 44,
    "start_time": "2023-02-14T17:02:45.278Z"
   },
   {
    "duration": 259,
    "start_time": "2023-02-14T17:02:45.323Z"
   },
   {
    "duration": 341,
    "start_time": "2023-02-14T17:02:45.584Z"
   },
   {
    "duration": 433,
    "start_time": "2023-02-14T17:02:45.927Z"
   },
   {
    "duration": 2,
    "start_time": "2023-02-14T17:02:46.362Z"
   },
   {
    "duration": 11,
    "start_time": "2023-02-14T17:02:46.367Z"
   },
   {
    "duration": 98,
    "start_time": "2023-02-14T17:02:46.379Z"
   },
   {
    "duration": 373,
    "start_time": "2023-02-14T17:02:46.479Z"
   },
   {
    "duration": 336,
    "start_time": "2023-02-14T17:02:46.854Z"
   },
   {
    "duration": 42,
    "start_time": "2023-02-14T17:02:47.192Z"
   },
   {
    "duration": 87,
    "start_time": "2023-02-14T17:02:47.236Z"
   },
   {
    "duration": 32,
    "start_time": "2023-02-14T17:02:47.325Z"
   },
   {
    "duration": 439,
    "start_time": "2023-02-14T17:02:47.359Z"
   },
   {
    "duration": 83,
    "start_time": "2023-02-14T17:02:47.803Z"
   },
   {
    "duration": 35,
    "start_time": "2023-02-14T17:02:47.887Z"
   },
   {
    "duration": 17,
    "start_time": "2023-02-14T17:02:47.924Z"
   },
   {
    "duration": 4,
    "start_time": "2023-02-14T17:02:47.942Z"
   },
   {
    "duration": 11,
    "start_time": "2023-02-14T17:02:49.660Z"
   },
   {
    "duration": 2,
    "start_time": "2023-02-14T17:03:16.979Z"
   },
   {
    "duration": 14,
    "start_time": "2023-02-14T17:03:22.198Z"
   },
   {
    "duration": 26,
    "start_time": "2023-02-14T17:03:30.083Z"
   },
   {
    "duration": 3,
    "start_time": "2023-02-14T17:03:35.630Z"
   },
   {
    "duration": 981,
    "start_time": "2023-02-14T17:03:35.639Z"
   },
   {
    "duration": 4,
    "start_time": "2023-02-14T17:03:36.622Z"
   },
   {
    "duration": 999,
    "start_time": "2023-02-14T17:03:36.627Z"
   },
   {
    "duration": 283,
    "start_time": "2023-02-14T17:03:37.628Z"
   },
   {
    "duration": 56,
    "start_time": "2023-02-14T17:03:37.914Z"
   },
   {
    "duration": 46,
    "start_time": "2023-02-14T17:03:37.972Z"
   },
   {
    "duration": 8,
    "start_time": "2023-02-14T17:03:38.020Z"
   },
   {
    "duration": 292,
    "start_time": "2023-02-14T17:03:38.029Z"
   },
   {
    "duration": 32,
    "start_time": "2023-02-14T17:03:38.323Z"
   },
   {
    "duration": 272,
    "start_time": "2023-02-14T17:03:38.357Z"
   },
   {
    "duration": 333,
    "start_time": "2023-02-14T17:03:38.631Z"
   },
   {
    "duration": 419,
    "start_time": "2023-02-14T17:03:38.967Z"
   },
   {
    "duration": 3,
    "start_time": "2023-02-14T17:03:39.387Z"
   },
   {
    "duration": 22,
    "start_time": "2023-02-14T17:03:39.392Z"
   },
   {
    "duration": 92,
    "start_time": "2023-02-14T17:03:39.415Z"
   },
   {
    "duration": 292,
    "start_time": "2023-02-14T17:03:39.509Z"
   },
   {
    "duration": 322,
    "start_time": "2023-02-14T17:03:39.804Z"
   },
   {
    "duration": 33,
    "start_time": "2023-02-14T17:03:40.128Z"
   },
   {
    "duration": 92,
    "start_time": "2023-02-14T17:03:40.163Z"
   },
   {
    "duration": 56,
    "start_time": "2023-02-14T17:03:40.257Z"
   },
   {
    "duration": 410,
    "start_time": "2023-02-14T17:03:40.319Z"
   },
   {
    "duration": 103,
    "start_time": "2023-02-14T17:03:40.731Z"
   },
   {
    "duration": 19,
    "start_time": "2023-02-14T17:03:40.836Z"
   },
   {
    "duration": 17,
    "start_time": "2023-02-14T17:03:40.857Z"
   },
   {
    "duration": 4,
    "start_time": "2023-02-14T17:03:40.876Z"
   },
   {
    "duration": 25,
    "start_time": "2023-02-14T17:03:44.698Z"
   },
   {
    "duration": 30,
    "start_time": "2023-02-14T17:03:47.192Z"
   },
   {
    "duration": 49,
    "start_time": "2023-02-14T17:06:22.627Z"
   },
   {
    "duration": 5,
    "start_time": "2023-02-14T17:06:26.730Z"
   },
   {
    "duration": 60,
    "start_time": "2023-02-14T17:06:28.289Z"
   },
   {
    "duration": 4,
    "start_time": "2023-02-14T17:06:58.142Z"
   },
   {
    "duration": 4,
    "start_time": "2023-02-14T19:03:51.177Z"
   },
   {
    "duration": 81,
    "start_time": "2023-02-14T19:03:52.806Z"
   },
   {
    "duration": 572,
    "start_time": "2023-02-14T19:06:15.138Z"
   },
   {
    "duration": 5,
    "start_time": "2023-02-14T19:06:20.667Z"
   },
   {
    "duration": 54,
    "start_time": "2023-02-14T19:06:23.540Z"
   },
   {
    "duration": 81,
    "start_time": "2023-02-14T19:06:52.675Z"
   },
   {
    "duration": 4,
    "start_time": "2023-02-14T19:06:57.332Z"
   },
   {
    "duration": 77,
    "start_time": "2023-02-14T19:06:59.105Z"
   },
   {
    "duration": 4,
    "start_time": "2023-02-14T19:07:21.562Z"
   },
   {
    "duration": 62,
    "start_time": "2023-02-14T19:07:23.976Z"
   },
   {
    "duration": 18,
    "start_time": "2023-02-14T19:20:32.132Z"
   },
   {
    "duration": 19,
    "start_time": "2023-02-14T19:20:33.738Z"
   },
   {
    "duration": 154,
    "start_time": "2023-02-14T19:21:13.791Z"
   },
   {
    "duration": 174,
    "start_time": "2023-02-14T19:21:35.528Z"
   },
   {
    "duration": 158,
    "start_time": "2023-02-14T19:21:47.688Z"
   },
   {
    "duration": 71,
    "start_time": "2023-02-15T06:29:25.041Z"
   },
   {
    "duration": 2,
    "start_time": "2023-02-15T06:29:49.442Z"
   },
   {
    "duration": 1245,
    "start_time": "2023-02-15T06:29:58.587Z"
   },
   {
    "duration": 1354,
    "start_time": "2023-02-15T06:29:59.834Z"
   },
   {
    "duration": 12,
    "start_time": "2023-02-15T06:30:01.191Z"
   },
   {
    "duration": 947,
    "start_time": "2023-02-15T06:30:01.207Z"
   },
   {
    "duration": 335,
    "start_time": "2023-02-15T06:30:02.155Z"
   },
   {
    "duration": 57,
    "start_time": "2023-02-15T06:30:02.492Z"
   },
   {
    "duration": 34,
    "start_time": "2023-02-15T06:30:02.551Z"
   },
   {
    "duration": 24,
    "start_time": "2023-02-15T06:30:02.587Z"
   },
   {
    "duration": 716,
    "start_time": "2023-02-15T06:30:02.613Z"
   },
   {
    "duration": 53,
    "start_time": "2023-02-15T06:30:03.332Z"
   },
   {
    "duration": 291,
    "start_time": "2023-02-15T06:30:03.386Z"
   },
   {
    "duration": 460,
    "start_time": "2023-02-15T06:30:03.678Z"
   },
   {
    "duration": 396,
    "start_time": "2023-02-15T06:30:04.141Z"
   },
   {
    "duration": 3,
    "start_time": "2023-02-15T06:30:04.539Z"
   },
   {
    "duration": 28,
    "start_time": "2023-02-15T06:30:04.543Z"
   },
   {
    "duration": 68,
    "start_time": "2023-02-15T06:30:04.573Z"
   },
   {
    "duration": 300,
    "start_time": "2023-02-15T06:30:04.643Z"
   },
   {
    "duration": 315,
    "start_time": "2023-02-15T06:30:04.945Z"
   },
   {
    "duration": 41,
    "start_time": "2023-02-15T06:30:05.262Z"
   },
   {
    "duration": 76,
    "start_time": "2023-02-15T06:30:05.305Z"
   },
   {
    "duration": 43,
    "start_time": "2023-02-15T06:30:05.383Z"
   },
   {
    "duration": 461,
    "start_time": "2023-02-15T06:30:05.428Z"
   },
   {
    "duration": 65,
    "start_time": "2023-02-15T06:30:05.891Z"
   },
   {
    "duration": 16,
    "start_time": "2023-02-15T06:30:05.957Z"
   },
   {
    "duration": 4,
    "start_time": "2023-02-15T06:30:05.975Z"
   },
   {
    "duration": 583,
    "start_time": "2023-02-15T06:38:13.268Z"
   },
   {
    "duration": 690,
    "start_time": "2023-02-15T06:38:27.365Z"
   },
   {
    "duration": 74,
    "start_time": "2023-02-15T06:41:41.672Z"
   },
   {
    "duration": 697,
    "start_time": "2023-02-15T06:41:55.841Z"
   },
   {
    "duration": 886,
    "start_time": "2023-02-15T06:42:25.730Z"
   },
   {
    "duration": 862,
    "start_time": "2023-02-15T06:42:36.641Z"
   },
   {
    "duration": 729,
    "start_time": "2023-02-15T06:57:10.350Z"
   },
   {
    "duration": 742,
    "start_time": "2023-02-15T06:58:28.880Z"
   },
   {
    "duration": 711,
    "start_time": "2023-02-15T07:01:32.058Z"
   },
   {
    "duration": 181,
    "start_time": "2023-02-15T07:04:53.863Z"
   },
   {
    "duration": 128,
    "start_time": "2023-02-15T07:06:29.624Z"
   },
   {
    "duration": 57,
    "start_time": "2023-02-15T07:07:50.993Z"
   },
   {
    "duration": 372,
    "start_time": "2023-02-15T07:09:41.960Z"
   },
   {
    "duration": 373,
    "start_time": "2023-02-15T07:11:57.130Z"
   },
   {
    "duration": 86,
    "start_time": "2023-02-15T07:29:54.402Z"
   },
   {
    "duration": 3,
    "start_time": "2023-02-15T07:30:41.821Z"
   },
   {
    "duration": 88,
    "start_time": "2023-02-15T07:30:51.105Z"
   },
   {
    "duration": 3,
    "start_time": "2023-02-15T07:31:18.746Z"
   },
   {
    "duration": 79,
    "start_time": "2023-02-15T07:31:34.429Z"
   },
   {
    "duration": 88,
    "start_time": "2023-02-15T07:31:43.354Z"
   },
   {
    "duration": 81,
    "start_time": "2023-02-15T07:32:54.546Z"
   },
   {
    "duration": 88,
    "start_time": "2023-02-15T07:33:04.471Z"
   },
   {
    "duration": 89,
    "start_time": "2023-02-15T07:34:49.044Z"
   },
   {
    "duration": 1223,
    "start_time": "2023-02-15T07:42:15.645Z"
   },
   {
    "duration": 1150,
    "start_time": "2023-02-15T07:42:16.870Z"
   },
   {
    "duration": 4,
    "start_time": "2023-02-15T07:42:18.022Z"
   },
   {
    "duration": 878,
    "start_time": "2023-02-15T07:42:18.028Z"
   },
   {
    "duration": 329,
    "start_time": "2023-02-15T07:42:18.910Z"
   },
   {
    "duration": 66,
    "start_time": "2023-02-15T07:42:19.241Z"
   },
   {
    "duration": 35,
    "start_time": "2023-02-15T07:42:19.309Z"
   },
   {
    "duration": 7,
    "start_time": "2023-02-15T07:42:19.345Z"
   },
   {
    "duration": 514,
    "start_time": "2023-02-15T07:42:19.354Z"
   },
   {
    "duration": 55,
    "start_time": "2023-02-15T07:42:19.869Z"
   },
   {
    "duration": 272,
    "start_time": "2023-02-15T07:42:19.926Z"
   },
   {
    "duration": 429,
    "start_time": "2023-02-15T07:42:20.203Z"
   },
   {
    "duration": 346,
    "start_time": "2023-02-15T07:42:20.633Z"
   },
   {
    "duration": 3,
    "start_time": "2023-02-15T07:42:20.982Z"
   },
   {
    "duration": 23,
    "start_time": "2023-02-15T07:42:20.986Z"
   },
   {
    "duration": 73,
    "start_time": "2023-02-15T07:42:21.010Z"
   },
   {
    "duration": 325,
    "start_time": "2023-02-15T07:42:21.085Z"
   },
   {
    "duration": 326,
    "start_time": "2023-02-15T07:42:21.419Z"
   },
   {
    "duration": 31,
    "start_time": "2023-02-15T07:42:21.747Z"
   },
   {
    "duration": 87,
    "start_time": "2023-02-15T07:42:21.781Z"
   },
   {
    "duration": 48,
    "start_time": "2023-02-15T07:42:21.870Z"
   },
   {
    "duration": 464,
    "start_time": "2023-02-15T07:42:21.919Z"
   },
   {
    "duration": 74,
    "start_time": "2023-02-15T07:42:22.385Z"
   },
   {
    "duration": 18,
    "start_time": "2023-02-15T07:42:22.460Z"
   },
   {
    "duration": 899,
    "start_time": "2023-02-15T07:42:22.480Z"
   },
   {
    "duration": 210,
    "start_time": "2023-02-15T07:42:23.382Z"
   },
   {
    "duration": 106,
    "start_time": "2023-02-15T08:15:41.559Z"
   },
   {
    "duration": 106,
    "start_time": "2023-02-15T08:16:31.324Z"
   },
   {
    "duration": 3,
    "start_time": "2023-02-15T08:16:38.312Z"
   },
   {
    "duration": 1025,
    "start_time": "2023-02-15T08:16:38.317Z"
   },
   {
    "duration": 3,
    "start_time": "2023-02-15T08:16:39.344Z"
   },
   {
    "duration": 837,
    "start_time": "2023-02-15T08:16:39.349Z"
   },
   {
    "duration": 258,
    "start_time": "2023-02-15T08:16:40.188Z"
   },
   {
    "duration": 62,
    "start_time": "2023-02-15T08:16:40.447Z"
   },
   {
    "duration": 31,
    "start_time": "2023-02-15T08:16:40.511Z"
   },
   {
    "duration": 6,
    "start_time": "2023-02-15T08:16:40.544Z"
   },
   {
    "duration": 284,
    "start_time": "2023-02-15T08:16:40.552Z"
   },
   {
    "duration": 34,
    "start_time": "2023-02-15T08:16:40.837Z"
   },
   {
    "duration": 271,
    "start_time": "2023-02-15T08:16:40.873Z"
   },
   {
    "duration": 443,
    "start_time": "2023-02-15T08:16:41.145Z"
   },
   {
    "duration": 335,
    "start_time": "2023-02-15T08:16:41.590Z"
   },
   {
    "duration": 3,
    "start_time": "2023-02-15T08:16:41.926Z"
   },
   {
    "duration": 14,
    "start_time": "2023-02-15T08:16:41.930Z"
   },
   {
    "duration": 80,
    "start_time": "2023-02-15T08:16:41.945Z"
   },
   {
    "duration": 311,
    "start_time": "2023-02-15T08:16:42.027Z"
   },
   {
    "duration": 333,
    "start_time": "2023-02-15T08:16:42.341Z"
   },
   {
    "duration": 50,
    "start_time": "2023-02-15T08:16:42.677Z"
   },
   {
    "duration": 97,
    "start_time": "2023-02-15T08:16:42.729Z"
   },
   {
    "duration": 34,
    "start_time": "2023-02-15T08:16:42.828Z"
   },
   {
    "duration": 485,
    "start_time": "2023-02-15T08:16:42.865Z"
   },
   {
    "duration": 74,
    "start_time": "2023-02-15T08:16:43.351Z"
   },
   {
    "duration": 17,
    "start_time": "2023-02-15T08:16:43.428Z"
   },
   {
    "duration": 887,
    "start_time": "2023-02-15T08:16:43.447Z"
   },
   {
    "duration": 209,
    "start_time": "2023-02-15T08:16:44.336Z"
   },
   {
    "duration": 382,
    "start_time": "2023-02-15T08:16:44.547Z"
   },
   {
    "duration": 18,
    "start_time": "2023-02-15T08:28:34.345Z"
   },
   {
    "duration": 0,
    "start_time": "2023-02-15T08:28:34.366Z"
   },
   {
    "duration": 0,
    "start_time": "2023-02-15T08:28:34.367Z"
   },
   {
    "duration": 0,
    "start_time": "2023-02-15T08:28:34.370Z"
   },
   {
    "duration": 0,
    "start_time": "2023-02-15T08:28:34.372Z"
   },
   {
    "duration": 0,
    "start_time": "2023-02-15T08:28:34.373Z"
   },
   {
    "duration": 0,
    "start_time": "2023-02-15T08:28:34.375Z"
   },
   {
    "duration": 0,
    "start_time": "2023-02-15T08:28:34.377Z"
   },
   {
    "duration": 0,
    "start_time": "2023-02-15T08:28:34.379Z"
   },
   {
    "duration": 0,
    "start_time": "2023-02-15T08:28:34.380Z"
   },
   {
    "duration": 0,
    "start_time": "2023-02-15T08:28:34.382Z"
   },
   {
    "duration": 0,
    "start_time": "2023-02-15T08:28:34.384Z"
   },
   {
    "duration": 0,
    "start_time": "2023-02-15T08:28:34.386Z"
   },
   {
    "duration": 0,
    "start_time": "2023-02-15T08:28:34.388Z"
   },
   {
    "duration": 0,
    "start_time": "2023-02-15T08:28:34.390Z"
   },
   {
    "duration": 0,
    "start_time": "2023-02-15T08:28:34.391Z"
   },
   {
    "duration": 0,
    "start_time": "2023-02-15T08:28:34.393Z"
   },
   {
    "duration": 0,
    "start_time": "2023-02-15T08:28:34.394Z"
   },
   {
    "duration": 0,
    "start_time": "2023-02-15T08:28:34.403Z"
   },
   {
    "duration": 0,
    "start_time": "2023-02-15T08:28:34.405Z"
   },
   {
    "duration": 0,
    "start_time": "2023-02-15T08:28:34.406Z"
   },
   {
    "duration": 0,
    "start_time": "2023-02-15T08:28:34.407Z"
   },
   {
    "duration": 0,
    "start_time": "2023-02-15T08:28:34.408Z"
   },
   {
    "duration": 0,
    "start_time": "2023-02-15T08:28:34.409Z"
   },
   {
    "duration": 0,
    "start_time": "2023-02-15T08:28:34.410Z"
   },
   {
    "duration": 0,
    "start_time": "2023-02-15T08:28:34.410Z"
   },
   {
    "duration": 0,
    "start_time": "2023-02-15T08:28:34.413Z"
   },
   {
    "duration": 0,
    "start_time": "2023-02-15T08:28:34.416Z"
   },
   {
    "duration": 0,
    "start_time": "2023-02-15T08:28:34.416Z"
   },
   {
    "duration": 14,
    "start_time": "2023-02-15T08:34:27.312Z"
   },
   {
    "duration": 1541,
    "start_time": "2023-02-15T08:35:03.352Z"
   },
   {
    "duration": 1093,
    "start_time": "2023-02-15T08:35:04.896Z"
   },
   {
    "duration": 3,
    "start_time": "2023-02-15T08:35:05.991Z"
   },
   {
    "duration": 886,
    "start_time": "2023-02-15T08:35:05.996Z"
   },
   {
    "duration": 310,
    "start_time": "2023-02-15T08:35:06.885Z"
   },
   {
    "duration": 61,
    "start_time": "2023-02-15T08:35:07.197Z"
   },
   {
    "duration": 62,
    "start_time": "2023-02-15T08:35:07.260Z"
   },
   {
    "duration": 8,
    "start_time": "2023-02-15T08:35:07.324Z"
   },
   {
    "duration": 513,
    "start_time": "2023-02-15T08:35:07.333Z"
   },
   {
    "duration": 62,
    "start_time": "2023-02-15T08:35:07.848Z"
   },
   {
    "duration": 307,
    "start_time": "2023-02-15T08:35:07.912Z"
   },
   {
    "duration": 438,
    "start_time": "2023-02-15T08:35:08.221Z"
   },
   {
    "duration": 351,
    "start_time": "2023-02-15T08:35:08.660Z"
   },
   {
    "duration": 3,
    "start_time": "2023-02-15T08:35:09.014Z"
   },
   {
    "duration": 32,
    "start_time": "2023-02-15T08:35:09.019Z"
   },
   {
    "duration": 77,
    "start_time": "2023-02-15T08:35:09.054Z"
   },
   {
    "duration": 343,
    "start_time": "2023-02-15T08:35:09.133Z"
   },
   {
    "duration": 345,
    "start_time": "2023-02-15T08:35:09.477Z"
   },
   {
    "duration": 38,
    "start_time": "2023-02-15T08:35:09.824Z"
   },
   {
    "duration": 94,
    "start_time": "2023-02-15T08:35:09.864Z"
   },
   {
    "duration": 30,
    "start_time": "2023-02-15T08:35:09.960Z"
   },
   {
    "duration": 450,
    "start_time": "2023-02-15T08:35:10.006Z"
   },
   {
    "duration": 72,
    "start_time": "2023-02-15T08:35:10.457Z"
   },
   {
    "duration": 18,
    "start_time": "2023-02-15T08:35:10.531Z"
   },
   {
    "duration": 727,
    "start_time": "2023-02-15T08:35:10.551Z"
   },
   {
    "duration": 204,
    "start_time": "2023-02-15T08:35:11.280Z"
   },
   {
    "duration": 387,
    "start_time": "2023-02-15T08:35:11.486Z"
   },
   {
    "duration": 4,
    "start_time": "2023-02-15T08:35:37.357Z"
   },
   {
    "duration": 131,
    "start_time": "2023-02-15T08:36:23.694Z"
   },
   {
    "duration": 5,
    "start_time": "2023-02-15T08:37:14.291Z"
   },
   {
    "duration": 500,
    "start_time": "2023-02-15T08:37:16.754Z"
   },
   {
    "duration": 28,
    "start_time": "2023-02-15T10:14:22.501Z"
   },
   {
    "duration": 5,
    "start_time": "2023-02-15T10:14:39.928Z"
   },
   {
    "duration": 449,
    "start_time": "2023-02-15T10:14:54.092Z"
   },
   {
    "duration": 27,
    "start_time": "2023-02-15T10:15:03.589Z"
   },
   {
    "duration": 14,
    "start_time": "2023-02-15T10:15:10.623Z"
   },
   {
    "duration": 16,
    "start_time": "2023-02-15T10:15:32.924Z"
   },
   {
    "duration": 4,
    "start_time": "2023-02-15T10:16:16.194Z"
   },
   {
    "duration": 1000,
    "start_time": "2023-02-15T10:16:16.200Z"
   },
   {
    "duration": 4,
    "start_time": "2023-02-15T10:16:17.202Z"
   },
   {
    "duration": 863,
    "start_time": "2023-02-15T10:16:17.208Z"
   },
   {
    "duration": 254,
    "start_time": "2023-02-15T10:16:18.074Z"
   },
   {
    "duration": 52,
    "start_time": "2023-02-15T10:16:18.330Z"
   },
   {
    "duration": 48,
    "start_time": "2023-02-15T10:16:18.384Z"
   },
   {
    "duration": 8,
    "start_time": "2023-02-15T10:16:18.434Z"
   },
   {
    "duration": 298,
    "start_time": "2023-02-15T10:16:18.444Z"
   },
   {
    "duration": 34,
    "start_time": "2023-02-15T10:16:18.743Z"
   },
   {
    "duration": 274,
    "start_time": "2023-02-15T10:16:18.780Z"
   },
   {
    "duration": 458,
    "start_time": "2023-02-15T10:16:19.055Z"
   },
   {
    "duration": 348,
    "start_time": "2023-02-15T10:16:19.515Z"
   },
   {
    "duration": 3,
    "start_time": "2023-02-15T10:16:19.864Z"
   },
   {
    "duration": 13,
    "start_time": "2023-02-15T10:16:19.869Z"
   },
   {
    "duration": 90,
    "start_time": "2023-02-15T10:16:19.884Z"
   },
   {
    "duration": 310,
    "start_time": "2023-02-15T10:16:19.975Z"
   },
   {
    "duration": 326,
    "start_time": "2023-02-15T10:16:20.287Z"
   },
   {
    "duration": 33,
    "start_time": "2023-02-15T10:16:20.616Z"
   },
   {
    "duration": 89,
    "start_time": "2023-02-15T10:16:20.650Z"
   },
   {
    "duration": 32,
    "start_time": "2023-02-15T10:16:20.741Z"
   },
   {
    "duration": 512,
    "start_time": "2023-02-15T10:16:20.774Z"
   },
   {
    "duration": 66,
    "start_time": "2023-02-15T10:16:21.289Z"
   },
   {
    "duration": 17,
    "start_time": "2023-02-15T10:16:36.252Z"
   },
   {
    "duration": 66,
    "start_time": "2023-02-15T10:16:39.873Z"
   },
   {
    "duration": 15,
    "start_time": "2023-02-15T10:16:48.357Z"
   },
   {
    "duration": 63,
    "start_time": "2023-02-15T10:16:50.866Z"
   },
   {
    "duration": 4,
    "start_time": "2023-02-15T10:16:54.707Z"
   },
   {
    "duration": 988,
    "start_time": "2023-02-15T10:16:54.719Z"
   },
   {
    "duration": 4,
    "start_time": "2023-02-15T10:16:55.709Z"
   },
   {
    "duration": 830,
    "start_time": "2023-02-15T10:16:55.715Z"
   },
   {
    "duration": 251,
    "start_time": "2023-02-15T10:16:56.547Z"
   },
   {
    "duration": 52,
    "start_time": "2023-02-15T10:16:56.802Z"
   },
   {
    "duration": 53,
    "start_time": "2023-02-15T10:16:56.856Z"
   },
   {
    "duration": 8,
    "start_time": "2023-02-15T10:16:56.911Z"
   },
   {
    "duration": 321,
    "start_time": "2023-02-15T10:16:56.921Z"
   },
   {
    "duration": 38,
    "start_time": "2023-02-15T10:16:57.245Z"
   },
   {
    "duration": 375,
    "start_time": "2023-02-15T10:16:57.285Z"
   },
   {
    "duration": 357,
    "start_time": "2023-02-15T10:16:57.661Z"
   },
   {
    "duration": 349,
    "start_time": "2023-02-15T10:16:58.020Z"
   },
   {
    "duration": 3,
    "start_time": "2023-02-15T10:16:58.371Z"
   },
   {
    "duration": 28,
    "start_time": "2023-02-15T10:16:58.378Z"
   },
   {
    "duration": 79,
    "start_time": "2023-02-15T10:16:58.408Z"
   },
   {
    "duration": 326,
    "start_time": "2023-02-15T10:16:58.489Z"
   },
   {
    "duration": 328,
    "start_time": "2023-02-15T10:16:58.817Z"
   },
   {
    "duration": 34,
    "start_time": "2023-02-15T10:16:59.147Z"
   },
   {
    "duration": 98,
    "start_time": "2023-02-15T10:16:59.182Z"
   },
   {
    "duration": 38,
    "start_time": "2023-02-15T10:16:59.282Z"
   },
   {
    "duration": 448,
    "start_time": "2023-02-15T10:16:59.322Z"
   },
   {
    "duration": 69,
    "start_time": "2023-02-15T10:16:59.772Z"
   },
   {
    "duration": 18,
    "start_time": "2023-02-15T10:16:59.842Z"
   },
   {
    "duration": 65,
    "start_time": "2023-02-15T10:17:02.199Z"
   },
   {
    "duration": 452,
    "start_time": "2023-02-15T10:17:23.104Z"
   },
   {
    "duration": 27,
    "start_time": "2023-02-15T10:17:34.703Z"
   },
   {
    "duration": 4,
    "start_time": "2023-02-15T10:17:51.688Z"
   },
   {
    "duration": 5,
    "start_time": "2023-02-15T10:18:03.671Z"
   },
   {
    "duration": 5,
    "start_time": "2023-02-15T10:18:43.700Z"
   },
   {
    "duration": 4,
    "start_time": "2023-02-15T10:18:49.764Z"
   },
   {
    "duration": 1040,
    "start_time": "2023-02-15T10:18:49.770Z"
   },
   {
    "duration": 4,
    "start_time": "2023-02-15T10:18:50.812Z"
   },
   {
    "duration": 863,
    "start_time": "2023-02-15T10:18:50.818Z"
   },
   {
    "duration": 269,
    "start_time": "2023-02-15T10:18:51.683Z"
   },
   {
    "duration": 77,
    "start_time": "2023-02-15T10:18:51.954Z"
   },
   {
    "duration": 34,
    "start_time": "2023-02-15T10:18:52.033Z"
   },
   {
    "duration": 8,
    "start_time": "2023-02-15T10:18:52.069Z"
   },
   {
    "duration": 315,
    "start_time": "2023-02-15T10:18:52.079Z"
   },
   {
    "duration": 41,
    "start_time": "2023-02-15T10:18:52.397Z"
   },
   {
    "duration": 425,
    "start_time": "2023-02-15T10:18:52.440Z"
   },
   {
    "duration": 379,
    "start_time": "2023-02-15T10:18:52.866Z"
   },
   {
    "duration": 367,
    "start_time": "2023-02-15T10:18:53.248Z"
   },
   {
    "duration": 3,
    "start_time": "2023-02-15T10:18:53.617Z"
   },
   {
    "duration": 15,
    "start_time": "2023-02-15T10:18:53.622Z"
   },
   {
    "duration": 82,
    "start_time": "2023-02-15T10:18:53.639Z"
   },
   {
    "duration": 327,
    "start_time": "2023-02-15T10:18:53.723Z"
   },
   {
    "duration": 429,
    "start_time": "2023-02-15T10:18:54.051Z"
   },
   {
    "duration": 44,
    "start_time": "2023-02-15T10:18:54.482Z"
   },
   {
    "duration": 93,
    "start_time": "2023-02-15T10:18:54.528Z"
   },
   {
    "duration": 32,
    "start_time": "2023-02-15T10:18:54.623Z"
   },
   {
    "duration": 472,
    "start_time": "2023-02-15T10:18:54.656Z"
   },
   {
    "duration": 81,
    "start_time": "2023-02-15T10:18:55.130Z"
   },
   {
    "duration": 19,
    "start_time": "2023-02-15T10:18:55.213Z"
   },
   {
    "duration": 83,
    "start_time": "2023-02-15T10:18:55.235Z"
   },
   {
    "duration": 432,
    "start_time": "2023-02-15T10:18:55.320Z"
   },
   {
    "duration": 19,
    "start_time": "2023-02-15T10:19:08.548Z"
   },
   {
    "duration": 6,
    "start_time": "2023-02-15T10:19:15.183Z"
   },
   {
    "duration": 2316,
    "start_time": "2023-02-15T10:20:26.231Z"
   },
   {
    "duration": 12,
    "start_time": "2023-02-15T10:20:33.568Z"
   },
   {
    "duration": 15,
    "start_time": "2023-02-15T10:20:43.375Z"
   },
   {
    "duration": 2233,
    "start_time": "2023-02-15T10:21:07.197Z"
   },
   {
    "duration": 3,
    "start_time": "2023-02-15T10:21:15.272Z"
   },
   {
    "duration": 2342,
    "start_time": "2023-02-15T10:21:21.180Z"
   },
   {
    "duration": 14,
    "start_time": "2023-02-15T10:21:27.301Z"
   },
   {
    "duration": 74,
    "start_time": "2023-02-15T10:22:58.334Z"
   },
   {
    "duration": 3,
    "start_time": "2023-02-15T10:23:34.325Z"
   },
   {
    "duration": 4,
    "start_time": "2023-02-15T10:33:22.443Z"
   },
   {
    "duration": 74,
    "start_time": "2023-02-15T10:35:45.718Z"
   },
   {
    "duration": 148,
    "start_time": "2023-02-15T10:39:28.747Z"
   },
   {
    "duration": 4,
    "start_time": "2023-02-15T10:40:14.547Z"
   },
   {
    "duration": 97,
    "start_time": "2023-02-15T10:41:05.912Z"
   },
   {
    "duration": 139263,
    "start_time": "2023-02-15T10:41:50.733Z"
   },
   {
    "duration": 3021,
    "start_time": "2023-02-15T12:15:03.340Z"
   },
   {
    "duration": 19,
    "start_time": "2023-02-15T12:23:11.000Z"
   },
   {
    "duration": 4,
    "start_time": "2023-02-15T12:23:13.885Z"
   },
   {
    "duration": 205,
    "start_time": "2023-02-15T12:23:14.901Z"
   },
   {
    "duration": 177,
    "start_time": "2023-02-15T12:23:19.848Z"
   },
   {
    "duration": 5,
    "start_time": "2023-02-15T12:25:02.894Z"
   },
   {
    "duration": 159455,
    "start_time": "2023-02-15T12:25:15.140Z"
   },
   {
    "duration": 13,
    "start_time": "2023-02-15T12:28:56.999Z"
   },
   {
    "duration": 5,
    "start_time": "2023-02-15T12:29:41.538Z"
   },
   {
    "duration": 146753,
    "start_time": "2023-02-15T12:29:43.676Z"
   },
   {
    "duration": 6,
    "start_time": "2023-02-15T12:32:33.591Z"
   },
   {
    "duration": 140333,
    "start_time": "2023-02-15T12:36:46.793Z"
   },
   {
    "duration": 139953,
    "start_time": "2023-02-15T12:46:01.040Z"
   },
   {
    "duration": 6,
    "start_time": "2023-02-15T12:51:09.223Z"
   },
   {
    "duration": 98,
    "start_time": "2023-02-15T12:51:25.369Z"
   },
   {
    "duration": 79,
    "start_time": "2023-02-15T12:51:34.016Z"
   },
   {
    "duration": 3029,
    "start_time": "2023-02-15T13:03:25.746Z"
   },
   {
    "duration": 3709,
    "start_time": "2023-02-15T13:05:01.169Z"
   },
   {
    "duration": 143984,
    "start_time": "2023-02-15T13:05:08.581Z"
   },
   {
    "duration": 4025,
    "start_time": "2023-02-15T13:07:32.567Z"
   },
   {
    "duration": 3802,
    "start_time": "2023-02-15T13:22:58.172Z"
   },
   {
    "duration": 3905,
    "start_time": "2023-02-15T13:24:28.678Z"
   },
   {
    "duration": 21,
    "start_time": "2023-02-15T14:12:10.656Z"
   },
   {
    "duration": 5,
    "start_time": "2023-02-15T14:13:18.895Z"
   },
   {
    "duration": 3016,
    "start_time": "2023-02-15T14:14:48.193Z"
   },
   {
    "duration": 207,
    "start_time": "2023-02-15T14:15:29.765Z"
   },
   {
    "duration": 126,
    "start_time": "2023-02-15T14:16:24.939Z"
   },
   {
    "duration": 12,
    "start_time": "2023-02-15T14:16:35.524Z"
   },
   {
    "duration": 15,
    "start_time": "2023-02-15T14:16:43.578Z"
   },
   {
    "duration": 24,
    "start_time": "2023-02-15T14:42:43.834Z"
   },
   {
    "duration": 38,
    "start_time": "2023-02-15T14:42:53.337Z"
   },
   {
    "duration": 867,
    "start_time": "2023-02-15T14:43:19.622Z"
   },
   {
    "duration": 3,
    "start_time": "2023-02-15T14:44:57.981Z"
   },
   {
    "duration": 972,
    "start_time": "2023-02-15T14:44:57.986Z"
   },
   {
    "duration": 4,
    "start_time": "2023-02-15T14:44:58.959Z"
   },
   {
    "duration": 846,
    "start_time": "2023-02-15T14:44:58.964Z"
   },
   {
    "duration": 257,
    "start_time": "2023-02-15T14:44:59.813Z"
   },
   {
    "duration": 61,
    "start_time": "2023-02-15T14:45:00.071Z"
   },
   {
    "duration": 34,
    "start_time": "2023-02-15T14:45:00.134Z"
   },
   {
    "duration": 9,
    "start_time": "2023-02-15T14:45:00.170Z"
   },
   {
    "duration": 401,
    "start_time": "2023-02-15T14:45:00.202Z"
   },
   {
    "duration": 34,
    "start_time": "2023-02-15T14:45:00.605Z"
   },
   {
    "duration": 279,
    "start_time": "2023-02-15T14:45:00.641Z"
   },
   {
    "duration": 373,
    "start_time": "2023-02-15T14:45:00.921Z"
   },
   {
    "duration": 338,
    "start_time": "2023-02-15T14:45:01.297Z"
   },
   {
    "duration": 2,
    "start_time": "2023-02-15T14:45:01.637Z"
   },
   {
    "duration": 15,
    "start_time": "2023-02-15T14:45:01.641Z"
   },
   {
    "duration": 83,
    "start_time": "2023-02-15T14:45:01.658Z"
   },
   {
    "duration": 302,
    "start_time": "2023-02-15T14:45:01.743Z"
   },
   {
    "duration": 318,
    "start_time": "2023-02-15T14:45:02.047Z"
   },
   {
    "duration": 38,
    "start_time": "2023-02-15T14:45:02.367Z"
   },
   {
    "duration": 73,
    "start_time": "2023-02-15T14:45:02.406Z"
   },
   {
    "duration": 42,
    "start_time": "2023-02-15T14:45:02.481Z"
   },
   {
    "duration": 415,
    "start_time": "2023-02-15T14:45:02.525Z"
   },
   {
    "duration": 75,
    "start_time": "2023-02-15T14:45:02.942Z"
   },
   {
    "duration": 20,
    "start_time": "2023-02-15T14:45:03.019Z"
   },
   {
    "duration": 73,
    "start_time": "2023-02-15T14:45:03.041Z"
   },
   {
    "duration": 61,
    "start_time": "2023-02-15T14:45:28.640Z"
   },
   {
    "duration": 65,
    "start_time": "2023-02-15T14:45:30.117Z"
   },
   {
    "duration": 64,
    "start_time": "2023-02-15T14:45:31.067Z"
   },
   {
    "duration": 104,
    "start_time": "2023-02-15T14:45:32.549Z"
   },
   {
    "duration": 103,
    "start_time": "2023-02-15T14:45:36.057Z"
   },
   {
    "duration": 103,
    "start_time": "2023-02-15T14:45:38.316Z"
   },
   {
    "duration": 292,
    "start_time": "2023-02-15T14:45:55.850Z"
   },
   {
    "duration": 313,
    "start_time": "2023-02-15T14:46:07.688Z"
   },
   {
    "duration": 321,
    "start_time": "2023-02-15T14:46:31.193Z"
   },
   {
    "duration": 313,
    "start_time": "2023-02-15T14:46:40.201Z"
   },
   {
    "duration": 3,
    "start_time": "2023-02-15T14:46:46.218Z"
   },
   {
    "duration": 1110,
    "start_time": "2023-02-15T14:46:46.223Z"
   },
   {
    "duration": 4,
    "start_time": "2023-02-15T14:46:47.335Z"
   },
   {
    "duration": 933,
    "start_time": "2023-02-15T14:46:47.340Z"
   },
   {
    "duration": 255,
    "start_time": "2023-02-15T14:46:48.275Z"
   },
   {
    "duration": 51,
    "start_time": "2023-02-15T14:46:48.531Z"
   },
   {
    "duration": 47,
    "start_time": "2023-02-15T14:46:48.584Z"
   },
   {
    "duration": 7,
    "start_time": "2023-02-15T14:46:48.633Z"
   },
   {
    "duration": 289,
    "start_time": "2023-02-15T14:46:48.641Z"
   },
   {
    "duration": 37,
    "start_time": "2023-02-15T14:46:48.931Z"
   },
   {
    "duration": 277,
    "start_time": "2023-02-15T14:46:48.970Z"
   },
   {
    "duration": 341,
    "start_time": "2023-02-15T14:46:49.249Z"
   },
   {
    "duration": 329,
    "start_time": "2023-02-15T14:46:49.592Z"
   },
   {
    "duration": 3,
    "start_time": "2023-02-15T14:46:49.923Z"
   },
   {
    "duration": 14,
    "start_time": "2023-02-15T14:46:49.927Z"
   },
   {
    "duration": 84,
    "start_time": "2023-02-15T14:46:49.943Z"
   },
   {
    "duration": 297,
    "start_time": "2023-02-15T14:46:50.029Z"
   },
   {
    "duration": 403,
    "start_time": "2023-02-15T14:46:50.328Z"
   },
   {
    "duration": 31,
    "start_time": "2023-02-15T14:46:50.733Z"
   },
   {
    "duration": 89,
    "start_time": "2023-02-15T14:46:50.765Z"
   },
   {
    "duration": 32,
    "start_time": "2023-02-15T14:46:50.856Z"
   },
   {
    "duration": 427,
    "start_time": "2023-02-15T14:46:50.902Z"
   },
   {
    "duration": 61,
    "start_time": "2023-02-15T14:46:51.331Z"
   },
   {
    "duration": 17,
    "start_time": "2023-02-15T14:46:51.403Z"
   },
   {
    "duration": 66,
    "start_time": "2023-02-15T14:46:51.421Z"
   },
   {
    "duration": 321,
    "start_time": "2023-02-15T14:46:53.856Z"
   },
   {
    "duration": 313,
    "start_time": "2023-02-15T14:48:27.687Z"
   },
   {
    "duration": 465,
    "start_time": "2023-02-15T14:48:49.072Z"
   },
   {
    "duration": 303,
    "start_time": "2023-02-15T14:48:58.723Z"
   },
   {
    "duration": 11,
    "start_time": "2023-02-15T14:49:25.479Z"
   },
   {
    "duration": 288,
    "start_time": "2023-02-15T14:49:32.859Z"
   },
   {
    "duration": 314,
    "start_time": "2023-02-15T14:49:54.327Z"
   },
   {
    "duration": 61,
    "start_time": "2023-02-15T14:50:03.222Z"
   },
   {
    "duration": 72,
    "start_time": "2023-02-15T14:50:04.209Z"
   },
   {
    "duration": 328,
    "start_time": "2023-02-15T14:50:05.446Z"
   },
   {
    "duration": 4,
    "start_time": "2023-02-15T14:50:17.643Z"
   },
   {
    "duration": 1011,
    "start_time": "2023-02-15T14:50:17.649Z"
   },
   {
    "duration": 4,
    "start_time": "2023-02-15T14:50:18.662Z"
   },
   {
    "duration": 884,
    "start_time": "2023-02-15T14:50:18.667Z"
   },
   {
    "duration": 266,
    "start_time": "2023-02-15T14:50:19.553Z"
   },
   {
    "duration": 53,
    "start_time": "2023-02-15T14:50:19.820Z"
   },
   {
    "duration": 48,
    "start_time": "2023-02-15T14:50:19.875Z"
   },
   {
    "duration": 7,
    "start_time": "2023-02-15T14:50:19.924Z"
   },
   {
    "duration": 298,
    "start_time": "2023-02-15T14:50:19.933Z"
   },
   {
    "duration": 37,
    "start_time": "2023-02-15T14:50:20.232Z"
   },
   {
    "duration": 271,
    "start_time": "2023-02-15T14:50:20.272Z"
   },
   {
    "duration": 364,
    "start_time": "2023-02-15T14:50:20.545Z"
   },
   {
    "duration": 374,
    "start_time": "2023-02-15T14:50:20.912Z"
   },
   {
    "duration": 3,
    "start_time": "2023-02-15T14:50:21.288Z"
   },
   {
    "duration": 21,
    "start_time": "2023-02-15T14:50:21.293Z"
   },
   {
    "duration": 98,
    "start_time": "2023-02-15T14:50:21.316Z"
   },
   {
    "duration": 310,
    "start_time": "2023-02-15T14:50:21.417Z"
   },
   {
    "duration": 447,
    "start_time": "2023-02-15T14:50:21.729Z"
   },
   {
    "duration": 40,
    "start_time": "2023-02-15T14:50:22.178Z"
   },
   {
    "duration": 73,
    "start_time": "2023-02-15T14:50:22.219Z"
   },
   {
    "duration": 31,
    "start_time": "2023-02-15T14:50:22.303Z"
   },
   {
    "duration": 443,
    "start_time": "2023-02-15T14:50:22.336Z"
   },
   {
    "duration": 69,
    "start_time": "2023-02-15T14:50:22.780Z"
   },
   {
    "duration": 21,
    "start_time": "2023-02-15T14:50:22.852Z"
   },
   {
    "duration": 74,
    "start_time": "2023-02-15T14:50:22.875Z"
   },
   {
    "duration": 300,
    "start_time": "2023-02-15T14:50:27.521Z"
   },
   {
    "duration": 0,
    "start_time": "2023-02-15T14:50:29.617Z"
   },
   {
    "duration": 0,
    "start_time": "2023-02-15T14:50:30.723Z"
   },
   {
    "duration": 0,
    "start_time": "2023-02-15T14:50:31.076Z"
   },
   {
    "duration": 286,
    "start_time": "2023-02-15T14:50:32.719Z"
   },
   {
    "duration": 294,
    "start_time": "2023-02-15T14:50:36.531Z"
   },
   {
    "duration": 318,
    "start_time": "2023-02-15T14:50:41.017Z"
   },
   {
    "duration": 281,
    "start_time": "2023-02-15T14:51:35.572Z"
   },
   {
    "duration": 302,
    "start_time": "2023-02-15T14:53:01.833Z"
   },
   {
    "duration": 61,
    "start_time": "2023-02-15T14:53:11.612Z"
   },
   {
    "duration": 977,
    "start_time": "2023-02-15T14:53:28.855Z"
   },
   {
    "duration": 50,
    "start_time": "2023-02-15T14:53:42.120Z"
   },
   {
    "duration": 1229,
    "start_time": "2023-02-15T14:53:45.100Z"
   },
   {
    "duration": 1171,
    "start_time": "2023-02-15T14:53:46.902Z"
   },
   {
    "duration": 4,
    "start_time": "2023-02-15T14:53:54.401Z"
   },
   {
    "duration": 1139,
    "start_time": "2023-02-15T14:53:54.406Z"
   },
   {
    "duration": 4,
    "start_time": "2023-02-15T14:53:55.547Z"
   },
   {
    "duration": 1163,
    "start_time": "2023-02-15T14:53:55.552Z"
   },
   {
    "duration": 259,
    "start_time": "2023-02-15T14:53:56.717Z"
   },
   {
    "duration": 60,
    "start_time": "2023-02-15T14:53:56.978Z"
   },
   {
    "duration": 32,
    "start_time": "2023-02-15T14:53:57.040Z"
   },
   {
    "duration": 8,
    "start_time": "2023-02-15T14:53:57.074Z"
   },
   {
    "duration": 574,
    "start_time": "2023-02-15T14:53:57.084Z"
   },
   {
    "duration": 52,
    "start_time": "2023-02-15T14:53:57.660Z"
   },
   {
    "duration": 326,
    "start_time": "2023-02-15T14:53:57.716Z"
   },
   {
    "duration": 434,
    "start_time": "2023-02-15T14:53:58.044Z"
   },
   {
    "duration": 333,
    "start_time": "2023-02-15T14:53:58.480Z"
   },
   {
    "duration": 19,
    "start_time": "2023-02-15T14:53:58.815Z"
   },
   {
    "duration": 22,
    "start_time": "2023-02-15T14:53:58.836Z"
   },
   {
    "duration": 67,
    "start_time": "2023-02-15T14:53:58.860Z"
   },
   {
    "duration": 300,
    "start_time": "2023-02-15T14:53:58.928Z"
   },
   {
    "duration": 310,
    "start_time": "2023-02-15T14:53:59.230Z"
   },
   {
    "duration": 31,
    "start_time": "2023-02-15T14:53:59.542Z"
   },
   {
    "duration": 96,
    "start_time": "2023-02-15T14:53:59.575Z"
   },
   {
    "duration": 34,
    "start_time": "2023-02-15T14:53:59.673Z"
   },
   {
    "duration": 450,
    "start_time": "2023-02-15T14:53:59.708Z"
   },
   {
    "duration": 71,
    "start_time": "2023-02-15T14:54:00.160Z"
   },
   {
    "duration": 17,
    "start_time": "2023-02-15T14:54:00.232Z"
   },
   {
    "duration": 83,
    "start_time": "2023-02-15T14:54:00.251Z"
   },
   {
    "duration": 355,
    "start_time": "2023-02-15T14:54:04.434Z"
   },
   {
    "duration": 296,
    "start_time": "2023-02-15T14:54:09.073Z"
   },
   {
    "duration": 308,
    "start_time": "2023-02-15T14:54:31.182Z"
   },
   {
    "duration": 346,
    "start_time": "2023-02-15T14:54:50.635Z"
   },
   {
    "duration": 9,
    "start_time": "2023-02-15T14:55:26.135Z"
   },
   {
    "duration": 10,
    "start_time": "2023-02-15T14:55:28.872Z"
   },
   {
    "duration": 10,
    "start_time": "2023-02-15T14:55:29.065Z"
   },
   {
    "duration": 11,
    "start_time": "2023-02-15T14:55:29.364Z"
   },
   {
    "duration": 13,
    "start_time": "2023-02-15T14:55:29.498Z"
   },
   {
    "duration": 9,
    "start_time": "2023-02-15T14:55:29.621Z"
   },
   {
    "duration": 11,
    "start_time": "2023-02-15T14:55:29.750Z"
   },
   {
    "duration": 10,
    "start_time": "2023-02-15T14:55:29.879Z"
   },
   {
    "duration": 11,
    "start_time": "2023-02-15T14:55:31.156Z"
   },
   {
    "duration": 10,
    "start_time": "2023-02-15T14:55:31.332Z"
   },
   {
    "duration": 10,
    "start_time": "2023-02-15T14:55:31.493Z"
   },
   {
    "duration": 0,
    "start_time": "2023-02-15T14:55:39.395Z"
   },
   {
    "duration": 287,
    "start_time": "2023-02-15T14:55:39.845Z"
   },
   {
    "duration": 292,
    "start_time": "2023-02-15T14:55:40.600Z"
   },
   {
    "duration": 3,
    "start_time": "2023-02-15T14:56:02.228Z"
   },
   {
    "duration": 76,
    "start_time": "2023-02-15T14:56:07.255Z"
   },
   {
    "duration": 80,
    "start_time": "2023-02-15T14:56:13.421Z"
   },
   {
    "duration": 296,
    "start_time": "2023-02-15T14:56:30.412Z"
   },
   {
    "duration": 317,
    "start_time": "2023-02-15T14:56:43.228Z"
   },
   {
    "duration": 310,
    "start_time": "2023-02-15T14:56:44.440Z"
   },
   {
    "duration": 316,
    "start_time": "2023-02-15T14:56:45.304Z"
   },
   {
    "duration": 0,
    "start_time": "2023-02-15T14:56:54.625Z"
   },
   {
    "duration": 427,
    "start_time": "2023-02-15T14:56:58.045Z"
   },
   {
    "duration": 22,
    "start_time": "2023-02-15T14:57:17.252Z"
   },
   {
    "duration": 314,
    "start_time": "2023-02-15T14:59:31.872Z"
   },
   {
    "duration": 4,
    "start_time": "2023-02-15T15:01:07.375Z"
   },
   {
    "duration": 291,
    "start_time": "2023-02-15T15:01:11.669Z"
   },
   {
    "duration": 11,
    "start_time": "2023-02-15T15:01:19.517Z"
   },
   {
    "duration": 10,
    "start_time": "2023-02-15T15:01:23.074Z"
   },
   {
    "duration": 2,
    "start_time": "2023-02-15T15:01:25.171Z"
   },
   {
    "duration": 284,
    "start_time": "2023-02-15T15:01:25.926Z"
   },
   {
    "duration": 27,
    "start_time": "2023-02-15T15:01:48.521Z"
   },
   {
    "duration": 379,
    "start_time": "2023-02-15T15:01:53.495Z"
   },
   {
    "duration": 14,
    "start_time": "2023-02-15T15:01:56.305Z"
   },
   {
    "duration": 36,
    "start_time": "2023-02-15T15:02:01.154Z"
   },
   {
    "duration": 2287,
    "start_time": "2023-02-15T15:06:24.860Z"
   },
   {
    "duration": 31,
    "start_time": "2023-02-15T15:06:28.738Z"
   },
   {
    "duration": 15,
    "start_time": "2023-02-15T15:06:36.062Z"
   },
   {
    "duration": 15,
    "start_time": "2023-02-15T15:06:44.687Z"
   },
   {
    "duration": 74,
    "start_time": "2023-02-15T15:07:12.409Z"
   },
   {
    "duration": 79,
    "start_time": "2023-02-15T15:07:18.973Z"
   },
   {
    "duration": 40,
    "start_time": "2023-02-15T15:07:21.729Z"
   },
   {
    "duration": 24,
    "start_time": "2023-02-15T15:07:28.651Z"
   },
   {
    "duration": 17,
    "start_time": "2023-02-15T15:07:34.279Z"
   },
   {
    "duration": 4,
    "start_time": "2023-02-15T15:07:44.977Z"
   },
   {
    "duration": 1026,
    "start_time": "2023-02-15T15:07:44.983Z"
   },
   {
    "duration": 3,
    "start_time": "2023-02-15T15:07:46.011Z"
   },
   {
    "duration": 886,
    "start_time": "2023-02-15T15:07:46.017Z"
   },
   {
    "duration": 260,
    "start_time": "2023-02-15T15:07:46.905Z"
   },
   {
    "duration": 66,
    "start_time": "2023-02-15T15:07:47.167Z"
   },
   {
    "duration": 43,
    "start_time": "2023-02-15T15:07:47.235Z"
   },
   {
    "duration": 25,
    "start_time": "2023-02-15T15:07:47.280Z"
   },
   {
    "duration": 298,
    "start_time": "2023-02-15T15:07:47.307Z"
   },
   {
    "duration": 34,
    "start_time": "2023-02-15T15:07:47.607Z"
   },
   {
    "duration": 394,
    "start_time": "2023-02-15T15:07:47.644Z"
   },
   {
    "duration": 367,
    "start_time": "2023-02-15T15:07:48.040Z"
   },
   {
    "duration": 359,
    "start_time": "2023-02-15T15:07:48.408Z"
   },
   {
    "duration": 3,
    "start_time": "2023-02-15T15:07:48.769Z"
   },
   {
    "duration": 16,
    "start_time": "2023-02-15T15:07:48.774Z"
   },
   {
    "duration": 80,
    "start_time": "2023-02-15T15:07:48.791Z"
   },
   {
    "duration": 330,
    "start_time": "2023-02-15T15:07:48.873Z"
   },
   {
    "duration": 345,
    "start_time": "2023-02-15T15:07:49.205Z"
   },
   {
    "duration": 32,
    "start_time": "2023-02-15T15:07:49.552Z"
   },
   {
    "duration": 107,
    "start_time": "2023-02-15T15:07:49.586Z"
   },
   {
    "duration": 32,
    "start_time": "2023-02-15T15:07:49.703Z"
   },
   {
    "duration": 453,
    "start_time": "2023-02-15T15:07:49.736Z"
   },
   {
    "duration": 74,
    "start_time": "2023-02-15T15:07:50.191Z"
   },
   {
    "duration": 18,
    "start_time": "2023-02-15T15:07:50.267Z"
   },
   {
    "duration": 75,
    "start_time": "2023-02-15T15:07:50.287Z"
   },
   {
    "duration": 2,
    "start_time": "2023-02-15T15:08:02.323Z"
   },
   {
    "duration": 68,
    "start_time": "2023-02-15T15:08:04.179Z"
   },
   {
    "duration": 293,
    "start_time": "2023-02-15T15:08:06.184Z"
   },
   {
    "duration": 99,
    "start_time": "2023-02-15T15:08:27.092Z"
   },
   {
    "duration": 327,
    "start_time": "2023-02-15T15:09:08.664Z"
   },
   {
    "duration": 27,
    "start_time": "2023-02-15T15:09:12.152Z"
   },
   {
    "duration": 3,
    "start_time": "2023-02-15T15:09:18.870Z"
   },
   {
    "duration": 998,
    "start_time": "2023-02-15T15:09:18.875Z"
   },
   {
    "duration": 3,
    "start_time": "2023-02-15T15:09:19.875Z"
   },
   {
    "duration": 835,
    "start_time": "2023-02-15T15:09:19.880Z"
   },
   {
    "duration": 258,
    "start_time": "2023-02-15T15:09:20.718Z"
   },
   {
    "duration": 58,
    "start_time": "2023-02-15T15:09:20.978Z"
   },
   {
    "duration": 33,
    "start_time": "2023-02-15T15:09:21.038Z"
   },
   {
    "duration": 30,
    "start_time": "2023-02-15T15:09:21.073Z"
   },
   {
    "duration": 281,
    "start_time": "2023-02-15T15:09:21.105Z"
   },
   {
    "duration": 44,
    "start_time": "2023-02-15T15:09:21.387Z"
   },
   {
    "duration": 382,
    "start_time": "2023-02-15T15:09:21.434Z"
   },
   {
    "duration": 348,
    "start_time": "2023-02-15T15:09:21.818Z"
   },
   {
    "duration": 335,
    "start_time": "2023-02-15T15:09:22.168Z"
   },
   {
    "duration": 2,
    "start_time": "2023-02-15T15:09:22.505Z"
   },
   {
    "duration": 18,
    "start_time": "2023-02-15T15:09:22.509Z"
   },
   {
    "duration": 81,
    "start_time": "2023-02-15T15:09:22.529Z"
   },
   {
    "duration": 298,
    "start_time": "2023-02-15T15:09:22.611Z"
   },
   {
    "duration": 336,
    "start_time": "2023-02-15T15:09:22.911Z"
   },
   {
    "duration": 33,
    "start_time": "2023-02-15T15:09:23.249Z"
   },
   {
    "duration": 82,
    "start_time": "2023-02-15T15:09:23.283Z"
   },
   {
    "duration": 44,
    "start_time": "2023-02-15T15:09:23.367Z"
   },
   {
    "duration": 431,
    "start_time": "2023-02-15T15:09:23.413Z"
   },
   {
    "duration": 69,
    "start_time": "2023-02-15T15:09:23.847Z"
   },
   {
    "duration": 17,
    "start_time": "2023-02-15T15:09:23.918Z"
   },
   {
    "duration": 82,
    "start_time": "2023-02-15T15:09:23.937Z"
   },
   {
    "duration": 3,
    "start_time": "2023-02-15T15:09:24.025Z"
   },
   {
    "duration": 360,
    "start_time": "2023-02-15T15:09:26.180Z"
   },
   {
    "duration": 25,
    "start_time": "2023-02-15T15:09:28.302Z"
   },
   {
    "duration": 15,
    "start_time": "2023-02-15T15:09:33.623Z"
   },
   {
    "duration": 87,
    "start_time": "2023-02-15T15:28:05.794Z"
   },
   {
    "duration": 24,
    "start_time": "2023-02-15T15:28:10.273Z"
   },
   {
    "duration": 20,
    "start_time": "2023-02-15T15:28:13.494Z"
   },
   {
    "duration": 23,
    "start_time": "2023-02-15T15:28:47.825Z"
   },
   {
    "duration": 38,
    "start_time": "2023-02-15T15:28:52.398Z"
   },
   {
    "duration": 8,
    "start_time": "2023-02-15T15:30:01.766Z"
   },
   {
    "duration": 4,
    "start_time": "2023-02-15T15:35:43.236Z"
   },
   {
    "duration": 8,
    "start_time": "2023-02-15T15:35:44.428Z"
   },
   {
    "duration": 38,
    "start_time": "2023-02-15T15:35:48.395Z"
   },
   {
    "duration": 141,
    "start_time": "2023-02-15T15:35:49.621Z"
   },
   {
    "duration": 10,
    "start_time": "2023-02-15T16:16:00.378Z"
   },
   {
    "duration": 9,
    "start_time": "2023-02-15T16:16:34.298Z"
   },
   {
    "duration": 15,
    "start_time": "2023-02-15T16:19:32.592Z"
   },
   {
    "duration": 11,
    "start_time": "2023-02-15T16:28:49.354Z"
   },
   {
    "duration": 3,
    "start_time": "2023-02-15T16:29:14.955Z"
   },
   {
    "duration": 3,
    "start_time": "2023-02-15T16:29:16.017Z"
   },
   {
    "duration": 10,
    "start_time": "2023-02-15T16:29:17.687Z"
   },
   {
    "duration": 39,
    "start_time": "2023-02-15T16:31:03.527Z"
   },
   {
    "duration": 21,
    "start_time": "2023-02-15T16:31:10.845Z"
   },
   {
    "duration": 6,
    "start_time": "2023-02-15T16:31:27.463Z"
   },
   {
    "duration": 5,
    "start_time": "2023-02-15T16:37:16.453Z"
   },
   {
    "duration": 4,
    "start_time": "2023-02-15T16:37:28.302Z"
   },
   {
    "duration": 1393,
    "start_time": "2023-02-15T16:37:31.888Z"
   },
   {
    "duration": 1407,
    "start_time": "2023-02-15T16:37:52.099Z"
   },
   {
    "duration": 4,
    "start_time": "2023-02-15T16:39:09.577Z"
   },
   {
    "duration": 1387,
    "start_time": "2023-02-15T16:39:18.717Z"
   },
   {
    "duration": 1293,
    "start_time": "2023-02-15T17:14:25.128Z"
   },
   {
    "duration": 8,
    "start_time": "2023-02-15T17:14:38.348Z"
   },
   {
    "duration": 1311,
    "start_time": "2023-02-15T17:14:39.393Z"
   },
   {
    "duration": 1278,
    "start_time": "2023-02-15T17:14:55.398Z"
   },
   {
    "duration": 1314,
    "start_time": "2023-02-15T17:20:17.638Z"
   },
   {
    "duration": 3,
    "start_time": "2023-02-15T17:20:24.010Z"
   },
   {
    "duration": 1312,
    "start_time": "2023-02-15T17:20:25.400Z"
   },
   {
    "duration": 3,
    "start_time": "2023-02-15T17:20:58.420Z"
   },
   {
    "duration": 1346,
    "start_time": "2023-02-15T17:21:00.108Z"
   },
   {
    "duration": 33,
    "start_time": "2023-02-15T17:30:20.547Z"
   },
   {
    "duration": 10,
    "start_time": "2023-02-15T18:07:53.452Z"
   },
   {
    "duration": 10,
    "start_time": "2023-02-15T18:08:02.649Z"
   },
   {
    "duration": 11,
    "start_time": "2023-02-15T18:24:45.206Z"
   },
   {
    "duration": 118,
    "start_time": "2023-02-15T18:24:51.741Z"
   },
   {
    "duration": 191,
    "start_time": "2023-02-15T18:24:57.814Z"
   },
   {
    "duration": 206,
    "start_time": "2023-02-15T18:25:33.805Z"
   },
   {
    "duration": 43145,
    "start_time": "2023-02-15T18:27:24.595Z"
   },
   {
    "duration": 17206,
    "start_time": "2023-02-15T18:29:01.006Z"
   },
   {
    "duration": 3,
    "start_time": "2023-02-15T18:31:09.327Z"
   },
   {
    "duration": 17342,
    "start_time": "2023-02-15T18:31:30.367Z"
   },
   {
    "duration": 22681,
    "start_time": "2023-02-15T18:34:20.168Z"
   },
   {
    "duration": 22271,
    "start_time": "2023-02-15T18:35:06.765Z"
   },
   {
    "duration": 22392,
    "start_time": "2023-02-15T18:35:55.379Z"
   },
   {
    "duration": 137,
    "start_time": "2023-02-15T18:39:44.276Z"
   },
   {
    "duration": 1218,
    "start_time": "2023-02-15T18:39:49.608Z"
   },
   {
    "duration": 274,
    "start_time": "2023-02-15T18:39:52.730Z"
   },
   {
    "duration": 17145,
    "start_time": "2023-02-15T18:39:54.873Z"
   },
   {
    "duration": 22849,
    "start_time": "2023-02-15T18:40:12.020Z"
   },
   {
    "duration": 10,
    "start_time": "2023-02-15T18:41:23.416Z"
   },
   {
    "duration": 10,
    "start_time": "2023-02-15T18:41:30.276Z"
   },
   {
    "duration": 4911,
    "start_time": "2023-02-15T18:46:52.833Z"
   },
   {
    "duration": 5,
    "start_time": "2023-02-15T18:54:42.342Z"
   },
   {
    "duration": 920,
    "start_time": "2023-02-15T18:54:42.348Z"
   },
   {
    "duration": 4,
    "start_time": "2023-02-15T18:54:43.270Z"
   },
   {
    "duration": 787,
    "start_time": "2023-02-15T18:54:43.276Z"
   },
   {
    "duration": 293,
    "start_time": "2023-02-15T18:54:44.065Z"
   },
   {
    "duration": 57,
    "start_time": "2023-02-15T18:54:44.359Z"
   },
   {
    "duration": 30,
    "start_time": "2023-02-15T18:54:44.417Z"
   },
   {
    "duration": 6,
    "start_time": "2023-02-15T18:54:44.449Z"
   },
   {
    "duration": 279,
    "start_time": "2023-02-15T18:54:44.457Z"
   },
   {
    "duration": 32,
    "start_time": "2023-02-15T18:54:44.739Z"
   },
   {
    "duration": 284,
    "start_time": "2023-02-15T18:54:44.772Z"
   },
   {
    "duration": 334,
    "start_time": "2023-02-15T18:54:45.057Z"
   },
   {
    "duration": 313,
    "start_time": "2023-02-15T18:54:45.392Z"
   },
   {
    "duration": 2,
    "start_time": "2023-02-15T18:54:45.707Z"
   },
   {
    "duration": 15,
    "start_time": "2023-02-15T18:54:45.711Z"
   },
   {
    "duration": 63,
    "start_time": "2023-02-15T18:54:45.727Z"
   },
   {
    "duration": 287,
    "start_time": "2023-02-15T18:54:45.804Z"
   },
   {
    "duration": 388,
    "start_time": "2023-02-15T18:54:46.092Z"
   },
   {
    "duration": 35,
    "start_time": "2023-02-15T18:54:46.482Z"
   },
   {
    "duration": 66,
    "start_time": "2023-02-15T18:54:46.519Z"
   },
   {
    "duration": 40,
    "start_time": "2023-02-15T18:54:46.587Z"
   },
   {
    "duration": 407,
    "start_time": "2023-02-15T18:54:46.628Z"
   },
   {
    "duration": 67,
    "start_time": "2023-02-15T18:54:47.036Z"
   },
   {
    "duration": 16,
    "start_time": "2023-02-15T18:54:47.105Z"
   },
   {
    "duration": 3,
    "start_time": "2023-02-15T18:54:47.122Z"
   },
   {
    "duration": 6,
    "start_time": "2023-02-15T18:54:47.126Z"
   },
   {
    "duration": 4,
    "start_time": "2023-02-15T18:54:47.134Z"
   },
   {
    "duration": 24,
    "start_time": "2023-02-15T18:54:47.140Z"
   },
   {
    "duration": 87,
    "start_time": "2023-02-15T18:54:47.166Z"
   },
   {
    "duration": 4,
    "start_time": "2023-02-15T18:55:26.220Z"
   },
   {
    "duration": 3,
    "start_time": "2023-02-15T18:55:27.509Z"
   },
   {
    "duration": 8,
    "start_time": "2023-02-15T18:55:28.691Z"
   },
   {
    "duration": 3,
    "start_time": "2023-02-15T18:55:30.660Z"
   },
   {
    "duration": 82,
    "start_time": "2023-02-15T18:55:32.048Z"
   },
   {
    "duration": 67,
    "start_time": "2023-02-15T18:55:43.092Z"
   },
   {
    "duration": 4,
    "start_time": "2023-02-15T18:56:51.908Z"
   },
   {
    "duration": 928,
    "start_time": "2023-02-15T18:56:51.913Z"
   },
   {
    "duration": 4,
    "start_time": "2023-02-15T18:56:52.843Z"
   },
   {
    "duration": 786,
    "start_time": "2023-02-15T18:56:52.848Z"
   },
   {
    "duration": 256,
    "start_time": "2023-02-15T18:56:53.636Z"
   },
   {
    "duration": 52,
    "start_time": "2023-02-15T18:56:53.893Z"
   },
   {
    "duration": 31,
    "start_time": "2023-02-15T18:56:53.947Z"
   },
   {
    "duration": 24,
    "start_time": "2023-02-15T18:56:53.979Z"
   },
   {
    "duration": 309,
    "start_time": "2023-02-15T18:56:54.005Z"
   },
   {
    "duration": 33,
    "start_time": "2023-02-15T18:56:54.316Z"
   },
   {
    "duration": 252,
    "start_time": "2023-02-15T18:56:54.352Z"
   },
   {
    "duration": 306,
    "start_time": "2023-02-15T18:56:54.606Z"
   },
   {
    "duration": 328,
    "start_time": "2023-02-15T18:56:54.913Z"
   },
   {
    "duration": 2,
    "start_time": "2023-02-15T18:56:55.243Z"
   },
   {
    "duration": 17,
    "start_time": "2023-02-15T18:56:55.247Z"
   },
   {
    "duration": 93,
    "start_time": "2023-02-15T18:56:55.266Z"
   },
   {
    "duration": 279,
    "start_time": "2023-02-15T18:56:55.361Z"
   },
   {
    "duration": 414,
    "start_time": "2023-02-15T18:56:55.642Z"
   },
   {
    "duration": 31,
    "start_time": "2023-02-15T18:56:56.057Z"
   },
   {
    "duration": 81,
    "start_time": "2023-02-15T18:56:56.089Z"
   },
   {
    "duration": 39,
    "start_time": "2023-02-15T18:56:56.171Z"
   },
   {
    "duration": 412,
    "start_time": "2023-02-15T18:56:56.212Z"
   },
   {
    "duration": 62,
    "start_time": "2023-02-15T18:56:56.626Z"
   },
   {
    "duration": 21,
    "start_time": "2023-02-15T18:56:56.702Z"
   },
   {
    "duration": 3,
    "start_time": "2023-02-15T18:56:56.725Z"
   },
   {
    "duration": 323,
    "start_time": "2023-02-15T18:56:56.730Z"
   },
   {
    "duration": 33,
    "start_time": "2023-02-15T18:56:57.055Z"
   },
   {
    "duration": 14,
    "start_time": "2023-02-15T18:56:57.090Z"
   },
   {
    "duration": 58,
    "start_time": "2023-02-15T18:56:57.106Z"
   },
   {
    "duration": 3,
    "start_time": "2023-02-15T18:57:06.650Z"
   },
   {
    "duration": 3,
    "start_time": "2023-02-15T18:57:07.403Z"
   },
   {
    "duration": 7,
    "start_time": "2023-02-15T18:57:08.990Z"
   },
   {
    "duration": 3,
    "start_time": "2023-02-15T18:57:10.185Z"
   },
   {
    "duration": 1328,
    "start_time": "2023-02-15T18:57:11.755Z"
   },
   {
    "duration": 141,
    "start_time": "2023-02-15T18:57:16.868Z"
   },
   {
    "duration": 18375,
    "start_time": "2023-02-15T18:57:21.844Z"
   },
   {
    "duration": 22475,
    "start_time": "2023-02-15T18:57:40.221Z"
   },
   {
    "duration": 4698,
    "start_time": "2023-02-15T18:58:02.697Z"
   },
   {
    "duration": 9,
    "start_time": "2023-02-15T19:24:03.558Z"
   },
   {
    "duration": 6414,
    "start_time": "2023-02-15T19:24:20.498Z"
   },
   {
    "duration": 6031,
    "start_time": "2023-02-15T19:24:52.989Z"
   },
   {
    "duration": 6397,
    "start_time": "2023-02-15T19:25:07.114Z"
   },
   {
    "duration": 6375,
    "start_time": "2023-02-15T19:25:24.053Z"
   },
   {
    "duration": 4,
    "start_time": "2023-02-15T19:26:07.394Z"
   },
   {
    "duration": 889,
    "start_time": "2023-02-15T19:26:07.400Z"
   },
   {
    "duration": 3,
    "start_time": "2023-02-15T19:26:08.291Z"
   },
   {
    "duration": 776,
    "start_time": "2023-02-15T19:26:08.303Z"
   },
   {
    "duration": 250,
    "start_time": "2023-02-15T19:26:09.082Z"
   },
   {
    "duration": 49,
    "start_time": "2023-02-15T19:26:09.333Z"
   },
   {
    "duration": 45,
    "start_time": "2023-02-15T19:26:09.383Z"
   },
   {
    "duration": 7,
    "start_time": "2023-02-15T19:26:09.430Z"
   },
   {
    "duration": 262,
    "start_time": "2023-02-15T19:26:09.438Z"
   },
   {
    "duration": 34,
    "start_time": "2023-02-15T19:26:09.701Z"
   },
   {
    "duration": 256,
    "start_time": "2023-02-15T19:26:09.737Z"
   },
   {
    "duration": 321,
    "start_time": "2023-02-15T19:26:09.994Z"
   },
   {
    "duration": 301,
    "start_time": "2023-02-15T19:26:10.316Z"
   },
   {
    "duration": 2,
    "start_time": "2023-02-15T19:26:10.618Z"
   },
   {
    "duration": 12,
    "start_time": "2023-02-15T19:26:10.622Z"
   },
   {
    "duration": 76,
    "start_time": "2023-02-15T19:26:10.636Z"
   },
   {
    "duration": 400,
    "start_time": "2023-02-15T19:26:10.714Z"
   },
   {
    "duration": 307,
    "start_time": "2023-02-15T19:26:11.116Z"
   },
   {
    "duration": 28,
    "start_time": "2023-02-15T19:26:11.425Z"
   },
   {
    "duration": 81,
    "start_time": "2023-02-15T19:26:11.455Z"
   },
   {
    "duration": 28,
    "start_time": "2023-02-15T19:26:11.538Z"
   },
   {
    "duration": 406,
    "start_time": "2023-02-15T19:26:11.568Z"
   },
   {
    "duration": 64,
    "start_time": "2023-02-15T19:26:11.976Z"
   },
   {
    "duration": 16,
    "start_time": "2023-02-15T19:26:12.041Z"
   },
   {
    "duration": 3,
    "start_time": "2023-02-15T19:26:12.059Z"
   },
   {
    "duration": 314,
    "start_time": "2023-02-15T19:26:12.064Z"
   },
   {
    "duration": 40,
    "start_time": "2023-02-15T19:26:12.380Z"
   },
   {
    "duration": 7,
    "start_time": "2023-02-15T19:26:12.422Z"
   },
   {
    "duration": 34,
    "start_time": "2023-02-15T19:26:12.432Z"
   },
   {
    "duration": 3,
    "start_time": "2023-02-15T19:26:12.468Z"
   },
   {
    "duration": 6,
    "start_time": "2023-02-15T19:26:12.472Z"
   },
   {
    "duration": 4,
    "start_time": "2023-02-15T19:26:12.480Z"
   },
   {
    "duration": 3,
    "start_time": "2023-02-15T19:26:12.502Z"
   },
   {
    "duration": 9,
    "start_time": "2023-02-15T19:26:12.507Z"
   },
   {
    "duration": 6,
    "start_time": "2023-02-15T19:26:12.518Z"
   },
   {
    "duration": 1383,
    "start_time": "2023-02-15T19:26:12.526Z"
   },
   {
    "duration": 197,
    "start_time": "2023-02-15T19:26:13.911Z"
   },
   {
    "duration": 18034,
    "start_time": "2023-02-15T19:26:14.111Z"
   },
   {
    "duration": 22268,
    "start_time": "2023-02-15T19:26:32.147Z"
   },
   {
    "duration": 4623,
    "start_time": "2023-02-15T19:26:54.417Z"
   },
   {
    "duration": 6344,
    "start_time": "2023-02-15T19:27:29.376Z"
   },
   {
    "duration": 3,
    "start_time": "2023-02-15T19:28:44.007Z"
   },
   {
    "duration": 8,
    "start_time": "2023-02-15T19:35:46.001Z"
   },
   {
    "duration": 8,
    "start_time": "2023-02-15T19:35:58.026Z"
   },
   {
    "duration": 4,
    "start_time": "2023-02-15T19:44:37.464Z"
   },
   {
    "duration": 905,
    "start_time": "2023-02-15T19:44:37.470Z"
   },
   {
    "duration": 4,
    "start_time": "2023-02-15T19:44:38.377Z"
   },
   {
    "duration": 776,
    "start_time": "2023-02-15T19:44:38.382Z"
   },
   {
    "duration": 254,
    "start_time": "2023-02-15T19:44:39.160Z"
   },
   {
    "duration": 50,
    "start_time": "2023-02-15T19:44:39.417Z"
   },
   {
    "duration": 48,
    "start_time": "2023-02-15T19:44:39.469Z"
   },
   {
    "duration": 7,
    "start_time": "2023-02-15T19:44:39.519Z"
   },
   {
    "duration": 255,
    "start_time": "2023-02-15T19:44:39.528Z"
   },
   {
    "duration": 41,
    "start_time": "2023-02-15T19:44:39.785Z"
   },
   {
    "duration": 254,
    "start_time": "2023-02-15T19:44:39.828Z"
   },
   {
    "duration": 319,
    "start_time": "2023-02-15T19:44:40.084Z"
   },
   {
    "duration": 317,
    "start_time": "2023-02-15T19:44:40.405Z"
   },
   {
    "duration": 3,
    "start_time": "2023-02-15T19:44:40.724Z"
   },
   {
    "duration": 15,
    "start_time": "2023-02-15T19:44:40.728Z"
   },
   {
    "duration": 72,
    "start_time": "2023-02-15T19:44:40.745Z"
   },
   {
    "duration": 403,
    "start_time": "2023-02-15T19:44:40.819Z"
   },
   {
    "duration": 307,
    "start_time": "2023-02-15T19:44:41.224Z"
   },
   {
    "duration": 30,
    "start_time": "2023-02-15T19:44:41.533Z"
   },
   {
    "duration": 97,
    "start_time": "2023-02-15T19:44:41.565Z"
   },
   {
    "duration": 40,
    "start_time": "2023-02-15T19:44:41.664Z"
   },
   {
    "duration": 395,
    "start_time": "2023-02-15T19:44:41.706Z"
   },
   {
    "duration": 56,
    "start_time": "2023-02-15T19:44:42.103Z"
   },
   {
    "duration": 15,
    "start_time": "2023-02-15T19:44:42.161Z"
   },
   {
    "duration": 2,
    "start_time": "2023-02-15T19:44:42.178Z"
   },
   {
    "duration": 301,
    "start_time": "2023-02-15T19:44:42.202Z"
   },
   {
    "duration": 35,
    "start_time": "2023-02-15T19:44:42.505Z"
   },
   {
    "duration": 6,
    "start_time": "2023-02-15T19:44:42.544Z"
   },
   {
    "duration": 55,
    "start_time": "2023-02-15T19:44:42.552Z"
   },
   {
    "duration": 3,
    "start_time": "2023-02-15T19:44:42.609Z"
   },
   {
    "duration": 16,
    "start_time": "2023-02-15T19:44:42.613Z"
   },
   {
    "duration": 12,
    "start_time": "2023-02-15T19:44:42.631Z"
   },
   {
    "duration": 10,
    "start_time": "2023-02-15T19:44:42.645Z"
   },
   {
    "duration": 1348,
    "start_time": "2023-02-15T19:44:42.657Z"
   },
   {
    "duration": 204,
    "start_time": "2023-02-15T19:44:44.007Z"
   },
   {
    "duration": 17674,
    "start_time": "2023-02-15T19:44:44.213Z"
   },
   {
    "duration": 21663,
    "start_time": "2023-02-15T19:45:01.888Z"
   },
   {
    "duration": 4666,
    "start_time": "2023-02-15T19:45:23.552Z"
   },
   {
    "duration": 6313,
    "start_time": "2023-02-15T19:45:28.220Z"
   },
   {
    "duration": 9,
    "start_time": "2023-02-15T19:45:34.534Z"
   },
   {
    "duration": 10,
    "start_time": "2023-02-15T19:45:50.133Z"
   },
   {
    "duration": 1318,
    "start_time": "2023-02-15T19:46:43.121Z"
   },
   {
    "duration": 1062,
    "start_time": "2023-02-15T19:46:44.441Z"
   },
   {
    "duration": 3,
    "start_time": "2023-02-15T19:46:45.505Z"
   },
   {
    "duration": 850,
    "start_time": "2023-02-15T19:46:45.510Z"
   },
   {
    "duration": 325,
    "start_time": "2023-02-15T19:46:46.361Z"
   },
   {
    "duration": 57,
    "start_time": "2023-02-15T19:46:46.687Z"
   },
   {
    "duration": 31,
    "start_time": "2023-02-15T19:46:46.746Z"
   },
   {
    "duration": 28,
    "start_time": "2023-02-15T19:46:46.779Z"
   },
   {
    "duration": 457,
    "start_time": "2023-02-15T19:46:46.809Z"
   },
   {
    "duration": 47,
    "start_time": "2023-02-15T19:46:47.269Z"
   },
   {
    "duration": 340,
    "start_time": "2023-02-15T19:46:47.318Z"
   },
   {
    "duration": 434,
    "start_time": "2023-02-15T19:46:47.704Z"
   },
   {
    "duration": 330,
    "start_time": "2023-02-15T19:46:48.140Z"
   },
   {
    "duration": 3,
    "start_time": "2023-02-15T19:46:48.472Z"
   },
   {
    "duration": 13,
    "start_time": "2023-02-15T19:46:48.476Z"
   },
   {
    "duration": 73,
    "start_time": "2023-02-15T19:46:48.490Z"
   },
   {
    "duration": 298,
    "start_time": "2023-02-15T19:46:48.565Z"
   },
   {
    "duration": 321,
    "start_time": "2023-02-15T19:46:48.865Z"
   },
   {
    "duration": 38,
    "start_time": "2023-02-15T19:46:49.187Z"
   },
   {
    "duration": 90,
    "start_time": "2023-02-15T19:46:49.227Z"
   },
   {
    "duration": 30,
    "start_time": "2023-02-15T19:46:49.318Z"
   },
   {
    "duration": 426,
    "start_time": "2023-02-15T19:46:49.349Z"
   },
   {
    "duration": 62,
    "start_time": "2023-02-15T19:46:49.777Z"
   },
   {
    "duration": 17,
    "start_time": "2023-02-15T19:46:49.841Z"
   },
   {
    "duration": 2,
    "start_time": "2023-02-15T19:46:49.860Z"
   },
   {
    "duration": 319,
    "start_time": "2023-02-15T19:46:49.864Z"
   },
   {
    "duration": 60,
    "start_time": "2023-02-15T19:46:50.185Z"
   },
   {
    "duration": 7,
    "start_time": "2023-02-15T19:46:50.248Z"
   },
   {
    "duration": 47,
    "start_time": "2023-02-15T19:46:50.257Z"
   },
   {
    "duration": 3,
    "start_time": "2023-02-15T19:46:50.306Z"
   },
   {
    "duration": 11,
    "start_time": "2023-02-15T19:46:50.310Z"
   },
   {
    "duration": 15,
    "start_time": "2023-02-15T19:46:50.322Z"
   },
   {
    "duration": 3,
    "start_time": "2023-02-15T19:47:12.543Z"
   },
   {
    "duration": 1478,
    "start_time": "2023-02-15T19:47:14.177Z"
   },
   {
    "duration": 1362,
    "start_time": "2023-02-15T19:47:44.222Z"
   },
   {
    "duration": 9,
    "start_time": "2023-02-15T19:48:24.967Z"
   },
   {
    "duration": 4,
    "start_time": "2023-02-15T19:48:26.572Z"
   },
   {
    "duration": 1326,
    "start_time": "2023-02-15T19:48:27.909Z"
   },
   {
    "duration": 229,
    "start_time": "2023-02-15T19:48:36.274Z"
   },
   {
    "duration": 4,
    "start_time": "2023-02-15T19:48:48.642Z"
   },
   {
    "duration": 920,
    "start_time": "2023-02-15T19:48:48.648Z"
   },
   {
    "duration": 3,
    "start_time": "2023-02-15T19:48:49.570Z"
   },
   {
    "duration": 760,
    "start_time": "2023-02-15T19:48:49.575Z"
   },
   {
    "duration": 259,
    "start_time": "2023-02-15T19:48:50.337Z"
   },
   {
    "duration": 52,
    "start_time": "2023-02-15T19:48:50.597Z"
   },
   {
    "duration": 29,
    "start_time": "2023-02-15T19:48:50.651Z"
   },
   {
    "duration": 23,
    "start_time": "2023-02-15T19:48:50.681Z"
   },
   {
    "duration": 256,
    "start_time": "2023-02-15T19:48:50.706Z"
   },
   {
    "duration": 48,
    "start_time": "2023-02-15T19:48:50.965Z"
   },
   {
    "duration": 351,
    "start_time": "2023-02-15T19:48:51.015Z"
   },
   {
    "duration": 314,
    "start_time": "2023-02-15T19:48:51.368Z"
   },
   {
    "duration": 306,
    "start_time": "2023-02-15T19:48:51.684Z"
   },
   {
    "duration": 2,
    "start_time": "2023-02-15T19:48:51.992Z"
   },
   {
    "duration": 10,
    "start_time": "2023-02-15T19:48:52.002Z"
   },
   {
    "duration": 71,
    "start_time": "2023-02-15T19:48:52.013Z"
   },
   {
    "duration": 283,
    "start_time": "2023-02-15T19:48:52.086Z"
   },
   {
    "duration": 287,
    "start_time": "2023-02-15T19:48:52.371Z"
   },
   {
    "duration": 31,
    "start_time": "2023-02-15T19:48:52.660Z"
   },
   {
    "duration": 70,
    "start_time": "2023-02-15T19:48:52.702Z"
   },
   {
    "duration": 45,
    "start_time": "2023-02-15T19:48:52.774Z"
   },
   {
    "duration": 429,
    "start_time": "2023-02-15T19:48:52.821Z"
   },
   {
    "duration": 62,
    "start_time": "2023-02-15T19:48:53.251Z"
   },
   {
    "duration": 17,
    "start_time": "2023-02-15T19:48:53.314Z"
   },
   {
    "duration": 5,
    "start_time": "2023-02-15T19:48:53.333Z"
   },
   {
    "duration": 310,
    "start_time": "2023-02-15T19:48:53.339Z"
   },
   {
    "duration": 33,
    "start_time": "2023-02-15T19:48:53.651Z"
   },
   {
    "duration": 16,
    "start_time": "2023-02-15T19:48:53.687Z"
   },
   {
    "duration": 37,
    "start_time": "2023-02-15T19:48:53.705Z"
   },
   {
    "duration": 4,
    "start_time": "2023-02-15T19:48:53.743Z"
   },
   {
    "duration": 6,
    "start_time": "2023-02-15T19:48:53.748Z"
   },
   {
    "duration": 11,
    "start_time": "2023-02-15T19:48:53.756Z"
   },
   {
    "duration": 32,
    "start_time": "2023-02-15T19:48:53.768Z"
   },
   {
    "duration": 1282,
    "start_time": "2023-02-15T19:48:53.802Z"
   },
   {
    "duration": 130,
    "start_time": "2023-02-15T19:48:55.086Z"
   },
   {
    "duration": 18204,
    "start_time": "2023-02-15T19:48:55.218Z"
   },
   {
    "duration": 22848,
    "start_time": "2023-02-15T19:49:13.424Z"
   },
   {
    "duration": 4698,
    "start_time": "2023-02-15T19:49:36.273Z"
   },
   {
    "duration": 7037,
    "start_time": "2023-02-15T19:49:40.973Z"
   },
   {
    "duration": 7,
    "start_time": "2023-02-15T19:49:52.908Z"
   },
   {
    "duration": 51,
    "start_time": "2023-02-17T09:54:53.457Z"
   },
   {
    "duration": 1273,
    "start_time": "2023-02-17T09:54:59.145Z"
   },
   {
    "duration": 1206,
    "start_time": "2023-02-17T09:55:00.420Z"
   },
   {
    "duration": 3,
    "start_time": "2023-02-17T09:55:01.628Z"
   },
   {
    "duration": 790,
    "start_time": "2023-02-17T09:55:01.632Z"
   },
   {
    "duration": 290,
    "start_time": "2023-02-17T09:55:02.424Z"
   },
   {
    "duration": 55,
    "start_time": "2023-02-17T09:55:02.715Z"
   },
   {
    "duration": 45,
    "start_time": "2023-02-17T09:55:02.772Z"
   },
   {
    "duration": 7,
    "start_time": "2023-02-17T09:55:02.818Z"
   },
   {
    "duration": 607,
    "start_time": "2023-02-17T09:55:02.826Z"
   },
   {
    "duration": 49,
    "start_time": "2023-02-17T09:55:03.435Z"
   },
   {
    "duration": 314,
    "start_time": "2023-02-17T09:55:03.486Z"
   },
   {
    "duration": 306,
    "start_time": "2023-02-17T09:55:03.801Z"
   },
   {
    "duration": 306,
    "start_time": "2023-02-17T09:55:04.110Z"
   },
   {
    "duration": 3,
    "start_time": "2023-02-17T09:55:04.418Z"
   },
   {
    "duration": 11,
    "start_time": "2023-02-17T09:55:04.422Z"
   },
   {
    "duration": 87,
    "start_time": "2023-02-17T09:55:04.435Z"
   },
   {
    "duration": 289,
    "start_time": "2023-02-17T09:55:04.524Z"
   },
   {
    "duration": 292,
    "start_time": "2023-02-17T09:55:04.815Z"
   },
   {
    "duration": 33,
    "start_time": "2023-02-17T09:55:05.110Z"
   },
   {
    "duration": 85,
    "start_time": "2023-02-17T09:55:05.144Z"
   },
   {
    "duration": 31,
    "start_time": "2023-02-17T09:55:05.230Z"
   },
   {
    "duration": 416,
    "start_time": "2023-02-17T09:55:05.262Z"
   },
   {
    "duration": 63,
    "start_time": "2023-02-17T09:55:05.679Z"
   },
   {
    "duration": 18,
    "start_time": "2023-02-17T09:55:05.743Z"
   },
   {
    "duration": 3,
    "start_time": "2023-02-17T09:55:05.763Z"
   },
   {
    "duration": 91,
    "start_time": "2023-02-17T10:05:25.265Z"
   },
   {
    "duration": 4,
    "start_time": "2023-02-17T10:11:17.321Z"
   },
   {
    "duration": 14,
    "start_time": "2023-02-17T10:20:19.553Z"
   },
   {
    "duration": 287,
    "start_time": "2023-02-17T10:20:22.632Z"
   },
   {
    "duration": 4,
    "start_time": "2023-02-19T07:04:25.000Z"
   },
   {
    "duration": 1335,
    "start_time": "2023-02-19T07:04:30.706Z"
   },
   {
    "duration": 3268,
    "start_time": "2023-02-19T07:04:32.043Z"
   },
   {
    "duration": 4,
    "start_time": "2023-02-19T07:04:35.313Z"
   },
   {
    "duration": 941,
    "start_time": "2023-02-19T07:04:35.320Z"
   },
   {
    "duration": 334,
    "start_time": "2023-02-19T07:04:36.263Z"
   },
   {
    "duration": 62,
    "start_time": "2023-02-19T07:04:36.599Z"
   },
   {
    "duration": 32,
    "start_time": "2023-02-19T07:04:36.662Z"
   },
   {
    "duration": 7,
    "start_time": "2023-02-19T07:04:36.696Z"
   },
   {
    "duration": 637,
    "start_time": "2023-02-19T07:04:36.705Z"
   },
   {
    "duration": 52,
    "start_time": "2023-02-19T07:04:37.346Z"
   },
   {
    "duration": 358,
    "start_time": "2023-02-19T07:04:37.401Z"
   },
   {
    "duration": 341,
    "start_time": "2023-02-19T07:04:37.761Z"
   },
   {
    "duration": 348,
    "start_time": "2023-02-19T07:04:38.104Z"
   },
   {
    "duration": 3,
    "start_time": "2023-02-19T07:04:38.454Z"
   },
   {
    "duration": 30,
    "start_time": "2023-02-19T07:04:38.458Z"
   },
   {
    "duration": 81,
    "start_time": "2023-02-19T07:04:38.489Z"
   },
   {
    "duration": 289,
    "start_time": "2023-02-19T07:04:38.572Z"
   },
   {
    "duration": 318,
    "start_time": "2023-02-19T07:04:38.863Z"
   },
   {
    "duration": 32,
    "start_time": "2023-02-19T07:04:39.183Z"
   },
   {
    "duration": 87,
    "start_time": "2023-02-19T07:04:39.216Z"
   },
   {
    "duration": 43,
    "start_time": "2023-02-19T07:04:39.304Z"
   },
   {
    "duration": 443,
    "start_time": "2023-02-19T07:04:39.348Z"
   },
   {
    "duration": 76,
    "start_time": "2023-02-19T07:04:39.793Z"
   },
   {
    "duration": 15,
    "start_time": "2023-02-19T07:04:39.871Z"
   },
   {
    "duration": 8,
    "start_time": "2023-02-19T07:04:39.888Z"
   },
   {
    "duration": 3,
    "start_time": "2023-02-19T07:05:08.836Z"
   },
   {
    "duration": 13,
    "start_time": "2023-02-19T07:05:20.208Z"
   },
   {
    "duration": 59,
    "start_time": "2023-02-19T07:05:24.451Z"
   },
   {
    "duration": 13,
    "start_time": "2023-02-19T07:25:32.905Z"
   },
   {
    "duration": 17,
    "start_time": "2023-02-19T07:25:50.320Z"
   },
   {
    "duration": 21,
    "start_time": "2023-02-19T07:30:30.685Z"
   },
   {
    "duration": 18,
    "start_time": "2023-02-19T07:30:38.517Z"
   },
   {
    "duration": 45,
    "start_time": "2023-02-19T08:35:20.466Z"
   },
   {
    "duration": 4,
    "start_time": "2023-02-19T08:35:56.440Z"
   },
   {
    "duration": 59,
    "start_time": "2023-02-19T08:36:08.019Z"
   },
   {
    "duration": 4,
    "start_time": "2023-02-19T08:36:18.424Z"
   },
   {
    "duration": 12,
    "start_time": "2023-02-19T08:37:00.713Z"
   },
   {
    "duration": 151,
    "start_time": "2023-02-19T08:37:04.297Z"
   },
   {
    "duration": 16,
    "start_time": "2023-02-19T08:37:12.519Z"
   },
   {
    "duration": 4,
    "start_time": "2023-02-19T08:37:15.036Z"
   },
   {
    "duration": 3,
    "start_time": "2023-02-19T08:37:16.019Z"
   },
   {
    "duration": 13,
    "start_time": "2023-02-19T08:37:18.597Z"
   },
   {
    "duration": 11,
    "start_time": "2023-02-19T08:37:19.846Z"
   },
   {
    "duration": 6,
    "start_time": "2023-02-19T08:37:21.920Z"
   },
   {
    "duration": 120,
    "start_time": "2023-02-19T08:37:23.314Z"
   },
   {
    "duration": 27,
    "start_time": "2023-02-19T08:41:51.120Z"
   },
   {
    "duration": 5,
    "start_time": "2023-02-19T08:41:57.489Z"
   },
   {
    "duration": 1207,
    "start_time": "2023-02-19T08:41:57.496Z"
   },
   {
    "duration": 5,
    "start_time": "2023-02-19T08:41:58.704Z"
   },
   {
    "duration": 921,
    "start_time": "2023-02-19T08:41:58.711Z"
   },
   {
    "duration": 270,
    "start_time": "2023-02-19T08:41:59.638Z"
   },
   {
    "duration": 66,
    "start_time": "2023-02-19T08:41:59.910Z"
   },
   {
    "duration": 36,
    "start_time": "2023-02-19T08:41:59.978Z"
   },
   {
    "duration": 25,
    "start_time": "2023-02-19T08:42:00.016Z"
   },
   {
    "duration": 300,
    "start_time": "2023-02-19T08:42:00.043Z"
   },
   {
    "duration": 35,
    "start_time": "2023-02-19T08:42:00.347Z"
   },
   {
    "duration": 418,
    "start_time": "2023-02-19T08:42:00.383Z"
   },
   {
    "duration": 0,
    "start_time": "2023-02-19T08:42:03.568Z"
   },
   {
    "duration": 0,
    "start_time": "2023-02-19T08:42:03.570Z"
   },
   {
    "duration": 0,
    "start_time": "2023-02-19T08:42:03.571Z"
   },
   {
    "duration": 0,
    "start_time": "2023-02-19T08:42:03.573Z"
   },
   {
    "duration": 0,
    "start_time": "2023-02-19T08:42:03.574Z"
   },
   {
    "duration": 0,
    "start_time": "2023-02-19T08:42:03.575Z"
   },
   {
    "duration": 0,
    "start_time": "2023-02-19T08:42:03.576Z"
   },
   {
    "duration": 0,
    "start_time": "2023-02-19T08:42:03.577Z"
   },
   {
    "duration": 0,
    "start_time": "2023-02-19T08:42:03.578Z"
   },
   {
    "duration": 0,
    "start_time": "2023-02-19T08:42:03.579Z"
   },
   {
    "duration": 0,
    "start_time": "2023-02-19T08:42:03.580Z"
   },
   {
    "duration": 0,
    "start_time": "2023-02-19T08:42:03.581Z"
   },
   {
    "duration": 0,
    "start_time": "2023-02-19T08:42:03.582Z"
   },
   {
    "duration": 0,
    "start_time": "2023-02-19T08:42:03.583Z"
   },
   {
    "duration": 0,
    "start_time": "2023-02-19T08:42:03.584Z"
   },
   {
    "duration": 0,
    "start_time": "2023-02-19T08:42:03.638Z"
   },
   {
    "duration": 0,
    "start_time": "2023-02-19T08:42:03.639Z"
   },
   {
    "duration": 0,
    "start_time": "2023-02-19T08:42:03.640Z"
   },
   {
    "duration": 0,
    "start_time": "2023-02-19T08:42:03.641Z"
   },
   {
    "duration": 0,
    "start_time": "2023-02-19T08:42:03.643Z"
   },
   {
    "duration": 0,
    "start_time": "2023-02-19T08:42:03.644Z"
   },
   {
    "duration": 0,
    "start_time": "2023-02-19T08:42:03.645Z"
   },
   {
    "duration": 0,
    "start_time": "2023-02-19T08:42:03.647Z"
   },
   {
    "duration": 0,
    "start_time": "2023-02-19T08:42:03.648Z"
   },
   {
    "duration": 0,
    "start_time": "2023-02-19T08:42:03.649Z"
   },
   {
    "duration": 0,
    "start_time": "2023-02-19T08:42:03.650Z"
   },
   {
    "duration": 0,
    "start_time": "2023-02-19T08:42:03.652Z"
   },
   {
    "duration": 0,
    "start_time": "2023-02-19T08:42:03.653Z"
   },
   {
    "duration": 0,
    "start_time": "2023-02-19T08:42:03.655Z"
   },
   {
    "duration": 0,
    "start_time": "2023-02-19T08:42:03.656Z"
   },
   {
    "duration": 0,
    "start_time": "2023-02-19T08:42:03.657Z"
   },
   {
    "duration": 0,
    "start_time": "2023-02-19T08:42:03.658Z"
   },
   {
    "duration": 0,
    "start_time": "2023-02-19T08:42:03.660Z"
   },
   {
    "duration": 0,
    "start_time": "2023-02-19T08:42:03.661Z"
   },
   {
    "duration": 0,
    "start_time": "2023-02-19T08:42:03.662Z"
   },
   {
    "duration": 0,
    "start_time": "2023-02-19T08:42:03.663Z"
   },
   {
    "duration": 0,
    "start_time": "2023-02-19T08:42:03.665Z"
   },
   {
    "duration": 0,
    "start_time": "2023-02-19T08:42:03.667Z"
   },
   {
    "duration": 0,
    "start_time": "2023-02-19T08:42:03.668Z"
   },
   {
    "duration": 0,
    "start_time": "2023-02-19T08:42:03.669Z"
   },
   {
    "duration": 0,
    "start_time": "2023-02-19T08:42:03.670Z"
   },
   {
    "duration": 0,
    "start_time": "2023-02-19T08:42:03.672Z"
   },
   {
    "duration": 5,
    "start_time": "2023-02-19T08:42:15.245Z"
   },
   {
    "duration": 1079,
    "start_time": "2023-02-19T08:42:15.253Z"
   },
   {
    "duration": 4,
    "start_time": "2023-02-19T08:42:16.339Z"
   },
   {
    "duration": 942,
    "start_time": "2023-02-19T08:42:16.346Z"
   },
   {
    "duration": 282,
    "start_time": "2023-02-19T08:42:17.292Z"
   },
   {
    "duration": 71,
    "start_time": "2023-02-19T08:42:17.579Z"
   },
   {
    "duration": 43,
    "start_time": "2023-02-19T08:42:17.652Z"
   },
   {
    "duration": 7,
    "start_time": "2023-02-19T08:42:17.697Z"
   },
   {
    "duration": 413,
    "start_time": "2023-02-19T08:42:17.706Z"
   },
   {
    "duration": 52,
    "start_time": "2023-02-19T08:42:18.121Z"
   },
   {
    "duration": 312,
    "start_time": "2023-02-19T08:42:18.178Z"
   },
   {
    "duration": 359,
    "start_time": "2023-02-19T08:42:18.492Z"
   },
   {
    "duration": 350,
    "start_time": "2023-02-19T08:42:18.852Z"
   },
   {
    "duration": 4,
    "start_time": "2023-02-19T08:42:19.206Z"
   },
   {
    "duration": 27,
    "start_time": "2023-02-19T08:42:19.211Z"
   },
   {
    "duration": 81,
    "start_time": "2023-02-19T08:42:19.240Z"
   },
   {
    "duration": 348,
    "start_time": "2023-02-19T08:42:19.322Z"
   },
   {
    "duration": 345,
    "start_time": "2023-02-19T08:42:19.672Z"
   },
   {
    "duration": 55,
    "start_time": "2023-02-19T08:42:20.020Z"
   },
   {
    "duration": 93,
    "start_time": "2023-02-19T08:42:20.077Z"
   },
   {
    "duration": 38,
    "start_time": "2023-02-19T08:42:20.172Z"
   },
   {
    "duration": 510,
    "start_time": "2023-02-19T08:42:20.212Z"
   },
   {
    "duration": 86,
    "start_time": "2023-02-19T08:42:20.724Z"
   },
   {
    "duration": 32,
    "start_time": "2023-02-19T08:42:20.811Z"
   },
   {
    "duration": 5,
    "start_time": "2023-02-19T08:42:20.845Z"
   },
   {
    "duration": 21,
    "start_time": "2023-02-19T08:42:20.853Z"
   },
   {
    "duration": 15,
    "start_time": "2023-02-19T08:42:20.876Z"
   },
   {
    "duration": 32,
    "start_time": "2023-02-19T08:42:20.893Z"
   },
   {
    "duration": 66,
    "start_time": "2023-02-19T08:42:20.927Z"
   },
   {
    "duration": 20,
    "start_time": "2023-02-19T08:42:20.995Z"
   },
   {
    "duration": 0,
    "start_time": "2023-02-19T08:42:21.017Z"
   },
   {
    "duration": 0,
    "start_time": "2023-02-19T08:42:21.018Z"
   },
   {
    "duration": 0,
    "start_time": "2023-02-19T08:42:21.019Z"
   },
   {
    "duration": 0,
    "start_time": "2023-02-19T08:42:21.021Z"
   },
   {
    "duration": 0,
    "start_time": "2023-02-19T08:42:21.158Z"
   },
   {
    "duration": 0,
    "start_time": "2023-02-19T08:42:21.160Z"
   },
   {
    "duration": 0,
    "start_time": "2023-02-19T08:42:21.161Z"
   },
   {
    "duration": 0,
    "start_time": "2023-02-19T08:42:21.163Z"
   },
   {
    "duration": 0,
    "start_time": "2023-02-19T08:42:21.164Z"
   },
   {
    "duration": 0,
    "start_time": "2023-02-19T08:42:21.165Z"
   },
   {
    "duration": 0,
    "start_time": "2023-02-19T08:42:21.166Z"
   },
   {
    "duration": 0,
    "start_time": "2023-02-19T08:42:21.167Z"
   },
   {
    "duration": 22,
    "start_time": "2023-02-19T08:43:13.139Z"
   },
   {
    "duration": 20,
    "start_time": "2023-02-19T08:45:26.017Z"
   },
   {
    "duration": 18,
    "start_time": "2023-02-19T08:45:54.433Z"
   },
   {
    "duration": 22,
    "start_time": "2023-02-19T08:46:06.283Z"
   },
   {
    "duration": 5,
    "start_time": "2023-02-19T08:46:14.092Z"
   },
   {
    "duration": 1104,
    "start_time": "2023-02-19T08:46:14.100Z"
   },
   {
    "duration": 3,
    "start_time": "2023-02-19T08:46:15.207Z"
   },
   {
    "duration": 965,
    "start_time": "2023-02-19T08:46:15.214Z"
   },
   {
    "duration": 295,
    "start_time": "2023-02-19T08:46:16.182Z"
   },
   {
    "duration": 72,
    "start_time": "2023-02-19T08:46:16.480Z"
   },
   {
    "duration": 46,
    "start_time": "2023-02-19T08:46:16.554Z"
   },
   {
    "duration": 10,
    "start_time": "2023-02-19T08:46:16.602Z"
   },
   {
    "duration": 334,
    "start_time": "2023-02-19T08:46:16.614Z"
   },
   {
    "duration": 36,
    "start_time": "2023-02-19T08:46:16.952Z"
   },
   {
    "duration": 317,
    "start_time": "2023-02-19T08:46:16.990Z"
   },
   {
    "duration": 375,
    "start_time": "2023-02-19T08:46:17.309Z"
   },
   {
    "duration": 359,
    "start_time": "2023-02-19T08:46:17.686Z"
   },
   {
    "duration": 3,
    "start_time": "2023-02-19T08:46:18.047Z"
   },
   {
    "duration": 22,
    "start_time": "2023-02-19T08:46:18.052Z"
   },
   {
    "duration": 122,
    "start_time": "2023-02-19T08:46:18.076Z"
   },
   {
    "duration": 340,
    "start_time": "2023-02-19T08:46:18.200Z"
   },
   {
    "duration": 453,
    "start_time": "2023-02-19T08:46:18.542Z"
   },
   {
    "duration": 47,
    "start_time": "2023-02-19T08:46:18.997Z"
   },
   {
    "duration": 79,
    "start_time": "2023-02-19T08:46:19.046Z"
   },
   {
    "duration": 38,
    "start_time": "2023-02-19T08:46:19.138Z"
   },
   {
    "duration": 491,
    "start_time": "2023-02-19T08:46:19.178Z"
   },
   {
    "duration": 92,
    "start_time": "2023-02-19T08:46:19.671Z"
   },
   {
    "duration": 18,
    "start_time": "2023-02-19T08:46:19.764Z"
   },
   {
    "duration": 7,
    "start_time": "2023-02-19T08:46:19.784Z"
   },
   {
    "duration": 12,
    "start_time": "2023-02-19T08:46:19.793Z"
   },
   {
    "duration": 17,
    "start_time": "2023-02-19T08:46:19.807Z"
   },
   {
    "duration": 30,
    "start_time": "2023-02-19T08:46:19.828Z"
   },
   {
    "duration": 63,
    "start_time": "2023-02-19T08:46:19.862Z"
   },
   {
    "duration": 24,
    "start_time": "2023-02-19T08:46:22.801Z"
   },
   {
    "duration": 18,
    "start_time": "2023-02-19T08:46:41.543Z"
   },
   {
    "duration": 21,
    "start_time": "2023-02-19T08:47:24.810Z"
   },
   {
    "duration": 18,
    "start_time": "2023-02-19T08:47:51.590Z"
   },
   {
    "duration": 4,
    "start_time": "2023-02-19T08:48:13.843Z"
   },
   {
    "duration": 1052,
    "start_time": "2023-02-19T08:48:13.849Z"
   },
   {
    "duration": 4,
    "start_time": "2023-02-19T08:48:14.903Z"
   },
   {
    "duration": 890,
    "start_time": "2023-02-19T08:48:14.909Z"
   },
   {
    "duration": 270,
    "start_time": "2023-02-19T08:48:15.802Z"
   },
   {
    "duration": 67,
    "start_time": "2023-02-19T08:48:16.074Z"
   },
   {
    "duration": 36,
    "start_time": "2023-02-19T08:48:16.144Z"
   },
   {
    "duration": 9,
    "start_time": "2023-02-19T08:48:16.182Z"
   },
   {
    "duration": 313,
    "start_time": "2023-02-19T08:48:16.193Z"
   },
   {
    "duration": 46,
    "start_time": "2023-02-19T08:48:16.509Z"
   },
   {
    "duration": 282,
    "start_time": "2023-02-19T08:48:16.558Z"
   },
   {
    "duration": 363,
    "start_time": "2023-02-19T08:48:16.842Z"
   },
   {
    "duration": 374,
    "start_time": "2023-02-19T08:48:17.207Z"
   },
   {
    "duration": 4,
    "start_time": "2023-02-19T08:48:17.586Z"
   },
   {
    "duration": 32,
    "start_time": "2023-02-19T08:48:17.592Z"
   },
   {
    "duration": 92,
    "start_time": "2023-02-19T08:48:17.626Z"
   },
   {
    "duration": 362,
    "start_time": "2023-02-19T08:48:17.720Z"
   },
   {
    "duration": 457,
    "start_time": "2023-02-19T08:48:18.084Z"
   },
   {
    "duration": 35,
    "start_time": "2023-02-19T08:48:18.543Z"
   },
   {
    "duration": 96,
    "start_time": "2023-02-19T08:48:18.580Z"
   },
   {
    "duration": 36,
    "start_time": "2023-02-19T08:48:18.677Z"
   },
   {
    "duration": 475,
    "start_time": "2023-02-19T08:48:18.715Z"
   },
   {
    "duration": 91,
    "start_time": "2023-02-19T08:48:19.192Z"
   },
   {
    "duration": 18,
    "start_time": "2023-02-19T08:48:19.285Z"
   },
   {
    "duration": 11,
    "start_time": "2023-02-19T08:48:19.305Z"
   },
   {
    "duration": 19,
    "start_time": "2023-02-19T08:48:19.318Z"
   },
   {
    "duration": 8,
    "start_time": "2023-02-19T08:48:19.339Z"
   },
   {
    "duration": 35,
    "start_time": "2023-02-19T08:48:19.348Z"
   },
   {
    "duration": 75,
    "start_time": "2023-02-19T08:48:19.385Z"
   },
   {
    "duration": 20,
    "start_time": "2023-02-19T08:48:29.314Z"
   },
   {
    "duration": 18,
    "start_time": "2023-02-19T08:48:41.243Z"
   },
   {
    "duration": 20,
    "start_time": "2023-02-19T08:48:41.343Z"
   },
   {
    "duration": 64,
    "start_time": "2023-02-19T08:49:40.722Z"
   },
   {
    "duration": 21,
    "start_time": "2023-02-19T08:50:22.718Z"
   },
   {
    "duration": 19,
    "start_time": "2023-02-19T08:50:23.886Z"
   },
   {
    "duration": 9,
    "start_time": "2023-02-19T08:50:28.816Z"
   },
   {
    "duration": 1016,
    "start_time": "2023-02-19T08:50:28.828Z"
   },
   {
    "duration": 5,
    "start_time": "2023-02-19T08:50:29.846Z"
   },
   {
    "duration": 909,
    "start_time": "2023-02-19T08:50:29.853Z"
   },
   {
    "duration": 275,
    "start_time": "2023-02-19T08:50:30.764Z"
   },
   {
    "duration": 62,
    "start_time": "2023-02-19T08:50:31.041Z"
   },
   {
    "duration": 56,
    "start_time": "2023-02-19T08:50:31.105Z"
   },
   {
    "duration": 9,
    "start_time": "2023-02-19T08:50:31.163Z"
   },
   {
    "duration": 315,
    "start_time": "2023-02-19T08:50:31.174Z"
   },
   {
    "duration": 46,
    "start_time": "2023-02-19T08:50:31.492Z"
   },
   {
    "duration": 278,
    "start_time": "2023-02-19T08:50:31.540Z"
   },
   {
    "duration": 373,
    "start_time": "2023-02-19T08:50:31.820Z"
   },
   {
    "duration": 400,
    "start_time": "2023-02-19T08:50:32.195Z"
   },
   {
    "duration": 4,
    "start_time": "2023-02-19T08:50:32.598Z"
   },
   {
    "duration": 34,
    "start_time": "2023-02-19T08:50:32.604Z"
   },
   {
    "duration": 114,
    "start_time": "2023-02-19T08:50:32.641Z"
   },
   {
    "duration": 452,
    "start_time": "2023-02-19T08:50:32.758Z"
   },
   {
    "duration": 348,
    "start_time": "2023-02-19T08:50:33.212Z"
   },
   {
    "duration": 37,
    "start_time": "2023-02-19T08:50:33.562Z"
   },
   {
    "duration": 97,
    "start_time": "2023-02-19T08:50:33.601Z"
   },
   {
    "duration": 47,
    "start_time": "2023-02-19T08:50:33.700Z"
   },
   {
    "duration": 467,
    "start_time": "2023-02-19T08:50:33.749Z"
   },
   {
    "duration": 83,
    "start_time": "2023-02-19T08:50:34.217Z"
   },
   {
    "duration": 17,
    "start_time": "2023-02-19T08:50:34.301Z"
   },
   {
    "duration": 18,
    "start_time": "2023-02-19T08:50:34.320Z"
   },
   {
    "duration": 19,
    "start_time": "2023-02-19T08:50:34.340Z"
   },
   {
    "duration": 12,
    "start_time": "2023-02-19T08:50:34.361Z"
   },
   {
    "duration": 28,
    "start_time": "2023-02-19T08:50:34.378Z"
   },
   {
    "duration": 74,
    "start_time": "2023-02-19T08:50:34.409Z"
   },
   {
    "duration": 21,
    "start_time": "2023-02-19T08:50:36.325Z"
   },
   {
    "duration": 18,
    "start_time": "2023-02-19T08:50:58.578Z"
   },
   {
    "duration": 63,
    "start_time": "2023-02-19T08:54:44.989Z"
   },
   {
    "duration": 4,
    "start_time": "2023-02-19T08:54:52.665Z"
   },
   {
    "duration": 69,
    "start_time": "2023-02-19T08:55:28.814Z"
   },
   {
    "duration": 69,
    "start_time": "2023-02-19T08:55:31.900Z"
   },
   {
    "duration": 67,
    "start_time": "2023-02-19T08:55:35.004Z"
   },
   {
    "duration": 67,
    "start_time": "2023-02-19T08:55:39.019Z"
   },
   {
    "duration": 2431,
    "start_time": "2023-02-19T08:55:41.971Z"
   },
   {
    "duration": 35,
    "start_time": "2023-02-19T08:55:49.556Z"
   },
   {
    "duration": 6,
    "start_time": "2023-02-19T09:31:59.346Z"
   },
   {
    "duration": 4,
    "start_time": "2023-02-19T09:33:03.042Z"
   },
   {
    "duration": 4,
    "start_time": "2023-02-19T09:33:06.054Z"
   },
   {
    "duration": 11,
    "start_time": "2023-02-19T09:33:07.218Z"
   },
   {
    "duration": 5,
    "start_time": "2023-02-19T09:33:08.985Z"
   },
   {
    "duration": 78,
    "start_time": "2023-02-19T09:33:10.666Z"
   },
   {
    "duration": 3,
    "start_time": "2023-02-19T09:34:45.935Z"
   },
   {
    "duration": 3,
    "start_time": "2023-02-19T09:34:47.754Z"
   },
   {
    "duration": 10,
    "start_time": "2023-02-19T09:34:50.095Z"
   },
   {
    "duration": 4,
    "start_time": "2023-02-19T09:34:51.180Z"
   },
   {
    "duration": 82,
    "start_time": "2023-02-19T09:34:52.546Z"
   },
   {
    "duration": 17,
    "start_time": "2023-02-19T11:18:09.323Z"
   },
   {
    "duration": 2,
    "start_time": "2023-02-19T11:24:56.639Z"
   },
   {
    "duration": 49,
    "start_time": "2023-02-19T11:27:08.881Z"
   },
   {
    "duration": 54,
    "start_time": "2023-02-19T11:28:15.278Z"
   },
   {
    "duration": 46,
    "start_time": "2023-02-19T11:28:16.010Z"
   },
   {
    "duration": 56,
    "start_time": "2023-02-19T11:28:58.291Z"
   },
   {
    "duration": 43,
    "start_time": "2023-02-19T11:28:59.787Z"
   },
   {
    "duration": 94,
    "start_time": "2023-02-19T11:29:00.244Z"
   },
   {
    "duration": 68,
    "start_time": "2023-02-19T11:29:00.591Z"
   },
   {
    "duration": 8,
    "start_time": "2023-02-19T11:29:58.392Z"
   },
   {
    "duration": 46,
    "start_time": "2023-02-19T11:29:59.187Z"
   },
   {
    "duration": 48,
    "start_time": "2023-02-19T11:29:59.965Z"
   },
   {
    "duration": 50,
    "start_time": "2023-02-19T11:30:24.536Z"
   },
   {
    "duration": 52,
    "start_time": "2023-02-19T11:30:30.314Z"
   },
   {
    "duration": 63,
    "start_time": "2023-02-19T11:30:31.494Z"
   },
   {
    "duration": 51,
    "start_time": "2023-02-19T11:30:49.058Z"
   },
   {
    "duration": 4,
    "start_time": "2023-02-19T11:31:40.077Z"
   },
   {
    "duration": 50,
    "start_time": "2023-02-19T11:31:44.280Z"
   },
   {
    "duration": 47,
    "start_time": "2023-02-19T11:33:24.908Z"
   },
   {
    "duration": 45,
    "start_time": "2023-02-19T11:33:31.309Z"
   },
   {
    "duration": 42,
    "start_time": "2023-02-19T11:33:42.131Z"
   },
   {
    "duration": 18,
    "start_time": "2023-02-19T12:18:09.129Z"
   },
   {
    "duration": 21,
    "start_time": "2023-02-19T12:22:42.351Z"
   },
   {
    "duration": 19,
    "start_time": "2023-02-19T12:23:15.629Z"
   },
   {
    "duration": 18,
    "start_time": "2023-02-19T12:23:33.478Z"
   },
   {
    "duration": 18,
    "start_time": "2023-02-19T12:24:36.204Z"
   },
   {
    "duration": 1034,
    "start_time": "2023-02-19T14:15:51.577Z"
   },
   {
    "duration": 1094,
    "start_time": "2023-02-19T14:15:52.615Z"
   },
   {
    "duration": 3,
    "start_time": "2023-02-19T14:15:53.711Z"
   },
   {
    "duration": 882,
    "start_time": "2023-02-19T14:15:53.716Z"
   },
   {
    "duration": 321,
    "start_time": "2023-02-19T14:15:54.600Z"
   },
   {
    "duration": 62,
    "start_time": "2023-02-19T14:15:54.923Z"
   },
   {
    "duration": 56,
    "start_time": "2023-02-19T14:15:54.987Z"
   },
   {
    "duration": 11,
    "start_time": "2023-02-19T14:15:55.045Z"
   },
   {
    "duration": 499,
    "start_time": "2023-02-19T14:15:55.057Z"
   },
   {
    "duration": 43,
    "start_time": "2023-02-19T14:15:55.558Z"
   },
   {
    "duration": 303,
    "start_time": "2023-02-19T14:15:55.603Z"
   },
   {
    "duration": 443,
    "start_time": "2023-02-19T14:15:55.908Z"
   },
   {
    "duration": 342,
    "start_time": "2023-02-19T14:15:56.353Z"
   },
   {
    "duration": 2,
    "start_time": "2023-02-19T14:15:56.699Z"
   },
   {
    "duration": 94,
    "start_time": "2023-02-19T14:15:56.703Z"
   },
   {
    "duration": 85,
    "start_time": "2023-02-19T14:15:56.798Z"
   },
   {
    "duration": 307,
    "start_time": "2023-02-19T14:15:56.885Z"
   },
   {
    "duration": 383,
    "start_time": "2023-02-19T14:15:57.194Z"
   },
   {
    "duration": 28,
    "start_time": "2023-02-19T14:15:57.579Z"
   },
   {
    "duration": 100,
    "start_time": "2023-02-19T14:15:57.609Z"
   },
   {
    "duration": 50,
    "start_time": "2023-02-19T14:15:57.711Z"
   },
   {
    "duration": 542,
    "start_time": "2023-02-19T14:15:57.763Z"
   },
   {
    "duration": 81,
    "start_time": "2023-02-19T14:15:58.307Z"
   },
   {
    "duration": 15,
    "start_time": "2023-02-19T14:15:58.390Z"
   },
   {
    "duration": 2,
    "start_time": "2023-02-19T14:15:58.407Z"
   },
   {
    "duration": 6,
    "start_time": "2023-02-19T14:15:58.411Z"
   },
   {
    "duration": 5,
    "start_time": "2023-02-19T14:15:58.419Z"
   },
   {
    "duration": 35,
    "start_time": "2023-02-19T14:15:58.425Z"
   },
   {
    "duration": 93,
    "start_time": "2023-02-19T14:15:58.476Z"
   },
   {
    "duration": 20,
    "start_time": "2023-02-19T14:15:58.572Z"
   },
   {
    "duration": 8,
    "start_time": "2023-02-19T14:15:58.595Z"
   },
   {
    "duration": 1698,
    "start_time": "2023-02-19T14:16:37.757Z"
   },
   {
    "duration": 1405,
    "start_time": "2023-02-19T14:16:39.457Z"
   },
   {
    "duration": 3,
    "start_time": "2023-02-19T14:16:40.864Z"
   },
   {
    "duration": 793,
    "start_time": "2023-02-19T14:16:40.869Z"
   },
   {
    "duration": 286,
    "start_time": "2023-02-19T14:16:41.664Z"
   },
   {
    "duration": 49,
    "start_time": "2023-02-19T14:16:41.958Z"
   },
   {
    "duration": 46,
    "start_time": "2023-02-19T14:16:42.010Z"
   },
   {
    "duration": 10,
    "start_time": "2023-02-19T14:16:42.058Z"
   },
   {
    "duration": 594,
    "start_time": "2023-02-19T14:16:42.070Z"
   },
   {
    "duration": 48,
    "start_time": "2023-02-19T14:16:42.668Z"
   },
   {
    "duration": 282,
    "start_time": "2023-02-19T14:16:42.721Z"
   },
   {
    "duration": 399,
    "start_time": "2023-02-19T14:16:43.005Z"
   },
   {
    "duration": 318,
    "start_time": "2023-02-19T14:16:43.406Z"
   },
   {
    "duration": 2,
    "start_time": "2023-02-19T14:16:43.727Z"
   },
   {
    "duration": 13,
    "start_time": "2023-02-19T14:16:43.739Z"
   },
   {
    "duration": 68,
    "start_time": "2023-02-19T14:16:43.754Z"
   },
   {
    "duration": 299,
    "start_time": "2023-02-19T14:16:43.823Z"
   },
   {
    "duration": 311,
    "start_time": "2023-02-19T14:16:44.124Z"
   },
   {
    "duration": 39,
    "start_time": "2023-02-19T14:16:44.436Z"
   },
   {
    "duration": 83,
    "start_time": "2023-02-19T14:16:44.476Z"
   },
   {
    "duration": 27,
    "start_time": "2023-02-19T14:16:44.560Z"
   },
   {
    "duration": 420,
    "start_time": "2023-02-19T14:16:44.589Z"
   },
   {
    "duration": 70,
    "start_time": "2023-02-19T14:16:45.011Z"
   },
   {
    "duration": 14,
    "start_time": "2023-02-19T14:16:45.083Z"
   },
   {
    "duration": 5,
    "start_time": "2023-02-19T14:16:45.099Z"
   },
   {
    "duration": 9,
    "start_time": "2023-02-19T14:16:45.105Z"
   },
   {
    "duration": 9,
    "start_time": "2023-02-19T14:16:45.115Z"
   },
   {
    "duration": 30,
    "start_time": "2023-02-19T14:16:45.126Z"
   },
   {
    "duration": 58,
    "start_time": "2023-02-19T14:16:45.158Z"
   },
   {
    "duration": 24,
    "start_time": "2023-02-19T14:16:45.218Z"
   },
   {
    "duration": 8,
    "start_time": "2023-02-19T14:16:45.246Z"
   },
   {
    "duration": 54,
    "start_time": "2023-02-19T14:18:27.810Z"
   },
   {
    "duration": 2080,
    "start_time": "2023-02-19T14:18:32.733Z"
   },
   {
    "duration": 1479,
    "start_time": "2023-02-19T14:18:34.816Z"
   },
   {
    "duration": 5,
    "start_time": "2023-02-19T14:18:36.297Z"
   },
   {
    "duration": 880,
    "start_time": "2023-02-19T14:18:36.304Z"
   },
   {
    "duration": 292,
    "start_time": "2023-02-19T14:18:37.188Z"
   },
   {
    "duration": 72,
    "start_time": "2023-02-19T14:18:37.482Z"
   },
   {
    "duration": 30,
    "start_time": "2023-02-19T14:18:37.557Z"
   },
   {
    "duration": 7,
    "start_time": "2023-02-19T14:18:37.588Z"
   },
   {
    "duration": 469,
    "start_time": "2023-02-19T14:18:37.596Z"
   },
   {
    "duration": 44,
    "start_time": "2023-02-19T14:18:38.066Z"
   },
   {
    "duration": 301,
    "start_time": "2023-02-19T14:18:38.112Z"
   },
   {
    "duration": 429,
    "start_time": "2023-02-19T14:18:38.415Z"
   },
   {
    "duration": 322,
    "start_time": "2023-02-19T14:18:38.849Z"
   },
   {
    "duration": 2,
    "start_time": "2023-02-19T14:18:39.174Z"
   },
   {
    "duration": 15,
    "start_time": "2023-02-19T14:18:39.178Z"
   },
   {
    "duration": 75,
    "start_time": "2023-02-19T14:18:39.195Z"
   },
   {
    "duration": 295,
    "start_time": "2023-02-19T14:18:39.272Z"
   },
   {
    "duration": 321,
    "start_time": "2023-02-19T14:18:39.569Z"
   },
   {
    "duration": 30,
    "start_time": "2023-02-19T14:18:39.892Z"
   },
   {
    "duration": 73,
    "start_time": "2023-02-19T14:18:39.939Z"
   },
   {
    "duration": 39,
    "start_time": "2023-02-19T14:18:40.013Z"
   },
   {
    "duration": 428,
    "start_time": "2023-02-19T14:18:40.054Z"
   },
   {
    "duration": 75,
    "start_time": "2023-02-19T14:18:40.483Z"
   },
   {
    "duration": 15,
    "start_time": "2023-02-19T14:18:40.559Z"
   },
   {
    "duration": 3,
    "start_time": "2023-02-19T14:18:40.576Z"
   },
   {
    "duration": 8,
    "start_time": "2023-02-19T14:18:40.581Z"
   },
   {
    "duration": 14,
    "start_time": "2023-02-19T14:18:40.591Z"
   },
   {
    "duration": 19,
    "start_time": "2023-02-19T14:18:40.607Z"
   },
   {
    "duration": 67,
    "start_time": "2023-02-19T14:18:40.627Z"
   },
   {
    "duration": 17,
    "start_time": "2023-02-19T14:18:40.695Z"
   },
   {
    "duration": 25,
    "start_time": "2023-02-19T14:18:40.713Z"
   },
   {
    "duration": 19,
    "start_time": "2023-02-19T14:18:43.154Z"
   },
   {
    "duration": 66,
    "start_time": "2023-02-19T14:18:52.010Z"
   },
   {
    "duration": 1802,
    "start_time": "2023-02-19T14:19:05.964Z"
   },
   {
    "duration": 1519,
    "start_time": "2023-02-19T14:19:07.768Z"
   },
   {
    "duration": 4,
    "start_time": "2023-02-19T14:19:09.289Z"
   },
   {
    "duration": 1011,
    "start_time": "2023-02-19T14:19:09.295Z"
   },
   {
    "duration": 348,
    "start_time": "2023-02-19T14:19:10.308Z"
   },
   {
    "duration": 53,
    "start_time": "2023-02-19T14:19:10.657Z"
   },
   {
    "duration": 47,
    "start_time": "2023-02-19T14:19:10.712Z"
   },
   {
    "duration": 9,
    "start_time": "2023-02-19T14:19:10.761Z"
   },
   {
    "duration": 480,
    "start_time": "2023-02-19T14:19:10.771Z"
   },
   {
    "duration": 45,
    "start_time": "2023-02-19T14:19:11.254Z"
   },
   {
    "duration": 260,
    "start_time": "2023-02-19T14:19:11.300Z"
   },
   {
    "duration": 412,
    "start_time": "2023-02-19T14:19:11.562Z"
   },
   {
    "duration": 334,
    "start_time": "2023-02-19T14:19:11.976Z"
   },
   {
    "duration": 3,
    "start_time": "2023-02-19T14:19:12.311Z"
   },
   {
    "duration": 36,
    "start_time": "2023-02-19T14:19:12.316Z"
   },
   {
    "duration": 78,
    "start_time": "2023-02-19T14:19:12.354Z"
   },
   {
    "duration": 379,
    "start_time": "2023-02-19T14:19:12.434Z"
   },
   {
    "duration": 363,
    "start_time": "2023-02-19T14:19:12.815Z"
   },
   {
    "duration": 33,
    "start_time": "2023-02-19T14:19:13.180Z"
   },
   {
    "duration": 89,
    "start_time": "2023-02-19T14:19:13.215Z"
   },
   {
    "duration": 47,
    "start_time": "2023-02-19T14:19:13.306Z"
   },
   {
    "duration": 478,
    "start_time": "2023-02-19T14:19:13.355Z"
   },
   {
    "duration": 70,
    "start_time": "2023-02-19T14:19:13.837Z"
   },
   {
    "duration": 38,
    "start_time": "2023-02-19T14:19:13.908Z"
   },
   {
    "duration": 7,
    "start_time": "2023-02-19T14:19:13.948Z"
   },
   {
    "duration": 5,
    "start_time": "2023-02-19T14:19:13.957Z"
   },
   {
    "duration": 5,
    "start_time": "2023-02-19T14:19:13.964Z"
   },
   {
    "duration": 18,
    "start_time": "2023-02-19T14:19:13.972Z"
   },
   {
    "duration": 77,
    "start_time": "2023-02-19T14:19:13.992Z"
   },
   {
    "duration": 17,
    "start_time": "2023-02-19T14:19:14.071Z"
   },
   {
    "duration": 8,
    "start_time": "2023-02-19T14:19:14.090Z"
   },
   {
    "duration": 4,
    "start_time": "2023-02-19T14:20:00.523Z"
   },
   {
    "duration": 109,
    "start_time": "2023-02-19T14:20:01.755Z"
   },
   {
    "duration": 108,
    "start_time": "2023-02-19T14:20:09.821Z"
   },
   {
    "duration": 5,
    "start_time": "2023-02-19T14:20:36.960Z"
   },
   {
    "duration": 57,
    "start_time": "2023-02-19T14:21:01.316Z"
   },
   {
    "duration": 5,
    "start_time": "2023-02-19T14:52:57.690Z"
   },
   {
    "duration": 1232,
    "start_time": "2023-02-19T14:52:57.698Z"
   },
   {
    "duration": 4,
    "start_time": "2023-02-19T14:52:58.940Z"
   },
   {
    "duration": 997,
    "start_time": "2023-02-19T14:52:58.946Z"
   },
   {
    "duration": 269,
    "start_time": "2023-02-19T14:52:59.946Z"
   },
   {
    "duration": 64,
    "start_time": "2023-02-19T14:53:00.217Z"
   },
   {
    "duration": 34,
    "start_time": "2023-02-19T14:53:00.283Z"
   },
   {
    "duration": 20,
    "start_time": "2023-02-19T14:53:00.319Z"
   },
   {
    "duration": 353,
    "start_time": "2023-02-19T14:53:00.341Z"
   },
   {
    "duration": 42,
    "start_time": "2023-02-19T14:53:00.699Z"
   },
   {
    "duration": 397,
    "start_time": "2023-02-19T14:53:00.744Z"
   },
   {
    "duration": 410,
    "start_time": "2023-02-19T14:53:01.143Z"
   },
   {
    "duration": 351,
    "start_time": "2023-02-19T14:53:01.556Z"
   },
   {
    "duration": 4,
    "start_time": "2023-02-19T14:53:01.909Z"
   },
   {
    "duration": 41,
    "start_time": "2023-02-19T14:53:01.915Z"
   },
   {
    "duration": 110,
    "start_time": "2023-02-19T14:53:01.958Z"
   },
   {
    "duration": 482,
    "start_time": "2023-02-19T14:53:02.071Z"
   },
   {
    "duration": 483,
    "start_time": "2023-02-19T14:53:02.555Z"
   },
   {
    "duration": 45,
    "start_time": "2023-02-19T14:53:03.041Z"
   },
   {
    "duration": 95,
    "start_time": "2023-02-19T14:53:03.088Z"
   },
   {
    "duration": 40,
    "start_time": "2023-02-19T14:53:03.185Z"
   },
   {
    "duration": 474,
    "start_time": "2023-02-19T14:53:03.238Z"
   },
   {
    "duration": 81,
    "start_time": "2023-02-19T14:53:03.715Z"
   },
   {
    "duration": 17,
    "start_time": "2023-02-19T14:53:03.798Z"
   },
   {
    "duration": 23,
    "start_time": "2023-02-19T14:53:03.817Z"
   },
   {
    "duration": 13,
    "start_time": "2023-02-19T14:53:03.843Z"
   },
   {
    "duration": 19,
    "start_time": "2023-02-19T14:53:03.858Z"
   },
   {
    "duration": 28,
    "start_time": "2023-02-19T14:53:03.881Z"
   },
   {
    "duration": 73,
    "start_time": "2023-02-19T14:53:03.911Z"
   },
   {
    "duration": 18,
    "start_time": "2023-02-19T14:53:03.987Z"
   },
   {
    "duration": 33,
    "start_time": "2023-02-19T14:53:04.008Z"
   },
   {
    "duration": 31,
    "start_time": "2023-02-19T14:53:04.043Z"
   },
   {
    "duration": 26,
    "start_time": "2023-02-19T15:18:27.655Z"
   },
   {
    "duration": 1121,
    "start_time": "2023-02-19T15:19:08.559Z"
   },
   {
    "duration": 0,
    "start_time": "2023-02-19T15:21:08.028Z"
   },
   {
    "duration": 2154,
    "start_time": "2023-02-19T15:21:11.843Z"
   },
   {
    "duration": 1058,
    "start_time": "2023-02-19T15:25:23.485Z"
   },
   {
    "duration": 1979,
    "start_time": "2023-02-19T15:32:49.794Z"
   },
   {
    "duration": 59,
    "start_time": "2023-02-19T17:36:56.264Z"
   },
   {
    "duration": 1353,
    "start_time": "2023-02-19T17:37:11.267Z"
   },
   {
    "duration": 3497,
    "start_time": "2023-02-19T17:37:12.622Z"
   },
   {
    "duration": 5,
    "start_time": "2023-02-19T17:37:16.121Z"
   },
   {
    "duration": 1145,
    "start_time": "2023-02-19T17:37:16.127Z"
   },
   {
    "duration": 347,
    "start_time": "2023-02-19T17:37:17.274Z"
   },
   {
    "duration": 76,
    "start_time": "2023-02-19T17:37:17.624Z"
   },
   {
    "duration": 33,
    "start_time": "2023-02-19T17:37:17.702Z"
   },
   {
    "duration": 21,
    "start_time": "2023-02-19T17:37:17.736Z"
   },
   {
    "duration": 666,
    "start_time": "2023-02-19T17:37:17.759Z"
   },
   {
    "duration": 60,
    "start_time": "2023-02-19T17:37:18.427Z"
   },
   {
    "duration": 366,
    "start_time": "2023-02-19T17:37:18.489Z"
   },
   {
    "duration": 373,
    "start_time": "2023-02-19T17:37:18.857Z"
   },
   {
    "duration": 371,
    "start_time": "2023-02-19T17:37:19.232Z"
   },
   {
    "duration": 2,
    "start_time": "2023-02-19T17:37:19.607Z"
   },
   {
    "duration": 16,
    "start_time": "2023-02-19T17:37:19.611Z"
   },
   {
    "duration": 91,
    "start_time": "2023-02-19T17:37:19.628Z"
   },
   {
    "duration": 318,
    "start_time": "2023-02-19T17:37:19.720Z"
   },
   {
    "duration": 363,
    "start_time": "2023-02-19T17:37:20.040Z"
   },
   {
    "duration": 45,
    "start_time": "2023-02-19T17:37:20.404Z"
   },
   {
    "duration": 97,
    "start_time": "2023-02-19T17:37:20.452Z"
   },
   {
    "duration": 42,
    "start_time": "2023-02-19T17:37:20.550Z"
   },
   {
    "duration": 464,
    "start_time": "2023-02-19T17:37:20.594Z"
   },
   {
    "duration": 72,
    "start_time": "2023-02-19T17:37:21.061Z"
   },
   {
    "duration": 38,
    "start_time": "2023-02-19T17:37:21.134Z"
   },
   {
    "duration": 17,
    "start_time": "2023-02-19T17:37:21.174Z"
   },
   {
    "duration": 9,
    "start_time": "2023-02-19T17:37:21.193Z"
   },
   {
    "duration": 6,
    "start_time": "2023-02-19T17:37:21.204Z"
   },
   {
    "duration": 23,
    "start_time": "2023-02-19T17:37:21.211Z"
   },
   {
    "duration": 71,
    "start_time": "2023-02-19T17:37:21.235Z"
   },
   {
    "duration": 17,
    "start_time": "2023-02-19T17:37:21.307Z"
   },
   {
    "duration": 3,
    "start_time": "2023-02-19T17:37:21.325Z"
   },
   {
    "duration": 9,
    "start_time": "2023-02-19T17:37:23.356Z"
   },
   {
    "duration": 1197,
    "start_time": "2023-02-19T17:37:24.339Z"
   },
   {
    "duration": 65,
    "start_time": "2023-02-19T17:41:14.848Z"
   },
   {
    "duration": 64,
    "start_time": "2023-02-19T17:42:00.241Z"
   },
   {
    "duration": 61,
    "start_time": "2023-02-19T17:42:12.145Z"
   },
   {
    "duration": 69,
    "start_time": "2023-02-19T17:46:36.348Z"
   },
   {
    "duration": 2,
    "start_time": "2023-02-19T17:47:36.420Z"
   },
   {
    "duration": 49,
    "start_time": "2023-02-19T17:47:51.788Z"
   },
   {
    "duration": 4,
    "start_time": "2023-02-19T17:47:58.078Z"
   },
   {
    "duration": 1131,
    "start_time": "2023-02-19T17:47:58.086Z"
   },
   {
    "duration": 4,
    "start_time": "2023-02-19T17:47:59.219Z"
   },
   {
    "duration": 900,
    "start_time": "2023-02-19T17:47:59.225Z"
   },
   {
    "duration": 274,
    "start_time": "2023-02-19T17:48:00.127Z"
   },
   {
    "duration": 67,
    "start_time": "2023-02-19T17:48:00.403Z"
   },
   {
    "duration": 39,
    "start_time": "2023-02-19T17:48:00.472Z"
   },
   {
    "duration": 9,
    "start_time": "2023-02-19T17:48:00.513Z"
   },
   {
    "duration": 320,
    "start_time": "2023-02-19T17:48:00.524Z"
   },
   {
    "duration": 39,
    "start_time": "2023-02-19T17:48:00.848Z"
   },
   {
    "duration": 396,
    "start_time": "2023-02-19T17:48:00.890Z"
   },
   {
    "duration": 374,
    "start_time": "2023-02-19T17:48:01.288Z"
   },
   {
    "duration": 341,
    "start_time": "2023-02-19T17:48:01.665Z"
   },
   {
    "duration": 3,
    "start_time": "2023-02-19T17:48:02.008Z"
   },
   {
    "duration": 22,
    "start_time": "2023-02-19T17:48:02.013Z"
   },
   {
    "duration": 90,
    "start_time": "2023-02-19T17:48:02.037Z"
   },
   {
    "duration": 299,
    "start_time": "2023-02-19T17:48:02.129Z"
   },
   {
    "duration": 347,
    "start_time": "2023-02-19T17:48:02.430Z"
   },
   {
    "duration": 35,
    "start_time": "2023-02-19T17:48:02.779Z"
   },
   {
    "duration": 97,
    "start_time": "2023-02-19T17:48:02.816Z"
   },
   {
    "duration": 49,
    "start_time": "2023-02-19T17:48:02.915Z"
   },
   {
    "duration": 452,
    "start_time": "2023-02-19T17:48:02.965Z"
   },
   {
    "duration": 96,
    "start_time": "2023-02-19T17:48:03.419Z"
   },
   {
    "duration": 34,
    "start_time": "2023-02-19T17:48:03.517Z"
   },
   {
    "duration": 54,
    "start_time": "2023-02-19T17:48:03.553Z"
   },
   {
    "duration": 19,
    "start_time": "2023-02-19T17:48:03.609Z"
   },
   {
    "duration": 22,
    "start_time": "2023-02-19T17:48:03.630Z"
   },
   {
    "duration": 36,
    "start_time": "2023-02-19T17:48:03.654Z"
   },
   {
    "duration": 75,
    "start_time": "2023-02-19T17:48:03.693Z"
   },
   {
    "duration": 21,
    "start_time": "2023-02-19T17:48:03.770Z"
   },
   {
    "duration": 3,
    "start_time": "2023-02-19T17:48:03.792Z"
   },
   {
    "duration": 41,
    "start_time": "2023-02-19T17:48:08.663Z"
   },
   {
    "duration": 103,
    "start_time": "2023-02-19T17:48:53.235Z"
   },
   {
    "duration": 397,
    "start_time": "2023-02-19T17:49:47.587Z"
   },
   {
    "duration": 30,
    "start_time": "2023-02-19T17:51:04.839Z"
   },
   {
    "duration": 21,
    "start_time": "2023-02-19T17:51:10.025Z"
   },
   {
    "duration": 23,
    "start_time": "2023-02-19T17:51:16.218Z"
   },
   {
    "duration": 163,
    "start_time": "2023-02-19T17:52:42.541Z"
   },
   {
    "duration": 52,
    "start_time": "2023-02-19T17:54:20.083Z"
   },
   {
    "duration": 6,
    "start_time": "2023-02-19T17:55:31.450Z"
   },
   {
    "duration": 1130,
    "start_time": "2023-02-19T17:55:31.469Z"
   },
   {
    "duration": 3,
    "start_time": "2023-02-19T17:55:32.602Z"
   },
   {
    "duration": 879,
    "start_time": "2023-02-19T17:55:32.608Z"
   },
   {
    "duration": 289,
    "start_time": "2023-02-19T17:55:33.490Z"
   },
   {
    "duration": 69,
    "start_time": "2023-02-19T17:55:33.783Z"
   },
   {
    "duration": 43,
    "start_time": "2023-02-19T17:55:33.855Z"
   },
   {
    "duration": 6,
    "start_time": "2023-02-19T17:55:33.900Z"
   },
   {
    "duration": 409,
    "start_time": "2023-02-19T17:55:33.908Z"
   },
   {
    "duration": 51,
    "start_time": "2023-02-19T17:55:34.319Z"
   },
   {
    "duration": 290,
    "start_time": "2023-02-19T17:55:34.372Z"
   },
   {
    "duration": 364,
    "start_time": "2023-02-19T17:55:34.664Z"
   },
   {
    "duration": 378,
    "start_time": "2023-02-19T17:55:35.030Z"
   },
   {
    "duration": 3,
    "start_time": "2023-02-19T17:55:35.410Z"
   },
   {
    "duration": 16,
    "start_time": "2023-02-19T17:55:35.417Z"
   },
   {
    "duration": 90,
    "start_time": "2023-02-19T17:55:35.435Z"
   },
   {
    "duration": 357,
    "start_time": "2023-02-19T17:55:35.527Z"
   },
   {
    "duration": 341,
    "start_time": "2023-02-19T17:55:35.886Z"
   },
   {
    "duration": 52,
    "start_time": "2023-02-19T17:55:36.229Z"
   },
   {
    "duration": 109,
    "start_time": "2023-02-19T17:55:36.287Z"
   },
   {
    "duration": 59,
    "start_time": "2023-02-19T17:55:36.399Z"
   },
   {
    "duration": 507,
    "start_time": "2023-02-19T17:55:36.461Z"
   },
   {
    "duration": 82,
    "start_time": "2023-02-19T17:55:36.970Z"
   },
   {
    "duration": 22,
    "start_time": "2023-02-19T17:55:37.057Z"
   },
   {
    "duration": 3,
    "start_time": "2023-02-19T17:55:37.081Z"
   },
   {
    "duration": 7,
    "start_time": "2023-02-19T17:55:37.085Z"
   },
   {
    "duration": 7,
    "start_time": "2023-02-19T17:55:37.093Z"
   },
   {
    "duration": 21,
    "start_time": "2023-02-19T17:55:37.101Z"
   },
   {
    "duration": 83,
    "start_time": "2023-02-19T17:55:37.123Z"
   },
   {
    "duration": 15,
    "start_time": "2023-02-19T17:55:37.208Z"
   },
   {
    "duration": 24,
    "start_time": "2023-02-19T17:55:37.225Z"
   },
   {
    "duration": 410,
    "start_time": "2023-02-19T17:55:37.251Z"
   },
   {
    "duration": 264,
    "start_time": "2023-02-19T17:55:37.663Z"
   },
   {
    "duration": 3,
    "start_time": "2023-02-19T17:55:37.929Z"
   },
   {
    "duration": 11,
    "start_time": "2023-02-19T18:02:55.041Z"
   },
   {
    "duration": 16,
    "start_time": "2023-02-19T18:03:01.327Z"
   },
   {
    "duration": 7,
    "start_time": "2023-02-19T18:03:05.104Z"
   },
   {
    "duration": 392,
    "start_time": "2023-02-19T18:03:07.385Z"
   },
   {
    "duration": 3,
    "start_time": "2023-02-19T18:31:02.368Z"
   },
   {
    "duration": 10,
    "start_time": "2023-02-19T18:31:06.290Z"
   },
   {
    "duration": 16,
    "start_time": "2023-02-19T18:32:47.417Z"
   },
   {
    "duration": 1074,
    "start_time": "2023-02-19T18:33:08.131Z"
   },
   {
    "duration": 1067,
    "start_time": "2023-02-19T18:33:32.029Z"
   },
   {
    "duration": 2075,
    "start_time": "2023-02-19T18:33:40.036Z"
   },
   {
    "duration": 1101,
    "start_time": "2023-02-19T18:49:40.382Z"
   },
   {
    "duration": 312,
    "start_time": "2023-02-19T19:09:08.057Z"
   },
   {
    "duration": 1198,
    "start_time": "2023-02-19T19:09:28.507Z"
   },
   {
    "duration": 50,
    "start_time": "2023-02-20T09:07:08.816Z"
   },
   {
    "duration": 6,
    "start_time": "2023-02-20T09:08:55.592Z"
   },
   {
    "duration": 1253,
    "start_time": "2023-02-20T09:09:00.956Z"
   },
   {
    "duration": 1307,
    "start_time": "2023-02-20T09:09:02.211Z"
   },
   {
    "duration": 4,
    "start_time": "2023-02-20T09:09:03.519Z"
   },
   {
    "duration": 775,
    "start_time": "2023-02-20T09:09:03.524Z"
   },
   {
    "duration": 323,
    "start_time": "2023-02-20T09:09:04.300Z"
   },
   {
    "duration": 57,
    "start_time": "2023-02-20T09:09:04.625Z"
   },
   {
    "duration": 53,
    "start_time": "2023-02-20T09:09:04.683Z"
   },
   {
    "duration": 12,
    "start_time": "2023-02-20T09:09:04.738Z"
   },
   {
    "duration": 627,
    "start_time": "2023-02-20T09:09:04.752Z"
   },
   {
    "duration": 55,
    "start_time": "2023-02-20T09:09:05.381Z"
   },
   {
    "duration": 309,
    "start_time": "2023-02-20T09:09:05.438Z"
   },
   {
    "duration": 313,
    "start_time": "2023-02-20T09:09:05.749Z"
   },
   {
    "duration": 324,
    "start_time": "2023-02-20T09:09:06.064Z"
   },
   {
    "duration": 3,
    "start_time": "2023-02-20T09:09:06.391Z"
   },
   {
    "duration": 17,
    "start_time": "2023-02-20T09:09:06.396Z"
   },
   {
    "duration": 71,
    "start_time": "2023-02-20T09:09:06.414Z"
   },
   {
    "duration": 333,
    "start_time": "2023-02-20T09:09:06.486Z"
   },
   {
    "duration": 321,
    "start_time": "2023-02-20T09:09:06.821Z"
   },
   {
    "duration": 34,
    "start_time": "2023-02-20T09:09:07.144Z"
   },
   {
    "duration": 80,
    "start_time": "2023-02-20T09:09:07.180Z"
   },
   {
    "duration": 31,
    "start_time": "2023-02-20T09:09:07.261Z"
   },
   {
    "duration": 431,
    "start_time": "2023-02-20T09:09:07.294Z"
   },
   {
    "duration": 71,
    "start_time": "2023-02-20T09:09:07.727Z"
   },
   {
    "duration": 24,
    "start_time": "2023-02-20T09:09:07.800Z"
   },
   {
    "duration": 2,
    "start_time": "2023-02-20T09:09:07.826Z"
   },
   {
    "duration": 9,
    "start_time": "2023-02-20T09:09:07.829Z"
   },
   {
    "duration": 5,
    "start_time": "2023-02-20T09:09:07.839Z"
   },
   {
    "duration": 14,
    "start_time": "2023-02-20T09:09:07.847Z"
   },
   {
    "duration": 78,
    "start_time": "2023-02-20T09:09:07.863Z"
   },
   {
    "duration": 17,
    "start_time": "2023-02-20T09:09:07.943Z"
   },
   {
    "duration": 17,
    "start_time": "2023-02-20T09:09:09.668Z"
   },
   {
    "duration": 2,
    "start_time": "2023-02-20T09:09:50.613Z"
   },
   {
    "duration": 7,
    "start_time": "2023-02-20T09:10:04.764Z"
   },
   {
    "duration": 320,
    "start_time": "2023-02-20T09:10:23.863Z"
   },
   {
    "duration": 83,
    "start_time": "2023-02-20T10:17:05.913Z"
   },
   {
    "duration": 25,
    "start_time": "2023-02-20T10:17:23.626Z"
   },
   {
    "duration": 39,
    "start_time": "2023-02-20T10:17:28.749Z"
   },
   {
    "duration": 17,
    "start_time": "2023-02-20T10:17:44.058Z"
   },
   {
    "duration": 57,
    "start_time": "2023-02-20T10:17:46.728Z"
   },
   {
    "duration": 165,
    "start_time": "2023-02-20T10:17:53.300Z"
   },
   {
    "duration": 16,
    "start_time": "2023-02-20T10:18:49.589Z"
   },
   {
    "duration": 16,
    "start_time": "2023-02-20T10:18:59.340Z"
   },
   {
    "duration": 35,
    "start_time": "2023-02-20T10:26:26.845Z"
   },
   {
    "duration": 32,
    "start_time": "2023-02-20T10:30:23.786Z"
   },
   {
    "duration": 26,
    "start_time": "2023-02-20T10:32:02.440Z"
   },
   {
    "duration": 21,
    "start_time": "2023-02-20T10:32:13.880Z"
   },
   {
    "duration": 20,
    "start_time": "2023-02-20T10:33:33.647Z"
   },
   {
    "duration": 130,
    "start_time": "2023-02-20T10:41:19.696Z"
   },
   {
    "duration": 523,
    "start_time": "2023-02-20T10:41:43.558Z"
   },
   {
    "duration": 33,
    "start_time": "2023-02-20T10:42:06.739Z"
   },
   {
    "duration": 28,
    "start_time": "2023-02-20T10:43:33.529Z"
   },
   {
    "duration": 74,
    "start_time": "2023-02-20T10:54:49.651Z"
   },
   {
    "duration": 77,
    "start_time": "2023-02-20T10:56:07.025Z"
   },
   {
    "duration": 467,
    "start_time": "2023-02-20T10:56:33.297Z"
   },
   {
    "duration": 51,
    "start_time": "2023-02-20T14:49:32.667Z"
   },
   {
    "duration": 1270,
    "start_time": "2023-02-20T14:49:40.008Z"
   },
   {
    "duration": 1221,
    "start_time": "2023-02-20T14:49:41.281Z"
   },
   {
    "duration": 6,
    "start_time": "2023-02-20T14:49:42.504Z"
   },
   {
    "duration": 770,
    "start_time": "2023-02-20T14:49:42.512Z"
   },
   {
    "duration": 297,
    "start_time": "2023-02-20T14:49:43.284Z"
   },
   {
    "duration": 59,
    "start_time": "2023-02-20T14:49:43.582Z"
   },
   {
    "duration": 31,
    "start_time": "2023-02-20T14:49:43.643Z"
   },
   {
    "duration": 7,
    "start_time": "2023-02-20T14:49:43.675Z"
   },
   {
    "duration": 600,
    "start_time": "2023-02-20T14:49:43.684Z"
   },
   {
    "duration": 54,
    "start_time": "2023-02-20T14:49:44.287Z"
   },
   {
    "duration": 305,
    "start_time": "2023-02-20T14:49:44.342Z"
   },
   {
    "duration": 307,
    "start_time": "2023-02-20T14:49:44.649Z"
   },
   {
    "duration": 316,
    "start_time": "2023-02-20T14:49:44.957Z"
   },
   {
    "duration": 3,
    "start_time": "2023-02-20T14:49:45.274Z"
   },
   {
    "duration": 11,
    "start_time": "2023-02-20T14:49:45.279Z"
   },
   {
    "duration": 71,
    "start_time": "2023-02-20T14:49:45.310Z"
   },
   {
    "duration": 282,
    "start_time": "2023-02-20T14:49:45.383Z"
   },
   {
    "duration": 282,
    "start_time": "2023-02-20T14:49:45.667Z"
   },
   {
    "duration": 33,
    "start_time": "2023-02-20T14:49:45.950Z"
   },
   {
    "duration": 82,
    "start_time": "2023-02-20T14:49:45.984Z"
   },
   {
    "duration": 29,
    "start_time": "2023-02-20T14:49:46.067Z"
   },
   {
    "duration": 405,
    "start_time": "2023-02-20T14:49:46.098Z"
   },
   {
    "duration": 61,
    "start_time": "2023-02-20T14:49:46.509Z"
   },
   {
    "duration": 16,
    "start_time": "2023-02-20T14:49:46.572Z"
   },
   {
    "duration": 29,
    "start_time": "2023-02-20T14:49:46.590Z"
   },
   {
    "duration": 28,
    "start_time": "2023-02-20T14:49:46.620Z"
   },
   {
    "duration": 13,
    "start_time": "2023-02-20T14:49:46.649Z"
   },
   {
    "duration": 61,
    "start_time": "2023-02-20T14:49:46.665Z"
   },
   {
    "duration": 618,
    "start_time": "2023-02-20T14:50:02.611Z"
   },
   {
    "duration": 383,
    "start_time": "2023-02-20T15:04:15.316Z"
   },
   {
    "duration": 388,
    "start_time": "2023-02-20T15:04:19.965Z"
   },
   {
    "duration": 374,
    "start_time": "2023-02-20T15:04:21.448Z"
   },
   {
    "duration": 379,
    "start_time": "2023-02-20T15:05:00.175Z"
   },
   {
    "duration": 476,
    "start_time": "2023-02-20T15:09:25.846Z"
   },
   {
    "duration": 5,
    "start_time": "2023-02-20T15:10:56.248Z"
   },
   {
    "duration": 1035,
    "start_time": "2023-02-20T15:10:56.254Z"
   },
   {
    "duration": 5,
    "start_time": "2023-02-20T15:10:57.291Z"
   },
   {
    "duration": 814,
    "start_time": "2023-02-20T15:10:57.297Z"
   },
   {
    "duration": 251,
    "start_time": "2023-02-20T15:10:58.114Z"
   },
   {
    "duration": 61,
    "start_time": "2023-02-20T15:10:58.367Z"
   },
   {
    "duration": 36,
    "start_time": "2023-02-20T15:10:58.430Z"
   },
   {
    "duration": 8,
    "start_time": "2023-02-20T15:10:58.468Z"
   },
   {
    "duration": 288,
    "start_time": "2023-02-20T15:10:58.478Z"
   },
   {
    "duration": 44,
    "start_time": "2023-02-20T15:10:58.767Z"
   },
   {
    "duration": 313,
    "start_time": "2023-02-20T15:10:58.813Z"
   },
   {
    "duration": 306,
    "start_time": "2023-02-20T15:10:59.128Z"
   },
   {
    "duration": 297,
    "start_time": "2023-02-20T15:10:59.436Z"
   },
   {
    "duration": 4,
    "start_time": "2023-02-20T15:10:59.735Z"
   },
   {
    "duration": 28,
    "start_time": "2023-02-20T15:10:59.740Z"
   },
   {
    "duration": 70,
    "start_time": "2023-02-20T15:10:59.769Z"
   },
   {
    "duration": 271,
    "start_time": "2023-02-20T15:10:59.841Z"
   },
   {
    "duration": 290,
    "start_time": "2023-02-20T15:11:00.113Z"
   },
   {
    "duration": 37,
    "start_time": "2023-02-20T15:11:00.404Z"
   },
   {
    "duration": 86,
    "start_time": "2023-02-20T15:11:00.442Z"
   },
   {
    "duration": 30,
    "start_time": "2023-02-20T15:11:00.530Z"
   },
   {
    "duration": 432,
    "start_time": "2023-02-20T15:11:00.561Z"
   },
   {
    "duration": 65,
    "start_time": "2023-02-20T15:11:00.995Z"
   },
   {
    "duration": 18,
    "start_time": "2023-02-20T15:11:01.062Z"
   },
   {
    "duration": 51,
    "start_time": "2023-02-20T15:11:01.081Z"
   },
   {
    "duration": 45,
    "start_time": "2023-02-20T15:11:01.134Z"
   },
   {
    "duration": 36,
    "start_time": "2023-02-20T15:11:01.181Z"
   },
   {
    "duration": 69,
    "start_time": "2023-02-20T15:11:01.219Z"
   },
   {
    "duration": 802,
    "start_time": "2023-02-20T15:11:07.662Z"
   },
   {
    "duration": 37,
    "start_time": "2023-02-20T15:11:36.502Z"
   },
   {
    "duration": 6,
    "start_time": "2023-02-20T15:11:42.072Z"
   },
   {
    "duration": 1053,
    "start_time": "2023-02-20T15:11:42.081Z"
   },
   {
    "duration": 5,
    "start_time": "2023-02-20T15:11:43.136Z"
   },
   {
    "duration": 827,
    "start_time": "2023-02-20T15:11:43.143Z"
   },
   {
    "duration": 283,
    "start_time": "2023-02-20T15:11:43.972Z"
   },
   {
    "duration": 64,
    "start_time": "2023-02-20T15:11:44.257Z"
   },
   {
    "duration": 33,
    "start_time": "2023-02-20T15:11:44.323Z"
   },
   {
    "duration": 8,
    "start_time": "2023-02-20T15:11:44.358Z"
   },
   {
    "duration": 390,
    "start_time": "2023-02-20T15:11:44.367Z"
   },
   {
    "duration": 33,
    "start_time": "2023-02-20T15:11:44.759Z"
   },
   {
    "duration": 254,
    "start_time": "2023-02-20T15:11:44.794Z"
   },
   {
    "duration": 325,
    "start_time": "2023-02-20T15:11:45.049Z"
   },
   {
    "duration": 317,
    "start_time": "2023-02-20T15:11:45.376Z"
   },
   {
    "duration": 2,
    "start_time": "2023-02-20T15:11:45.695Z"
   },
   {
    "duration": 18,
    "start_time": "2023-02-20T15:11:45.709Z"
   },
   {
    "duration": 72,
    "start_time": "2023-02-20T15:11:45.729Z"
   },
   {
    "duration": 280,
    "start_time": "2023-02-20T15:11:45.803Z"
   },
   {
    "duration": 290,
    "start_time": "2023-02-20T15:11:46.085Z"
   },
   {
    "duration": 40,
    "start_time": "2023-02-20T15:11:46.376Z"
   },
   {
    "duration": 125,
    "start_time": "2023-02-20T15:11:46.419Z"
   },
   {
    "duration": 50,
    "start_time": "2023-02-20T15:11:46.546Z"
   },
   {
    "duration": 491,
    "start_time": "2023-02-20T15:11:46.616Z"
   },
   {
    "duration": 103,
    "start_time": "2023-02-20T15:11:47.110Z"
   },
   {
    "duration": 19,
    "start_time": "2023-02-20T15:11:47.215Z"
   },
   {
    "duration": 42,
    "start_time": "2023-02-20T15:11:47.236Z"
   },
   {
    "duration": 60,
    "start_time": "2023-02-20T15:11:47.281Z"
   },
   {
    "duration": 39,
    "start_time": "2023-02-20T15:11:47.343Z"
   },
   {
    "duration": 64,
    "start_time": "2023-02-20T15:11:47.385Z"
   },
   {
    "duration": 670,
    "start_time": "2023-02-20T15:11:47.452Z"
   },
   {
    "duration": 168,
    "start_time": "2023-02-20T15:11:55.994Z"
   },
   {
    "duration": 631,
    "start_time": "2023-02-20T15:12:07.909Z"
   },
   {
    "duration": 161,
    "start_time": "2023-02-20T15:32:57.364Z"
   },
   {
    "duration": 29,
    "start_time": "2023-02-20T15:33:22.653Z"
   },
   {
    "duration": 4,
    "start_time": "2023-02-20T15:33:27.651Z"
   },
   {
    "duration": 1018,
    "start_time": "2023-02-20T15:33:27.657Z"
   },
   {
    "duration": 5,
    "start_time": "2023-02-20T15:33:28.676Z"
   },
   {
    "duration": 756,
    "start_time": "2023-02-20T15:33:28.683Z"
   },
   {
    "duration": 249,
    "start_time": "2023-02-20T15:33:29.441Z"
   },
   {
    "duration": 62,
    "start_time": "2023-02-20T15:33:29.692Z"
   },
   {
    "duration": 31,
    "start_time": "2023-02-20T15:33:29.756Z"
   },
   {
    "duration": 26,
    "start_time": "2023-02-20T15:33:29.789Z"
   },
   {
    "duration": 255,
    "start_time": "2023-02-20T15:33:29.817Z"
   },
   {
    "duration": 39,
    "start_time": "2023-02-20T15:33:30.074Z"
   },
   {
    "duration": 240,
    "start_time": "2023-02-20T15:33:30.114Z"
   },
   {
    "duration": 320,
    "start_time": "2023-02-20T15:33:30.356Z"
   },
   {
    "duration": 315,
    "start_time": "2023-02-20T15:33:30.677Z"
   },
   {
    "duration": 3,
    "start_time": "2023-02-20T15:33:30.993Z"
   },
   {
    "duration": 45,
    "start_time": "2023-02-20T15:33:30.997Z"
   },
   {
    "duration": 87,
    "start_time": "2023-02-20T15:33:31.043Z"
   },
   {
    "duration": 293,
    "start_time": "2023-02-20T15:33:31.132Z"
   },
   {
    "duration": 383,
    "start_time": "2023-02-20T15:33:31.427Z"
   },
   {
    "duration": 34,
    "start_time": "2023-02-20T15:33:31.811Z"
   },
   {
    "duration": 86,
    "start_time": "2023-02-20T15:33:31.847Z"
   },
   {
    "duration": 31,
    "start_time": "2023-02-20T15:33:31.934Z"
   },
   {
    "duration": 427,
    "start_time": "2023-02-20T15:33:31.967Z"
   },
   {
    "duration": 70,
    "start_time": "2023-02-20T15:33:32.395Z"
   },
   {
    "duration": 16,
    "start_time": "2023-02-20T15:33:32.468Z"
   },
   {
    "duration": 31,
    "start_time": "2023-02-20T15:33:32.486Z"
   },
   {
    "duration": 25,
    "start_time": "2023-02-20T15:33:32.518Z"
   },
   {
    "duration": 16,
    "start_time": "2023-02-20T15:33:32.545Z"
   },
   {
    "duration": 65,
    "start_time": "2023-02-20T15:33:32.563Z"
   },
   {
    "duration": 594,
    "start_time": "2023-02-20T15:33:32.629Z"
   },
   {
    "duration": 180,
    "start_time": "2023-02-20T15:33:33.225Z"
   },
   {
    "duration": 132,
    "start_time": "2023-02-20T15:33:37.924Z"
   },
   {
    "duration": 41,
    "start_time": "2023-02-20T15:35:08.666Z"
   },
   {
    "duration": 34,
    "start_time": "2023-02-20T15:37:30.872Z"
   },
   {
    "duration": 13,
    "start_time": "2023-02-20T15:38:47.055Z"
   },
   {
    "duration": 54,
    "start_time": "2023-02-20T15:39:16.585Z"
   },
   {
    "duration": 36,
    "start_time": "2023-02-20T15:39:28.416Z"
   },
   {
    "duration": 5,
    "start_time": "2023-02-20T15:40:26.613Z"
   },
   {
    "duration": 3,
    "start_time": "2023-02-20T15:42:10.256Z"
   },
   {
    "duration": 3,
    "start_time": "2023-02-20T15:42:11.856Z"
   },
   {
    "duration": 11,
    "start_time": "2023-02-20T15:42:13.257Z"
   },
   {
    "duration": 4,
    "start_time": "2023-02-20T15:42:15.013Z"
   },
   {
    "duration": 1139,
    "start_time": "2023-02-20T15:42:17.153Z"
   },
   {
    "duration": 249,
    "start_time": "2023-02-20T15:42:21.064Z"
   },
   {
    "duration": 14211,
    "start_time": "2023-02-20T15:42:23.584Z"
   },
   {
    "duration": 17819,
    "start_time": "2023-02-20T15:42:37.797Z"
   },
   {
    "duration": 4111,
    "start_time": "2023-02-20T15:42:55.617Z"
   },
   {
    "duration": 6285,
    "start_time": "2023-02-20T15:42:59.730Z"
   },
   {
    "duration": 8,
    "start_time": "2023-02-20T15:43:06.016Z"
   },
   {
    "duration": 52,
    "start_time": "2023-02-21T07:18:17.291Z"
   },
   {
    "duration": 1376,
    "start_time": "2023-02-21T07:18:21.612Z"
   },
   {
    "duration": 1355,
    "start_time": "2023-02-21T07:18:22.990Z"
   },
   {
    "duration": 4,
    "start_time": "2023-02-21T07:18:24.348Z"
   },
   {
    "duration": 938,
    "start_time": "2023-02-21T07:18:24.355Z"
   },
   {
    "duration": 310,
    "start_time": "2023-02-21T07:18:25.294Z"
   },
   {
    "duration": 51,
    "start_time": "2023-02-21T07:18:25.605Z"
   },
   {
    "duration": 52,
    "start_time": "2023-02-21T07:18:25.657Z"
   },
   {
    "duration": 7,
    "start_time": "2023-02-21T07:18:25.711Z"
   },
   {
    "duration": 601,
    "start_time": "2023-02-21T07:18:25.720Z"
   },
   {
    "duration": 52,
    "start_time": "2023-02-21T07:18:26.324Z"
   },
   {
    "duration": 360,
    "start_time": "2023-02-21T07:18:26.378Z"
   },
   {
    "duration": 363,
    "start_time": "2023-02-21T07:18:26.740Z"
   },
   {
    "duration": 352,
    "start_time": "2023-02-21T07:18:27.104Z"
   },
   {
    "duration": 3,
    "start_time": "2023-02-21T07:18:27.458Z"
   },
   {
    "duration": 15,
    "start_time": "2023-02-21T07:18:27.462Z"
   },
   {
    "duration": 69,
    "start_time": "2023-02-21T07:18:27.479Z"
   },
   {
    "duration": 419,
    "start_time": "2023-02-21T07:18:27.550Z"
   },
   {
    "duration": 322,
    "start_time": "2023-02-21T07:18:27.971Z"
   },
   {
    "duration": 33,
    "start_time": "2023-02-21T07:18:28.295Z"
   },
   {
    "duration": 86,
    "start_time": "2023-02-21T07:18:28.330Z"
   },
   {
    "duration": 30,
    "start_time": "2023-02-21T07:18:28.418Z"
   },
   {
    "duration": 439,
    "start_time": "2023-02-21T07:18:28.450Z"
   },
   {
    "duration": 66,
    "start_time": "2023-02-21T07:18:28.891Z"
   },
   {
    "duration": 15,
    "start_time": "2023-02-21T07:18:28.959Z"
   },
   {
    "duration": 35,
    "start_time": "2023-02-21T07:18:28.976Z"
   },
   {
    "duration": 26,
    "start_time": "2023-02-21T07:18:29.012Z"
   },
   {
    "duration": 13,
    "start_time": "2023-02-21T07:18:29.040Z"
   },
   {
    "duration": 84,
    "start_time": "2023-02-21T07:18:29.056Z"
   },
   {
    "duration": 4,
    "start_time": "2023-02-21T07:18:29.143Z"
   },
   {
    "duration": 681,
    "start_time": "2023-02-21T07:18:29.149Z"
   },
   {
    "duration": 217,
    "start_time": "2023-02-21T07:18:29.832Z"
   },
   {
    "duration": 160,
    "start_time": "2023-02-21T07:18:30.052Z"
   },
   {
    "duration": 71,
    "start_time": "2023-02-21T07:18:30.214Z"
   },
   {
    "duration": 20,
    "start_time": "2023-02-21T07:18:30.286Z"
   },
   {
    "duration": 28,
    "start_time": "2023-02-21T07:18:30.308Z"
   },
   {
    "duration": 47,
    "start_time": "2023-02-21T07:18:30.338Z"
   },
   {
    "duration": 40,
    "start_time": "2023-02-21T07:18:30.387Z"
   },
   {
    "duration": 1051,
    "start_time": "2023-02-21T07:18:30.429Z"
   },
   {
    "duration": 266,
    "start_time": "2023-02-21T07:19:01.938Z"
   },
   {
    "duration": 4,
    "start_time": "2023-02-21T07:23:09.950Z"
   },
   {
    "duration": 1109,
    "start_time": "2023-02-21T07:23:15.150Z"
   },
   {
    "duration": 5,
    "start_time": "2023-02-21T07:24:23.261Z"
   },
   {
    "duration": 1225,
    "start_time": "2023-02-21T07:24:26.739Z"
   },
   {
    "duration": 105,
    "start_time": "2023-02-21T07:25:00.216Z"
   },
   {
    "duration": 4,
    "start_time": "2023-02-21T07:25:19.162Z"
   },
   {
    "duration": 1270,
    "start_time": "2023-02-21T07:25:23.635Z"
   },
   {
    "duration": 3,
    "start_time": "2023-02-21T07:26:12.036Z"
   },
   {
    "duration": 3,
    "start_time": "2023-02-21T07:26:14.889Z"
   },
   {
    "duration": 8,
    "start_time": "2023-02-21T07:26:16.718Z"
   },
   {
    "duration": 3,
    "start_time": "2023-02-21T07:26:18.056Z"
   },
   {
    "duration": 1150,
    "start_time": "2023-02-21T07:26:18.831Z"
   },
   {
    "duration": 6,
    "start_time": "2023-02-21T07:26:26.034Z"
   },
   {
    "duration": 247,
    "start_time": "2023-02-21T07:27:22.372Z"
   },
   {
    "duration": 4,
    "start_time": "2023-02-21T07:27:32.727Z"
   },
   {
    "duration": 1173,
    "start_time": "2023-02-21T07:27:33.408Z"
   },
   {
    "duration": 4,
    "start_time": "2023-02-21T07:27:45.698Z"
   },
   {
    "duration": 9,
    "start_time": "2023-02-21T07:27:47.098Z"
   },
   {
    "duration": 3,
    "start_time": "2023-02-21T07:27:48.171Z"
   },
   {
    "duration": 1096,
    "start_time": "2023-02-21T07:29:08.408Z"
   },
   {
    "duration": 5,
    "start_time": "2023-02-21T07:29:13.226Z"
   },
   {
    "duration": 3,
    "start_time": "2023-02-21T07:29:22.018Z"
   },
   {
    "duration": 1108,
    "start_time": "2023-02-21T07:29:27.313Z"
   },
   {
    "duration": 215,
    "start_time": "2023-02-21T07:30:48.605Z"
   },
   {
    "duration": 1120,
    "start_time": "2023-02-21T07:34:00.641Z"
   },
   {
    "duration": 1096,
    "start_time": "2023-02-21T07:34:29.363Z"
   },
   {
    "duration": 1168,
    "start_time": "2023-02-21T07:34:34.126Z"
   },
   {
    "duration": 1102,
    "start_time": "2023-02-21T07:45:00.787Z"
   },
   {
    "duration": 138,
    "start_time": "2023-02-21T07:45:12.975Z"
   },
   {
    "duration": 14072,
    "start_time": "2023-02-21T07:45:18.831Z"
   },
   {
    "duration": 72069,
    "start_time": "2023-02-21T07:47:57.516Z"
   },
   {
    "duration": 5,
    "start_time": "2023-02-21T08:05:58.381Z"
   },
   {
    "duration": 4,
    "start_time": "2023-02-21T08:06:42.073Z"
   },
   {
    "duration": 18092,
    "start_time": "2023-02-21T08:12:32.922Z"
   },
   {
    "duration": 75,
    "start_time": "2023-02-21T08:16:53.682Z"
   },
   {
    "duration": 18,
    "start_time": "2023-02-21T08:17:07.893Z"
   },
   {
    "duration": 30841,
    "start_time": "2023-02-21T08:17:23.278Z"
   },
   {
    "duration": 30760,
    "start_time": "2023-02-21T08:20:17.895Z"
   },
   {
    "duration": 17516,
    "start_time": "2023-02-21T10:05:28.588Z"
   },
   {
    "duration": 31412,
    "start_time": "2023-02-21T10:07:02.551Z"
   },
   {
    "duration": 30842,
    "start_time": "2023-02-21T10:07:43.484Z"
   },
   {
    "duration": 32794,
    "start_time": "2023-02-21T10:11:28.911Z"
   },
   {
    "duration": 11,
    "start_time": "2023-02-21T10:16:03.367Z"
   },
   {
    "duration": 4,
    "start_time": "2023-02-21T10:16:12.683Z"
   },
   {
    "duration": 33102,
    "start_time": "2023-02-21T10:16:18.221Z"
   },
   {
    "duration": 11,
    "start_time": "2023-02-21T10:20:50.449Z"
   },
   {
    "duration": 41776,
    "start_time": "2023-02-21T10:22:16.442Z"
   },
   {
    "duration": 0,
    "start_time": "2023-02-21T10:22:58.220Z"
   },
   {
    "duration": 73,
    "start_time": "2023-02-21T10:25:06.824Z"
   },
   {
    "duration": 51845,
    "start_time": "2023-02-21T10:25:11.783Z"
   },
   {
    "duration": 55601,
    "start_time": "2023-02-21T10:26:39.640Z"
   },
   {
    "duration": 10,
    "start_time": "2023-02-21T10:27:35.309Z"
   },
   {
    "duration": 49814,
    "start_time": "2023-02-21T10:28:51.934Z"
   },
   {
    "duration": 32272,
    "start_time": "2023-02-21T10:30:14.592Z"
   },
   {
    "duration": 7,
    "start_time": "2023-02-21T10:55:55.870Z"
   },
   {
    "duration": 93,
    "start_time": "2023-02-22T07:48:49.580Z"
   },
   {
    "duration": 1654,
    "start_time": "2023-02-22T07:48:58.071Z"
   },
   {
    "duration": 2315,
    "start_time": "2023-02-22T07:48:59.727Z"
   },
   {
    "duration": 6,
    "start_time": "2023-02-22T07:49:02.045Z"
   },
   {
    "duration": 1485,
    "start_time": "2023-02-22T07:49:02.053Z"
   },
   {
    "duration": 476,
    "start_time": "2023-02-22T07:49:03.543Z"
   },
   {
    "duration": 62,
    "start_time": "2023-02-22T07:49:04.021Z"
   },
   {
    "duration": 39,
    "start_time": "2023-02-22T07:49:04.085Z"
   },
   {
    "duration": 10,
    "start_time": "2023-02-22T07:49:04.126Z"
   },
   {
    "duration": 846,
    "start_time": "2023-02-22T07:49:04.138Z"
   },
   {
    "duration": 62,
    "start_time": "2023-02-22T07:49:04.989Z"
   },
   {
    "duration": 486,
    "start_time": "2023-02-22T07:49:05.053Z"
   },
   {
    "duration": 415,
    "start_time": "2023-02-22T07:49:05.543Z"
   },
   {
    "duration": 430,
    "start_time": "2023-02-22T07:49:05.960Z"
   },
   {
    "duration": 8,
    "start_time": "2023-02-22T07:49:06.396Z"
   },
   {
    "duration": 111,
    "start_time": "2023-02-22T07:49:06.409Z"
   },
   {
    "duration": 125,
    "start_time": "2023-02-22T07:49:06.522Z"
   },
   {
    "duration": 395,
    "start_time": "2023-02-22T07:49:06.649Z"
   },
   {
    "duration": 405,
    "start_time": "2023-02-22T07:49:07.046Z"
   },
   {
    "duration": 70,
    "start_time": "2023-02-22T07:49:07.467Z"
   },
   {
    "duration": 170,
    "start_time": "2023-02-22T07:49:07.540Z"
   },
   {
    "duration": 51,
    "start_time": "2023-02-22T07:49:07.712Z"
   },
   {
    "duration": 657,
    "start_time": "2023-02-22T07:49:07.765Z"
   },
   {
    "duration": 152,
    "start_time": "2023-02-22T07:49:08.436Z"
   },
   {
    "duration": 76,
    "start_time": "2023-02-22T07:49:08.590Z"
   },
   {
    "duration": 30,
    "start_time": "2023-02-22T07:49:08.668Z"
   },
   {
    "duration": 80,
    "start_time": "2023-02-22T07:49:08.700Z"
   },
   {
    "duration": 26,
    "start_time": "2023-02-22T07:49:08.786Z"
   },
   {
    "duration": 27,
    "start_time": "2023-02-22T07:49:14.889Z"
   },
   {
    "duration": 113,
    "start_time": "2023-02-22T07:49:17.569Z"
   },
   {
    "duration": 5,
    "start_time": "2023-02-22T07:49:20.585Z"
   },
   {
    "duration": 107,
    "start_time": "2023-02-22T07:51:04.598Z"
   },
   {
    "duration": 1018,
    "start_time": "2023-02-22T07:51:07.038Z"
   },
   {
    "duration": 335,
    "start_time": "2023-02-22T07:51:11.669Z"
   },
   {
    "duration": 157,
    "start_time": "2023-02-22T07:51:48.187Z"
   },
   {
    "duration": 130,
    "start_time": "2023-02-22T07:52:25.816Z"
   },
   {
    "duration": 228,
    "start_time": "2023-02-22T07:52:31.614Z"
   },
   {
    "duration": 87,
    "start_time": "2023-02-22T07:53:07.048Z"
   },
   {
    "duration": 4,
    "start_time": "2023-02-22T08:01:43.533Z"
   },
   {
    "duration": 1560,
    "start_time": "2023-02-22T08:01:43.542Z"
   },
   {
    "duration": 28,
    "start_time": "2023-02-22T08:01:45.107Z"
   },
   {
    "duration": 1448,
    "start_time": "2023-02-22T08:01:45.140Z"
   },
   {
    "duration": 389,
    "start_time": "2023-02-22T08:01:46.596Z"
   },
   {
    "duration": 71,
    "start_time": "2023-02-22T08:01:46.991Z"
   },
   {
    "duration": 48,
    "start_time": "2023-02-22T08:01:47.064Z"
   },
   {
    "duration": 23,
    "start_time": "2023-02-22T08:01:47.114Z"
   },
   {
    "duration": 356,
    "start_time": "2023-02-22T08:01:47.139Z"
   },
   {
    "duration": 44,
    "start_time": "2023-02-22T08:01:47.497Z"
   },
   {
    "duration": 526,
    "start_time": "2023-02-22T08:01:47.554Z"
   },
   {
    "duration": 510,
    "start_time": "2023-02-22T08:01:48.092Z"
   },
   {
    "duration": 484,
    "start_time": "2023-02-22T08:01:48.611Z"
   },
   {
    "duration": 11,
    "start_time": "2023-02-22T08:01:49.099Z"
   },
   {
    "duration": 33,
    "start_time": "2023-02-22T08:01:49.119Z"
   },
   {
    "duration": 128,
    "start_time": "2023-02-22T08:01:49.169Z"
   },
   {
    "duration": 391,
    "start_time": "2023-02-22T08:01:49.301Z"
   },
   {
    "duration": 442,
    "start_time": "2023-02-22T08:01:49.698Z"
   },
   {
    "duration": 58,
    "start_time": "2023-02-22T08:01:50.142Z"
   },
   {
    "duration": 137,
    "start_time": "2023-02-22T08:01:50.201Z"
   },
   {
    "duration": 83,
    "start_time": "2023-02-22T08:01:50.339Z"
   },
   {
    "duration": 589,
    "start_time": "2023-02-22T08:01:50.428Z"
   },
   {
    "duration": 113,
    "start_time": "2023-02-22T08:01:51.022Z"
   },
   {
    "duration": 31,
    "start_time": "2023-02-22T08:01:51.137Z"
   },
   {
    "duration": 100,
    "start_time": "2023-02-22T08:01:51.170Z"
   },
   {
    "duration": 42,
    "start_time": "2023-02-22T08:01:51.280Z"
   },
   {
    "duration": 16,
    "start_time": "2023-02-22T08:01:51.324Z"
   },
   {
    "duration": 107,
    "start_time": "2023-02-22T08:01:51.342Z"
   },
   {
    "duration": 984,
    "start_time": "2023-02-22T08:01:51.453Z"
   },
   {
    "duration": 300,
    "start_time": "2023-02-22T08:01:52.438Z"
   },
   {
    "duration": 177,
    "start_time": "2023-02-22T08:01:52.739Z"
   },
   {
    "duration": 231,
    "start_time": "2023-02-22T08:01:52.918Z"
   },
   {
    "duration": 100,
    "start_time": "2023-02-22T08:01:53.151Z"
   },
   {
    "duration": 87,
    "start_time": "2023-02-22T08:01:53.264Z"
   },
   {
    "duration": 67,
    "start_time": "2023-02-22T08:01:53.353Z"
   },
   {
    "duration": 9,
    "start_time": "2023-02-22T08:01:53.422Z"
   },
   {
    "duration": 7,
    "start_time": "2023-02-22T08:01:53.432Z"
   },
   {
    "duration": 14,
    "start_time": "2023-02-22T08:01:53.440Z"
   },
   {
    "duration": 64,
    "start_time": "2023-02-22T08:01:53.459Z"
   },
   {
    "duration": 1360,
    "start_time": "2023-02-22T08:01:53.525Z"
   },
   {
    "duration": 380,
    "start_time": "2023-02-22T08:01:54.886Z"
   },
   {
    "duration": 91207,
    "start_time": "2023-02-22T08:01:55.268Z"
   },
   {
    "duration": 23157,
    "start_time": "2023-02-22T08:03:26.479Z"
   },
   {
    "duration": 44991,
    "start_time": "2023-02-22T08:03:49.641Z"
   },
   {
    "duration": 53,
    "start_time": "2023-02-22T13:58:55.065Z"
   },
   {
    "duration": 1255,
    "start_time": "2023-02-22T13:58:58.929Z"
   },
   {
    "duration": 3152,
    "start_time": "2023-02-22T13:59:00.188Z"
   },
   {
    "duration": 4,
    "start_time": "2023-02-22T13:59:03.341Z"
   },
   {
    "duration": 849,
    "start_time": "2023-02-22T13:59:03.348Z"
   },
   {
    "duration": 342,
    "start_time": "2023-02-22T13:59:04.199Z"
   },
   {
    "duration": 64,
    "start_time": "2023-02-22T13:59:04.543Z"
   },
   {
    "duration": 33,
    "start_time": "2023-02-22T13:59:04.609Z"
   },
   {
    "duration": 10,
    "start_time": "2023-02-22T13:59:04.644Z"
   },
   {
    "duration": 673,
    "start_time": "2023-02-22T13:59:04.656Z"
   },
   {
    "duration": 57,
    "start_time": "2023-02-22T13:59:05.333Z"
   },
   {
    "duration": 336,
    "start_time": "2023-02-22T13:59:05.404Z"
   },
   {
    "duration": 333,
    "start_time": "2023-02-22T13:59:05.742Z"
   },
   {
    "duration": 336,
    "start_time": "2023-02-22T13:59:06.077Z"
   },
   {
    "duration": 3,
    "start_time": "2023-02-22T13:59:06.415Z"
   },
   {
    "duration": 15,
    "start_time": "2023-02-22T13:59:06.419Z"
   },
   {
    "duration": 86,
    "start_time": "2023-02-22T13:59:06.436Z"
   },
   {
    "duration": 323,
    "start_time": "2023-02-22T13:59:06.523Z"
   },
   {
    "duration": 322,
    "start_time": "2023-02-22T13:59:06.848Z"
   },
   {
    "duration": 39,
    "start_time": "2023-02-22T13:59:07.171Z"
   },
   {
    "duration": 96,
    "start_time": "2023-02-22T13:59:07.213Z"
   },
   {
    "duration": 32,
    "start_time": "2023-02-22T13:59:07.311Z"
   },
   {
    "duration": 414,
    "start_time": "2023-02-22T13:59:07.344Z"
   },
   {
    "duration": 77,
    "start_time": "2023-02-22T13:59:07.759Z"
   },
   {
    "duration": 16,
    "start_time": "2023-02-22T13:59:07.838Z"
   },
   {
    "duration": 20,
    "start_time": "2023-02-22T13:59:07.856Z"
   },
   {
    "duration": 41,
    "start_time": "2023-02-22T13:59:07.877Z"
   },
   {
    "duration": 14,
    "start_time": "2023-02-22T13:59:07.920Z"
   },
   {
    "duration": 90,
    "start_time": "2023-02-22T13:59:07.938Z"
   },
   {
    "duration": 655,
    "start_time": "2023-02-22T13:59:08.030Z"
   },
   {
    "duration": 180,
    "start_time": "2023-02-22T13:59:08.687Z"
   },
   {
    "duration": 103,
    "start_time": "2023-02-22T13:59:08.869Z"
   },
   {
    "duration": 186,
    "start_time": "2023-02-22T13:59:08.974Z"
   },
   {
    "duration": 68,
    "start_time": "2023-02-22T13:59:09.161Z"
   },
   {
    "duration": 37,
    "start_time": "2023-02-22T13:59:09.231Z"
   },
   {
    "duration": 4,
    "start_time": "2023-02-22T13:59:09.270Z"
   },
   {
    "duration": 28,
    "start_time": "2023-02-22T13:59:09.276Z"
   },
   {
    "duration": 12,
    "start_time": "2023-02-22T13:59:09.306Z"
   },
   {
    "duration": 6,
    "start_time": "2023-02-22T13:59:09.320Z"
   },
   {
    "duration": 1041,
    "start_time": "2023-02-22T13:59:12.603Z"
   },
   {
    "duration": 222,
    "start_time": "2023-02-22T13:59:17.191Z"
   },
   {
    "duration": 67280,
    "start_time": "2023-02-22T13:59:22.476Z"
   },
   {
    "duration": 16880,
    "start_time": "2023-02-22T14:00:29.757Z"
   },
   {
    "duration": 86,
    "start_time": "2023-02-22T14:00:46.639Z"
   },
   {
    "duration": 0,
    "start_time": "2023-02-22T14:00:46.727Z"
   },
   {
    "duration": 28675,
    "start_time": "2023-02-22T14:05:34.556Z"
   },
   {
    "duration": 34306,
    "start_time": "2023-02-22T14:06:03.234Z"
   },
   {
    "duration": 48,
    "start_time": "2023-02-23T08:37:28.221Z"
   },
   {
    "duration": 1383,
    "start_time": "2023-02-23T08:40:23.880Z"
   },
   {
    "duration": 1302,
    "start_time": "2023-02-23T08:40:25.265Z"
   },
   {
    "duration": 4,
    "start_time": "2023-02-23T08:40:26.568Z"
   },
   {
    "duration": 859,
    "start_time": "2023-02-23T08:40:26.573Z"
   },
   {
    "duration": 323,
    "start_time": "2023-02-23T08:40:27.435Z"
   },
   {
    "duration": 64,
    "start_time": "2023-02-23T08:40:27.760Z"
   },
   {
    "duration": 33,
    "start_time": "2023-02-23T08:40:27.826Z"
   },
   {
    "duration": 9,
    "start_time": "2023-02-23T08:40:27.861Z"
   },
   {
    "duration": 622,
    "start_time": "2023-02-23T08:40:27.872Z"
   },
   {
    "duration": 52,
    "start_time": "2023-02-23T08:40:28.496Z"
   },
   {
    "duration": 339,
    "start_time": "2023-02-23T08:40:28.550Z"
   },
   {
    "duration": 347,
    "start_time": "2023-02-23T08:40:28.892Z"
   },
   {
    "duration": 348,
    "start_time": "2023-02-23T08:40:29.241Z"
   },
   {
    "duration": 2,
    "start_time": "2023-02-23T08:40:29.593Z"
   },
   {
    "duration": 17,
    "start_time": "2023-02-23T08:40:29.603Z"
   },
   {
    "duration": 73,
    "start_time": "2023-02-23T08:40:29.622Z"
   },
   {
    "duration": 298,
    "start_time": "2023-02-23T08:40:29.697Z"
   },
   {
    "duration": 317,
    "start_time": "2023-02-23T08:40:29.996Z"
   },
   {
    "duration": 31,
    "start_time": "2023-02-23T08:40:30.314Z"
   },
   {
    "duration": 92,
    "start_time": "2023-02-23T08:40:30.347Z"
   },
   {
    "duration": 30,
    "start_time": "2023-02-23T08:40:30.441Z"
   },
   {
    "duration": 462,
    "start_time": "2023-02-23T08:40:30.472Z"
   },
   {
    "duration": 69,
    "start_time": "2023-02-23T08:40:30.935Z"
   },
   {
    "duration": 16,
    "start_time": "2023-02-23T08:40:31.006Z"
   },
   {
    "duration": 38,
    "start_time": "2023-02-23T08:40:31.024Z"
   },
   {
    "duration": 33,
    "start_time": "2023-02-23T08:40:31.065Z"
   },
   {
    "duration": 13,
    "start_time": "2023-02-23T08:40:31.100Z"
   },
   {
    "duration": 78,
    "start_time": "2023-02-23T08:40:31.115Z"
   },
   {
    "duration": 648,
    "start_time": "2023-02-23T08:40:31.195Z"
   },
   {
    "duration": 204,
    "start_time": "2023-02-23T08:40:31.844Z"
   },
   {
    "duration": 120,
    "start_time": "2023-02-23T08:40:32.050Z"
   },
   {
    "duration": 162,
    "start_time": "2023-02-23T08:40:32.172Z"
   },
   {
    "duration": 98,
    "start_time": "2023-02-23T08:40:32.336Z"
   },
   {
    "duration": 47,
    "start_time": "2023-02-23T08:40:32.436Z"
   },
   {
    "duration": 19,
    "start_time": "2023-02-23T08:40:32.485Z"
   },
   {
    "duration": 6,
    "start_time": "2023-02-23T08:40:32.506Z"
   },
   {
    "duration": 13,
    "start_time": "2023-02-23T08:40:32.514Z"
   },
   {
    "duration": 7,
    "start_time": "2023-02-23T08:40:32.529Z"
   },
   {
    "duration": 1036,
    "start_time": "2023-02-23T08:40:32.538Z"
   },
   {
    "duration": 237,
    "start_time": "2023-02-23T08:40:33.576Z"
   },
   {
    "duration": 68341,
    "start_time": "2023-02-23T08:40:33.903Z"
   },
   {
    "duration": 16645,
    "start_time": "2023-02-23T08:41:42.246Z"
   },
   {
    "duration": 30535,
    "start_time": "2023-02-23T08:41:58.892Z"
   },
   {
    "duration": 50114,
    "start_time": "2023-02-23T08:42:29.428Z"
   },
   {
    "duration": 8,
    "start_time": "2023-02-23T08:43:19.544Z"
   },
   {
    "duration": 81,
    "start_time": "2023-02-23T08:43:19.604Z"
   },
   {
    "duration": 20773,
    "start_time": "2023-02-23T08:44:34.105Z"
   },
   {
    "duration": 20108,
    "start_time": "2023-02-23T08:46:52.503Z"
   },
   {
    "duration": 3,
    "start_time": "2023-02-23T08:49:57.011Z"
   },
   {
    "duration": 20389,
    "start_time": "2023-02-23T08:50:18.535Z"
   },
   {
    "duration": 4,
    "start_time": "2023-02-23T08:51:08.246Z"
   },
   {
    "duration": 977,
    "start_time": "2023-02-23T08:51:08.252Z"
   },
   {
    "duration": 4,
    "start_time": "2023-02-23T08:51:09.231Z"
   },
   {
    "duration": 839,
    "start_time": "2023-02-23T08:51:09.237Z"
   },
   {
    "duration": 277,
    "start_time": "2023-02-23T08:51:10.080Z"
   },
   {
    "duration": 54,
    "start_time": "2023-02-23T08:51:10.359Z"
   },
   {
    "duration": 31,
    "start_time": "2023-02-23T08:51:10.414Z"
   },
   {
    "duration": 7,
    "start_time": "2023-02-23T08:51:10.446Z"
   },
   {
    "duration": 273,
    "start_time": "2023-02-23T08:51:10.454Z"
   },
   {
    "duration": 40,
    "start_time": "2023-02-23T08:51:10.729Z"
   },
   {
    "duration": 359,
    "start_time": "2023-02-23T08:51:10.771Z"
   },
   {
    "duration": 336,
    "start_time": "2023-02-23T08:51:11.131Z"
   },
   {
    "duration": 320,
    "start_time": "2023-02-23T08:51:11.469Z"
   },
   {
    "duration": 3,
    "start_time": "2023-02-23T08:51:11.791Z"
   },
   {
    "duration": 10,
    "start_time": "2023-02-23T08:51:11.802Z"
   },
   {
    "duration": 66,
    "start_time": "2023-02-23T08:51:11.813Z"
   },
   {
    "duration": 304,
    "start_time": "2023-02-23T08:51:11.881Z"
   },
   {
    "duration": 312,
    "start_time": "2023-02-23T08:51:12.187Z"
   },
   {
    "duration": 30,
    "start_time": "2023-02-23T08:51:12.503Z"
   },
   {
    "duration": 84,
    "start_time": "2023-02-23T08:51:12.534Z"
   },
   {
    "duration": 29,
    "start_time": "2023-02-23T08:51:12.620Z"
   },
   {
    "duration": 428,
    "start_time": "2023-02-23T08:51:12.651Z"
   },
   {
    "duration": 65,
    "start_time": "2023-02-23T08:51:13.081Z"
   },
   {
    "duration": 16,
    "start_time": "2023-02-23T08:51:13.148Z"
   },
   {
    "duration": 37,
    "start_time": "2023-02-23T08:51:13.166Z"
   },
   {
    "duration": 28,
    "start_time": "2023-02-23T08:51:13.205Z"
   },
   {
    "duration": 16,
    "start_time": "2023-02-23T08:51:13.235Z"
   },
   {
    "duration": 107,
    "start_time": "2023-02-23T08:51:13.253Z"
   },
   {
    "duration": 695,
    "start_time": "2023-02-23T08:51:13.362Z"
   },
   {
    "duration": 250,
    "start_time": "2023-02-23T08:51:14.059Z"
   },
   {
    "duration": 142,
    "start_time": "2023-02-23T08:51:14.311Z"
   },
   {
    "duration": 165,
    "start_time": "2023-02-23T08:51:14.455Z"
   },
   {
    "duration": 59,
    "start_time": "2023-02-23T08:51:14.621Z"
   },
   {
    "duration": 54,
    "start_time": "2023-02-23T08:51:14.681Z"
   },
   {
    "duration": 3,
    "start_time": "2023-02-23T08:51:14.736Z"
   },
   {
    "duration": 5,
    "start_time": "2023-02-23T08:51:14.741Z"
   },
   {
    "duration": 5,
    "start_time": "2023-02-23T08:51:14.748Z"
   },
   {
    "duration": 5,
    "start_time": "2023-02-23T08:51:14.755Z"
   },
   {
    "duration": 7,
    "start_time": "2023-02-23T08:51:14.762Z"
   },
   {
    "duration": 1064,
    "start_time": "2023-02-23T08:51:14.770Z"
   },
   {
    "duration": 166,
    "start_time": "2023-02-23T08:51:15.838Z"
   },
   {
    "duration": 68874,
    "start_time": "2023-02-23T08:51:16.006Z"
   },
   {
    "duration": 16724,
    "start_time": "2023-02-23T08:52:24.881Z"
   },
   {
    "duration": 30792,
    "start_time": "2023-02-23T08:52:41.607Z"
   },
   {
    "duration": 47407,
    "start_time": "2023-02-23T08:53:12.400Z"
   },
   {
    "duration": 8,
    "start_time": "2023-02-23T08:53:59.809Z"
   },
   {
    "duration": 20516,
    "start_time": "2023-02-23T08:54:20.346Z"
   },
   {
    "duration": 50,
    "start_time": "2023-05-10T16:23:55.633Z"
   },
   {
    "duration": 3,
    "start_time": "2023-05-10T16:24:03.640Z"
   },
   {
    "duration": 2,
    "start_time": "2023-05-10T16:24:10.645Z"
   },
   {
    "duration": 58,
    "start_time": "2023-05-13T09:19:15.660Z"
   },
   {
    "duration": 1478,
    "start_time": "2023-05-13T09:19:18.655Z"
   },
   {
    "duration": 3746,
    "start_time": "2023-05-13T09:19:20.136Z"
   },
   {
    "duration": 4,
    "start_time": "2023-05-13T09:19:23.885Z"
   },
   {
    "duration": 1017,
    "start_time": "2023-05-13T09:19:23.892Z"
   },
   {
    "duration": 366,
    "start_time": "2023-05-13T09:19:24.911Z"
   },
   {
    "duration": 59,
    "start_time": "2023-05-13T09:19:25.278Z"
   },
   {
    "duration": 62,
    "start_time": "2023-05-13T09:19:25.340Z"
   },
   {
    "duration": 9,
    "start_time": "2023-05-13T09:19:25.404Z"
   },
   {
    "duration": 725,
    "start_time": "2023-05-13T09:19:28.825Z"
   },
   {
    "duration": 9,
    "start_time": "2023-05-13T09:19:59.083Z"
   },
   {
    "duration": 1397,
    "start_time": "2023-05-15T12:47:59.030Z"
   },
   {
    "duration": 3406,
    "start_time": "2023-05-15T12:48:00.429Z"
   },
   {
    "duration": 3,
    "start_time": "2023-05-15T12:48:03.837Z"
   },
   {
    "duration": 1019,
    "start_time": "2023-05-15T12:48:03.843Z"
   },
   {
    "duration": 332,
    "start_time": "2023-05-15T12:48:04.863Z"
   },
   {
    "duration": 63,
    "start_time": "2023-05-15T12:48:05.196Z"
   },
   {
    "duration": 31,
    "start_time": "2023-05-15T12:48:05.260Z"
   },
   {
    "duration": 8,
    "start_time": "2023-05-15T12:48:05.293Z"
   },
   {
    "duration": 465,
    "start_time": "2023-05-15T12:48:05.302Z"
   },
   {
    "duration": 49,
    "start_time": "2023-05-15T12:48:05.769Z"
   },
   {
    "duration": 272,
    "start_time": "2023-05-15T12:48:05.820Z"
   },
   {
    "duration": 410,
    "start_time": "2023-05-15T12:48:06.094Z"
   },
   {
    "duration": 359,
    "start_time": "2023-05-15T12:48:06.506Z"
   },
   {
    "duration": 3,
    "start_time": "2023-05-15T12:48:06.867Z"
   },
   {
    "duration": 12,
    "start_time": "2023-05-15T12:48:06.872Z"
   },
   {
    "duration": 79,
    "start_time": "2023-05-15T12:48:06.886Z"
   },
   {
    "duration": 310,
    "start_time": "2023-05-15T12:48:06.966Z"
   },
   {
    "duration": 346,
    "start_time": "2023-05-15T12:48:07.278Z"
   },
   {
    "duration": 46,
    "start_time": "2023-05-15T12:48:07.626Z"
   },
   {
    "duration": 86,
    "start_time": "2023-05-15T12:48:07.673Z"
   },
   {
    "duration": 29,
    "start_time": "2023-05-15T12:48:07.761Z"
   },
   {
    "duration": 485,
    "start_time": "2023-05-15T12:48:07.792Z"
   },
   {
    "duration": 72,
    "start_time": "2023-05-15T12:48:08.279Z"
   },
   {
    "duration": 17,
    "start_time": "2023-05-15T12:48:08.353Z"
   },
   {
    "duration": 20,
    "start_time": "2023-05-15T12:48:08.371Z"
   },
   {
    "duration": 29,
    "start_time": "2023-05-15T12:48:08.393Z"
   },
   {
    "duration": 37,
    "start_time": "2023-05-15T12:48:08.424Z"
   },
   {
    "duration": 93,
    "start_time": "2023-05-15T12:48:08.465Z"
   },
   {
    "duration": 656,
    "start_time": "2023-05-15T12:48:08.560Z"
   },
   {
    "duration": 217,
    "start_time": "2023-05-15T12:48:09.218Z"
   },
   {
    "duration": 122,
    "start_time": "2023-05-15T12:48:09.437Z"
   },
   {
    "duration": 198,
    "start_time": "2023-05-15T12:48:09.561Z"
   },
   {
    "duration": 60,
    "start_time": "2023-05-15T12:48:09.760Z"
   },
   {
    "duration": 58,
    "start_time": "2023-05-15T12:48:09.822Z"
   },
   {
    "duration": 4,
    "start_time": "2023-05-15T12:48:09.881Z"
   },
   {
    "duration": 1338,
    "start_time": "2023-05-16T05:18:49.110Z"
   },
   {
    "duration": 2890,
    "start_time": "2023-05-16T05:18:50.449Z"
   },
   {
    "duration": 3,
    "start_time": "2023-05-16T05:18:53.341Z"
   },
   {
    "duration": 850,
    "start_time": "2023-05-16T05:18:53.345Z"
   },
   {
    "duration": 304,
    "start_time": "2023-05-16T05:18:54.197Z"
   },
   {
    "duration": 57,
    "start_time": "2023-05-16T05:18:54.503Z"
   },
   {
    "duration": 30,
    "start_time": "2023-05-16T05:18:54.561Z"
   },
   {
    "duration": 6,
    "start_time": "2023-05-16T05:18:54.593Z"
   },
   {
    "duration": 574,
    "start_time": "2023-05-16T05:18:54.601Z"
   },
   {
    "duration": 49,
    "start_time": "2023-05-16T05:18:55.178Z"
   },
   {
    "duration": 331,
    "start_time": "2023-05-16T05:18:55.228Z"
   },
   {
    "duration": 325,
    "start_time": "2023-05-16T05:18:55.561Z"
   },
   {
    "duration": 329,
    "start_time": "2023-05-16T05:18:55.888Z"
   },
   {
    "duration": 3,
    "start_time": "2023-05-16T05:18:56.219Z"
   },
   {
    "duration": 18,
    "start_time": "2023-05-16T05:18:56.223Z"
   },
   {
    "duration": 72,
    "start_time": "2023-05-16T05:18:56.243Z"
   },
   {
    "duration": 287,
    "start_time": "2023-05-16T05:18:56.317Z"
   },
   {
    "duration": 324,
    "start_time": "2023-05-16T05:18:56.607Z"
   },
   {
    "duration": 44,
    "start_time": "2023-05-16T05:18:56.932Z"
   },
   {
    "duration": 78,
    "start_time": "2023-05-16T05:18:56.977Z"
   },
   {
    "duration": 44,
    "start_time": "2023-05-16T05:18:57.057Z"
   },
   {
    "duration": 454,
    "start_time": "2023-05-16T05:18:57.102Z"
   },
   {
    "duration": 67,
    "start_time": "2023-05-16T05:18:57.558Z"
   },
   {
    "duration": 29,
    "start_time": "2023-05-16T05:18:57.626Z"
   },
   {
    "duration": 73,
    "start_time": "2023-05-16T05:18:57.657Z"
   },
   {
    "duration": 27,
    "start_time": "2023-05-16T05:18:57.732Z"
   },
   {
    "duration": 15,
    "start_time": "2023-05-16T05:18:57.762Z"
   },
   {
    "duration": 88,
    "start_time": "2023-05-16T05:18:57.781Z"
   },
   {
    "duration": 680,
    "start_time": "2023-05-16T05:18:57.870Z"
   },
   {
    "duration": 187,
    "start_time": "2023-05-16T05:18:58.551Z"
   },
   {
    "duration": 96,
    "start_time": "2023-05-16T05:18:58.740Z"
   },
   {
    "duration": 159,
    "start_time": "2023-05-16T05:18:58.837Z"
   },
   {
    "duration": 67,
    "start_time": "2023-05-16T05:18:58.998Z"
   },
   {
    "duration": 41,
    "start_time": "2023-05-16T05:18:59.066Z"
   },
   {
    "duration": 4,
    "start_time": "2023-05-16T05:18:59.108Z"
   },
   {
    "duration": 6,
    "start_time": "2023-05-16T05:18:59.113Z"
   },
   {
    "duration": 36,
    "start_time": "2023-05-16T05:18:59.121Z"
   },
   {
    "duration": 4,
    "start_time": "2023-05-16T05:18:59.158Z"
   },
   {
    "duration": 972,
    "start_time": "2023-05-16T05:18:59.163Z"
   },
   {
    "duration": 224,
    "start_time": "2023-05-16T05:19:00.137Z"
   },
   {
    "duration": 67235,
    "start_time": "2023-05-16T05:19:00.362Z"
   },
   {
    "duration": 16029,
    "start_time": "2023-05-16T05:20:07.599Z"
   },
   {
    "duration": 29784,
    "start_time": "2023-05-16T05:20:23.630Z"
   },
   {
    "duration": 1560270,
    "start_time": "2023-05-16T05:20:53.416Z"
   },
   {
    "duration": 7,
    "start_time": "2023-05-16T05:46:53.687Z"
   },
   {
    "duration": 18981,
    "start_time": "2023-05-16T05:46:53.751Z"
   }
  ],
  "kernelspec": {
   "display_name": "Python 3 (ipykernel)",
   "language": "python",
   "name": "python3"
  },
  "language_info": {
   "codemirror_mode": {
    "name": "ipython",
    "version": 3
   },
   "file_extension": ".py",
   "mimetype": "text/x-python",
   "name": "python",
   "nbconvert_exporter": "python",
   "pygments_lexer": "ipython3",
   "version": "3.9.12"
  },
  "toc": {
   "base_numbering": 1,
   "nav_menu": {},
   "number_sections": true,
   "sideBar": true,
   "skip_h1_title": true,
   "title_cell": "Table of Contents",
   "title_sidebar": "Contents",
   "toc_cell": false,
   "toc_position": {},
   "toc_section_display": true,
   "toc_window_display": false
  }
 },
 "nbformat": 4,
 "nbformat_minor": 2
}

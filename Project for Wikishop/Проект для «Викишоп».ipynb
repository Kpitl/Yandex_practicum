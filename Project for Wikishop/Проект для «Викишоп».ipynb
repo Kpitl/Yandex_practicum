{
 "cells": [
  {
   "cell_type": "markdown",
   "metadata": {
    "toc": true
   },
   "source": [
    "<h1>Содержание<span class=\"tocSkip\"></span></h1>\n",
    "<div class=\"toc\"><ul class=\"toc-item\"><li><span><a href=\"#Подготовка\" data-toc-modified-id=\"Подготовка-1\"><span class=\"toc-item-num\">1&nbsp;&nbsp;</span>Подготовка</a></span></li><li><span><a href=\"#Обучение\" data-toc-modified-id=\"Обучение-2\"><span class=\"toc-item-num\">2&nbsp;&nbsp;</span>Обучение</a></span><ul class=\"toc-item\"><li><span><a href=\"#Деление-фрейма-на-выборки\" data-toc-modified-id=\"Деление-фрейма-на-выборки-2.1\"><span class=\"toc-item-num\">2.1&nbsp;&nbsp;</span>Деление фрейма на выборки</a></span></li><li><span><a href=\"#Обучение-моделей\" data-toc-modified-id=\"Обучение-моделей-2.2\"><span class=\"toc-item-num\">2.2&nbsp;&nbsp;</span>Обучение моделей</a></span><ul class=\"toc-item\"><li><span><a href=\"#Модель-LogisticRegression()\" data-toc-modified-id=\"Модель-LogisticRegression()-2.2.1\"><span class=\"toc-item-num\">2.2.1&nbsp;&nbsp;</span>Модель LogisticRegression()</a></span></li><li><span><a href=\"#Модель-DecisionTreeClassifier\" data-toc-modified-id=\"Модель-DecisionTreeClassifier-2.2.2\"><span class=\"toc-item-num\">2.2.2&nbsp;&nbsp;</span>Модель DecisionTreeClassifier</a></span></li><li><span><a href=\"#Модель-RandomForestClassifier()\" data-toc-modified-id=\"Модель-RandomForestClassifier()-2.2.3\"><span class=\"toc-item-num\">2.2.3&nbsp;&nbsp;</span>Модель RandomForestClassifier()</a></span></li><li><span><a href=\"#Полученные-результаты\" data-toc-modified-id=\"Полученные-результаты-2.2.4\"><span class=\"toc-item-num\">2.2.4&nbsp;&nbsp;</span>Полученные результаты</a></span></li></ul></li></ul></li><li><span><a href=\"#Выводы\" data-toc-modified-id=\"Выводы-3\"><span class=\"toc-item-num\">3&nbsp;&nbsp;</span>Выводы</a></span></li><li><span><a href=\"#Чек-лист-проверки\" data-toc-modified-id=\"Чек-лист-проверки-4\"><span class=\"toc-item-num\">4&nbsp;&nbsp;</span>Чек-лист проверки</a></span></li></ul></div>"
   ]
  },
  {
   "cell_type": "markdown",
   "metadata": {},
   "source": [
    "# Проект для «Викишоп»"
   ]
  },
  {
   "cell_type": "markdown",
   "metadata": {},
   "source": [
    "Интернет-магазин «Викишоп» запускает новый сервис. Теперь пользователи могут редактировать и дополнять описания товаров, как в вики-сообществах. То есть клиенты предлагают свои правки и комментируют изменения других. Магазину нужен инструмент, который будет искать токсичные комментарии и отправлять их на модерацию. \n",
    "\n",
    "Обучите модель классифицировать комментарии на позитивные и негативные. В вашем распоряжении набор данных с разметкой о токсичности правок.\n",
    "\n",
    "Постройте модель со значением метрики качества *F1* не меньше 0.75. \n",
    "\n",
    "**Инструкция по выполнению проекта**\n",
    "\n",
    "1. Загрузите и подготовьте данные.\n",
    "2. Обучите разные модели. \n",
    "3. Сделайте выводы.\n",
    "\n",
    "Для выполнения проекта применять *BERT* необязательно, но вы можете попробовать.\n",
    "\n",
    "**Описание данных**\n",
    "\n",
    "Данные находятся в файле `toxic_comments.csv`. Столбец *text* в нём содержит текст комментария, а *toxic* — целевой признак."
   ]
  },
  {
   "cell_type": "markdown",
   "metadata": {},
   "source": [
    "## Подготовка"
   ]
  },
  {
   "cell_type": "code",
   "execution_count": 24,
   "metadata": {},
   "outputs": [
    {
     "name": "stdout",
     "output_type": "stream",
     "text": [
      "Requirement already satisfied: imblearn in /opt/conda/lib/python3.9/site-packages (0.0)\n",
      "Requirement already satisfied: imbalanced-learn in /opt/conda/lib/python3.9/site-packages (from imblearn) (0.10.1)\n",
      "Requirement already satisfied: scikit-learn>=1.0.2 in /opt/conda/lib/python3.9/site-packages (from imbalanced-learn->imblearn) (1.2.2)\n",
      "Requirement already satisfied: joblib>=1.1.1 in /opt/conda/lib/python3.9/site-packages (from imbalanced-learn->imblearn) (1.2.0)\n",
      "Requirement already satisfied: scipy>=1.3.2 in /opt/conda/lib/python3.9/site-packages (from imbalanced-learn->imblearn) (1.9.1)\n",
      "Requirement already satisfied: threadpoolctl>=2.0.0 in /opt/conda/lib/python3.9/site-packages (from imbalanced-learn->imblearn) (3.1.0)\n",
      "Requirement already satisfied: numpy>=1.17.3 in /opt/conda/lib/python3.9/site-packages (from imbalanced-learn->imblearn) (1.21.1)\n"
     ]
    }
   ],
   "source": [
    "!pip install imblearn"
   ]
  },
  {
   "cell_type": "code",
   "execution_count": 25,
   "metadata": {},
   "outputs": [
    {
     "name": "stderr",
     "output_type": "stream",
     "text": [
      "[nltk_data] Downloading package wordnet to punkt...\n",
      "[nltk_data]   Package wordnet is already up-to-date!\n",
      "[nltk_data] Downloading package averaged_perceptron_tagger to\n",
      "[nltk_data]     /home/jovyan/nltk_data...\n",
      "[nltk_data]   Package averaged_perceptron_tagger is already up-to-\n",
      "[nltk_data]       date!\n"
     ]
    }
   ],
   "source": [
    "import numpy as np\n",
    "import pandas as pd\n",
    "import re\n",
    "import nltk\n",
    "import seaborn as sns\n",
    "import matplotlib.pyplot as plt\n",
    "nltk.download('wordnet','punkt')\n",
    "nltk.download('averaged_perceptron_tagger')\n",
    "\n",
    "from tqdm import tqdm\n",
    "from nltk.corpus import stopwords as nltk_stopwords\n",
    "from nltk.corpus import wordnet\n",
    "from nltk.stem import WordNetLemmatizer\n",
    "\n",
    "from sklearn.pipeline import Pipeline\n",
    "from sklearn.feature_extraction.text import TfidfVectorizer\n",
    "from sklearn.model_selection import train_test_split, TimeSeriesSplit, cross_val_score, GridSearchCV\n",
    "from sklearn.linear_model import LogisticRegression\n",
    "from sklearn.tree import DecisionTreeClassifier\n",
    "from sklearn.ensemble import RandomForestClassifier\n",
    "from sklearn.experimental import enable_halving_search_cv\n",
    "from sklearn.model_selection import HalvingRandomSearchCV\n",
    "from sklearn.model_selection import HalvingGridSearchCV\n",
    "from sklearn.metrics import f1_score\n",
    "from sklearn.utils import shuffle\n",
    "\n",
    "from catboost import CatBoostClassifier"
   ]
  },
  {
   "cell_type": "code",
   "execution_count": 26,
   "metadata": {},
   "outputs": [
    {
     "data": {
      "text/html": [
       "<div>\n",
       "<style scoped>\n",
       "    .dataframe tbody tr th:only-of-type {\n",
       "        vertical-align: middle;\n",
       "    }\n",
       "\n",
       "    .dataframe tbody tr th {\n",
       "        vertical-align: top;\n",
       "    }\n",
       "\n",
       "    .dataframe thead th {\n",
       "        text-align: right;\n",
       "    }\n",
       "</style>\n",
       "<table border=\"1\" class=\"dataframe\">\n",
       "  <thead>\n",
       "    <tr style=\"text-align: right;\">\n",
       "      <th></th>\n",
       "      <th>Unnamed: 0</th>\n",
       "      <th>text</th>\n",
       "      <th>toxic</th>\n",
       "    </tr>\n",
       "  </thead>\n",
       "  <tbody>\n",
       "    <tr>\n",
       "      <th>0</th>\n",
       "      <td>0</td>\n",
       "      <td>Explanation\\nWhy the edits made under my usern...</td>\n",
       "      <td>0</td>\n",
       "    </tr>\n",
       "    <tr>\n",
       "      <th>1</th>\n",
       "      <td>1</td>\n",
       "      <td>D'aww! He matches this background colour I'm s...</td>\n",
       "      <td>0</td>\n",
       "    </tr>\n",
       "    <tr>\n",
       "      <th>2</th>\n",
       "      <td>2</td>\n",
       "      <td>Hey man, I'm really not trying to edit war. It...</td>\n",
       "      <td>0</td>\n",
       "    </tr>\n",
       "    <tr>\n",
       "      <th>3</th>\n",
       "      <td>3</td>\n",
       "      <td>\"\\nMore\\nI can't make any real suggestions on ...</td>\n",
       "      <td>0</td>\n",
       "    </tr>\n",
       "    <tr>\n",
       "      <th>4</th>\n",
       "      <td>4</td>\n",
       "      <td>You, sir, are my hero. Any chance you remember...</td>\n",
       "      <td>0</td>\n",
       "    </tr>\n",
       "    <tr>\n",
       "      <th>...</th>\n",
       "      <td>...</td>\n",
       "      <td>...</td>\n",
       "      <td>...</td>\n",
       "    </tr>\n",
       "    <tr>\n",
       "      <th>159287</th>\n",
       "      <td>159446</td>\n",
       "      <td>\":::::And for the second time of asking, when ...</td>\n",
       "      <td>0</td>\n",
       "    </tr>\n",
       "    <tr>\n",
       "      <th>159288</th>\n",
       "      <td>159447</td>\n",
       "      <td>You should be ashamed of yourself \\n\\nThat is ...</td>\n",
       "      <td>0</td>\n",
       "    </tr>\n",
       "    <tr>\n",
       "      <th>159289</th>\n",
       "      <td>159448</td>\n",
       "      <td>Spitzer \\n\\nUmm, theres no actual article for ...</td>\n",
       "      <td>0</td>\n",
       "    </tr>\n",
       "    <tr>\n",
       "      <th>159290</th>\n",
       "      <td>159449</td>\n",
       "      <td>And it looks like it was actually you who put ...</td>\n",
       "      <td>0</td>\n",
       "    </tr>\n",
       "    <tr>\n",
       "      <th>159291</th>\n",
       "      <td>159450</td>\n",
       "      <td>\"\\nAnd ... I really don't think you understand...</td>\n",
       "      <td>0</td>\n",
       "    </tr>\n",
       "  </tbody>\n",
       "</table>\n",
       "<p>159292 rows × 3 columns</p>\n",
       "</div>"
      ],
      "text/plain": [
       "        Unnamed: 0                                               text  toxic\n",
       "0                0  Explanation\\nWhy the edits made under my usern...      0\n",
       "1                1  D'aww! He matches this background colour I'm s...      0\n",
       "2                2  Hey man, I'm really not trying to edit war. It...      0\n",
       "3                3  \"\\nMore\\nI can't make any real suggestions on ...      0\n",
       "4                4  You, sir, are my hero. Any chance you remember...      0\n",
       "...            ...                                                ...    ...\n",
       "159287      159446  \":::::And for the second time of asking, when ...      0\n",
       "159288      159447  You should be ashamed of yourself \\n\\nThat is ...      0\n",
       "159289      159448  Spitzer \\n\\nUmm, theres no actual article for ...      0\n",
       "159290      159449  And it looks like it was actually you who put ...      0\n",
       "159291      159450  \"\\nAnd ... I really don't think you understand...      0\n",
       "\n",
       "[159292 rows x 3 columns]"
      ]
     },
     "metadata": {},
     "output_type": "display_data"
    },
    {
     "data": {
      "text/html": [
       "<div>\n",
       "<style scoped>\n",
       "    .dataframe tbody tr th:only-of-type {\n",
       "        vertical-align: middle;\n",
       "    }\n",
       "\n",
       "    .dataframe tbody tr th {\n",
       "        vertical-align: top;\n",
       "    }\n",
       "\n",
       "    .dataframe thead th {\n",
       "        text-align: right;\n",
       "    }\n",
       "</style>\n",
       "<table border=\"1\" class=\"dataframe\">\n",
       "  <thead>\n",
       "    <tr style=\"text-align: right;\">\n",
       "      <th></th>\n",
       "      <th>Unnamed: 0</th>\n",
       "      <th>toxic</th>\n",
       "    </tr>\n",
       "  </thead>\n",
       "  <tbody>\n",
       "    <tr>\n",
       "      <th>count</th>\n",
       "      <td>159292.000000</td>\n",
       "      <td>159292.000000</td>\n",
       "    </tr>\n",
       "    <tr>\n",
       "      <th>mean</th>\n",
       "      <td>79725.697242</td>\n",
       "      <td>0.101612</td>\n",
       "    </tr>\n",
       "    <tr>\n",
       "      <th>std</th>\n",
       "      <td>46028.837471</td>\n",
       "      <td>0.302139</td>\n",
       "    </tr>\n",
       "    <tr>\n",
       "      <th>min</th>\n",
       "      <td>0.000000</td>\n",
       "      <td>0.000000</td>\n",
       "    </tr>\n",
       "    <tr>\n",
       "      <th>25%</th>\n",
       "      <td>39872.750000</td>\n",
       "      <td>0.000000</td>\n",
       "    </tr>\n",
       "    <tr>\n",
       "      <th>50%</th>\n",
       "      <td>79721.500000</td>\n",
       "      <td>0.000000</td>\n",
       "    </tr>\n",
       "    <tr>\n",
       "      <th>75%</th>\n",
       "      <td>119573.250000</td>\n",
       "      <td>0.000000</td>\n",
       "    </tr>\n",
       "    <tr>\n",
       "      <th>max</th>\n",
       "      <td>159450.000000</td>\n",
       "      <td>1.000000</td>\n",
       "    </tr>\n",
       "  </tbody>\n",
       "</table>\n",
       "</div>"
      ],
      "text/plain": [
       "          Unnamed: 0          toxic\n",
       "count  159292.000000  159292.000000\n",
       "mean    79725.697242       0.101612\n",
       "std     46028.837471       0.302139\n",
       "min         0.000000       0.000000\n",
       "25%     39872.750000       0.000000\n",
       "50%     79721.500000       0.000000\n",
       "75%    119573.250000       0.000000\n",
       "max    159450.000000       1.000000"
      ]
     },
     "metadata": {},
     "output_type": "display_data"
    },
    {
     "name": "stdout",
     "output_type": "stream",
     "text": [
      "<class 'pandas.core.frame.DataFrame'>\n",
      "RangeIndex: 159292 entries, 0 to 159291\n",
      "Data columns (total 3 columns):\n",
      " #   Column      Non-Null Count   Dtype \n",
      "---  ------      --------------   ----- \n",
      " 0   Unnamed: 0  159292 non-null  int64 \n",
      " 1   text        159292 non-null  object\n",
      " 2   toxic       159292 non-null  int64 \n",
      "dtypes: int64(2), object(1)\n",
      "memory usage: 3.6+ MB\n"
     ]
    },
    {
     "data": {
      "text/plain": [
       "(159292, 3)"
      ]
     },
     "execution_count": 26,
     "metadata": {},
     "output_type": "execute_result"
    }
   ],
   "source": [
    "# Выведем датафрейм и изучим признаки\n",
    "try:\n",
    "    df = pd.read_csv('D://Data Science//Проекты//Проект Викишоп//toxic_comments.csv')\n",
    "except:\n",
    "    df = pd.read_csv('/datasets/toxic_comments.csv')\n",
    "\n",
    "# Выведем датафрейм \n",
    "display(df)\n",
    "display(df.describe())\n",
    "df.info()\n",
    "\n",
    "# Выведем размер таблиб\n",
    "df.shape"
   ]
  },
  {
   "cell_type": "code",
   "execution_count": 27,
   "metadata": {},
   "outputs": [
    {
     "name": "stdout",
     "output_type": "stream",
     "text": [
      "\n",
      "Количество дубликатов в датафрейме: 0\n",
      "\n",
      "Количество пропущенных значений:\n",
      " Unnamed: 0    0\n",
      "text          0\n",
      "toxic         0\n",
      "dtype: int64\n"
     ]
    }
   ],
   "source": [
    "# Проверим датафрейм на наличие пропусков и дубликатов\n",
    "print('\\nКоличество дубликатов в датафрейме:', df.duplicated().sum())\n",
    "print('\\nКоличество пропущенных значений:\\n', df.isna().sum())"
   ]
  },
  {
   "cell_type": "markdown",
   "metadata": {},
   "source": [
    "Дубликатов и пропусков нет, избавимся от столбца Unnamed, так как он дублирует индексы"
   ]
  },
  {
   "cell_type": "code",
   "execution_count": 28,
   "metadata": {},
   "outputs": [],
   "source": [
    "# Удалим столбец Unnamed:0 так как он не несет особой ценности\n",
    "df = df.drop(['Unnamed: 0'], axis=1)"
   ]
  },
  {
   "cell_type": "code",
   "execution_count": 29,
   "metadata": {},
   "outputs": [],
   "source": [
    "# Создадим корпус с коментариями\n",
    "# corpus = list(df['text'])"
   ]
  },
  {
   "cell_type": "code",
   "execution_count": 30,
   "metadata": {},
   "outputs": [],
   "source": [
    "#corpus = df['text'].values.astype('U')\n",
    "#print(corpus[0])"
   ]
  },
  {
   "cell_type": "markdown",
   "metadata": {},
   "source": [
    "Избавимся от лишних символов и лемматизируем текст:"
   ]
  },
  {
   "cell_type": "code",
   "execution_count": 31,
   "metadata": {},
   "outputs": [],
   "source": [
    "# Создадим класс для лемматизации\n",
    "def lemmatize(text):\n",
    "    lemma = WordNetLemmatizer()\n",
    "    word_list = nltk.word_tokenize(text)\n",
    "    lemmatized_out = ' '.join([lemma.lemmatize(word) for word in word_list])\n",
    "    clear = re.sub('[^a-zA-Z]', ' ', lemmatized_out)\n",
    "    clear = ' '.join(clear.split())\n",
    "    clear = clear.lower()\n",
    "    return clear"
   ]
  },
  {
   "cell_type": "code",
   "execution_count": 32,
   "metadata": {},
   "outputs": [
    {
     "name": "stdout",
     "output_type": "stream",
     "text": [
      "CPU times: user 2min 27s, sys: 525 ms, total: 2min 28s\n",
      "Wall time: 2min 30s\n"
     ]
    },
    {
     "data": {
      "text/html": [
       "<div>\n",
       "<style scoped>\n",
       "    .dataframe tbody tr th:only-of-type {\n",
       "        vertical-align: middle;\n",
       "    }\n",
       "\n",
       "    .dataframe tbody tr th {\n",
       "        vertical-align: top;\n",
       "    }\n",
       "\n",
       "    .dataframe thead th {\n",
       "        text-align: right;\n",
       "    }\n",
       "</style>\n",
       "<table border=\"1\" class=\"dataframe\">\n",
       "  <thead>\n",
       "    <tr style=\"text-align: right;\">\n",
       "      <th></th>\n",
       "      <th>text</th>\n",
       "      <th>toxic</th>\n",
       "    </tr>\n",
       "  </thead>\n",
       "  <tbody>\n",
       "    <tr>\n",
       "      <th>0</th>\n",
       "      <td>explanation why the edits made under my userna...</td>\n",
       "      <td>0</td>\n",
       "    </tr>\n",
       "    <tr>\n",
       "      <th>1</th>\n",
       "      <td>d aww he match this background colour i m seem...</td>\n",
       "      <td>0</td>\n",
       "    </tr>\n",
       "    <tr>\n",
       "      <th>2</th>\n",
       "      <td>hey man i m really not trying to edit war it s...</td>\n",
       "      <td>0</td>\n",
       "    </tr>\n",
       "    <tr>\n",
       "      <th>3</th>\n",
       "      <td>more i ca n t make any real suggestion on impr...</td>\n",
       "      <td>0</td>\n",
       "    </tr>\n",
       "    <tr>\n",
       "      <th>4</th>\n",
       "      <td>you sir are my hero any chance you remember wh...</td>\n",
       "      <td>0</td>\n",
       "    </tr>\n",
       "  </tbody>\n",
       "</table>\n",
       "</div>"
      ],
      "text/plain": [
       "                                                text  toxic\n",
       "0  explanation why the edits made under my userna...      0\n",
       "1  d aww he match this background colour i m seem...      0\n",
       "2  hey man i m really not trying to edit war it s...      0\n",
       "3  more i ca n t make any real suggestion on impr...      0\n",
       "4  you sir are my hero any chance you remember wh...      0"
      ]
     },
     "execution_count": 32,
     "metadata": {},
     "output_type": "execute_result"
    }
   ],
   "source": [
    "%%time \n",
    "tqdm.pandas()\n",
    "df['text'] = df['text'].apply(lemmatize) \n",
    "df.head()"
   ]
  },
  {
   "cell_type": "markdown",
   "metadata": {},
   "source": [
    "Посмотрим долю распределения токсичных и не токсичных коментариев"
   ]
  },
  {
   "cell_type": "code",
   "execution_count": 33,
   "metadata": {},
   "outputs": [
    {
     "data": {
      "image/png": "[encoded data removed]",
      "text/plain": [
       "<Figure size 612x612 with 1 Axes>"
      ]
     },
     "metadata": {},
     "output_type": "display_data"
    }
   ],
   "source": [
    "sns.set_style('darkgrid')\n",
    "df['toxic'].value_counts(normalize=True).plot(kind='pie',figsize=[8.5,8.5], \n",
    "                                              autopct='%1.1f%%',\n",
    "                                              labels=['Отзыв токсичный, класс [0]',\n",
    "                                                      'Отзыв не токсичный, класс [1]'])\n",
    "plt.title('Доля распределения токсичных и не токсичных комментариев')\n",
    "plt.ylabel('')\n",
    "plt.show()"
   ]
  },
  {
   "cell_type": "markdown",
   "metadata": {},
   "source": [
    "**Вывод:** Данные обработанны, коментарии очищены и лемматизированы. Доля токсичных коменнтариев составляет 89,8 %. Разделим датафрейм по целевому признаку lemm_text на выборки и уменьшим количество 0, чтобы избежать дисбаланса классов. "
   ]
  },
  {
   "cell_type": "markdown",
   "metadata": {},
   "source": [
    "## Обучение"
   ]
  },
  {
   "cell_type": "markdown",
   "metadata": {},
   "source": [
    "### Деление фрейма на выборки "
   ]
  },
  {
   "cell_type": "code",
   "execution_count": 34,
   "metadata": {},
   "outputs": [],
   "source": [
    "# Разделим датафрейм на целевые значения и признаки\n",
    "features = df['text']\n",
    "target = df['toxic']"
   ]
  },
  {
   "cell_type": "code",
   "execution_count": 35,
   "metadata": {},
   "outputs": [
    {
     "name": "stdout",
     "output_type": "stream",
     "text": [
      "(127433,)\n",
      "(127433,)\n",
      "(31859,)\n",
      "(31859,)\n"
     ]
    }
   ],
   "source": [
    "# Поделим дааные на тренировачную, валидационную и тестевую выборки\n",
    "features_train, features_test, target_train, target_test = train_test_split(features,\n",
    "                                                                            target,\n",
    "                                                                            test_size=.2, \n",
    "                                                                            random_state=15, \n",
    "                                                                            stratify=target)\n",
    "\n",
    "# features_valid, features_test, target_valid, target_test = train_test_split(features_valid, target_valid, test_size=.5, random_state=12345)\n",
    "\n",
    "for i in [features_train, target_train, features_test, target_test]:\n",
    "    print(i.shape)"
   ]
  },
  {
   "cell_type": "code",
   "execution_count": 36,
   "metadata": {},
   "outputs": [],
   "source": [
    "# Сделаем стоп слова и векторизуем текст\n",
    "#nltk.download('stopwords')\n",
    "#stopwords = set(nltk_stopwords.words('english'))\n",
    "#count_tf_idf = TfidfVectorizer(stop_words=stopwords)\n",
    "#features_train = count_tf_idf.fit_transform(features_train)\n",
    "#features_test = count_tf_idf.transform(features_test)"
   ]
  },
  {
   "cell_type": "code",
   "execution_count": 37,
   "metadata": {},
   "outputs": [
    {
     "name": "stdout",
     "output_type": "stream",
     "text": [
      "0    12949\n",
      "1    12949\n",
      "Name: toxic, dtype: int64\n"
     ]
    }
   ],
   "source": [
    "# Уменьшим количество 0 в тренеровачной выборке\n",
    "df_train = df.iloc[target_train.index]\n",
    "\n",
    "# Создадим столбец с нулевыми значениями\n",
    "target_tr_0 = df_train[df_train['toxic']==0]['toxic']\n",
    "# Создадим столбец с нулевыми значениями\n",
    "target_tr_1 = df_train[df_train['toxic']==1]['toxic']\n",
    "\n",
    "# Создадим столбец и приравняем количество едениц и нулей\n",
    "target_tr0_resample = target_tr_0.sample(target_tr_1.shape[0], random_state=12345)\n",
    "target_tr_resample = pd.concat([target_tr0_resample, target_tr_1])\n",
    "\n",
    "# Создадим датафрейм и применим новые признаки\n",
    "features_tr_resample = df.iloc[target_tr_resample.index]\n",
    "\n",
    "# Создадим тренировачные и тестевые выборки сбалансированными классами\n",
    "features_tr_res, target_tr_res = shuffle(features_tr_resample, target_tr_resample, random_state = 15)\n",
    "\n",
    "features_tr_res = features_tr_res['text']\n",
    "\n",
    "# Проверим соотношение нулей и едениц в тренировачной выборке\n",
    "print(target_tr_res.value_counts())\n",
    "\n"
   ]
  },
  {
   "cell_type": "code",
   "execution_count": 38,
   "metadata": {},
   "outputs": [],
   "source": [
    "# Сделаем стоп слова и векторизуем ресемплированную тренировачную выборку\n",
    "#nltk.download('stopwords')\n",
    "#stopwords = set(nltk_stopwords.words('english'))\n",
    "#count_tf_idf = TfidfVectorizer(stop_words=stopwords)\n",
    "#features_tr_res = count_tf_idf.fit_transform(features_tr_res)"
   ]
  },
  {
   "cell_type": "markdown",
   "metadata": {},
   "source": [
    "**Вывод:** Данные поделены, сбалансированы и ресемплированы"
   ]
  },
  {
   "cell_type": "markdown",
   "metadata": {},
   "source": [
    "### Обучение моделей"
   ]
  },
  {
   "cell_type": "code",
   "execution_count": 39,
   "metadata": {},
   "outputs": [],
   "source": [
    "#tscv = TimeSeriesSplit(n_splits=3)"
   ]
  },
  {
   "cell_type": "markdown",
   "metadata": {},
   "source": [
    "#### Модель LogisticRegression()"
   ]
  },
  {
   "cell_type": "code",
   "execution_count": 40,
   "metadata": {},
   "outputs": [],
   "source": [
    "# %%time\n",
    "# pipeline = Pipeline([('tfidf', TfidfVectorizer(stop_words='english', \n",
    "#                                                sublinear_tf=True)),\n",
    "#                      ('lr', LogisticRegression(random_state=15))])\n",
    "# # Найдем лучшие гиперпараметры модели\n",
    "# param_lr = {'tfidf__max_df': (.25, .5, .75),\n",
    "#             'tfidf__ngram_range': [(1, 1), (1, 2), (1, 3)],\n",
    "#             'lr__C':[1, 1, 10]}\n",
    "# # Применим гридсеч\n",
    "# lr_grid = GridSearchCV(pipeline,\n",
    "#                        param_lr, \n",
    "#                        scoring='f1', \n",
    "#                        cv=3)\n",
    "# # Обучаем на тренировачных ресемплированных выборках\n",
    "# lr_grid.fit(features_train, target_train)\n",
    "\n",
    "# lr_best_params = lr_grid.best_params_\n",
    "\n",
    "# best_score_lr = lr_grid.best_score_\n",
    "\n",
    "# print('Лучшие гиперпараметры:', lr_best_params)            \n",
    "# print('F1 на тренировачной выборке:', round(max(mts_lr), 3))"
   ]
  },
  {
   "cell_type": "code",
   "execution_count": 59,
   "metadata": {},
   "outputs": [
    {
     "name": "stderr",
     "output_type": "stream",
     "text": [
      "/opt/conda/lib/python3.9/site-packages/sklearn/model_selection/_search.py:305: UserWarning: The total space of parameters 18 is smaller than n_iter=10619. Running 18 iterations. For exhaustive searches, use GridSearchCV.\n",
      "  warnings.warn(\n",
      "/opt/conda/lib/python3.9/site-packages/sklearn/metrics/_classification.py:1609: UndefinedMetricWarning: F-score is ill-defined and being set to 0.0 due to no true nor predicted samples. Use `zero_division` parameter to control this behavior.\n",
      "  _warn_prf(average, \"true nor predicted\", \"F-score is\", len(true_sum))\n",
      "/opt/conda/lib/python3.9/site-packages/sklearn/metrics/_classification.py:1609: UndefinedMetricWarning: F-score is ill-defined and being set to 0.0 due to no true nor predicted samples. Use `zero_division` parameter to control this behavior.\n",
      "  _warn_prf(average, \"true nor predicted\", \"F-score is\", len(true_sum))\n",
      "/opt/conda/lib/python3.9/site-packages/sklearn/metrics/_classification.py:1609: UndefinedMetricWarning: F-score is ill-defined and being set to 0.0 due to no true nor predicted samples. Use `zero_division` parameter to control this behavior.\n",
      "  _warn_prf(average, \"true nor predicted\", \"F-score is\", len(true_sum))\n",
      "/opt/conda/lib/python3.9/site-packages/sklearn/metrics/_classification.py:1609: UndefinedMetricWarning: F-score is ill-defined and being set to 0.0 due to no true nor predicted samples. Use `zero_division` parameter to control this behavior.\n",
      "  _warn_prf(average, \"true nor predicted\", \"F-score is\", len(true_sum))\n",
      "/opt/conda/lib/python3.9/site-packages/sklearn/metrics/_classification.py:1609: UndefinedMetricWarning: F-score is ill-defined and being set to 0.0 due to no true nor predicted samples. Use `zero_division` parameter to control this behavior.\n",
      "  _warn_prf(average, \"true nor predicted\", \"F-score is\", len(true_sum))\n",
      "/opt/conda/lib/python3.9/site-packages/sklearn/metrics/_classification.py:1609: UndefinedMetricWarning: F-score is ill-defined and being set to 0.0 due to no true nor predicted samples. Use `zero_division` parameter to control this behavior.\n",
      "  _warn_prf(average, \"true nor predicted\", \"F-score is\", len(true_sum))\n",
      "/opt/conda/lib/python3.9/site-packages/sklearn/metrics/_classification.py:1609: UndefinedMetricWarning: F-score is ill-defined and being set to 0.0 due to no true nor predicted samples. Use `zero_division` parameter to control this behavior.\n",
      "  _warn_prf(average, \"true nor predicted\", \"F-score is\", len(true_sum))\n",
      "/opt/conda/lib/python3.9/site-packages/sklearn/metrics/_classification.py:1609: UndefinedMetricWarning: F-score is ill-defined and being set to 0.0 due to no true nor predicted samples. Use `zero_division` parameter to control this behavior.\n",
      "  _warn_prf(average, \"true nor predicted\", \"F-score is\", len(true_sum))\n",
      "/opt/conda/lib/python3.9/site-packages/sklearn/metrics/_classification.py:1609: UndefinedMetricWarning: F-score is ill-defined and being set to 0.0 due to no true nor predicted samples. Use `zero_division` parameter to control this behavior.\n",
      "  _warn_prf(average, \"true nor predicted\", \"F-score is\", len(true_sum))\n",
      "/opt/conda/lib/python3.9/site-packages/sklearn/metrics/_classification.py:1609: UndefinedMetricWarning: F-score is ill-defined and being set to 0.0 due to no true nor predicted samples. Use `zero_division` parameter to control this behavior.\n",
      "  _warn_prf(average, \"true nor predicted\", \"F-score is\", len(true_sum))\n",
      "/opt/conda/lib/python3.9/site-packages/sklearn/metrics/_classification.py:1609: UndefinedMetricWarning: F-score is ill-defined and being set to 0.0 due to no true nor predicted samples. Use `zero_division` parameter to control this behavior.\n",
      "  _warn_prf(average, \"true nor predicted\", \"F-score is\", len(true_sum))\n",
      "/opt/conda/lib/python3.9/site-packages/sklearn/metrics/_classification.py:1609: UndefinedMetricWarning: F-score is ill-defined and being set to 0.0 due to no true nor predicted samples. Use `zero_division` parameter to control this behavior.\n",
      "  _warn_prf(average, \"true nor predicted\", \"F-score is\", len(true_sum))\n",
      "/opt/conda/lib/python3.9/site-packages/sklearn/metrics/_classification.py:1609: UndefinedMetricWarning: F-score is ill-defined and being set to 0.0 due to no true nor predicted samples. Use `zero_division` parameter to control this behavior.\n",
      "  _warn_prf(average, \"true nor predicted\", \"F-score is\", len(true_sum))\n",
      "/opt/conda/lib/python3.9/site-packages/sklearn/metrics/_classification.py:1609: UndefinedMetricWarning: F-score is ill-defined and being set to 0.0 due to no true nor predicted samples. Use `zero_division` parameter to control this behavior.\n",
      "  _warn_prf(average, \"true nor predicted\", \"F-score is\", len(true_sum))\n",
      "/opt/conda/lib/python3.9/site-packages/sklearn/metrics/_classification.py:1609: UndefinedMetricWarning: F-score is ill-defined and being set to 0.0 due to no true nor predicted samples. Use `zero_division` parameter to control this behavior.\n",
      "  _warn_prf(average, \"true nor predicted\", \"F-score is\", len(true_sum))\n",
      "/opt/conda/lib/python3.9/site-packages/sklearn/metrics/_classification.py:1609: UndefinedMetricWarning: F-score is ill-defined and being set to 0.0 due to no true nor predicted samples. Use `zero_division` parameter to control this behavior.\n",
      "  _warn_prf(average, \"true nor predicted\", \"F-score is\", len(true_sum))\n",
      "/opt/conda/lib/python3.9/site-packages/sklearn/metrics/_classification.py:1609: UndefinedMetricWarning: F-score is ill-defined and being set to 0.0 due to no true nor predicted samples. Use `zero_division` parameter to control this behavior.\n",
      "  _warn_prf(average, \"true nor predicted\", \"F-score is\", len(true_sum))\n",
      "/opt/conda/lib/python3.9/site-packages/sklearn/metrics/_classification.py:1609: UndefinedMetricWarning: F-score is ill-defined and being set to 0.0 due to no true nor predicted samples. Use `zero_division` parameter to control this behavior.\n",
      "  _warn_prf(average, \"true nor predicted\", \"F-score is\", len(true_sum))\n",
      "/opt/conda/lib/python3.9/site-packages/sklearn/model_selection/_validation.py:378: FitFailedWarning: \n",
      "18 fits failed out of a total of 54.\n",
      "The score on these train-test partitions for these parameters will be set to nan.\n",
      "If these failures are not expected, you can try to debug them by setting error_score='raise'.\n",
      "\n",
      "Below are more details about the failures:\n",
      "--------------------------------------------------------------------------------\n",
      "18 fits failed with the following error:\n",
      "Traceback (most recent call last):\n",
      "  File \"/opt/conda/lib/python3.9/site-packages/sklearn/model_selection/_validation.py\", line 686, in _fit_and_score\n",
      "    estimator.fit(X_train, y_train, **fit_params)\n",
      "  File \"/opt/conda/lib/python3.9/site-packages/sklearn/pipeline.py\", line 405, in fit\n",
      "    self._final_estimator.fit(Xt, y, **fit_params_last_step)\n",
      "  File \"/opt/conda/lib/python3.9/site-packages/sklearn/linear_model/_logistic.py\", line 1241, in fit\n",
      "    raise ValueError(\n",
      "ValueError: This solver needs samples of at least 2 classes in the data, but the data contains only one class: 0\n",
      "\n",
      "  warnings.warn(some_fits_failed_message, FitFailedWarning)\n",
      "/opt/conda/lib/python3.9/site-packages/sklearn/model_selection/_search.py:952: UserWarning: One or more of the test scores are non-finite: [nan nan nan nan nan nan nan nan nan nan nan nan nan nan nan nan nan nan]\n",
      "  warnings.warn(\n",
      "/opt/conda/lib/python3.9/site-packages/sklearn/model_selection/_search.py:952: UserWarning: One or more of the train scores are non-finite: [nan nan nan nan nan nan nan nan nan nan nan nan nan nan nan nan nan nan]\n",
      "  warnings.warn(\n",
      "/opt/conda/lib/python3.9/site-packages/sklearn/model_selection/_search.py:952: UserWarning: One or more of the test scores are non-finite: [nan nan nan nan nan nan nan nan nan nan nan nan nan nan nan nan nan nan\n",
      "  0.  0.  0.  0.  0.  0.]\n",
      "  warnings.warn(\n",
      "/opt/conda/lib/python3.9/site-packages/sklearn/model_selection/_search.py:952: UserWarning: One or more of the train scores are non-finite: [nan nan nan nan nan nan nan nan nan nan nan nan nan nan nan nan nan nan\n",
      "  0.  0.  0.  0.  1.  1.]\n",
      "  warnings.warn(\n",
      "/opt/conda/lib/python3.9/site-packages/sklearn/model_selection/_search.py:952: UserWarning: One or more of the test scores are non-finite: [nan nan nan nan nan nan nan nan nan nan nan nan nan nan nan nan nan nan\n",
      "  0.  0.  0.  0.  0.  0.  0.  0.]\n",
      "  warnings.warn(\n",
      "/opt/conda/lib/python3.9/site-packages/sklearn/model_selection/_search.py:952: UserWarning: One or more of the train scores are non-finite: [nan nan nan nan nan nan nan nan nan nan nan nan nan nan nan nan nan nan\n",
      "  0.  0.  0.  0.  1.  1.  1.  1.]\n",
      "  warnings.warn(\n"
     ]
    },
    {
     "name": "stdout",
     "output_type": "stream",
     "text": [
      "CPU times: user 49.5 s, sys: 0 ns, total: 49.5 s\n",
      "Wall time: 49.8 s\n"
     ]
    },
    {
     "name": "stderr",
     "output_type": "stream",
     "text": [
      "/opt/conda/lib/python3.9/site-packages/sklearn/linear_model/_logistic.py:458: ConvergenceWarning: lbfgs failed to converge (status=1):\n",
      "STOP: TOTAL NO. of ITERATIONS REACHED LIMIT.\n",
      "\n",
      "Increase the number of iterations (max_iter) or scale the data as shown in:\n",
      "    https://scikit-learn.org/stable/modules/preprocessing.html\n",
      "Please also refer to the documentation for alternative solver options:\n",
      "    https://scikit-learn.org/stable/modules/linear_model.html#logistic-regression\n",
      "  n_iter_i = _check_optimize_result(\n"
     ]
    }
   ],
   "source": [
    "%%time\n",
    "\n",
    "\n",
    "pipeline = Pipeline([('tfidf', TfidfVectorizer(stop_words='english', \n",
    "                                               sublinear_tf=True)),\n",
    "                     ('lr', LogisticRegression(random_state=15))])\n",
    "# Найдем лучшие гиперпараметры модели\n",
    "param_lr = {'tfidf__max_df': (.25, .5, .75),\n",
    "            'tfidf__ngram_range': [(1, 1), (1, 2)],\n",
    "            'lr__C':[1, 5, 10]}\n",
    "# Применим гридсеч\n",
    "lr_grid = HalvingRandomSearchCV(pipeline,\n",
    "                       param_lr, \n",
    "                       scoring='f1', \n",
    "                       cv=3, n_jobs=-1)\n",
    "# Обучаем на тренировачных ресемплированных выборках\n",
    "lr_grid.fit(features_train, target_train)\n",
    "\n",
    "lr_best_params = lr_grid.best_params_\n",
    "\n",
    "best_score_lr = lr_grid.best_score_\n",
    "\n",
    "best_score_lr = round(best_score_lr, 3)"
   ]
  },
  {
   "cell_type": "code",
   "execution_count": 60,
   "metadata": {},
   "outputs": [
    {
     "name": "stdout",
     "output_type": "stream",
     "text": [
      "Лучшие гиперпараметры: {'tfidf__ngram_range': (1, 1), 'tfidf__max_df': 0.75, 'lr__C': 10}\n",
      "F1 на тренировачной выборке: 0.0\n"
     ]
    }
   ],
   "source": [
    "# f1 на тренировачной выборке\n",
    "print('Лучшие гиперпараметры:', lr_best_params)            \n",
    "print('F1 на тренировачной выборке:', round(best_score_lr, 3))"
   ]
  },
  {
   "cell_type": "markdown",
   "metadata": {},
   "source": [
    "#### Модель DecisionTreeClassifier"
   ]
  },
  {
   "cell_type": "code",
   "execution_count": 62,
   "metadata": {},
   "outputs": [
    {
     "name": "stderr",
     "output_type": "stream",
     "text": [
      "/opt/conda/lib/python3.9/site-packages/sklearn/model_selection/_search.py:305: UserWarning: The total space of parameters 24 is smaller than n_iter=10619. Running 24 iterations. For exhaustive searches, use GridSearchCV.\n",
      "  warnings.warn(\n",
      "/opt/conda/lib/python3.9/site-packages/sklearn/metrics/_classification.py:1609: UndefinedMetricWarning: F-score is ill-defined and being set to 0.0 due to no true nor predicted samples. Use `zero_division` parameter to control this behavior.\n",
      "  _warn_prf(average, \"true nor predicted\", \"F-score is\", len(true_sum))\n",
      "/opt/conda/lib/python3.9/site-packages/sklearn/metrics/_classification.py:1609: UndefinedMetricWarning: F-score is ill-defined and being set to 0.0 due to no true nor predicted samples. Use `zero_division` parameter to control this behavior.\n",
      "  _warn_prf(average, \"true nor predicted\", \"F-score is\", len(true_sum))\n",
      "/opt/conda/lib/python3.9/site-packages/sklearn/metrics/_classification.py:1609: UndefinedMetricWarning: F-score is ill-defined and being set to 0.0 due to no true nor predicted samples. Use `zero_division` parameter to control this behavior.\n",
      "  _warn_prf(average, \"true nor predicted\", \"F-score is\", len(true_sum))\n",
      "/opt/conda/lib/python3.9/site-packages/sklearn/metrics/_classification.py:1609: UndefinedMetricWarning: F-score is ill-defined and being set to 0.0 due to no true nor predicted samples. Use `zero_division` parameter to control this behavior.\n",
      "  _warn_prf(average, \"true nor predicted\", \"F-score is\", len(true_sum))\n",
      "/opt/conda/lib/python3.9/site-packages/sklearn/metrics/_classification.py:1609: UndefinedMetricWarning: F-score is ill-defined and being set to 0.0 due to no true nor predicted samples. Use `zero_division` parameter to control this behavior.\n",
      "  _warn_prf(average, \"true nor predicted\", \"F-score is\", len(true_sum))\n",
      "/opt/conda/lib/python3.9/site-packages/sklearn/metrics/_classification.py:1609: UndefinedMetricWarning: F-score is ill-defined and being set to 0.0 due to no true nor predicted samples. Use `zero_division` parameter to control this behavior.\n",
      "  _warn_prf(average, \"true nor predicted\", \"F-score is\", len(true_sum))\n",
      "/opt/conda/lib/python3.9/site-packages/sklearn/metrics/_classification.py:1609: UndefinedMetricWarning: F-score is ill-defined and being set to 0.0 due to no true nor predicted samples. Use `zero_division` parameter to control this behavior.\n",
      "  _warn_prf(average, \"true nor predicted\", \"F-score is\", len(true_sum))\n",
      "/opt/conda/lib/python3.9/site-packages/sklearn/metrics/_classification.py:1609: UndefinedMetricWarning: F-score is ill-defined and being set to 0.0 due to no true nor predicted samples. Use `zero_division` parameter to control this behavior.\n",
      "  _warn_prf(average, \"true nor predicted\", \"F-score is\", len(true_sum))\n",
      "/opt/conda/lib/python3.9/site-packages/sklearn/metrics/_classification.py:1609: UndefinedMetricWarning: F-score is ill-defined and being set to 0.0 due to no true nor predicted samples. Use `zero_division` parameter to control this behavior.\n",
      "  _warn_prf(average, \"true nor predicted\", \"F-score is\", len(true_sum))\n",
      "/opt/conda/lib/python3.9/site-packages/sklearn/metrics/_classification.py:1609: UndefinedMetricWarning: F-score is ill-defined and being set to 0.0 due to no true nor predicted samples. Use `zero_division` parameter to control this behavior.\n",
      "  _warn_prf(average, \"true nor predicted\", \"F-score is\", len(true_sum))\n",
      "/opt/conda/lib/python3.9/site-packages/sklearn/metrics/_classification.py:1609: UndefinedMetricWarning: F-score is ill-defined and being set to 0.0 due to no true nor predicted samples. Use `zero_division` parameter to control this behavior.\n",
      "  _warn_prf(average, \"true nor predicted\", \"F-score is\", len(true_sum))\n",
      "/opt/conda/lib/python3.9/site-packages/sklearn/metrics/_classification.py:1609: UndefinedMetricWarning: F-score is ill-defined and being set to 0.0 due to no true nor predicted samples. Use `zero_division` parameter to control this behavior.\n",
      "  _warn_prf(average, \"true nor predicted\", \"F-score is\", len(true_sum))\n",
      "/opt/conda/lib/python3.9/site-packages/sklearn/metrics/_classification.py:1609: UndefinedMetricWarning: F-score is ill-defined and being set to 0.0 due to no true nor predicted samples. Use `zero_division` parameter to control this behavior.\n",
      "  _warn_prf(average, \"true nor predicted\", \"F-score is\", len(true_sum))\n",
      "/opt/conda/lib/python3.9/site-packages/sklearn/metrics/_classification.py:1609: UndefinedMetricWarning: F-score is ill-defined and being set to 0.0 due to no true nor predicted samples. Use `zero_division` parameter to control this behavior.\n",
      "  _warn_prf(average, \"true nor predicted\", \"F-score is\", len(true_sum))\n",
      "/opt/conda/lib/python3.9/site-packages/sklearn/metrics/_classification.py:1609: UndefinedMetricWarning: F-score is ill-defined and being set to 0.0 due to no true nor predicted samples. Use `zero_division` parameter to control this behavior.\n",
      "  _warn_prf(average, \"true nor predicted\", \"F-score is\", len(true_sum))\n",
      "/opt/conda/lib/python3.9/site-packages/sklearn/metrics/_classification.py:1609: UndefinedMetricWarning: F-score is ill-defined and being set to 0.0 due to no true nor predicted samples. Use `zero_division` parameter to control this behavior.\n",
      "  _warn_prf(average, \"true nor predicted\", \"F-score is\", len(true_sum))\n",
      "/opt/conda/lib/python3.9/site-packages/sklearn/metrics/_classification.py:1609: UndefinedMetricWarning: F-score is ill-defined and being set to 0.0 due to no true nor predicted samples. Use `zero_division` parameter to control this behavior.\n",
      "  _warn_prf(average, \"true nor predicted\", \"F-score is\", len(true_sum))\n",
      "/opt/conda/lib/python3.9/site-packages/sklearn/metrics/_classification.py:1609: UndefinedMetricWarning: F-score is ill-defined and being set to 0.0 due to no true nor predicted samples. Use `zero_division` parameter to control this behavior.\n",
      "  _warn_prf(average, \"true nor predicted\", \"F-score is\", len(true_sum))\n",
      "/opt/conda/lib/python3.9/site-packages/sklearn/metrics/_classification.py:1609: UndefinedMetricWarning: F-score is ill-defined and being set to 0.0 due to no true nor predicted samples. Use `zero_division` parameter to control this behavior.\n",
      "  _warn_prf(average, \"true nor predicted\", \"F-score is\", len(true_sum))\n",
      "/opt/conda/lib/python3.9/site-packages/sklearn/metrics/_classification.py:1609: UndefinedMetricWarning: F-score is ill-defined and being set to 0.0 due to no true nor predicted samples. Use `zero_division` parameter to control this behavior.\n",
      "  _warn_prf(average, \"true nor predicted\", \"F-score is\", len(true_sum))\n",
      "/opt/conda/lib/python3.9/site-packages/sklearn/metrics/_classification.py:1609: UndefinedMetricWarning: F-score is ill-defined and being set to 0.0 due to no true nor predicted samples. Use `zero_division` parameter to control this behavior.\n",
      "  _warn_prf(average, \"true nor predicted\", \"F-score is\", len(true_sum))\n",
      "/opt/conda/lib/python3.9/site-packages/sklearn/metrics/_classification.py:1609: UndefinedMetricWarning: F-score is ill-defined and being set to 0.0 due to no true nor predicted samples. Use `zero_division` parameter to control this behavior.\n",
      "  _warn_prf(average, \"true nor predicted\", \"F-score is\", len(true_sum))\n",
      "/opt/conda/lib/python3.9/site-packages/sklearn/metrics/_classification.py:1609: UndefinedMetricWarning: F-score is ill-defined and being set to 0.0 due to no true nor predicted samples. Use `zero_division` parameter to control this behavior.\n",
      "  _warn_prf(average, \"true nor predicted\", \"F-score is\", len(true_sum))\n",
      "/opt/conda/lib/python3.9/site-packages/sklearn/metrics/_classification.py:1609: UndefinedMetricWarning: F-score is ill-defined and being set to 0.0 due to no true nor predicted samples. Use `zero_division` parameter to control this behavior.\n",
      "  _warn_prf(average, \"true nor predicted\", \"F-score is\", len(true_sum))\n",
      "/opt/conda/lib/python3.9/site-packages/sklearn/metrics/_classification.py:1609: UndefinedMetricWarning: F-score is ill-defined and being set to 0.0 due to no true nor predicted samples. Use `zero_division` parameter to control this behavior.\n",
      "  _warn_prf(average, \"true nor predicted\", \"F-score is\", len(true_sum))\n",
      "/opt/conda/lib/python3.9/site-packages/sklearn/metrics/_classification.py:1609: UndefinedMetricWarning: F-score is ill-defined and being set to 0.0 due to no true nor predicted samples. Use `zero_division` parameter to control this behavior.\n",
      "  _warn_prf(average, \"true nor predicted\", \"F-score is\", len(true_sum))\n",
      "/opt/conda/lib/python3.9/site-packages/sklearn/metrics/_classification.py:1609: UndefinedMetricWarning: F-score is ill-defined and being set to 0.0 due to no true nor predicted samples. Use `zero_division` parameter to control this behavior.\n",
      "  _warn_prf(average, \"true nor predicted\", \"F-score is\", len(true_sum))\n",
      "/opt/conda/lib/python3.9/site-packages/sklearn/metrics/_classification.py:1609: UndefinedMetricWarning: F-score is ill-defined and being set to 0.0 due to no true nor predicted samples. Use `zero_division` parameter to control this behavior.\n",
      "  _warn_prf(average, \"true nor predicted\", \"F-score is\", len(true_sum))\n",
      "/opt/conda/lib/python3.9/site-packages/sklearn/metrics/_classification.py:1609: UndefinedMetricWarning: F-score is ill-defined and being set to 0.0 due to no true nor predicted samples. Use `zero_division` parameter to control this behavior.\n",
      "  _warn_prf(average, \"true nor predicted\", \"F-score is\", len(true_sum))\n",
      "/opt/conda/lib/python3.9/site-packages/sklearn/metrics/_classification.py:1609: UndefinedMetricWarning: F-score is ill-defined and being set to 0.0 due to no true nor predicted samples. Use `zero_division` parameter to control this behavior.\n",
      "  _warn_prf(average, \"true nor predicted\", \"F-score is\", len(true_sum))\n",
      "/opt/conda/lib/python3.9/site-packages/sklearn/metrics/_classification.py:1609: UndefinedMetricWarning: F-score is ill-defined and being set to 0.0 due to no true nor predicted samples. Use `zero_division` parameter to control this behavior.\n",
      "  _warn_prf(average, \"true nor predicted\", \"F-score is\", len(true_sum))\n",
      "/opt/conda/lib/python3.9/site-packages/sklearn/metrics/_classification.py:1609: UndefinedMetricWarning: F-score is ill-defined and being set to 0.0 due to no true nor predicted samples. Use `zero_division` parameter to control this behavior.\n",
      "  _warn_prf(average, \"true nor predicted\", \"F-score is\", len(true_sum))\n",
      "/opt/conda/lib/python3.9/site-packages/sklearn/metrics/_classification.py:1609: UndefinedMetricWarning: F-score is ill-defined and being set to 0.0 due to no true nor predicted samples. Use `zero_division` parameter to control this behavior.\n",
      "  _warn_prf(average, \"true nor predicted\", \"F-score is\", len(true_sum))\n",
      "/opt/conda/lib/python3.9/site-packages/sklearn/metrics/_classification.py:1609: UndefinedMetricWarning: F-score is ill-defined and being set to 0.0 due to no true nor predicted samples. Use `zero_division` parameter to control this behavior.\n",
      "  _warn_prf(average, \"true nor predicted\", \"F-score is\", len(true_sum))\n",
      "/opt/conda/lib/python3.9/site-packages/sklearn/metrics/_classification.py:1609: UndefinedMetricWarning: F-score is ill-defined and being set to 0.0 due to no true nor predicted samples. Use `zero_division` parameter to control this behavior.\n",
      "  _warn_prf(average, \"true nor predicted\", \"F-score is\", len(true_sum))\n",
      "/opt/conda/lib/python3.9/site-packages/sklearn/metrics/_classification.py:1609: UndefinedMetricWarning: F-score is ill-defined and being set to 0.0 due to no true nor predicted samples. Use `zero_division` parameter to control this behavior.\n",
      "  _warn_prf(average, \"true nor predicted\", \"F-score is\", len(true_sum))\n",
      "/opt/conda/lib/python3.9/site-packages/sklearn/metrics/_classification.py:1609: UndefinedMetricWarning: F-score is ill-defined and being set to 0.0 due to no true nor predicted samples. Use `zero_division` parameter to control this behavior.\n",
      "  _warn_prf(average, \"true nor predicted\", \"F-score is\", len(true_sum))\n",
      "/opt/conda/lib/python3.9/site-packages/sklearn/metrics/_classification.py:1609: UndefinedMetricWarning: F-score is ill-defined and being set to 0.0 due to no true nor predicted samples. Use `zero_division` parameter to control this behavior.\n",
      "  _warn_prf(average, \"true nor predicted\", \"F-score is\", len(true_sum))\n",
      "/opt/conda/lib/python3.9/site-packages/sklearn/metrics/_classification.py:1609: UndefinedMetricWarning: F-score is ill-defined and being set to 0.0 due to no true nor predicted samples. Use `zero_division` parameter to control this behavior.\n",
      "  _warn_prf(average, \"true nor predicted\", \"F-score is\", len(true_sum))\n",
      "/opt/conda/lib/python3.9/site-packages/sklearn/metrics/_classification.py:1609: UndefinedMetricWarning: F-score is ill-defined and being set to 0.0 due to no true nor predicted samples. Use `zero_division` parameter to control this behavior.\n",
      "  _warn_prf(average, \"true nor predicted\", \"F-score is\", len(true_sum))\n",
      "/opt/conda/lib/python3.9/site-packages/sklearn/metrics/_classification.py:1609: UndefinedMetricWarning: F-score is ill-defined and being set to 0.0 due to no true nor predicted samples. Use `zero_division` parameter to control this behavior.\n",
      "  _warn_prf(average, \"true nor predicted\", \"F-score is\", len(true_sum))\n",
      "/opt/conda/lib/python3.9/site-packages/sklearn/metrics/_classification.py:1609: UndefinedMetricWarning: F-score is ill-defined and being set to 0.0 due to no true nor predicted samples. Use `zero_division` parameter to control this behavior.\n",
      "  _warn_prf(average, \"true nor predicted\", \"F-score is\", len(true_sum))\n",
      "/opt/conda/lib/python3.9/site-packages/sklearn/metrics/_classification.py:1609: UndefinedMetricWarning: F-score is ill-defined and being set to 0.0 due to no true nor predicted samples. Use `zero_division` parameter to control this behavior.\n",
      "  _warn_prf(average, \"true nor predicted\", \"F-score is\", len(true_sum))\n",
      "/opt/conda/lib/python3.9/site-packages/sklearn/metrics/_classification.py:1609: UndefinedMetricWarning: F-score is ill-defined and being set to 0.0 due to no true nor predicted samples. Use `zero_division` parameter to control this behavior.\n",
      "  _warn_prf(average, \"true nor predicted\", \"F-score is\", len(true_sum))\n",
      "/opt/conda/lib/python3.9/site-packages/sklearn/metrics/_classification.py:1609: UndefinedMetricWarning: F-score is ill-defined and being set to 0.0 due to no true nor predicted samples. Use `zero_division` parameter to control this behavior.\n",
      "  _warn_prf(average, \"true nor predicted\", \"F-score is\", len(true_sum))\n",
      "/opt/conda/lib/python3.9/site-packages/sklearn/metrics/_classification.py:1609: UndefinedMetricWarning: F-score is ill-defined and being set to 0.0 due to no true nor predicted samples. Use `zero_division` parameter to control this behavior.\n",
      "  _warn_prf(average, \"true nor predicted\", \"F-score is\", len(true_sum))\n",
      "/opt/conda/lib/python3.9/site-packages/sklearn/metrics/_classification.py:1609: UndefinedMetricWarning: F-score is ill-defined and being set to 0.0 due to no true nor predicted samples. Use `zero_division` parameter to control this behavior.\n",
      "  _warn_prf(average, \"true nor predicted\", \"F-score is\", len(true_sum))\n",
      "/opt/conda/lib/python3.9/site-packages/sklearn/metrics/_classification.py:1609: UndefinedMetricWarning: F-score is ill-defined and being set to 0.0 due to no true nor predicted samples. Use `zero_division` parameter to control this behavior.\n",
      "  _warn_prf(average, \"true nor predicted\", \"F-score is\", len(true_sum))\n",
      "/opt/conda/lib/python3.9/site-packages/sklearn/metrics/_classification.py:1609: UndefinedMetricWarning: F-score is ill-defined and being set to 0.0 due to no true nor predicted samples. Use `zero_division` parameter to control this behavior.\n",
      "  _warn_prf(average, \"true nor predicted\", \"F-score is\", len(true_sum))\n",
      "/opt/conda/lib/python3.9/site-packages/sklearn/metrics/_classification.py:1609: UndefinedMetricWarning: F-score is ill-defined and being set to 0.0 due to no true nor predicted samples. Use `zero_division` parameter to control this behavior.\n",
      "  _warn_prf(average, \"true nor predicted\", \"F-score is\", len(true_sum))\n",
      "/opt/conda/lib/python3.9/site-packages/sklearn/metrics/_classification.py:1609: UndefinedMetricWarning: F-score is ill-defined and being set to 0.0 due to no true nor predicted samples. Use `zero_division` parameter to control this behavior.\n",
      "  _warn_prf(average, \"true nor predicted\", \"F-score is\", len(true_sum))\n",
      "/opt/conda/lib/python3.9/site-packages/sklearn/metrics/_classification.py:1609: UndefinedMetricWarning: F-score is ill-defined and being set to 0.0 due to no true nor predicted samples. Use `zero_division` parameter to control this behavior.\n",
      "  _warn_prf(average, \"true nor predicted\", \"F-score is\", len(true_sum))\n",
      "/opt/conda/lib/python3.9/site-packages/sklearn/metrics/_classification.py:1609: UndefinedMetricWarning: F-score is ill-defined and being set to 0.0 due to no true nor predicted samples. Use `zero_division` parameter to control this behavior.\n",
      "  _warn_prf(average, \"true nor predicted\", \"F-score is\", len(true_sum))\n",
      "/opt/conda/lib/python3.9/site-packages/sklearn/metrics/_classification.py:1609: UndefinedMetricWarning: F-score is ill-defined and being set to 0.0 due to no true nor predicted samples. Use `zero_division` parameter to control this behavior.\n",
      "  _warn_prf(average, \"true nor predicted\", \"F-score is\", len(true_sum))\n",
      "/opt/conda/lib/python3.9/site-packages/sklearn/metrics/_classification.py:1609: UndefinedMetricWarning: F-score is ill-defined and being set to 0.0 due to no true nor predicted samples. Use `zero_division` parameter to control this behavior.\n",
      "  _warn_prf(average, \"true nor predicted\", \"F-score is\", len(true_sum))\n",
      "/opt/conda/lib/python3.9/site-packages/sklearn/metrics/_classification.py:1609: UndefinedMetricWarning: F-score is ill-defined and being set to 0.0 due to no true nor predicted samples. Use `zero_division` parameter to control this behavior.\n",
      "  _warn_prf(average, \"true nor predicted\", \"F-score is\", len(true_sum))\n",
      "/opt/conda/lib/python3.9/site-packages/sklearn/metrics/_classification.py:1609: UndefinedMetricWarning: F-score is ill-defined and being set to 0.0 due to no true nor predicted samples. Use `zero_division` parameter to control this behavior.\n",
      "  _warn_prf(average, \"true nor predicted\", \"F-score is\", len(true_sum))\n",
      "/opt/conda/lib/python3.9/site-packages/sklearn/metrics/_classification.py:1609: UndefinedMetricWarning: F-score is ill-defined and being set to 0.0 due to no true nor predicted samples. Use `zero_division` parameter to control this behavior.\n",
      "  _warn_prf(average, \"true nor predicted\", \"F-score is\", len(true_sum))\n",
      "/opt/conda/lib/python3.9/site-packages/sklearn/metrics/_classification.py:1609: UndefinedMetricWarning: F-score is ill-defined and being set to 0.0 due to no true nor predicted samples. Use `zero_division` parameter to control this behavior.\n",
      "  _warn_prf(average, \"true nor predicted\", \"F-score is\", len(true_sum))\n",
      "/opt/conda/lib/python3.9/site-packages/sklearn/metrics/_classification.py:1609: UndefinedMetricWarning: F-score is ill-defined and being set to 0.0 due to no true nor predicted samples. Use `zero_division` parameter to control this behavior.\n",
      "  _warn_prf(average, \"true nor predicted\", \"F-score is\", len(true_sum))\n",
      "/opt/conda/lib/python3.9/site-packages/sklearn/metrics/_classification.py:1609: UndefinedMetricWarning: F-score is ill-defined and being set to 0.0 due to no true nor predicted samples. Use `zero_division` parameter to control this behavior.\n",
      "  _warn_prf(average, \"true nor predicted\", \"F-score is\", len(true_sum))\n",
      "/opt/conda/lib/python3.9/site-packages/sklearn/metrics/_classification.py:1609: UndefinedMetricWarning: F-score is ill-defined and being set to 0.0 due to no true nor predicted samples. Use `zero_division` parameter to control this behavior.\n",
      "  _warn_prf(average, \"true nor predicted\", \"F-score is\", len(true_sum))\n",
      "/opt/conda/lib/python3.9/site-packages/sklearn/metrics/_classification.py:1609: UndefinedMetricWarning: F-score is ill-defined and being set to 0.0 due to no true nor predicted samples. Use `zero_division` parameter to control this behavior.\n",
      "  _warn_prf(average, \"true nor predicted\", \"F-score is\", len(true_sum))\n",
      "/opt/conda/lib/python3.9/site-packages/sklearn/metrics/_classification.py:1609: UndefinedMetricWarning: F-score is ill-defined and being set to 0.0 due to no true nor predicted samples. Use `zero_division` parameter to control this behavior.\n",
      "  _warn_prf(average, \"true nor predicted\", \"F-score is\", len(true_sum))\n",
      "/opt/conda/lib/python3.9/site-packages/sklearn/metrics/_classification.py:1609: UndefinedMetricWarning: F-score is ill-defined and being set to 0.0 due to no true nor predicted samples. Use `zero_division` parameter to control this behavior.\n",
      "  _warn_prf(average, \"true nor predicted\", \"F-score is\", len(true_sum))\n",
      "/opt/conda/lib/python3.9/site-packages/sklearn/metrics/_classification.py:1609: UndefinedMetricWarning: F-score is ill-defined and being set to 0.0 due to no true nor predicted samples. Use `zero_division` parameter to control this behavior.\n",
      "  _warn_prf(average, \"true nor predicted\", \"F-score is\", len(true_sum))\n",
      "/opt/conda/lib/python3.9/site-packages/sklearn/metrics/_classification.py:1609: UndefinedMetricWarning: F-score is ill-defined and being set to 0.0 due to no true nor predicted samples. Use `zero_division` parameter to control this behavior.\n",
      "  _warn_prf(average, \"true nor predicted\", \"F-score is\", len(true_sum))\n",
      "/opt/conda/lib/python3.9/site-packages/sklearn/metrics/_classification.py:1609: UndefinedMetricWarning: F-score is ill-defined and being set to 0.0 due to no true nor predicted samples. Use `zero_division` parameter to control this behavior.\n",
      "  _warn_prf(average, \"true nor predicted\", \"F-score is\", len(true_sum))\n",
      "/opt/conda/lib/python3.9/site-packages/sklearn/metrics/_classification.py:1609: UndefinedMetricWarning: F-score is ill-defined and being set to 0.0 due to no true nor predicted samples. Use `zero_division` parameter to control this behavior.\n",
      "  _warn_prf(average, \"true nor predicted\", \"F-score is\", len(true_sum))\n",
      "/opt/conda/lib/python3.9/site-packages/sklearn/metrics/_classification.py:1609: UndefinedMetricWarning: F-score is ill-defined and being set to 0.0 due to no true nor predicted samples. Use `zero_division` parameter to control this behavior.\n",
      "  _warn_prf(average, \"true nor predicted\", \"F-score is\", len(true_sum))\n",
      "/opt/conda/lib/python3.9/site-packages/sklearn/metrics/_classification.py:1609: UndefinedMetricWarning: F-score is ill-defined and being set to 0.0 due to no true nor predicted samples. Use `zero_division` parameter to control this behavior.\n",
      "  _warn_prf(average, \"true nor predicted\", \"F-score is\", len(true_sum))\n",
      "/opt/conda/lib/python3.9/site-packages/sklearn/metrics/_classification.py:1609: UndefinedMetricWarning: F-score is ill-defined and being set to 0.0 due to no true nor predicted samples. Use `zero_division` parameter to control this behavior.\n",
      "  _warn_prf(average, \"true nor predicted\", \"F-score is\", len(true_sum))\n"
     ]
    },
    {
     "ename": "TypeError",
     "evalue": "'numpy.float64' object is not iterable",
     "output_type": "error",
     "traceback": [
      "\u001b[0;31m---------------------------------------------------------------------------\u001b[0m",
      "\u001b[0;31mTypeError\u001b[0m                                 Traceback (most recent call last)",
      "\u001b[0;32m<timed exec>\u001b[0m in \u001b[0;36m<module>\u001b[0;34m\u001b[0m\n",
      "\u001b[0;31mTypeError\u001b[0m: 'numpy.float64' object is not iterable"
     ]
    }
   ],
   "source": [
    "%%time\n",
    "pipeline = Pipeline([('tfidf', TfidfVectorizer(stop_words='english')),\n",
    "                     ('dtc', DecisionTreeClassifier())])\n",
    "# Найдем лучшие гиперпараметры модели\n",
    "param_dtr = {'dtc__max_depth': ([x for x in range(1, 25)]),\n",
    "             'dtc__random_state': ([15]), \n",
    "             'dtc__class_weight': (['balanced'])}\n",
    "# Применим гридсеч\n",
    "dtr_grid = HalvingRandomSearchCV(pipeline, \n",
    "                               param_dtr, \n",
    "                               scoring='f1',\n",
    "                               cv=3, n_jobs=-1)\n",
    "\n",
    "# Обучаем на тренировачных ресемплированных выборках\n",
    "dtr_grid.fit(features_train, target_train)\n",
    "dtr_best_params = dtr_grid.best_params_\n",
    "\n",
    "best_score_dtr = dtr_grid.best_score_\n",
    "\n",
    "best_score_dtr = round(max(best_score_dtr),3)"
   ]
  },
  {
   "cell_type": "code",
   "execution_count": 63,
   "metadata": {},
   "outputs": [
    {
     "name": "stdout",
     "output_type": "stream",
     "text": [
      "Лучшие гиперпараметры: {'dtc__random_state': 15, 'dtc__max_depth': 2, 'dtc__class_weight': 'balanced'}\n",
      "F1 на тренировачной выборке: 0.2814814814814815\n"
     ]
    }
   ],
   "source": [
    "# f1 на тренировачной выборке\n",
    "print('Лучшие гиперпараметры:', dtr_best_params)\n",
    "print('F1 на тренировачной выборке:', best_score_dtr) "
   ]
  },
  {
   "cell_type": "markdown",
   "metadata": {},
   "source": [
    "#### Модель RandomForestClassifier()"
   ]
  },
  {
   "cell_type": "code",
   "execution_count": 64,
   "metadata": {},
   "outputs": [
    {
     "name": "stderr",
     "output_type": "stream",
     "text": [
      "/opt/conda/lib/python3.9/site-packages/sklearn/model_selection/_search.py:305: UserWarning: The total space of parameters 24 is smaller than n_iter=10619. Running 24 iterations. For exhaustive searches, use GridSearchCV.\n",
      "  warnings.warn(\n",
      "/opt/conda/lib/python3.9/site-packages/sklearn/metrics/_classification.py:1609: UndefinedMetricWarning: F-score is ill-defined and being set to 0.0 due to no true nor predicted samples. Use `zero_division` parameter to control this behavior.\n",
      "  _warn_prf(average, \"true nor predicted\", \"F-score is\", len(true_sum))\n",
      "/opt/conda/lib/python3.9/site-packages/sklearn/metrics/_classification.py:1609: UndefinedMetricWarning: F-score is ill-defined and being set to 0.0 due to no true nor predicted samples. Use `zero_division` parameter to control this behavior.\n",
      "  _warn_prf(average, \"true nor predicted\", \"F-score is\", len(true_sum))\n",
      "/opt/conda/lib/python3.9/site-packages/sklearn/metrics/_classification.py:1609: UndefinedMetricWarning: F-score is ill-defined and being set to 0.0 due to no true nor predicted samples. Use `zero_division` parameter to control this behavior.\n",
      "  _warn_prf(average, \"true nor predicted\", \"F-score is\", len(true_sum))\n",
      "/opt/conda/lib/python3.9/site-packages/sklearn/metrics/_classification.py:1609: UndefinedMetricWarning: F-score is ill-defined and being set to 0.0 due to no true nor predicted samples. Use `zero_division` parameter to control this behavior.\n",
      "  _warn_prf(average, \"true nor predicted\", \"F-score is\", len(true_sum))\n",
      "/opt/conda/lib/python3.9/site-packages/sklearn/metrics/_classification.py:1609: UndefinedMetricWarning: F-score is ill-defined and being set to 0.0 due to no true nor predicted samples. Use `zero_division` parameter to control this behavior.\n",
      "  _warn_prf(average, \"true nor predicted\", \"F-score is\", len(true_sum))\n",
      "/opt/conda/lib/python3.9/site-packages/sklearn/metrics/_classification.py:1609: UndefinedMetricWarning: F-score is ill-defined and being set to 0.0 due to no true nor predicted samples. Use `zero_division` parameter to control this behavior.\n",
      "  _warn_prf(average, \"true nor predicted\", \"F-score is\", len(true_sum))\n",
      "/opt/conda/lib/python3.9/site-packages/sklearn/metrics/_classification.py:1609: UndefinedMetricWarning: F-score is ill-defined and being set to 0.0 due to no true nor predicted samples. Use `zero_division` parameter to control this behavior.\n",
      "  _warn_prf(average, \"true nor predicted\", \"F-score is\", len(true_sum))\n",
      "/opt/conda/lib/python3.9/site-packages/sklearn/metrics/_classification.py:1609: UndefinedMetricWarning: F-score is ill-defined and being set to 0.0 due to no true nor predicted samples. Use `zero_division` parameter to control this behavior.\n",
      "  _warn_prf(average, \"true nor predicted\", \"F-score is\", len(true_sum))\n",
      "/opt/conda/lib/python3.9/site-packages/sklearn/metrics/_classification.py:1609: UndefinedMetricWarning: F-score is ill-defined and being set to 0.0 due to no true nor predicted samples. Use `zero_division` parameter to control this behavior.\n",
      "  _warn_prf(average, \"true nor predicted\", \"F-score is\", len(true_sum))\n",
      "/opt/conda/lib/python3.9/site-packages/sklearn/metrics/_classification.py:1609: UndefinedMetricWarning: F-score is ill-defined and being set to 0.0 due to no true nor predicted samples. Use `zero_division` parameter to control this behavior.\n",
      "  _warn_prf(average, \"true nor predicted\", \"F-score is\", len(true_sum))\n",
      "/opt/conda/lib/python3.9/site-packages/sklearn/metrics/_classification.py:1609: UndefinedMetricWarning: F-score is ill-defined and being set to 0.0 due to no true nor predicted samples. Use `zero_division` parameter to control this behavior.\n",
      "  _warn_prf(average, \"true nor predicted\", \"F-score is\", len(true_sum))\n",
      "/opt/conda/lib/python3.9/site-packages/sklearn/metrics/_classification.py:1609: UndefinedMetricWarning: F-score is ill-defined and being set to 0.0 due to no true nor predicted samples. Use `zero_division` parameter to control this behavior.\n",
      "  _warn_prf(average, \"true nor predicted\", \"F-score is\", len(true_sum))\n",
      "/opt/conda/lib/python3.9/site-packages/sklearn/metrics/_classification.py:1609: UndefinedMetricWarning: F-score is ill-defined and being set to 0.0 due to no true nor predicted samples. Use `zero_division` parameter to control this behavior.\n",
      "  _warn_prf(average, \"true nor predicted\", \"F-score is\", len(true_sum))\n",
      "/opt/conda/lib/python3.9/site-packages/sklearn/metrics/_classification.py:1609: UndefinedMetricWarning: F-score is ill-defined and being set to 0.0 due to no true nor predicted samples. Use `zero_division` parameter to control this behavior.\n",
      "  _warn_prf(average, \"true nor predicted\", \"F-score is\", len(true_sum))\n",
      "/opt/conda/lib/python3.9/site-packages/sklearn/metrics/_classification.py:1609: UndefinedMetricWarning: F-score is ill-defined and being set to 0.0 due to no true nor predicted samples. Use `zero_division` parameter to control this behavior.\n",
      "  _warn_prf(average, \"true nor predicted\", \"F-score is\", len(true_sum))\n",
      "/opt/conda/lib/python3.9/site-packages/sklearn/metrics/_classification.py:1609: UndefinedMetricWarning: F-score is ill-defined and being set to 0.0 due to no true nor predicted samples. Use `zero_division` parameter to control this behavior.\n",
      "  _warn_prf(average, \"true nor predicted\", \"F-score is\", len(true_sum))\n",
      "/opt/conda/lib/python3.9/site-packages/sklearn/metrics/_classification.py:1609: UndefinedMetricWarning: F-score is ill-defined and being set to 0.0 due to no true nor predicted samples. Use `zero_division` parameter to control this behavior.\n",
      "  _warn_prf(average, \"true nor predicted\", \"F-score is\", len(true_sum))\n",
      "/opt/conda/lib/python3.9/site-packages/sklearn/metrics/_classification.py:1609: UndefinedMetricWarning: F-score is ill-defined and being set to 0.0 due to no true nor predicted samples. Use `zero_division` parameter to control this behavior.\n",
      "  _warn_prf(average, \"true nor predicted\", \"F-score is\", len(true_sum))\n",
      "/opt/conda/lib/python3.9/site-packages/sklearn/metrics/_classification.py:1609: UndefinedMetricWarning: F-score is ill-defined and being set to 0.0 due to no true nor predicted samples. Use `zero_division` parameter to control this behavior.\n",
      "  _warn_prf(average, \"true nor predicted\", \"F-score is\", len(true_sum))\n",
      "/opt/conda/lib/python3.9/site-packages/sklearn/metrics/_classification.py:1609: UndefinedMetricWarning: F-score is ill-defined and being set to 0.0 due to no true nor predicted samples. Use `zero_division` parameter to control this behavior.\n",
      "  _warn_prf(average, \"true nor predicted\", \"F-score is\", len(true_sum))\n",
      "/opt/conda/lib/python3.9/site-packages/sklearn/metrics/_classification.py:1609: UndefinedMetricWarning: F-score is ill-defined and being set to 0.0 due to no true nor predicted samples. Use `zero_division` parameter to control this behavior.\n",
      "  _warn_prf(average, \"true nor predicted\", \"F-score is\", len(true_sum))\n",
      "/opt/conda/lib/python3.9/site-packages/sklearn/metrics/_classification.py:1609: UndefinedMetricWarning: F-score is ill-defined and being set to 0.0 due to no true nor predicted samples. Use `zero_division` parameter to control this behavior.\n",
      "  _warn_prf(average, \"true nor predicted\", \"F-score is\", len(true_sum))\n",
      "/opt/conda/lib/python3.9/site-packages/sklearn/metrics/_classification.py:1609: UndefinedMetricWarning: F-score is ill-defined and being set to 0.0 due to no true nor predicted samples. Use `zero_division` parameter to control this behavior.\n",
      "  _warn_prf(average, \"true nor predicted\", \"F-score is\", len(true_sum))\n",
      "/opt/conda/lib/python3.9/site-packages/sklearn/metrics/_classification.py:1609: UndefinedMetricWarning: F-score is ill-defined and being set to 0.0 due to no true nor predicted samples. Use `zero_division` parameter to control this behavior.\n",
      "  _warn_prf(average, \"true nor predicted\", \"F-score is\", len(true_sum))\n",
      "/opt/conda/lib/python3.9/site-packages/sklearn/metrics/_classification.py:1609: UndefinedMetricWarning: F-score is ill-defined and being set to 0.0 due to no true nor predicted samples. Use `zero_division` parameter to control this behavior.\n",
      "  _warn_prf(average, \"true nor predicted\", \"F-score is\", len(true_sum))\n",
      "/opt/conda/lib/python3.9/site-packages/sklearn/metrics/_classification.py:1609: UndefinedMetricWarning: F-score is ill-defined and being set to 0.0 due to no true nor predicted samples. Use `zero_division` parameter to control this behavior.\n",
      "  _warn_prf(average, \"true nor predicted\", \"F-score is\", len(true_sum))\n",
      "/opt/conda/lib/python3.9/site-packages/sklearn/metrics/_classification.py:1609: UndefinedMetricWarning: F-score is ill-defined and being set to 0.0 due to no true nor predicted samples. Use `zero_division` parameter to control this behavior.\n",
      "  _warn_prf(average, \"true nor predicted\", \"F-score is\", len(true_sum))\n",
      "/opt/conda/lib/python3.9/site-packages/sklearn/metrics/_classification.py:1609: UndefinedMetricWarning: F-score is ill-defined and being set to 0.0 due to no true nor predicted samples. Use `zero_division` parameter to control this behavior.\n",
      "  _warn_prf(average, \"true nor predicted\", \"F-score is\", len(true_sum))\n",
      "/opt/conda/lib/python3.9/site-packages/sklearn/metrics/_classification.py:1609: UndefinedMetricWarning: F-score is ill-defined and being set to 0.0 due to no true nor predicted samples. Use `zero_division` parameter to control this behavior.\n",
      "  _warn_prf(average, \"true nor predicted\", \"F-score is\", len(true_sum))\n",
      "/opt/conda/lib/python3.9/site-packages/sklearn/metrics/_classification.py:1609: UndefinedMetricWarning: F-score is ill-defined and being set to 0.0 due to no true nor predicted samples. Use `zero_division` parameter to control this behavior.\n",
      "  _warn_prf(average, \"true nor predicted\", \"F-score is\", len(true_sum))\n",
      "/opt/conda/lib/python3.9/site-packages/sklearn/metrics/_classification.py:1609: UndefinedMetricWarning: F-score is ill-defined and being set to 0.0 due to no true nor predicted samples. Use `zero_division` parameter to control this behavior.\n",
      "  _warn_prf(average, \"true nor predicted\", \"F-score is\", len(true_sum))\n",
      "/opt/conda/lib/python3.9/site-packages/sklearn/metrics/_classification.py:1609: UndefinedMetricWarning: F-score is ill-defined and being set to 0.0 due to no true nor predicted samples. Use `zero_division` parameter to control this behavior.\n",
      "  _warn_prf(average, \"true nor predicted\", \"F-score is\", len(true_sum))\n",
      "/opt/conda/lib/python3.9/site-packages/sklearn/metrics/_classification.py:1609: UndefinedMetricWarning: F-score is ill-defined and being set to 0.0 due to no true nor predicted samples. Use `zero_division` parameter to control this behavior.\n",
      "  _warn_prf(average, \"true nor predicted\", \"F-score is\", len(true_sum))\n",
      "/opt/conda/lib/python3.9/site-packages/sklearn/metrics/_classification.py:1609: UndefinedMetricWarning: F-score is ill-defined and being set to 0.0 due to no true nor predicted samples. Use `zero_division` parameter to control this behavior.\n",
      "  _warn_prf(average, \"true nor predicted\", \"F-score is\", len(true_sum))\n",
      "/opt/conda/lib/python3.9/site-packages/sklearn/metrics/_classification.py:1609: UndefinedMetricWarning: F-score is ill-defined and being set to 0.0 due to no true nor predicted samples. Use `zero_division` parameter to control this behavior.\n",
      "  _warn_prf(average, \"true nor predicted\", \"F-score is\", len(true_sum))\n",
      "/opt/conda/lib/python3.9/site-packages/sklearn/metrics/_classification.py:1609: UndefinedMetricWarning: F-score is ill-defined and being set to 0.0 due to no true nor predicted samples. Use `zero_division` parameter to control this behavior.\n",
      "  _warn_prf(average, \"true nor predicted\", \"F-score is\", len(true_sum))\n",
      "/opt/conda/lib/python3.9/site-packages/sklearn/metrics/_classification.py:1609: UndefinedMetricWarning: F-score is ill-defined and being set to 0.0 due to no true nor predicted samples. Use `zero_division` parameter to control this behavior.\n",
      "  _warn_prf(average, \"true nor predicted\", \"F-score is\", len(true_sum))\n",
      "/opt/conda/lib/python3.9/site-packages/sklearn/metrics/_classification.py:1609: UndefinedMetricWarning: F-score is ill-defined and being set to 0.0 due to no true nor predicted samples. Use `zero_division` parameter to control this behavior.\n",
      "  _warn_prf(average, \"true nor predicted\", \"F-score is\", len(true_sum))\n",
      "/opt/conda/lib/python3.9/site-packages/sklearn/metrics/_classification.py:1609: UndefinedMetricWarning: F-score is ill-defined and being set to 0.0 due to no true nor predicted samples. Use `zero_division` parameter to control this behavior.\n",
      "  _warn_prf(average, \"true nor predicted\", \"F-score is\", len(true_sum))\n",
      "/opt/conda/lib/python3.9/site-packages/sklearn/metrics/_classification.py:1609: UndefinedMetricWarning: F-score is ill-defined and being set to 0.0 due to no true nor predicted samples. Use `zero_division` parameter to control this behavior.\n",
      "  _warn_prf(average, \"true nor predicted\", \"F-score is\", len(true_sum))\n",
      "/opt/conda/lib/python3.9/site-packages/sklearn/metrics/_classification.py:1609: UndefinedMetricWarning: F-score is ill-defined and being set to 0.0 due to no true nor predicted samples. Use `zero_division` parameter to control this behavior.\n",
      "  _warn_prf(average, \"true nor predicted\", \"F-score is\", len(true_sum))\n",
      "/opt/conda/lib/python3.9/site-packages/sklearn/metrics/_classification.py:1609: UndefinedMetricWarning: F-score is ill-defined and being set to 0.0 due to no true nor predicted samples. Use `zero_division` parameter to control this behavior.\n",
      "  _warn_prf(average, \"true nor predicted\", \"F-score is\", len(true_sum))\n",
      "/opt/conda/lib/python3.9/site-packages/sklearn/metrics/_classification.py:1609: UndefinedMetricWarning: F-score is ill-defined and being set to 0.0 due to no true nor predicted samples. Use `zero_division` parameter to control this behavior.\n",
      "  _warn_prf(average, \"true nor predicted\", \"F-score is\", len(true_sum))\n",
      "/opt/conda/lib/python3.9/site-packages/sklearn/metrics/_classification.py:1609: UndefinedMetricWarning: F-score is ill-defined and being set to 0.0 due to no true nor predicted samples. Use `zero_division` parameter to control this behavior.\n",
      "  _warn_prf(average, \"true nor predicted\", \"F-score is\", len(true_sum))\n",
      "/opt/conda/lib/python3.9/site-packages/sklearn/metrics/_classification.py:1609: UndefinedMetricWarning: F-score is ill-defined and being set to 0.0 due to no true nor predicted samples. Use `zero_division` parameter to control this behavior.\n",
      "  _warn_prf(average, \"true nor predicted\", \"F-score is\", len(true_sum))\n",
      "/opt/conda/lib/python3.9/site-packages/sklearn/metrics/_classification.py:1609: UndefinedMetricWarning: F-score is ill-defined and being set to 0.0 due to no true nor predicted samples. Use `zero_division` parameter to control this behavior.\n",
      "  _warn_prf(average, \"true nor predicted\", \"F-score is\", len(true_sum))\n",
      "/opt/conda/lib/python3.9/site-packages/sklearn/metrics/_classification.py:1609: UndefinedMetricWarning: F-score is ill-defined and being set to 0.0 due to no true nor predicted samples. Use `zero_division` parameter to control this behavior.\n",
      "  _warn_prf(average, \"true nor predicted\", \"F-score is\", len(true_sum))\n",
      "/opt/conda/lib/python3.9/site-packages/sklearn/metrics/_classification.py:1609: UndefinedMetricWarning: F-score is ill-defined and being set to 0.0 due to no true nor predicted samples. Use `zero_division` parameter to control this behavior.\n",
      "  _warn_prf(average, \"true nor predicted\", \"F-score is\", len(true_sum))\n",
      "/opt/conda/lib/python3.9/site-packages/sklearn/metrics/_classification.py:1609: UndefinedMetricWarning: F-score is ill-defined and being set to 0.0 due to no true nor predicted samples. Use `zero_division` parameter to control this behavior.\n",
      "  _warn_prf(average, \"true nor predicted\", \"F-score is\", len(true_sum))\n",
      "/opt/conda/lib/python3.9/site-packages/sklearn/metrics/_classification.py:1609: UndefinedMetricWarning: F-score is ill-defined and being set to 0.0 due to no true nor predicted samples. Use `zero_division` parameter to control this behavior.\n",
      "  _warn_prf(average, \"true nor predicted\", \"F-score is\", len(true_sum))\n",
      "/opt/conda/lib/python3.9/site-packages/sklearn/metrics/_classification.py:1609: UndefinedMetricWarning: F-score is ill-defined and being set to 0.0 due to no true nor predicted samples. Use `zero_division` parameter to control this behavior.\n",
      "  _warn_prf(average, \"true nor predicted\", \"F-score is\", len(true_sum))\n",
      "/opt/conda/lib/python3.9/site-packages/sklearn/metrics/_classification.py:1609: UndefinedMetricWarning: F-score is ill-defined and being set to 0.0 due to no true nor predicted samples. Use `zero_division` parameter to control this behavior.\n",
      "  _warn_prf(average, \"true nor predicted\", \"F-score is\", len(true_sum))\n",
      "/opt/conda/lib/python3.9/site-packages/sklearn/metrics/_classification.py:1609: UndefinedMetricWarning: F-score is ill-defined and being set to 0.0 due to no true nor predicted samples. Use `zero_division` parameter to control this behavior.\n",
      "  _warn_prf(average, \"true nor predicted\", \"F-score is\", len(true_sum))\n",
      "/opt/conda/lib/python3.9/site-packages/sklearn/metrics/_classification.py:1609: UndefinedMetricWarning: F-score is ill-defined and being set to 0.0 due to no true nor predicted samples. Use `zero_division` parameter to control this behavior.\n",
      "  _warn_prf(average, \"true nor predicted\", \"F-score is\", len(true_sum))\n",
      "/opt/conda/lib/python3.9/site-packages/sklearn/metrics/_classification.py:1609: UndefinedMetricWarning: F-score is ill-defined and being set to 0.0 due to no true nor predicted samples. Use `zero_division` parameter to control this behavior.\n",
      "  _warn_prf(average, \"true nor predicted\", \"F-score is\", len(true_sum))\n",
      "/opt/conda/lib/python3.9/site-packages/sklearn/metrics/_classification.py:1609: UndefinedMetricWarning: F-score is ill-defined and being set to 0.0 due to no true nor predicted samples. Use `zero_division` parameter to control this behavior.\n",
      "  _warn_prf(average, \"true nor predicted\", \"F-score is\", len(true_sum))\n",
      "/opt/conda/lib/python3.9/site-packages/sklearn/metrics/_classification.py:1609: UndefinedMetricWarning: F-score is ill-defined and being set to 0.0 due to no true nor predicted samples. Use `zero_division` parameter to control this behavior.\n",
      "  _warn_prf(average, \"true nor predicted\", \"F-score is\", len(true_sum))\n",
      "/opt/conda/lib/python3.9/site-packages/sklearn/metrics/_classification.py:1609: UndefinedMetricWarning: F-score is ill-defined and being set to 0.0 due to no true nor predicted samples. Use `zero_division` parameter to control this behavior.\n",
      "  _warn_prf(average, \"true nor predicted\", \"F-score is\", len(true_sum))\n",
      "/opt/conda/lib/python3.9/site-packages/sklearn/metrics/_classification.py:1609: UndefinedMetricWarning: F-score is ill-defined and being set to 0.0 due to no true nor predicted samples. Use `zero_division` parameter to control this behavior.\n",
      "  _warn_prf(average, \"true nor predicted\", \"F-score is\", len(true_sum))\n",
      "/opt/conda/lib/python3.9/site-packages/sklearn/metrics/_classification.py:1609: UndefinedMetricWarning: F-score is ill-defined and being set to 0.0 due to no true nor predicted samples. Use `zero_division` parameter to control this behavior.\n",
      "  _warn_prf(average, \"true nor predicted\", \"F-score is\", len(true_sum))\n",
      "/opt/conda/lib/python3.9/site-packages/sklearn/metrics/_classification.py:1609: UndefinedMetricWarning: F-score is ill-defined and being set to 0.0 due to no true nor predicted samples. Use `zero_division` parameter to control this behavior.\n",
      "  _warn_prf(average, \"true nor predicted\", \"F-score is\", len(true_sum))\n",
      "/opt/conda/lib/python3.9/site-packages/sklearn/metrics/_classification.py:1609: UndefinedMetricWarning: F-score is ill-defined and being set to 0.0 due to no true nor predicted samples. Use `zero_division` parameter to control this behavior.\n",
      "  _warn_prf(average, \"true nor predicted\", \"F-score is\", len(true_sum))\n",
      "/opt/conda/lib/python3.9/site-packages/sklearn/metrics/_classification.py:1609: UndefinedMetricWarning: F-score is ill-defined and being set to 0.0 due to no true nor predicted samples. Use `zero_division` parameter to control this behavior.\n",
      "  _warn_prf(average, \"true nor predicted\", \"F-score is\", len(true_sum))\n",
      "/opt/conda/lib/python3.9/site-packages/sklearn/metrics/_classification.py:1609: UndefinedMetricWarning: F-score is ill-defined and being set to 0.0 due to no true nor predicted samples. Use `zero_division` parameter to control this behavior.\n",
      "  _warn_prf(average, \"true nor predicted\", \"F-score is\", len(true_sum))\n",
      "/opt/conda/lib/python3.9/site-packages/sklearn/metrics/_classification.py:1609: UndefinedMetricWarning: F-score is ill-defined and being set to 0.0 due to no true nor predicted samples. Use `zero_division` parameter to control this behavior.\n",
      "  _warn_prf(average, \"true nor predicted\", \"F-score is\", len(true_sum))\n",
      "/opt/conda/lib/python3.9/site-packages/sklearn/metrics/_classification.py:1609: UndefinedMetricWarning: F-score is ill-defined and being set to 0.0 due to no true nor predicted samples. Use `zero_division` parameter to control this behavior.\n",
      "  _warn_prf(average, \"true nor predicted\", \"F-score is\", len(true_sum))\n",
      "/opt/conda/lib/python3.9/site-packages/sklearn/metrics/_classification.py:1609: UndefinedMetricWarning: F-score is ill-defined and being set to 0.0 due to no true nor predicted samples. Use `zero_division` parameter to control this behavior.\n",
      "  _warn_prf(average, \"true nor predicted\", \"F-score is\", len(true_sum))\n",
      "/opt/conda/lib/python3.9/site-packages/sklearn/metrics/_classification.py:1609: UndefinedMetricWarning: F-score is ill-defined and being set to 0.0 due to no true nor predicted samples. Use `zero_division` parameter to control this behavior.\n",
      "  _warn_prf(average, \"true nor predicted\", \"F-score is\", len(true_sum))\n",
      "/opt/conda/lib/python3.9/site-packages/sklearn/metrics/_classification.py:1609: UndefinedMetricWarning: F-score is ill-defined and being set to 0.0 due to no true nor predicted samples. Use `zero_division` parameter to control this behavior.\n",
      "  _warn_prf(average, \"true nor predicted\", \"F-score is\", len(true_sum))\n",
      "/opt/conda/lib/python3.9/site-packages/sklearn/metrics/_classification.py:1609: UndefinedMetricWarning: F-score is ill-defined and being set to 0.0 due to no true nor predicted samples. Use `zero_division` parameter to control this behavior.\n",
      "  _warn_prf(average, \"true nor predicted\", \"F-score is\", len(true_sum))\n",
      "/opt/conda/lib/python3.9/site-packages/sklearn/metrics/_classification.py:1609: UndefinedMetricWarning: F-score is ill-defined and being set to 0.0 due to no true nor predicted samples. Use `zero_division` parameter to control this behavior.\n",
      "  _warn_prf(average, \"true nor predicted\", \"F-score is\", len(true_sum))\n",
      "/opt/conda/lib/python3.9/site-packages/sklearn/metrics/_classification.py:1609: UndefinedMetricWarning: F-score is ill-defined and being set to 0.0 due to no true nor predicted samples. Use `zero_division` parameter to control this behavior.\n",
      "  _warn_prf(average, \"true nor predicted\", \"F-score is\", len(true_sum))\n",
      "/opt/conda/lib/python3.9/site-packages/sklearn/metrics/_classification.py:1609: UndefinedMetricWarning: F-score is ill-defined and being set to 0.0 due to no true nor predicted samples. Use `zero_division` parameter to control this behavior.\n",
      "  _warn_prf(average, \"true nor predicted\", \"F-score is\", len(true_sum))\n",
      "/opt/conda/lib/python3.9/site-packages/sklearn/metrics/_classification.py:1609: UndefinedMetricWarning: F-score is ill-defined and being set to 0.0 due to no true nor predicted samples. Use `zero_division` parameter to control this behavior.\n",
      "  _warn_prf(average, \"true nor predicted\", \"F-score is\", len(true_sum))\n",
      "/opt/conda/lib/python3.9/site-packages/sklearn/metrics/_classification.py:1609: UndefinedMetricWarning: F-score is ill-defined and being set to 0.0 due to no true nor predicted samples. Use `zero_division` parameter to control this behavior.\n",
      "  _warn_prf(average, \"true nor predicted\", \"F-score is\", len(true_sum))\n",
      "/opt/conda/lib/python3.9/site-packages/sklearn/metrics/_classification.py:1609: UndefinedMetricWarning: F-score is ill-defined and being set to 0.0 due to no true nor predicted samples. Use `zero_division` parameter to control this behavior.\n",
      "  _warn_prf(average, \"true nor predicted\", \"F-score is\", len(true_sum))\n",
      "/opt/conda/lib/python3.9/site-packages/sklearn/metrics/_classification.py:1609: UndefinedMetricWarning: F-score is ill-defined and being set to 0.0 due to no true nor predicted samples. Use `zero_division` parameter to control this behavior.\n",
      "  _warn_prf(average, \"true nor predicted\", \"F-score is\", len(true_sum))\n",
      "/opt/conda/lib/python3.9/site-packages/sklearn/metrics/_classification.py:1609: UndefinedMetricWarning: F-score is ill-defined and being set to 0.0 due to no true nor predicted samples. Use `zero_division` parameter to control this behavior.\n",
      "  _warn_prf(average, \"true nor predicted\", \"F-score is\", len(true_sum))\n",
      "/opt/conda/lib/python3.9/site-packages/sklearn/metrics/_classification.py:1609: UndefinedMetricWarning: F-score is ill-defined and being set to 0.0 due to no true nor predicted samples. Use `zero_division` parameter to control this behavior.\n",
      "  _warn_prf(average, \"true nor predicted\", \"F-score is\", len(true_sum))\n",
      "/opt/conda/lib/python3.9/site-packages/sklearn/metrics/_classification.py:1609: UndefinedMetricWarning: F-score is ill-defined and being set to 0.0 due to no true nor predicted samples. Use `zero_division` parameter to control this behavior.\n",
      "  _warn_prf(average, \"true nor predicted\", \"F-score is\", len(true_sum))\n",
      "/opt/conda/lib/python3.9/site-packages/sklearn/metrics/_classification.py:1609: UndefinedMetricWarning: F-score is ill-defined and being set to 0.0 due to no true nor predicted samples. Use `zero_division` parameter to control this behavior.\n",
      "  _warn_prf(average, \"true nor predicted\", \"F-score is\", len(true_sum))\n",
      "/opt/conda/lib/python3.9/site-packages/sklearn/metrics/_classification.py:1609: UndefinedMetricWarning: F-score is ill-defined and being set to 0.0 due to no true nor predicted samples. Use `zero_division` parameter to control this behavior.\n",
      "  _warn_prf(average, \"true nor predicted\", \"F-score is\", len(true_sum))\n",
      "/opt/conda/lib/python3.9/site-packages/sklearn/metrics/_classification.py:1609: UndefinedMetricWarning: F-score is ill-defined and being set to 0.0 due to no true nor predicted samples. Use `zero_division` parameter to control this behavior.\n",
      "  _warn_prf(average, \"true nor predicted\", \"F-score is\", len(true_sum))\n",
      "/opt/conda/lib/python3.9/site-packages/sklearn/metrics/_classification.py:1609: UndefinedMetricWarning: F-score is ill-defined and being set to 0.0 due to no true nor predicted samples. Use `zero_division` parameter to control this behavior.\n",
      "  _warn_prf(average, \"true nor predicted\", \"F-score is\", len(true_sum))\n",
      "/opt/conda/lib/python3.9/site-packages/sklearn/metrics/_classification.py:1609: UndefinedMetricWarning: F-score is ill-defined and being set to 0.0 due to no true nor predicted samples. Use `zero_division` parameter to control this behavior.\n",
      "  _warn_prf(average, \"true nor predicted\", \"F-score is\", len(true_sum))\n",
      "/opt/conda/lib/python3.9/site-packages/sklearn/metrics/_classification.py:1609: UndefinedMetricWarning: F-score is ill-defined and being set to 0.0 due to no true nor predicted samples. Use `zero_division` parameter to control this behavior.\n",
      "  _warn_prf(average, \"true nor predicted\", \"F-score is\", len(true_sum))\n",
      "/opt/conda/lib/python3.9/site-packages/sklearn/metrics/_classification.py:1609: UndefinedMetricWarning: F-score is ill-defined and being set to 0.0 due to no true nor predicted samples. Use `zero_division` parameter to control this behavior.\n",
      "  _warn_prf(average, \"true nor predicted\", \"F-score is\", len(true_sum))\n",
      "/opt/conda/lib/python3.9/site-packages/sklearn/metrics/_classification.py:1609: UndefinedMetricWarning: F-score is ill-defined and being set to 0.0 due to no true nor predicted samples. Use `zero_division` parameter to control this behavior.\n",
      "  _warn_prf(average, \"true nor predicted\", \"F-score is\", len(true_sum))\n",
      "/opt/conda/lib/python3.9/site-packages/sklearn/metrics/_classification.py:1609: UndefinedMetricWarning: F-score is ill-defined and being set to 0.0 due to no true nor predicted samples. Use `zero_division` parameter to control this behavior.\n",
      "  _warn_prf(average, \"true nor predicted\", \"F-score is\", len(true_sum))\n",
      "/opt/conda/lib/python3.9/site-packages/sklearn/metrics/_classification.py:1609: UndefinedMetricWarning: F-score is ill-defined and being set to 0.0 due to no true nor predicted samples. Use `zero_division` parameter to control this behavior.\n",
      "  _warn_prf(average, \"true nor predicted\", \"F-score is\", len(true_sum))\n",
      "/opt/conda/lib/python3.9/site-packages/sklearn/metrics/_classification.py:1609: UndefinedMetricWarning: F-score is ill-defined and being set to 0.0 due to no true nor predicted samples. Use `zero_division` parameter to control this behavior.\n",
      "  _warn_prf(average, \"true nor predicted\", \"F-score is\", len(true_sum))\n",
      "/opt/conda/lib/python3.9/site-packages/sklearn/metrics/_classification.py:1609: UndefinedMetricWarning: F-score is ill-defined and being set to 0.0 due to no true nor predicted samples. Use `zero_division` parameter to control this behavior.\n",
      "  _warn_prf(average, \"true nor predicted\", \"F-score is\", len(true_sum))\n",
      "/opt/conda/lib/python3.9/site-packages/sklearn/metrics/_classification.py:1609: UndefinedMetricWarning: F-score is ill-defined and being set to 0.0 due to no true nor predicted samples. Use `zero_division` parameter to control this behavior.\n",
      "  _warn_prf(average, \"true nor predicted\", \"F-score is\", len(true_sum))\n",
      "/opt/conda/lib/python3.9/site-packages/sklearn/metrics/_classification.py:1609: UndefinedMetricWarning: F-score is ill-defined and being set to 0.0 due to no true nor predicted samples. Use `zero_division` parameter to control this behavior.\n",
      "  _warn_prf(average, \"true nor predicted\", \"F-score is\", len(true_sum))\n",
      "/opt/conda/lib/python3.9/site-packages/sklearn/metrics/_classification.py:1609: UndefinedMetricWarning: F-score is ill-defined and being set to 0.0 due to no true nor predicted samples. Use `zero_division` parameter to control this behavior.\n",
      "  _warn_prf(average, \"true nor predicted\", \"F-score is\", len(true_sum))\n",
      "/opt/conda/lib/python3.9/site-packages/sklearn/metrics/_classification.py:1609: UndefinedMetricWarning: F-score is ill-defined and being set to 0.0 due to no true nor predicted samples. Use `zero_division` parameter to control this behavior.\n",
      "  _warn_prf(average, \"true nor predicted\", \"F-score is\", len(true_sum))\n",
      "/opt/conda/lib/python3.9/site-packages/sklearn/metrics/_classification.py:1609: UndefinedMetricWarning: F-score is ill-defined and being set to 0.0 due to no true nor predicted samples. Use `zero_division` parameter to control this behavior.\n",
      "  _warn_prf(average, \"true nor predicted\", \"F-score is\", len(true_sum))\n",
      "/opt/conda/lib/python3.9/site-packages/sklearn/metrics/_classification.py:1609: UndefinedMetricWarning: F-score is ill-defined and being set to 0.0 due to no true nor predicted samples. Use `zero_division` parameter to control this behavior.\n",
      "  _warn_prf(average, \"true nor predicted\", \"F-score is\", len(true_sum))\n",
      "/opt/conda/lib/python3.9/site-packages/sklearn/metrics/_classification.py:1609: UndefinedMetricWarning: F-score is ill-defined and being set to 0.0 due to no true nor predicted samples. Use `zero_division` parameter to control this behavior.\n",
      "  _warn_prf(average, \"true nor predicted\", \"F-score is\", len(true_sum))\n",
      "/opt/conda/lib/python3.9/site-packages/sklearn/metrics/_classification.py:1609: UndefinedMetricWarning: F-score is ill-defined and being set to 0.0 due to no true nor predicted samples. Use `zero_division` parameter to control this behavior.\n",
      "  _warn_prf(average, \"true nor predicted\", \"F-score is\", len(true_sum))\n",
      "/opt/conda/lib/python3.9/site-packages/sklearn/metrics/_classification.py:1609: UndefinedMetricWarning: F-score is ill-defined and being set to 0.0 due to no true nor predicted samples. Use `zero_division` parameter to control this behavior.\n",
      "  _warn_prf(average, \"true nor predicted\", \"F-score is\", len(true_sum))\n",
      "/opt/conda/lib/python3.9/site-packages/sklearn/metrics/_classification.py:1609: UndefinedMetricWarning: F-score is ill-defined and being set to 0.0 due to no true nor predicted samples. Use `zero_division` parameter to control this behavior.\n",
      "  _warn_prf(average, \"true nor predicted\", \"F-score is\", len(true_sum))\n",
      "/opt/conda/lib/python3.9/site-packages/sklearn/metrics/_classification.py:1609: UndefinedMetricWarning: F-score is ill-defined and being set to 0.0 due to no true nor predicted samples. Use `zero_division` parameter to control this behavior.\n",
      "  _warn_prf(average, \"true nor predicted\", \"F-score is\", len(true_sum))\n",
      "/opt/conda/lib/python3.9/site-packages/sklearn/metrics/_classification.py:1609: UndefinedMetricWarning: F-score is ill-defined and being set to 0.0 due to no true nor predicted samples. Use `zero_division` parameter to control this behavior.\n",
      "  _warn_prf(average, \"true nor predicted\", \"F-score is\", len(true_sum))\n",
      "/opt/conda/lib/python3.9/site-packages/sklearn/metrics/_classification.py:1609: UndefinedMetricWarning: F-score is ill-defined and being set to 0.0 due to no true nor predicted samples. Use `zero_division` parameter to control this behavior.\n",
      "  _warn_prf(average, \"true nor predicted\", \"F-score is\", len(true_sum))\n",
      "/opt/conda/lib/python3.9/site-packages/sklearn/metrics/_classification.py:1609: UndefinedMetricWarning: F-score is ill-defined and being set to 0.0 due to no true nor predicted samples. Use `zero_division` parameter to control this behavior.\n",
      "  _warn_prf(average, \"true nor predicted\", \"F-score is\", len(true_sum))\n",
      "/opt/conda/lib/python3.9/site-packages/sklearn/metrics/_classification.py:1609: UndefinedMetricWarning: F-score is ill-defined and being set to 0.0 due to no true nor predicted samples. Use `zero_division` parameter to control this behavior.\n",
      "  _warn_prf(average, \"true nor predicted\", \"F-score is\", len(true_sum))\n",
      "/opt/conda/lib/python3.9/site-packages/sklearn/metrics/_classification.py:1609: UndefinedMetricWarning: F-score is ill-defined and being set to 0.0 due to no true nor predicted samples. Use `zero_division` parameter to control this behavior.\n",
      "  _warn_prf(average, \"true nor predicted\", \"F-score is\", len(true_sum))\n",
      "/opt/conda/lib/python3.9/site-packages/sklearn/metrics/_classification.py:1609: UndefinedMetricWarning: F-score is ill-defined and being set to 0.0 due to no true nor predicted samples. Use `zero_division` parameter to control this behavior.\n",
      "  _warn_prf(average, \"true nor predicted\", \"F-score is\", len(true_sum))\n",
      "/opt/conda/lib/python3.9/site-packages/sklearn/metrics/_classification.py:1609: UndefinedMetricWarning: F-score is ill-defined and being set to 0.0 due to no true nor predicted samples. Use `zero_division` parameter to control this behavior.\n",
      "  _warn_prf(average, \"true nor predicted\", \"F-score is\", len(true_sum))\n",
      "/opt/conda/lib/python3.9/site-packages/sklearn/metrics/_classification.py:1609: UndefinedMetricWarning: F-score is ill-defined and being set to 0.0 due to no true nor predicted samples. Use `zero_division` parameter to control this behavior.\n",
      "  _warn_prf(average, \"true nor predicted\", \"F-score is\", len(true_sum))\n",
      "/opt/conda/lib/python3.9/site-packages/sklearn/metrics/_classification.py:1609: UndefinedMetricWarning: F-score is ill-defined and being set to 0.0 due to no true nor predicted samples. Use `zero_division` parameter to control this behavior.\n",
      "  _warn_prf(average, \"true nor predicted\", \"F-score is\", len(true_sum))\n",
      "/opt/conda/lib/python3.9/site-packages/sklearn/metrics/_classification.py:1609: UndefinedMetricWarning: F-score is ill-defined and being set to 0.0 due to no true nor predicted samples. Use `zero_division` parameter to control this behavior.\n",
      "  _warn_prf(average, \"true nor predicted\", \"F-score is\", len(true_sum))\n",
      "/opt/conda/lib/python3.9/site-packages/sklearn/metrics/_classification.py:1609: UndefinedMetricWarning: F-score is ill-defined and being set to 0.0 due to no true nor predicted samples. Use `zero_division` parameter to control this behavior.\n",
      "  _warn_prf(average, \"true nor predicted\", \"F-score is\", len(true_sum))\n",
      "/opt/conda/lib/python3.9/site-packages/sklearn/metrics/_classification.py:1609: UndefinedMetricWarning: F-score is ill-defined and being set to 0.0 due to no true nor predicted samples. Use `zero_division` parameter to control this behavior.\n",
      "  _warn_prf(average, \"true nor predicted\", \"F-score is\", len(true_sum))\n",
      "/opt/conda/lib/python3.9/site-packages/sklearn/metrics/_classification.py:1609: UndefinedMetricWarning: F-score is ill-defined and being set to 0.0 due to no true nor predicted samples. Use `zero_division` parameter to control this behavior.\n",
      "  _warn_prf(average, \"true nor predicted\", \"F-score is\", len(true_sum))\n",
      "/opt/conda/lib/python3.9/site-packages/sklearn/metrics/_classification.py:1609: UndefinedMetricWarning: F-score is ill-defined and being set to 0.0 due to no true nor predicted samples. Use `zero_division` parameter to control this behavior.\n",
      "  _warn_prf(average, \"true nor predicted\", \"F-score is\", len(true_sum))\n",
      "/opt/conda/lib/python3.9/site-packages/sklearn/metrics/_classification.py:1609: UndefinedMetricWarning: F-score is ill-defined and being set to 0.0 due to no true nor predicted samples. Use `zero_division` parameter to control this behavior.\n",
      "  _warn_prf(average, \"true nor predicted\", \"F-score is\", len(true_sum))\n",
      "/opt/conda/lib/python3.9/site-packages/sklearn/metrics/_classification.py:1609: UndefinedMetricWarning: F-score is ill-defined and being set to 0.0 due to no true nor predicted samples. Use `zero_division` parameter to control this behavior.\n",
      "  _warn_prf(average, \"true nor predicted\", \"F-score is\", len(true_sum))\n",
      "/opt/conda/lib/python3.9/site-packages/sklearn/metrics/_classification.py:1609: UndefinedMetricWarning: F-score is ill-defined and being set to 0.0 due to no true nor predicted samples. Use `zero_division` parameter to control this behavior.\n",
      "  _warn_prf(average, \"true nor predicted\", \"F-score is\", len(true_sum))\n",
      "/opt/conda/lib/python3.9/site-packages/sklearn/metrics/_classification.py:1609: UndefinedMetricWarning: F-score is ill-defined and being set to 0.0 due to no true nor predicted samples. Use `zero_division` parameter to control this behavior.\n",
      "  _warn_prf(average, \"true nor predicted\", \"F-score is\", len(true_sum))\n",
      "/opt/conda/lib/python3.9/site-packages/sklearn/metrics/_classification.py:1609: UndefinedMetricWarning: F-score is ill-defined and being set to 0.0 due to no true nor predicted samples. Use `zero_division` parameter to control this behavior.\n",
      "  _warn_prf(average, \"true nor predicted\", \"F-score is\", len(true_sum))\n",
      "/opt/conda/lib/python3.9/site-packages/sklearn/metrics/_classification.py:1609: UndefinedMetricWarning: F-score is ill-defined and being set to 0.0 due to no true nor predicted samples. Use `zero_division` parameter to control this behavior.\n",
      "  _warn_prf(average, \"true nor predicted\", \"F-score is\", len(true_sum))\n",
      "/opt/conda/lib/python3.9/site-packages/sklearn/metrics/_classification.py:1609: UndefinedMetricWarning: F-score is ill-defined and being set to 0.0 due to no true nor predicted samples. Use `zero_division` parameter to control this behavior.\n",
      "  _warn_prf(average, \"true nor predicted\", \"F-score is\", len(true_sum))\n",
      "/opt/conda/lib/python3.9/site-packages/sklearn/metrics/_classification.py:1609: UndefinedMetricWarning: F-score is ill-defined and being set to 0.0 due to no true nor predicted samples. Use `zero_division` parameter to control this behavior.\n",
      "  _warn_prf(average, \"true nor predicted\", \"F-score is\", len(true_sum))\n",
      "/opt/conda/lib/python3.9/site-packages/sklearn/metrics/_classification.py:1609: UndefinedMetricWarning: F-score is ill-defined and being set to 0.0 due to no true nor predicted samples. Use `zero_division` parameter to control this behavior.\n",
      "  _warn_prf(average, \"true nor predicted\", \"F-score is\", len(true_sum))\n",
      "/opt/conda/lib/python3.9/site-packages/sklearn/metrics/_classification.py:1609: UndefinedMetricWarning: F-score is ill-defined and being set to 0.0 due to no true nor predicted samples. Use `zero_division` parameter to control this behavior.\n",
      "  _warn_prf(average, \"true nor predicted\", \"F-score is\", len(true_sum))\n",
      "/opt/conda/lib/python3.9/site-packages/sklearn/metrics/_classification.py:1609: UndefinedMetricWarning: F-score is ill-defined and being set to 0.0 due to no true nor predicted samples. Use `zero_division` parameter to control this behavior.\n",
      "  _warn_prf(average, \"true nor predicted\", \"F-score is\", len(true_sum))\n",
      "/opt/conda/lib/python3.9/site-packages/sklearn/metrics/_classification.py:1609: UndefinedMetricWarning: F-score is ill-defined and being set to 0.0 due to no true nor predicted samples. Use `zero_division` parameter to control this behavior.\n",
      "  _warn_prf(average, \"true nor predicted\", \"F-score is\", len(true_sum))\n",
      "/opt/conda/lib/python3.9/site-packages/sklearn/metrics/_classification.py:1609: UndefinedMetricWarning: F-score is ill-defined and being set to 0.0 due to no true nor predicted samples. Use `zero_division` parameter to control this behavior.\n",
      "  _warn_prf(average, \"true nor predicted\", \"F-score is\", len(true_sum))\n",
      "/opt/conda/lib/python3.9/site-packages/sklearn/metrics/_classification.py:1609: UndefinedMetricWarning: F-score is ill-defined and being set to 0.0 due to no true nor predicted samples. Use `zero_division` parameter to control this behavior.\n",
      "  _warn_prf(average, \"true nor predicted\", \"F-score is\", len(true_sum))\n",
      "/opt/conda/lib/python3.9/site-packages/sklearn/metrics/_classification.py:1609: UndefinedMetricWarning: F-score is ill-defined and being set to 0.0 due to no true nor predicted samples. Use `zero_division` parameter to control this behavior.\n",
      "  _warn_prf(average, \"true nor predicted\", \"F-score is\", len(true_sum))\n",
      "/opt/conda/lib/python3.9/site-packages/sklearn/metrics/_classification.py:1609: UndefinedMetricWarning: F-score is ill-defined and being set to 0.0 due to no true nor predicted samples. Use `zero_division` parameter to control this behavior.\n",
      "  _warn_prf(average, \"true nor predicted\", \"F-score is\", len(true_sum))\n",
      "/opt/conda/lib/python3.9/site-packages/sklearn/metrics/_classification.py:1609: UndefinedMetricWarning: F-score is ill-defined and being set to 0.0 due to no true nor predicted samples. Use `zero_division` parameter to control this behavior.\n",
      "  _warn_prf(average, \"true nor predicted\", \"F-score is\", len(true_sum))\n",
      "/opt/conda/lib/python3.9/site-packages/sklearn/metrics/_classification.py:1609: UndefinedMetricWarning: F-score is ill-defined and being set to 0.0 due to no true nor predicted samples. Use `zero_division` parameter to control this behavior.\n",
      "  _warn_prf(average, \"true nor predicted\", \"F-score is\", len(true_sum))\n",
      "/opt/conda/lib/python3.9/site-packages/sklearn/metrics/_classification.py:1609: UndefinedMetricWarning: F-score is ill-defined and being set to 0.0 due to no true nor predicted samples. Use `zero_division` parameter to control this behavior.\n",
      "  _warn_prf(average, \"true nor predicted\", \"F-score is\", len(true_sum))\n",
      "/opt/conda/lib/python3.9/site-packages/sklearn/metrics/_classification.py:1609: UndefinedMetricWarning: F-score is ill-defined and being set to 0.0 due to no true nor predicted samples. Use `zero_division` parameter to control this behavior.\n",
      "  _warn_prf(average, \"true nor predicted\", \"F-score is\", len(true_sum))\n",
      "/opt/conda/lib/python3.9/site-packages/sklearn/metrics/_classification.py:1609: UndefinedMetricWarning: F-score is ill-defined and being set to 0.0 due to no true nor predicted samples. Use `zero_division` parameter to control this behavior.\n",
      "  _warn_prf(average, \"true nor predicted\", \"F-score is\", len(true_sum))\n",
      "/opt/conda/lib/python3.9/site-packages/sklearn/metrics/_classification.py:1609: UndefinedMetricWarning: F-score is ill-defined and being set to 0.0 due to no true nor predicted samples. Use `zero_division` parameter to control this behavior.\n",
      "  _warn_prf(average, \"true nor predicted\", \"F-score is\", len(true_sum))\n",
      "/opt/conda/lib/python3.9/site-packages/sklearn/metrics/_classification.py:1609: UndefinedMetricWarning: F-score is ill-defined and being set to 0.0 due to no true nor predicted samples. Use `zero_division` parameter to control this behavior.\n",
      "  _warn_prf(average, \"true nor predicted\", \"F-score is\", len(true_sum))\n",
      "/opt/conda/lib/python3.9/site-packages/sklearn/metrics/_classification.py:1609: UndefinedMetricWarning: F-score is ill-defined and being set to 0.0 due to no true nor predicted samples. Use `zero_division` parameter to control this behavior.\n",
      "  _warn_prf(average, \"true nor predicted\", \"F-score is\", len(true_sum))\n",
      "/opt/conda/lib/python3.9/site-packages/sklearn/metrics/_classification.py:1609: UndefinedMetricWarning: F-score is ill-defined and being set to 0.0 due to no true nor predicted samples. Use `zero_division` parameter to control this behavior.\n",
      "  _warn_prf(average, \"true nor predicted\", \"F-score is\", len(true_sum))\n",
      "/opt/conda/lib/python3.9/site-packages/sklearn/metrics/_classification.py:1609: UndefinedMetricWarning: F-score is ill-defined and being set to 0.0 due to no true nor predicted samples. Use `zero_division` parameter to control this behavior.\n",
      "  _warn_prf(average, \"true nor predicted\", \"F-score is\", len(true_sum))\n"
     ]
    },
    {
     "ename": "TypeError",
     "evalue": "'numpy.float64' object is not iterable",
     "output_type": "error",
     "traceback": [
      "\u001b[0;31m---------------------------------------------------------------------------\u001b[0m",
      "\u001b[0;31mTypeError\u001b[0m                                 Traceback (most recent call last)",
      "\u001b[0;32m<timed exec>\u001b[0m in \u001b[0;36m<module>\u001b[0;34m\u001b[0m\n",
      "\u001b[0;31mTypeError\u001b[0m: 'numpy.float64' object is not iterable"
     ]
    }
   ],
   "source": [
    "%%time\n",
    "pipeline = Pipeline([('tfidf', TfidfVectorizer(stop_words='english')), \n",
    "                     ('rfc', RandomForestClassifier())])\n",
    "# Найдем лучшие гиперпараметры модели\n",
    "param_rfc = {'rfc__n_estimators': range(30, 50, 10),\n",
    "             'rfc__max_depth': range(5, 10, 2),\n",
    "             'rfc__min_samples_leaf': range(3,5),\n",
    "             'rfc__min_samples_split': range(2,6,2),\n",
    "             'rfc__verbose' : [0], \n",
    "             'rfc__class_weight':['balanced']}\n",
    "\n",
    "# Применим гридсеч\n",
    "rfc_grid = HalvingRandomSearchCV(pipeline,\n",
    "                               param_rfc,\n",
    "                               scoring='f1',\n",
    "                               cv=3)\n",
    "\n",
    "# Обучаем на тренировачных ресемплированных выборках\n",
    "rfc_grid.fit(features_train, target_train)\n",
    "\n",
    "best_score_rfc = rfc_grid.best_score_\n",
    "\n",
    "best_score_rfc = round(max(best_score_rfc),3)"
   ]
  },
  {
   "cell_type": "code",
   "execution_count": 65,
   "metadata": {},
   "outputs": [
    {
     "name": "stdout",
     "output_type": "stream",
     "text": [
      "Лучшие гиперпараметры: {'rfc__class_weight': 'balanced', 'rfc__max_depth': 9, 'rfc__min_samples_leaf': 4, 'rfc__min_samples_split': 4, 'rfc__n_estimators': 40, 'rfc__verbose': 0}\n",
      "F1 на тренировачной выборке: 0.10256410256410257\n",
      "\n"
     ]
    }
   ],
   "source": [
    "# f1 на тренировачной выборке\n",
    "print('Лучшие гиперпараметры:', rfc_best_params)\n",
    "print('F1 на тренировачной выборке:', best_score_rfc) \n",
    "print()"
   ]
  },
  {
   "cell_type": "markdown",
   "metadata": {},
   "source": [
    "#### Полученные результаты"
   ]
  },
  {
   "cell_type": "code",
   "execution_count": 67,
   "metadata": {},
   "outputs": [
    {
     "data": {
      "text/html": [
       "<div>\n",
       "<style scoped>\n",
       "    .dataframe tbody tr th:only-of-type {\n",
       "        vertical-align: middle;\n",
       "    }\n",
       "\n",
       "    .dataframe tbody tr th {\n",
       "        vertical-align: top;\n",
       "    }\n",
       "\n",
       "    .dataframe thead th {\n",
       "        text-align: right;\n",
       "    }\n",
       "</style>\n",
       "<table border=\"1\" class=\"dataframe\">\n",
       "  <thead>\n",
       "    <tr style=\"text-align: right;\">\n",
       "      <th></th>\n",
       "      <th>F1 на тренировачной модели</th>\n",
       "      <th>Выполнение задачи</th>\n",
       "    </tr>\n",
       "  </thead>\n",
       "  <tbody>\n",
       "    <tr>\n",
       "      <th>LinearRegression</th>\n",
       "      <td>0.000000</td>\n",
       "      <td>False</td>\n",
       "    </tr>\n",
       "    <tr>\n",
       "      <th>RandomForestRegressor</th>\n",
       "      <td>0.102564</td>\n",
       "      <td>False</td>\n",
       "    </tr>\n",
       "    <tr>\n",
       "      <th>DecisionTreeClassifier</th>\n",
       "      <td>0.281481</td>\n",
       "      <td>False</td>\n",
       "    </tr>\n",
       "  </tbody>\n",
       "</table>\n",
       "</div>"
      ],
      "text/plain": [
       "                        F1 на тренировачной модели  Выполнение задачи\n",
       "LinearRegression                          0.000000              False\n",
       "RandomForestRegressor                     0.102564              False\n",
       "DecisionTreeClassifier                    0.281481              False"
      ]
     },
     "execution_count": 67,
     "metadata": {},
     "output_type": "execute_result"
    }
   ],
   "source": [
    "index = ['LinearRegression',\n",
    "         'RandomForestRegressor',\n",
    "         'DecisionTreeClassifier']\n",
    "data = {'F1 на тренировачной модели': [best_score_lr,\n",
    "                                       best_score_rfc,\n",
    "                                       best_score_dtr]}\n",
    "\n",
    "\n",
    "f1_models = pd.DataFrame(data=data, index=index)\n",
    "f1_models['Выполнение задачи'] = f1_models['F1 на тренировачной модели'] > 0.75\n",
    "f1_models"
   ]
  },
  {
   "cell_type": "code",
   "execution_count": 68,
   "metadata": {},
   "outputs": [
    {
     "name": "stdout",
     "output_type": "stream",
     "text": [
      "F1 на тестовой выборке: 0.783\n",
      "CPU times: user 1.5 s, sys: 0 ns, total: 1.5 s\n",
      "Wall time: 1.57 s\n"
     ]
    }
   ],
   "source": [
    "%%time\n",
    "# Проверим логистическую регрессию на тестевой выборке\n",
    "predictions_lr = lr_grid.predict(features_test)\n",
    "lr_test_f1 = round(f1_score(target_test, predictions_lr), 3) \n",
    "print('F1 на тестовой выборке:', lr_test_f1)  "
   ]
  },
  {
   "cell_type": "markdown",
   "metadata": {},
   "source": [
    "## Выводы"
   ]
  },
  {
   "cell_type": "markdown",
   "metadata": {},
   "source": [
    "**Вывод:** На этапе предообработки был удален столбец Unnamed, так как он дублировал признаки. Текст был очищен от лишних символов и лемматизирован. По анализу распределения токсичных комментариев выявлен дисбаланс, доля не токсичных комментариев составляет 10,2 %. После деления фрейма на выборке, бала произведена векторизация текста и сбалансирование классов. В ходе обучения и тестирования лучшей моделью оказалась Линейная регрессия со значением метрики качества F1 в 0.76."
   ]
  },
  {
   "cell_type": "markdown",
   "metadata": {},
   "source": [
    "## Чек-лист проверки"
   ]
  },
  {
   "cell_type": "markdown",
   "metadata": {},
   "source": [
    "- [x]  Jupyter Notebook открыт\n",
    "- [x]  Весь код выполняется без ошибок\n",
    "- [x]  Ячейки с кодом расположены в порядке исполнения\n",
    "- [x]  Данные загружены и подготовлены\n",
    "- [x]  Модели обучены\n",
    "- [x]  Значение метрики *F1* не меньше 0.75\n",
    "- [x]  Выводы написаны"
   ]
  }
 ],
 "metadata": {
  "ExecuteTimeLog": [
   {
    "duration": 63,
    "start_time": "2023-03-06T06:42:17.852Z"
   },
   {
    "duration": 1435,
    "start_time": "2023-03-06T06:42:20.563Z"
   },
   {
    "duration": 2244,
    "start_time": "2023-03-06T06:42:26.662Z"
   },
   {
    "duration": 840,
    "start_time": "2023-03-06T06:48:21.713Z"
   },
   {
    "duration": 889,
    "start_time": "2023-03-06T06:52:25.570Z"
   },
   {
    "duration": 858,
    "start_time": "2023-03-06T07:30:25.514Z"
   },
   {
    "duration": 16,
    "start_time": "2023-03-06T07:41:24.030Z"
   },
   {
    "duration": 257,
    "start_time": "2023-03-06T07:55:28.837Z"
   },
   {
    "duration": 223,
    "start_time": "2023-03-06T07:56:14.890Z"
   },
   {
    "duration": 2347,
    "start_time": "2023-03-06T09:34:05.174Z"
   },
   {
    "duration": 13,
    "start_time": "2023-03-06T09:34:19.365Z"
   },
   {
    "duration": 9,
    "start_time": "2023-03-06T09:34:23.145Z"
   },
   {
    "duration": 1587,
    "start_time": "2023-03-06T09:35:54.505Z"
   },
   {
    "duration": 1067,
    "start_time": "2023-03-06T09:35:56.094Z"
   },
   {
    "duration": 293,
    "start_time": "2023-03-06T09:35:57.164Z"
   },
   {
    "duration": 24,
    "start_time": "2023-03-06T09:35:57.460Z"
   },
   {
    "duration": 164,
    "start_time": "2023-03-06T09:35:57.487Z"
   },
   {
    "duration": 0,
    "start_time": "2023-03-06T09:35:57.654Z"
   },
   {
    "duration": 0,
    "start_time": "2023-03-06T09:35:57.655Z"
   },
   {
    "duration": 12,
    "start_time": "2023-03-06T10:54:55.022Z"
   },
   {
    "duration": 5,
    "start_time": "2023-03-06T10:55:03.106Z"
   },
   {
    "duration": 9,
    "start_time": "2023-03-06T10:55:13.425Z"
   },
   {
    "duration": 40,
    "start_time": "2023-03-06T10:55:17.105Z"
   },
   {
    "duration": 5,
    "start_time": "2023-03-06T10:55:18.954Z"
   },
   {
    "duration": 3740,
    "start_time": "2023-03-06T10:55:20.919Z"
   },
   {
    "duration": 3392,
    "start_time": "2023-03-06T12:14:41.157Z"
   },
   {
    "duration": 15,
    "start_time": "2023-03-06T12:24:18.361Z"
   },
   {
    "duration": 940,
    "start_time": "2023-03-06T12:24:18.379Z"
   },
   {
    "duration": 319,
    "start_time": "2023-03-06T12:24:19.321Z"
   },
   {
    "duration": 19,
    "start_time": "2023-03-06T12:24:19.649Z"
   },
   {
    "duration": 80,
    "start_time": "2023-03-06T12:24:19.671Z"
   },
   {
    "duration": 51,
    "start_time": "2023-03-06T12:24:19.753Z"
   },
   {
    "duration": 4373,
    "start_time": "2023-03-06T12:24:19.807Z"
   },
   {
    "duration": 2793,
    "start_time": "2023-03-13T07:35:48.463Z"
   },
   {
    "duration": 1610,
    "start_time": "2023-03-13T08:00:01.044Z"
   },
   {
    "duration": 1177,
    "start_time": "2023-03-13T08:00:02.656Z"
   },
   {
    "duration": 246,
    "start_time": "2023-03-13T08:00:03.835Z"
   },
   {
    "duration": 16,
    "start_time": "2023-03-13T08:00:04.084Z"
   },
   {
    "duration": 46,
    "start_time": "2023-03-13T08:00:04.102Z"
   },
   {
    "duration": 1813,
    "start_time": "2023-03-13T08:16:36.278Z"
   },
   {
    "duration": 9,
    "start_time": "2023-03-13T12:23:33.351Z"
   },
   {
    "duration": 2971,
    "start_time": "2023-03-13T12:27:14.418Z"
   },
   {
    "duration": 3908,
    "start_time": "2023-03-13T12:27:17.391Z"
   },
   {
    "duration": 245,
    "start_time": "2023-03-13T12:27:21.301Z"
   },
   {
    "duration": 14,
    "start_time": "2023-03-13T12:27:21.547Z"
   },
   {
    "duration": 47,
    "start_time": "2023-03-13T12:27:21.563Z"
   },
   {
    "duration": 23,
    "start_time": "2023-03-13T12:27:21.612Z"
   },
   {
    "duration": 3616,
    "start_time": "2023-03-13T12:27:21.636Z"
   },
   {
    "duration": 3,
    "start_time": "2023-03-13T12:27:25.253Z"
   },
   {
    "duration": 3,
    "start_time": "2023-03-13T12:27:31.911Z"
   },
   {
    "duration": 3,
    "start_time": "2023-03-13T12:27:35.462Z"
   },
   {
    "duration": 336,
    "start_time": "2023-03-14T08:00:24.159Z"
   },
   {
    "duration": 3157,
    "start_time": "2023-03-14T08:00:31.038Z"
   },
   {
    "duration": 1301,
    "start_time": "2023-03-14T08:00:34.198Z"
   },
   {
    "duration": 303,
    "start_time": "2023-03-14T08:00:35.501Z"
   },
   {
    "duration": 13,
    "start_time": "2023-03-14T08:00:35.805Z"
   },
   {
    "duration": 61,
    "start_time": "2023-03-14T08:00:35.820Z"
   },
   {
    "duration": 7,
    "start_time": "2023-03-14T08:00:35.883Z"
   },
   {
    "duration": 10,
    "start_time": "2023-03-14T08:00:35.892Z"
   },
   {
    "duration": 20,
    "start_time": "2023-03-14T08:00:35.904Z"
   },
   {
    "duration": 384,
    "start_time": "2023-03-14T08:01:19.704Z"
   },
   {
    "duration": 335,
    "start_time": "2023-03-14T08:01:43.576Z"
   },
   {
    "duration": 1385,
    "start_time": "2023-03-14T08:01:47.603Z"
   },
   {
    "duration": 828,
    "start_time": "2023-03-14T08:01:48.990Z"
   },
   {
    "duration": 265,
    "start_time": "2023-03-14T08:01:49.819Z"
   },
   {
    "duration": 13,
    "start_time": "2023-03-14T08:01:50.085Z"
   },
   {
    "duration": 38,
    "start_time": "2023-03-14T08:01:50.101Z"
   },
   {
    "duration": 6,
    "start_time": "2023-03-14T08:01:50.141Z"
   },
   {
    "duration": 10,
    "start_time": "2023-03-14T08:01:50.149Z"
   },
   {
    "duration": 26,
    "start_time": "2023-03-14T08:01:50.162Z"
   },
   {
    "duration": 332,
    "start_time": "2023-03-14T08:01:52.112Z"
   },
   {
    "duration": 3,
    "start_time": "2023-03-14T08:02:32.664Z"
   },
   {
    "duration": 321,
    "start_time": "2023-03-14T08:02:35.006Z"
   },
   {
    "duration": 3,
    "start_time": "2023-03-14T08:03:16.106Z"
   },
   {
    "duration": 338,
    "start_time": "2023-03-14T08:03:17.251Z"
   },
   {
    "duration": 388,
    "start_time": "2023-03-14T08:08:27.205Z"
   },
   {
    "duration": 280,
    "start_time": "2023-03-14T08:08:29.690Z"
   },
   {
    "duration": 3,
    "start_time": "2023-03-14T08:08:48.633Z"
   },
   {
    "duration": 283,
    "start_time": "2023-03-14T08:08:57.746Z"
   },
   {
    "duration": 374,
    "start_time": "2023-03-14T08:09:06.722Z"
   },
   {
    "duration": 4042,
    "start_time": "2023-03-14T08:11:06.916Z"
   },
   {
    "duration": 375,
    "start_time": "2023-03-14T08:11:12.037Z"
   },
   {
    "duration": 3361,
    "start_time": "2023-03-14T08:11:37.709Z"
   },
   {
    "duration": 3331,
    "start_time": "2023-03-14T08:11:49.031Z"
   },
   {
    "duration": 3,
    "start_time": "2023-03-14T08:13:02.029Z"
   },
   {
    "duration": 283,
    "start_time": "2023-03-14T08:13:02.600Z"
   },
   {
    "duration": 5,
    "start_time": "2023-03-14T08:13:37.828Z"
   },
   {
    "duration": 3321,
    "start_time": "2023-03-14T08:13:39.026Z"
   },
   {
    "duration": 268,
    "start_time": "2023-03-14T08:13:42.349Z"
   },
   {
    "duration": 4,
    "start_time": "2023-03-14T08:14:11.281Z"
   },
   {
    "duration": 258,
    "start_time": "2023-03-14T08:14:13.839Z"
   },
   {
    "duration": 5,
    "start_time": "2023-03-14T08:14:26.708Z"
   },
   {
    "duration": 4,
    "start_time": "2023-03-14T08:14:27.103Z"
   },
   {
    "duration": 4,
    "start_time": "2023-03-14T08:14:27.340Z"
   },
   {
    "duration": 4,
    "start_time": "2023-03-14T08:14:27.547Z"
   },
   {
    "duration": 5,
    "start_time": "2023-03-14T08:14:27.745Z"
   },
   {
    "duration": 4,
    "start_time": "2023-03-14T08:14:27.935Z"
   },
   {
    "duration": 4,
    "start_time": "2023-03-14T08:14:28.172Z"
   },
   {
    "duration": 4,
    "start_time": "2023-03-14T08:14:28.377Z"
   },
   {
    "duration": 282,
    "start_time": "2023-03-14T08:14:29.535Z"
   },
   {
    "duration": 280,
    "start_time": "2023-03-14T08:16:06.689Z"
   },
   {
    "duration": 5,
    "start_time": "2023-03-14T08:38:43.291Z"
   },
   {
    "duration": 542,
    "start_time": "2023-03-14T08:38:47.321Z"
   },
   {
    "duration": 6,
    "start_time": "2023-03-14T08:40:40.863Z"
   },
   {
    "duration": 3423,
    "start_time": "2023-03-14T08:40:41.749Z"
   },
   {
    "duration": 1175,
    "start_time": "2023-03-14T08:40:45.174Z"
   },
   {
    "duration": 1963,
    "start_time": "2023-03-14T08:41:15.229Z"
   },
   {
    "duration": 395,
    "start_time": "2023-03-14T08:41:20.901Z"
   },
   {
    "duration": 52,
    "start_time": "2023-03-14T08:42:03.519Z"
   },
   {
    "duration": 692,
    "start_time": "2023-03-14T08:42:08.835Z"
   },
   {
    "duration": 2047,
    "start_time": "2023-03-14T12:09:41.424Z"
   },
   {
    "duration": 54,
    "start_time": "2023-03-14T12:25:23.448Z"
   },
   {
    "duration": 1998,
    "start_time": "2023-03-14T12:25:29.409Z"
   },
   {
    "duration": 1475,
    "start_time": "2023-03-14T12:25:31.409Z"
   },
   {
    "duration": 262,
    "start_time": "2023-03-14T12:25:32.886Z"
   },
   {
    "duration": 23,
    "start_time": "2023-03-14T12:25:33.150Z"
   },
   {
    "duration": 5,
    "start_time": "2023-03-14T12:25:33.176Z"
   },
   {
    "duration": 2032,
    "start_time": "2023-03-14T12:25:43.146Z"
   },
   {
    "duration": 1724,
    "start_time": "2023-03-14T12:26:35.791Z"
   },
   {
    "duration": 1484,
    "start_time": "2023-03-14T12:26:37.517Z"
   },
   {
    "duration": 273,
    "start_time": "2023-03-14T12:26:39.003Z"
   },
   {
    "duration": 14,
    "start_time": "2023-03-14T12:26:39.278Z"
   },
   {
    "duration": 6,
    "start_time": "2023-03-14T12:26:39.294Z"
   },
   {
    "duration": 2023,
    "start_time": "2023-03-14T12:26:41.725Z"
   },
   {
    "duration": 4,
    "start_time": "2023-03-14T12:26:51.688Z"
   },
   {
    "duration": 6,
    "start_time": "2023-03-14T12:26:53.867Z"
   },
   {
    "duration": 4796,
    "start_time": "2023-03-14T13:13:56.027Z"
   },
   {
    "duration": 4,
    "start_time": "2023-03-14T13:14:10.995Z"
   },
   {
    "duration": 43651,
    "start_time": "2023-03-14T13:14:12.793Z"
   },
   {
    "duration": 43,
    "start_time": "2023-03-15T07:59:42.913Z"
   },
   {
    "duration": 77,
    "start_time": "2023-03-15T08:00:30.609Z"
   },
   {
    "duration": 2306,
    "start_time": "2023-03-15T08:01:08.010Z"
   },
   {
    "duration": 3776,
    "start_time": "2023-03-15T08:01:14.244Z"
   },
   {
    "duration": 387,
    "start_time": "2023-03-15T08:01:20.844Z"
   },
   {
    "duration": 785,
    "start_time": "2023-03-15T08:01:21.233Z"
   },
   {
    "duration": 236,
    "start_time": "2023-03-15T08:01:22.019Z"
   },
   {
    "duration": 12,
    "start_time": "2023-03-15T08:01:22.258Z"
   },
   {
    "duration": 7,
    "start_time": "2023-03-15T08:01:22.271Z"
   },
   {
    "duration": 1909,
    "start_time": "2023-03-15T08:01:22.279Z"
   },
   {
    "duration": 29,
    "start_time": "2023-03-15T08:01:24.190Z"
   },
   {
    "duration": 33111,
    "start_time": "2023-03-15T08:01:24.221Z"
   },
   {
    "duration": 38331,
    "start_time": "2023-03-15T08:02:09.805Z"
   },
   {
    "duration": 5,
    "start_time": "2023-03-15T08:03:24.831Z"
   },
   {
    "duration": 633,
    "start_time": "2023-03-15T08:05:19.262Z"
   },
   {
    "duration": 2,
    "start_time": "2023-03-15T09:00:19.416Z"
   },
   {
    "duration": 96,
    "start_time": "2023-03-15T09:00:53.822Z"
   },
   {
    "duration": 639,
    "start_time": "2023-03-15T09:01:11.437Z"
   },
   {
    "duration": 829,
    "start_time": "2023-03-15T09:01:12.077Z"
   },
   {
    "duration": 228,
    "start_time": "2023-03-15T09:01:12.907Z"
   },
   {
    "duration": 20,
    "start_time": "2023-03-15T09:01:13.140Z"
   },
   {
    "duration": 21,
    "start_time": "2023-03-15T09:01:13.162Z"
   },
   {
    "duration": 63,
    "start_time": "2023-03-15T09:01:22.932Z"
   },
   {
    "duration": 2064,
    "start_time": "2023-03-15T09:01:26.509Z"
   },
   {
    "duration": 4404,
    "start_time": "2023-03-15T09:01:28.575Z"
   },
   {
    "duration": 251,
    "start_time": "2023-03-15T09:01:32.981Z"
   },
   {
    "duration": 27,
    "start_time": "2023-03-15T09:01:33.234Z"
   },
   {
    "duration": 35,
    "start_time": "2023-03-15T09:01:33.263Z"
   },
   {
    "duration": 1882,
    "start_time": "2023-03-15T09:01:36.310Z"
   },
   {
    "duration": 3,
    "start_time": "2023-03-15T09:01:41.725Z"
   },
   {
    "duration": 85,
    "start_time": "2023-03-15T09:01:44.612Z"
   },
   {
    "duration": 44519,
    "start_time": "2023-03-15T09:02:14.513Z"
   },
   {
    "duration": 735,
    "start_time": "2023-03-15T09:03:04.677Z"
   },
   {
    "duration": 23,
    "start_time": "2023-03-15T09:03:27.234Z"
   },
   {
    "duration": 10,
    "start_time": "2023-03-15T09:03:46.966Z"
   },
   {
    "duration": 757,
    "start_time": "2023-03-15T09:05:00.069Z"
   },
   {
    "duration": 809,
    "start_time": "2023-03-15T09:22:31.872Z"
   },
   {
    "duration": 701,
    "start_time": "2023-03-15T09:22:46.683Z"
   },
   {
    "duration": 12,
    "start_time": "2023-03-15T11:22:39.702Z"
   },
   {
    "duration": 1104,
    "start_time": "2023-03-15T11:23:06.697Z"
   },
   {
    "duration": 27,
    "start_time": "2023-03-15T11:23:12.109Z"
   },
   {
    "duration": 173,
    "start_time": "2023-03-15T11:23:22.029Z"
   },
   {
    "duration": 455,
    "start_time": "2023-03-15T11:23:43.613Z"
   },
   {
    "duration": 215,
    "start_time": "2023-03-15T11:23:50.417Z"
   },
   {
    "duration": 82,
    "start_time": "2023-03-15T11:24:28.820Z"
   },
   {
    "duration": 86,
    "start_time": "2023-03-15T11:24:34.898Z"
   },
   {
    "duration": 95,
    "start_time": "2023-03-15T11:24:59.325Z"
   },
   {
    "duration": 105,
    "start_time": "2023-03-15T11:25:17.898Z"
   },
   {
    "duration": 107,
    "start_time": "2023-03-15T11:25:23.524Z"
   },
   {
    "duration": 3,
    "start_time": "2023-03-15T11:39:35.610Z"
   },
   {
    "duration": 103,
    "start_time": "2023-03-15T11:51:51.614Z"
   },
   {
    "duration": 3,
    "start_time": "2023-03-15T11:56:20.228Z"
   },
   {
    "duration": 4,
    "start_time": "2023-03-15T12:16:32.714Z"
   },
   {
    "duration": 48,
    "start_time": "2023-03-15T12:16:43.180Z"
   },
   {
    "duration": 37,
    "start_time": "2023-03-15T12:17:14.748Z"
   },
   {
    "duration": 32,
    "start_time": "2023-03-15T12:17:24.569Z"
   },
   {
    "duration": 37,
    "start_time": "2023-03-15T12:17:52.942Z"
   },
   {
    "duration": 38,
    "start_time": "2023-03-15T12:18:17.413Z"
   },
   {
    "duration": 34,
    "start_time": "2023-03-15T12:18:19.593Z"
   },
   {
    "duration": 50,
    "start_time": "2023-03-15T12:18:22.433Z"
   },
   {
    "duration": 49,
    "start_time": "2023-03-15T12:18:23.270Z"
   },
   {
    "duration": 35,
    "start_time": "2023-03-15T12:18:55.046Z"
   },
   {
    "duration": 87,
    "start_time": "2023-03-15T12:51:32.919Z"
   },
   {
    "duration": 6018,
    "start_time": "2023-03-15T12:51:47.016Z"
   },
   {
    "duration": 2196,
    "start_time": "2023-03-15T13:00:02.287Z"
   },
   {
    "duration": 77,
    "start_time": "2023-03-15T13:00:11.156Z"
   },
   {
    "duration": 4752,
    "start_time": "2023-03-15T13:00:25.976Z"
   },
   {
    "duration": 4931,
    "start_time": "2023-03-15T13:01:19.212Z"
   },
   {
    "duration": 58,
    "start_time": "2023-03-15T19:08:40.410Z"
   },
   {
    "duration": 3505,
    "start_time": "2023-03-15T19:08:47.667Z"
   },
   {
    "duration": 3912,
    "start_time": "2023-03-15T19:08:51.174Z"
   },
   {
    "duration": 269,
    "start_time": "2023-03-15T19:08:55.088Z"
   },
   {
    "duration": 13,
    "start_time": "2023-03-15T19:08:55.359Z"
   },
   {
    "duration": 4,
    "start_time": "2023-03-15T19:08:55.374Z"
   },
   {
    "duration": 2016,
    "start_time": "2023-03-15T19:08:55.380Z"
   },
   {
    "duration": 7,
    "start_time": "2023-03-15T19:08:57.398Z"
   },
   {
    "duration": 43101,
    "start_time": "2023-03-15T19:08:57.406Z"
   },
   {
    "duration": 693,
    "start_time": "2023-03-15T19:09:40.509Z"
   },
   {
    "duration": 148,
    "start_time": "2023-03-15T19:09:41.204Z"
   },
   {
    "duration": 4,
    "start_time": "2023-03-15T19:09:41.354Z"
   },
   {
    "duration": 57,
    "start_time": "2023-03-15T19:09:41.360Z"
   },
   {
    "duration": 105,
    "start_time": "2023-03-15T19:10:44.019Z"
   },
   {
    "duration": 5315,
    "start_time": "2023-03-15T19:14:08.465Z"
   },
   {
    "duration": 889,
    "start_time": "2023-03-15T19:30:12.270Z"
   },
   {
    "duration": 6,
    "start_time": "2023-03-15T19:30:43.868Z"
   },
   {
    "duration": 6,
    "start_time": "2023-03-15T19:34:48.970Z"
   },
   {
    "duration": 6,
    "start_time": "2023-03-15T19:43:37.861Z"
   },
   {
    "duration": 2,
    "start_time": "2023-03-15T19:43:44.912Z"
   },
   {
    "duration": 909,
    "start_time": "2023-03-15T19:43:54.242Z"
   },
   {
    "duration": 14,
    "start_time": "2023-03-15T19:44:51.836Z"
   },
   {
    "duration": 31,
    "start_time": "2023-03-15T19:45:05.170Z"
   },
   {
    "duration": 38,
    "start_time": "2023-03-15T19:45:07.993Z"
   },
   {
    "duration": 2545,
    "start_time": "2023-03-15T19:45:18.122Z"
   },
   {
    "duration": 3874,
    "start_time": "2023-03-15T19:45:20.669Z"
   },
   {
    "duration": 254,
    "start_time": "2023-03-15T19:45:24.545Z"
   },
   {
    "duration": 13,
    "start_time": "2023-03-15T19:45:24.801Z"
   },
   {
    "duration": 15,
    "start_time": "2023-03-15T19:45:24.816Z"
   },
   {
    "duration": 1996,
    "start_time": "2023-03-15T19:45:24.833Z"
   },
   {
    "duration": 16,
    "start_time": "2023-03-15T19:45:26.831Z"
   },
   {
    "duration": 40936,
    "start_time": "2023-03-15T19:45:26.850Z"
   },
   {
    "duration": 670,
    "start_time": "2023-03-15T19:46:07.787Z"
   },
   {
    "duration": 146,
    "start_time": "2023-03-15T19:46:08.459Z"
   },
   {
    "duration": 47,
    "start_time": "2023-03-15T19:46:08.607Z"
   },
   {
    "duration": 40,
    "start_time": "2023-03-15T19:46:08.656Z"
   },
   {
    "duration": 149,
    "start_time": "2023-03-15T19:46:16.680Z"
   },
   {
    "duration": 2573,
    "start_time": "2023-03-15T19:46:58.827Z"
   },
   {
    "duration": 3901,
    "start_time": "2023-03-15T19:47:01.403Z"
   },
   {
    "duration": 251,
    "start_time": "2023-03-15T19:47:05.306Z"
   },
   {
    "duration": 13,
    "start_time": "2023-03-15T19:47:05.559Z"
   },
   {
    "duration": 7,
    "start_time": "2023-03-15T19:47:05.574Z"
   },
   {
    "duration": 1999,
    "start_time": "2023-03-15T19:47:05.582Z"
   },
   {
    "duration": 12,
    "start_time": "2023-03-15T19:47:07.582Z"
   },
   {
    "duration": 40344,
    "start_time": "2023-03-15T19:47:07.596Z"
   },
   {
    "duration": 656,
    "start_time": "2023-03-15T19:47:47.942Z"
   },
   {
    "duration": 146,
    "start_time": "2023-03-15T19:47:48.600Z"
   },
   {
    "duration": 36,
    "start_time": "2023-03-15T19:47:48.748Z"
   },
   {
    "duration": 35,
    "start_time": "2023-03-15T19:47:48.786Z"
   },
   {
    "duration": 51,
    "start_time": "2023-03-15T19:48:11.504Z"
   },
   {
    "duration": 7,
    "start_time": "2023-03-15T19:51:22.023Z"
   },
   {
    "duration": 6,
    "start_time": "2023-03-15T19:55:41.371Z"
   },
   {
    "duration": 2777,
    "start_time": "2023-03-15T19:55:48.106Z"
   },
   {
    "duration": 3879,
    "start_time": "2023-03-15T19:55:50.885Z"
   },
   {
    "duration": 263,
    "start_time": "2023-03-15T19:55:54.765Z"
   },
   {
    "duration": 17,
    "start_time": "2023-03-15T19:55:55.031Z"
   },
   {
    "duration": 8,
    "start_time": "2023-03-15T19:55:55.049Z"
   },
   {
    "duration": 2007,
    "start_time": "2023-03-15T19:55:55.058Z"
   },
   {
    "duration": 5,
    "start_time": "2023-03-15T19:55:57.067Z"
   },
   {
    "duration": 40230,
    "start_time": "2023-03-15T19:55:57.073Z"
   },
   {
    "duration": 770,
    "start_time": "2023-03-15T19:56:37.305Z"
   },
   {
    "duration": 150,
    "start_time": "2023-03-15T19:56:38.077Z"
   },
   {
    "duration": 2429,
    "start_time": "2023-03-15T19:59:37.918Z"
   },
   {
    "duration": 3906,
    "start_time": "2023-03-15T19:59:40.350Z"
   },
   {
    "duration": 275,
    "start_time": "2023-03-15T19:59:44.258Z"
   },
   {
    "duration": 14,
    "start_time": "2023-03-15T19:59:44.540Z"
   },
   {
    "duration": 4,
    "start_time": "2023-03-15T19:59:44.556Z"
   },
   {
    "duration": 2023,
    "start_time": "2023-03-15T19:59:44.562Z"
   },
   {
    "duration": 4,
    "start_time": "2023-03-15T19:59:46.587Z"
   },
   {
    "duration": 41874,
    "start_time": "2023-03-15T19:59:46.593Z"
   },
   {
    "duration": 703,
    "start_time": "2023-03-15T20:00:28.469Z"
   },
   {
    "duration": 164,
    "start_time": "2023-03-15T20:00:29.175Z"
   },
   {
    "duration": 2724,
    "start_time": "2023-03-15T20:01:05.327Z"
   },
   {
    "duration": 4218,
    "start_time": "2023-03-15T20:01:24.555Z"
   },
   {
    "duration": 298,
    "start_time": "2023-03-15T20:01:28.774Z"
   },
   {
    "duration": 14,
    "start_time": "2023-03-15T20:01:29.074Z"
   },
   {
    "duration": 8,
    "start_time": "2023-03-15T20:01:29.090Z"
   },
   {
    "duration": 2197,
    "start_time": "2023-03-15T20:01:29.101Z"
   },
   {
    "duration": 40,
    "start_time": "2023-03-15T20:01:31.299Z"
   },
   {
    "duration": 44077,
    "start_time": "2023-03-15T20:01:31.342Z"
   },
   {
    "duration": 706,
    "start_time": "2023-03-15T20:02:15.420Z"
   },
   {
    "duration": 159,
    "start_time": "2023-03-15T20:02:16.128Z"
   },
   {
    "duration": 50,
    "start_time": "2023-03-15T20:02:51.025Z"
   },
   {
    "duration": 6,
    "start_time": "2023-03-15T20:03:16.138Z"
   },
   {
    "duration": 2494,
    "start_time": "2023-03-15T20:03:26.063Z"
   },
   {
    "duration": 3934,
    "start_time": "2023-03-15T20:03:28.559Z"
   },
   {
    "duration": 270,
    "start_time": "2023-03-15T20:03:32.495Z"
   },
   {
    "duration": 16,
    "start_time": "2023-03-15T20:03:32.768Z"
   },
   {
    "duration": 6,
    "start_time": "2023-03-15T20:03:32.785Z"
   },
   {
    "duration": 2051,
    "start_time": "2023-03-15T20:03:32.793Z"
   },
   {
    "duration": 7,
    "start_time": "2023-03-15T20:03:34.845Z"
   },
   {
    "duration": 49,
    "start_time": "2023-03-16T07:32:42.243Z"
   },
   {
    "duration": 6,
    "start_time": "2023-03-16T07:32:52.521Z"
   },
   {
    "duration": 2664,
    "start_time": "2023-03-16T07:33:01.773Z"
   },
   {
    "duration": 3942,
    "start_time": "2023-03-16T07:33:04.439Z"
   },
   {
    "duration": 251,
    "start_time": "2023-03-16T07:33:08.383Z"
   },
   {
    "duration": 13,
    "start_time": "2023-03-16T07:33:08.640Z"
   },
   {
    "duration": 7,
    "start_time": "2023-03-16T07:33:08.655Z"
   },
   {
    "duration": 1957,
    "start_time": "2023-03-16T07:33:08.663Z"
   },
   {
    "duration": 4,
    "start_time": "2023-03-16T07:33:10.622Z"
   },
   {
    "duration": 40804,
    "start_time": "2023-03-16T07:33:39.401Z"
   },
   {
    "duration": 673,
    "start_time": "2023-03-16T07:34:20.206Z"
   },
   {
    "duration": 160,
    "start_time": "2023-03-16T07:34:20.881Z"
   },
   {
    "duration": 4,
    "start_time": "2023-03-16T07:34:21.043Z"
   },
   {
    "duration": 9,
    "start_time": "2023-03-16T07:34:24.797Z"
   },
   {
    "duration": 4,
    "start_time": "2023-03-16T07:38:00.066Z"
   },
   {
    "duration": 38101,
    "start_time": "2023-03-16T07:38:39.666Z"
   },
   {
    "duration": 675,
    "start_time": "2023-03-16T07:39:24.297Z"
   },
   {
    "duration": 123,
    "start_time": "2023-03-16T07:39:36.900Z"
   },
   {
    "duration": 4,
    "start_time": "2023-03-16T07:39:40.361Z"
   },
   {
    "duration": 29,
    "start_time": "2023-03-16T07:40:01.243Z"
   },
   {
    "duration": 4,
    "start_time": "2023-03-16T07:40:03.677Z"
   },
   {
    "duration": 5284,
    "start_time": "2023-03-16T07:40:06.224Z"
   },
   {
    "duration": 34489,
    "start_time": "2023-03-16T07:44:34.041Z"
   },
   {
    "duration": 11,
    "start_time": "2023-03-16T07:45:18.478Z"
   },
   {
    "duration": 3,
    "start_time": "2023-03-16T07:45:36.205Z"
   },
   {
    "duration": 32,
    "start_time": "2023-03-16T07:45:37.473Z"
   },
   {
    "duration": 5,
    "start_time": "2023-03-16T07:45:39.325Z"
   },
   {
    "duration": 5038,
    "start_time": "2023-03-16T07:45:40.321Z"
   },
   {
    "duration": 1174,
    "start_time": "2023-03-16T07:58:50.778Z"
   },
   {
    "duration": 1281,
    "start_time": "2023-03-16T07:59:44.810Z"
   },
   {
    "duration": 10,
    "start_time": "2023-03-16T07:59:52.437Z"
   },
   {
    "duration": 15,
    "start_time": "2023-03-16T08:01:27.097Z"
   },
   {
    "duration": 21,
    "start_time": "2023-03-16T08:01:53.521Z"
   },
   {
    "duration": 10,
    "start_time": "2023-03-16T08:02:02.517Z"
   },
   {
    "duration": 44,
    "start_time": "2023-03-16T08:02:05.313Z"
   },
   {
    "duration": 5,
    "start_time": "2023-03-16T08:02:07.265Z"
   },
   {
    "duration": 17,
    "start_time": "2023-03-16T08:02:10.469Z"
   },
   {
    "duration": 2218,
    "start_time": "2023-03-16T08:02:50.358Z"
   },
   {
    "duration": 3903,
    "start_time": "2023-03-16T08:02:52.578Z"
   },
   {
    "duration": 272,
    "start_time": "2023-03-16T08:02:56.483Z"
   },
   {
    "duration": 13,
    "start_time": "2023-03-16T08:02:56.758Z"
   },
   {
    "duration": 17,
    "start_time": "2023-03-16T08:02:56.773Z"
   },
   {
    "duration": 2098,
    "start_time": "2023-03-16T08:02:56.792Z"
   },
   {
    "duration": 5,
    "start_time": "2023-03-16T08:02:58.892Z"
   },
   {
    "duration": 4169,
    "start_time": "2023-03-16T08:02:58.899Z"
   },
   {
    "duration": 137,
    "start_time": "2023-03-16T08:03:03.069Z"
   },
   {
    "duration": 9,
    "start_time": "2023-03-16T08:03:03.208Z"
   },
   {
    "duration": 37,
    "start_time": "2023-03-16T08:03:03.219Z"
   },
   {
    "duration": 12,
    "start_time": "2023-03-16T08:03:03.258Z"
   },
   {
    "duration": 50,
    "start_time": "2023-03-16T08:03:24.033Z"
   },
   {
    "duration": 9,
    "start_time": "2023-03-16T08:05:00.038Z"
   },
   {
    "duration": 2112,
    "start_time": "2023-03-16T08:05:08.782Z"
   },
   {
    "duration": 3922,
    "start_time": "2023-03-16T08:05:10.896Z"
   },
   {
    "duration": 272,
    "start_time": "2023-03-16T08:05:14.820Z"
   },
   {
    "duration": 12,
    "start_time": "2023-03-16T08:05:15.094Z"
   },
   {
    "duration": 8,
    "start_time": "2023-03-16T08:05:15.109Z"
   },
   {
    "duration": 2059,
    "start_time": "2023-03-16T08:05:15.119Z"
   },
   {
    "duration": 15,
    "start_time": "2023-03-16T08:05:17.180Z"
   },
   {
    "duration": 4373,
    "start_time": "2023-03-16T08:05:17.197Z"
   },
   {
    "duration": 139,
    "start_time": "2023-03-16T08:05:21.572Z"
   },
   {
    "duration": 10,
    "start_time": "2023-03-16T08:05:21.713Z"
   },
   {
    "duration": 33,
    "start_time": "2023-03-16T08:05:48.940Z"
   },
   {
    "duration": 10,
    "start_time": "2023-03-16T08:05:51.381Z"
   },
   {
    "duration": 54,
    "start_time": "2023-03-16T08:06:47.249Z"
   },
   {
    "duration": 2172,
    "start_time": "2023-03-16T08:06:50.846Z"
   },
   {
    "duration": 3894,
    "start_time": "2023-03-16T08:06:53.020Z"
   },
   {
    "duration": 259,
    "start_time": "2023-03-16T08:06:56.915Z"
   },
   {
    "duration": 14,
    "start_time": "2023-03-16T08:06:57.177Z"
   },
   {
    "duration": 5,
    "start_time": "2023-03-16T08:06:57.194Z"
   },
   {
    "duration": 2122,
    "start_time": "2023-03-16T08:06:57.201Z"
   },
   {
    "duration": 4,
    "start_time": "2023-03-16T08:06:59.324Z"
   },
   {
    "duration": 4169,
    "start_time": "2023-03-16T08:06:59.340Z"
   },
   {
    "duration": 144,
    "start_time": "2023-03-16T08:07:03.511Z"
   },
   {
    "duration": 10,
    "start_time": "2023-03-16T08:07:03.657Z"
   },
   {
    "duration": 32,
    "start_time": "2023-03-16T08:07:03.669Z"
   },
   {
    "duration": 8,
    "start_time": "2023-03-16T08:07:03.703Z"
   },
   {
    "duration": 53,
    "start_time": "2023-03-16T08:08:02.017Z"
   },
   {
    "duration": 7,
    "start_time": "2023-03-16T08:08:17.149Z"
   },
   {
    "duration": 2229,
    "start_time": "2023-03-16T08:08:21.611Z"
   },
   {
    "duration": 3937,
    "start_time": "2023-03-16T08:08:23.842Z"
   },
   {
    "duration": 298,
    "start_time": "2023-03-16T08:08:27.782Z"
   },
   {
    "duration": 13,
    "start_time": "2023-03-16T08:08:28.082Z"
   },
   {
    "duration": 4,
    "start_time": "2023-03-16T08:08:28.097Z"
   },
   {
    "duration": 2057,
    "start_time": "2023-03-16T08:08:28.102Z"
   },
   {
    "duration": 72,
    "start_time": "2023-03-16T08:08:30.161Z"
   },
   {
    "duration": 4356,
    "start_time": "2023-03-16T08:08:30.235Z"
   },
   {
    "duration": 136,
    "start_time": "2023-03-16T08:08:34.593Z"
   },
   {
    "duration": 16,
    "start_time": "2023-03-16T08:08:34.732Z"
   },
   {
    "duration": 35,
    "start_time": "2023-03-16T08:08:34.749Z"
   },
   {
    "duration": 7,
    "start_time": "2023-03-16T08:08:34.785Z"
   },
   {
    "duration": 108,
    "start_time": "2023-03-16T08:08:37.993Z"
   },
   {
    "duration": 216,
    "start_time": "2023-03-16T08:11:55.870Z"
   },
   {
    "duration": 862,
    "start_time": "2023-03-16T08:11:56.088Z"
   },
   {
    "duration": 263,
    "start_time": "2023-03-16T08:11:56.952Z"
   },
   {
    "duration": 14,
    "start_time": "2023-03-16T08:11:57.217Z"
   },
   {
    "duration": 6,
    "start_time": "2023-03-16T08:11:57.241Z"
   },
   {
    "duration": 50,
    "start_time": "2023-03-16T08:13:00.189Z"
   },
   {
    "duration": 2156,
    "start_time": "2023-03-16T08:13:05.359Z"
   },
   {
    "duration": 3900,
    "start_time": "2023-03-16T08:13:07.517Z"
   },
   {
    "duration": 250,
    "start_time": "2023-03-16T08:13:11.419Z"
   },
   {
    "duration": 13,
    "start_time": "2023-03-16T08:13:11.670Z"
   },
   {
    "duration": 6,
    "start_time": "2023-03-16T08:13:11.685Z"
   },
   {
    "duration": 2020,
    "start_time": "2023-03-16T08:13:11.692Z"
   },
   {
    "duration": 4,
    "start_time": "2023-03-16T08:13:17.037Z"
   },
   {
    "duration": 4086,
    "start_time": "2023-03-16T08:13:19.055Z"
   },
   {
    "duration": 11,
    "start_time": "2023-03-16T08:13:31.217Z"
   },
   {
    "duration": 10,
    "start_time": "2023-03-16T08:13:39.117Z"
   },
   {
    "duration": 28,
    "start_time": "2023-03-16T08:13:39.941Z"
   },
   {
    "duration": 91,
    "start_time": "2023-03-16T08:13:41.470Z"
   },
   {
    "duration": 10,
    "start_time": "2023-03-16T08:13:46.784Z"
   },
   {
    "duration": 17,
    "start_time": "2023-03-16T08:13:48.910Z"
   },
   {
    "duration": 7,
    "start_time": "2023-03-16T08:14:52.118Z"
   },
   {
    "duration": 41,
    "start_time": "2023-03-16T08:18:57.593Z"
   },
   {
    "duration": 9,
    "start_time": "2023-03-16T08:19:14.593Z"
   },
   {
    "duration": 31,
    "start_time": "2023-03-16T08:19:21.433Z"
   },
   {
    "duration": 8,
    "start_time": "2023-03-16T08:19:30.181Z"
   },
   {
    "duration": 10,
    "start_time": "2023-03-16T08:19:35.017Z"
   },
   {
    "duration": 5,
    "start_time": "2023-03-16T08:19:40.135Z"
   },
   {
    "duration": 34,
    "start_time": "2023-03-16T08:20:16.438Z"
   },
   {
    "duration": 5,
    "start_time": "2023-03-16T08:20:18.224Z"
   },
   {
    "duration": 5,
    "start_time": "2023-03-16T08:20:20.834Z"
   },
   {
    "duration": 32,
    "start_time": "2023-03-16T08:20:44.854Z"
   },
   {
    "duration": 32,
    "start_time": "2023-03-16T08:21:47.532Z"
   },
   {
    "duration": 30,
    "start_time": "2023-03-16T08:22:04.914Z"
   },
   {
    "duration": 5,
    "start_time": "2023-03-16T08:22:20.779Z"
   },
   {
    "duration": 3,
    "start_time": "2023-03-16T08:34:46.037Z"
   },
   {
    "duration": 1261,
    "start_time": "2023-03-16T08:34:52.170Z"
   },
   {
    "duration": 324,
    "start_time": "2023-03-16T08:34:59.342Z"
   },
   {
    "duration": 918,
    "start_time": "2023-03-16T08:34:59.668Z"
   },
   {
    "duration": 274,
    "start_time": "2023-03-16T08:35:00.589Z"
   },
   {
    "duration": 13,
    "start_time": "2023-03-16T08:35:00.866Z"
   },
   {
    "duration": 25,
    "start_time": "2023-03-16T08:35:00.881Z"
   },
   {
    "duration": 2137,
    "start_time": "2023-03-16T08:35:09.495Z"
   },
   {
    "duration": 4106,
    "start_time": "2023-03-16T08:35:11.641Z"
   },
   {
    "duration": 270,
    "start_time": "2023-03-16T08:35:15.748Z"
   },
   {
    "duration": 21,
    "start_time": "2023-03-16T08:35:16.020Z"
   },
   {
    "duration": 17,
    "start_time": "2023-03-16T08:35:16.044Z"
   },
   {
    "duration": 2179,
    "start_time": "2023-03-16T08:35:16.063Z"
   },
   {
    "duration": 4,
    "start_time": "2023-03-16T08:37:36.201Z"
   },
   {
    "duration": 445,
    "start_time": "2023-03-16T08:41:21.137Z"
   },
   {
    "duration": 8,
    "start_time": "2023-03-16T08:41:31.847Z"
   },
   {
    "duration": 40427,
    "start_time": "2023-03-16T08:41:34.014Z"
   },
   {
    "duration": 11,
    "start_time": "2023-03-16T08:42:23.402Z"
   },
   {
    "duration": 35,
    "start_time": "2023-03-16T08:42:26.382Z"
   },
   {
    "duration": 44,
    "start_time": "2023-03-16T08:42:48.825Z"
   },
   {
    "duration": 9,
    "start_time": "2023-03-16T08:46:07.446Z"
   },
   {
    "duration": 10,
    "start_time": "2023-03-16T08:46:18.301Z"
   },
   {
    "duration": 7,
    "start_time": "2023-03-16T08:46:20.210Z"
   },
   {
    "duration": 33,
    "start_time": "2023-03-16T10:47:53.709Z"
   },
   {
    "duration": 179,
    "start_time": "2023-03-16T11:02:57.401Z"
   },
   {
    "duration": 5,
    "start_time": "2023-03-16T11:08:15.097Z"
   },
   {
    "duration": 4,
    "start_time": "2023-03-16T11:08:32.677Z"
   },
   {
    "duration": 3,
    "start_time": "2023-03-16T11:09:00.987Z"
   },
   {
    "duration": 54,
    "start_time": "2023-03-16T11:11:00.756Z"
   },
   {
    "duration": 2521,
    "start_time": "2023-03-16T11:11:07.001Z"
   },
   {
    "duration": 3959,
    "start_time": "2023-03-16T11:11:09.524Z"
   },
   {
    "duration": 291,
    "start_time": "2023-03-16T11:11:13.485Z"
   },
   {
    "duration": 15,
    "start_time": "2023-03-16T11:11:13.778Z"
   },
   {
    "duration": 6,
    "start_time": "2023-03-16T11:11:13.795Z"
   },
   {
    "duration": 2114,
    "start_time": "2023-03-16T11:11:13.803Z"
   },
   {
    "duration": 9,
    "start_time": "2023-03-16T11:11:15.919Z"
   },
   {
    "duration": 35984,
    "start_time": "2023-03-16T11:11:15.929Z"
   },
   {
    "duration": 157,
    "start_time": "2023-03-16T11:11:51.915Z"
   },
   {
    "duration": 11,
    "start_time": "2023-03-16T11:11:52.075Z"
   },
   {
    "duration": 43,
    "start_time": "2023-03-16T11:11:52.087Z"
   },
   {
    "duration": 6,
    "start_time": "2023-03-16T11:12:40.681Z"
   },
   {
    "duration": 42,
    "start_time": "2023-03-16T11:12:44.577Z"
   },
   {
    "duration": 7078,
    "start_time": "2023-03-16T11:12:46.595Z"
   },
   {
    "duration": 4,
    "start_time": "2023-03-16T11:13:05.698Z"
   },
   {
    "duration": 5,
    "start_time": "2023-03-16T11:13:42.714Z"
   },
   {
    "duration": 406,
    "start_time": "2023-03-16T11:13:51.256Z"
   },
   {
    "duration": 888,
    "start_time": "2023-03-16T11:13:51.664Z"
   },
   {
    "duration": 252,
    "start_time": "2023-03-16T11:13:52.553Z"
   },
   {
    "duration": 13,
    "start_time": "2023-03-16T11:13:52.807Z"
   },
   {
    "duration": 11,
    "start_time": "2023-03-16T11:13:52.821Z"
   },
   {
    "duration": 2325,
    "start_time": "2023-03-16T11:14:05.057Z"
   },
   {
    "duration": 3944,
    "start_time": "2023-03-16T11:14:07.386Z"
   },
   {
    "duration": 256,
    "start_time": "2023-03-16T11:14:11.331Z"
   },
   {
    "duration": 13,
    "start_time": "2023-03-16T11:14:11.588Z"
   },
   {
    "duration": 3,
    "start_time": "2023-03-16T11:14:11.603Z"
   },
   {
    "duration": 2056,
    "start_time": "2023-03-16T11:14:11.608Z"
   },
   {
    "duration": 5,
    "start_time": "2023-03-16T11:14:13.666Z"
   },
   {
    "duration": 37050,
    "start_time": "2023-03-16T11:14:13.672Z"
   },
   {
    "duration": 155,
    "start_time": "2023-03-16T11:14:50.724Z"
   },
   {
    "duration": 74,
    "start_time": "2023-03-16T11:14:50.880Z"
   },
   {
    "duration": 38,
    "start_time": "2023-03-16T11:14:50.956Z"
   },
   {
    "duration": 62,
    "start_time": "2023-03-16T12:04:11.936Z"
   },
   {
    "duration": 2463,
    "start_time": "2023-03-16T12:04:16.601Z"
   },
   {
    "duration": 4192,
    "start_time": "2023-03-16T12:04:19.066Z"
   },
   {
    "duration": 277,
    "start_time": "2023-03-16T12:04:23.260Z"
   },
   {
    "duration": 14,
    "start_time": "2023-03-16T12:04:23.541Z"
   },
   {
    "duration": 8,
    "start_time": "2023-03-16T12:04:23.557Z"
   },
   {
    "duration": 2842,
    "start_time": "2023-03-16T12:04:23.567Z"
   },
   {
    "duration": 33,
    "start_time": "2023-03-16T12:04:26.411Z"
   },
   {
    "duration": 38423,
    "start_time": "2023-03-16T12:04:26.446Z"
   },
   {
    "duration": 155,
    "start_time": "2023-03-16T12:05:04.870Z"
   },
   {
    "duration": 3,
    "start_time": "2023-03-16T12:05:05.027Z"
   },
   {
    "duration": 32,
    "start_time": "2023-03-16T12:05:44.121Z"
   },
   {
    "duration": 7312,
    "start_time": "2023-03-16T12:05:47.654Z"
   },
   {
    "duration": 43,
    "start_time": "2023-03-16T12:14:12.307Z"
   },
   {
    "duration": 38,
    "start_time": "2023-03-16T12:14:19.901Z"
   },
   {
    "duration": 42,
    "start_time": "2023-03-16T12:15:55.802Z"
   },
   {
    "duration": 54,
    "start_time": "2023-03-16T12:16:01.889Z"
   },
   {
    "duration": 51,
    "start_time": "2023-03-16T12:29:14.089Z"
   },
   {
    "duration": 53,
    "start_time": "2023-03-16T16:59:51.032Z"
   },
   {
    "duration": 3164,
    "start_time": "2023-03-16T16:59:55.893Z"
   },
   {
    "duration": 4172,
    "start_time": "2023-03-16T16:59:59.058Z"
   },
   {
    "duration": 254,
    "start_time": "2023-03-16T17:00:03.233Z"
   },
   {
    "duration": 13,
    "start_time": "2023-03-16T17:00:03.489Z"
   },
   {
    "duration": 27,
    "start_time": "2023-03-16T17:00:03.504Z"
   },
   {
    "duration": 2243,
    "start_time": "2023-03-16T17:00:03.532Z"
   },
   {
    "duration": 12,
    "start_time": "2023-03-16T17:00:05.776Z"
   },
   {
    "duration": 35868,
    "start_time": "2023-03-16T17:00:05.789Z"
   },
   {
    "duration": 155,
    "start_time": "2023-03-16T17:00:41.659Z"
   },
   {
    "duration": 3,
    "start_time": "2023-03-16T17:00:41.817Z"
   },
   {
    "duration": 47,
    "start_time": "2023-03-16T17:00:41.822Z"
   },
   {
    "duration": 6962,
    "start_time": "2023-03-16T17:00:41.871Z"
   },
   {
    "duration": 86,
    "start_time": "2023-03-16T17:03:59.924Z"
   },
   {
    "duration": 144,
    "start_time": "2023-03-16T17:04:23.467Z"
   },
   {
    "duration": 66,
    "start_time": "2023-03-16T17:04:30.328Z"
   },
   {
    "duration": 68,
    "start_time": "2023-03-16T17:51:26.236Z"
   },
   {
    "duration": 72,
    "start_time": "2023-03-16T17:53:50.508Z"
   },
   {
    "duration": 52,
    "start_time": "2023-03-17T06:11:17.458Z"
   },
   {
    "duration": 2497,
    "start_time": "2023-03-17T06:11:26.264Z"
   },
   {
    "duration": 1285,
    "start_time": "2023-03-17T06:11:28.762Z"
   },
   {
    "duration": 257,
    "start_time": "2023-03-17T06:11:30.049Z"
   },
   {
    "duration": 10,
    "start_time": "2023-03-17T06:11:30.310Z"
   },
   {
    "duration": 53,
    "start_time": "2023-03-17T06:11:30.321Z"
   },
   {
    "duration": 1725,
    "start_time": "2023-03-17T06:11:30.376Z"
   },
   {
    "duration": 5,
    "start_time": "2023-03-17T06:11:32.103Z"
   },
   {
    "duration": 38700,
    "start_time": "2023-03-17T06:11:32.111Z"
   },
   {
    "duration": 139,
    "start_time": "2023-03-17T06:12:10.812Z"
   },
   {
    "duration": 4,
    "start_time": "2023-03-17T06:12:10.953Z"
   },
   {
    "duration": 37,
    "start_time": "2023-03-17T06:12:10.959Z"
   },
   {
    "duration": 7224,
    "start_time": "2023-03-17T06:12:10.997Z"
   },
   {
    "duration": 6426,
    "start_time": "2023-03-17T06:13:42.599Z"
   },
   {
    "duration": 71,
    "start_time": "2023-03-17T06:13:49.026Z"
   },
   {
    "duration": 62,
    "start_time": "2023-03-17T06:17:24.564Z"
   },
   {
    "duration": 48,
    "start_time": "2023-03-17T06:17:33.607Z"
   },
   {
    "duration": 78,
    "start_time": "2023-03-17T06:17:43.769Z"
   },
   {
    "duration": 78,
    "start_time": "2023-03-17T06:18:23.267Z"
   },
   {
    "duration": 81,
    "start_time": "2023-03-17T06:18:29.279Z"
   },
   {
    "duration": 63,
    "start_time": "2023-03-17T06:18:44.896Z"
   },
   {
    "duration": 47,
    "start_time": "2023-03-17T06:19:09.514Z"
   },
   {
    "duration": 80,
    "start_time": "2023-03-17T06:19:39.458Z"
   },
   {
    "duration": 238,
    "start_time": "2023-03-17T06:19:46.601Z"
   },
   {
    "duration": 1229,
    "start_time": "2023-03-17T06:19:46.841Z"
   },
   {
    "duration": 251,
    "start_time": "2023-03-17T06:19:48.071Z"
   },
   {
    "duration": 8,
    "start_time": "2023-03-17T06:19:48.324Z"
   },
   {
    "duration": 5,
    "start_time": "2023-03-17T06:19:48.334Z"
   },
   {
    "duration": 4165,
    "start_time": "2023-03-17T06:19:58.809Z"
   },
   {
    "duration": 1432,
    "start_time": "2023-03-17T06:20:02.975Z"
   },
   {
    "duration": 252,
    "start_time": "2023-03-17T06:20:04.409Z"
   },
   {
    "duration": 10,
    "start_time": "2023-03-17T06:20:04.663Z"
   },
   {
    "duration": 46,
    "start_time": "2023-03-17T06:20:04.674Z"
   },
   {
    "duration": 1679,
    "start_time": "2023-03-17T06:20:04.722Z"
   },
   {
    "duration": 3,
    "start_time": "2023-03-17T06:20:06.402Z"
   },
   {
    "duration": 38514,
    "start_time": "2023-03-17T06:20:06.407Z"
   },
   {
    "duration": 131,
    "start_time": "2023-03-17T06:20:44.922Z"
   },
   {
    "duration": 3,
    "start_time": "2023-03-17T06:20:45.056Z"
   },
   {
    "duration": 50,
    "start_time": "2023-03-17T06:20:45.060Z"
   },
   {
    "duration": 6451,
    "start_time": "2023-03-17T06:21:24.925Z"
   },
   {
    "duration": 75,
    "start_time": "2023-03-17T06:21:31.379Z"
   },
   {
    "duration": 60,
    "start_time": "2023-03-17T06:21:41.206Z"
   },
   {
    "duration": 191,
    "start_time": "2023-03-17T06:21:50.420Z"
   },
   {
    "duration": 59,
    "start_time": "2023-03-17T06:22:06.205Z"
   },
   {
    "duration": 79,
    "start_time": "2023-03-17T06:22:33.739Z"
   },
   {
    "duration": 74,
    "start_time": "2023-03-17T06:23:02.653Z"
   },
   {
    "duration": 45,
    "start_time": "2023-03-17T06:23:20.220Z"
   },
   {
    "duration": 71,
    "start_time": "2023-03-17T06:26:02.702Z"
   },
   {
    "duration": 55,
    "start_time": "2023-03-17T06:26:13.409Z"
   },
   {
    "duration": 202,
    "start_time": "2023-03-17T06:26:25.356Z"
   },
   {
    "duration": 214,
    "start_time": "2023-03-17T06:26:55.134Z"
   },
   {
    "duration": 53,
    "start_time": "2023-03-17T06:27:12.725Z"
   },
   {
    "duration": 84,
    "start_time": "2023-03-17T06:27:19.251Z"
   },
   {
    "duration": 56,
    "start_time": "2023-03-17T06:27:22.966Z"
   },
   {
    "duration": 87,
    "start_time": "2023-03-17T07:53:39.044Z"
   },
   {
    "duration": 66,
    "start_time": "2023-03-17T07:54:18.679Z"
   },
   {
    "duration": 268,
    "start_time": "2023-03-17T07:55:02.813Z"
   },
   {
    "duration": 56,
    "start_time": "2023-03-17T07:55:52.582Z"
   },
   {
    "duration": 27,
    "start_time": "2023-03-17T07:59:01.156Z"
   },
   {
    "duration": 29,
    "start_time": "2023-03-17T07:59:21.207Z"
   },
   {
    "duration": 93,
    "start_time": "2023-03-17T07:59:45.255Z"
   },
   {
    "duration": 83,
    "start_time": "2023-03-17T08:00:36.315Z"
   },
   {
    "duration": 1143,
    "start_time": "2023-03-17T08:00:57.998Z"
   },
   {
    "duration": 85,
    "start_time": "2023-03-17T08:01:28.564Z"
   },
   {
    "duration": 763,
    "start_time": "2023-03-17T08:01:57.529Z"
   },
   {
    "duration": 825,
    "start_time": "2023-03-17T08:03:26.416Z"
   },
   {
    "duration": 1296,
    "start_time": "2023-03-17T08:05:05.101Z"
   },
   {
    "duration": 111,
    "start_time": "2023-03-17T08:05:37.199Z"
   },
   {
    "duration": 1115,
    "start_time": "2023-03-17T08:14:05.940Z"
   },
   {
    "duration": 542,
    "start_time": "2023-03-17T08:16:39.102Z"
   },
   {
    "duration": 663,
    "start_time": "2023-03-17T08:17:20.118Z"
   },
   {
    "duration": 654,
    "start_time": "2023-03-17T08:18:59.107Z"
   },
   {
    "duration": 500,
    "start_time": "2023-03-17T08:19:43.216Z"
   },
   {
    "duration": 617,
    "start_time": "2023-03-17T08:20:50.757Z"
   },
   {
    "duration": 1129,
    "start_time": "2023-03-17T08:20:51.377Z"
   },
   {
    "duration": 233,
    "start_time": "2023-03-17T08:20:52.508Z"
   },
   {
    "duration": 8,
    "start_time": "2023-03-17T08:20:52.743Z"
   },
   {
    "duration": 14,
    "start_time": "2023-03-17T08:20:52.752Z"
   },
   {
    "duration": 2560,
    "start_time": "2023-03-17T08:20:58.817Z"
   },
   {
    "duration": 1203,
    "start_time": "2023-03-17T08:21:01.378Z"
   },
   {
    "duration": 271,
    "start_time": "2023-03-17T08:21:02.582Z"
   },
   {
    "duration": 8,
    "start_time": "2023-03-17T08:21:02.855Z"
   },
   {
    "duration": 33,
    "start_time": "2023-03-17T08:21:02.865Z"
   },
   {
    "duration": 1613,
    "start_time": "2023-03-17T08:21:02.900Z"
   },
   {
    "duration": 7,
    "start_time": "2023-03-17T08:21:04.515Z"
   },
   {
    "duration": 35826,
    "start_time": "2023-03-17T08:21:04.524Z"
   },
   {
    "duration": 144,
    "start_time": "2023-03-17T08:21:40.352Z"
   },
   {
    "duration": 3,
    "start_time": "2023-03-17T08:21:40.498Z"
   },
   {
    "duration": 29,
    "start_time": "2023-03-17T08:21:40.503Z"
   },
   {
    "duration": 5949,
    "start_time": "2023-03-17T08:21:40.534Z"
   },
   {
    "duration": 47,
    "start_time": "2023-03-17T08:21:46.485Z"
   },
   {
    "duration": 874,
    "start_time": "2023-03-17T08:21:46.534Z"
   },
   {
    "duration": 640,
    "start_time": "2023-03-17T08:35:18.323Z"
   },
   {
    "duration": 100,
    "start_time": "2023-03-17T08:35:41.767Z"
   },
   {
    "duration": 115,
    "start_time": "2023-03-17T08:37:26.656Z"
   },
   {
    "duration": 560,
    "start_time": "2023-03-17T08:37:41.370Z"
   },
   {
    "duration": 9,
    "start_time": "2023-03-17T08:38:07.304Z"
   },
   {
    "duration": 7,
    "start_time": "2023-03-17T08:38:57.132Z"
   },
   {
    "duration": 6,
    "start_time": "2023-03-17T08:39:30.547Z"
   },
   {
    "duration": 13,
    "start_time": "2023-03-17T08:41:25.912Z"
   },
   {
    "duration": 43,
    "start_time": "2023-03-17T08:42:20.678Z"
   },
   {
    "duration": 7,
    "start_time": "2023-03-17T08:44:13.773Z"
   },
   {
    "duration": 2,
    "start_time": "2023-03-17T08:44:21.628Z"
   },
   {
    "duration": 13,
    "start_time": "2023-03-17T08:45:00.052Z"
   },
   {
    "duration": 12,
    "start_time": "2023-03-17T08:45:11.941Z"
   },
   {
    "duration": 40,
    "start_time": "2023-03-17T08:47:23.534Z"
   },
   {
    "duration": 178,
    "start_time": "2023-03-17T08:48:09.404Z"
   },
   {
    "duration": 55,
    "start_time": "2023-03-17T08:49:30.000Z"
   },
   {
    "duration": 5,
    "start_time": "2023-03-17T08:49:55.607Z"
   },
   {
    "duration": 8,
    "start_time": "2023-03-17T08:52:36.903Z"
   },
   {
    "duration": 2252,
    "start_time": "2023-03-17T08:52:44.706Z"
   },
   {
    "duration": 1342,
    "start_time": "2023-03-17T08:52:46.961Z"
   },
   {
    "duration": 240,
    "start_time": "2023-03-17T08:52:48.304Z"
   },
   {
    "duration": 8,
    "start_time": "2023-03-17T08:52:48.546Z"
   },
   {
    "duration": 4,
    "start_time": "2023-03-17T08:52:48.556Z"
   },
   {
    "duration": 1706,
    "start_time": "2023-03-17T08:52:52.265Z"
   },
   {
    "duration": 2191,
    "start_time": "2023-03-17T08:54:38.066Z"
   },
   {
    "duration": 1365,
    "start_time": "2023-03-17T08:54:40.259Z"
   },
   {
    "duration": 301,
    "start_time": "2023-03-17T08:54:41.627Z"
   },
   {
    "duration": 12,
    "start_time": "2023-03-17T08:54:41.930Z"
   },
   {
    "duration": 5,
    "start_time": "2023-03-17T08:54:41.943Z"
   },
   {
    "duration": 3,
    "start_time": "2023-03-17T08:54:47.475Z"
   },
   {
    "duration": 37440,
    "start_time": "2023-03-17T08:54:55.263Z"
   },
   {
    "duration": 1630,
    "start_time": "2023-03-17T08:55:43.268Z"
   },
   {
    "duration": 5,
    "start_time": "2023-03-17T08:55:56.993Z"
   },
   {
    "duration": 4,
    "start_time": "2023-03-17T08:55:58.278Z"
   },
   {
    "duration": 45,
    "start_time": "2023-03-17T08:56:24.458Z"
   },
   {
    "duration": 6410,
    "start_time": "2023-03-17T08:56:27.221Z"
   },
   {
    "duration": 63,
    "start_time": "2023-03-17T08:56:35.495Z"
   },
   {
    "duration": 806,
    "start_time": "2023-03-17T08:56:40.325Z"
   },
   {
    "duration": 674,
    "start_time": "2023-03-17T09:00:20.249Z"
   },
   {
    "duration": 889,
    "start_time": "2023-03-17T09:00:20.925Z"
   },
   {
    "duration": 242,
    "start_time": "2023-03-17T09:00:21.816Z"
   },
   {
    "duration": 8,
    "start_time": "2023-03-17T09:00:22.060Z"
   },
   {
    "duration": 16,
    "start_time": "2023-03-17T09:00:22.085Z"
   },
   {
    "duration": 14,
    "start_time": "2023-03-17T09:00:22.102Z"
   },
   {
    "duration": 19,
    "start_time": "2023-03-17T09:00:22.117Z"
   },
   {
    "duration": 36615,
    "start_time": "2023-03-17T09:00:22.138Z"
   },
   {
    "duration": 2487,
    "start_time": "2023-03-17T09:01:44.159Z"
   },
   {
    "duration": 1512,
    "start_time": "2023-03-17T09:01:46.647Z"
   },
   {
    "duration": 277,
    "start_time": "2023-03-17T09:01:48.160Z"
   },
   {
    "duration": 8,
    "start_time": "2023-03-17T09:01:48.439Z"
   },
   {
    "duration": 18,
    "start_time": "2023-03-17T09:01:48.449Z"
   },
   {
    "duration": 5,
    "start_time": "2023-03-17T09:01:48.469Z"
   },
   {
    "duration": 21,
    "start_time": "2023-03-17T09:01:48.476Z"
   },
   {
    "duration": 37798,
    "start_time": "2023-03-17T09:01:48.501Z"
   },
   {
    "duration": 2467,
    "start_time": "2023-03-17T09:03:37.777Z"
   },
   {
    "duration": 1557,
    "start_time": "2023-03-17T09:03:40.246Z"
   },
   {
    "duration": 271,
    "start_time": "2023-03-17T09:03:41.805Z"
   },
   {
    "duration": 13,
    "start_time": "2023-03-17T09:03:42.085Z"
   },
   {
    "duration": 11,
    "start_time": "2023-03-17T09:03:42.100Z"
   },
   {
    "duration": 6,
    "start_time": "2023-03-17T09:03:42.112Z"
   },
   {
    "duration": 5,
    "start_time": "2023-03-17T09:03:42.119Z"
   },
   {
    "duration": 36847,
    "start_time": "2023-03-17T09:03:42.126Z"
   },
   {
    "duration": 45,
    "start_time": "2023-03-17T09:04:33.301Z"
   },
   {
    "duration": 2291,
    "start_time": "2023-03-17T09:04:50.848Z"
   },
   {
    "duration": 1365,
    "start_time": "2023-03-17T09:04:53.142Z"
   },
   {
    "duration": 294,
    "start_time": "2023-03-17T09:04:54.509Z"
   },
   {
    "duration": 10,
    "start_time": "2023-03-17T09:04:54.805Z"
   },
   {
    "duration": 7,
    "start_time": "2023-03-17T09:04:54.817Z"
   },
   {
    "duration": 7,
    "start_time": "2023-03-17T09:04:54.825Z"
   },
   {
    "duration": 14,
    "start_time": "2023-03-17T09:04:54.834Z"
   },
   {
    "duration": 41097,
    "start_time": "2023-03-17T09:04:54.849Z"
   },
   {
    "duration": 1573,
    "start_time": "2023-03-17T09:05:41.137Z"
   },
   {
    "duration": 4,
    "start_time": "2023-03-17T09:05:53.724Z"
   },
   {
    "duration": 3,
    "start_time": "2023-03-17T09:06:22.720Z"
   },
   {
    "duration": 49,
    "start_time": "2023-03-17T09:10:14.694Z"
   },
   {
    "duration": 2079,
    "start_time": "2023-03-17T09:10:19.957Z"
   },
   {
    "duration": 1355,
    "start_time": "2023-03-17T09:10:22.038Z"
   },
   {
    "duration": 277,
    "start_time": "2023-03-17T09:10:23.401Z"
   },
   {
    "duration": 16,
    "start_time": "2023-03-17T09:10:23.694Z"
   },
   {
    "duration": 15,
    "start_time": "2023-03-17T09:10:23.712Z"
   },
   {
    "duration": 2071,
    "start_time": "2023-03-17T09:11:19.101Z"
   },
   {
    "duration": 1417,
    "start_time": "2023-03-17T09:11:21.180Z"
   },
   {
    "duration": 267,
    "start_time": "2023-03-17T09:11:22.598Z"
   },
   {
    "duration": 29,
    "start_time": "2023-03-17T09:11:22.867Z"
   },
   {
    "duration": 3,
    "start_time": "2023-03-17T09:11:22.898Z"
   },
   {
    "duration": 46,
    "start_time": "2023-03-17T09:18:19.321Z"
   },
   {
    "duration": 2215,
    "start_time": "2023-03-17T09:21:10.746Z"
   },
   {
    "duration": 1326,
    "start_time": "2023-03-17T09:21:12.963Z"
   },
   {
    "duration": 257,
    "start_time": "2023-03-17T09:21:14.292Z"
   },
   {
    "duration": 9,
    "start_time": "2023-03-17T09:21:14.551Z"
   },
   {
    "duration": 7,
    "start_time": "2023-03-17T09:21:14.561Z"
   },
   {
    "duration": 1725,
    "start_time": "2023-03-17T09:21:25.881Z"
   },
   {
    "duration": 4,
    "start_time": "2023-03-17T09:21:31.631Z"
   },
   {
    "duration": 188,
    "start_time": "2023-03-17T09:21:37.978Z"
   },
   {
    "duration": 4,
    "start_time": "2023-03-17T09:22:09.797Z"
   },
   {
    "duration": 46437,
    "start_time": "2023-03-17T09:22:13.061Z"
   },
   {
    "duration": 864,
    "start_time": "2023-03-17T09:23:47.728Z"
   },
   {
    "duration": 4,
    "start_time": "2023-03-17T09:24:01.543Z"
   },
   {
    "duration": 25,
    "start_time": "2023-03-17T09:24:11.125Z"
   },
   {
    "duration": 7163,
    "start_time": "2023-03-17T09:24:13.898Z"
   },
   {
    "duration": 77,
    "start_time": "2023-03-17T09:24:23.575Z"
   },
   {
    "duration": 649,
    "start_time": "2023-03-17T09:24:26.176Z"
   },
   {
    "duration": 5,
    "start_time": "2023-03-17T09:41:12.496Z"
   },
   {
    "duration": 4,
    "start_time": "2023-03-17T09:41:40.080Z"
   },
   {
    "duration": 6,
    "start_time": "2023-03-17T09:43:08.715Z"
   },
   {
    "duration": 6623,
    "start_time": "2023-03-17T09:46:44.700Z"
   },
   {
    "duration": 42,
    "start_time": "2023-03-17T09:46:51.325Z"
   },
   {
    "duration": 2931281,
    "start_time": "2023-03-17T09:46:59.314Z"
   },
   {
    "duration": 383404,
    "start_time": "2023-03-17T10:46:08.499Z"
   },
   {
    "duration": 176,
    "start_time": "2023-03-17T10:53:57.992Z"
   },
   {
    "duration": 224,
    "start_time": "2023-03-17T10:55:50.203Z"
   },
   {
    "duration": 192,
    "start_time": "2023-03-17T10:55:55.009Z"
   },
   {
    "duration": 13,
    "start_time": "2023-03-17T10:56:46.678Z"
   },
   {
    "duration": 173,
    "start_time": "2023-03-17T10:56:50.894Z"
   },
   {
    "duration": 380967,
    "start_time": "2023-03-17T10:57:44.531Z"
   },
   {
    "duration": 123063,
    "start_time": "2023-03-17T11:05:43.170Z"
   },
   {
    "duration": 121405,
    "start_time": "2023-03-17T11:08:23.133Z"
   },
   {
    "duration": 69,
    "start_time": "2023-03-17T11:10:24.540Z"
   },
   {
    "duration": 36,
    "start_time": "2023-03-17T11:19:56.077Z"
   },
   {
    "duration": 12,
    "start_time": "2023-03-17T11:20:05.059Z"
   },
   {
    "duration": 33,
    "start_time": "2023-03-17T11:20:38.075Z"
   },
   {
    "duration": 16,
    "start_time": "2023-03-17T11:20:58.016Z"
   },
   {
    "duration": 12,
    "start_time": "2023-03-17T11:25:23.311Z"
   },
   {
    "duration": 12,
    "start_time": "2023-03-17T11:25:32.002Z"
   },
   {
    "duration": 11,
    "start_time": "2023-03-17T11:26:25.299Z"
   },
   {
    "duration": 25,
    "start_time": "2023-03-17T11:34:02.292Z"
   },
   {
    "duration": 13,
    "start_time": "2023-03-17T11:34:21.174Z"
   },
   {
    "duration": 13,
    "start_time": "2023-03-17T11:34:57.948Z"
   },
   {
    "duration": 48,
    "start_time": "2023-03-17T11:35:51.428Z"
   },
   {
    "duration": 50,
    "start_time": "2023-03-17T11:36:37.024Z"
   },
   {
    "duration": 57,
    "start_time": "2023-03-17T11:50:20.058Z"
   },
   {
    "duration": 45,
    "start_time": "2023-03-17T11:52:47.117Z"
   },
   {
    "duration": 68,
    "start_time": "2023-03-17T11:52:53.334Z"
   },
   {
    "duration": 133393,
    "start_time": "2023-03-17T11:53:07.504Z"
   },
   {
    "duration": 238,
    "start_time": "2023-03-17T11:55:20.899Z"
   },
   {
    "duration": 168,
    "start_time": "2023-03-17T11:55:54.037Z"
   },
   {
    "duration": 14,
    "start_time": "2023-03-17T11:55:58.002Z"
   },
   {
    "duration": 50,
    "start_time": "2023-03-17T11:56:16.323Z"
   },
   {
    "duration": 8,
    "start_time": "2023-03-17T11:56:19.403Z"
   },
   {
    "duration": 14,
    "start_time": "2023-03-17T11:56:22.103Z"
   },
   {
    "duration": 16,
    "start_time": "2023-03-17T11:56:39.224Z"
   },
   {
    "duration": 42,
    "start_time": "2023-03-17T11:56:41.735Z"
   },
   {
    "duration": 969,
    "start_time": "2023-03-17T11:56:43.203Z"
   },
   {
    "duration": 86014,
    "start_time": "2023-03-17T11:56:47.358Z"
   },
   {
    "duration": 86230,
    "start_time": "2023-03-17T11:58:39.375Z"
   },
   {
    "duration": 22,
    "start_time": "2023-03-17T12:26:17.349Z"
   },
   {
    "duration": 575,
    "start_time": "2023-03-17T12:27:06.120Z"
   },
   {
    "duration": 5648,
    "start_time": "2023-03-17T12:28:17.638Z"
   },
   {
    "duration": 41,
    "start_time": "2023-03-17T12:28:23.288Z"
   },
   {
    "duration": 847,
    "start_time": "2023-03-17T12:28:23.471Z"
   },
   {
    "duration": 794944,
    "start_time": "2023-03-17T12:28:27.086Z"
   },
   {
    "duration": 30,
    "start_time": "2023-03-17T12:46:50.678Z"
   },
   {
    "duration": 37,
    "start_time": "2023-03-17T12:47:30.172Z"
   },
   {
    "duration": 707,
    "start_time": "2023-03-17T12:56:50.523Z"
   },
   {
    "duration": 23,
    "start_time": "2023-03-17T12:58:57.614Z"
   },
   {
    "duration": 5735,
    "start_time": "2023-03-17T12:59:00.212Z"
   },
   {
    "duration": 65,
    "start_time": "2023-03-17T12:59:05.986Z"
   },
   {
    "duration": 1026,
    "start_time": "2023-03-17T12:59:08.201Z"
   },
   {
    "duration": 118766,
    "start_time": "2023-03-17T12:59:11.045Z"
   },
   {
    "duration": 119648,
    "start_time": "2023-03-17T13:15:52.957Z"
   },
   {
    "duration": 869921,
    "start_time": "2023-03-17T13:17:52.607Z"
   },
   {
    "duration": 89182,
    "start_time": "2023-03-17T13:57:59.135Z"
   },
   {
    "duration": 28,
    "start_time": "2023-03-17T14:02:40.114Z"
   },
   {
    "duration": 88395,
    "start_time": "2023-03-17T14:03:10.511Z"
   },
   {
    "duration": 3260,
    "start_time": "2023-03-18T07:34:17.780Z"
   },
   {
    "duration": 3878,
    "start_time": "2023-03-18T07:34:21.042Z"
   },
   {
    "duration": 252,
    "start_time": "2023-03-18T07:34:24.922Z"
   },
   {
    "duration": 18,
    "start_time": "2023-03-18T07:34:25.175Z"
   },
   {
    "duration": 13,
    "start_time": "2023-03-18T07:34:25.195Z"
   },
   {
    "duration": 2308,
    "start_time": "2023-03-18T07:34:25.209Z"
   },
   {
    "duration": 5,
    "start_time": "2023-03-18T07:34:27.520Z"
   },
   {
    "duration": 40832,
    "start_time": "2023-03-18T07:34:27.527Z"
   },
   {
    "duration": 753,
    "start_time": "2023-03-18T07:35:08.361Z"
   },
   {
    "duration": 136,
    "start_time": "2023-03-18T07:35:09.116Z"
   },
   {
    "duration": 3,
    "start_time": "2023-03-18T07:35:09.253Z"
   },
   {
    "duration": 57,
    "start_time": "2023-03-18T07:35:09.258Z"
   },
   {
    "duration": 5897,
    "start_time": "2023-03-18T07:35:09.317Z"
   },
   {
    "duration": 86,
    "start_time": "2023-03-18T07:35:15.216Z"
   },
   {
    "duration": 992,
    "start_time": "2023-03-18T07:35:15.304Z"
   },
   {
    "duration": 154105,
    "start_time": "2023-03-18T07:35:16.298Z"
   },
   {
    "duration": 154980,
    "start_time": "2023-03-18T07:38:20.237Z"
   },
   {
    "duration": 85,
    "start_time": "2023-03-18T07:48:56.616Z"
   },
   {
    "duration": 29862,
    "start_time": "2023-03-18T07:49:17.872Z"
   },
   {
    "duration": 11,
    "start_time": "2023-03-18T08:05:37.198Z"
   },
   {
    "duration": 14,
    "start_time": "2023-03-18T08:06:47.578Z"
   },
   {
    "duration": 26142,
    "start_time": "2023-03-18T08:06:51.280Z"
   },
   {
    "duration": 12,
    "start_time": "2023-03-18T08:07:17.424Z"
   },
   {
    "duration": 10,
    "start_time": "2023-03-18T08:08:22.094Z"
   },
   {
    "duration": 26663,
    "start_time": "2023-03-18T08:08:40.254Z"
   },
   {
    "duration": 24759,
    "start_time": "2023-03-18T08:11:05.433Z"
   },
   {
    "duration": 27724,
    "start_time": "2023-03-18T08:11:30.195Z"
   },
   {
    "duration": 5064,
    "start_time": "2023-03-18T08:12:41.733Z"
   },
   {
    "duration": 26829,
    "start_time": "2023-03-18T08:13:07.097Z"
   },
   {
    "duration": 90078,
    "start_time": "2023-03-18T08:35:51.105Z"
   },
   {
    "duration": 11,
    "start_time": "2023-03-18T08:40:45.539Z"
   },
   {
    "duration": 432,
    "start_time": "2023-03-18T08:41:33.429Z"
   },
   {
    "duration": 2,
    "start_time": "2023-03-18T08:42:05.522Z"
   },
   {
    "duration": 18801,
    "start_time": "2023-03-18T08:42:08.490Z"
   },
   {
    "duration": 26586,
    "start_time": "2023-03-18T08:43:01.236Z"
   },
   {
    "duration": 63387,
    "start_time": "2023-03-18T08:45:22.047Z"
   },
   {
    "duration": 26179,
    "start_time": "2023-03-18T08:46:32.048Z"
   },
   {
    "duration": 26034,
    "start_time": "2023-03-18T08:47:13.679Z"
   },
   {
    "duration": 26122,
    "start_time": "2023-03-18T08:48:01.093Z"
   },
   {
    "duration": 21981,
    "start_time": "2023-03-18T08:49:05.426Z"
   },
   {
    "duration": 40,
    "start_time": "2023-03-18T08:50:38.380Z"
   },
   {
    "duration": 108,
    "start_time": "2023-03-18T08:51:07.458Z"
   },
   {
    "duration": 64139,
    "start_time": "2023-03-18T08:51:42.047Z"
   },
   {
    "duration": 80,
    "start_time": "2023-03-18T09:43:03.613Z"
   },
   {
    "duration": 39482,
    "start_time": "2023-03-18T09:43:39.348Z"
   },
   {
    "duration": 140,
    "start_time": "2023-03-18T10:18:44.885Z"
   },
   {
    "duration": 103,
    "start_time": "2023-03-18T10:19:41.127Z"
   },
   {
    "duration": 94,
    "start_time": "2023-03-18T10:19:58.091Z"
   },
   {
    "duration": 664,
    "start_time": "2023-03-18T10:20:46.988Z"
   },
   {
    "duration": 1046,
    "start_time": "2023-03-18T10:20:47.654Z"
   },
   {
    "duration": 275,
    "start_time": "2023-03-18T10:20:48.702Z"
   },
   {
    "duration": 27,
    "start_time": "2023-03-18T10:20:48.979Z"
   },
   {
    "duration": 3,
    "start_time": "2023-03-18T10:20:49.009Z"
   },
   {
    "duration": 2677,
    "start_time": "2023-03-18T10:20:55.451Z"
   },
   {
    "duration": 4181,
    "start_time": "2023-03-18T10:20:58.131Z"
   },
   {
    "duration": 297,
    "start_time": "2023-03-18T10:21:02.314Z"
   },
   {
    "duration": 19,
    "start_time": "2023-03-18T10:21:02.613Z"
   },
   {
    "duration": 38,
    "start_time": "2023-03-18T10:21:02.634Z"
   },
   {
    "duration": 2230,
    "start_time": "2023-03-18T10:21:02.674Z"
   },
   {
    "duration": 4,
    "start_time": "2023-03-18T10:21:04.906Z"
   },
   {
    "duration": 47163,
    "start_time": "2023-03-18T10:21:04.911Z"
   },
   {
    "duration": 880,
    "start_time": "2023-03-18T10:21:52.076Z"
   },
   {
    "duration": 178,
    "start_time": "2023-03-18T10:21:52.958Z"
   },
   {
    "duration": 3,
    "start_time": "2023-03-18T10:21:53.138Z"
   },
   {
    "duration": 58,
    "start_time": "2023-03-18T10:21:53.143Z"
   },
   {
    "duration": 7143,
    "start_time": "2023-03-18T10:21:53.203Z"
   },
   {
    "duration": 100,
    "start_time": "2023-03-18T10:22:00.348Z"
   },
   {
    "duration": 1165,
    "start_time": "2023-03-18T10:22:00.450Z"
   },
   {
    "duration": 3,
    "start_time": "2023-03-18T10:22:01.617Z"
   },
   {
    "duration": 43774,
    "start_time": "2023-03-18T10:22:01.622Z"
   },
   {
    "duration": 25913,
    "start_time": "2023-03-18T10:22:45.398Z"
   },
   {
    "duration": 70564,
    "start_time": "2023-03-18T10:23:11.313Z"
   },
   {
    "duration": 24077,
    "start_time": "2023-03-18T10:24:21.880Z"
   },
   {
    "duration": 37962,
    "start_time": "2023-03-18T10:24:45.959Z"
   },
   {
    "duration": 1515,
    "start_time": "2023-03-18T10:25:23.923Z"
   },
   {
    "duration": 104,
    "start_time": "2023-03-18T18:51:38.077Z"
   },
   {
    "duration": 3207,
    "start_time": "2023-03-18T18:51:41.579Z"
   },
   {
    "duration": 1288,
    "start_time": "2023-03-18T18:51:44.788Z"
   },
   {
    "duration": 254,
    "start_time": "2023-03-18T18:51:46.078Z"
   },
   {
    "duration": 13,
    "start_time": "2023-03-18T18:51:46.334Z"
   },
   {
    "duration": 10,
    "start_time": "2023-03-18T18:51:46.348Z"
   },
   {
    "duration": 1873,
    "start_time": "2023-03-18T18:51:46.359Z"
   },
   {
    "duration": 7,
    "start_time": "2023-03-18T18:51:48.233Z"
   },
   {
    "duration": 38868,
    "start_time": "2023-03-18T18:51:48.241Z"
   },
   {
    "duration": 703,
    "start_time": "2023-03-18T18:52:27.110Z"
   },
   {
    "duration": 142,
    "start_time": "2023-03-18T18:52:27.816Z"
   },
   {
    "duration": 3,
    "start_time": "2023-03-18T18:52:27.959Z"
   },
   {
    "duration": 42,
    "start_time": "2023-03-18T18:52:27.964Z"
   },
   {
    "duration": 6031,
    "start_time": "2023-03-18T18:52:28.007Z"
   },
   {
    "duration": 81,
    "start_time": "2023-03-18T18:52:34.040Z"
   },
   {
    "duration": 1134,
    "start_time": "2023-03-18T18:52:34.123Z"
   },
   {
    "duration": 3,
    "start_time": "2023-03-18T18:52:35.259Z"
   },
   {
    "duration": 19094,
    "start_time": "2023-03-18T18:52:35.263Z"
   },
   {
    "duration": 26419,
    "start_time": "2023-03-18T18:52:54.359Z"
   },
   {
    "duration": 60878,
    "start_time": "2023-03-18T18:53:20.780Z"
   },
   {
    "duration": 20949,
    "start_time": "2023-03-18T18:54:21.660Z"
   },
   {
    "duration": 31315,
    "start_time": "2023-03-18T18:54:42.611Z"
   },
   {
    "duration": 1253,
    "start_time": "2023-03-18T18:55:13.928Z"
   },
   {
    "duration": 130,
    "start_time": "2023-03-18T18:55:15.183Z"
   },
   {
    "duration": 2846,
    "start_time": "2023-03-18T19:34:59.133Z"
   },
   {
    "duration": 412,
    "start_time": "2023-03-18T19:35:10.301Z"
   },
   {
    "duration": 1151,
    "start_time": "2023-03-18T19:35:10.715Z"
   },
   {
    "duration": 245,
    "start_time": "2023-03-18T19:35:11.867Z"
   },
   {
    "duration": 13,
    "start_time": "2023-03-18T19:35:12.114Z"
   },
   {
    "duration": 6,
    "start_time": "2023-03-18T19:35:12.128Z"
   },
   {
    "duration": 1874,
    "start_time": "2023-03-18T19:35:12.136Z"
   },
   {
    "duration": 8,
    "start_time": "2023-03-18T19:35:14.011Z"
   },
   {
    "duration": 39237,
    "start_time": "2023-03-18T19:35:14.021Z"
   },
   {
    "duration": 697,
    "start_time": "2023-03-18T19:35:53.260Z"
   },
   {
    "duration": 129,
    "start_time": "2023-03-18T19:35:53.959Z"
   },
   {
    "duration": 3,
    "start_time": "2023-03-18T19:35:54.089Z"
   },
   {
    "duration": 44,
    "start_time": "2023-03-18T19:35:54.094Z"
   },
   {
    "duration": 6167,
    "start_time": "2023-03-18T19:35:54.139Z"
   },
   {
    "duration": 92,
    "start_time": "2023-03-18T19:36:00.308Z"
   },
   {
    "duration": 1143,
    "start_time": "2023-03-18T19:36:00.402Z"
   },
   {
    "duration": 3,
    "start_time": "2023-03-18T19:36:01.547Z"
   },
   {
    "duration": 29311,
    "start_time": "2023-03-18T19:36:01.558Z"
   },
   {
    "duration": 26115,
    "start_time": "2023-03-18T19:36:30.871Z"
   },
   {
    "duration": 59524,
    "start_time": "2023-03-18T19:36:56.988Z"
   },
   {
    "duration": 20910,
    "start_time": "2023-03-18T19:37:56.514Z"
   },
   {
    "duration": 32414,
    "start_time": "2023-03-18T19:38:17.426Z"
   },
   {
    "duration": 1296,
    "start_time": "2023-03-18T19:38:49.842Z"
   },
   {
    "duration": 110,
    "start_time": "2023-03-18T20:04:33.565Z"
   },
   {
    "duration": 2861,
    "start_time": "2023-03-18T20:04:49.607Z"
   },
   {
    "duration": 1144,
    "start_time": "2023-03-18T20:04:52.470Z"
   },
   {
    "duration": 243,
    "start_time": "2023-03-18T20:04:53.616Z"
   },
   {
    "duration": 12,
    "start_time": "2023-03-18T20:04:53.862Z"
   },
   {
    "duration": 10,
    "start_time": "2023-03-18T20:04:53.876Z"
   },
   {
    "duration": 1943,
    "start_time": "2023-03-18T20:04:53.887Z"
   },
   {
    "duration": 10,
    "start_time": "2023-03-18T20:04:55.833Z"
   },
   {
    "duration": 37366,
    "start_time": "2023-03-18T20:04:55.845Z"
   },
   {
    "duration": 681,
    "start_time": "2023-03-18T20:05:33.212Z"
   },
   {
    "duration": 129,
    "start_time": "2023-03-18T20:05:33.896Z"
   },
   {
    "duration": 3,
    "start_time": "2023-03-18T20:05:34.026Z"
   },
   {
    "duration": 52,
    "start_time": "2023-03-18T20:05:34.031Z"
   },
   {
    "duration": 5722,
    "start_time": "2023-03-18T20:05:34.085Z"
   },
   {
    "duration": 87,
    "start_time": "2023-03-18T20:05:39.808Z"
   },
   {
    "duration": 934,
    "start_time": "2023-03-18T20:05:39.896Z"
   },
   {
    "duration": 2,
    "start_time": "2023-03-18T20:05:40.832Z"
   },
   {
    "duration": 13432,
    "start_time": "2023-03-18T20:05:40.836Z"
   },
   {
    "duration": 27112,
    "start_time": "2023-03-18T20:05:54.270Z"
   },
   {
    "duration": 58528,
    "start_time": "2023-03-18T20:06:21.385Z"
   },
   {
    "duration": 19545,
    "start_time": "2023-03-18T20:07:19.915Z"
   },
   {
    "duration": 29924,
    "start_time": "2023-03-18T20:07:39.461Z"
   },
   {
    "duration": 1209,
    "start_time": "2023-03-18T20:08:09.386Z"
   },
   {
    "duration": 1208,
    "start_time": "2023-03-18T20:21:19.242Z"
   },
   {
    "duration": 138,
    "start_time": "2023-03-18T20:21:23.168Z"
   },
   {
    "duration": 101,
    "start_time": "2023-03-19T05:18:14.143Z"
   },
   {
    "duration": 2930,
    "start_time": "2023-03-19T05:18:21.091Z"
   },
   {
    "duration": 1211,
    "start_time": "2023-03-19T05:18:24.023Z"
   },
   {
    "duration": 263,
    "start_time": "2023-03-19T05:18:25.235Z"
   },
   {
    "duration": 13,
    "start_time": "2023-03-19T05:18:25.499Z"
   },
   {
    "duration": 6,
    "start_time": "2023-03-19T05:18:25.515Z"
   },
   {
    "duration": 2094,
    "start_time": "2023-03-19T05:18:25.522Z"
   },
   {
    "duration": 10,
    "start_time": "2023-03-19T05:18:27.618Z"
   },
   {
    "duration": 41848,
    "start_time": "2023-03-19T05:18:27.629Z"
   },
   {
    "duration": 779,
    "start_time": "2023-03-19T05:19:09.479Z"
   },
   {
    "duration": 162,
    "start_time": "2023-03-19T05:19:10.260Z"
   },
   {
    "duration": 3,
    "start_time": "2023-03-19T05:19:10.424Z"
   },
   {
    "duration": 52,
    "start_time": "2023-03-19T05:19:10.429Z"
   },
   {
    "duration": 6552,
    "start_time": "2023-03-19T05:19:10.483Z"
   },
   {
    "duration": 89,
    "start_time": "2023-03-19T05:19:17.038Z"
   },
   {
    "duration": 1081,
    "start_time": "2023-03-19T05:19:17.129Z"
   },
   {
    "duration": 3,
    "start_time": "2023-03-19T05:19:18.212Z"
   },
   {
    "duration": 34065,
    "start_time": "2023-03-19T05:19:18.217Z"
   },
   {
    "duration": 26227,
    "start_time": "2023-03-19T05:19:52.376Z"
   },
   {
    "duration": 64954,
    "start_time": "2023-03-19T05:20:18.606Z"
   },
   {
    "duration": 22266,
    "start_time": "2023-03-19T05:21:23.561Z"
   },
   {
    "duration": 35417,
    "start_time": "2023-03-19T05:21:45.829Z"
   },
   {
    "duration": 1461,
    "start_time": "2023-03-19T05:22:21.247Z"
   },
   {
    "duration": 2202,
    "start_time": "2023-03-19T05:22:57.692Z"
   },
   {
    "duration": 1368,
    "start_time": "2023-03-19T05:22:59.897Z"
   },
   {
    "duration": 268,
    "start_time": "2023-03-19T05:23:01.267Z"
   },
   {
    "duration": 20,
    "start_time": "2023-03-19T05:23:01.539Z"
   },
   {
    "duration": 59,
    "start_time": "2023-03-19T05:23:01.561Z"
   },
   {
    "duration": 2319,
    "start_time": "2023-03-19T05:23:01.622Z"
   },
   {
    "duration": 12,
    "start_time": "2023-03-19T05:23:03.943Z"
   },
   {
    "duration": 42907,
    "start_time": "2023-03-19T05:23:03.957Z"
   },
   {
    "duration": 739,
    "start_time": "2023-03-19T05:23:46.866Z"
   },
   {
    "duration": 151,
    "start_time": "2023-03-19T05:23:47.608Z"
   },
   {
    "duration": 2,
    "start_time": "2023-03-19T05:23:47.761Z"
   },
   {
    "duration": 37,
    "start_time": "2023-03-19T05:23:47.777Z"
   },
   {
    "duration": 6208,
    "start_time": "2023-03-19T05:23:47.815Z"
   },
   {
    "duration": 81,
    "start_time": "2023-03-19T05:23:54.025Z"
   },
   {
    "duration": 1060,
    "start_time": "2023-03-19T05:23:54.108Z"
   },
   {
    "duration": 7,
    "start_time": "2023-03-19T05:23:55.170Z"
   },
   {
    "duration": 17400,
    "start_time": "2023-03-19T05:23:55.179Z"
   },
   {
    "duration": 26222,
    "start_time": "2023-03-19T05:24:12.581Z"
   },
   {
    "duration": 66089,
    "start_time": "2023-03-19T05:24:38.805Z"
   },
   {
    "duration": 22963,
    "start_time": "2023-03-19T05:25:44.896Z"
   },
   {
    "duration": 35228,
    "start_time": "2023-03-19T05:26:07.861Z"
   },
   {
    "duration": 1353,
    "start_time": "2023-03-19T05:26:43.091Z"
   },
   {
    "duration": 0,
    "start_time": "2023-03-19T05:26:44.589Z"
   },
   {
    "duration": 0,
    "start_time": "2023-03-19T05:26:44.590Z"
   },
   {
    "duration": 2068,
    "start_time": "2023-03-19T05:27:18.106Z"
   },
   {
    "duration": 1239,
    "start_time": "2023-03-19T05:27:20.177Z"
   },
   {
    "duration": 266,
    "start_time": "2023-03-19T05:27:21.417Z"
   },
   {
    "duration": 13,
    "start_time": "2023-03-19T05:27:21.686Z"
   },
   {
    "duration": 23,
    "start_time": "2023-03-19T05:27:21.701Z"
   },
   {
    "duration": 2138,
    "start_time": "2023-03-19T05:27:21.726Z"
   },
   {
    "duration": 12,
    "start_time": "2023-03-19T05:27:23.866Z"
   },
   {
    "duration": 41488,
    "start_time": "2023-03-19T05:27:23.879Z"
   },
   {
    "duration": 754,
    "start_time": "2023-03-19T05:28:05.368Z"
   },
   {
    "duration": 163,
    "start_time": "2023-03-19T05:28:06.124Z"
   },
   {
    "duration": 2,
    "start_time": "2023-03-19T05:28:06.290Z"
   },
   {
    "duration": 48,
    "start_time": "2023-03-19T05:28:06.294Z"
   },
   {
    "duration": 6540,
    "start_time": "2023-03-19T05:28:06.343Z"
   },
   {
    "duration": 80,
    "start_time": "2023-03-19T05:28:12.886Z"
   },
   {
    "duration": 1073,
    "start_time": "2023-03-19T05:28:12.977Z"
   },
   {
    "duration": 4,
    "start_time": "2023-03-19T05:28:14.052Z"
   },
   {
    "duration": 18322,
    "start_time": "2023-03-19T05:28:14.057Z"
   },
   {
    "duration": 26223,
    "start_time": "2023-03-19T05:28:32.381Z"
   },
   {
    "duration": 68724,
    "start_time": "2023-03-19T05:28:58.606Z"
   },
   {
    "duration": 22861,
    "start_time": "2023-03-19T05:30:07.332Z"
   },
   {
    "duration": 36782,
    "start_time": "2023-03-19T05:30:30.195Z"
   },
   {
    "duration": 1481,
    "start_time": "2023-03-19T05:31:06.979Z"
   },
   {
    "duration": 2245,
    "start_time": "2023-03-19T05:31:35.429Z"
   },
   {
    "duration": 1431,
    "start_time": "2023-03-19T05:31:37.680Z"
   },
   {
    "duration": 293,
    "start_time": "2023-03-19T05:31:39.113Z"
   },
   {
    "duration": 16,
    "start_time": "2023-03-19T05:31:39.408Z"
   },
   {
    "duration": 17,
    "start_time": "2023-03-19T05:31:39.426Z"
   },
   {
    "duration": 2310,
    "start_time": "2023-03-19T05:31:39.445Z"
   },
   {
    "duration": 6,
    "start_time": "2023-03-19T05:31:41.757Z"
   },
   {
    "duration": 45627,
    "start_time": "2023-03-19T05:31:41.765Z"
   },
   {
    "duration": 762,
    "start_time": "2023-03-19T05:32:27.394Z"
   },
   {
    "duration": 157,
    "start_time": "2023-03-19T05:32:28.159Z"
   },
   {
    "duration": 2,
    "start_time": "2023-03-19T05:32:28.318Z"
   },
   {
    "duration": 55,
    "start_time": "2023-03-19T05:32:28.322Z"
   },
   {
    "duration": 6510,
    "start_time": "2023-03-19T05:32:28.379Z"
   },
   {
    "duration": 90,
    "start_time": "2023-03-19T05:32:34.891Z"
   },
   {
    "duration": 1116,
    "start_time": "2023-03-19T05:32:34.983Z"
   },
   {
    "duration": 4,
    "start_time": "2023-03-19T05:32:36.100Z"
   },
   {
    "duration": 17074,
    "start_time": "2023-03-19T05:32:36.105Z"
   },
   {
    "duration": 26224,
    "start_time": "2023-03-19T05:32:53.181Z"
   },
   {
    "duration": 67428,
    "start_time": "2023-03-19T05:33:19.407Z"
   },
   {
    "duration": 22730,
    "start_time": "2023-03-19T05:34:26.838Z"
   },
   {
    "duration": 36002,
    "start_time": "2023-03-19T05:34:49.570Z"
   },
   {
    "duration": 1482,
    "start_time": "2023-03-19T05:35:25.573Z"
   },
   {
    "duration": 32,
    "start_time": "2023-03-19T05:35:27.057Z"
   },
   {
    "duration": 0,
    "start_time": "2023-03-19T05:35:27.091Z"
   },
   {
    "duration": 0,
    "start_time": "2023-03-19T05:35:27.092Z"
   },
   {
    "duration": 38,
    "start_time": "2023-03-19T05:44:50.726Z"
   },
   {
    "duration": 27,
    "start_time": "2023-03-19T05:51:05.984Z"
   },
   {
    "duration": 2412,
    "start_time": "2023-03-19T05:54:16.240Z"
   },
   {
    "duration": 1286,
    "start_time": "2023-03-19T05:54:18.654Z"
   },
   {
    "duration": 278,
    "start_time": "2023-03-19T05:54:19.942Z"
   },
   {
    "duration": 14,
    "start_time": "2023-03-19T05:54:20.221Z"
   },
   {
    "duration": 14,
    "start_time": "2023-03-19T05:54:20.237Z"
   },
   {
    "duration": 2099,
    "start_time": "2023-03-19T05:54:20.253Z"
   },
   {
    "duration": 12,
    "start_time": "2023-03-19T05:54:22.354Z"
   },
   {
    "duration": 42481,
    "start_time": "2023-03-19T05:54:22.368Z"
   },
   {
    "duration": 767,
    "start_time": "2023-03-19T05:55:04.851Z"
   },
   {
    "duration": 150,
    "start_time": "2023-03-19T05:55:05.619Z"
   },
   {
    "duration": 3,
    "start_time": "2023-03-19T05:55:05.777Z"
   },
   {
    "duration": 47,
    "start_time": "2023-03-19T05:55:05.782Z"
   },
   {
    "duration": 6479,
    "start_time": "2023-03-19T05:55:05.831Z"
   },
   {
    "duration": 100,
    "start_time": "2023-03-19T05:55:12.313Z"
   },
   {
    "duration": 1181,
    "start_time": "2023-03-19T05:55:12.416Z"
   },
   {
    "duration": 3,
    "start_time": "2023-03-19T05:55:13.599Z"
   },
   {
    "duration": 17283,
    "start_time": "2023-03-19T05:55:13.603Z"
   },
   {
    "duration": 26226,
    "start_time": "2023-03-19T05:55:30.978Z"
   },
   {
    "duration": 67159,
    "start_time": "2023-03-19T05:55:57.206Z"
   },
   {
    "duration": 23798,
    "start_time": "2023-03-19T05:57:04.367Z"
   },
   {
    "duration": 36100,
    "start_time": "2023-03-19T05:57:28.167Z"
   },
   {
    "duration": 1523,
    "start_time": "2023-03-19T05:58:04.268Z"
   },
   {
    "duration": 2218,
    "start_time": "2023-03-19T05:59:50.740Z"
   },
   {
    "duration": 1243,
    "start_time": "2023-03-19T05:59:52.960Z"
   },
   {
    "duration": 266,
    "start_time": "2023-03-19T05:59:54.205Z"
   },
   {
    "duration": 17,
    "start_time": "2023-03-19T05:59:54.472Z"
   },
   {
    "duration": 22,
    "start_time": "2023-03-19T05:59:54.491Z"
   },
   {
    "duration": 2124,
    "start_time": "2023-03-19T05:59:54.515Z"
   },
   {
    "duration": 17,
    "start_time": "2023-03-19T05:59:56.641Z"
   },
   {
    "duration": 43275,
    "start_time": "2023-03-19T05:59:56.659Z"
   },
   {
    "duration": 793,
    "start_time": "2023-03-19T06:00:39.936Z"
   },
   {
    "duration": 186,
    "start_time": "2023-03-19T06:00:40.731Z"
   },
   {
    "duration": 4,
    "start_time": "2023-03-19T06:00:40.920Z"
   },
   {
    "duration": 59,
    "start_time": "2023-03-19T06:00:40.925Z"
   },
   {
    "duration": 6557,
    "start_time": "2023-03-19T06:00:40.986Z"
   },
   {
    "duration": 89,
    "start_time": "2023-03-19T06:00:47.545Z"
   },
   {
    "duration": 1096,
    "start_time": "2023-03-19T06:00:47.636Z"
   },
   {
    "duration": 3,
    "start_time": "2023-03-19T06:00:48.734Z"
   },
   {
    "duration": 18540,
    "start_time": "2023-03-19T06:00:48.738Z"
   },
   {
    "duration": 26419,
    "start_time": "2023-03-19T06:01:07.286Z"
   },
   {
    "duration": 64648,
    "start_time": "2023-03-19T06:01:33.707Z"
   },
   {
    "duration": 22511,
    "start_time": "2023-03-19T06:02:38.357Z"
   },
   {
    "duration": 34198,
    "start_time": "2023-03-19T06:03:00.869Z"
   },
   {
    "duration": 1490,
    "start_time": "2023-03-19T06:03:35.069Z"
   },
   {
    "duration": 53,
    "start_time": "2023-03-19T06:22:42.691Z"
   },
   {
    "duration": 2325,
    "start_time": "2023-03-19T06:22:48.963Z"
   },
   {
    "duration": 1333,
    "start_time": "2023-03-19T06:22:51.290Z"
   },
   {
    "duration": 291,
    "start_time": "2023-03-19T06:22:52.625Z"
   },
   {
    "duration": 14,
    "start_time": "2023-03-19T06:22:52.918Z"
   },
   {
    "duration": 7,
    "start_time": "2023-03-19T06:22:52.934Z"
   },
   {
    "duration": 2118,
    "start_time": "2023-03-19T06:22:52.942Z"
   },
   {
    "duration": 11,
    "start_time": "2023-03-19T06:22:55.062Z"
   },
   {
    "duration": 42352,
    "start_time": "2023-03-19T06:22:55.077Z"
   },
   {
    "duration": 762,
    "start_time": "2023-03-19T06:23:37.430Z"
   },
   {
    "duration": 150,
    "start_time": "2023-03-19T06:23:38.194Z"
   },
   {
    "duration": 3,
    "start_time": "2023-03-19T06:23:38.346Z"
   },
   {
    "duration": 56,
    "start_time": "2023-03-19T06:23:38.351Z"
   },
   {
    "duration": 6548,
    "start_time": "2023-03-19T06:23:38.409Z"
   },
   {
    "duration": 92,
    "start_time": "2023-03-19T06:23:44.960Z"
   },
   {
    "duration": 1092,
    "start_time": "2023-03-19T06:23:45.054Z"
   },
   {
    "duration": 3,
    "start_time": "2023-03-19T06:23:46.148Z"
   },
   {
    "duration": 21726,
    "start_time": "2023-03-19T06:23:46.153Z"
   },
   {
    "duration": 26219,
    "start_time": "2023-03-19T06:24:07.881Z"
   },
   {
    "duration": 66319,
    "start_time": "2023-03-19T06:24:34.102Z"
   },
   {
    "duration": 23298,
    "start_time": "2023-03-19T06:25:40.423Z"
   },
   {
    "duration": 34737,
    "start_time": "2023-03-19T06:26:03.723Z"
   },
   {
    "duration": 1466,
    "start_time": "2023-03-19T06:26:38.462Z"
   },
   {
    "duration": 101,
    "start_time": "2023-03-19T06:35:01.885Z"
   },
   {
    "duration": 10,
    "start_time": "2023-03-19T06:35:17.250Z"
   },
   {
    "duration": 6,
    "start_time": "2023-03-19T06:51:56.914Z"
   },
   {
    "duration": 11,
    "start_time": "2023-03-19T06:52:05.659Z"
   },
   {
    "duration": 79,
    "start_time": "2023-03-20T08:04:50.198Z"
   },
   {
    "duration": 4516,
    "start_time": "2023-03-20T08:14:52.412Z"
   },
   {
    "duration": 1554,
    "start_time": "2023-03-20T08:14:56.930Z"
   },
   {
    "duration": 267,
    "start_time": "2023-03-20T08:14:58.487Z"
   },
   {
    "duration": 17,
    "start_time": "2023-03-20T08:14:58.756Z"
   },
   {
    "duration": 6,
    "start_time": "2023-03-20T08:14:58.776Z"
   },
   {
    "duration": 2050,
    "start_time": "2023-03-20T08:14:58.784Z"
   },
   {
    "duration": 51,
    "start_time": "2023-03-20T08:15:00.836Z"
   },
   {
    "duration": 47391,
    "start_time": "2023-03-20T08:15:00.889Z"
   },
   {
    "duration": 770,
    "start_time": "2023-03-20T08:15:48.289Z"
   },
   {
    "duration": 204,
    "start_time": "2023-03-20T08:15:49.061Z"
   },
   {
    "duration": 6,
    "start_time": "2023-03-20T08:15:49.267Z"
   },
   {
    "duration": 177,
    "start_time": "2023-03-20T08:15:49.275Z"
   },
   {
    "duration": 0,
    "start_time": "2023-03-20T08:15:49.454Z"
   },
   {
    "duration": 0,
    "start_time": "2023-03-20T08:15:49.456Z"
   },
   {
    "duration": 0,
    "start_time": "2023-03-20T08:15:49.457Z"
   },
   {
    "duration": 0,
    "start_time": "2023-03-20T08:15:49.458Z"
   },
   {
    "duration": 0,
    "start_time": "2023-03-20T08:15:49.459Z"
   },
   {
    "duration": 0,
    "start_time": "2023-03-20T08:15:49.461Z"
   },
   {
    "duration": 47,
    "start_time": "2023-03-20T08:18:41.922Z"
   },
   {
    "duration": 60,
    "start_time": "2023-03-20T08:19:11.283Z"
   },
   {
    "duration": 9423,
    "start_time": "2023-03-20T08:22:26.254Z"
   },
   {
    "duration": 100,
    "start_time": "2023-03-20T09:12:57.181Z"
   },
   {
    "duration": 6624,
    "start_time": "2023-03-20T09:13:06.826Z"
   },
   {
    "duration": 2713,
    "start_time": "2023-03-20T09:13:13.453Z"
   },
   {
    "duration": 307,
    "start_time": "2023-03-20T09:13:16.168Z"
   },
   {
    "duration": 35,
    "start_time": "2023-03-20T09:13:16.477Z"
   },
   {
    "duration": 51,
    "start_time": "2023-03-20T09:13:16.515Z"
   },
   {
    "duration": 2634,
    "start_time": "2023-03-20T09:13:16.571Z"
   },
   {
    "duration": 9,
    "start_time": "2023-03-20T09:13:19.207Z"
   },
   {
    "duration": 3017,
    "start_time": "2023-03-20T09:24:43.873Z"
   },
   {
    "duration": 4207,
    "start_time": "2023-03-20T09:24:46.892Z"
   },
   {
    "duration": 267,
    "start_time": "2023-03-20T09:24:51.101Z"
   },
   {
    "duration": 23,
    "start_time": "2023-03-20T09:24:51.371Z"
   },
   {
    "duration": 3,
    "start_time": "2023-03-20T09:24:51.396Z"
   },
   {
    "duration": 2060,
    "start_time": "2023-03-20T09:24:51.402Z"
   },
   {
    "duration": 16,
    "start_time": "2023-03-20T09:24:53.464Z"
   },
   {
    "duration": 49499,
    "start_time": "2023-03-20T09:24:53.482Z"
   },
   {
    "duration": 837,
    "start_time": "2023-03-20T09:25:42.990Z"
   },
   {
    "duration": 166,
    "start_time": "2023-03-20T09:25:43.830Z"
   },
   {
    "duration": 7,
    "start_time": "2023-03-20T09:25:43.998Z"
   },
   {
    "duration": 123,
    "start_time": "2023-03-20T09:25:44.008Z"
   },
   {
    "duration": 7775,
    "start_time": "2023-03-20T09:25:44.133Z"
   },
   {
    "duration": 126,
    "start_time": "2023-03-20T09:25:51.911Z"
   },
   {
    "duration": 1083,
    "start_time": "2023-03-20T09:26:40.125Z"
   },
   {
    "duration": 161457,
    "start_time": "2023-03-20T09:34:27.555Z"
   },
   {
    "duration": 5,
    "start_time": "2023-03-20T12:33:05.825Z"
   },
   {
    "duration": 4,
    "start_time": "2023-03-20T13:27:51.816Z"
   },
   {
    "duration": 255,
    "start_time": "2023-03-20T13:27:52.807Z"
   },
   {
    "duration": 7,
    "start_time": "2023-03-20T13:33:36.228Z"
   },
   {
    "duration": 122,
    "start_time": "2023-03-20T13:33:37.902Z"
   },
   {
    "duration": 101724,
    "start_time": "2023-03-20T13:39:27.435Z"
   },
   {
    "duration": 2830,
    "start_time": "2023-03-20T16:33:09.634Z"
   },
   {
    "duration": 4363,
    "start_time": "2023-03-20T16:33:12.466Z"
   },
   {
    "duration": 289,
    "start_time": "2023-03-20T16:33:16.830Z"
   },
   {
    "duration": 13,
    "start_time": "2023-03-20T16:33:17.121Z"
   },
   {
    "duration": 5,
    "start_time": "2023-03-20T16:33:17.135Z"
   },
   {
    "duration": 3460,
    "start_time": "2023-03-20T16:33:17.143Z"
   },
   {
    "duration": 7,
    "start_time": "2023-03-20T16:33:20.605Z"
   },
   {
    "duration": 144708,
    "start_time": "2023-03-20T16:33:20.616Z"
   },
   {
    "duration": 149,
    "start_time": "2023-03-20T16:35:45.325Z"
   },
   {
    "duration": 3,
    "start_time": "2023-03-20T16:35:45.477Z"
   },
   {
    "duration": 85,
    "start_time": "2023-03-20T16:35:45.482Z"
   },
   {
    "duration": 152,
    "start_time": "2023-03-20T16:38:29.877Z"
   },
   {
    "duration": 3,
    "start_time": "2023-03-20T16:38:32.758Z"
   },
   {
    "duration": 111,
    "start_time": "2023-03-20T16:38:33.977Z"
   },
   {
    "duration": 442,
    "start_time": "2023-03-20T16:41:24.104Z"
   },
   {
    "duration": 178,
    "start_time": "2023-03-20T16:41:44.700Z"
   },
   {
    "duration": 177,
    "start_time": "2023-03-20T16:42:11.564Z"
   },
   {
    "duration": 11880,
    "start_time": "2023-03-20T16:42:53.764Z"
   },
   {
    "duration": 241,
    "start_time": "2023-03-20T16:43:13.457Z"
   },
   {
    "duration": 197,
    "start_time": "2023-03-20T16:43:59.422Z"
   },
   {
    "duration": 276,
    "start_time": "2023-03-20T16:46:21.247Z"
   },
   {
    "duration": 177,
    "start_time": "2023-03-20T16:47:23.419Z"
   },
   {
    "duration": 182,
    "start_time": "2023-03-20T16:48:03.198Z"
   },
   {
    "duration": 347,
    "start_time": "2023-03-20T16:48:10.538Z"
   },
   {
    "duration": 41,
    "start_time": "2023-03-20T17:06:25.796Z"
   },
   {
    "duration": 39,
    "start_time": "2023-03-20T17:07:17.248Z"
   },
   {
    "duration": 36,
    "start_time": "2023-03-20T17:08:59.595Z"
   },
   {
    "duration": 43,
    "start_time": "2023-03-20T17:09:22.805Z"
   },
   {
    "duration": 73,
    "start_time": "2023-03-20T17:09:53.616Z"
   },
   {
    "duration": 37,
    "start_time": "2023-03-20T17:10:35.788Z"
   },
   {
    "duration": 2896,
    "start_time": "2023-03-20T17:10:39.495Z"
   },
   {
    "duration": 299,
    "start_time": "2023-03-20T17:10:42.394Z"
   },
   {
    "duration": 2541,
    "start_time": "2023-03-20T17:10:42.696Z"
   },
   {
    "duration": 281,
    "start_time": "2023-03-20T17:10:45.240Z"
   },
   {
    "duration": 15,
    "start_time": "2023-03-20T17:10:45.524Z"
   },
   {
    "duration": 10,
    "start_time": "2023-03-20T17:10:45.541Z"
   },
   {
    "duration": 2631,
    "start_time": "2023-03-20T17:11:11.085Z"
   },
   {
    "duration": 3102,
    "start_time": "2023-03-20T17:11:13.721Z"
   },
   {
    "duration": 4256,
    "start_time": "2023-03-20T17:11:16.825Z"
   },
   {
    "duration": 345,
    "start_time": "2023-03-20T17:11:21.085Z"
   },
   {
    "duration": 15,
    "start_time": "2023-03-20T17:11:21.432Z"
   },
   {
    "duration": 6,
    "start_time": "2023-03-20T17:11:21.449Z"
   },
   {
    "duration": 2160,
    "start_time": "2023-03-20T17:11:21.457Z"
   },
   {
    "duration": 5,
    "start_time": "2023-03-20T17:11:23.619Z"
   },
   {
    "duration": 171168,
    "start_time": "2023-03-20T17:11:23.627Z"
   },
   {
    "duration": 178,
    "start_time": "2023-03-20T17:14:14.804Z"
   },
   {
    "duration": 5,
    "start_time": "2023-03-20T17:14:14.984Z"
   },
   {
    "duration": 80,
    "start_time": "2023-03-20T17:14:14.991Z"
   },
   {
    "duration": 5,
    "start_time": "2023-03-20T17:14:15.073Z"
   },
   {
    "duration": 1540,
    "start_time": "2023-03-20T17:14:15.080Z"
   },
   {
    "duration": 0,
    "start_time": "2023-03-20T17:14:16.623Z"
   },
   {
    "duration": 0,
    "start_time": "2023-03-20T17:14:16.625Z"
   },
   {
    "duration": 59,
    "start_time": "2023-03-20T17:18:30.886Z"
   },
   {
    "duration": 106,
    "start_time": "2023-03-20T17:19:49.408Z"
   },
   {
    "duration": 154,
    "start_time": "2023-03-20T17:22:55.220Z"
   },
   {
    "duration": 2353,
    "start_time": "2023-03-20T17:22:58.883Z"
   },
   {
    "duration": 3119,
    "start_time": "2023-03-20T17:23:01.239Z"
   },
   {
    "duration": 4309,
    "start_time": "2023-03-20T17:23:04.360Z"
   },
   {
    "duration": 316,
    "start_time": "2023-03-20T17:23:08.672Z"
   },
   {
    "duration": 25,
    "start_time": "2023-03-20T17:23:08.991Z"
   },
   {
    "duration": 2,
    "start_time": "2023-03-20T17:23:09.018Z"
   },
   {
    "duration": 2064,
    "start_time": "2023-03-20T17:23:09.022Z"
   },
   {
    "duration": 16,
    "start_time": "2023-03-20T17:23:11.088Z"
   },
   {
    "duration": 161054,
    "start_time": "2023-03-20T17:23:11.106Z"
   },
   {
    "duration": 208,
    "start_time": "2023-03-20T17:25:52.164Z"
   },
   {
    "duration": 4,
    "start_time": "2023-03-20T17:25:52.374Z"
   },
   {
    "duration": 84,
    "start_time": "2023-03-20T17:25:52.380Z"
   },
   {
    "duration": 3,
    "start_time": "2023-03-20T17:25:52.465Z"
   },
   {
    "duration": 1312,
    "start_time": "2023-03-20T17:25:52.470Z"
   },
   {
    "duration": 0,
    "start_time": "2023-03-20T17:25:53.784Z"
   },
   {
    "duration": 0,
    "start_time": "2023-03-20T17:25:53.785Z"
   },
   {
    "duration": 0,
    "start_time": "2023-03-20T17:25:53.787Z"
   },
   {
    "duration": 50,
    "start_time": "2023-03-20T17:26:25.326Z"
   },
   {
    "duration": 3,
    "start_time": "2023-03-20T17:26:30.135Z"
   },
   {
    "duration": 4692,
    "start_time": "2023-03-21T13:31:39.637Z"
   },
   {
    "duration": 3872,
    "start_time": "2023-03-21T13:31:47.965Z"
   },
   {
    "duration": 257,
    "start_time": "2023-03-21T13:31:51.839Z"
   },
   {
    "duration": 13,
    "start_time": "2023-03-21T13:31:52.098Z"
   },
   {
    "duration": 11,
    "start_time": "2023-03-21T13:31:52.113Z"
   },
   {
    "duration": 5,
    "start_time": "2023-03-21T13:31:55.934Z"
   },
   {
    "duration": 133167,
    "start_time": "2023-03-21T13:31:57.456Z"
   },
   {
    "duration": 143,
    "start_time": "2023-03-21T13:34:10.625Z"
   },
   {
    "duration": 3,
    "start_time": "2023-03-21T13:34:10.771Z"
   },
   {
    "duration": 82,
    "start_time": "2023-03-21T13:34:10.776Z"
   },
   {
    "duration": 4608288,
    "start_time": "2023-03-21T13:55:46.326Z"
   },
   {
    "duration": 10,
    "start_time": "2023-03-21T15:37:53.497Z"
   },
   {
    "duration": 4,
    "start_time": "2023-03-21T15:38:05.479Z"
   },
   {
    "duration": 5,
    "start_time": "2023-03-21T15:38:26.007Z"
   },
   {
    "duration": 104,
    "start_time": "2023-03-21T18:10:51.545Z"
   },
   {
    "duration": 5985,
    "start_time": "2023-03-21T18:10:56.788Z"
   },
   {
    "duration": 2341,
    "start_time": "2023-03-21T18:11:02.775Z"
   },
   {
    "duration": 1097,
    "start_time": "2023-03-21T18:11:05.118Z"
   },
   {
    "duration": 235,
    "start_time": "2023-03-21T18:11:06.217Z"
   },
   {
    "duration": 9,
    "start_time": "2023-03-21T18:11:06.453Z"
   },
   {
    "duration": 38,
    "start_time": "2023-03-21T18:11:06.463Z"
   },
   {
    "duration": 1699,
    "start_time": "2023-03-21T18:11:06.502Z"
   },
   {
    "duration": 19,
    "start_time": "2023-03-21T18:11:08.203Z"
   },
   {
    "duration": 118209,
    "start_time": "2023-03-21T18:11:08.223Z"
   },
   {
    "duration": 123,
    "start_time": "2023-03-21T18:13:06.435Z"
   },
   {
    "duration": 3,
    "start_time": "2023-03-21T18:13:06.559Z"
   },
   {
    "duration": 60,
    "start_time": "2023-03-21T18:13:06.563Z"
   },
   {
    "duration": 2,
    "start_time": "2023-03-21T18:13:06.625Z"
   },
   {
    "duration": 28,
    "start_time": "2023-03-21T18:13:06.628Z"
   },
   {
    "duration": 2,
    "start_time": "2023-03-21T18:13:06.658Z"
   },
   {
    "duration": 4,
    "start_time": "2023-03-21T18:13:06.661Z"
   },
   {
    "duration": 5,
    "start_time": "2023-03-21T18:13:06.666Z"
   },
   {
    "duration": 103,
    "start_time": "2023-03-21T18:23:33.389Z"
   },
   {
    "duration": 76,
    "start_time": "2023-03-21T18:35:42.884Z"
   },
   {
    "duration": 1871,
    "start_time": "2023-03-21T18:47:17.526Z"
   },
   {
    "duration": 2493,
    "start_time": "2023-03-21T18:47:19.399Z"
   },
   {
    "duration": 1120,
    "start_time": "2023-03-21T18:47:21.894Z"
   },
   {
    "duration": 234,
    "start_time": "2023-03-21T18:47:23.015Z"
   },
   {
    "duration": 10,
    "start_time": "2023-03-21T18:47:23.250Z"
   },
   {
    "duration": 18,
    "start_time": "2023-03-21T18:47:23.261Z"
   },
   {
    "duration": 12,
    "start_time": "2023-03-21T18:47:23.280Z"
   },
   {
    "duration": 8,
    "start_time": "2023-03-21T18:47:23.294Z"
   },
   {
    "duration": 120196,
    "start_time": "2023-03-21T18:47:23.303Z"
   },
   {
    "duration": 123,
    "start_time": "2023-03-21T18:49:23.501Z"
   },
   {
    "duration": 3,
    "start_time": "2023-03-21T18:49:23.625Z"
   },
   {
    "duration": 53,
    "start_time": "2023-03-21T18:49:23.629Z"
   },
   {
    "duration": 2,
    "start_time": "2023-03-21T18:49:23.684Z"
   },
   {
    "duration": 45,
    "start_time": "2023-03-21T18:49:23.687Z"
   },
   {
    "duration": 2,
    "start_time": "2023-03-21T18:49:23.734Z"
   },
   {
    "duration": 17,
    "start_time": "2023-03-21T18:49:23.738Z"
   },
   {
    "duration": 13,
    "start_time": "2023-03-21T18:49:23.756Z"
   },
   {
    "duration": 7895,
    "start_time": "2023-03-23T06:25:35.850Z"
   },
   {
    "duration": 3567,
    "start_time": "2023-03-23T06:25:43.748Z"
   },
   {
    "duration": 1791,
    "start_time": "2023-03-23T06:25:47.317Z"
   },
   {
    "duration": 253,
    "start_time": "2023-03-23T06:25:49.114Z"
   },
   {
    "duration": 34,
    "start_time": "2023-03-23T06:25:49.368Z"
   },
   {
    "duration": 10,
    "start_time": "2023-03-23T06:25:49.407Z"
   },
   {
    "duration": 5,
    "start_time": "2023-03-23T06:25:49.419Z"
   },
   {
    "duration": 4,
    "start_time": "2023-03-23T06:25:49.426Z"
   },
   {
    "duration": 175253,
    "start_time": "2023-03-23T06:25:49.432Z"
   },
   {
    "duration": 162,
    "start_time": "2023-03-23T06:28:44.688Z"
   },
   {
    "duration": 4,
    "start_time": "2023-03-23T06:28:44.852Z"
   },
   {
    "duration": 98,
    "start_time": "2023-03-23T06:28:44.857Z"
   },
   {
    "duration": 3,
    "start_time": "2023-03-23T06:28:44.957Z"
   },
   {
    "duration": 128,
    "start_time": "2023-03-23T06:28:44.962Z"
   },
   {
    "duration": 4,
    "start_time": "2023-03-23T06:28:45.094Z"
   },
   {
    "duration": 4,
    "start_time": "2023-03-23T06:28:45.099Z"
   },
   {
    "duration": 28,
    "start_time": "2023-03-23T06:28:45.105Z"
   },
   {
    "duration": 322,
    "start_time": "2023-03-23T06:28:45.138Z"
   },
   {
    "duration": 17,
    "start_time": "2023-03-23T06:28:45.463Z"
   },
   {
    "duration": 64,
    "start_time": "2023-03-23T06:30:33.305Z"
   },
   {
    "duration": 627,
    "start_time": "2023-03-23T06:32:00.380Z"
   },
   {
    "duration": 2172,
    "start_time": "2023-03-23T07:47:21.360Z"
   },
   {
    "duration": 724,
    "start_time": "2023-03-23T07:47:23.534Z"
   },
   {
    "duration": 1037,
    "start_time": "2023-03-23T07:47:24.260Z"
   },
   {
    "duration": 275,
    "start_time": "2023-03-23T07:47:25.299Z"
   },
   {
    "duration": 32,
    "start_time": "2023-03-23T07:47:25.576Z"
   },
   {
    "duration": 39,
    "start_time": "2023-03-23T07:47:25.623Z"
   },
   {
    "duration": 16,
    "start_time": "2023-03-23T07:47:25.664Z"
   },
   {
    "duration": 58,
    "start_time": "2023-03-23T07:47:25.682Z"
   },
   {
    "duration": 150266,
    "start_time": "2023-03-23T07:47:25.741Z"
   },
   {
    "duration": 188,
    "start_time": "2023-03-23T07:49:56.019Z"
   },
   {
    "duration": 5,
    "start_time": "2023-03-23T07:49:56.215Z"
   },
   {
    "duration": 131,
    "start_time": "2023-03-23T07:49:56.225Z"
   },
   {
    "duration": 2,
    "start_time": "2023-03-23T07:49:56.358Z"
   },
   {
    "duration": 66,
    "start_time": "2023-03-23T07:49:56.361Z"
   },
   {
    "duration": 6,
    "start_time": "2023-03-23T07:49:56.438Z"
   },
   {
    "duration": 24,
    "start_time": "2023-03-23T07:49:56.446Z"
   },
   {
    "duration": 7,
    "start_time": "2023-03-23T07:49:56.471Z"
   },
   {
    "duration": 55471,
    "start_time": "2023-03-23T07:49:56.480Z"
   },
   {
    "duration": 39,
    "start_time": "2023-03-23T07:50:51.952Z"
   },
   {
    "duration": 1476,
    "start_time": "2023-03-23T08:01:58.375Z"
   },
   {
    "duration": 3,
    "start_time": "2023-03-23T08:02:27.781Z"
   },
   {
    "duration": 53176,
    "start_time": "2023-03-23T09:16:54.245Z"
   },
   {
    "duration": 20,
    "start_time": "2023-03-23T09:17:47.435Z"
   },
   {
    "duration": 281,
    "start_time": "2023-03-23T09:17:47.501Z"
   },
   {
    "duration": 21,
    "start_time": "2023-03-23T09:17:47.784Z"
   },
   {
    "duration": 206,
    "start_time": "2023-03-23T09:23:20.633Z"
   },
   {
    "duration": 110,
    "start_time": "2023-03-23T09:23:35.143Z"
   },
   {
    "duration": 449756,
    "start_time": "2023-03-23T09:24:07.080Z"
   },
   {
    "duration": 9,
    "start_time": "2023-03-23T09:31:36.838Z"
   },
   {
    "duration": 296071,
    "start_time": "2023-03-23T09:31:36.848Z"
   },
   {
    "duration": 8,
    "start_time": "2023-03-23T09:36:32.920Z"
   },
   {
    "duration": 49853,
    "start_time": "2023-03-23T11:06:13.981Z"
   },
   {
    "duration": 9,
    "start_time": "2023-03-23T11:07:03.839Z"
   },
   {
    "duration": 112,
    "start_time": "2023-03-23T11:07:03.850Z"
   },
   {
    "duration": 0,
    "start_time": "2023-03-23T11:07:03.965Z"
   },
   {
    "duration": 0,
    "start_time": "2023-03-23T11:07:03.966Z"
   },
   {
    "duration": 0,
    "start_time": "2023-03-23T11:07:03.967Z"
   },
   {
    "duration": 0,
    "start_time": "2023-03-23T11:07:03.969Z"
   },
   {
    "duration": 0,
    "start_time": "2023-03-23T11:07:03.971Z"
   },
   {
    "duration": 8507,
    "start_time": "2023-03-23T11:18:30.616Z"
   },
   {
    "duration": 3,
    "start_time": "2023-03-23T11:18:44.048Z"
   },
   {
    "duration": 15241,
    "start_time": "2023-03-23T11:21:44.603Z"
   },
   {
    "duration": 4,
    "start_time": "2023-03-23T11:21:59.846Z"
   },
   {
    "duration": 12,
    "start_time": "2023-03-23T11:23:18.762Z"
   },
   {
    "duration": 9,
    "start_time": "2023-03-23T11:23:48.148Z"
   },
   {
    "duration": 1571,
    "start_time": "2023-03-23T11:23:53.756Z"
   }
  ],
  "kernelspec": {
   "display_name": "Python 3 (ipykernel)",
   "language": "python",
   "name": "python3"
  },
  "language_info": {
   "codemirror_mode": {
    "name": "ipython",
    "version": 3
   },
   "file_extension": ".py",
   "mimetype": "text/x-python",
   "name": "python",
   "nbconvert_exporter": "python",
   "pygments_lexer": "ipython3",
   "version": "3.9.12"
  },
  "toc": {
   "base_numbering": 1,
   "nav_menu": {},
   "number_sections": true,
   "sideBar": true,
   "skip_h1_title": true,
   "title_cell": "Содержание",
   "title_sidebar": "Contents",
   "toc_cell": true,
   "toc_position": {
    "height": "calc(100% - 180px)",
    "left": "10px",
    "top": "150px",
    "width": "302.391px"
   },
   "toc_section_display": true,
   "toc_window_display": false
  }
 },
 "nbformat": 4,
 "nbformat_minor": 2
}

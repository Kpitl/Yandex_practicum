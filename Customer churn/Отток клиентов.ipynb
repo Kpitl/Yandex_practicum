{
 "cells": [
  {
   "cell_type": "markdown",
   "metadata": {
    "toc": true
   },
   "source": [
    "<h1>Содержание<span class=\"tocSkip\"></span></h1>\n",
    "<div class=\"toc\"><ul class=\"toc-item\"><li><span><a href=\"#Подготовка-данных\" data-toc-modified-id=\"Подготовка-данных-1\"><span class=\"toc-item-num\">1&nbsp;&nbsp;</span>Подготовка данных</a></span><ul class=\"toc-item\"><li><span><a href=\"#Разделение-данных-на-выборки\" data-toc-modified-id=\"Разделение-данных-на-выборки-1.1\"><span class=\"toc-item-num\">1.1&nbsp;&nbsp;</span>Разделение данных на выборки</a></span></li><li><span><a href=\"#Масштабирование-признаков\" data-toc-modified-id=\"Масштабирование-признаков-1.2\"><span class=\"toc-item-num\">1.2&nbsp;&nbsp;</span>Масштабирование признаков</a></span></li></ul></li><li><span><a href=\"#Исследование-задачи\" data-toc-modified-id=\"Исследование-задачи-2\"><span class=\"toc-item-num\">2&nbsp;&nbsp;</span>Исследование задачи</a></span><ul class=\"toc-item\"><li><span><a href=\"#Определение-точности-на-разных-моделях\" data-toc-modified-id=\"Определение-точности-на-разных-моделях-2.1\"><span class=\"toc-item-num\">2.1&nbsp;&nbsp;</span>Определение точности на разных моделях</a></span></li><li><span><a href=\"#Проверка-модели-на-баланс-классов\" data-toc-modified-id=\"Проверка-модели-на-баланс-классов-2.2\"><span class=\"toc-item-num\">2.2&nbsp;&nbsp;</span>Проверка модели на баланс классов</a></span></li><li><span><a href=\"#Проверка-на-константной-модели\" data-toc-modified-id=\"Проверка-на-константной-модели-2.3\"><span class=\"toc-item-num\">2.3&nbsp;&nbsp;</span>Проверка на константной модели</a></span></li><li><span><a href=\"#Определение-матрицы-ошибок-разных-моделей\" data-toc-modified-id=\"Определение-матрицы-ошибок-разных-моделей-2.4\"><span class=\"toc-item-num\">2.4&nbsp;&nbsp;</span>Определение матрицы ошибок разных моделей</a></span></li></ul></li><li><span><a href=\"#Борьба-с-дисбалансом\" data-toc-modified-id=\"Борьба-с-дисбалансом-3\"><span class=\"toc-item-num\">3&nbsp;&nbsp;</span>Борьба с дисбалансом</a></span><ul class=\"toc-item\"><li><span><a href=\"#Улучшение-модели\" data-toc-modified-id=\"Улучшение-модели-3.1\"><span class=\"toc-item-num\">3.1&nbsp;&nbsp;</span>Улучшение модели</a></span></li><li><span><a href=\"#Проверка-модели-на-адекватность\" data-toc-modified-id=\"Проверка-модели-на-адекватность-3.2\"><span class=\"toc-item-num\">3.2&nbsp;&nbsp;</span>Проверка модели на адекватность</a></span></li></ul></li><li><span><a href=\"#Тестирование-модели\" data-toc-modified-id=\"Тестирование-модели-4\"><span class=\"toc-item-num\">4&nbsp;&nbsp;</span>Тестирование модели</a></span></li><li><span><a href=\"#Чек-лист-готовности-проекта\" data-toc-modified-id=\"Чек-лист-готовности-проекта-5\"><span class=\"toc-item-num\">5&nbsp;&nbsp;</span>Чек-лист готовности проекта</a></span></li></ul></div>"
   ]
  },
  {
   "cell_type": "markdown",
   "metadata": {},
   "source": [
    "# Отток клиентов"
   ]
  },
  {
   "cell_type": "markdown",
   "metadata": {},
   "source": [
    "Из «Бета-Банка» стали уходить клиенты. Каждый месяц. Немного, но заметно. Банковские маркетологи посчитали: сохранять текущих клиентов дешевле, чем привлекать новых.\n",
    "\n",
    "Нужно спрогнозировать, уйдёт клиент из банка в ближайшее время или нет. Вам предоставлены исторические данные о поведении клиентов и расторжении договоров с банком. \n",
    "\n",
    "Постройте модель с предельно большим значением *F1*-меры. Чтобы сдать проект успешно, нужно довести метрику до 0.59. Проверьте *F1*-меру на тестовой выборке самостоятельно.\n",
    "\n",
    "Дополнительно измеряйте *AUC-ROC*, сравнивайте её значение с *F1*-мерой.\n",
    "\n",
    "Источник данных: [https://www.kaggle.com/barelydedicated/bank-customer-churn-modeling](https://www.kaggle.com/barelydedicated/bank-customer-churn-modeling)"
   ]
  },
  {
   "cell_type": "markdown",
   "metadata": {},
   "source": [
    "## Подготовка данных"
   ]
  },
  {
   "cell_type": "code",
   "execution_count": 2,
   "metadata": {},
   "outputs": [],
   "source": [
    "# Импортируем все необходимые библиотеки \n",
    "import pandas as pd \n",
    "import matplotlib.pyplot as plt\n",
    "import seaborn as sns\n",
    "import warnings\n",
    "warnings.filterwarnings('ignore')\n",
    "from sklearn.tree import DecisionTreeClassifier\n",
    "from sklearn.dummy import DummyClassifier \n",
    "from sklearn.linear_model import LogisticRegression\n",
    "from sklearn.model_selection import train_test_split\n",
    "from sklearn.preprocessing import StandardScaler\n",
    "from sklearn.ensemble import RandomForestClassifier\n",
    "from sklearn.utils import shuffle\n",
    "from sklearn.model_selection import GridSearchCV\n",
    "from sklearn.metrics import accuracy_score, roc_curve, roc_auc_score, f1_score, recall_score, precision_score, confusion_matrix\n",
    "from joblib import dump \n",
    "from tqdm import tqdm"
   ]
  },
  {
   "cell_type": "code",
   "execution_count": 3,
   "metadata": {},
   "outputs": [
    {
     "data": {
      "text/plain": [
       "<bound method NDFrame.sample of       RowNumber  CustomerId    Surname  CreditScore Geography  Gender  Age  \\\n",
       "0             1    15634602   Hargrave          619    France  Female   42   \n",
       "1             2    15647311       Hill          608     Spain  Female   41   \n",
       "2             3    15619304       Onio          502    France  Female   42   \n",
       "3             4    15701354       Boni          699    France  Female   39   \n",
       "4             5    15737888   Mitchell          850     Spain  Female   43   \n",
       "...         ...         ...        ...          ...       ...     ...  ...   \n",
       "9995       9996    15606229   Obijiaku          771    France    Male   39   \n",
       "9996       9997    15569892  Johnstone          516    France    Male   35   \n",
       "9997       9998    15584532        Liu          709    France  Female   36   \n",
       "9998       9999    15682355  Sabbatini          772   Germany    Male   42   \n",
       "9999      10000    15628319     Walker          792    France  Female   28   \n",
       "\n",
       "      Tenure    Balance  NumOfProducts  HasCrCard  IsActiveMember  \\\n",
       "0        2.0       0.00              1          1               1   \n",
       "1        1.0   83807.86              1          0               1   \n",
       "2        8.0  159660.80              3          1               0   \n",
       "3        1.0       0.00              2          0               0   \n",
       "4        2.0  125510.82              1          1               1   \n",
       "...      ...        ...            ...        ...             ...   \n",
       "9995     5.0       0.00              2          1               0   \n",
       "9996    10.0   57369.61              1          1               1   \n",
       "9997     7.0       0.00              1          0               1   \n",
       "9998     3.0   75075.31              2          1               0   \n",
       "9999     NaN  130142.79              1          1               0   \n",
       "\n",
       "      EstimatedSalary  Exited  \n",
       "0           101348.88       1  \n",
       "1           112542.58       0  \n",
       "2           113931.57       1  \n",
       "3            93826.63       0  \n",
       "4            79084.10       0  \n",
       "...               ...     ...  \n",
       "9995         96270.64       0  \n",
       "9996        101699.77       0  \n",
       "9997         42085.58       1  \n",
       "9998         92888.52       1  \n",
       "9999         38190.78       0  \n",
       "\n",
       "[10000 rows x 14 columns]>"
      ]
     },
     "metadata": {},
     "output_type": "display_data"
    },
    {
     "name": "stdout",
     "output_type": "stream",
     "text": [
      "<class 'pandas.core.frame.DataFrame'>\n",
      "RangeIndex: 10000 entries, 0 to 9999\n",
      "Data columns (total 14 columns):\n",
      " #   Column           Non-Null Count  Dtype  \n",
      "---  ------           --------------  -----  \n",
      " 0   RowNumber        10000 non-null  int64  \n",
      " 1   CustomerId       10000 non-null  int64  \n",
      " 2   Surname          10000 non-null  object \n",
      " 3   CreditScore      10000 non-null  int64  \n",
      " 4   Geography        10000 non-null  object \n",
      " 5   Gender           10000 non-null  object \n",
      " 6   Age              10000 non-null  int64  \n",
      " 7   Tenure           9091 non-null   float64\n",
      " 8   Balance          10000 non-null  float64\n",
      " 9   NumOfProducts    10000 non-null  int64  \n",
      " 10  HasCrCard        10000 non-null  int64  \n",
      " 11  IsActiveMember   10000 non-null  int64  \n",
      " 12  EstimatedSalary  10000 non-null  float64\n",
      " 13  Exited           10000 non-null  int64  \n",
      "dtypes: float64(3), int64(8), object(3)\n",
      "memory usage: 1.1+ MB\n"
     ]
    },
    {
     "data": {
      "text/html": [
       "<div>\n",
       "<style scoped>\n",
       "    .dataframe tbody tr th:only-of-type {\n",
       "        vertical-align: middle;\n",
       "    }\n",
       "\n",
       "    .dataframe tbody tr th {\n",
       "        vertical-align: top;\n",
       "    }\n",
       "\n",
       "    .dataframe thead th {\n",
       "        text-align: right;\n",
       "    }\n",
       "</style>\n",
       "<table border=\"1\" class=\"dataframe\">\n",
       "  <thead>\n",
       "    <tr style=\"text-align: right;\">\n",
       "      <th></th>\n",
       "      <th>RowNumber</th>\n",
       "      <th>CustomerId</th>\n",
       "      <th>CreditScore</th>\n",
       "      <th>Age</th>\n",
       "      <th>Tenure</th>\n",
       "      <th>Balance</th>\n",
       "      <th>NumOfProducts</th>\n",
       "      <th>HasCrCard</th>\n",
       "      <th>IsActiveMember</th>\n",
       "      <th>EstimatedSalary</th>\n",
       "      <th>Exited</th>\n",
       "    </tr>\n",
       "  </thead>\n",
       "  <tbody>\n",
       "    <tr>\n",
       "      <th>count</th>\n",
       "      <td>10000.00000</td>\n",
       "      <td>1.000000e+04</td>\n",
       "      <td>10000.000000</td>\n",
       "      <td>10000.000000</td>\n",
       "      <td>9091.000000</td>\n",
       "      <td>10000.000000</td>\n",
       "      <td>10000.000000</td>\n",
       "      <td>10000.00000</td>\n",
       "      <td>10000.000000</td>\n",
       "      <td>10000.000000</td>\n",
       "      <td>10000.000000</td>\n",
       "    </tr>\n",
       "    <tr>\n",
       "      <th>mean</th>\n",
       "      <td>5000.50000</td>\n",
       "      <td>1.569094e+07</td>\n",
       "      <td>650.528800</td>\n",
       "      <td>38.921800</td>\n",
       "      <td>4.997690</td>\n",
       "      <td>76485.889288</td>\n",
       "      <td>1.530200</td>\n",
       "      <td>0.70550</td>\n",
       "      <td>0.515100</td>\n",
       "      <td>100090.239881</td>\n",
       "      <td>0.203700</td>\n",
       "    </tr>\n",
       "    <tr>\n",
       "      <th>std</th>\n",
       "      <td>2886.89568</td>\n",
       "      <td>7.193619e+04</td>\n",
       "      <td>96.653299</td>\n",
       "      <td>10.487806</td>\n",
       "      <td>2.894723</td>\n",
       "      <td>62397.405202</td>\n",
       "      <td>0.581654</td>\n",
       "      <td>0.45584</td>\n",
       "      <td>0.499797</td>\n",
       "      <td>57510.492818</td>\n",
       "      <td>0.402769</td>\n",
       "    </tr>\n",
       "    <tr>\n",
       "      <th>min</th>\n",
       "      <td>1.00000</td>\n",
       "      <td>1.556570e+07</td>\n",
       "      <td>350.000000</td>\n",
       "      <td>18.000000</td>\n",
       "      <td>0.000000</td>\n",
       "      <td>0.000000</td>\n",
       "      <td>1.000000</td>\n",
       "      <td>0.00000</td>\n",
       "      <td>0.000000</td>\n",
       "      <td>11.580000</td>\n",
       "      <td>0.000000</td>\n",
       "    </tr>\n",
       "    <tr>\n",
       "      <th>25%</th>\n",
       "      <td>2500.75000</td>\n",
       "      <td>1.562853e+07</td>\n",
       "      <td>584.000000</td>\n",
       "      <td>32.000000</td>\n",
       "      <td>2.000000</td>\n",
       "      <td>0.000000</td>\n",
       "      <td>1.000000</td>\n",
       "      <td>0.00000</td>\n",
       "      <td>0.000000</td>\n",
       "      <td>51002.110000</td>\n",
       "      <td>0.000000</td>\n",
       "    </tr>\n",
       "    <tr>\n",
       "      <th>50%</th>\n",
       "      <td>5000.50000</td>\n",
       "      <td>1.569074e+07</td>\n",
       "      <td>652.000000</td>\n",
       "      <td>37.000000</td>\n",
       "      <td>5.000000</td>\n",
       "      <td>97198.540000</td>\n",
       "      <td>1.000000</td>\n",
       "      <td>1.00000</td>\n",
       "      <td>1.000000</td>\n",
       "      <td>100193.915000</td>\n",
       "      <td>0.000000</td>\n",
       "    </tr>\n",
       "    <tr>\n",
       "      <th>75%</th>\n",
       "      <td>7500.25000</td>\n",
       "      <td>1.575323e+07</td>\n",
       "      <td>718.000000</td>\n",
       "      <td>44.000000</td>\n",
       "      <td>7.000000</td>\n",
       "      <td>127644.240000</td>\n",
       "      <td>2.000000</td>\n",
       "      <td>1.00000</td>\n",
       "      <td>1.000000</td>\n",
       "      <td>149388.247500</td>\n",
       "      <td>0.000000</td>\n",
       "    </tr>\n",
       "    <tr>\n",
       "      <th>max</th>\n",
       "      <td>10000.00000</td>\n",
       "      <td>1.581569e+07</td>\n",
       "      <td>850.000000</td>\n",
       "      <td>92.000000</td>\n",
       "      <td>10.000000</td>\n",
       "      <td>250898.090000</td>\n",
       "      <td>4.000000</td>\n",
       "      <td>1.00000</td>\n",
       "      <td>1.000000</td>\n",
       "      <td>199992.480000</td>\n",
       "      <td>1.000000</td>\n",
       "    </tr>\n",
       "  </tbody>\n",
       "</table>\n",
       "</div>"
      ],
      "text/plain": [
       "         RowNumber    CustomerId   CreditScore           Age       Tenure  \\\n",
       "count  10000.00000  1.000000e+04  10000.000000  10000.000000  9091.000000   \n",
       "mean    5000.50000  1.569094e+07    650.528800     38.921800     4.997690   \n",
       "std     2886.89568  7.193619e+04     96.653299     10.487806     2.894723   \n",
       "min        1.00000  1.556570e+07    350.000000     18.000000     0.000000   \n",
       "25%     2500.75000  1.562853e+07    584.000000     32.000000     2.000000   \n",
       "50%     5000.50000  1.569074e+07    652.000000     37.000000     5.000000   \n",
       "75%     7500.25000  1.575323e+07    718.000000     44.000000     7.000000   \n",
       "max    10000.00000  1.581569e+07    850.000000     92.000000    10.000000   \n",
       "\n",
       "             Balance  NumOfProducts    HasCrCard  IsActiveMember  \\\n",
       "count   10000.000000   10000.000000  10000.00000    10000.000000   \n",
       "mean    76485.889288       1.530200      0.70550        0.515100   \n",
       "std     62397.405202       0.581654      0.45584        0.499797   \n",
       "min         0.000000       1.000000      0.00000        0.000000   \n",
       "25%         0.000000       1.000000      0.00000        0.000000   \n",
       "50%     97198.540000       1.000000      1.00000        1.000000   \n",
       "75%    127644.240000       2.000000      1.00000        1.000000   \n",
       "max    250898.090000       4.000000      1.00000        1.000000   \n",
       "\n",
       "       EstimatedSalary        Exited  \n",
       "count     10000.000000  10000.000000  \n",
       "mean     100090.239881      0.203700  \n",
       "std       57510.492818      0.402769  \n",
       "min          11.580000      0.000000  \n",
       "25%       51002.110000      0.000000  \n",
       "50%      100193.915000      0.000000  \n",
       "75%      149388.247500      0.000000  \n",
       "max      199992.480000      1.000000  "
      ]
     },
     "execution_count": 3,
     "metadata": {},
     "output_type": "execute_result"
    }
   ],
   "source": [
    "# Выгрузим данные и изучим признаки\n",
    "try:\n",
    "    df = pd.read_csv('/datasets/Churn.csv')\n",
    "except:\n",
    "    df = pd.read_csv('Churn.csv')\n",
    "    \n",
    "# Вывод первых и последних пяти строк таблиц датафрейма\n",
    "display(df.sample)\n",
    "\n",
    "# Вывод информации о типах данных в таблицах\n",
    "df.info()\n",
    "\n",
    "df.describe()"
   ]
  },
  {
   "cell_type": "code",
   "execution_count": 69,
   "metadata": {},
   "outputs": [
    {
     "data": {
      "text/plain": [
       "array([[<AxesSubplot:title={'center':'RowNumber'}>,\n",
       "        <AxesSubplot:title={'center':'CustomerId'}>,\n",
       "        <AxesSubplot:title={'center':'CreditScore'}>],\n",
       "       [<AxesSubplot:title={'center':'Age'}>,\n",
       "        <AxesSubplot:title={'center':'Tenure'}>,\n",
       "        <AxesSubplot:title={'center':'Balance'}>],\n",
       "       [<AxesSubplot:title={'center':'NumOfProducts'}>,\n",
       "        <AxesSubplot:title={'center':'HasCrCard'}>,\n",
       "        <AxesSubplot:title={'center':'IsActiveMember'}>],\n",
       "       [<AxesSubplot:title={'center':'EstimatedSalary'}>, <AxesSubplot:>,\n",
       "        <AxesSubplot:>]], dtype=object)"
      ]
     },
     "execution_count": 69,
     "metadata": {},
     "output_type": "execute_result"
    },
    {
     "data": {
      "image/png": "[encoded data removed]",
      "text/plain": [
       "<Figure size 1440x1080 with 12 Axes>"
      ]
     },
     "metadata": {
      "needs_background": "light"
     },
     "output_type": "display_data"
    }
   ],
   "source": [
    "df[['RowNumber', \n",
    "    'CustomerId', \n",
    "    'CreditScore',\n",
    "    'Age', \n",
    "    'Tenure', \n",
    "    'Balance', \n",
    "    'NumOfProducts', \n",
    "    'HasCrCard', \n",
    "    'IsActiveMember', \n",
    "    'EstimatedSalary']].hist(figsize=(20, 15))"
   ]
  },
  {
   "cell_type": "code",
   "execution_count": 70,
   "metadata": {},
   "outputs": [
    {
     "data": {
      "text/plain": [
       "<AxesSubplot:xlabel='Geography'>"
      ]
     },
     "execution_count": 70,
     "metadata": {},
     "output_type": "execute_result"
    },
    {
     "data": {
      "image/png": "[encoded data removed]",
      "text/plain": [
       "<Figure size 1080x432 with 1 Axes>"
      ]
     },
     "metadata": {
      "needs_background": "light"
     },
     "output_type": "display_data"
    }
   ],
   "source": [
    "df.groupby('Age')['Exited'].sum().plot(figsize=(15,6),kind='bar')\n",
    "df.groupby('Tenure')['Exited'].sum().plot(figsize=(15,6),kind='bar')"
   ]
  },
  {
   "cell_type": "code",
   "execution_count": 62,
   "metadata": {},
   "outputs": [
    {
     "data": {
      "image/png": "[encoded data removed]",
      "text/plain": [
       "<Figure size 864x432 with 1 Axes>"
      ]
     },
     "metadata": {
      "needs_background": "light"
     },
     "output_type": "display_data"
    }
   ],
   "source": [
    "\n",
    "x = df['Gender']\n",
    "y = df['Tenure']\n",
    "fig, ax = plt.subplots()\n",
    "\n",
    "ax.bar(x, y)\n",
    "\n",
    "fig.set_figwidth(12)\n",
    "fig.set_figheight(6)  \n",
    "\n",
    "plt.show()"
   ]
  },
  {
   "cell_type": "raw",
   "metadata": {},
   "source": [
    "x1 = df['RowNumber']\n",
    "y1 = df['Tenure']\n",
    "x2 = df['CustomerId']\n",
    "y2 = df['Tenure']\n",
    "\n",
    "fig, axes = plt.subplots(2, 1)\n",
    "\n",
    "axes[0].bar(x1, y1)\n",
    "axes[1].bar(x2, y2)\n",
    "\n",
    "fig.set_figwidth(12)\n",
    "fig.set_figheight(6)   \n",
    "\n",
    "plt.show()"
   ]
  },
  {
   "cell_type": "code",
   "execution_count": 16,
   "metadata": {},
   "outputs": [
    {
     "data": {
      "text/plain": [
       "RowNumber            0\n",
       "CustomerId           0\n",
       "Surname              0\n",
       "CreditScore          0\n",
       "Geography            0\n",
       "Gender               0\n",
       "Age                  0\n",
       "Tenure             909\n",
       "Balance              0\n",
       "NumOfProducts        0\n",
       "HasCrCard            0\n",
       "IsActiveMember       0\n",
       "EstimatedSalary      0\n",
       "Exited               0\n",
       "dtype: int64"
      ]
     },
     "execution_count": 16,
     "metadata": {},
     "output_type": "execute_result"
    }
   ],
   "source": [
    "# Выведем количество пропущенных значений\n",
    "df.isna().sum()"
   ]
  },
  {
   "cell_type": "code",
   "execution_count": 17,
   "metadata": {},
   "outputs": [
    {
     "data": {
      "text/plain": [
       "0"
      ]
     },
     "execution_count": 17,
     "metadata": {},
     "output_type": "execute_result"
    }
   ],
   "source": [
    "# Выведем количество дубликатов в датафрейме\n",
    "df.duplicated().sum()"
   ]
  },
  {
   "cell_type": "markdown",
   "metadata": {},
   "source": [
    "В датафрейме есть пропуски в признаке Tenure (сколько лет человек является клиентом банка), скорее всего это новые клиенты, которые недавно начали сотрудничать с банком, поэтому пропуски можно заполнить нулями. Также необходимо преобразовать категориальные признаки в целочисленные и избаваться от таблиц, не имеющие ценность для обучения. Произведем замены выведем интересующие нас таблицы:"
   ]
  },
  {
   "cell_type": "code",
   "execution_count": 18,
   "metadata": {},
   "outputs": [
    {
     "data": {
      "text/plain": [
       "RowNumber          0\n",
       "CustomerId         0\n",
       "Surname            0\n",
       "CreditScore        0\n",
       "Geography          0\n",
       "Gender             0\n",
       "Age                0\n",
       "Tenure             0\n",
       "Balance            0\n",
       "NumOfProducts      0\n",
       "HasCrCard          0\n",
       "IsActiveMember     0\n",
       "EstimatedSalary    0\n",
       "Exited             0\n",
       "dtype: int64"
      ]
     },
     "execution_count": 18,
     "metadata": {},
     "output_type": "execute_result"
    }
   ],
   "source": [
    "# Заполняем пустые значения нулями\n",
    "df['Tenure'] = df['Tenure'].fillna(0)\n",
    "\n",
    "# Проверяем датафрейм на количество пропущенных значений\n",
    "df.isna().sum()"
   ]
  },
  {
   "cell_type": "code",
   "execution_count": 19,
   "metadata": {},
   "outputs": [
    {
     "name": "stdout",
     "output_type": "stream",
     "text": [
      "10000\n",
      "2932 \n",
      "\n",
      "['France' 'Spain' 'Germany']\n",
      "['Female' 'Male']\n",
      "[42 41 39 43 44 50 29 27 31 24 34 25 35 45 58 32 38 46 36 33 40 51 61 49\n",
      " 37 19 66 56 26 21 55 75 22 30 28 65 48 52 57 73 47 54 72 20 67 79 62 53\n",
      " 80 59 68 23 60 70 63 64 18 82 69 74 71 76 77 88 85 84 78 81 92 83]\n",
      "[1 0]\n"
     ]
    }
   ],
   "source": [
    "# Вывод количества уникальных значений  \n",
    "print(df['CustomerId'].nunique())\n",
    "print(df['Surname'].nunique(),'\\n')\n",
    "\n",
    "# Вывод уникальных значений столбцов\n",
    "print(df['Geography'].unique())\n",
    "print(df['Gender'].unique())\n",
    "print(df['Age'].unique())\n",
    "print(df['Exited'].unique())\n"
   ]
  },
  {
   "cell_type": "markdown",
   "metadata": {},
   "source": [
    "Избавимся от таблиц, которые мало влияют на обучение модели, так:\n",
    "1) таблица RowNumber, по своему предназначению показывает номер столбца и не несет ценности для обучения модели, поэтому от него можно избавиться.\n",
    "\n",
    "2) таблица CustomerId показывает идентификатор клиента, имеет много уникальных значений, что сильно усложняет задачу при обучении модели, поэтому стоблец можно удалить.\n",
    "\n",
    "3) таблица Surname показывает фамилию пользователя, также содержит много уникальных значений, что сильно усложняет задачу и не несет ценности для качества будущей модели, поэтому столбец также можно удалить.\n",
    "\n",
    "4) таблица CreditScore показывает кредитный рейтинг каждого пользователя, этот показатель важен при обучении модели\n",
    "\n",
    "5) таблица Geography имеет всего 3 уникальных значения стран France', 'Spain', 'Germany' можно выполнить преобразование OHE \n",
    "\n",
    "6) таблица Gender, Age и Exited можно преобразовать с помощью прямого кодирования OHE.\n",
    "\n",
    "7) таблицы Balance, NumOfProducts, HasCrCard, IsActiveMember, EstimatedSalary не требуют дополнительных преобразований и необходимы при обучении модели"
   ]
  },
  {
   "cell_type": "code",
   "execution_count": 20,
   "metadata": {},
   "outputs": [
    {
     "data": {
      "text/html": [
       "<div>\n",
       "<style scoped>\n",
       "    .dataframe tbody tr th:only-of-type {\n",
       "        vertical-align: middle;\n",
       "    }\n",
       "\n",
       "    .dataframe tbody tr th {\n",
       "        vertical-align: top;\n",
       "    }\n",
       "\n",
       "    .dataframe thead th {\n",
       "        text-align: right;\n",
       "    }\n",
       "</style>\n",
       "<table border=\"1\" class=\"dataframe\">\n",
       "  <thead>\n",
       "    <tr style=\"text-align: right;\">\n",
       "      <th></th>\n",
       "      <th>CreditScore</th>\n",
       "      <th>Geography</th>\n",
       "      <th>Gender</th>\n",
       "      <th>Age</th>\n",
       "      <th>Tenure</th>\n",
       "      <th>Balance</th>\n",
       "      <th>NumOfProducts</th>\n",
       "      <th>HasCrCard</th>\n",
       "      <th>IsActiveMember</th>\n",
       "      <th>EstimatedSalary</th>\n",
       "      <th>Exited</th>\n",
       "    </tr>\n",
       "  </thead>\n",
       "  <tbody>\n",
       "    <tr>\n",
       "      <th>0</th>\n",
       "      <td>619</td>\n",
       "      <td>France</td>\n",
       "      <td>Female</td>\n",
       "      <td>42</td>\n",
       "      <td>2.0</td>\n",
       "      <td>0.00</td>\n",
       "      <td>1</td>\n",
       "      <td>1</td>\n",
       "      <td>1</td>\n",
       "      <td>101348.88</td>\n",
       "      <td>1</td>\n",
       "    </tr>\n",
       "    <tr>\n",
       "      <th>1</th>\n",
       "      <td>608</td>\n",
       "      <td>Spain</td>\n",
       "      <td>Female</td>\n",
       "      <td>41</td>\n",
       "      <td>1.0</td>\n",
       "      <td>83807.86</td>\n",
       "      <td>1</td>\n",
       "      <td>0</td>\n",
       "      <td>1</td>\n",
       "      <td>112542.58</td>\n",
       "      <td>0</td>\n",
       "    </tr>\n",
       "    <tr>\n",
       "      <th>2</th>\n",
       "      <td>502</td>\n",
       "      <td>France</td>\n",
       "      <td>Female</td>\n",
       "      <td>42</td>\n",
       "      <td>8.0</td>\n",
       "      <td>159660.80</td>\n",
       "      <td>3</td>\n",
       "      <td>1</td>\n",
       "      <td>0</td>\n",
       "      <td>113931.57</td>\n",
       "      <td>1</td>\n",
       "    </tr>\n",
       "    <tr>\n",
       "      <th>3</th>\n",
       "      <td>699</td>\n",
       "      <td>France</td>\n",
       "      <td>Female</td>\n",
       "      <td>39</td>\n",
       "      <td>1.0</td>\n",
       "      <td>0.00</td>\n",
       "      <td>2</td>\n",
       "      <td>0</td>\n",
       "      <td>0</td>\n",
       "      <td>93826.63</td>\n",
       "      <td>0</td>\n",
       "    </tr>\n",
       "    <tr>\n",
       "      <th>4</th>\n",
       "      <td>850</td>\n",
       "      <td>Spain</td>\n",
       "      <td>Female</td>\n",
       "      <td>43</td>\n",
       "      <td>2.0</td>\n",
       "      <td>125510.82</td>\n",
       "      <td>1</td>\n",
       "      <td>1</td>\n",
       "      <td>1</td>\n",
       "      <td>79084.10</td>\n",
       "      <td>0</td>\n",
       "    </tr>\n",
       "    <tr>\n",
       "      <th>...</th>\n",
       "      <td>...</td>\n",
       "      <td>...</td>\n",
       "      <td>...</td>\n",
       "      <td>...</td>\n",
       "      <td>...</td>\n",
       "      <td>...</td>\n",
       "      <td>...</td>\n",
       "      <td>...</td>\n",
       "      <td>...</td>\n",
       "      <td>...</td>\n",
       "      <td>...</td>\n",
       "    </tr>\n",
       "    <tr>\n",
       "      <th>9995</th>\n",
       "      <td>771</td>\n",
       "      <td>France</td>\n",
       "      <td>Male</td>\n",
       "      <td>39</td>\n",
       "      <td>5.0</td>\n",
       "      <td>0.00</td>\n",
       "      <td>2</td>\n",
       "      <td>1</td>\n",
       "      <td>0</td>\n",
       "      <td>96270.64</td>\n",
       "      <td>0</td>\n",
       "    </tr>\n",
       "    <tr>\n",
       "      <th>9996</th>\n",
       "      <td>516</td>\n",
       "      <td>France</td>\n",
       "      <td>Male</td>\n",
       "      <td>35</td>\n",
       "      <td>10.0</td>\n",
       "      <td>57369.61</td>\n",
       "      <td>1</td>\n",
       "      <td>1</td>\n",
       "      <td>1</td>\n",
       "      <td>101699.77</td>\n",
       "      <td>0</td>\n",
       "    </tr>\n",
       "    <tr>\n",
       "      <th>9997</th>\n",
       "      <td>709</td>\n",
       "      <td>France</td>\n",
       "      <td>Female</td>\n",
       "      <td>36</td>\n",
       "      <td>7.0</td>\n",
       "      <td>0.00</td>\n",
       "      <td>1</td>\n",
       "      <td>0</td>\n",
       "      <td>1</td>\n",
       "      <td>42085.58</td>\n",
       "      <td>1</td>\n",
       "    </tr>\n",
       "    <tr>\n",
       "      <th>9998</th>\n",
       "      <td>772</td>\n",
       "      <td>Germany</td>\n",
       "      <td>Male</td>\n",
       "      <td>42</td>\n",
       "      <td>3.0</td>\n",
       "      <td>75075.31</td>\n",
       "      <td>2</td>\n",
       "      <td>1</td>\n",
       "      <td>0</td>\n",
       "      <td>92888.52</td>\n",
       "      <td>1</td>\n",
       "    </tr>\n",
       "    <tr>\n",
       "      <th>9999</th>\n",
       "      <td>792</td>\n",
       "      <td>France</td>\n",
       "      <td>Female</td>\n",
       "      <td>28</td>\n",
       "      <td>0.0</td>\n",
       "      <td>130142.79</td>\n",
       "      <td>1</td>\n",
       "      <td>1</td>\n",
       "      <td>0</td>\n",
       "      <td>38190.78</td>\n",
       "      <td>0</td>\n",
       "    </tr>\n",
       "  </tbody>\n",
       "</table>\n",
       "<p>10000 rows × 11 columns</p>\n",
       "</div>"
      ],
      "text/plain": [
       "      CreditScore Geography  Gender  Age  Tenure    Balance  NumOfProducts  \\\n",
       "0             619    France  Female   42     2.0       0.00              1   \n",
       "1             608     Spain  Female   41     1.0   83807.86              1   \n",
       "2             502    France  Female   42     8.0  159660.80              3   \n",
       "3             699    France  Female   39     1.0       0.00              2   \n",
       "4             850     Spain  Female   43     2.0  125510.82              1   \n",
       "...           ...       ...     ...  ...     ...        ...            ...   \n",
       "9995          771    France    Male   39     5.0       0.00              2   \n",
       "9996          516    France    Male   35    10.0   57369.61              1   \n",
       "9997          709    France  Female   36     7.0       0.00              1   \n",
       "9998          772   Germany    Male   42     3.0   75075.31              2   \n",
       "9999          792    France  Female   28     0.0  130142.79              1   \n",
       "\n",
       "      HasCrCard  IsActiveMember  EstimatedSalary  Exited  \n",
       "0             1               1        101348.88       1  \n",
       "1             0               1        112542.58       0  \n",
       "2             1               0        113931.57       1  \n",
       "3             0               0         93826.63       0  \n",
       "4             1               1         79084.10       0  \n",
       "...         ...             ...              ...     ...  \n",
       "9995          1               0         96270.64       0  \n",
       "9996          1               1        101699.77       0  \n",
       "9997          0               1         42085.58       1  \n",
       "9998          1               0         92888.52       1  \n",
       "9999          1               0         38190.78       0  \n",
       "\n",
       "[10000 rows x 11 columns]"
      ]
     },
     "execution_count": 20,
     "metadata": {},
     "output_type": "execute_result"
    }
   ],
   "source": [
    "# Удаляем не нужные признаки и сохраняем их в отдельный датафрейм\n",
    "df_ml = df.drop(['RowNumber','CustomerId', 'Surname'], axis=1)\n",
    "\n",
    "# Выведем новый датафрейм\n",
    "df_ml"
   ]
  },
  {
   "cell_type": "markdown",
   "metadata": {},
   "source": [
    "**Вывод:** данные обработаны, теперь их можно разбевать на выборки"
   ]
  },
  {
   "cell_type": "markdown",
   "metadata": {},
   "source": [
    "### Разделение данных на выборки"
   ]
  },
  {
   "cell_type": "code",
   "execution_count": 21,
   "metadata": {
    "scrolled": true
   },
   "outputs": [
    {
     "name": "stdout",
     "output_type": "stream",
     "text": [
      "      CreditScore  Age  Tenure    Balance  NumOfProducts  HasCrCard  \\\n",
      "0             619   42     2.0       0.00              1          1   \n",
      "1             608   41     1.0   83807.86              1          0   \n",
      "2             502   42     8.0  159660.80              3          1   \n",
      "3             699   39     1.0       0.00              2          0   \n",
      "4             850   43     2.0  125510.82              1          1   \n",
      "...           ...  ...     ...        ...            ...        ...   \n",
      "9995          771   39     5.0       0.00              2          1   \n",
      "9996          516   35    10.0   57369.61              1          1   \n",
      "9997          709   36     7.0       0.00              1          0   \n",
      "9998          772   42     3.0   75075.31              2          1   \n",
      "9999          792   28     0.0  130142.79              1          1   \n",
      "\n",
      "      IsActiveMember  EstimatedSalary  Exited  Geography_Germany  \\\n",
      "0                  1        101348.88       1                  0   \n",
      "1                  1        112542.58       0                  0   \n",
      "2                  0        113931.57       1                  0   \n",
      "3                  0         93826.63       0                  0   \n",
      "4                  1         79084.10       0                  0   \n",
      "...              ...              ...     ...                ...   \n",
      "9995               0         96270.64       0                  0   \n",
      "9996               1        101699.77       0                  0   \n",
      "9997               1         42085.58       1                  0   \n",
      "9998               0         92888.52       1                  1   \n",
      "9999               0         38190.78       0                  0   \n",
      "\n",
      "      Geography_Spain  Gender_Male  \n",
      "0                   0            0  \n",
      "1                   1            0  \n",
      "2                   0            0  \n",
      "3                   0            0  \n",
      "4                   1            0  \n",
      "...               ...          ...  \n",
      "9995                0            1  \n",
      "9996                0            1  \n",
      "9997                0            0  \n",
      "9998                0            1  \n",
      "9999                0            0  \n",
      "\n",
      "[10000 rows x 12 columns]\n"
     ]
    }
   ],
   "source": [
    "# Произведем прямое кодирование df_ml, с использованием drop_first, чтобы не попасть в дамми ловушку \n",
    "df_ml = pd.get_dummies(df_ml, drop_first=True)\n",
    "print(df_ml)"
   ]
  },
  {
   "cell_type": "code",
   "execution_count": 22,
   "metadata": {},
   "outputs": [
    {
     "name": "stdout",
     "output_type": "stream",
     "text": [
      "(2000, 11)\n",
      "(2000,)\n",
      "(6400, 11)\n",
      "(6400,)\n",
      "(1600, 11)\n",
      "(1600,)\n"
     ]
    }
   ],
   "source": [
    "# Разделим исходные данные на тренировочную и вадидационную выборки \n",
    "train, test = train_test_split(df_ml, test_size=0.2, random_state=123145)\n",
    "\n",
    "# Теперь разделим тренировачные данные и отдадим 20 процентов валидационной выборке\n",
    "train, valid = train_test_split(train, test_size=0.2, random_state=123145)\n",
    "\n",
    "# Создадим переменные для признаков и целевого признака тестовой выборки\n",
    "features_test = test.drop(['Exited'], axis=1)\n",
    "target_test = test['Exited']\n",
    "\n",
    "# Создадим переменные для признаков и целевого признака тренеровочной выборки\n",
    "features_train = train.drop(['Exited'], axis=1)\n",
    "target_train = train['Exited']\n",
    "\n",
    "# Создадим переменные для признаков и целевого признака валидационной выборки: \n",
    "features_valid = valid.drop(['Exited'], axis=1)\n",
    "target_valid = valid['Exited']\n",
    "\n",
    "\n",
    "print(features_test.shape)\n",
    "print(target_test.shape)\n",
    "\n",
    "print(features_train.shape)\n",
    "print(target_train.shape)\n",
    "\n",
    "print(features_valid.shape)\n",
    "print(target_valid.shape)"
   ]
  },
  {
   "cell_type": "markdown",
   "metadata": {},
   "source": [
    "Приведем признаки к одному масштабу, то есть стандартизируем их."
   ]
  },
  {
   "cell_type": "markdown",
   "metadata": {},
   "source": [
    "### Масштабирование признаков"
   ]
  },
  {
   "cell_type": "code",
   "execution_count": 23,
   "metadata": {},
   "outputs": [
    {
     "name": "stdout",
     "output_type": "stream",
     "text": [
      "      CreditScore       Age    Tenure   Balance  NumOfProducts  HasCrCard  \\\n",
      "5153     0.455387 -0.942999  1.449275 -1.231010       0.838464          1   \n",
      "7168    -1.486220 -0.565534  0.805265 -1.231010       0.838464          1   \n",
      "8936    -0.866558  1.416157  1.449275  0.314179      -0.906632          0   \n",
      "7336     0.031951 -1.037365  0.805265 -1.231010       0.838464          1   \n",
      "9114    -1.135078 -0.282435  0.161254 -1.231010       0.838464          1   \n",
      "\n",
      "      IsActiveMember  EstimatedSalary  Geography_Germany  Geography_Spain  \\\n",
      "5153               0         0.210203                  0                0   \n",
      "7168               1        -0.242946                  0                0   \n",
      "8936               0        -0.821210                  0                0   \n",
      "7336               0         0.898923                  0                0   \n",
      "9114               0         0.439431                  0                0   \n",
      "\n",
      "      Gender_Male  \n",
      "5153            0  \n",
      "7168            1  \n",
      "8936            1  \n",
      "7336            0  \n",
      "9114            1  \n"
     ]
    }
   ],
   "source": [
    "# Зафиксируем численные признаки\n",
    "numeric = ['CreditScore', 'Age', 'Tenure', 'Balance', 'NumOfProducts', 'EstimatedSalary']\n",
    "\n",
    "#Создаем объект scaler и настраеваем его на обучающих данных:\n",
    "scaler = StandardScaler()\n",
    "scaler.fit(features_train[numeric])\n",
    "\n",
    "# Стандантизируем тренеровачную, валидационную и тестевую выборки\n",
    "features_train[numeric] = scaler.transform(features_train[numeric])\n",
    "features_valid[numeric] = scaler.transform(features_valid[numeric])\n",
    "features_test[numeric] = scaler.transform(features_test[numeric])\n",
    "\n",
    "# Выведем полученный результат тренировочной выборки\n",
    "print(features_train.head())"
   ]
  },
  {
   "cell_type": "markdown",
   "metadata": {},
   "source": [
    "**Вывод:** В результате масштабированния получены признаки для трех выборок."
   ]
  },
  {
   "cell_type": "markdown",
   "metadata": {},
   "source": [
    "## Исследование задачи"
   ]
  },
  {
   "cell_type": "markdown",
   "metadata": {},
   "source": [
    "### Определение точности на разных моделях"
   ]
  },
  {
   "cell_type": "markdown",
   "metadata": {},
   "source": [
    "Проверим данные на трех моделях:"
   ]
  },
  {
   "cell_type": "code",
   "execution_count": 24,
   "metadata": {},
   "outputs": [],
   "source": [
    "# Создадим функцию из трех моделей и проверим результаты\n",
    "def models(f_tr, t_tr, f_v, t_v):\n",
    "    model_dtc = DecisionTreeClassifier(random_state=123145)\n",
    "    dtc = model_dtc.fit(f_tr, t_tr).score(f_v, t_v)\n",
    "    \n",
    "    model_rfc = RandomForestClassifier(random_state=123145, n_estimators=100)\n",
    "    rfc = model_rfc.fit(f_tr, t_tr).score(f_v, t_v)\n",
    "    \n",
    "    model_lr = LogisticRegression(solver = 'lbfgs')\n",
    "    lr = model_lr.fit(f_tr, t_tr).score(f_v, t_v)\n",
    "    print('Значения accuracy:')\n",
    "    print('Дерево решений:', dtc, 'cлучайный лес:', rfc, 'логистическая регрессия:', lr)"
   ]
  },
  {
   "cell_type": "code",
   "execution_count": 25,
   "metadata": {},
   "outputs": [
    {
     "name": "stdout",
     "output_type": "stream",
     "text": [
      "Значения accuracy:\n",
      "Дерево решений: 0.805625 cлучайный лес: 0.86625 логистическая регрессия: 0.825\n"
     ]
    }
   ],
   "source": [
    "models(features_train, target_train, features_valid, target_valid)"
   ]
  },
  {
   "cell_type": "markdown",
   "metadata": {},
   "source": [
    "**Вывод:** доля правильных ответов составляет больше 80 %, что говорит о хорошем результате, но необходимо проверить данные на дисбаланс классов."
   ]
  },
  {
   "cell_type": "markdown",
   "metadata": {},
   "source": [
    "### Проверка модели на баланс классов"
   ]
  },
  {
   "cell_type": "markdown",
   "metadata": {},
   "source": [
    "Изучим баланс классов в датафрейме"
   ]
  },
  {
   "cell_type": "code",
   "execution_count": 26,
   "metadata": {},
   "outputs": [
    {
     "name": "stdout",
     "output_type": "stream",
     "text": [
      "Соотношение классов:\n",
      "0    0.7963\n",
      "1    0.2037\n",
      "Name: Exited, dtype: float64\n"
     ]
    },
    {
     "data": {
      "image/png": "[encoded data removed]",
      "text/plain": [
       "<Figure size 720x576 with 1 Axes>"
      ]
     },
     "metadata": {
      "needs_background": "light"
     },
     "output_type": "display_data"
    }
   ],
   "source": [
    "print('Соотношение классов:')\n",
    "print(df_ml['Exited'].value_counts(normalize=1))\n",
    "df['Exited'].value_counts(normalize=1).plot(kind='bar', grid=True, figsize=(10,8), title = 'Соотношение ухода клиентов');"
   ]
  },
  {
   "cell_type": "markdown",
   "metadata": {},
   "source": [
    "**Вывод:** Наблюдается заметный дисбаланс класов 0 ≈ 80% и 1 ≈ 20%, то есть 1 к 4.\n",
    "Можно предположить, что результаты предсказаний моделей будут сильно склоняться к одному варианту ответов."
   ]
  },
  {
   "cell_type": "markdown",
   "metadata": {},
   "source": [
    "Проанализируем частоты классов в результатах предсказаний на трех моделей: "
   ]
  },
  {
   "cell_type": "code",
   "execution_count": 27,
   "metadata": {},
   "outputs": [
    {
     "name": "stdout",
     "output_type": "stream",
     "text": [
      "Соотношение классов:\n",
      "0    0.78875\n",
      "1    0.21125\n",
      "dtype: float64\n"
     ]
    },
    {
     "data": {
      "image/png": "[encoded data removed]",
      "text/plain": [
       "<Figure size 720x576 with 1 Axes>"
      ]
     },
     "metadata": {
      "needs_background": "light"
     },
     "output_type": "display_data"
    }
   ],
   "source": [
    "# Анализ частоты классов в результатах предсказаний на решающем дереве\n",
    "model_dtc = DecisionTreeClassifier(random_state=123145)\n",
    "model_dtc.fit(features_train, target_train)\n",
    "predicted_valid = pd.Series(model_dtc.predict(features_valid))\n",
    "class_frequency = predicted_valid.value_counts(normalize=1)\n",
    "print('Соотношение классов:')\n",
    "print(class_frequency)\n",
    "class_frequency.plot(kind='bar', grid=True, figsize=(10,8), title = 'Анализ частоты классов на решающем дереве');"
   ]
  },
  {
   "cell_type": "code",
   "execution_count": 28,
   "metadata": {},
   "outputs": [
    {
     "name": "stdout",
     "output_type": "stream",
     "text": [
      "Соотношение классов:\n",
      "0    0.873125\n",
      "1    0.126875\n",
      "dtype: float64\n"
     ]
    },
    {
     "data": {
      "image/png": "[encoded data removed]",
      "text/plain": [
       "<Figure size 720x576 with 1 Axes>"
      ]
     },
     "metadata": {
      "needs_background": "light"
     },
     "output_type": "display_data"
    }
   ],
   "source": [
    "model_rfc = RandomForestClassifier(random_state=123145, n_estimators=100)\n",
    "model_rfc.fit(features_train, target_train)\n",
    "predicted_valid = pd.Series(model_rfc.predict(features_valid))\n",
    "class_frequency = predicted_valid.value_counts(normalize=1)\n",
    "print('Соотношение классов:')\n",
    "print(class_frequency)\n",
    "class_frequency.plot(kind='bar', grid=True, figsize=(10,8), title = 'Анализ частоты классов на модели случайного леса');"
   ]
  },
  {
   "cell_type": "code",
   "execution_count": 29,
   "metadata": {},
   "outputs": [
    {
     "name": "stdout",
     "output_type": "stream",
     "text": [
      "Соотношение классов:\n",
      "0    0.933125\n",
      "1    0.066875\n",
      "dtype: float64\n"
     ]
    },
    {
     "data": {
      "image/png": "[encoded data removed]",
      "text/plain": [
       "<Figure size 720x576 with 1 Axes>"
      ]
     },
     "metadata": {
      "needs_background": "light"
     },
     "output_type": "display_data"
    }
   ],
   "source": [
    "model_lr = LogisticRegression(solver='lbfgs')\n",
    "model_lr.fit(features_train, target_train)\n",
    "predicted_valid = pd.Series(model_lr.predict(features_valid))\n",
    "class_frequency = predicted_valid.value_counts(normalize=1)\n",
    "print('Соотношение классов:')\n",
    "print(class_frequency)\n",
    "class_frequency.plot(kind='bar', grid=True, figsize=(10,8), title = 'Анализ частоты классов логистической регрессии');"
   ]
  },
  {
   "cell_type": "markdown",
   "metadata": {},
   "source": [
    "**Вывод:** Из всех моделей логистичесая регрессия показала самую высокую точность, но данная модель выдает в большей степени одинаковый результат = 0."
   ]
  },
  {
   "cell_type": "markdown",
   "metadata": {},
   "source": [
    "### Проверка на константной модели"
   ]
  },
  {
   "cell_type": "markdown",
   "metadata": {},
   "source": [
    "Создадим константную модель, которая любому объекту сможет спрогнозировать класс 0."
   ]
  },
  {
   "cell_type": "code",
   "execution_count": 30,
   "metadata": {},
   "outputs": [
    {
     "name": "stdout",
     "output_type": "stream",
     "text": [
      "0.7965625\n"
     ]
    }
   ],
   "source": [
    "target_pred_constant = pd.Series(0, index=target_train.index)\n",
    "print(accuracy_score(target_train, target_pred_constant))"
   ]
  },
  {
   "cell_type": "markdown",
   "metadata": {},
   "source": [
    "**Вывод:** более 80 % константная модель будет прогнозировать любому объекту класс 0."
   ]
  },
  {
   "cell_type": "markdown",
   "metadata": {},
   "source": [
    "### Определение матрицы ошибок разных моделей"
   ]
  },
  {
   "cell_type": "markdown",
   "metadata": {},
   "source": [
    "Определим матрицу ошибок:"
   ]
  },
  {
   "cell_type": "code",
   "execution_count": 31,
   "metadata": {},
   "outputs": [
    {
     "name": "stdout",
     "output_type": "stream",
     "text": [
      "[[1123  172]\n",
      " [ 139  166]]\n"
     ]
    }
   ],
   "source": [
    "# Матрица ошибок дерева решений\n",
    "model_dtc = DecisionTreeClassifier(random_state=123145)\n",
    "model_dtc.fit(features_train, target_train)\n",
    "predicted_valid_dtc = model_dtc.predict(features_valid)\n",
    "\n",
    "print(confusion_matrix(target_valid, predicted_valid_dtc))"
   ]
  },
  {
   "cell_type": "markdown",
   "metadata": {},
   "source": [
    "**Вывод:** Модель дерева решений показывает хорошую долю позитивных (TP=166) и негативных (FN=139) предсказаний, то есть выдает заметно больше качественных предсказаний, но при этом больше всего склоняется к ложно позитивным предсказаниям (FP=172)"
   ]
  },
  {
   "cell_type": "code",
   "execution_count": 32,
   "metadata": {},
   "outputs": [],
   "source": [
    "# Создадим функцию которая будет подсчитывать значения recall_score, precision_score, f1_score\n",
    "def metrics(target_valid, predicted_valid):\n",
    "    print('Полнота:', recall_score(target_valid, predicted_valid))\n",
    "    print('Точность:', precision_score(target_valid, predicted_valid))\n",
    "    print('F1-мера:', f1_score(target_valid, predicted_valid))"
   ]
  },
  {
   "cell_type": "code",
   "execution_count": 33,
   "metadata": {},
   "outputs": [
    {
     "name": "stdout",
     "output_type": "stream",
     "text": [
      "Полнота: 0.5442622950819672\n",
      "Точность: 0.4911242603550296\n",
      "F1-мера: 0.516329704510109\n"
     ]
    }
   ],
   "source": [
    "# Полнота, точность, и F1-мера модели дерева решений\n",
    "metrics(target_valid, predicted_valid_dtc)"
   ]
  },
  {
   "cell_type": "markdown",
   "metadata": {},
   "source": [
    "**Вывод:** Модель дерева решений показала низкие результаты по полноте, точности из-за чего наблюдается низкое значение F1-меры."
   ]
  },
  {
   "cell_type": "code",
   "execution_count": 34,
   "metadata": {},
   "outputs": [
    {
     "name": "stdout",
     "output_type": "stream",
     "text": [
      "[[1239   56]\n",
      " [ 158  147]]\n"
     ]
    }
   ],
   "source": [
    "# Матрица ошибок случайного леса\n",
    "model_rfc = RandomForestClassifier(n_estimators=100, random_state=123145)\n",
    "model_rfc.fit(features_train, target_train)\n",
    "predicted_valid_rfc = model_rfc.predict(features_valid)\n",
    "\n",
    "print(confusion_matrix(target_valid, predicted_valid_rfc))"
   ]
  },
  {
   "cell_type": "markdown",
   "metadata": {},
   "source": [
    "**Вывод:** Модель случайного леса склоняется к ложнонегативным ответам (FN=158), при этом имеет неплохую  долю позитивных ответов (TP=147). Качественные предсказания у этой модели намного ниже, чем у дерева решений. "
   ]
  },
  {
   "cell_type": "code",
   "execution_count": 35,
   "metadata": {},
   "outputs": [
    {
     "name": "stdout",
     "output_type": "stream",
     "text": [
      "Полнота: 0.4819672131147541\n",
      "Точность: 0.7241379310344828\n",
      "F1-мера: 0.5787401574803149\n"
     ]
    }
   ],
   "source": [
    "# Полнота, точность, и F1-мера модели случайного леса\n",
    "metrics(target_valid, predicted_valid_rfc)"
   ]
  },
  {
   "cell_type": "markdown",
   "metadata": {},
   "source": [
    "**Вывод:** Модель случайного леса показала низкие результаты по полноте, но при этом высокие значения в точности из-за чего значение F1-меры имеет неплохие показатели, но все же далеки от идеала."
   ]
  },
  {
   "cell_type": "code",
   "execution_count": 36,
   "metadata": {},
   "outputs": [
    {
     "name": "stdout",
     "output_type": "stream",
     "text": [
      "[[1254   41]\n",
      " [ 239   66]]\n"
     ]
    }
   ],
   "source": [
    "# Матрица ошибок логистической регрессии \n",
    "model_lr = LogisticRegression(solver='lbfgs')\n",
    "model_lr.fit(features_train, target_train)\n",
    "predicted_valid_lr = model_lr.predict(features_valid)\n",
    "\n",
    "print(confusion_matrix(target_valid, predicted_valid_lr))"
   ]
  },
  {
   "cell_type": "markdown",
   "metadata": {},
   "source": [
    "**Вывод:**  Модель случайного леса склоняется к ложнонегативным ответам (FN=239), при этом имеет низкую долю позитивных ответов (TP=66). Качественные предсказания у этой модели самые низкие, чем у дерева решений и модели случайного леса."
   ]
  },
  {
   "cell_type": "code",
   "execution_count": 37,
   "metadata": {},
   "outputs": [
    {
     "name": "stdout",
     "output_type": "stream",
     "text": [
      "Полнота: 0.21639344262295082\n",
      "Точность: 0.616822429906542\n",
      "F1-мера: 0.32038834951456313\n"
     ]
    }
   ],
   "source": [
    "# Полнота, точность, и F1-мера модели логистической регрессии \n",
    "metrics(target_valid, predicted_valid_lr)"
   ]
  },
  {
   "cell_type": "markdown",
   "metadata": {},
   "source": [
    "**Вывод:** Модель логистической регрессии имеет самые низкие результаты по полноте и неплохие значения в точности, но при этом значение F1-меры имеет низкие показатели. Попробуем сбалансировать классы в логистической регрессии."
   ]
  },
  {
   "cell_type": "code",
   "execution_count": 38,
   "metadata": {},
   "outputs": [
    {
     "name": "stdout",
     "output_type": "stream",
     "text": [
      "[[914 381]\n",
      " [ 96 209]]\n"
     ]
    }
   ],
   "source": [
    "model_lr = LogisticRegression(solver='lbfgs', class_weight='balanced')\n",
    "model_lr.fit(features_train, target_train)\n",
    "predicted_valid_lr2 = model_lr.predict(features_valid)\n",
    "\n",
    "print(confusion_matrix(target_valid, predicted_valid_lr2))"
   ]
  },
  {
   "cell_type": "markdown",
   "metadata": {},
   "source": [
    "**Вывод:** Модель логистической регрессии после взвешивания классов стала склоняется к ложнопозитивным ответам (FP=381), при этом улучшилась доля позитивных ответов (с TP=66, до TP=209) и уменьшилась доля ложнонегативных ответов (c FN=239 до FN=96). "
   ]
  },
  {
   "cell_type": "code",
   "execution_count": 39,
   "metadata": {},
   "outputs": [
    {
     "name": "stdout",
     "output_type": "stream",
     "text": [
      "Полнота: 0.6852459016393443\n",
      "Точность: 0.35423728813559324\n",
      "F1-мера: 0.46703910614525146\n"
     ]
    }
   ],
   "source": [
    "# Полнота, точность, и F1-мера модели логистической регрессии \n",
    "metrics(target_valid, predicted_valid_lr2)"
   ]
  },
  {
   "cell_type": "markdown",
   "metadata": {},
   "source": [
    "**Вывод:** После взвешивания классов улучшились покозатели полноты и вполовину упала точность, показатель F1-меры улучшился, но при этом все еще далеки до нужного результата  "
   ]
  },
  {
   "cell_type": "markdown",
   "metadata": {},
   "source": [
    "## Борьба с дисбалансом"
   ]
  },
  {
   "cell_type": "markdown",
   "metadata": {},
   "source": [
    "Так как в начальной выборке соотношение классов 0 ≈ 80% и 1 ≈ 20%, то необходмо увеличить количество наименьших ответов в 4 раза для достижения баланса."
   ]
  },
  {
   "cell_type": "code",
   "execution_count": 40,
   "metadata": {},
   "outputs": [],
   "source": [
    "# Создание функции по увеличения выборки  \n",
    "def upsample(features, target, repeat):\n",
    "    features_zeros = features[target == 0]\n",
    "    features_ones = features[target == 1]\n",
    "    target_zeros = target[target == 0]\n",
    "    target_ones = target[target == 1]\n",
    "\n",
    "    features_upsampled = pd.concat([features_zeros] + [features_ones] * repeat)\n",
    "    target_upsampled = pd.concat([target_zeros] + [target_ones] * repeat)\n",
    "    \n",
    "    features_upsampled, target_upsampled = shuffle(\n",
    "        features_upsampled, target_upsampled, random_state=123145)\n",
    "    \n",
    "    return features_upsampled, target_upsampled\n",
    "\n",
    "features_upsampled, target_upsampled = upsample(features_train, target_train, 4)"
   ]
  },
  {
   "cell_type": "code",
   "execution_count": 71,
   "metadata": {},
   "outputs": [
    {
     "name": "stdout",
     "output_type": "stream",
     "text": [
      "F1-мера дерева решений: 0.4728434504792332\n"
     ]
    }
   ],
   "source": [
    "# Проверка сбалансированной выборки на модели дерева решений\n",
    "model_dtc = DecisionTreeClassifier(random_state=123145, max_depth)\n",
    "model_dtc.fit(features_upsampled, target_upsampled)\n",
    "predicted_valid_dtc = model_dtc.predict(features_valid)\n",
    "print(\"F1-мера дерева решений:\", f1_score(target_valid, predicted_valid_dtc))"
   ]
  },
  {
   "cell_type": "code",
   "execution_count": 72,
   "metadata": {},
   "outputs": [
    {
     "name": "stdout",
     "output_type": "stream",
     "text": [
      "F1-мера случайного леса: 0.6202090592334495\n"
     ]
    }
   ],
   "source": [
    "# Проверка сбалансированной выборки на модели случайного леса\n",
    "model_rfc = RandomForestClassifier(n_estimators=100, random_state=123145)\n",
    "model_rfc.fit(features_upsampled, target_upsampled)\n",
    "predicted_valid_rfc = model_rfc.predict(features_valid)\n",
    "print(\"F1-мера случайного леса:\", f1_score(target_valid, predicted_valid_rfc))"
   ]
  },
  {
   "cell_type": "code",
   "execution_count": 73,
   "metadata": {},
   "outputs": [
    {
     "name": "stdout",
     "output_type": "stream",
     "text": [
      "F1-мера логистической регрессии: 0.46703910614525146\n"
     ]
    }
   ],
   "source": [
    "# Проверка сбалансированной выборки на модели логистической регрессии\n",
    "model_lr = LogisticRegression(solver='lbfgs', random_state=123145, class_weight='balanced')\n",
    "model_lr.fit(features_upsampled, target_upsampled) \n",
    "predicted_valid_lr = model_lr.predict(features_valid)\n",
    "\n",
    "print(\"F1-мера логистической регрессии:\", f1_score(target_valid, predicted_valid_lr))"
   ]
  },
  {
   "cell_type": "markdown",
   "metadata": {},
   "source": [
    "**Вывод:** Лучшее значение F1-меры после увеличения выборки показала модель случайного леса, её и будем использовать на финальном тестирование модели."
   ]
  },
  {
   "cell_type": "markdown",
   "metadata": {},
   "source": [
    "### Улучшение модели"
   ]
  },
  {
   "cell_type": "code",
   "execution_count": 90,
   "metadata": {},
   "outputs": [
    {
     "name": "stdout",
     "output_type": "stream",
     "text": [
      "Fitting 3 folds for each of 8 candidates, totalling 24 fits\n",
      "F1-мера: 0.8182213332628078\n",
      "Оптимальные параметры модели: {'max_depth': 8, 'n_estimators': 20}\n",
      "CPU times: user 2.09 s, sys: 3.96 ms, total: 2.09 s\n",
      "Wall time: 2.1 s\n"
     ]
    }
   ],
   "source": [
    "%%time\n",
    "frst = RandomForestClassifier(class_weight = 'balanced', random_state = 123145) \n",
    "frst_params = {'n_estimators': range(10, 30, 10),\n",
    "               'max_depth': range(2, 10, 2)} \n",
    "gs = GridSearchCV(frst, frst_params, cv=3, scoring='f1', verbose=True).fit(features_upsampled, target_upsampled) \n",
    "print('F1-мера:', gs.best_score_) \n",
    "print('Оптимальные параметры модели:', gs.best_params_)"
   ]
  },
  {
   "cell_type": "code",
   "execution_count": 103,
   "metadata": {},
   "outputs": [
    {
     "name": "stdout",
     "output_type": "stream",
     "text": [
      "F1-мера случайного леса: 0.613728129205922\n"
     ]
    }
   ],
   "source": [
    "# Проверка сбалансированной выборки на модели случайного леса\n",
    "model_rfc = RandomForestClassifier(n_estimators=20, max_depth=8, class_weight = 'balanced', random_state=123145)\n",
    "model_rfc.fit(features_upsampled, target_upsampled)\n",
    "predicted_valid_rfc = model_rfc.predict(features_valid)\n",
    "print(\"F1-мера случайного леса:\", f1_score(target_valid, predicted_valid_rfc))"
   ]
  },
  {
   "cell_type": "code",
   "execution_count": 94,
   "metadata": {},
   "outputs": [
    {
     "name": "stdout",
     "output_type": "stream",
     "text": [
      "Значения accuracy:\n",
      "Дерево решений: 0.79375 cлучайный лес: 0.86375 логистическая регрессия: 0.6975\n"
     ]
    }
   ],
   "source": [
    "# Проверим точность модели на сбалансированной выборке\n",
    "models(features_upsampled, target_upsampled, features_valid, target_valid)"
   ]
  },
  {
   "cell_type": "markdown",
   "metadata": {},
   "source": [
    "**Вывод:** показатели точности снизились у дерева решений (с 0.8 до 0.79) и логистической регрессии( с 0.82 до 0.69), а показатели случайного леса увеличелись (с 0.86625 до 0.86375). "
   ]
  },
  {
   "cell_type": "markdown",
   "metadata": {},
   "source": [
    "### Проверка модели на адекватность "
   ]
  },
  {
   "cell_type": "markdown",
   "metadata": {},
   "source": [
    "Сравним показатели лучшей модели с значениями константантной модели, а также AUC-ROC, так как константная подель содержит только негативные ответы."
   ]
  },
  {
   "cell_type": "code",
   "execution_count": 45,
   "metadata": {},
   "outputs": [],
   "source": [
    "# Создаем константную модель\n",
    "target_pred_constant = pd.Series(0, index=target_valid.index)"
   ]
  },
  {
   "cell_type": "code",
   "execution_count": 46,
   "metadata": {},
   "outputs": [
    {
     "name": "stdout",
     "output_type": "stream",
     "text": [
      "accuracy_score константой модели: 0.809375\n",
      "accuracy_score финальной модели: 0.86375\n",
      "AUC-ROC константой модели: 0.5\n",
      "AUC-ROC финальной модели: 0.7566681435533894\n"
     ]
    }
   ],
   "source": [
    "#Сравним показатель точности (accuracy_score) константной модели и финальной модели\n",
    "print('accuracy_score константой модели:', accuracy_score(target_valid, target_pred_constant))\n",
    "print('accuracy_score финальной модели:', accuracy_score(target_valid, predicted_valid_rfc))\n",
    "\n",
    "# сравним AUC-ROC\n",
    "print('AUC-ROC константой модели:', roc_auc_score(target_valid, target_pred_constant))\n",
    "print('AUC-ROC финальной модели:', roc_auc_score(target_valid, predicted_valid_rfc))"
   ]
  },
  {
   "cell_type": "markdown",
   "metadata": {},
   "source": [
    "**Вывод:** Финальная модель показывает лучше результаты, чем константная модель, поэтому её можно считать адекватной."
   ]
  },
  {
   "cell_type": "markdown",
   "metadata": {},
   "source": [
    "## Тестирование модели"
   ]
  },
  {
   "cell_type": "markdown",
   "metadata": {},
   "source": [
    "Протестируем лучшую модель на тестовой выборке"
   ]
  },
  {
   "cell_type": "code",
   "execution_count": 93,
   "metadata": {},
   "outputs": [
    {
     "name": "stdout",
     "output_type": "stream",
     "text": [
      "Полнота: 0.713953488372093\n",
      "Точность: 0.5531531531531532\n",
      "F1-мера: 0.6233502538071066\n"
     ]
    }
   ],
   "source": [
    "# Тестирование модели случайного леса на тестовой выборке\n",
    "predicted_valid_rfc = model_rfc.predict(features_test)\n",
    "metrics(target_test, predicted_valid_rfc)"
   ]
  },
  {
   "cell_type": "code",
   "execution_count": 48,
   "metadata": {},
   "outputs": [
    {
     "data": {
      "image/png": "[encoded data removed]",
      "text/plain": [
       "<Figure size 720x576 with 1 Axes>"
      ]
     },
     "metadata": {
      "needs_background": "light"
     },
     "output_type": "display_data"
    }
   ],
   "source": [
    "probabilities_test_lr = model_lr.predict_proba(features_test)\n",
    "\n",
    "fpr, tpr, thresholds = roc_curve(target_test, probabilities_test_lr[:, 1]) \n",
    "\n",
    "plt.figure(figsize=(10, 8))\n",
    "plt.plot(fpr, tpr)\n",
    "plt.plot([0, 1], [0, 1], linestyle='--')\n",
    "plt.xlim([0.0, 1.0])\n",
    "plt.ylim([0.0, 1.0])\n",
    "plt.xlabel('False Positive Rate')\n",
    "plt.ylabel('True Positive Rate')\n",
    "plt.title('ROC-кривая')\n",
    "plt.show()"
   ]
  },
  {
   "cell_type": "markdown",
   "metadata": {},
   "source": [
    "**Вывод:** Финальная достигла порога метрики (F1 > 0.59) и показывает адекватные результаты. При этом модель имеет не высокий  показатель полноты = 0.57, зато показатель точности имеет высокое значение= 0.71, модель будет верно предсказывать большую часть ухода клиентов."
   ]
  },
  {
   "cell_type": "raw",
   "metadata": {},
   "source": [
    "frst = RandomForestClassifier(class_weight = 'balanced', random_state = 12345)\n",
    "frst_params = {'max_depth': range(2, 10, 2)}\n",
    "gs = GridSearchCV(frst, frst_params, cv=3, scoring='f1', verbose=True).fit(X_train, y_train) \n",
    "print('f1_frst:', gs.best_score_)\n",
    "#print('Оптимальные параметры модели:', gs.best_params_)"
   ]
  },
  {
   "cell_type": "markdown",
   "metadata": {},
   "source": [
    "## Чек-лист готовности проекта"
   ]
  },
  {
   "cell_type": "markdown",
   "metadata": {},
   "source": [
    "Поставьте 'x' в выполненных пунктах. Далее нажмите Shift+Enter."
   ]
  },
  {
   "cell_type": "markdown",
   "metadata": {},
   "source": [
    "- [x]  Jupyter Notebook открыт\n",
    "- [X]  Весь код выполняется без ошибок\n",
    "- [X]  Ячейки с кодом расположены в порядке исполнения\n",
    "- [X]  Выполнен шаг 1: данные подготовлены\n",
    "- [X]  Выполнен шаг 2: задача исследована\n",
    "    - [X]  Исследован баланс классов\n",
    "    - [X]  Изучены модели без учёта дисбаланса\n",
    "    - [X]  Написаны выводы по результатам исследования\n",
    "- [X]  Выполнен шаг 3: учтён дисбаланс\n",
    "    - [X]  Применено несколько способов борьбы с дисбалансом\n",
    "    - [X]  Написаны выводы по результатам исследования\n",
    "- [X]  Выполнен шаг 4: проведено тестирование\n",
    "- [X]  Удалось достичь *F1*-меры не менее 0.59\n",
    "- [X]  Исследована метрика *AUC-ROC*"
   ]
  },
  {
   "cell_type": "code",
   "execution_count": null,
   "metadata": {},
   "outputs": [],
   "source": []
  }
 ],
 "metadata": {
  "ExecuteTimeLog": [
   {
    "duration": 62,
    "start_time": "2022-12-06T06:45:41.413Z"
   },
   {
    "duration": 1465,
    "start_time": "2022-12-06T06:46:27.950Z"
   },
   {
    "duration": 9,
    "start_time": "2022-12-06T06:50:31.328Z"
   },
   {
    "duration": 53,
    "start_time": "2022-12-07T05:59:55.515Z"
   },
   {
    "duration": 1731,
    "start_time": "2022-12-07T06:00:00.695Z"
   },
   {
    "duration": 171,
    "start_time": "2022-12-07T06:00:04.418Z"
   },
   {
    "duration": 40,
    "start_time": "2022-12-07T06:00:19.937Z"
   },
   {
    "duration": 51,
    "start_time": "2022-12-07T06:02:04.566Z"
   },
   {
    "duration": 55,
    "start_time": "2022-12-07T06:09:06.995Z"
   },
   {
    "duration": 96,
    "start_time": "2022-12-07T06:09:23.008Z"
   },
   {
    "duration": 27,
    "start_time": "2022-12-07T06:17:39.595Z"
   },
   {
    "duration": 8,
    "start_time": "2022-12-07T06:17:57.035Z"
   },
   {
    "duration": 13,
    "start_time": "2022-12-07T06:22:53.478Z"
   },
   {
    "duration": 93,
    "start_time": "2022-12-07T07:14:59.914Z"
   },
   {
    "duration": 15,
    "start_time": "2022-12-07T07:15:07.792Z"
   },
   {
    "duration": 13,
    "start_time": "2022-12-07T07:15:11.863Z"
   },
   {
    "duration": 15,
    "start_time": "2022-12-07T07:15:17.077Z"
   },
   {
    "duration": 2,
    "start_time": "2022-12-07T07:42:58.904Z"
   },
   {
    "duration": 6,
    "start_time": "2022-12-07T07:48:00.392Z"
   },
   {
    "duration": 8,
    "start_time": "2022-12-07T07:49:54.393Z"
   },
   {
    "duration": 9,
    "start_time": "2022-12-07T07:51:24.507Z"
   },
   {
    "duration": 11,
    "start_time": "2022-12-07T08:10:54.782Z"
   },
   {
    "duration": 11,
    "start_time": "2022-12-07T08:12:04.271Z"
   },
   {
    "duration": 28,
    "start_time": "2022-12-07T08:14:10.559Z"
   },
   {
    "duration": 6,
    "start_time": "2022-12-07T08:15:47.469Z"
   },
   {
    "duration": 6,
    "start_time": "2022-12-07T08:17:46.613Z"
   },
   {
    "duration": 5,
    "start_time": "2022-12-07T08:18:04.733Z"
   },
   {
    "duration": 45,
    "start_time": "2022-12-08T07:04:07.739Z"
   },
   {
    "duration": 6,
    "start_time": "2022-12-08T07:05:00.862Z"
   },
   {
    "duration": 1473,
    "start_time": "2022-12-08T07:05:20.328Z"
   },
   {
    "duration": 153,
    "start_time": "2022-12-08T07:05:21.803Z"
   },
   {
    "duration": 9,
    "start_time": "2022-12-08T07:05:21.958Z"
   },
   {
    "duration": 30,
    "start_time": "2022-12-08T07:05:21.969Z"
   },
   {
    "duration": 13,
    "start_time": "2022-12-08T07:05:22.000Z"
   },
   {
    "duration": 102,
    "start_time": "2022-12-08T07:05:28.427Z"
   },
   {
    "duration": 5,
    "start_time": "2022-12-08T07:36:26.317Z"
   },
   {
    "duration": 4,
    "start_time": "2022-12-08T07:36:33.990Z"
   },
   {
    "duration": 5,
    "start_time": "2022-12-08T07:38:07.140Z"
   },
   {
    "duration": 4,
    "start_time": "2022-12-08T07:59:37.092Z"
   },
   {
    "duration": 5,
    "start_time": "2022-12-08T08:00:16.270Z"
   },
   {
    "duration": 7,
    "start_time": "2022-12-08T08:00:56.376Z"
   },
   {
    "duration": 9,
    "start_time": "2022-12-08T08:01:21.745Z"
   },
   {
    "duration": 8,
    "start_time": "2022-12-08T08:01:27.406Z"
   },
   {
    "duration": 8,
    "start_time": "2022-12-08T08:02:10.867Z"
   },
   {
    "duration": 8,
    "start_time": "2022-12-08T08:03:46.505Z"
   },
   {
    "duration": 11,
    "start_time": "2022-12-08T08:04:19.944Z"
   },
   {
    "duration": 10,
    "start_time": "2022-12-08T08:04:52.992Z"
   },
   {
    "duration": 9,
    "start_time": "2022-12-08T08:30:58.418Z"
   },
   {
    "duration": 9,
    "start_time": "2022-12-08T08:31:02.533Z"
   },
   {
    "duration": 9,
    "start_time": "2022-12-08T08:31:15.165Z"
   },
   {
    "duration": 11,
    "start_time": "2022-12-08T08:36:43.647Z"
   },
   {
    "duration": 55,
    "start_time": "2022-12-08T18:23:00.997Z"
   },
   {
    "duration": 1619,
    "start_time": "2022-12-08T18:23:04.955Z"
   },
   {
    "duration": 262,
    "start_time": "2022-12-08T18:23:06.576Z"
   },
   {
    "duration": 7,
    "start_time": "2022-12-08T18:23:06.840Z"
   },
   {
    "duration": 13,
    "start_time": "2022-12-08T18:23:06.849Z"
   },
   {
    "duration": 1347,
    "start_time": "2022-12-08T18:23:08.810Z"
   },
   {
    "duration": 11,
    "start_time": "2022-12-08T18:23:27.453Z"
   },
   {
    "duration": 44,
    "start_time": "2022-12-09T06:43:22.463Z"
   },
   {
    "duration": 1457,
    "start_time": "2022-12-09T06:43:26.925Z"
   },
   {
    "duration": 144,
    "start_time": "2022-12-09T06:43:28.384Z"
   },
   {
    "duration": 6,
    "start_time": "2022-12-09T06:43:28.529Z"
   },
   {
    "duration": 27,
    "start_time": "2022-12-09T06:43:28.537Z"
   },
   {
    "duration": 8,
    "start_time": "2022-12-09T06:43:28.566Z"
   },
   {
    "duration": 76,
    "start_time": "2022-12-09T06:43:32.697Z"
   },
   {
    "duration": 4,
    "start_time": "2022-12-09T06:43:42.944Z"
   },
   {
    "duration": 9,
    "start_time": "2022-12-09T06:44:27.099Z"
   },
   {
    "duration": 9,
    "start_time": "2022-12-09T06:44:37.073Z"
   },
   {
    "duration": 4,
    "start_time": "2022-12-09T06:49:32.522Z"
   },
   {
    "duration": 8,
    "start_time": "2022-12-09T06:49:56.979Z"
   },
   {
    "duration": 20,
    "start_time": "2022-12-09T06:58:20.009Z"
   },
   {
    "duration": 13,
    "start_time": "2022-12-09T07:00:05.145Z"
   },
   {
    "duration": 13,
    "start_time": "2022-12-09T07:00:20.323Z"
   },
   {
    "duration": 12,
    "start_time": "2022-12-09T07:00:52.041Z"
   },
   {
    "duration": 15,
    "start_time": "2022-12-09T07:01:21.790Z"
   },
   {
    "duration": 72,
    "start_time": "2022-12-09T07:01:36.838Z"
   },
   {
    "duration": 13,
    "start_time": "2022-12-09T07:01:42.081Z"
   },
   {
    "duration": 4,
    "start_time": "2022-12-09T07:03:01.087Z"
   },
   {
    "duration": 124,
    "start_time": "2022-12-09T07:03:01.092Z"
   },
   {
    "duration": 6,
    "start_time": "2022-12-09T07:03:01.218Z"
   },
   {
    "duration": 24,
    "start_time": "2022-12-09T07:03:01.226Z"
   },
   {
    "duration": 11,
    "start_time": "2022-12-09T07:03:01.252Z"
   },
   {
    "duration": 14,
    "start_time": "2022-12-09T07:03:01.264Z"
   },
   {
    "duration": 4,
    "start_time": "2022-12-09T07:03:06.718Z"
   },
   {
    "duration": 10,
    "start_time": "2022-12-09T07:03:16.710Z"
   },
   {
    "duration": 4,
    "start_time": "2022-12-09T07:04:57.992Z"
   },
   {
    "duration": 18,
    "start_time": "2022-12-09T07:05:31.447Z"
   },
   {
    "duration": 8,
    "start_time": "2022-12-09T07:13:52.211Z"
   },
   {
    "duration": 12,
    "start_time": "2022-12-09T07:48:42.614Z"
   },
   {
    "duration": 9,
    "start_time": "2022-12-09T07:49:47.071Z"
   },
   {
    "duration": 13,
    "start_time": "2022-12-09T07:50:49.067Z"
   },
   {
    "duration": 11,
    "start_time": "2022-12-09T07:51:58.201Z"
   },
   {
    "duration": 12,
    "start_time": "2022-12-09T07:53:26.024Z"
   },
   {
    "duration": 30,
    "start_time": "2022-12-09T07:58:59.004Z"
   },
   {
    "duration": 16,
    "start_time": "2022-12-09T08:01:04.496Z"
   },
   {
    "duration": 14,
    "start_time": "2022-12-09T08:01:39.643Z"
   },
   {
    "duration": 20,
    "start_time": "2022-12-09T08:01:45.779Z"
   },
   {
    "duration": 197,
    "start_time": "2022-12-09T08:37:08.804Z"
   },
   {
    "duration": 84,
    "start_time": "2022-12-09T08:37:15.324Z"
   },
   {
    "duration": 60,
    "start_time": "2022-12-09T08:37:24.756Z"
   },
   {
    "duration": 4,
    "start_time": "2022-12-09T08:38:46.223Z"
   },
   {
    "duration": 116,
    "start_time": "2022-12-09T08:38:46.229Z"
   },
   {
    "duration": 7,
    "start_time": "2022-12-09T08:38:46.347Z"
   },
   {
    "duration": 17,
    "start_time": "2022-12-09T08:38:46.356Z"
   },
   {
    "duration": 28,
    "start_time": "2022-12-09T08:38:46.377Z"
   },
   {
    "duration": 13,
    "start_time": "2022-12-09T08:38:46.406Z"
   },
   {
    "duration": 48,
    "start_time": "2022-12-09T08:39:05.548Z"
   },
   {
    "duration": 20,
    "start_time": "2022-12-09T08:39:15.849Z"
   },
   {
    "duration": 23,
    "start_time": "2022-12-09T08:40:10.103Z"
   },
   {
    "duration": 14,
    "start_time": "2022-12-09T09:05:21.088Z"
   },
   {
    "duration": 13,
    "start_time": "2022-12-09T09:08:12.889Z"
   },
   {
    "duration": 580,
    "start_time": "2022-12-09T09:08:17.928Z"
   },
   {
    "duration": 596,
    "start_time": "2022-12-09T09:16:10.209Z"
   },
   {
    "duration": 53,
    "start_time": "2022-12-09T13:48:55.401Z"
   },
   {
    "duration": 1564,
    "start_time": "2022-12-09T13:50:02.486Z"
   },
   {
    "duration": 154,
    "start_time": "2022-12-09T13:50:04.052Z"
   },
   {
    "duration": 7,
    "start_time": "2022-12-09T13:50:04.208Z"
   },
   {
    "duration": 29,
    "start_time": "2022-12-09T13:50:04.216Z"
   },
   {
    "duration": 11,
    "start_time": "2022-12-09T13:50:04.247Z"
   },
   {
    "duration": 25,
    "start_time": "2022-12-09T13:50:04.259Z"
   },
   {
    "duration": 30,
    "start_time": "2022-12-09T13:50:04.286Z"
   },
   {
    "duration": 166,
    "start_time": "2022-12-09T13:50:15.129Z"
   },
   {
    "duration": 151,
    "start_time": "2022-12-09T13:52:24.050Z"
   },
   {
    "duration": 153,
    "start_time": "2022-12-09T13:52:36.075Z"
   },
   {
    "duration": 115,
    "start_time": "2022-12-09T13:53:02.399Z"
   },
   {
    "duration": 235,
    "start_time": "2022-12-09T13:53:58.816Z"
   },
   {
    "duration": 1106,
    "start_time": "2022-12-09T13:54:16.409Z"
   },
   {
    "duration": 127,
    "start_time": "2022-12-09T13:54:23.111Z"
   },
   {
    "duration": 130,
    "start_time": "2022-12-09T13:54:46.690Z"
   },
   {
    "duration": 127,
    "start_time": "2022-12-09T13:56:37.485Z"
   },
   {
    "duration": 145,
    "start_time": "2022-12-09T13:56:58.088Z"
   },
   {
    "duration": 137,
    "start_time": "2022-12-09T13:57:41.995Z"
   },
   {
    "duration": 138,
    "start_time": "2022-12-09T14:06:27.567Z"
   },
   {
    "duration": 4,
    "start_time": "2022-12-09T14:09:03.080Z"
   },
   {
    "duration": 136,
    "start_time": "2022-12-09T14:09:07.699Z"
   },
   {
    "duration": 81,
    "start_time": "2022-12-09T14:12:27.601Z"
   },
   {
    "duration": 130,
    "start_time": "2022-12-09T14:12:33.379Z"
   },
   {
    "duration": 136,
    "start_time": "2022-12-09T14:13:25.090Z"
   },
   {
    "duration": 136,
    "start_time": "2022-12-09T14:14:00.441Z"
   },
   {
    "duration": 130,
    "start_time": "2022-12-09T14:14:12.320Z"
   },
   {
    "duration": 5,
    "start_time": "2022-12-09T14:38:48.347Z"
   },
   {
    "duration": 108,
    "start_time": "2022-12-09T14:38:48.354Z"
   },
   {
    "duration": 7,
    "start_time": "2022-12-09T14:38:48.463Z"
   },
   {
    "duration": 14,
    "start_time": "2022-12-09T14:38:48.472Z"
   },
   {
    "duration": 27,
    "start_time": "2022-12-09T14:38:48.488Z"
   },
   {
    "duration": 12,
    "start_time": "2022-12-09T14:38:48.516Z"
   },
   {
    "duration": 26,
    "start_time": "2022-12-09T14:38:48.529Z"
   },
   {
    "duration": 146,
    "start_time": "2022-12-09T14:38:48.556Z"
   },
   {
    "duration": 4,
    "start_time": "2022-12-09T15:50:50.189Z"
   },
   {
    "duration": 5,
    "start_time": "2022-12-09T15:50:56.948Z"
   },
   {
    "duration": 4,
    "start_time": "2022-12-09T15:51:34.071Z"
   },
   {
    "duration": 5,
    "start_time": "2022-12-09T15:53:41.961Z"
   },
   {
    "duration": 4,
    "start_time": "2022-12-09T15:54:37.553Z"
   },
   {
    "duration": 5,
    "start_time": "2022-12-09T15:54:37.706Z"
   },
   {
    "duration": 4,
    "start_time": "2022-12-09T15:54:38.662Z"
   },
   {
    "duration": 11,
    "start_time": "2022-12-09T15:57:06.786Z"
   },
   {
    "duration": 11,
    "start_time": "2022-12-09T15:57:27.636Z"
   },
   {
    "duration": 6,
    "start_time": "2022-12-09T15:58:58.255Z"
   },
   {
    "duration": 4,
    "start_time": "2022-12-09T15:59:22.458Z"
   },
   {
    "duration": 9,
    "start_time": "2022-12-09T15:59:27.863Z"
   },
   {
    "duration": 4,
    "start_time": "2022-12-09T15:59:32.766Z"
   },
   {
    "duration": 112,
    "start_time": "2022-12-09T15:59:32.772Z"
   },
   {
    "duration": 8,
    "start_time": "2022-12-09T15:59:32.886Z"
   },
   {
    "duration": 23,
    "start_time": "2022-12-09T15:59:32.896Z"
   },
   {
    "duration": 10,
    "start_time": "2022-12-09T15:59:32.920Z"
   },
   {
    "duration": 10,
    "start_time": "2022-12-09T15:59:32.932Z"
   },
   {
    "duration": 21,
    "start_time": "2022-12-09T15:59:32.944Z"
   },
   {
    "duration": 185,
    "start_time": "2022-12-09T15:59:32.966Z"
   },
   {
    "duration": 17,
    "start_time": "2022-12-09T15:59:33.153Z"
   },
   {
    "duration": 14,
    "start_time": "2022-12-09T15:59:33.172Z"
   },
   {
    "duration": 531,
    "start_time": "2022-12-09T15:59:33.187Z"
   },
   {
    "duration": 97,
    "start_time": "2022-12-09T15:59:33.720Z"
   },
   {
    "duration": 910,
    "start_time": "2022-12-09T15:59:36.103Z"
   },
   {
    "duration": 6,
    "start_time": "2022-12-09T16:04:42.569Z"
   },
   {
    "duration": 847,
    "start_time": "2022-12-09T16:04:46.170Z"
   },
   {
    "duration": 321,
    "start_time": "2022-12-09T16:04:56.094Z"
   },
   {
    "duration": 5,
    "start_time": "2022-12-09T16:05:12.549Z"
   },
   {
    "duration": 1260,
    "start_time": "2022-12-09T16:05:16.861Z"
   },
   {
    "duration": 4,
    "start_time": "2022-12-09T16:08:08.178Z"
   },
   {
    "duration": 1217,
    "start_time": "2022-12-09T16:08:10.704Z"
   },
   {
    "duration": 4,
    "start_time": "2022-12-09T16:08:18.519Z"
   },
   {
    "duration": 4,
    "start_time": "2022-12-09T16:08:32.321Z"
   },
   {
    "duration": 1298,
    "start_time": "2022-12-09T16:08:35.820Z"
   },
   {
    "duration": 5,
    "start_time": "2022-12-09T16:08:42.372Z"
   },
   {
    "duration": 5,
    "start_time": "2022-12-09T16:08:45.410Z"
   },
   {
    "duration": 5,
    "start_time": "2022-12-09T16:09:40.481Z"
   },
   {
    "duration": 1210,
    "start_time": "2022-12-09T16:09:43.009Z"
   },
   {
    "duration": 5,
    "start_time": "2022-12-09T16:10:11.697Z"
   },
   {
    "duration": 1175,
    "start_time": "2022-12-09T16:10:14.345Z"
   },
   {
    "duration": 5,
    "start_time": "2022-12-09T16:10:52.987Z"
   },
   {
    "duration": 1208,
    "start_time": "2022-12-09T16:10:55.611Z"
   },
   {
    "duration": 4,
    "start_time": "2022-12-09T16:25:42.279Z"
   },
   {
    "duration": 1279,
    "start_time": "2022-12-09T16:25:44.835Z"
   },
   {
    "duration": 58,
    "start_time": "2022-12-10T06:30:48.799Z"
   },
   {
    "duration": 1509,
    "start_time": "2022-12-10T06:30:55.014Z"
   },
   {
    "duration": 215,
    "start_time": "2022-12-10T06:30:56.525Z"
   },
   {
    "duration": 7,
    "start_time": "2022-12-10T06:30:56.742Z"
   },
   {
    "duration": 14,
    "start_time": "2022-12-10T06:30:56.750Z"
   },
   {
    "duration": 15,
    "start_time": "2022-12-10T06:30:56.766Z"
   },
   {
    "duration": 13,
    "start_time": "2022-12-10T06:30:56.783Z"
   },
   {
    "duration": 21,
    "start_time": "2022-12-10T06:30:56.797Z"
   },
   {
    "duration": 14,
    "start_time": "2022-12-10T06:30:56.820Z"
   },
   {
    "duration": 43,
    "start_time": "2022-12-10T06:30:56.836Z"
   },
   {
    "duration": 28,
    "start_time": "2022-12-10T06:30:59.170Z"
   },
   {
    "duration": 35,
    "start_time": "2022-12-10T06:32:23.528Z"
   },
   {
    "duration": 13,
    "start_time": "2022-12-10T07:20:00.459Z"
   },
   {
    "duration": 4,
    "start_time": "2022-12-10T07:20:06.469Z"
   },
   {
    "duration": 128,
    "start_time": "2022-12-10T07:20:06.475Z"
   },
   {
    "duration": 9,
    "start_time": "2022-12-10T07:20:06.605Z"
   },
   {
    "duration": 14,
    "start_time": "2022-12-10T07:20:06.616Z"
   },
   {
    "duration": 8,
    "start_time": "2022-12-10T07:20:06.632Z"
   },
   {
    "duration": 11,
    "start_time": "2022-12-10T07:20:06.642Z"
   },
   {
    "duration": 43,
    "start_time": "2022-12-10T07:20:06.655Z"
   },
   {
    "duration": 17,
    "start_time": "2022-12-10T07:20:12.667Z"
   },
   {
    "duration": 19,
    "start_time": "2022-12-10T07:20:15.700Z"
   },
   {
    "duration": 30,
    "start_time": "2022-12-10T07:20:19.989Z"
   },
   {
    "duration": 30,
    "start_time": "2022-12-10T07:22:14.822Z"
   },
   {
    "duration": 149,
    "start_time": "2022-12-10T08:50:42.339Z"
   },
   {
    "duration": 148,
    "start_time": "2022-12-10T08:50:46.370Z"
   },
   {
    "duration": 152,
    "start_time": "2022-12-10T08:50:55.705Z"
   },
   {
    "duration": 128,
    "start_time": "2022-12-10T08:51:40.387Z"
   },
   {
    "duration": 74,
    "start_time": "2022-12-10T09:11:53.918Z"
   },
   {
    "duration": 845,
    "start_time": "2022-12-10T09:12:08.112Z"
   },
   {
    "duration": 183,
    "start_time": "2022-12-10T09:12:13.912Z"
   },
   {
    "duration": 787,
    "start_time": "2022-12-10T09:12:36.895Z"
   },
   {
    "duration": 130,
    "start_time": "2022-12-10T09:12:41.096Z"
   },
   {
    "duration": 251,
    "start_time": "2022-12-10T09:14:21.792Z"
   },
   {
    "duration": 284,
    "start_time": "2022-12-10T09:15:08.896Z"
   },
   {
    "duration": 817,
    "start_time": "2022-12-10T09:15:13.054Z"
   },
   {
    "duration": 160,
    "start_time": "2022-12-10T09:15:15.451Z"
   },
   {
    "duration": 919,
    "start_time": "2022-12-10T09:16:03.421Z"
   },
   {
    "duration": 633,
    "start_time": "2022-12-10T09:16:25.196Z"
   },
   {
    "duration": 169,
    "start_time": "2022-12-10T09:18:13.459Z"
   },
   {
    "duration": 159,
    "start_time": "2022-12-10T09:18:56.547Z"
   },
   {
    "duration": 176,
    "start_time": "2022-12-10T09:19:01.715Z"
   },
   {
    "duration": 908,
    "start_time": "2022-12-10T10:33:40.714Z"
   },
   {
    "duration": 316,
    "start_time": "2022-12-10T10:34:47.463Z"
   },
   {
    "duration": 368,
    "start_time": "2022-12-10T10:35:05.589Z"
   },
   {
    "duration": 78,
    "start_time": "2022-12-10T10:52:06.188Z"
   },
   {
    "duration": 365,
    "start_time": "2022-12-10T10:57:53.730Z"
   },
   {
    "duration": 73,
    "start_time": "2022-12-10T12:43:27.084Z"
   },
   {
    "duration": 10,
    "start_time": "2022-12-10T12:44:11.150Z"
   },
   {
    "duration": 12,
    "start_time": "2022-12-10T12:44:21.561Z"
   },
   {
    "duration": 6,
    "start_time": "2022-12-10T12:44:39.764Z"
   },
   {
    "duration": 13,
    "start_time": "2022-12-10T13:53:04.830Z"
   },
   {
    "duration": 14,
    "start_time": "2022-12-10T13:53:06.139Z"
   },
   {
    "duration": 14,
    "start_time": "2022-12-10T13:53:07.114Z"
   },
   {
    "duration": 5,
    "start_time": "2022-12-10T13:53:18.540Z"
   },
   {
    "duration": 7,
    "start_time": "2022-12-10T14:01:30.515Z"
   },
   {
    "duration": 71,
    "start_time": "2022-12-10T14:25:03.437Z"
   },
   {
    "duration": 72,
    "start_time": "2022-12-10T14:28:26.147Z"
   },
   {
    "duration": 67,
    "start_time": "2022-12-10T14:32:58.568Z"
   },
   {
    "duration": 37,
    "start_time": "2022-12-10T14:33:11.647Z"
   },
   {
    "duration": 69,
    "start_time": "2022-12-10T14:34:07.914Z"
   },
   {
    "duration": 4,
    "start_time": "2022-12-10T14:34:18.873Z"
   },
   {
    "duration": 33,
    "start_time": "2022-12-10T14:34:29.820Z"
   },
   {
    "duration": 9,
    "start_time": "2022-12-11T06:32:33.820Z"
   },
   {
    "duration": 1535,
    "start_time": "2022-12-11T06:32:39.858Z"
   },
   {
    "duration": 148,
    "start_time": "2022-12-11T06:32:41.396Z"
   },
   {
    "duration": 8,
    "start_time": "2022-12-11T06:32:41.546Z"
   },
   {
    "duration": 15,
    "start_time": "2022-12-11T06:32:41.556Z"
   },
   {
    "duration": 9,
    "start_time": "2022-12-11T06:32:41.574Z"
   },
   {
    "duration": 37,
    "start_time": "2022-12-11T06:32:41.585Z"
   },
   {
    "duration": 19,
    "start_time": "2022-12-11T06:32:41.624Z"
   },
   {
    "duration": 17,
    "start_time": "2022-12-11T06:32:41.645Z"
   },
   {
    "duration": 17,
    "start_time": "2022-12-11T06:32:41.664Z"
   },
   {
    "duration": 32,
    "start_time": "2022-12-11T06:32:41.715Z"
   },
   {
    "duration": 5,
    "start_time": "2022-12-11T06:32:41.748Z"
   },
   {
    "duration": 977,
    "start_time": "2022-12-11T06:32:41.755Z"
   },
   {
    "duration": 245,
    "start_time": "2022-12-11T06:32:42.817Z"
   },
   {
    "duration": 170,
    "start_time": "2022-12-11T06:32:43.065Z"
   },
   {
    "duration": 987,
    "start_time": "2022-12-11T06:32:43.236Z"
   },
   {
    "duration": 1432,
    "start_time": "2022-12-11T06:32:44.224Z"
   },
   {
    "duration": 7,
    "start_time": "2022-12-11T06:32:45.659Z"
   },
   {
    "duration": 66,
    "start_time": "2022-12-11T06:32:45.668Z"
   },
   {
    "duration": 4,
    "start_time": "2022-12-11T06:32:49.832Z"
   },
   {
    "duration": 139,
    "start_time": "2022-12-11T06:33:42.340Z"
   },
   {
    "duration": 5,
    "start_time": "2022-12-11T06:34:17.231Z"
   },
   {
    "duration": 18,
    "start_time": "2022-12-11T06:34:20.764Z"
   },
   {
    "duration": 5,
    "start_time": "2022-12-11T06:34:33.338Z"
   },
   {
    "duration": 15,
    "start_time": "2022-12-11T06:34:36.889Z"
   },
   {
    "duration": 8,
    "start_time": "2022-12-11T06:37:12.334Z"
   },
   {
    "duration": 9,
    "start_time": "2022-12-11T06:37:42.079Z"
   },
   {
    "duration": 37,
    "start_time": "2022-12-11T06:38:48.898Z"
   },
   {
    "duration": 11,
    "start_time": "2022-12-11T06:38:53.046Z"
   },
   {
    "duration": 5,
    "start_time": "2022-12-11T06:56:08.177Z"
   },
   {
    "duration": 8,
    "start_time": "2022-12-11T06:56:10.397Z"
   },
   {
    "duration": 46,
    "start_time": "2022-12-11T06:56:44.976Z"
   },
   {
    "duration": 11,
    "start_time": "2022-12-11T07:25:03.828Z"
   },
   {
    "duration": 797,
    "start_time": "2022-12-11T07:25:14.975Z"
   },
   {
    "duration": 10,
    "start_time": "2022-12-11T07:37:24.471Z"
   },
   {
    "duration": 373,
    "start_time": "2022-12-11T07:38:09.955Z"
   },
   {
    "duration": 425,
    "start_time": "2022-12-11T07:38:23.704Z"
   },
   {
    "duration": 6,
    "start_time": "2022-12-11T07:40:58.169Z"
   },
   {
    "duration": 1145,
    "start_time": "2022-12-11T07:41:00.876Z"
   },
   {
    "duration": 4,
    "start_time": "2022-12-11T07:41:19.735Z"
   },
   {
    "duration": 1268,
    "start_time": "2022-12-11T07:41:23.049Z"
   },
   {
    "duration": 4,
    "start_time": "2022-12-11T07:42:08.334Z"
   },
   {
    "duration": 11,
    "start_time": "2022-12-11T07:43:17.776Z"
   },
   {
    "duration": 8,
    "start_time": "2022-12-11T08:35:00.671Z"
   },
   {
    "duration": 9,
    "start_time": "2022-12-11T09:01:43.358Z"
   },
   {
    "duration": 9,
    "start_time": "2022-12-11T09:02:12.776Z"
   },
   {
    "duration": 121,
    "start_time": "2022-12-11T11:59:19.903Z"
   },
   {
    "duration": 358,
    "start_time": "2022-12-11T12:10:31.758Z"
   },
   {
    "duration": 246,
    "start_time": "2022-12-11T12:10:37.871Z"
   },
   {
    "duration": 46,
    "start_time": "2022-12-11T12:10:39.879Z"
   },
   {
    "duration": 5,
    "start_time": "2022-12-11T12:10:47.512Z"
   },
   {
    "duration": 104,
    "start_time": "2022-12-11T12:10:47.528Z"
   },
   {
    "duration": 8,
    "start_time": "2022-12-11T12:10:47.634Z"
   },
   {
    "duration": 12,
    "start_time": "2022-12-11T12:10:47.643Z"
   },
   {
    "duration": 8,
    "start_time": "2022-12-11T12:10:47.656Z"
   },
   {
    "duration": 9,
    "start_time": "2022-12-11T12:10:47.667Z"
   },
   {
    "duration": 52,
    "start_time": "2022-12-11T12:10:47.678Z"
   },
   {
    "duration": 18,
    "start_time": "2022-12-11T12:10:47.731Z"
   },
   {
    "duration": 14,
    "start_time": "2022-12-11T12:10:47.751Z"
   },
   {
    "duration": 71,
    "start_time": "2022-12-11T12:10:47.767Z"
   },
   {
    "duration": 6,
    "start_time": "2022-12-11T12:10:47.840Z"
   },
   {
    "duration": 972,
    "start_time": "2022-12-11T12:10:47.848Z"
   },
   {
    "duration": 227,
    "start_time": "2022-12-11T12:10:48.823Z"
   },
   {
    "duration": 194,
    "start_time": "2022-12-11T12:10:49.052Z"
   },
   {
    "duration": 861,
    "start_time": "2022-12-11T12:10:49.250Z"
   },
   {
    "duration": 400,
    "start_time": "2022-12-11T12:10:50.115Z"
   },
   {
    "duration": 5,
    "start_time": "2022-12-11T12:10:50.517Z"
   },
   {
    "duration": 37,
    "start_time": "2022-12-11T12:10:50.523Z"
   },
   {
    "duration": 3,
    "start_time": "2022-12-11T12:10:50.562Z"
   },
   {
    "duration": 15,
    "start_time": "2022-12-11T12:10:50.567Z"
   },
   {
    "duration": 747,
    "start_time": "2022-12-11T12:10:50.584Z"
   },
   {
    "duration": 10,
    "start_time": "2022-12-11T12:10:51.333Z"
   },
   {
    "duration": 383,
    "start_time": "2022-12-11T12:10:51.344Z"
   },
   {
    "duration": 96,
    "start_time": "2022-12-11T12:10:51.729Z"
   },
   {
    "duration": 390,
    "start_time": "2022-12-11T12:10:58.229Z"
   },
   {
    "duration": 9,
    "start_time": "2022-12-11T12:11:01.104Z"
   },
   {
    "duration": 5,
    "start_time": "2022-12-11T14:07:41.865Z"
   },
   {
    "duration": 14,
    "start_time": "2022-12-11T14:28:49.390Z"
   },
   {
    "duration": 6,
    "start_time": "2022-12-11T14:28:52.079Z"
   },
   {
    "duration": 76,
    "start_time": "2022-12-11T14:31:46.654Z"
   },
   {
    "duration": 46,
    "start_time": "2022-12-11T14:32:01.182Z"
   },
   {
    "duration": 249,
    "start_time": "2022-12-11T14:33:19.668Z"
   },
   {
    "duration": 232,
    "start_time": "2022-12-11T14:45:31.384Z"
   },
   {
    "duration": 164,
    "start_time": "2022-12-11T14:54:07.073Z"
   },
   {
    "duration": 11,
    "start_time": "2022-12-11T14:54:21.745Z"
   },
   {
    "duration": 12,
    "start_time": "2022-12-11T14:55:18.356Z"
   },
   {
    "duration": 388,
    "start_time": "2022-12-11T14:55:20.237Z"
   },
   {
    "duration": 12,
    "start_time": "2022-12-11T14:55:26.483Z"
   },
   {
    "duration": 718,
    "start_time": "2022-12-11T14:55:28.800Z"
   },
   {
    "duration": 4,
    "start_time": "2022-12-11T14:55:34.372Z"
   },
   {
    "duration": 101,
    "start_time": "2022-12-11T14:55:34.377Z"
   },
   {
    "duration": 6,
    "start_time": "2022-12-11T14:55:34.479Z"
   },
   {
    "duration": 14,
    "start_time": "2022-12-11T14:55:34.487Z"
   },
   {
    "duration": 17,
    "start_time": "2022-12-11T14:55:34.503Z"
   },
   {
    "duration": 20,
    "start_time": "2022-12-11T14:55:34.521Z"
   },
   {
    "duration": 18,
    "start_time": "2022-12-11T14:55:34.542Z"
   },
   {
    "duration": 16,
    "start_time": "2022-12-11T14:55:34.562Z"
   },
   {
    "duration": 35,
    "start_time": "2022-12-11T14:55:34.580Z"
   },
   {
    "duration": 34,
    "start_time": "2022-12-11T14:55:34.618Z"
   },
   {
    "duration": 4,
    "start_time": "2022-12-11T14:55:34.655Z"
   },
   {
    "duration": 974,
    "start_time": "2022-12-11T14:55:34.660Z"
   },
   {
    "duration": 232,
    "start_time": "2022-12-11T14:55:35.716Z"
   },
   {
    "duration": 179,
    "start_time": "2022-12-11T14:55:35.950Z"
   },
   {
    "duration": 871,
    "start_time": "2022-12-11T14:55:36.131Z"
   },
   {
    "duration": 605,
    "start_time": "2022-12-11T14:55:37.004Z"
   },
   {
    "duration": 6,
    "start_time": "2022-12-11T14:55:37.616Z"
   },
   {
    "duration": 45,
    "start_time": "2022-12-11T14:55:37.624Z"
   },
   {
    "duration": 3,
    "start_time": "2022-12-11T14:55:37.671Z"
   },
   {
    "duration": 13,
    "start_time": "2022-12-11T14:55:37.676Z"
   },
   {
    "duration": 767,
    "start_time": "2022-12-11T14:55:37.690Z"
   },
   {
    "duration": 8,
    "start_time": "2022-12-11T14:55:38.459Z"
   },
   {
    "duration": 261,
    "start_time": "2022-12-11T14:55:38.469Z"
   },
   {
    "duration": 96,
    "start_time": "2022-12-11T14:55:38.733Z"
   },
   {
    "duration": 391,
    "start_time": "2022-12-11T14:55:38.836Z"
   },
   {
    "duration": 101,
    "start_time": "2022-12-11T14:55:39.231Z"
   },
   {
    "duration": 12,
    "start_time": "2022-12-11T14:55:39.335Z"
   },
   {
    "duration": 264,
    "start_time": "2022-12-11T14:55:41.874Z"
   },
   {
    "duration": 3,
    "start_time": "2022-12-11T15:04:49.764Z"
   },
   {
    "duration": 974,
    "start_time": "2022-12-11T15:13:21.549Z"
   },
   {
    "duration": 970,
    "start_time": "2022-12-11T15:13:32.030Z"
   },
   {
    "duration": 946,
    "start_time": "2022-12-11T15:13:38.929Z"
   },
   {
    "duration": 47,
    "start_time": "2022-12-11T15:15:35.249Z"
   },
   {
    "duration": 4,
    "start_time": "2022-12-11T15:16:07.900Z"
   },
   {
    "duration": 110,
    "start_time": "2022-12-11T15:16:07.906Z"
   },
   {
    "duration": 6,
    "start_time": "2022-12-11T15:16:08.018Z"
   },
   {
    "duration": 13,
    "start_time": "2022-12-11T15:16:08.025Z"
   },
   {
    "duration": 9,
    "start_time": "2022-12-11T15:16:08.041Z"
   },
   {
    "duration": 10,
    "start_time": "2022-12-11T15:16:08.052Z"
   },
   {
    "duration": 53,
    "start_time": "2022-12-11T15:16:08.063Z"
   },
   {
    "duration": 18,
    "start_time": "2022-12-11T15:16:08.118Z"
   },
   {
    "duration": 14,
    "start_time": "2022-12-11T15:16:08.138Z"
   },
   {
    "duration": 33,
    "start_time": "2022-12-11T15:16:08.153Z"
   },
   {
    "duration": 29,
    "start_time": "2022-12-11T15:16:08.187Z"
   },
   {
    "duration": 999,
    "start_time": "2022-12-11T15:16:08.217Z"
   },
   {
    "duration": 227,
    "start_time": "2022-12-11T15:16:09.219Z"
   },
   {
    "duration": 160,
    "start_time": "2022-12-11T15:16:09.448Z"
   },
   {
    "duration": 828,
    "start_time": "2022-12-11T15:16:09.609Z"
   },
   {
    "duration": 569,
    "start_time": "2022-12-11T15:16:10.439Z"
   },
   {
    "duration": 5,
    "start_time": "2022-12-11T15:16:11.015Z"
   },
   {
    "duration": 43,
    "start_time": "2022-12-11T15:16:11.021Z"
   },
   {
    "duration": 3,
    "start_time": "2022-12-11T15:16:11.066Z"
   },
   {
    "duration": 12,
    "start_time": "2022-12-11T15:16:11.071Z"
   },
   {
    "duration": 724,
    "start_time": "2022-12-11T15:16:11.085Z"
   },
   {
    "duration": 11,
    "start_time": "2022-12-11T15:16:11.810Z"
   },
   {
    "duration": 200,
    "start_time": "2022-12-11T15:16:11.823Z"
   },
   {
    "duration": 199,
    "start_time": "2022-12-11T15:16:12.025Z"
   },
   {
    "duration": 295,
    "start_time": "2022-12-11T15:16:12.226Z"
   },
   {
    "duration": 99,
    "start_time": "2022-12-11T15:16:12.524Z"
   },
   {
    "duration": 17,
    "start_time": "2022-12-11T15:16:12.625Z"
   },
   {
    "duration": 182,
    "start_time": "2022-12-11T15:16:12.643Z"
   },
   {
    "duration": 43,
    "start_time": "2022-12-11T15:16:15.093Z"
   },
   {
    "duration": 44,
    "start_time": "2022-12-11T15:16:17.420Z"
   },
   {
    "duration": 44,
    "start_time": "2022-12-11T15:16:54.480Z"
   },
   {
    "duration": 240,
    "start_time": "2022-12-11T15:16:56.783Z"
   },
   {
    "duration": 43,
    "start_time": "2022-12-11T15:17:00.371Z"
   },
   {
    "duration": 1004,
    "start_time": "2022-12-11T15:17:07.913Z"
   },
   {
    "duration": 990,
    "start_time": "2022-12-11T15:17:30.015Z"
   },
   {
    "duration": 44,
    "start_time": "2022-12-11T15:17:33.280Z"
   },
   {
    "duration": 252,
    "start_time": "2022-12-11T15:17:35.565Z"
   },
   {
    "duration": 44,
    "start_time": "2022-12-11T15:17:37.705Z"
   },
   {
    "duration": 6,
    "start_time": "2022-12-11T15:25:44.042Z"
   },
   {
    "duration": 108,
    "start_time": "2022-12-11T15:25:44.051Z"
   },
   {
    "duration": 7,
    "start_time": "2022-12-11T15:25:44.161Z"
   },
   {
    "duration": 13,
    "start_time": "2022-12-11T15:25:44.171Z"
   },
   {
    "duration": 7,
    "start_time": "2022-12-11T15:25:44.186Z"
   },
   {
    "duration": 34,
    "start_time": "2022-12-11T15:25:44.195Z"
   },
   {
    "duration": 22,
    "start_time": "2022-12-11T15:25:44.231Z"
   },
   {
    "duration": 18,
    "start_time": "2022-12-11T15:25:44.255Z"
   },
   {
    "duration": 14,
    "start_time": "2022-12-11T15:25:44.275Z"
   },
   {
    "duration": 61,
    "start_time": "2022-12-11T15:25:44.291Z"
   },
   {
    "duration": 5,
    "start_time": "2022-12-11T15:25:44.353Z"
   },
   {
    "duration": 1981,
    "start_time": "2022-12-11T15:25:44.359Z"
   },
   {
    "duration": 288,
    "start_time": "2022-12-11T15:25:46.417Z"
   },
   {
    "duration": 189,
    "start_time": "2022-12-11T15:25:46.707Z"
   },
   {
    "duration": 957,
    "start_time": "2022-12-11T15:25:46.898Z"
   },
   {
    "duration": 484,
    "start_time": "2022-12-11T15:25:47.857Z"
   },
   {
    "duration": 5,
    "start_time": "2022-12-11T15:25:48.344Z"
   },
   {
    "duration": 39,
    "start_time": "2022-12-11T15:25:48.352Z"
   },
   {
    "duration": 3,
    "start_time": "2022-12-11T15:25:48.393Z"
   },
   {
    "duration": 37,
    "start_time": "2022-12-11T15:25:48.397Z"
   },
   {
    "duration": 833,
    "start_time": "2022-12-11T15:25:48.437Z"
   },
   {
    "duration": 10,
    "start_time": "2022-12-11T15:25:49.272Z"
   },
   {
    "duration": 149,
    "start_time": "2022-12-11T15:25:49.284Z"
   },
   {
    "duration": 189,
    "start_time": "2022-12-11T15:25:49.437Z"
   },
   {
    "duration": 188,
    "start_time": "2022-12-11T15:25:49.629Z"
   },
   {
    "duration": 111,
    "start_time": "2022-12-11T15:25:49.820Z"
   },
   {
    "duration": 18,
    "start_time": "2022-12-11T15:25:49.933Z"
   },
   {
    "duration": 54,
    "start_time": "2022-12-11T15:26:09.185Z"
   },
   {
    "duration": 1093,
    "start_time": "2022-12-11T15:26:14.186Z"
   },
   {
    "duration": 63,
    "start_time": "2022-12-11T15:26:17.477Z"
   },
   {
    "duration": 46,
    "start_time": "2022-12-11T15:26:23.840Z"
   },
   {
    "duration": 20,
    "start_time": "2022-12-11T15:26:31.812Z"
   },
   {
    "duration": 121,
    "start_time": "2022-12-11T15:26:31.842Z"
   },
   {
    "duration": 9,
    "start_time": "2022-12-11T15:26:31.965Z"
   },
   {
    "duration": 27,
    "start_time": "2022-12-11T15:26:31.976Z"
   },
   {
    "duration": 18,
    "start_time": "2022-12-11T15:26:32.006Z"
   },
   {
    "duration": 19,
    "start_time": "2022-12-11T15:26:32.027Z"
   },
   {
    "duration": 38,
    "start_time": "2022-12-11T15:26:32.048Z"
   },
   {
    "duration": 40,
    "start_time": "2022-12-11T15:26:32.088Z"
   },
   {
    "duration": 21,
    "start_time": "2022-12-11T15:26:32.136Z"
   },
   {
    "duration": 35,
    "start_time": "2022-12-11T15:26:32.161Z"
   },
   {
    "duration": 5,
    "start_time": "2022-12-11T15:26:32.197Z"
   },
   {
    "duration": 1224,
    "start_time": "2022-12-11T15:26:32.204Z"
   },
   {
    "duration": 301,
    "start_time": "2022-12-11T15:26:33.436Z"
   },
   {
    "duration": 192,
    "start_time": "2022-12-11T15:26:33.740Z"
   },
   {
    "duration": 916,
    "start_time": "2022-12-11T15:26:33.938Z"
   },
   {
    "duration": 496,
    "start_time": "2022-12-11T15:26:34.855Z"
   },
   {
    "duration": 4,
    "start_time": "2022-12-11T15:26:35.353Z"
   },
   {
    "duration": 38,
    "start_time": "2022-12-11T15:26:35.359Z"
   },
   {
    "duration": 20,
    "start_time": "2022-12-11T15:26:35.398Z"
   },
   {
    "duration": 43,
    "start_time": "2022-12-11T15:26:35.420Z"
   },
   {
    "duration": 827,
    "start_time": "2022-12-11T15:26:35.464Z"
   },
   {
    "duration": 16,
    "start_time": "2022-12-11T15:26:36.292Z"
   },
   {
    "duration": 123,
    "start_time": "2022-12-11T15:26:36.310Z"
   },
   {
    "duration": 190,
    "start_time": "2022-12-11T15:26:36.438Z"
   },
   {
    "duration": 486,
    "start_time": "2022-12-11T15:26:36.635Z"
   },
   {
    "duration": 91,
    "start_time": "2022-12-11T15:26:37.127Z"
   },
   {
    "duration": 30,
    "start_time": "2022-12-11T15:26:37.220Z"
   },
   {
    "duration": 65,
    "start_time": "2022-12-11T15:26:44.679Z"
   },
   {
    "duration": 1161,
    "start_time": "2022-12-11T15:26:58.009Z"
   },
   {
    "duration": 1254,
    "start_time": "2022-12-11T15:27:00.962Z"
   },
   {
    "duration": 44,
    "start_time": "2022-12-11T16:03:19.730Z"
   },
   {
    "duration": 52,
    "start_time": "2022-12-11T16:03:21.468Z"
   },
   {
    "duration": 50,
    "start_time": "2022-12-11T16:03:22.001Z"
   },
   {
    "duration": 47,
    "start_time": "2022-12-11T16:03:33.107Z"
   },
   {
    "duration": 996,
    "start_time": "2022-12-11T16:03:37.355Z"
   },
   {
    "duration": 609,
    "start_time": "2022-12-11T16:03:40.211Z"
   },
   {
    "duration": 49,
    "start_time": "2022-12-11T16:03:44.183Z"
   },
   {
    "duration": 52,
    "start_time": "2022-12-11T16:03:44.970Z"
   },
   {
    "duration": 608,
    "start_time": "2022-12-11T16:05:19.030Z"
   },
   {
    "duration": 1010,
    "start_time": "2022-12-11T16:05:22.069Z"
   },
   {
    "duration": 47,
    "start_time": "2022-12-11T16:05:23.980Z"
   },
   {
    "duration": 8,
    "start_time": "2022-12-11T16:27:21.307Z"
   },
   {
    "duration": 8,
    "start_time": "2022-12-11T16:27:24.158Z"
   },
   {
    "duration": 9,
    "start_time": "2022-12-11T16:27:24.954Z"
   },
   {
    "duration": 5,
    "start_time": "2022-12-11T16:28:08.263Z"
   },
   {
    "duration": 129,
    "start_time": "2022-12-11T16:28:08.270Z"
   },
   {
    "duration": 20,
    "start_time": "2022-12-11T16:28:08.401Z"
   },
   {
    "duration": 16,
    "start_time": "2022-12-11T16:28:08.423Z"
   },
   {
    "duration": 26,
    "start_time": "2022-12-11T16:28:08.441Z"
   },
   {
    "duration": 12,
    "start_time": "2022-12-11T16:28:08.469Z"
   },
   {
    "duration": 25,
    "start_time": "2022-12-11T16:28:08.483Z"
   },
   {
    "duration": 22,
    "start_time": "2022-12-11T16:28:08.515Z"
   },
   {
    "duration": 25,
    "start_time": "2022-12-11T16:28:08.538Z"
   },
   {
    "duration": 34,
    "start_time": "2022-12-11T16:28:08.565Z"
   },
   {
    "duration": 4,
    "start_time": "2022-12-11T16:28:08.601Z"
   },
   {
    "duration": 1103,
    "start_time": "2022-12-11T16:28:08.619Z"
   },
   {
    "duration": 323,
    "start_time": "2022-12-11T16:28:09.725Z"
   },
   {
    "duration": 207,
    "start_time": "2022-12-11T16:28:10.054Z"
   },
   {
    "duration": 1006,
    "start_time": "2022-12-11T16:28:10.263Z"
   },
   {
    "duration": 689,
    "start_time": "2022-12-11T16:28:11.271Z"
   },
   {
    "duration": 4,
    "start_time": "2022-12-11T16:28:11.963Z"
   },
   {
    "duration": 51,
    "start_time": "2022-12-11T16:28:11.969Z"
   },
   {
    "duration": 6,
    "start_time": "2022-12-11T16:28:12.027Z"
   },
   {
    "duration": 62,
    "start_time": "2022-12-11T16:28:12.035Z"
   },
   {
    "duration": 1078,
    "start_time": "2022-12-11T16:28:12.100Z"
   },
   {
    "duration": 9,
    "start_time": "2022-12-11T16:28:13.180Z"
   },
   {
    "duration": 268,
    "start_time": "2022-12-11T16:28:13.191Z"
   },
   {
    "duration": 68,
    "start_time": "2022-12-11T16:28:13.462Z"
   },
   {
    "duration": 494,
    "start_time": "2022-12-11T16:28:13.546Z"
   },
   {
    "duration": 74,
    "start_time": "2022-12-11T16:28:14.050Z"
   },
   {
    "duration": 41,
    "start_time": "2022-12-11T16:28:14.133Z"
   },
   {
    "duration": 1565,
    "start_time": "2022-12-11T16:38:23.956Z"
   },
   {
    "duration": 55,
    "start_time": "2022-12-12T06:00:15.891Z"
   },
   {
    "duration": 39,
    "start_time": "2022-12-12T06:00:36.378Z"
   },
   {
    "duration": 1526,
    "start_time": "2022-12-12T06:00:42.275Z"
   },
   {
    "duration": 182,
    "start_time": "2022-12-12T06:00:43.803Z"
   },
   {
    "duration": 10,
    "start_time": "2022-12-12T06:00:43.987Z"
   },
   {
    "duration": 24,
    "start_time": "2022-12-12T06:00:43.999Z"
   },
   {
    "duration": 27,
    "start_time": "2022-12-12T06:00:44.026Z"
   },
   {
    "duration": 13,
    "start_time": "2022-12-12T06:00:44.055Z"
   },
   {
    "duration": 31,
    "start_time": "2022-12-12T06:00:44.070Z"
   },
   {
    "duration": 41,
    "start_time": "2022-12-12T06:00:44.102Z"
   },
   {
    "duration": 18,
    "start_time": "2022-12-12T06:00:44.145Z"
   },
   {
    "duration": 37,
    "start_time": "2022-12-12T06:00:44.165Z"
   },
   {
    "duration": 11,
    "start_time": "2022-12-12T06:00:44.204Z"
   },
   {
    "duration": 1087,
    "start_time": "2022-12-12T06:00:44.216Z"
   },
   {
    "duration": 330,
    "start_time": "2022-12-12T06:00:45.305Z"
   },
   {
    "duration": 185,
    "start_time": "2022-12-12T06:00:45.638Z"
   },
   {
    "duration": 817,
    "start_time": "2022-12-12T06:00:45.825Z"
   },
   {
    "duration": 457,
    "start_time": "2022-12-12T06:00:46.643Z"
   },
   {
    "duration": 5,
    "start_time": "2022-12-12T06:00:47.102Z"
   },
   {
    "duration": 37,
    "start_time": "2022-12-12T06:00:47.109Z"
   },
   {
    "duration": 3,
    "start_time": "2022-12-12T06:00:47.148Z"
   },
   {
    "duration": 15,
    "start_time": "2022-12-12T06:00:47.153Z"
   },
   {
    "duration": 760,
    "start_time": "2022-12-12T06:00:47.170Z"
   },
   {
    "duration": 9,
    "start_time": "2022-12-12T06:00:47.932Z"
   },
   {
    "duration": 260,
    "start_time": "2022-12-12T06:00:47.942Z"
   },
   {
    "duration": 99,
    "start_time": "2022-12-12T06:00:48.204Z"
   },
   {
    "duration": 201,
    "start_time": "2022-12-12T06:00:48.305Z"
   },
   {
    "duration": 101,
    "start_time": "2022-12-12T06:00:48.508Z"
   },
   {
    "duration": 97,
    "start_time": "2022-12-12T06:00:48.611Z"
   },
   {
    "duration": 48,
    "start_time": "2022-12-12T06:00:48.710Z"
   },
   {
    "duration": 967,
    "start_time": "2022-12-12T06:00:48.759Z"
   },
   {
    "duration": 390,
    "start_time": "2022-12-12T06:00:49.727Z"
   },
   {
    "duration": 1702,
    "start_time": "2022-12-12T06:00:50.202Z"
   },
   {
    "duration": 5,
    "start_time": "2022-12-12T06:00:55.292Z"
   },
   {
    "duration": 912,
    "start_time": "2022-12-12T06:02:49.877Z"
   },
   {
    "duration": 963,
    "start_time": "2022-12-12T06:02:53.836Z"
   },
   {
    "duration": 42,
    "start_time": "2022-12-12T06:02:56.237Z"
   },
   {
    "duration": 528,
    "start_time": "2022-12-12T06:02:58.173Z"
   },
   {
    "duration": 4,
    "start_time": "2022-12-12T06:03:03.119Z"
   },
   {
    "duration": 100,
    "start_time": "2022-12-12T06:03:03.125Z"
   },
   {
    "duration": 7,
    "start_time": "2022-12-12T06:03:03.226Z"
   },
   {
    "duration": 22,
    "start_time": "2022-12-12T06:03:03.236Z"
   },
   {
    "duration": 7,
    "start_time": "2022-12-12T06:03:03.260Z"
   },
   {
    "duration": 10,
    "start_time": "2022-12-12T06:03:03.269Z"
   },
   {
    "duration": 35,
    "start_time": "2022-12-12T06:03:03.280Z"
   },
   {
    "duration": 21,
    "start_time": "2022-12-12T06:03:03.318Z"
   },
   {
    "duration": 13,
    "start_time": "2022-12-12T06:03:03.342Z"
   },
   {
    "duration": 54,
    "start_time": "2022-12-12T06:03:03.357Z"
   },
   {
    "duration": 5,
    "start_time": "2022-12-12T06:03:03.413Z"
   },
   {
    "duration": 981,
    "start_time": "2022-12-12T06:03:03.420Z"
   },
   {
    "duration": 314,
    "start_time": "2022-12-12T06:03:04.403Z"
   },
   {
    "duration": 169,
    "start_time": "2022-12-12T06:03:04.718Z"
   },
   {
    "duration": 816,
    "start_time": "2022-12-12T06:03:04.889Z"
   },
   {
    "duration": 493,
    "start_time": "2022-12-12T06:03:05.706Z"
   },
   {
    "duration": 5,
    "start_time": "2022-12-12T06:03:06.201Z"
   },
   {
    "duration": 50,
    "start_time": "2022-12-12T06:03:06.208Z"
   },
   {
    "duration": 4,
    "start_time": "2022-12-12T06:03:06.259Z"
   },
   {
    "duration": 21,
    "start_time": "2022-12-12T06:03:06.265Z"
   },
   {
    "duration": 754,
    "start_time": "2022-12-12T06:03:06.288Z"
   },
   {
    "duration": 9,
    "start_time": "2022-12-12T06:03:07.043Z"
   },
   {
    "duration": 844,
    "start_time": "2022-12-12T06:03:07.054Z"
   },
   {
    "duration": 9,
    "start_time": "2022-12-12T06:03:07.901Z"
   },
   {
    "duration": 291,
    "start_time": "2022-12-12T06:03:07.911Z"
   },
   {
    "duration": 99,
    "start_time": "2022-12-12T06:03:08.205Z"
   },
   {
    "duration": 10,
    "start_time": "2022-12-12T06:03:08.306Z"
   },
   {
    "duration": 82,
    "start_time": "2022-12-12T06:03:08.318Z"
   },
   {
    "duration": 953,
    "start_time": "2022-12-12T06:03:08.402Z"
   },
   {
    "duration": 956,
    "start_time": "2022-12-12T06:03:11.928Z"
   },
   {
    "duration": 309,
    "start_time": "2022-12-12T06:03:13.889Z"
   },
   {
    "duration": 391,
    "start_time": "2022-12-12T06:03:44.819Z"
   },
   {
    "duration": 921,
    "start_time": "2022-12-12T06:03:47.583Z"
   },
   {
    "duration": 41,
    "start_time": "2022-12-12T06:03:50.136Z"
   },
   {
    "duration": 71,
    "start_time": "2022-12-12T06:04:40.956Z"
   },
   {
    "duration": 12,
    "start_time": "2022-12-12T06:04:52.786Z"
   },
   {
    "duration": 4,
    "start_time": "2022-12-12T06:06:00.776Z"
   },
   {
    "duration": 99,
    "start_time": "2022-12-12T06:06:00.782Z"
   },
   {
    "duration": 7,
    "start_time": "2022-12-12T06:06:00.884Z"
   },
   {
    "duration": 23,
    "start_time": "2022-12-12T06:06:00.893Z"
   },
   {
    "duration": 18,
    "start_time": "2022-12-12T06:06:00.918Z"
   },
   {
    "duration": 15,
    "start_time": "2022-12-12T06:06:00.938Z"
   },
   {
    "duration": 42,
    "start_time": "2022-12-12T06:06:00.955Z"
   },
   {
    "duration": 17,
    "start_time": "2022-12-12T06:06:00.998Z"
   },
   {
    "duration": 11,
    "start_time": "2022-12-12T06:06:01.017Z"
   },
   {
    "duration": 37,
    "start_time": "2022-12-12T06:06:01.030Z"
   },
   {
    "duration": 4,
    "start_time": "2022-12-12T06:06:01.070Z"
   },
   {
    "duration": 924,
    "start_time": "2022-12-12T06:06:01.075Z"
   },
   {
    "duration": 223,
    "start_time": "2022-12-12T06:06:02.003Z"
   },
   {
    "duration": 192,
    "start_time": "2022-12-12T06:06:02.228Z"
   },
   {
    "duration": 895,
    "start_time": "2022-12-12T06:06:02.422Z"
   },
   {
    "duration": 436,
    "start_time": "2022-12-12T06:06:03.319Z"
   },
   {
    "duration": 7,
    "start_time": "2022-12-12T06:06:03.757Z"
   },
   {
    "duration": 53,
    "start_time": "2022-12-12T06:06:03.766Z"
   },
   {
    "duration": 4,
    "start_time": "2022-12-12T06:06:03.821Z"
   },
   {
    "duration": 29,
    "start_time": "2022-12-12T06:06:03.826Z"
   },
   {
    "duration": 673,
    "start_time": "2022-12-12T06:06:03.856Z"
   },
   {
    "duration": 12,
    "start_time": "2022-12-12T06:06:04.531Z"
   },
   {
    "duration": 71,
    "start_time": "2022-12-12T06:06:04.545Z"
   },
   {
    "duration": 90,
    "start_time": "2022-12-12T06:06:04.618Z"
   },
   {
    "duration": 284,
    "start_time": "2022-12-12T06:06:04.714Z"
   },
   {
    "duration": 98,
    "start_time": "2022-12-12T06:06:05.000Z"
   },
   {
    "duration": 20,
    "start_time": "2022-12-12T06:06:05.099Z"
   },
   {
    "duration": 46,
    "start_time": "2022-12-12T06:06:05.121Z"
   },
   {
    "duration": 948,
    "start_time": "2022-12-12T06:06:05.170Z"
   },
   {
    "duration": 282,
    "start_time": "2022-12-12T06:06:06.120Z"
   },
   {
    "duration": 1595,
    "start_time": "2022-12-12T06:06:06.404Z"
   },
   {
    "duration": 95,
    "start_time": "2022-12-12T06:06:08.003Z"
   },
   {
    "duration": 13,
    "start_time": "2022-12-12T06:06:10.402Z"
   },
   {
    "duration": 13,
    "start_time": "2022-12-12T06:07:12.898Z"
   },
   {
    "duration": 13,
    "start_time": "2022-12-12T06:09:00.875Z"
   },
   {
    "duration": 12,
    "start_time": "2022-12-12T06:09:01.735Z"
   },
   {
    "duration": 14,
    "start_time": "2022-12-12T06:09:02.793Z"
   },
   {
    "duration": 13,
    "start_time": "2022-12-12T06:09:03.123Z"
   },
   {
    "duration": 13,
    "start_time": "2022-12-12T06:09:03.410Z"
   },
   {
    "duration": 12,
    "start_time": "2022-12-12T06:09:03.629Z"
   },
   {
    "duration": 11,
    "start_time": "2022-12-12T06:09:03.811Z"
   },
   {
    "duration": 14,
    "start_time": "2022-12-12T06:09:49.156Z"
   },
   {
    "duration": 3,
    "start_time": "2022-12-12T06:09:53.957Z"
   },
   {
    "duration": 8,
    "start_time": "2022-12-12T06:09:56.979Z"
   },
   {
    "duration": 53,
    "start_time": "2022-12-12T07:01:17.849Z"
   },
   {
    "duration": 56,
    "start_time": "2022-12-12T07:02:29.220Z"
   },
   {
    "duration": 55,
    "start_time": "2022-12-12T07:06:50.510Z"
   },
   {
    "duration": 20,
    "start_time": "2022-12-12T07:10:32.010Z"
   },
   {
    "duration": 10,
    "start_time": "2022-12-12T07:14:12.766Z"
   },
   {
    "duration": 155,
    "start_time": "2022-12-12T07:17:29.802Z"
   },
   {
    "duration": 750,
    "start_time": "2022-12-12T07:18:08.486Z"
   },
   {
    "duration": 402,
    "start_time": "2022-12-12T07:18:30.772Z"
   },
   {
    "duration": 38,
    "start_time": "2022-12-12T07:19:01.769Z"
   },
   {
    "duration": 36,
    "start_time": "2022-12-12T07:19:03.098Z"
   },
   {
    "duration": 4,
    "start_time": "2022-12-12T07:19:18.488Z"
   },
   {
    "duration": 108,
    "start_time": "2022-12-12T07:19:18.494Z"
   },
   {
    "duration": 6,
    "start_time": "2022-12-12T07:19:18.603Z"
   },
   {
    "duration": 28,
    "start_time": "2022-12-12T07:19:18.611Z"
   },
   {
    "duration": 34,
    "start_time": "2022-12-12T07:19:18.641Z"
   },
   {
    "duration": 10,
    "start_time": "2022-12-12T07:19:18.677Z"
   },
   {
    "duration": 29,
    "start_time": "2022-12-12T07:19:18.688Z"
   },
   {
    "duration": 22,
    "start_time": "2022-12-12T07:19:18.719Z"
   },
   {
    "duration": 20,
    "start_time": "2022-12-12T07:19:18.742Z"
   },
   {
    "duration": 33,
    "start_time": "2022-12-12T07:19:18.763Z"
   },
   {
    "duration": 3,
    "start_time": "2022-12-12T07:19:18.798Z"
   },
   {
    "duration": 996,
    "start_time": "2022-12-12T07:19:18.803Z"
   },
   {
    "duration": 230,
    "start_time": "2022-12-12T07:19:19.801Z"
   },
   {
    "duration": 277,
    "start_time": "2022-12-12T07:19:20.034Z"
   },
   {
    "duration": 822,
    "start_time": "2022-12-12T07:19:20.313Z"
   },
   {
    "duration": 360,
    "start_time": "2022-12-12T07:19:21.137Z"
   },
   {
    "duration": 5,
    "start_time": "2022-12-12T07:19:21.499Z"
   },
   {
    "duration": 36,
    "start_time": "2022-12-12T07:19:24.215Z"
   },
   {
    "duration": 8,
    "start_time": "2022-12-12T07:20:07.798Z"
   },
   {
    "duration": 35,
    "start_time": "2022-12-12T07:20:43.635Z"
   },
   {
    "duration": 10,
    "start_time": "2022-12-12T07:20:55.782Z"
   },
   {
    "duration": 670,
    "start_time": "2022-12-12T07:21:07.016Z"
   },
   {
    "duration": 7,
    "start_time": "2022-12-12T07:21:14.844Z"
   },
   {
    "duration": 190,
    "start_time": "2022-12-12T07:21:31.910Z"
   },
   {
    "duration": 150,
    "start_time": "2022-12-12T07:21:56.453Z"
   },
   {
    "duration": 8,
    "start_time": "2022-12-12T07:22:24.225Z"
   },
   {
    "duration": 891,
    "start_time": "2022-12-12T07:23:17.139Z"
   },
   {
    "duration": 250,
    "start_time": "2022-12-12T07:23:37.250Z"
   },
   {
    "duration": 59,
    "start_time": "2022-12-12T07:23:55.582Z"
   },
   {
    "duration": 261,
    "start_time": "2022-12-12T07:30:03.523Z"
   },
   {
    "duration": 276,
    "start_time": "2022-12-12T07:39:40.391Z"
   },
   {
    "duration": 307,
    "start_time": "2022-12-12T07:40:11.697Z"
   },
   {
    "duration": 281,
    "start_time": "2022-12-12T07:41:27.126Z"
   },
   {
    "duration": 257,
    "start_time": "2022-12-12T07:41:48.140Z"
   },
   {
    "duration": 302,
    "start_time": "2022-12-12T07:42:09.678Z"
   },
   {
    "duration": 324,
    "start_time": "2022-12-12T07:42:57.577Z"
   },
   {
    "duration": 299,
    "start_time": "2022-12-12T07:43:06.111Z"
   },
   {
    "duration": 2130,
    "start_time": "2022-12-13T08:12:23.964Z"
   },
   {
    "duration": 194,
    "start_time": "2022-12-13T08:12:26.096Z"
   },
   {
    "duration": 8,
    "start_time": "2022-12-13T08:13:48.692Z"
   },
   {
    "duration": 11,
    "start_time": "2022-12-13T08:13:49.271Z"
   },
   {
    "duration": 8,
    "start_time": "2022-12-13T08:13:50.884Z"
   },
   {
    "duration": 10,
    "start_time": "2022-12-13T08:14:39.958Z"
   },
   {
    "duration": 22,
    "start_time": "2022-12-13T08:14:46.433Z"
   },
   {
    "duration": 20,
    "start_time": "2022-12-13T08:15:44.601Z"
   },
   {
    "duration": 15,
    "start_time": "2022-12-13T08:16:21.438Z"
   },
   {
    "duration": 31,
    "start_time": "2022-12-13T08:17:25.456Z"
   },
   {
    "duration": 5,
    "start_time": "2022-12-13T08:17:57.748Z"
   },
   {
    "duration": 1023,
    "start_time": "2022-12-13T08:17:58.375Z"
   },
   {
    "duration": 157,
    "start_time": "2022-12-13T08:19:25.195Z"
   },
   {
    "duration": 169,
    "start_time": "2022-12-13T08:19:48.806Z"
   },
   {
    "duration": 916,
    "start_time": "2022-12-13T08:20:02.087Z"
   },
   {
    "duration": 414,
    "start_time": "2022-12-13T08:20:03.005Z"
   },
   {
    "duration": 4,
    "start_time": "2022-12-13T08:20:12.010Z"
   },
   {
    "duration": 49,
    "start_time": "2022-12-13T08:21:29.929Z"
   },
   {
    "duration": 3,
    "start_time": "2022-12-13T08:21:53.839Z"
   },
   {
    "duration": 11,
    "start_time": "2022-12-13T08:21:54.329Z"
   },
   {
    "duration": 751,
    "start_time": "2022-12-13T08:22:25.054Z"
   },
   {
    "duration": 9,
    "start_time": "2022-12-13T08:22:25.895Z"
   },
   {
    "duration": 62,
    "start_time": "2022-12-13T08:22:26.546Z"
   },
   {
    "duration": 8,
    "start_time": "2022-12-13T08:22:27.161Z"
   },
   {
    "duration": 214,
    "start_time": "2022-12-13T08:22:27.891Z"
   },
   {
    "duration": 9,
    "start_time": "2022-12-13T08:22:28.368Z"
   },
   {
    "duration": 82,
    "start_time": "2022-12-13T08:22:47.092Z"
   },
   {
    "duration": 43,
    "start_time": "2022-12-13T08:22:48.332Z"
   },
   {
    "duration": 1034,
    "start_time": "2022-12-13T08:22:50.192Z"
   },
   {
    "duration": 272,
    "start_time": "2022-12-13T08:22:51.228Z"
   },
   {
    "duration": 1337,
    "start_time": "2022-12-13T08:22:54.770Z"
   },
   {
    "duration": 3,
    "start_time": "2022-12-13T08:24:17.381Z"
   },
   {
    "duration": 11,
    "start_time": "2022-12-13T08:24:17.992Z"
   },
   {
    "duration": 65,
    "start_time": "2022-12-13T08:24:20.402Z"
   },
   {
    "duration": 284,
    "start_time": "2022-12-13T08:24:48.245Z"
   },
   {
    "duration": 49,
    "start_time": "2022-12-15T07:33:32.211Z"
   },
   {
    "duration": 1654,
    "start_time": "2022-12-15T07:33:35.967Z"
   },
   {
    "duration": 155,
    "start_time": "2022-12-15T07:33:37.623Z"
   },
   {
    "duration": 9,
    "start_time": "2022-12-15T07:33:37.780Z"
   },
   {
    "duration": 17,
    "start_time": "2022-12-15T07:33:37.791Z"
   },
   {
    "duration": 10,
    "start_time": "2022-12-15T07:33:43.341Z"
   },
   {
    "duration": 11,
    "start_time": "2022-12-15T07:33:51.449Z"
   },
   {
    "duration": 80,
    "start_time": "2022-12-15T07:34:54.810Z"
   },
   {
    "duration": 9,
    "start_time": "2022-12-15T07:35:43.693Z"
   },
   {
    "duration": 11,
    "start_time": "2022-12-15T07:40:43.599Z"
   },
   {
    "duration": 11,
    "start_time": "2022-12-15T07:40:49.883Z"
   },
   {
    "duration": 9,
    "start_time": "2022-12-15T07:40:59.460Z"
   },
   {
    "duration": 10,
    "start_time": "2022-12-15T07:41:19.251Z"
   },
   {
    "duration": 10,
    "start_time": "2022-12-15T07:41:26.954Z"
   },
   {
    "duration": 10,
    "start_time": "2022-12-15T07:42:29.539Z"
   },
   {
    "duration": 13,
    "start_time": "2022-12-15T07:42:39.242Z"
   },
   {
    "duration": 13,
    "start_time": "2022-12-15T07:42:46.565Z"
   },
   {
    "duration": 64,
    "start_time": "2022-12-15T07:42:54.285Z"
   },
   {
    "duration": 15,
    "start_time": "2022-12-15T07:42:58.237Z"
   },
   {
    "duration": 39,
    "start_time": "2022-12-15T07:43:23.699Z"
   },
   {
    "duration": 55,
    "start_time": "2022-12-15T07:43:35.140Z"
   },
   {
    "duration": 42,
    "start_time": "2022-12-15T07:43:42.043Z"
   },
   {
    "duration": 54,
    "start_time": "2022-12-15T07:44:21.584Z"
   },
   {
    "duration": 21,
    "start_time": "2022-12-15T07:44:28.939Z"
   },
   {
    "duration": 26,
    "start_time": "2022-12-15T07:44:46.044Z"
   },
   {
    "duration": 5,
    "start_time": "2022-12-15T07:44:50.100Z"
   },
   {
    "duration": 102,
    "start_time": "2022-12-15T07:44:50.108Z"
   },
   {
    "duration": 7,
    "start_time": "2022-12-15T07:44:50.212Z"
   },
   {
    "duration": 12,
    "start_time": "2022-12-15T07:44:50.220Z"
   },
   {
    "duration": 19,
    "start_time": "2022-12-15T07:44:56.871Z"
   },
   {
    "duration": 11,
    "start_time": "2022-12-15T07:45:12.123Z"
   },
   {
    "duration": 17,
    "start_time": "2022-12-15T07:45:21.777Z"
   },
   {
    "duration": 13,
    "start_time": "2022-12-15T07:48:40.111Z"
   },
   {
    "duration": 9,
    "start_time": "2022-12-15T07:48:43.543Z"
   },
   {
    "duration": 13,
    "start_time": "2022-12-15T07:49:25.317Z"
   },
   {
    "duration": 20,
    "start_time": "2022-12-15T07:49:37.170Z"
   },
   {
    "duration": 4,
    "start_time": "2022-12-15T07:51:45.373Z"
   },
   {
    "duration": 101,
    "start_time": "2022-12-15T07:51:45.379Z"
   },
   {
    "duration": 8,
    "start_time": "2022-12-15T07:51:45.483Z"
   },
   {
    "duration": 12,
    "start_time": "2022-12-15T07:51:45.493Z"
   },
   {
    "duration": 18,
    "start_time": "2022-12-15T07:51:45.508Z"
   },
   {
    "duration": 52,
    "start_time": "2022-12-15T07:51:45.528Z"
   },
   {
    "duration": 20,
    "start_time": "2022-12-15T07:51:45.582Z"
   },
   {
    "duration": 1014,
    "start_time": "2022-12-15T07:51:45.604Z"
   },
   {
    "duration": 664,
    "start_time": "2022-12-15T07:51:46.620Z"
   },
   {
    "duration": 19,
    "start_time": "2022-12-15T07:51:47.286Z"
   },
   {
    "duration": 0,
    "start_time": "2022-12-15T07:51:47.308Z"
   },
   {
    "duration": 0,
    "start_time": "2022-12-15T07:51:47.309Z"
   },
   {
    "duration": 0,
    "start_time": "2022-12-15T07:51:47.310Z"
   },
   {
    "duration": 0,
    "start_time": "2022-12-15T07:51:47.312Z"
   },
   {
    "duration": 0,
    "start_time": "2022-12-15T07:51:47.313Z"
   },
   {
    "duration": 0,
    "start_time": "2022-12-15T07:51:47.314Z"
   },
   {
    "duration": 0,
    "start_time": "2022-12-15T07:51:47.315Z"
   },
   {
    "duration": 0,
    "start_time": "2022-12-15T07:51:47.316Z"
   },
   {
    "duration": 0,
    "start_time": "2022-12-15T07:51:47.317Z"
   },
   {
    "duration": 0,
    "start_time": "2022-12-15T07:51:47.318Z"
   },
   {
    "duration": 0,
    "start_time": "2022-12-15T07:51:47.320Z"
   },
   {
    "duration": 0,
    "start_time": "2022-12-15T07:51:47.321Z"
   },
   {
    "duration": 0,
    "start_time": "2022-12-15T07:51:47.322Z"
   },
   {
    "duration": 0,
    "start_time": "2022-12-15T07:51:47.323Z"
   },
   {
    "duration": 0,
    "start_time": "2022-12-15T07:51:47.324Z"
   },
   {
    "duration": 0,
    "start_time": "2022-12-15T07:51:47.325Z"
   },
   {
    "duration": 0,
    "start_time": "2022-12-15T07:51:47.326Z"
   },
   {
    "duration": 0,
    "start_time": "2022-12-15T07:51:47.327Z"
   },
   {
    "duration": 0,
    "start_time": "2022-12-15T07:51:47.329Z"
   },
   {
    "duration": 0,
    "start_time": "2022-12-15T07:51:47.329Z"
   },
   {
    "duration": 0,
    "start_time": "2022-12-15T07:51:47.330Z"
   },
   {
    "duration": 0,
    "start_time": "2022-12-15T07:51:47.331Z"
   },
   {
    "duration": 0,
    "start_time": "2022-12-15T07:51:47.378Z"
   },
   {
    "duration": 0,
    "start_time": "2022-12-15T07:51:47.379Z"
   },
   {
    "duration": 9,
    "start_time": "2022-12-15T07:52:01.119Z"
   },
   {
    "duration": 5,
    "start_time": "2022-12-15T07:52:17.552Z"
   },
   {
    "duration": 98,
    "start_time": "2022-12-15T07:52:17.560Z"
   },
   {
    "duration": 17,
    "start_time": "2022-12-15T07:52:17.661Z"
   },
   {
    "duration": 12,
    "start_time": "2022-12-15T07:52:17.680Z"
   },
   {
    "duration": 15,
    "start_time": "2022-12-15T07:52:17.694Z"
   },
   {
    "duration": 10,
    "start_time": "2022-12-15T07:52:17.711Z"
   },
   {
    "duration": 57,
    "start_time": "2022-12-15T07:52:17.722Z"
   },
   {
    "duration": 992,
    "start_time": "2022-12-15T07:52:17.780Z"
   },
   {
    "duration": 648,
    "start_time": "2022-12-15T07:52:18.774Z"
   },
   {
    "duration": 15,
    "start_time": "2022-12-15T07:52:19.424Z"
   },
   {
    "duration": 0,
    "start_time": "2022-12-15T07:52:19.441Z"
   },
   {
    "duration": 0,
    "start_time": "2022-12-15T07:52:19.442Z"
   },
   {
    "duration": 0,
    "start_time": "2022-12-15T07:52:19.443Z"
   },
   {
    "duration": 0,
    "start_time": "2022-12-15T07:52:19.445Z"
   },
   {
    "duration": 0,
    "start_time": "2022-12-15T07:52:19.446Z"
   },
   {
    "duration": 0,
    "start_time": "2022-12-15T07:52:19.446Z"
   },
   {
    "duration": 0,
    "start_time": "2022-12-15T07:52:19.448Z"
   },
   {
    "duration": 0,
    "start_time": "2022-12-15T07:52:19.449Z"
   },
   {
    "duration": 0,
    "start_time": "2022-12-15T07:52:19.450Z"
   },
   {
    "duration": 0,
    "start_time": "2022-12-15T07:52:19.451Z"
   },
   {
    "duration": 0,
    "start_time": "2022-12-15T07:52:19.452Z"
   },
   {
    "duration": 0,
    "start_time": "2022-12-15T07:52:19.453Z"
   },
   {
    "duration": 0,
    "start_time": "2022-12-15T07:52:19.454Z"
   },
   {
    "duration": 0,
    "start_time": "2022-12-15T07:52:19.454Z"
   },
   {
    "duration": 0,
    "start_time": "2022-12-15T07:52:19.455Z"
   },
   {
    "duration": 0,
    "start_time": "2022-12-15T07:52:19.455Z"
   },
   {
    "duration": 0,
    "start_time": "2022-12-15T07:52:19.456Z"
   },
   {
    "duration": 0,
    "start_time": "2022-12-15T07:52:19.457Z"
   },
   {
    "duration": 0,
    "start_time": "2022-12-15T07:52:19.457Z"
   },
   {
    "duration": 0,
    "start_time": "2022-12-15T07:52:19.458Z"
   },
   {
    "duration": 0,
    "start_time": "2022-12-15T07:52:19.458Z"
   },
   {
    "duration": 0,
    "start_time": "2022-12-15T07:52:19.477Z"
   },
   {
    "duration": 1,
    "start_time": "2022-12-15T07:52:19.478Z"
   },
   {
    "duration": 16,
    "start_time": "2022-12-15T07:52:37.486Z"
   },
   {
    "duration": 17,
    "start_time": "2022-12-15T07:53:04.090Z"
   },
   {
    "duration": 16,
    "start_time": "2022-12-15T07:53:12.789Z"
   },
   {
    "duration": 19,
    "start_time": "2022-12-15T07:53:24.533Z"
   },
   {
    "duration": 13,
    "start_time": "2022-12-15T07:58:09.539Z"
   },
   {
    "duration": 6,
    "start_time": "2022-12-15T07:58:35.465Z"
   },
   {
    "duration": 21,
    "start_time": "2022-12-15T08:01:18.432Z"
   },
   {
    "duration": 24,
    "start_time": "2022-12-15T08:04:04.736Z"
   },
   {
    "duration": 21,
    "start_time": "2022-12-15T08:04:24.006Z"
   },
   {
    "duration": 211,
    "start_time": "2022-12-15T08:04:57.706Z"
   },
   {
    "duration": 21,
    "start_time": "2022-12-15T08:05:39.381Z"
   },
   {
    "duration": 5,
    "start_time": "2022-12-15T08:05:56.903Z"
   },
   {
    "duration": 124,
    "start_time": "2022-12-15T08:05:56.910Z"
   },
   {
    "duration": 8,
    "start_time": "2022-12-15T08:05:57.036Z"
   },
   {
    "duration": 43,
    "start_time": "2022-12-15T08:05:57.046Z"
   },
   {
    "duration": 61,
    "start_time": "2022-12-15T08:05:57.092Z"
   },
   {
    "duration": 16,
    "start_time": "2022-12-15T08:05:57.155Z"
   },
   {
    "duration": 36,
    "start_time": "2022-12-15T08:05:57.174Z"
   },
   {
    "duration": 68,
    "start_time": "2022-12-15T08:05:57.212Z"
   },
   {
    "duration": 60,
    "start_time": "2022-12-15T08:05:57.282Z"
   },
   {
    "duration": 56,
    "start_time": "2022-12-15T08:05:57.345Z"
   },
   {
    "duration": 16,
    "start_time": "2022-12-15T08:05:57.406Z"
   },
   {
    "duration": 1354,
    "start_time": "2022-12-15T08:05:57.425Z"
   },
   {
    "duration": 288,
    "start_time": "2022-12-15T08:05:58.782Z"
   },
   {
    "duration": 233,
    "start_time": "2022-12-15T08:05:59.072Z"
   },
   {
    "duration": 1152,
    "start_time": "2022-12-15T08:05:59.307Z"
   },
   {
    "duration": 564,
    "start_time": "2022-12-15T08:06:00.462Z"
   },
   {
    "duration": 6,
    "start_time": "2022-12-15T08:06:01.028Z"
   },
   {
    "duration": 449,
    "start_time": "2022-12-15T08:06:01.037Z"
   },
   {
    "duration": 184,
    "start_time": "2022-12-15T08:06:01.488Z"
   },
   {
    "duration": 520,
    "start_time": "2022-12-15T08:06:01.674Z"
   },
   {
    "duration": 1066,
    "start_time": "2022-12-15T08:06:02.196Z"
   },
   {
    "duration": 18,
    "start_time": "2022-12-15T08:06:03.264Z"
   },
   {
    "duration": 198,
    "start_time": "2022-12-15T08:06:03.284Z"
   },
   {
    "duration": 117,
    "start_time": "2022-12-15T08:06:03.484Z"
   },
   {
    "duration": 204,
    "start_time": "2022-12-15T08:06:03.678Z"
   },
   {
    "duration": 101,
    "start_time": "2022-12-15T08:06:03.886Z"
   },
   {
    "duration": 192,
    "start_time": "2022-12-15T08:06:03.989Z"
   },
   {
    "duration": 80,
    "start_time": "2022-12-15T08:06:04.184Z"
   },
   {
    "duration": 1221,
    "start_time": "2022-12-15T08:06:04.268Z"
   },
   {
    "duration": 493,
    "start_time": "2022-12-15T08:06:05.491Z"
   },
   {
    "duration": 1602,
    "start_time": "2022-12-15T08:06:05.986Z"
   },
   {
    "duration": 94,
    "start_time": "2022-12-15T08:06:07.685Z"
   },
   {
    "duration": 87,
    "start_time": "2022-12-15T08:06:07.781Z"
   },
   {
    "duration": 130,
    "start_time": "2022-12-15T08:06:07.870Z"
   },
   {
    "duration": 9,
    "start_time": "2022-12-15T08:10:44.804Z"
   },
   {
    "duration": 4,
    "start_time": "2022-12-15T08:20:46.137Z"
   },
   {
    "duration": 50,
    "start_time": "2022-12-16T06:38:55.860Z"
   },
   {
    "duration": 1642,
    "start_time": "2022-12-16T06:38:59.882Z"
   },
   {
    "duration": 228,
    "start_time": "2022-12-16T06:39:01.526Z"
   },
   {
    "duration": 469,
    "start_time": "2022-12-16T06:39:04.428Z"
   },
   {
    "duration": 136,
    "start_time": "2022-12-16T06:43:37.608Z"
   },
   {
    "duration": 117,
    "start_time": "2022-12-16T06:43:45.416Z"
   },
   {
    "duration": 999,
    "start_time": "2022-12-16T06:47:40.863Z"
   },
   {
    "duration": 75,
    "start_time": "2022-12-16T06:48:04.612Z"
   },
   {
    "duration": 80,
    "start_time": "2022-12-16T06:48:35.452Z"
   },
   {
    "duration": 1605,
    "start_time": "2022-12-16T06:48:59.696Z"
   },
   {
    "duration": 1559,
    "start_time": "2022-12-16T06:49:07.550Z"
   },
   {
    "duration": 1610,
    "start_time": "2022-12-16T06:49:59.337Z"
   },
   {
    "duration": 90,
    "start_time": "2022-12-16T06:53:35.784Z"
   },
   {
    "duration": 6,
    "start_time": "2022-12-16T06:53:40.211Z"
   },
   {
    "duration": 284,
    "start_time": "2022-12-16T06:53:40.220Z"
   },
   {
    "duration": 10,
    "start_time": "2022-12-16T06:53:40.506Z"
   },
   {
    "duration": 16,
    "start_time": "2022-12-16T06:53:40.518Z"
   },
   {
    "duration": 12,
    "start_time": "2022-12-16T06:53:40.552Z"
   },
   {
    "duration": 13,
    "start_time": "2022-12-16T06:53:40.566Z"
   },
   {
    "duration": 25,
    "start_time": "2022-12-16T06:53:40.581Z"
   },
   {
    "duration": 56,
    "start_time": "2022-12-16T06:53:40.608Z"
   },
   {
    "duration": 17,
    "start_time": "2022-12-16T06:53:40.666Z"
   },
   {
    "duration": 32,
    "start_time": "2022-12-16T06:53:40.685Z"
   },
   {
    "duration": 4,
    "start_time": "2022-12-16T06:53:40.721Z"
   },
   {
    "duration": 1019,
    "start_time": "2022-12-16T06:53:40.750Z"
   },
   {
    "duration": 237,
    "start_time": "2022-12-16T06:53:41.854Z"
   },
   {
    "duration": 198,
    "start_time": "2022-12-16T06:53:42.093Z"
   },
   {
    "duration": 915,
    "start_time": "2022-12-16T06:53:42.293Z"
   },
   {
    "duration": 660,
    "start_time": "2022-12-16T06:53:43.210Z"
   },
   {
    "duration": 5,
    "start_time": "2022-12-16T06:53:43.873Z"
   },
   {
    "duration": 45,
    "start_time": "2022-12-16T06:53:43.880Z"
   },
   {
    "duration": 23,
    "start_time": "2022-12-16T06:53:43.928Z"
   },
   {
    "duration": 30,
    "start_time": "2022-12-16T06:53:43.953Z"
   },
   {
    "duration": 802,
    "start_time": "2022-12-16T06:53:43.984Z"
   },
   {
    "duration": 9,
    "start_time": "2022-12-16T06:53:44.787Z"
   },
   {
    "duration": 459,
    "start_time": "2022-12-16T06:53:44.798Z"
   },
   {
    "duration": 97,
    "start_time": "2022-12-16T06:53:45.260Z"
   },
   {
    "duration": 197,
    "start_time": "2022-12-16T06:53:45.359Z"
   },
   {
    "duration": 106,
    "start_time": "2022-12-16T06:53:45.559Z"
   },
   {
    "duration": 19,
    "start_time": "2022-12-16T06:53:45.752Z"
   },
   {
    "duration": 69,
    "start_time": "2022-12-16T06:53:45.773Z"
   },
   {
    "duration": 1134,
    "start_time": "2022-12-16T06:53:45.846Z"
   },
   {
    "duration": 271,
    "start_time": "2022-12-16T06:53:46.982Z"
   },
   {
    "duration": 1607,
    "start_time": "2022-12-16T06:53:47.256Z"
   },
   {
    "duration": 6,
    "start_time": "2022-12-16T06:53:48.951Z"
   },
   {
    "duration": 105,
    "start_time": "2022-12-16T06:53:48.960Z"
   },
   {
    "duration": 71,
    "start_time": "2022-12-16T06:53:51.595Z"
   },
   {
    "duration": 384,
    "start_time": "2022-12-16T06:53:55.244Z"
   },
   {
    "duration": 67,
    "start_time": "2022-12-16T07:01:07.557Z"
   },
   {
    "duration": 28,
    "start_time": "2022-12-16T07:03:11.990Z"
   },
   {
    "duration": 20,
    "start_time": "2022-12-16T07:06:39.138Z"
   },
   {
    "duration": 10,
    "start_time": "2022-12-16T07:07:10.990Z"
   },
   {
    "duration": 4,
    "start_time": "2022-12-16T07:07:20.064Z"
   },
   {
    "duration": 15,
    "start_time": "2022-12-16T07:07:24.652Z"
   },
   {
    "duration": 316,
    "start_time": "2022-12-16T07:12:23.827Z"
   },
   {
    "duration": 15463,
    "start_time": "2022-12-16T07:15:15.434Z"
   },
   {
    "duration": 16034,
    "start_time": "2022-12-16T07:16:01.942Z"
   },
   {
    "duration": 16,
    "start_time": "2022-12-16T07:32:37.962Z"
   },
   {
    "duration": 15,
    "start_time": "2022-12-16T07:34:05.792Z"
   },
   {
    "duration": 20,
    "start_time": "2022-12-16T07:34:22.643Z"
   },
   {
    "duration": 36967,
    "start_time": "2022-12-16T07:43:21.217Z"
   },
   {
    "duration": 17769,
    "start_time": "2022-12-16T07:45:02.725Z"
   },
   {
    "duration": 36577,
    "start_time": "2022-12-16T07:47:07.121Z"
   },
   {
    "duration": 75,
    "start_time": "2022-12-16T07:54:58.233Z"
   },
   {
    "duration": 970,
    "start_time": "2022-12-16T07:55:04.012Z"
   },
   {
    "duration": 2442,
    "start_time": "2022-12-16T07:56:00.892Z"
   },
   {
    "duration": 328,
    "start_time": "2022-12-16T07:59:03.943Z"
   },
   {
    "duration": 828,
    "start_time": "2022-12-16T08:02:51.552Z"
   },
   {
    "duration": 1426,
    "start_time": "2022-12-16T08:03:11.260Z"
   },
   {
    "duration": 310,
    "start_time": "2022-12-16T08:07:56.222Z"
   },
   {
    "duration": 46,
    "start_time": "2022-12-16T08:25:18.573Z"
   },
   {
    "duration": 1089,
    "start_time": "2022-12-16T08:25:21.042Z"
   },
   {
    "duration": 435,
    "start_time": "2022-12-16T08:25:23.717Z"
   },
   {
    "duration": 77,
    "start_time": "2022-12-16T08:29:17.868Z"
   },
   {
    "duration": 14,
    "start_time": "2022-12-16T08:43:56.159Z"
   },
   {
    "duration": 11,
    "start_time": "2022-12-16T08:44:46.296Z"
   },
   {
    "duration": 12,
    "start_time": "2022-12-16T08:44:50.426Z"
   },
   {
    "duration": 6129,
    "start_time": "2022-12-16T08:45:22.737Z"
   },
   {
    "duration": 6048,
    "start_time": "2022-12-16T08:45:32.580Z"
   },
   {
    "duration": 6278,
    "start_time": "2022-12-16T08:46:33.210Z"
   },
   {
    "duration": 6522,
    "start_time": "2022-12-16T08:53:20.982Z"
   },
   {
    "duration": 82,
    "start_time": "2022-12-16T08:54:01.965Z"
   },
   {
    "duration": 65,
    "start_time": "2022-12-16T08:54:38.964Z"
   },
   {
    "duration": 57,
    "start_time": "2022-12-16T09:02:28.311Z"
   },
   {
    "duration": 39,
    "start_time": "2022-12-16T09:02:43.981Z"
   },
   {
    "duration": 6761,
    "start_time": "2022-12-16T09:02:51.493Z"
   },
   {
    "duration": 832,
    "start_time": "2022-12-16T09:04:17.696Z"
   },
   {
    "duration": 906,
    "start_time": "2022-12-16T09:04:39.806Z"
   },
   {
    "duration": 49,
    "start_time": "2022-12-16T09:05:16.098Z"
   },
   {
    "duration": 2100,
    "start_time": "2022-12-16T09:06:26.709Z"
   },
   {
    "duration": 178,
    "start_time": "2022-12-16T09:06:38.629Z"
   },
   {
    "duration": 34,
    "start_time": "2022-12-16T09:07:00.946Z"
   },
   {
    "duration": 24,
    "start_time": "2022-12-16T09:07:02.869Z"
   },
   {
    "duration": 3085,
    "start_time": "2022-12-16T09:10:02.370Z"
   },
   {
    "duration": 274,
    "start_time": "2022-12-16T09:12:09.118Z"
   },
   {
    "duration": 568,
    "start_time": "2022-12-16T09:12:15.817Z"
   },
   {
    "duration": 656,
    "start_time": "2022-12-16T09:12:20.772Z"
   },
   {
    "duration": 769,
    "start_time": "2022-12-16T09:12:25.292Z"
   },
   {
    "duration": 105,
    "start_time": "2022-12-16T09:12:30.429Z"
   },
   {
    "duration": 182,
    "start_time": "2022-12-16T09:12:36.027Z"
   },
   {
    "duration": 199,
    "start_time": "2022-12-16T09:12:47.897Z"
   },
   {
    "duration": 163,
    "start_time": "2022-12-16T09:12:53.715Z"
   },
   {
    "duration": 207,
    "start_time": "2022-12-16T09:12:57.951Z"
   },
   {
    "duration": 53,
    "start_time": "2022-12-20T10:35:55.289Z"
   },
   {
    "duration": 1829,
    "start_time": "2022-12-20T10:35:58.459Z"
   },
   {
    "duration": 159,
    "start_time": "2022-12-20T10:36:01.516Z"
   }
  ],
  "kernelspec": {
   "display_name": "Python 3 (ipykernel)",
   "language": "python",
   "name": "python3"
  },
  "language_info": {
   "codemirror_mode": {
    "name": "ipython",
    "version": 3
   },
   "file_extension": ".py",
   "mimetype": "text/x-python",
   "name": "python",
   "nbconvert_exporter": "python",
   "pygments_lexer": "ipython3",
   "version": "3.9.12"
  },
  "toc": {
   "base_numbering": 1,
   "nav_menu": {},
   "number_sections": true,
   "sideBar": true,
   "skip_h1_title": true,
   "title_cell": "Содержание",
   "title_sidebar": "Contents",
   "toc_cell": true,
   "toc_position": {
    "height": "calc(100% - 180px)",
    "left": "10px",
    "top": "150px",
    "width": "216.25px"
   },
   "toc_section_display": true,
   "toc_window_display": true
  }
 },
 "nbformat": 4,
 "nbformat_minor": 2
}

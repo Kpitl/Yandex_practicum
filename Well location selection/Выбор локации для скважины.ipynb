{
 "cells": [
  {
   "cell_type": "markdown",
   "metadata": {},
   "source": [
    "# Выбор локации для скважины"
   ]
  },
  {
   "cell_type": "markdown",
   "metadata": {},
   "source": [
    "В добывающей компании «ГлавРосГосНефть» нужно решить, где бурить новую скважину.\n",
    "\n",
    "В качестве исходной задачи предоставлены пробы нефти в трёх регионах: в каждом 10 000 месторождений, где измерили качество нефти и объём её запасов. Необходимо построить модель машинного обучения, которая поможет определить регион, где добыча принесёт наибольшую прибыль. В заключении необходимо проанализировать возможную прибыль и риски техникой *Bootstrap.*\n",
    "\n",
    "Шаги для выбора локации:\n",
    "\n",
    "- В избранном регионе ищут месторождения, для каждого определяют значения признаков;\n",
    "- Строят модель и оценивают объём запасов;\n",
    "- Выбирают месторождения с самым высокими оценками значений. Количество месторождений зависит от бюджета компании и стоимости разработки одной скважины;\n",
    "- Прибыль равна суммарной прибыли отобранных месторождений."
   ]
  },
  {
   "cell_type": "markdown",
   "metadata": {},
   "source": [
    "## Загрузка и подготовка данных"
   ]
  },
  {
   "cell_type": "code",
   "execution_count": 3,
   "metadata": {},
   "outputs": [],
   "source": [
    "# Импортируем необходимые библиотеки\n",
    "import pandas as pd \n",
    "import numpy as np\n",
    "import scipy.stats as st\n",
    "import matplotlib.pyplot as plt\n",
    "import warnings\n",
    "warnings.filterwarnings('ignore')\n",
    "from sklearn.linear_model import LinearRegression\n",
    "from sklearn.model_selection import train_test_split\n",
    "from sklearn.preprocessing import MinMaxScaler\n",
    "from numpy.random import RandomState\n",
    "from sklearn.metrics import accuracy_score, mean_squared_error"
   ]
  },
  {
   "cell_type": "code",
   "execution_count": 4,
   "metadata": {},
   "outputs": [
    {
     "data": {
      "text/html": [
       "<div>\n",
       "<style scoped>\n",
       "    .dataframe tbody tr th:only-of-type {\n",
       "        vertical-align: middle;\n",
       "    }\n",
       "\n",
       "    .dataframe tbody tr th {\n",
       "        vertical-align: top;\n",
       "    }\n",
       "\n",
       "    .dataframe thead th {\n",
       "        text-align: right;\n",
       "    }\n",
       "</style>\n",
       "<table border=\"1\" class=\"dataframe\">\n",
       "  <thead>\n",
       "    <tr style=\"text-align: right;\">\n",
       "      <th></th>\n",
       "      <th>id</th>\n",
       "      <th>f0</th>\n",
       "      <th>f1</th>\n",
       "      <th>f2</th>\n",
       "      <th>product</th>\n",
       "    </tr>\n",
       "  </thead>\n",
       "  <tbody>\n",
       "    <tr>\n",
       "      <th>0</th>\n",
       "      <td>txEyH</td>\n",
       "      <td>0.705745</td>\n",
       "      <td>-0.497823</td>\n",
       "      <td>1.221170</td>\n",
       "      <td>105.280062</td>\n",
       "    </tr>\n",
       "    <tr>\n",
       "      <th>1</th>\n",
       "      <td>2acmU</td>\n",
       "      <td>1.334711</td>\n",
       "      <td>-0.340164</td>\n",
       "      <td>4.365080</td>\n",
       "      <td>73.037750</td>\n",
       "    </tr>\n",
       "    <tr>\n",
       "      <th>2</th>\n",
       "      <td>409Wp</td>\n",
       "      <td>1.022732</td>\n",
       "      <td>0.151990</td>\n",
       "      <td>1.419926</td>\n",
       "      <td>85.265647</td>\n",
       "    </tr>\n",
       "    <tr>\n",
       "      <th>3</th>\n",
       "      <td>iJLyR</td>\n",
       "      <td>-0.032172</td>\n",
       "      <td>0.139033</td>\n",
       "      <td>2.978566</td>\n",
       "      <td>168.620776</td>\n",
       "    </tr>\n",
       "    <tr>\n",
       "      <th>4</th>\n",
       "      <td>Xdl7t</td>\n",
       "      <td>1.988431</td>\n",
       "      <td>0.155413</td>\n",
       "      <td>4.751769</td>\n",
       "      <td>154.036647</td>\n",
       "    </tr>\n",
       "    <tr>\n",
       "      <th>...</th>\n",
       "      <td>...</td>\n",
       "      <td>...</td>\n",
       "      <td>...</td>\n",
       "      <td>...</td>\n",
       "      <td>...</td>\n",
       "    </tr>\n",
       "    <tr>\n",
       "      <th>99995</th>\n",
       "      <td>DLsed</td>\n",
       "      <td>0.971957</td>\n",
       "      <td>0.370953</td>\n",
       "      <td>6.075346</td>\n",
       "      <td>110.744026</td>\n",
       "    </tr>\n",
       "    <tr>\n",
       "      <th>99996</th>\n",
       "      <td>QKivN</td>\n",
       "      <td>1.392429</td>\n",
       "      <td>-0.382606</td>\n",
       "      <td>1.273912</td>\n",
       "      <td>122.346843</td>\n",
       "    </tr>\n",
       "    <tr>\n",
       "      <th>99997</th>\n",
       "      <td>3rnvd</td>\n",
       "      <td>1.029585</td>\n",
       "      <td>0.018787</td>\n",
       "      <td>-1.348308</td>\n",
       "      <td>64.375443</td>\n",
       "    </tr>\n",
       "    <tr>\n",
       "      <th>99998</th>\n",
       "      <td>7kl59</td>\n",
       "      <td>0.998163</td>\n",
       "      <td>-0.528582</td>\n",
       "      <td>1.583869</td>\n",
       "      <td>74.040764</td>\n",
       "    </tr>\n",
       "    <tr>\n",
       "      <th>99999</th>\n",
       "      <td>1CWhH</td>\n",
       "      <td>1.764754</td>\n",
       "      <td>-0.266417</td>\n",
       "      <td>5.722849</td>\n",
       "      <td>149.633246</td>\n",
       "    </tr>\n",
       "  </tbody>\n",
       "</table>\n",
       "<p>100000 rows × 5 columns</p>\n",
       "</div>"
      ],
      "text/plain": [
       "          id        f0        f1        f2     product\n",
       "0      txEyH  0.705745 -0.497823  1.221170  105.280062\n",
       "1      2acmU  1.334711 -0.340164  4.365080   73.037750\n",
       "2      409Wp  1.022732  0.151990  1.419926   85.265647\n",
       "3      iJLyR -0.032172  0.139033  2.978566  168.620776\n",
       "4      Xdl7t  1.988431  0.155413  4.751769  154.036647\n",
       "...      ...       ...       ...       ...         ...\n",
       "99995  DLsed  0.971957  0.370953  6.075346  110.744026\n",
       "99996  QKivN  1.392429 -0.382606  1.273912  122.346843\n",
       "99997  3rnvd  1.029585  0.018787 -1.348308   64.375443\n",
       "99998  7kl59  0.998163 -0.528582  1.583869   74.040764\n",
       "99999  1CWhH  1.764754 -0.266417  5.722849  149.633246\n",
       "\n",
       "[100000 rows x 5 columns]"
      ]
     },
     "metadata": {},
     "output_type": "display_data"
    },
    {
     "data": {
      "text/html": [
       "<div>\n",
       "<style scoped>\n",
       "    .dataframe tbody tr th:only-of-type {\n",
       "        vertical-align: middle;\n",
       "    }\n",
       "\n",
       "    .dataframe tbody tr th {\n",
       "        vertical-align: top;\n",
       "    }\n",
       "\n",
       "    .dataframe thead th {\n",
       "        text-align: right;\n",
       "    }\n",
       "</style>\n",
       "<table border=\"1\" class=\"dataframe\">\n",
       "  <thead>\n",
       "    <tr style=\"text-align: right;\">\n",
       "      <th></th>\n",
       "      <th>id</th>\n",
       "      <th>f0</th>\n",
       "      <th>f1</th>\n",
       "      <th>f2</th>\n",
       "      <th>product</th>\n",
       "    </tr>\n",
       "  </thead>\n",
       "  <tbody>\n",
       "    <tr>\n",
       "      <th>0</th>\n",
       "      <td>kBEdx</td>\n",
       "      <td>-15.001348</td>\n",
       "      <td>-8.276000</td>\n",
       "      <td>-0.005876</td>\n",
       "      <td>3.179103</td>\n",
       "    </tr>\n",
       "    <tr>\n",
       "      <th>1</th>\n",
       "      <td>62mP7</td>\n",
       "      <td>14.272088</td>\n",
       "      <td>-3.475083</td>\n",
       "      <td>0.999183</td>\n",
       "      <td>26.953261</td>\n",
       "    </tr>\n",
       "    <tr>\n",
       "      <th>2</th>\n",
       "      <td>vyE1P</td>\n",
       "      <td>6.263187</td>\n",
       "      <td>-5.948386</td>\n",
       "      <td>5.001160</td>\n",
       "      <td>134.766305</td>\n",
       "    </tr>\n",
       "    <tr>\n",
       "      <th>3</th>\n",
       "      <td>KcrkZ</td>\n",
       "      <td>-13.081196</td>\n",
       "      <td>-11.506057</td>\n",
       "      <td>4.999415</td>\n",
       "      <td>137.945408</td>\n",
       "    </tr>\n",
       "    <tr>\n",
       "      <th>4</th>\n",
       "      <td>AHL4O</td>\n",
       "      <td>12.702195</td>\n",
       "      <td>-8.147433</td>\n",
       "      <td>5.004363</td>\n",
       "      <td>134.766305</td>\n",
       "    </tr>\n",
       "    <tr>\n",
       "      <th>...</th>\n",
       "      <td>...</td>\n",
       "      <td>...</td>\n",
       "      <td>...</td>\n",
       "      <td>...</td>\n",
       "      <td>...</td>\n",
       "    </tr>\n",
       "    <tr>\n",
       "      <th>99995</th>\n",
       "      <td>QywKC</td>\n",
       "      <td>9.535637</td>\n",
       "      <td>-6.878139</td>\n",
       "      <td>1.998296</td>\n",
       "      <td>53.906522</td>\n",
       "    </tr>\n",
       "    <tr>\n",
       "      <th>99996</th>\n",
       "      <td>ptvty</td>\n",
       "      <td>-10.160631</td>\n",
       "      <td>-12.558096</td>\n",
       "      <td>5.005581</td>\n",
       "      <td>137.945408</td>\n",
       "    </tr>\n",
       "    <tr>\n",
       "      <th>99997</th>\n",
       "      <td>09gWa</td>\n",
       "      <td>-7.378891</td>\n",
       "      <td>-3.084104</td>\n",
       "      <td>4.998651</td>\n",
       "      <td>137.945408</td>\n",
       "    </tr>\n",
       "    <tr>\n",
       "      <th>99998</th>\n",
       "      <td>rqwUm</td>\n",
       "      <td>0.665714</td>\n",
       "      <td>-6.152593</td>\n",
       "      <td>1.000146</td>\n",
       "      <td>30.132364</td>\n",
       "    </tr>\n",
       "    <tr>\n",
       "      <th>99999</th>\n",
       "      <td>relB0</td>\n",
       "      <td>-3.426139</td>\n",
       "      <td>-7.794274</td>\n",
       "      <td>-0.003299</td>\n",
       "      <td>3.179103</td>\n",
       "    </tr>\n",
       "  </tbody>\n",
       "</table>\n",
       "<p>100000 rows × 5 columns</p>\n",
       "</div>"
      ],
      "text/plain": [
       "          id         f0         f1        f2     product\n",
       "0      kBEdx -15.001348  -8.276000 -0.005876    3.179103\n",
       "1      62mP7  14.272088  -3.475083  0.999183   26.953261\n",
       "2      vyE1P   6.263187  -5.948386  5.001160  134.766305\n",
       "3      KcrkZ -13.081196 -11.506057  4.999415  137.945408\n",
       "4      AHL4O  12.702195  -8.147433  5.004363  134.766305\n",
       "...      ...        ...        ...       ...         ...\n",
       "99995  QywKC   9.535637  -6.878139  1.998296   53.906522\n",
       "99996  ptvty -10.160631 -12.558096  5.005581  137.945408\n",
       "99997  09gWa  -7.378891  -3.084104  4.998651  137.945408\n",
       "99998  rqwUm   0.665714  -6.152593  1.000146   30.132364\n",
       "99999  relB0  -3.426139  -7.794274 -0.003299    3.179103\n",
       "\n",
       "[100000 rows x 5 columns]"
      ]
     },
     "metadata": {},
     "output_type": "display_data"
    },
    {
     "data": {
      "text/html": [
       "<div>\n",
       "<style scoped>\n",
       "    .dataframe tbody tr th:only-of-type {\n",
       "        vertical-align: middle;\n",
       "    }\n",
       "\n",
       "    .dataframe tbody tr th {\n",
       "        vertical-align: top;\n",
       "    }\n",
       "\n",
       "    .dataframe thead th {\n",
       "        text-align: right;\n",
       "    }\n",
       "</style>\n",
       "<table border=\"1\" class=\"dataframe\">\n",
       "  <thead>\n",
       "    <tr style=\"text-align: right;\">\n",
       "      <th></th>\n",
       "      <th>id</th>\n",
       "      <th>f0</th>\n",
       "      <th>f1</th>\n",
       "      <th>f2</th>\n",
       "      <th>product</th>\n",
       "    </tr>\n",
       "  </thead>\n",
       "  <tbody>\n",
       "    <tr>\n",
       "      <th>0</th>\n",
       "      <td>fwXo0</td>\n",
       "      <td>-1.146987</td>\n",
       "      <td>0.963328</td>\n",
       "      <td>-0.828965</td>\n",
       "      <td>27.758673</td>\n",
       "    </tr>\n",
       "    <tr>\n",
       "      <th>1</th>\n",
       "      <td>WJtFt</td>\n",
       "      <td>0.262778</td>\n",
       "      <td>0.269839</td>\n",
       "      <td>-2.530187</td>\n",
       "      <td>56.069697</td>\n",
       "    </tr>\n",
       "    <tr>\n",
       "      <th>2</th>\n",
       "      <td>ovLUW</td>\n",
       "      <td>0.194587</td>\n",
       "      <td>0.289035</td>\n",
       "      <td>-5.586433</td>\n",
       "      <td>62.871910</td>\n",
       "    </tr>\n",
       "    <tr>\n",
       "      <th>3</th>\n",
       "      <td>q6cA6</td>\n",
       "      <td>2.236060</td>\n",
       "      <td>-0.553760</td>\n",
       "      <td>0.930038</td>\n",
       "      <td>114.572842</td>\n",
       "    </tr>\n",
       "    <tr>\n",
       "      <th>4</th>\n",
       "      <td>WPMUX</td>\n",
       "      <td>-0.515993</td>\n",
       "      <td>1.716266</td>\n",
       "      <td>5.899011</td>\n",
       "      <td>149.600746</td>\n",
       "    </tr>\n",
       "    <tr>\n",
       "      <th>...</th>\n",
       "      <td>...</td>\n",
       "      <td>...</td>\n",
       "      <td>...</td>\n",
       "      <td>...</td>\n",
       "      <td>...</td>\n",
       "    </tr>\n",
       "    <tr>\n",
       "      <th>99995</th>\n",
       "      <td>4GxBu</td>\n",
       "      <td>-1.777037</td>\n",
       "      <td>1.125220</td>\n",
       "      <td>6.263374</td>\n",
       "      <td>172.327046</td>\n",
       "    </tr>\n",
       "    <tr>\n",
       "      <th>99996</th>\n",
       "      <td>YKFjq</td>\n",
       "      <td>-1.261523</td>\n",
       "      <td>-0.894828</td>\n",
       "      <td>2.524545</td>\n",
       "      <td>138.748846</td>\n",
       "    </tr>\n",
       "    <tr>\n",
       "      <th>99997</th>\n",
       "      <td>tKPY3</td>\n",
       "      <td>-1.199934</td>\n",
       "      <td>-2.957637</td>\n",
       "      <td>5.219411</td>\n",
       "      <td>157.080080</td>\n",
       "    </tr>\n",
       "    <tr>\n",
       "      <th>99998</th>\n",
       "      <td>nmxp2</td>\n",
       "      <td>-2.419896</td>\n",
       "      <td>2.417221</td>\n",
       "      <td>-5.548444</td>\n",
       "      <td>51.795253</td>\n",
       "    </tr>\n",
       "    <tr>\n",
       "      <th>99999</th>\n",
       "      <td>V9kWn</td>\n",
       "      <td>-2.551421</td>\n",
       "      <td>-2.025625</td>\n",
       "      <td>6.090891</td>\n",
       "      <td>102.775767</td>\n",
       "    </tr>\n",
       "  </tbody>\n",
       "</table>\n",
       "<p>100000 rows × 5 columns</p>\n",
       "</div>"
      ],
      "text/plain": [
       "          id        f0        f1        f2     product\n",
       "0      fwXo0 -1.146987  0.963328 -0.828965   27.758673\n",
       "1      WJtFt  0.262778  0.269839 -2.530187   56.069697\n",
       "2      ovLUW  0.194587  0.289035 -5.586433   62.871910\n",
       "3      q6cA6  2.236060 -0.553760  0.930038  114.572842\n",
       "4      WPMUX -0.515993  1.716266  5.899011  149.600746\n",
       "...      ...       ...       ...       ...         ...\n",
       "99995  4GxBu -1.777037  1.125220  6.263374  172.327046\n",
       "99996  YKFjq -1.261523 -0.894828  2.524545  138.748846\n",
       "99997  tKPY3 -1.199934 -2.957637  5.219411  157.080080\n",
       "99998  nmxp2 -2.419896  2.417221 -5.548444   51.795253\n",
       "99999  V9kWn -2.551421 -2.025625  6.090891  102.775767\n",
       "\n",
       "[100000 rows x 5 columns]"
      ]
     },
     "metadata": {},
     "output_type": "display_data"
    }
   ],
   "source": [
    "# Выгрузим данные и изучим признаки \n",
    "try:\n",
    "    df_1 = pd.read_csv('/datasets/geo_data_0.csv')\n",
    "    df_2 = pd.read_csv('/datasets/geo_data_1.csv')\n",
    "    df_3 = pd.read_csv('/datasets/geo_data_2.csv')\n",
    "except:\n",
    "    df_1 = pd.read_csv('geo_data_0.csv')\n",
    "    df_2 = pd.read_csv('geo_data_1.csv')\n",
    "    df_3 = pd.read_csv('geo_data_2.csv')\n",
    "    \n",
    "# Вывод пяти первых и последних столбцов датафрейма\n",
    "display(df_1)\n",
    "display(df_2)\n",
    "display(df_3)"
   ]
  },
  {
   "cell_type": "markdown",
   "metadata": {},
   "source": [
    "Создадим функцию, которая выведет информацию, пропуски, дубликаты, а также построит графики  "
   ]
  },
  {
   "cell_type": "code",
   "execution_count": 5,
   "metadata": {},
   "outputs": [],
   "source": [
    "# Создание функции для вывода характеристик\n",
    "def information(df):\n",
    "    df.info()\n",
    "    print(\"\\nКоличество пропущенных значений:\\n\", df.isna().sum())\n",
    "    print(\"\\nКоличество дубликатов в датафрейме:\", df.duplicated().sum())\n",
    "    df.hist()\n",
    "    plt.show()"
   ]
  },
  {
   "cell_type": "code",
   "execution_count": 6,
   "metadata": {},
   "outputs": [
    {
     "name": "stdout",
     "output_type": "stream",
     "text": [
      "<class 'pandas.core.frame.DataFrame'>\n",
      "RangeIndex: 100000 entries, 0 to 99999\n",
      "Data columns (total 5 columns):\n",
      " #   Column   Non-Null Count   Dtype  \n",
      "---  ------   --------------   -----  \n",
      " 0   id       100000 non-null  object \n",
      " 1   f0       100000 non-null  float64\n",
      " 2   f1       100000 non-null  float64\n",
      " 3   f2       100000 non-null  float64\n",
      " 4   product  100000 non-null  float64\n",
      "dtypes: float64(4), object(1)\n",
      "memory usage: 3.8+ MB\n",
      "\n",
      "Количество пропущенных значений:\n",
      " id         0\n",
      "f0         0\n",
      "f1         0\n",
      "f2         0\n",
      "product    0\n",
      "dtype: int64\n",
      "\n",
      "Количество дубликатов в датафрейме: 0\n"
     ]
    },
    {
     "data": {
      "image/png": "[encoded data removed]",
      "text/plain": [
       "<Figure size 432x288 with 4 Axes>"
      ]
     },
     "metadata": {
      "needs_background": "light"
     },
     "output_type": "display_data"
    }
   ],
   "source": [
    "# Вывод информации для первого датафрейма\n",
    "information(df_1)"
   ]
  },
  {
   "cell_type": "code",
   "execution_count": 7,
   "metadata": {},
   "outputs": [
    {
     "name": "stdout",
     "output_type": "stream",
     "text": [
      "<class 'pandas.core.frame.DataFrame'>\n",
      "RangeIndex: 100000 entries, 0 to 99999\n",
      "Data columns (total 5 columns):\n",
      " #   Column   Non-Null Count   Dtype  \n",
      "---  ------   --------------   -----  \n",
      " 0   id       100000 non-null  object \n",
      " 1   f0       100000 non-null  float64\n",
      " 2   f1       100000 non-null  float64\n",
      " 3   f2       100000 non-null  float64\n",
      " 4   product  100000 non-null  float64\n",
      "dtypes: float64(4), object(1)\n",
      "memory usage: 3.8+ MB\n",
      "\n",
      "Количество пропущенных значений:\n",
      " id         0\n",
      "f0         0\n",
      "f1         0\n",
      "f2         0\n",
      "product    0\n",
      "dtype: int64\n",
      "\n",
      "Количество дубликатов в датафрейме: 0\n"
     ]
    },
    {
     "data": {
      "image/png": "[encoded data removed]",
      "text/plain": [
       "<Figure size 432x288 with 4 Axes>"
      ]
     },
     "metadata": {
      "needs_background": "light"
     },
     "output_type": "display_data"
    }
   ],
   "source": [
    "# Вывод информации для второго датафрейма\n",
    "information(df_2)"
   ]
  },
  {
   "cell_type": "code",
   "execution_count": 8,
   "metadata": {},
   "outputs": [
    {
     "name": "stdout",
     "output_type": "stream",
     "text": [
      "<class 'pandas.core.frame.DataFrame'>\n",
      "RangeIndex: 100000 entries, 0 to 99999\n",
      "Data columns (total 5 columns):\n",
      " #   Column   Non-Null Count   Dtype  \n",
      "---  ------   --------------   -----  \n",
      " 0   id       100000 non-null  object \n",
      " 1   f0       100000 non-null  float64\n",
      " 2   f1       100000 non-null  float64\n",
      " 3   f2       100000 non-null  float64\n",
      " 4   product  100000 non-null  float64\n",
      "dtypes: float64(4), object(1)\n",
      "memory usage: 3.8+ MB\n",
      "\n",
      "Количество пропущенных значений:\n",
      " id         0\n",
      "f0         0\n",
      "f1         0\n",
      "f2         0\n",
      "product    0\n",
      "dtype: int64\n",
      "\n",
      "Количество дубликатов в датафрейме: 0\n"
     ]
    },
    {
     "data": {
      "image/png": "[encoded data removed]",
      "text/plain": [
       "<Figure size 432x288 with 4 Axes>"
      ]
     },
     "metadata": {
      "needs_background": "light"
     },
     "output_type": "display_data"
    }
   ],
   "source": [
    "# Вывод информации для третьего датафрейма\n",
    "information(df_3)"
   ]
  },
  {
   "cell_type": "markdown",
   "metadata": {},
   "source": [
    "**Вывод:** В таблицах отсутствуют пропущенные значения и дупликаты, дополниельной предобработки не требуется. Данные можно делить на выборки."
   ]
  },
  {
   "cell_type": "markdown",
   "metadata": {},
   "source": [
    "## Обучение и проверка модели"
   ]
  },
  {
   "cell_type": "code",
   "execution_count": 9,
   "metadata": {},
   "outputs": [],
   "source": [
    "# Создадим функцию, которая разделит все датафреймы на обучающие и валидационные выборки\n",
    "def fragmentation(df):\n",
    "# Создадим переменные features и target, в котором сохраним необходимые значения, а также уберем лишние столбцы\n",
    "    features = df.drop(['product','id'], axis=1)\n",
    "    target = df['product']\n",
    "    \n",
    "# Разделим данные на обучающую и валидационные выборки\n",
    "    features_train, features_valid, target_train, target_valid = train_test_split(features, \n",
    "                                                                                  target, \n",
    "                                                                                  test_size=0.25, \n",
    "                                                                                  random_state=965)\n",
    "    \n",
    "    scaler = MinMaxScaler()\n",
    "    features_train = scaler.fit_transform(features_train)\n",
    "    features_valid = scaler.transform(features_valid)\n",
    "# Предскажем значения на линейной модели\n",
    "    model_lir = LinearRegression(normalize=False)\n",
    "    model_lir.fit(features_train, target_train)\n",
    "    predictions_valid = model_lir.predict(features_valid)\n",
    "    \n",
    "# посчитаем значение метрики RMSE на валидационной выборке\n",
    "    rmse = mean_squared_error(predictions_valid, target_valid)**0.5\n",
    "    \n",
    "   \n",
    "    print(\"Значение RMSE:\", rmse)\n",
    "    print(\"Средний запас предсказанного сырья:\", pd.Series(predictions_valid).mean())\n",
    "    return (predictions_valid, target_valid, rmse)"
   ]
  },
  {
   "cell_type": "code",
   "execution_count": 10,
   "metadata": {},
   "outputs": [
    {
     "name": "stdout",
     "output_type": "stream",
     "text": [
      "Значение RMSE: 37.53072453087932\n",
      "Средний запас предсказанного сырья: 92.18600823266576\n"
     ]
    }
   ],
   "source": [
    "# Полученные значения для первого региона\n",
    "fragmentation(df_1);"
   ]
  },
  {
   "cell_type": "code",
   "execution_count": 11,
   "metadata": {},
   "outputs": [
    {
     "name": "stdout",
     "output_type": "stream",
     "text": [
      "Значение RMSE: 0.8949337294995479\n",
      "Средний запас предсказанного сырья: 68.52989190223066\n"
     ]
    }
   ],
   "source": [
    "# Полученные значения для второго региона\n",
    "fragmentation(df_2);"
   ]
  },
  {
   "cell_type": "code",
   "execution_count": 12,
   "metadata": {},
   "outputs": [
    {
     "name": "stdout",
     "output_type": "stream",
     "text": [
      "Значение RMSE: 39.91048566221276\n",
      "Средний запас предсказанного сырья: 95.12818771117546\n"
     ]
    }
   ],
   "source": [
    "# Полученные значения для третьего региона\n",
    "fragmentation(df_3);"
   ]
  },
  {
   "cell_type": "markdown",
   "metadata": {},
   "source": [
    "**Вывод:** Наибольшее значение RMSE и среднего запаса предсказанного сырья показывает третий регион (RMSE=39,9) (запас предсказанного сырья = 95,12), наименьшие показатели имеет второй регион (RMSE=0,89) (запас предсказанного сырья = 68,5)"
   ]
  },
  {
   "cell_type": "markdown",
   "metadata": {},
   "source": [
    "## Подготовка к расчёту прибыли"
   ]
  },
  {
   "cell_type": "code",
   "execution_count": 13,
   "metadata": {},
   "outputs": [
    {
     "name": "stdout",
     "output_type": "stream",
     "text": [
      "Значение RMSE: 37.53072453087932\n",
      "Средний запас предсказанного сырья: 92.18600823266576\n",
      "Значение RMSE: 0.8949337294995479\n",
      "Средний запас предсказанного сырья: 68.52989190223066\n",
      "Значение RMSE: 39.91048566221276\n",
      "Средний запас предсказанного сырья: 95.12818771117546\n"
     ]
    }
   ],
   "source": [
    "# Сохраним необходимые значения в отдельные переменные\n",
    "predictions_df1, validation_df1, rmse_df1 = fragmentation(df_1)\n",
    "predictions_df2, validation_df2, rmse_df2 = fragmentation(df_2)\n",
    "predictions_df3, validation_df3, rmse_df3 = fragmentation(df_3)"
   ]
  },
  {
   "cell_type": "code",
   "execution_count": 14,
   "metadata": {},
   "outputs": [
    {
     "name": "stdout",
     "output_type": "stream",
     "text": [
      "[ 84.72994381  94.24550382  88.87932703 ...  90.79866582 110.77803807\n",
      "  58.39268517]\n",
      "41545     26.953261\n",
      "73185      0.000000\n",
      "63507     26.953261\n",
      "74025    107.813044\n",
      "46511    107.813044\n",
      "            ...    \n",
      "33292     84.038886\n",
      "65955     84.038886\n",
      "20982    110.992147\n",
      "92459      3.179103\n",
      "3763      57.085625\n",
      "Name: product, Length: 25000, dtype: float64\n",
      "39.91048566221276\n"
     ]
    }
   ],
   "source": [
    "# Выведем несколько элементов\n",
    "print(predictions_df1)\n",
    "print(validation_df2)\n",
    "print(rmse_df3)"
   ]
  },
  {
   "cell_type": "markdown",
   "metadata": {},
   "source": [
    "Теперь необходимо рассчитать достаточный объём сырья для безубыточной разработки новой скважины.\n",
    "Определимся с характеристиками:\n",
    "* Бюджет на разработку скважин в регионе составлет 10 млрд рублей, с помощью машинного обучения выбираются 200 наилучших скважин и для того, чтобы получить средний объем в скважине нужно разделить бюджет на 200.\n",
    "* Цена одного барреля сырья составляет 450 рублей, объем указывается в тысячах баррелей, следовательно цена будет составлять 450 тыс. рублей.\n",
    "Для расчета безубыточной разработки новой скважины поделим величину бюджета на стоимость одной тысячи бареллей"
   ]
  },
  {
   "cell_type": "code",
   "execution_count": 15,
   "metadata": {},
   "outputs": [
    {
     "name": "stdout",
     "output_type": "stream",
     "text": [
      "Достаточный объём сырья для безубыточной разработки: 22222.222222222223\n"
     ]
    }
   ],
   "source": [
    "# Бюджет на разработку скважин \n",
    "budget = (10**10)\n",
    "# Цена 1000 барралей\n",
    "price_barrels = 450 * 1000\n",
    "\n",
    "volum = budget / price_barrels\n",
    "print(\"Достаточный объём сырья для безубыточной разработки:\", volum)"
   ]
  },
  {
   "cell_type": "code",
   "execution_count": 16,
   "metadata": {},
   "outputs": [
    {
     "name": "stdout",
     "output_type": "stream",
     "text": [
      "Средний объем в скважине для безубыточного функционирования 111.11111111111111\n"
     ]
    }
   ],
   "source": [
    "# Теперь рассчитаем средний объем в скважине для безубыточного функционирования \n",
    "average_volume = volum / 200\n",
    "print(\"Средний объем в скважине для безубыточного функционирования\", average_volume)"
   ]
  },
  {
   "cell_type": "markdown",
   "metadata": {},
   "source": [
    "**Вывод:** В ходе приведенных решений стоит отметить, что запас сырья в скважинах намного меньше, чем достаточный сырья для безубыточной разработки."
   ]
  },
  {
   "cell_type": "markdown",
   "metadata": {},
   "source": [
    "## Расчёт прибыли и рисков "
   ]
  },
  {
   "cell_type": "markdown",
   "metadata": {},
   "source": [
    "Напишем функцию. На вход данная функция будет получать:\n",
    "* Список ответов target\n",
    "* Средний запас предсказанного сырья predictions"
   ]
  },
  {
   "cell_type": "code",
   "execution_count": 17,
   "metadata": {},
   "outputs": [],
   "source": [
    "top_points = 200\n",
    "points = 500"
   ]
  },
  {
   "cell_type": "code",
   "execution_count": 18,
   "metadata": {},
   "outputs": [],
   "source": [
    "# Функция для предсказания прибыли \n",
    "def profit_bore(target, predictions):\n",
    "    target = target.reset_index(drop=True)\n",
    "    predictions = pd.Series(predictions, index=target.index)\n",
    "    top_predictions = predictions.sort_values(ascending=False)\n",
    "    # Выбираем 200 наилучших точек\n",
    "    top_fields = target[top_predictions.index][:top_points]\n",
    "    # Считаем полученный доход \n",
    "    revenue = top_fields.sum() * price_barrels\n",
    "    \n",
    "    return (revenue - budget) / 10**9"
   ]
  },
  {
   "cell_type": "code",
   "execution_count": 27,
   "metadata": {},
   "outputs": [],
   "source": [
    "def predictions_region(target, predictions):\n",
    "    values = []\n",
    "    state = RandomState(965)\n",
    "    for i in range(1000):\n",
    "        target_sample = target.reset_index(drop=True).sample(n=points, replace=True, random_state=state)\n",
    "        probs_sample = predictions[target_sample.index]\n",
    "        res = profit_bore(target_sample, probs_sample)\n",
    "        values.append(res)\n",
    "    values = pd.Series(values)\n",
    "    lower = values.quantile(0.025)\n",
    "    higher = values.quantile(0.975)\n",
    "    mean_revenue = values.mean()\n",
    "    interval = values.quantile(0), values.quantile(1)\n",
    "    risk = (values < 0).mean()\n",
    "    print(f'\\nДоверительный интервал: {interval} млрд.рублей')\n",
    "    print(f'\\n95,7% квантиль: {higher} млрд.рублей')\n",
    "    print(f'\\n2,5% квантиль: {lower} млрд.рублей')\n",
    "    print(f'\\nсредняя прибыль: {mean_revenue} млрд.рублей')\n",
    "    print(f'\\nриск убытков: {risk: .1%}')"
   ]
  },
  {
   "cell_type": "code",
   "execution_count": 28,
   "metadata": {},
   "outputs": [
    {
     "name": "stdout",
     "output_type": "stream",
     "text": [
      " Прибиль от добычи сырья в 1-ом регионе: 3.303133141604578 млрд.руб.\n",
      " Прибиль от добычи сырья в 2-ом регионе: 2.4150866966815108 млрд.руб.\n",
      " Прибиль от добычи сырья в 3-ом регионе: 2.56530799298164 млрд.руб.\n"
     ]
    }
   ],
   "source": [
    "# Получаем значения рассчитанной прибыли и сохраняем их в отдельные переменные\n",
    "profit_region_1 = profit_bore(validation_df1, predictions_df1)\n",
    "profit_region_2 = profit_bore(validation_df2, predictions_df2)\n",
    "profit_region_3 = profit_bore(validation_df3, predictions_df3)\n",
    "\n",
    "# Выведем полученные значения с помощью функции\n",
    "i = 1\n",
    "for profit_region in [profit_region_1,\n",
    "                      profit_region_2, \n",
    "                      profit_region_3]:\n",
    "    print(f' Прибиль от добычи сырья в {i}-ом регионе: {profit_region} млрд.руб.')\n",
    "    i+=1\n"
   ]
  },
  {
   "cell_type": "markdown",
   "metadata": {},
   "source": [
    "**Вывод:** Наибольшая прибыль от добычи сырья будет в первом регионе, а наименьшая, во втором"
   ]
  },
  {
   "cell_type": "code",
   "execution_count": 36,
   "metadata": {},
   "outputs": [
    {
     "name": "stdout",
     "output_type": "stream",
     "text": [
      "\n",
      "Доверительный интервал: (-0.3009635994465427, 1.2492274553363076) млрд.рублей\n",
      "\n",
      "95,7% квантиль: 0.9558072070352975 млрд.рублей\n",
      "\n",
      "2,5% квантиль: -0.034471715989000354 млрд.рублей\n",
      "\n",
      "средняя прибыль: 0.46367571033343224 млрд.рублей\n",
      "\n",
      "риск убытков:  3.6%\n"
     ]
    }
   ],
   "source": [
    "predictions_region_1 = predictions_region(validation_df1, predictions_df1)"
   ]
  },
  {
   "cell_type": "code",
   "execution_count": 33,
   "metadata": {},
   "outputs": [
    {
     "name": "stdout",
     "output_type": "stream",
     "text": [
      "\n",
      "Доверительный интервал: (-0.15656540489312362, 0.9949401062074031) млрд.рублей\n",
      "\n",
      "95,7% квантиль: 0.8316391092603347 млрд.рублей\n",
      "\n",
      "2,5% квантиль: 0.01362111358361694 млрд.рублей\n",
      "\n",
      "средняя прибыль: 0.41068413586690866 млрд.рублей\n",
      "\n",
      "риск убытков:  2.1%\n"
     ]
    }
   ],
   "source": [
    "predictions_region_2 = predictions_region(validation_df2, predictions_df2)"
   ]
  },
  {
   "cell_type": "code",
   "execution_count": 35,
   "metadata": {},
   "outputs": [
    {
     "name": "stdout",
     "output_type": "stream",
     "text": [
      "\n",
      "Доверительный интервал: (-0.3810998155359497, 1.132481745561056) млрд.рублей\n",
      "\n",
      "95,7% квантиль: 0.8703333685021478 млрд.рублей\n",
      "\n",
      "2,5% квантиль: -0.136601896024789 млрд.рублей\n",
      "\n",
      "средняя прибыль: 0.3626701961267375 млрд.рублей\n",
      "\n",
      "риск убытков:  9.3%\n"
     ]
    }
   ],
   "source": [
    "predictions_region_3 = predictions_region(validation_df3, predictions_df3)"
   ]
  },
  {
   "cell_type": "markdown",
   "metadata": {},
   "source": [
    "**Вывод:** С помощью процедуры бутстрэпа найден 95% доверительный интервал для среднего объема нефти в скважинах. Наиболее перспективным для разработки представляется регион № 2, поскольку риски убытков для данного регина незначительны."
   ]
  },
  {
   "cell_type": "markdown",
   "metadata": {},
   "source": [
    "## Чек-лист готовности проекта"
   ]
  },
  {
   "cell_type": "markdown",
   "metadata": {},
   "source": [
    "Поставьте 'x' в выполненных пунктах. Далее нажмите Shift+Enter."
   ]
  },
  {
   "cell_type": "markdown",
   "metadata": {},
   "source": [
    "- [x]  Jupyter Notebook открыт\n",
    "- [X]  Весь код выполняется без ошибок\n",
    "- [X]  Ячейки с кодом расположены в порядке исполнения\n",
    "- [X]  Выполнен шаг 1: данные подготовлены\n",
    "- [X]  Выполнен шаг 2: модели обучены и проверены\n",
    "    - [X]  Данные корректно разбиты на обучающую и валидационную выборки\n",
    "    - [X]  Модели обучены, предсказания сделаны\n",
    "    - [X]  Предсказания и правильные ответы на валидационной выборке сохранены\n",
    "    - [X]  На экране напечатаны результаты\n",
    "    - [X]  Сделаны выводы\n",
    "- [X]  Выполнен шаг 3: проведена подготовка к расчёту прибыли\n",
    "    - [X]  Для всех ключевых значений созданы константы Python\n",
    "    - [X]  Посчитано минимальное среднее количество продукта в месторождениях региона, достаточное для разработки\n",
    "    - [X]  По предыдущему пункту сделаны выводы\n",
    "    - [X]  Написана функция расчёта прибыли\n",
    "- [X]  Выполнен шаг 4: посчитаны риски и прибыль\n",
    "    - [X]  Проведена процедура *Bootstrap*\n",
    "    - [X]  Все параметры бутстрепа соответствуют условию\n",
    "    - [X]  Найдены все нужные величины\n",
    "    - [X]  Предложен регион для разработки месторождения\n",
    "    - [X]  Выбор региона обоснован"
   ]
  },
  {
   "cell_type": "code",
   "execution_count": null,
   "metadata": {},
   "outputs": [],
   "source": []
  }
 ],
 "metadata": {
  "ExecuteTimeLog": [
   {
    "duration": 402,
    "start_time": "2022-12-20T10:27:05.338Z"
   },
   {
    "duration": 48,
    "start_time": "2022-12-20T10:29:10.015Z"
   },
   {
    "duration": 70,
    "start_time": "2022-12-20T10:29:22.638Z"
   },
   {
    "duration": 856,
    "start_time": "2022-12-20T10:42:48.135Z"
   },
   {
    "duration": 46,
    "start_time": "2022-12-20T12:40:37.373Z"
   },
   {
    "duration": 493,
    "start_time": "2022-12-20T12:40:55.441Z"
   },
   {
    "duration": 3028,
    "start_time": "2022-12-20T12:41:02.477Z"
   },
   {
    "duration": 713,
    "start_time": "2022-12-20T12:45:08.067Z"
   },
   {
    "duration": 760,
    "start_time": "2022-12-20T12:45:35.647Z"
   },
   {
    "duration": 33,
    "start_time": "2022-12-20T12:46:04.244Z"
   },
   {
    "duration": 358,
    "start_time": "2022-12-20T12:46:32.706Z"
   },
   {
    "duration": 1057,
    "start_time": "2022-12-20T12:47:00.874Z"
   },
   {
    "duration": 1055,
    "start_time": "2022-12-20T12:47:51.942Z"
   },
   {
    "duration": 962,
    "start_time": "2022-12-20T12:48:07.139Z"
   },
   {
    "duration": 49,
    "start_time": "2022-12-21T07:03:00.887Z"
   },
   {
    "duration": 423,
    "start_time": "2022-12-21T07:03:06.602Z"
   },
   {
    "duration": 1699,
    "start_time": "2022-12-21T07:03:07.027Z"
   },
   {
    "duration": 1553,
    "start_time": "2022-12-21T07:03:08.728Z"
   },
   {
    "duration": 51,
    "start_time": "2022-12-21T07:03:13.100Z"
   },
   {
    "duration": 19,
    "start_time": "2022-12-21T07:03:22.067Z"
   },
   {
    "duration": 4,
    "start_time": "2022-12-21T07:11:47.456Z"
   },
   {
    "duration": 4,
    "start_time": "2022-12-21T07:12:30.581Z"
   },
   {
    "duration": 390,
    "start_time": "2022-12-21T07:13:06.856Z"
   },
   {
    "duration": 3,
    "start_time": "2022-12-21T07:13:28.494Z"
   },
   {
    "duration": 406,
    "start_time": "2022-12-21T07:13:31.249Z"
   },
   {
    "duration": 3,
    "start_time": "2022-12-21T07:13:52.778Z"
   },
   {
    "duration": 386,
    "start_time": "2022-12-21T07:13:55.904Z"
   },
   {
    "duration": 3,
    "start_time": "2022-12-21T07:14:10.194Z"
   },
   {
    "duration": 359,
    "start_time": "2022-12-21T07:14:13.172Z"
   },
   {
    "duration": 500,
    "start_time": "2022-12-21T07:16:25.745Z"
   },
   {
    "duration": 4,
    "start_time": "2022-12-21T07:16:47.975Z"
   },
   {
    "duration": 390,
    "start_time": "2022-12-21T07:16:51.948Z"
   },
   {
    "duration": 3,
    "start_time": "2022-12-21T07:17:18.470Z"
   },
   {
    "duration": 384,
    "start_time": "2022-12-21T07:17:23.212Z"
   },
   {
    "duration": 486,
    "start_time": "2022-12-21T07:17:36.416Z"
   },
   {
    "duration": 3,
    "start_time": "2022-12-21T07:18:10.989Z"
   },
   {
    "duration": 383,
    "start_time": "2022-12-21T07:18:13.091Z"
   },
   {
    "duration": 377,
    "start_time": "2022-12-21T07:18:18.255Z"
   },
   {
    "duration": 469,
    "start_time": "2022-12-21T07:19:01.537Z"
   },
   {
    "duration": 10,
    "start_time": "2022-12-21T07:38:38.345Z"
   },
   {
    "duration": 1708754,
    "start_time": "2022-12-21T07:38:55.444Z"
   },
   {
    "duration": 10,
    "start_time": "2022-12-21T13:17:58.469Z"
   },
   {
    "duration": 68,
    "start_time": "2022-12-21T13:18:10.237Z"
   },
   {
    "duration": 982,
    "start_time": "2022-12-21T13:18:16.164Z"
   },
   {
    "duration": 1170,
    "start_time": "2022-12-21T13:18:17.149Z"
   },
   {
    "duration": 4,
    "start_time": "2022-12-21T13:18:18.321Z"
   },
   {
    "duration": 526,
    "start_time": "2022-12-21T13:18:18.327Z"
   },
   {
    "duration": 546,
    "start_time": "2022-12-21T13:18:18.855Z"
   },
   {
    "duration": 546,
    "start_time": "2022-12-21T13:18:19.403Z"
   },
   {
    "duration": 4,
    "start_time": "2022-12-21T13:18:19.951Z"
   },
   {
    "duration": 62,
    "start_time": "2022-12-21T13:18:22.419Z"
   },
   {
    "duration": 4,
    "start_time": "2022-12-21T13:18:51.714Z"
   },
   {
    "duration": 16,
    "start_time": "2022-12-21T13:18:54.279Z"
   },
   {
    "duration": 4,
    "start_time": "2022-12-21T13:19:09.263Z"
   },
   {
    "duration": 15,
    "start_time": "2022-12-21T13:19:13.953Z"
   },
   {
    "duration": 798,
    "start_time": "2022-12-21T13:19:46.230Z"
   },
   {
    "duration": 4,
    "start_time": "2022-12-21T13:19:50.945Z"
   },
   {
    "duration": 37,
    "start_time": "2022-12-21T13:19:53.727Z"
   },
   {
    "duration": 5,
    "start_time": "2022-12-21T13:22:26.251Z"
   },
   {
    "duration": 38,
    "start_time": "2022-12-21T13:22:28.830Z"
   },
   {
    "duration": 4,
    "start_time": "2022-12-21T13:29:37.775Z"
   },
   {
    "duration": 38,
    "start_time": "2022-12-21T13:29:40.447Z"
   },
   {
    "duration": 4,
    "start_time": "2022-12-21T13:29:52.571Z"
   },
   {
    "duration": 46,
    "start_time": "2022-12-21T13:29:56.373Z"
   },
   {
    "duration": 6,
    "start_time": "2022-12-21T13:30:21.598Z"
   },
   {
    "duration": 37,
    "start_time": "2022-12-21T13:30:23.734Z"
   },
   {
    "duration": 6,
    "start_time": "2022-12-21T13:36:10.571Z"
   },
   {
    "duration": 86,
    "start_time": "2022-12-21T13:36:27.772Z"
   },
   {
    "duration": 4571,
    "start_time": "2022-12-21T13:36:31.576Z"
   },
   {
    "duration": 1119,
    "start_time": "2022-12-21T13:36:36.150Z"
   },
   {
    "duration": 5,
    "start_time": "2022-12-21T13:36:37.271Z"
   },
   {
    "duration": 822,
    "start_time": "2022-12-21T13:36:37.278Z"
   },
   {
    "duration": 644,
    "start_time": "2022-12-21T13:36:38.104Z"
   },
   {
    "duration": 644,
    "start_time": "2022-12-21T13:36:38.752Z"
   },
   {
    "duration": 10,
    "start_time": "2022-12-21T13:36:39.408Z"
   },
   {
    "duration": 5070,
    "start_time": "2022-12-21T13:37:24.651Z"
   },
   {
    "duration": 1045,
    "start_time": "2022-12-21T13:37:29.723Z"
   },
   {
    "duration": 5,
    "start_time": "2022-12-21T13:37:30.770Z"
   },
   {
    "duration": 796,
    "start_time": "2022-12-21T13:37:30.777Z"
   },
   {
    "duration": 674,
    "start_time": "2022-12-21T13:37:31.577Z"
   },
   {
    "duration": 633,
    "start_time": "2022-12-21T13:37:32.254Z"
   },
   {
    "duration": 168,
    "start_time": "2022-12-21T13:37:45.186Z"
   },
   {
    "duration": 6,
    "start_time": "2022-12-21T13:37:51.962Z"
   },
   {
    "duration": 66,
    "start_time": "2022-12-21T13:38:16.296Z"
   },
   {
    "duration": 3053,
    "start_time": "2022-12-21T13:38:20.433Z"
   },
   {
    "duration": 1014,
    "start_time": "2022-12-21T13:38:23.489Z"
   },
   {
    "duration": 4,
    "start_time": "2022-12-21T13:38:24.505Z"
   },
   {
    "duration": 493,
    "start_time": "2022-12-21T13:38:24.512Z"
   },
   {
    "duration": 457,
    "start_time": "2022-12-21T13:38:25.006Z"
   },
   {
    "duration": 464,
    "start_time": "2022-12-21T13:38:25.465Z"
   },
   {
    "duration": 8,
    "start_time": "2022-12-21T13:38:25.931Z"
   },
   {
    "duration": 15,
    "start_time": "2022-12-21T13:39:01.059Z"
   },
   {
    "duration": 3327,
    "start_time": "2022-12-21T13:39:08.684Z"
   },
   {
    "duration": 1015,
    "start_time": "2022-12-21T13:39:12.014Z"
   },
   {
    "duration": 4,
    "start_time": "2022-12-21T13:39:13.033Z"
   },
   {
    "duration": 615,
    "start_time": "2022-12-21T13:39:13.040Z"
   },
   {
    "duration": 696,
    "start_time": "2022-12-21T13:39:13.658Z"
   },
   {
    "duration": 651,
    "start_time": "2022-12-21T13:39:14.357Z"
   },
   {
    "duration": 5,
    "start_time": "2022-12-21T13:39:19.068Z"
   },
   {
    "duration": 57,
    "start_time": "2022-12-21T13:39:20.306Z"
   },
   {
    "duration": 5,
    "start_time": "2022-12-21T13:39:47.684Z"
   },
   {
    "duration": 9,
    "start_time": "2022-12-21T13:40:11.348Z"
   },
   {
    "duration": 2901,
    "start_time": "2022-12-21T13:40:14.663Z"
   },
   {
    "duration": 920,
    "start_time": "2022-12-21T13:40:17.567Z"
   },
   {
    "duration": 4,
    "start_time": "2022-12-21T13:40:18.490Z"
   },
   {
    "duration": 481,
    "start_time": "2022-12-21T13:40:18.497Z"
   },
   {
    "duration": 523,
    "start_time": "2022-12-21T13:40:18.980Z"
   },
   {
    "duration": 490,
    "start_time": "2022-12-21T13:40:19.506Z"
   },
   {
    "duration": 36,
    "start_time": "2022-12-21T13:40:46.427Z"
   },
   {
    "duration": 9,
    "start_time": "2022-12-21T14:03:45.610Z"
   },
   {
    "duration": 2832,
    "start_time": "2022-12-21T14:03:50.752Z"
   },
   {
    "duration": 890,
    "start_time": "2022-12-21T14:03:53.586Z"
   },
   {
    "duration": 5,
    "start_time": "2022-12-21T14:03:54.479Z"
   },
   {
    "duration": 493,
    "start_time": "2022-12-21T14:03:54.485Z"
   },
   {
    "duration": 454,
    "start_time": "2022-12-21T14:03:54.984Z"
   },
   {
    "duration": 440,
    "start_time": "2022-12-21T14:03:55.440Z"
   },
   {
    "duration": 6,
    "start_time": "2022-12-21T14:03:59.751Z"
   },
   {
    "duration": 45,
    "start_time": "2022-12-21T14:04:01.706Z"
   },
   {
    "duration": 4,
    "start_time": "2022-12-21T14:06:49.018Z"
   },
   {
    "duration": 4,
    "start_time": "2022-12-21T14:06:51.622Z"
   },
   {
    "duration": 31,
    "start_time": "2022-12-21T14:06:52.687Z"
   },
   {
    "duration": 6,
    "start_time": "2022-12-21T14:08:15.897Z"
   },
   {
    "duration": 42,
    "start_time": "2022-12-21T14:08:18.161Z"
   },
   {
    "duration": 4,
    "start_time": "2022-12-21T14:08:50.494Z"
   },
   {
    "duration": 39,
    "start_time": "2022-12-21T14:08:52.982Z"
   },
   {
    "duration": 4,
    "start_time": "2022-12-21T14:11:54.077Z"
   },
   {
    "duration": 19,
    "start_time": "2022-12-21T14:11:57.594Z"
   },
   {
    "duration": 4,
    "start_time": "2022-12-21T14:12:37.744Z"
   },
   {
    "duration": 130,
    "start_time": "2022-12-21T14:12:39.298Z"
   },
   {
    "duration": 4,
    "start_time": "2022-12-21T14:13:15.525Z"
   },
   {
    "duration": 113,
    "start_time": "2022-12-21T14:13:18.197Z"
   },
   {
    "duration": 5,
    "start_time": "2022-12-21T14:13:29.718Z"
   },
   {
    "duration": 17,
    "start_time": "2022-12-21T14:13:33.010Z"
   },
   {
    "duration": 5,
    "start_time": "2022-12-21T14:13:52.128Z"
   },
   {
    "duration": 15,
    "start_time": "2022-12-21T14:13:55.018Z"
   },
   {
    "duration": 3,
    "start_time": "2022-12-21T14:14:24.194Z"
   },
   {
    "duration": 14,
    "start_time": "2022-12-21T14:14:26.635Z"
   },
   {
    "duration": 5,
    "start_time": "2022-12-21T14:16:06.851Z"
   },
   {
    "duration": 16,
    "start_time": "2022-12-21T14:16:09.251Z"
   },
   {
    "duration": 6,
    "start_time": "2022-12-21T14:16:36.020Z"
   },
   {
    "duration": 16,
    "start_time": "2022-12-21T14:16:38.181Z"
   },
   {
    "duration": 16,
    "start_time": "2022-12-21T14:25:18.493Z"
   },
   {
    "duration": 18,
    "start_time": "2022-12-21T14:25:26.607Z"
   },
   {
    "duration": 8,
    "start_time": "2022-12-21T14:28:45.886Z"
   },
   {
    "duration": 13,
    "start_time": "2022-12-21T14:28:48.570Z"
   },
   {
    "duration": 24,
    "start_time": "2022-12-21T14:28:50.192Z"
   },
   {
    "duration": 12,
    "start_time": "2022-12-21T14:28:51.372Z"
   },
   {
    "duration": 4,
    "start_time": "2022-12-21T14:33:50.059Z"
   },
   {
    "duration": 6,
    "start_time": "2022-12-21T16:42:17.597Z"
   },
   {
    "duration": 21,
    "start_time": "2022-12-21T16:42:21.198Z"
   },
   {
    "duration": 136,
    "start_time": "2022-12-21T16:42:57.898Z"
   },
   {
    "duration": 5,
    "start_time": "2022-12-21T16:43:02.791Z"
   },
   {
    "duration": 48,
    "start_time": "2022-12-21T16:43:04.234Z"
   },
   {
    "duration": 8,
    "start_time": "2022-12-21T16:46:06.780Z"
   },
   {
    "duration": 38,
    "start_time": "2022-12-21T16:46:09.435Z"
   },
   {
    "duration": 8,
    "start_time": "2022-12-21T16:46:30.826Z"
   },
   {
    "duration": 39,
    "start_time": "2022-12-21T16:46:36.466Z"
   },
   {
    "duration": 8,
    "start_time": "2022-12-21T16:47:37.887Z"
   },
   {
    "duration": 33,
    "start_time": "2022-12-21T16:47:40.465Z"
   },
   {
    "duration": 5,
    "start_time": "2022-12-21T16:48:17.340Z"
   },
   {
    "duration": 6,
    "start_time": "2022-12-21T16:48:21.236Z"
   },
   {
    "duration": 54,
    "start_time": "2022-12-21T16:48:22.228Z"
   },
   {
    "duration": 8,
    "start_time": "2022-12-21T16:49:01.854Z"
   },
   {
    "duration": 49,
    "start_time": "2022-12-21T16:49:05.889Z"
   },
   {
    "duration": 9,
    "start_time": "2022-12-21T16:50:27.570Z"
   },
   {
    "duration": 6,
    "start_time": "2022-12-21T16:50:28.910Z"
   },
   {
    "duration": 42,
    "start_time": "2022-12-21T16:50:31.295Z"
   },
   {
    "duration": 11,
    "start_time": "2022-12-21T16:51:05.947Z"
   },
   {
    "duration": 38,
    "start_time": "2022-12-21T16:51:09.191Z"
   },
   {
    "duration": 6,
    "start_time": "2022-12-21T16:52:08.015Z"
   },
   {
    "duration": 43,
    "start_time": "2022-12-21T16:52:11.197Z"
   },
   {
    "duration": 6,
    "start_time": "2022-12-21T16:52:22.616Z"
   },
   {
    "duration": 469,
    "start_time": "2022-12-21T16:52:22.625Z"
   },
   {
    "duration": 8,
    "start_time": "2022-12-21T16:52:23.097Z"
   },
   {
    "duration": 443,
    "start_time": "2022-12-21T16:52:23.114Z"
   },
   {
    "duration": 443,
    "start_time": "2022-12-21T16:52:23.559Z"
   },
   {
    "duration": 443,
    "start_time": "2022-12-21T16:52:24.004Z"
   },
   {
    "duration": 10,
    "start_time": "2022-12-21T16:52:30.878Z"
   },
   {
    "duration": 33,
    "start_time": "2022-12-21T16:52:35.058Z"
   },
   {
    "duration": 5,
    "start_time": "2022-12-21T16:52:54.881Z"
   },
   {
    "duration": 28,
    "start_time": "2022-12-21T16:52:57.762Z"
   },
   {
    "duration": 10,
    "start_time": "2022-12-21T16:53:51.744Z"
   },
   {
    "duration": 51,
    "start_time": "2022-12-21T16:53:54.354Z"
   },
   {
    "duration": 5,
    "start_time": "2022-12-21T16:54:21.691Z"
   },
   {
    "duration": 34,
    "start_time": "2022-12-21T16:54:24.239Z"
   },
   {
    "duration": 56,
    "start_time": "2022-12-21T16:54:27.386Z"
   },
   {
    "duration": 9,
    "start_time": "2022-12-21T16:55:34.551Z"
   },
   {
    "duration": 45,
    "start_time": "2022-12-21T16:55:37.542Z"
   },
   {
    "duration": 31,
    "start_time": "2022-12-21T16:55:41.383Z"
   },
   {
    "duration": 45,
    "start_time": "2022-12-21T16:55:42.825Z"
   },
   {
    "duration": 31,
    "start_time": "2022-12-21T17:16:59.742Z"
   },
   {
    "duration": 5,
    "start_time": "2022-12-21T17:18:08.797Z"
   },
   {
    "duration": 39,
    "start_time": "2022-12-21T17:18:12.810Z"
   },
   {
    "duration": 47,
    "start_time": "2022-12-21T17:18:52.448Z"
   },
   {
    "duration": 16,
    "start_time": "2022-12-21T17:30:36.584Z"
   },
   {
    "duration": 35,
    "start_time": "2022-12-21T17:30:38.196Z"
   },
   {
    "duration": 1632,
    "start_time": "2022-12-22T06:02:00.864Z"
   },
   {
    "duration": 1705,
    "start_time": "2022-12-22T06:02:02.498Z"
   },
   {
    "duration": 3,
    "start_time": "2022-12-22T06:02:04.205Z"
   },
   {
    "duration": 451,
    "start_time": "2022-12-22T06:02:04.210Z"
   },
   {
    "duration": 483,
    "start_time": "2022-12-22T06:02:04.664Z"
   },
   {
    "duration": 451,
    "start_time": "2022-12-22T06:02:05.149Z"
   },
   {
    "duration": 5,
    "start_time": "2022-12-22T06:02:11.496Z"
   },
   {
    "duration": 148,
    "start_time": "2022-12-22T06:04:40.981Z"
   },
   {
    "duration": 10,
    "start_time": "2022-12-22T06:05:03.544Z"
   },
   {
    "duration": 7,
    "start_time": "2022-12-22T06:05:24.333Z"
   },
   {
    "duration": 32,
    "start_time": "2022-12-22T06:05:26.766Z"
   },
   {
    "duration": 5,
    "start_time": "2022-12-22T06:05:50.866Z"
   },
   {
    "duration": 44,
    "start_time": "2022-12-22T06:05:52.953Z"
   },
   {
    "duration": 6,
    "start_time": "2022-12-22T06:06:31.601Z"
   },
   {
    "duration": 42,
    "start_time": "2022-12-22T06:06:34.150Z"
   },
   {
    "duration": 4,
    "start_time": "2022-12-22T06:07:52.900Z"
   },
   {
    "duration": 7,
    "start_time": "2022-12-22T06:08:06.623Z"
   },
   {
    "duration": 169,
    "start_time": "2022-12-22T06:08:09.137Z"
   },
   {
    "duration": 5,
    "start_time": "2022-12-22T06:09:42.060Z"
   },
   {
    "duration": 67,
    "start_time": "2022-12-22T06:09:44.940Z"
   },
   {
    "duration": 5,
    "start_time": "2022-12-22T06:16:18.260Z"
   },
   {
    "duration": 35,
    "start_time": "2022-12-22T06:16:21.028Z"
   },
   {
    "duration": 4,
    "start_time": "2022-12-22T06:16:35.767Z"
   },
   {
    "duration": 86,
    "start_time": "2022-12-22T06:16:38.021Z"
   },
   {
    "duration": 4,
    "start_time": "2022-12-22T06:17:52.891Z"
   },
   {
    "duration": 4,
    "start_time": "2022-12-22T06:17:59.365Z"
   },
   {
    "duration": 24,
    "start_time": "2022-12-22T06:18:01.668Z"
   },
   {
    "duration": 31,
    "start_time": "2022-12-22T06:18:15.433Z"
   },
   {
    "duration": 30,
    "start_time": "2022-12-22T06:18:18.958Z"
   },
   {
    "duration": 5,
    "start_time": "2022-12-22T06:18:58.229Z"
   },
   {
    "duration": 21,
    "start_time": "2022-12-22T06:19:00.705Z"
   },
   {
    "duration": 21,
    "start_time": "2022-12-22T06:19:03.570Z"
   },
   {
    "duration": 19,
    "start_time": "2022-12-22T06:19:06.690Z"
   },
   {
    "duration": 6,
    "start_time": "2022-12-22T06:46:53.333Z"
   },
   {
    "duration": 120,
    "start_time": "2022-12-22T06:46:55.112Z"
   },
   {
    "duration": 71,
    "start_time": "2022-12-22T06:46:56.444Z"
   },
   {
    "duration": 34,
    "start_time": "2022-12-22T06:46:57.742Z"
   },
   {
    "duration": 7,
    "start_time": "2022-12-22T07:37:43.309Z"
   },
   {
    "duration": 23,
    "start_time": "2022-12-22T07:37:47.126Z"
   },
   {
    "duration": 21,
    "start_time": "2022-12-22T07:37:49.557Z"
   },
   {
    "duration": 23,
    "start_time": "2022-12-22T07:37:50.575Z"
   },
   {
    "duration": 5,
    "start_time": "2022-12-22T08:01:59.209Z"
   },
   {
    "duration": 41,
    "start_time": "2022-12-22T08:02:04.973Z"
   },
   {
    "duration": 4,
    "start_time": "2022-12-22T08:02:36.951Z"
   },
   {
    "duration": 91,
    "start_time": "2022-12-22T08:02:38.817Z"
   },
   {
    "duration": 4,
    "start_time": "2022-12-22T08:02:46.086Z"
   },
   {
    "duration": 25,
    "start_time": "2022-12-22T08:02:48.229Z"
   },
   {
    "duration": 5,
    "start_time": "2022-12-22T08:03:05.082Z"
   },
   {
    "duration": 26,
    "start_time": "2022-12-22T08:03:07.167Z"
   },
   {
    "duration": 24,
    "start_time": "2022-12-22T08:03:08.994Z"
   },
   {
    "duration": 25,
    "start_time": "2022-12-22T08:03:10.699Z"
   },
   {
    "duration": 5,
    "start_time": "2022-12-22T08:04:05.188Z"
   },
   {
    "duration": 29,
    "start_time": "2022-12-22T08:04:07.337Z"
   },
   {
    "duration": 26,
    "start_time": "2022-12-22T08:04:08.515Z"
   },
   {
    "duration": 93,
    "start_time": "2022-12-22T08:04:10.012Z"
   },
   {
    "duration": 12,
    "start_time": "2022-12-22T20:55:49.519Z"
   },
   {
    "duration": 70,
    "start_time": "2022-12-22T20:55:52.500Z"
   },
   {
    "duration": 1721,
    "start_time": "2022-12-22T20:55:58.148Z"
   },
   {
    "duration": 2626,
    "start_time": "2022-12-22T20:55:59.872Z"
   },
   {
    "duration": 7,
    "start_time": "2022-12-22T20:56:02.500Z"
   },
   {
    "duration": 595,
    "start_time": "2022-12-22T20:56:02.509Z"
   },
   {
    "duration": 577,
    "start_time": "2022-12-22T20:56:03.107Z"
   },
   {
    "duration": 533,
    "start_time": "2022-12-22T20:56:03.687Z"
   },
   {
    "duration": 7,
    "start_time": "2022-12-22T20:56:04.222Z"
   },
   {
    "duration": 255,
    "start_time": "2022-12-22T20:56:06.982Z"
   },
   {
    "duration": 6,
    "start_time": "2022-12-22T20:56:23.173Z"
   },
   {
    "duration": 192,
    "start_time": "2022-12-22T20:56:25.566Z"
   },
   {
    "duration": 5,
    "start_time": "2022-12-22T20:56:42.174Z"
   },
   {
    "duration": 28,
    "start_time": "2022-12-22T20:56:44.501Z"
   },
   {
    "duration": 26,
    "start_time": "2022-12-22T20:56:48.786Z"
   },
   {
    "duration": 106,
    "start_time": "2022-12-22T20:56:50.852Z"
   },
   {
    "duration": 45,
    "start_time": "2022-12-23T07:00:53.989Z"
   },
   {
    "duration": 6,
    "start_time": "2022-12-23T07:01:20.377Z"
   },
   {
    "duration": 1576,
    "start_time": "2022-12-23T07:01:51.131Z"
   },
   {
    "duration": 1576,
    "start_time": "2022-12-23T07:01:52.709Z"
   },
   {
    "duration": 3,
    "start_time": "2022-12-23T07:01:54.287Z"
   },
   {
    "duration": 384,
    "start_time": "2022-12-23T07:01:54.291Z"
   },
   {
    "duration": 469,
    "start_time": "2022-12-23T07:01:54.678Z"
   },
   {
    "duration": 388,
    "start_time": "2022-12-23T07:01:55.149Z"
   },
   {
    "duration": 5,
    "start_time": "2022-12-23T07:01:55.538Z"
   },
   {
    "duration": 78,
    "start_time": "2022-12-23T07:01:55.545Z"
   },
   {
    "duration": 111,
    "start_time": "2022-12-23T07:01:55.625Z"
   },
   {
    "duration": 190,
    "start_time": "2022-12-23T07:01:55.738Z"
   },
   {
    "duration": 73,
    "start_time": "2022-12-23T07:02:16.088Z"
   },
   {
    "duration": 44,
    "start_time": "2022-12-23T07:02:36.679Z"
   },
   {
    "duration": 74,
    "start_time": "2022-12-23T07:02:51.249Z"
   },
   {
    "duration": 43,
    "start_time": "2022-12-23T07:04:03.779Z"
   },
   {
    "duration": 5,
    "start_time": "2022-12-23T07:05:21.493Z"
   },
   {
    "duration": 29,
    "start_time": "2022-12-23T07:05:22.846Z"
   },
   {
    "duration": 35,
    "start_time": "2022-12-23T07:05:24.896Z"
   },
   {
    "duration": 72,
    "start_time": "2022-12-23T07:05:28.050Z"
   },
   {
    "duration": 29,
    "start_time": "2022-12-23T07:05:28.917Z"
   },
   {
    "duration": 117,
    "start_time": "2022-12-23T07:05:30.506Z"
   },
   {
    "duration": 41,
    "start_time": "2022-12-23T07:06:01.083Z"
   },
   {
    "duration": 64,
    "start_time": "2022-12-23T07:06:24.659Z"
   },
   {
    "duration": 8,
    "start_time": "2022-12-23T07:07:06.468Z"
   },
   {
    "duration": 4,
    "start_time": "2022-12-23T07:09:51.422Z"
   },
   {
    "duration": 125,
    "start_time": "2022-12-23T07:09:53.199Z"
   },
   {
    "duration": 5,
    "start_time": "2022-12-23T07:10:09.396Z"
   },
   {
    "duration": 30,
    "start_time": "2022-12-23T07:10:10.305Z"
   },
   {
    "duration": 5,
    "start_time": "2022-12-23T07:12:45.798Z"
   },
   {
    "duration": 33,
    "start_time": "2022-12-23T07:12:48.513Z"
   },
   {
    "duration": 86,
    "start_time": "2022-12-23T07:13:05.835Z"
   },
   {
    "duration": 159,
    "start_time": "2022-12-23T07:14:13.667Z"
   },
   {
    "duration": 4,
    "start_time": "2022-12-23T07:14:29.518Z"
   },
   {
    "duration": 4,
    "start_time": "2022-12-23T07:14:49.492Z"
   },
   {
    "duration": 32,
    "start_time": "2022-12-23T07:20:16.535Z"
   },
   {
    "duration": 33,
    "start_time": "2022-12-23T07:20:27.791Z"
   },
   {
    "duration": 5,
    "start_time": "2022-12-23T07:20:54.802Z"
   },
   {
    "duration": 87,
    "start_time": "2022-12-23T07:20:57.435Z"
   },
   {
    "duration": 5,
    "start_time": "2022-12-23T07:21:14.335Z"
   },
   {
    "duration": 5,
    "start_time": "2022-12-23T07:21:51.359Z"
   },
   {
    "duration": 73,
    "start_time": "2022-12-23T07:21:53.449Z"
   },
   {
    "duration": 5,
    "start_time": "2022-12-23T07:22:11.768Z"
   },
   {
    "duration": 5,
    "start_time": "2022-12-23T07:23:32.662Z"
   },
   {
    "duration": 112,
    "start_time": "2022-12-23T07:23:35.211Z"
   },
   {
    "duration": 27,
    "start_time": "2022-12-23T07:23:45.100Z"
   },
   {
    "duration": 65,
    "start_time": "2022-12-23T07:23:46.961Z"
   },
   {
    "duration": 25,
    "start_time": "2022-12-23T07:23:49.236Z"
   },
   {
    "duration": 144,
    "start_time": "2022-12-23T07:23:51.578Z"
   },
   {
    "duration": 356,
    "start_time": "2022-12-23T07:23:59.566Z"
   },
   {
    "duration": 8,
    "start_time": "2022-12-23T07:25:14.952Z"
   },
   {
    "duration": 27,
    "start_time": "2022-12-23T07:25:16.944Z"
   },
   {
    "duration": 5,
    "start_time": "2022-12-23T07:25:37.575Z"
   },
   {
    "duration": 29,
    "start_time": "2022-12-23T07:25:39.411Z"
   },
   {
    "duration": 261,
    "start_time": "2022-12-23T07:25:43.667Z"
   },
   {
    "duration": 309,
    "start_time": "2022-12-23T07:27:05.924Z"
   },
   {
    "duration": 5,
    "start_time": "2022-12-23T07:27:43.303Z"
   },
   {
    "duration": 27,
    "start_time": "2022-12-23T07:27:45.419Z"
   },
   {
    "duration": 5,
    "start_time": "2022-12-23T07:27:57.403Z"
   },
   {
    "duration": 29,
    "start_time": "2022-12-23T07:27:59.216Z"
   },
   {
    "duration": 74,
    "start_time": "2022-12-23T07:28:22.872Z"
   },
   {
    "duration": 5,
    "start_time": "2022-12-23T07:28:29.591Z"
   },
   {
    "duration": 27,
    "start_time": "2022-12-23T07:28:35.198Z"
   },
   {
    "duration": 28,
    "start_time": "2022-12-23T07:28:45.793Z"
   },
   {
    "duration": 24,
    "start_time": "2022-12-23T07:28:50.236Z"
   },
   {
    "duration": 26,
    "start_time": "2022-12-23T07:28:54.403Z"
   },
   {
    "duration": 328,
    "start_time": "2022-12-23T07:28:56.906Z"
   },
   {
    "duration": 284,
    "start_time": "2022-12-23T07:30:21.046Z"
   },
   {
    "duration": 4,
    "start_time": "2022-12-23T07:30:51.880Z"
   },
   {
    "duration": 279,
    "start_time": "2022-12-23T07:30:58.448Z"
   },
   {
    "duration": 8,
    "start_time": "2022-12-23T15:40:24.443Z"
   },
   {
    "duration": 3,
    "start_time": "2022-12-23T15:43:43.512Z"
   },
   {
    "duration": 3,
    "start_time": "2022-12-23T19:59:47.599Z"
   },
   {
    "duration": 4,
    "start_time": "2022-12-23T20:06:17.874Z"
   },
   {
    "duration": 4,
    "start_time": "2022-12-23T20:07:40.913Z"
   },
   {
    "duration": 95,
    "start_time": "2022-12-23T20:11:23.366Z"
   },
   {
    "duration": 4,
    "start_time": "2022-12-23T20:11:29.782Z"
   },
   {
    "duration": 1771,
    "start_time": "2022-12-24T07:21:48.522Z"
   },
   {
    "duration": 895,
    "start_time": "2022-12-24T07:21:50.298Z"
   },
   {
    "duration": 7,
    "start_time": "2022-12-24T07:21:51.194Z"
   },
   {
    "duration": 446,
    "start_time": "2022-12-24T07:21:51.206Z"
   },
   {
    "duration": 495,
    "start_time": "2022-12-24T07:21:51.654Z"
   },
   {
    "duration": 424,
    "start_time": "2022-12-24T07:21:52.151Z"
   },
   {
    "duration": 5,
    "start_time": "2022-12-24T07:21:52.577Z"
   },
   {
    "duration": 60,
    "start_time": "2022-12-24T07:21:52.584Z"
   },
   {
    "duration": 108,
    "start_time": "2022-12-24T07:21:52.700Z"
   },
   {
    "duration": 190,
    "start_time": "2022-12-24T07:21:52.811Z"
   },
   {
    "duration": 509,
    "start_time": "2022-12-24T07:21:53.010Z"
   },
   {
    "duration": 9,
    "start_time": "2022-12-24T07:21:53.525Z"
   },
   {
    "duration": 40,
    "start_time": "2022-12-24T07:21:53.602Z"
   },
   {
    "duration": 75,
    "start_time": "2022-12-24T07:22:15.064Z"
   },
   {
    "duration": 125,
    "start_time": "2022-12-24T07:22:22.626Z"
   },
   {
    "duration": 4,
    "start_time": "2022-12-24T07:22:31.890Z"
   },
   {
    "duration": 4,
    "start_time": "2022-12-24T07:22:44.570Z"
   },
   {
    "duration": 17,
    "start_time": "2022-12-24T07:23:16.114Z"
   },
   {
    "duration": 11,
    "start_time": "2022-12-24T07:24:44.735Z"
   },
   {
    "duration": 3,
    "start_time": "2022-12-24T07:24:48.863Z"
   },
   {
    "duration": 4,
    "start_time": "2022-12-24T07:24:54.167Z"
   },
   {
    "duration": 9,
    "start_time": "2022-12-24T07:25:04.699Z"
   },
   {
    "duration": 4,
    "start_time": "2022-12-24T07:26:19.111Z"
   },
   {
    "duration": 4,
    "start_time": "2022-12-24T16:46:23.236Z"
   },
   {
    "duration": 11,
    "start_time": "2022-12-24T16:48:52.771Z"
   },
   {
    "duration": 11,
    "start_time": "2022-12-24T16:50:04.321Z"
   },
   {
    "duration": 11,
    "start_time": "2022-12-24T16:51:02.608Z"
   },
   {
    "duration": 11,
    "start_time": "2022-12-24T16:51:17.395Z"
   },
   {
    "duration": 10,
    "start_time": "2022-12-24T16:52:03.512Z"
   },
   {
    "duration": 13,
    "start_time": "2022-12-24T16:57:42.775Z"
   },
   {
    "duration": 3,
    "start_time": "2022-12-24T16:58:18.327Z"
   },
   {
    "duration": 13,
    "start_time": "2022-12-24T16:58:20.134Z"
   },
   {
    "duration": 18,
    "start_time": "2022-12-24T16:58:24.939Z"
   },
   {
    "duration": 9,
    "start_time": "2022-12-24T16:58:47.770Z"
   },
   {
    "duration": 10,
    "start_time": "2022-12-24T17:01:46.577Z"
   },
   {
    "duration": 10,
    "start_time": "2022-12-24T17:02:16.151Z"
   },
   {
    "duration": 5,
    "start_time": "2022-12-24T17:03:59.003Z"
   },
   {
    "duration": 37,
    "start_time": "2022-12-24T17:04:02.864Z"
   },
   {
    "duration": 4,
    "start_time": "2022-12-24T17:04:14.773Z"
   },
   {
    "duration": 28,
    "start_time": "2022-12-24T17:04:26.131Z"
   },
   {
    "duration": 24,
    "start_time": "2022-12-24T17:04:32.912Z"
   },
   {
    "duration": 5,
    "start_time": "2022-12-24T17:06:01.671Z"
   },
   {
    "duration": 167,
    "start_time": "2022-12-24T17:06:04.543Z"
   },
   {
    "duration": 5,
    "start_time": "2022-12-24T17:06:25.053Z"
   },
   {
    "duration": 145,
    "start_time": "2022-12-24T17:06:26.964Z"
   },
   {
    "duration": 204,
    "start_time": "2022-12-24T17:06:29.795Z"
   },
   {
    "duration": 5,
    "start_time": "2022-12-24T17:07:25.895Z"
   },
   {
    "duration": 82,
    "start_time": "2022-12-24T17:07:27.821Z"
   },
   {
    "duration": 5,
    "start_time": "2022-12-24T17:08:13.829Z"
   },
   {
    "duration": 77,
    "start_time": "2022-12-24T17:08:15.425Z"
   },
   {
    "duration": 27,
    "start_time": "2022-12-24T17:08:23.308Z"
   },
   {
    "duration": 23,
    "start_time": "2022-12-24T17:08:29.029Z"
   },
   {
    "duration": 25,
    "start_time": "2022-12-24T17:08:30.375Z"
   },
   {
    "duration": 305,
    "start_time": "2022-12-24T17:08:31.506Z"
   },
   {
    "duration": 4,
    "start_time": "2022-12-24T17:08:36.321Z"
   },
   {
    "duration": 11,
    "start_time": "2022-12-24T17:08:45.006Z"
   },
   {
    "duration": 5,
    "start_time": "2022-12-24T17:09:21.103Z"
   },
   {
    "duration": 3,
    "start_time": "2022-12-24T17:09:58.160Z"
   },
   {
    "duration": 10,
    "start_time": "2022-12-24T17:09:58.920Z"
   },
   {
    "duration": 5,
    "start_time": "2022-12-24T17:10:17.455Z"
   },
   {
    "duration": 26,
    "start_time": "2022-12-24T17:10:21.291Z"
   },
   {
    "duration": 22,
    "start_time": "2022-12-24T17:10:26.156Z"
   },
   {
    "duration": 30,
    "start_time": "2022-12-24T17:10:27.194Z"
   },
   {
    "duration": 4,
    "start_time": "2022-12-24T17:10:31.543Z"
   },
   {
    "duration": 12,
    "start_time": "2022-12-24T17:10:35.380Z"
   },
   {
    "duration": 3,
    "start_time": "2022-12-24T19:01:14.066Z"
   },
   {
    "duration": 9,
    "start_time": "2022-12-24T19:11:28.472Z"
   },
   {
    "duration": 9,
    "start_time": "2022-12-24T20:15:34.838Z"
   },
   {
    "duration": 44,
    "start_time": "2022-12-24T20:51:48.763Z"
   },
   {
    "duration": 5,
    "start_time": "2022-12-24T21:06:02.821Z"
   },
   {
    "duration": 16,
    "start_time": "2022-12-24T21:08:45.717Z"
   },
   {
    "duration": 5,
    "start_time": "2022-12-24T21:10:29.331Z"
   },
   {
    "duration": 3,
    "start_time": "2022-12-24T21:10:39.049Z"
   },
   {
    "duration": 431,
    "start_time": "2022-12-24T21:10:39.054Z"
   },
   {
    "duration": 11,
    "start_time": "2022-12-24T21:10:39.487Z"
   },
   {
    "duration": 341,
    "start_time": "2022-12-24T21:10:39.500Z"
   },
   {
    "duration": 373,
    "start_time": "2022-12-24T21:10:39.842Z"
   },
   {
    "duration": 348,
    "start_time": "2022-12-24T21:10:40.217Z"
   },
   {
    "duration": 5,
    "start_time": "2022-12-24T21:10:40.567Z"
   },
   {
    "duration": 38,
    "start_time": "2022-12-24T21:10:40.573Z"
   },
   {
    "duration": 196,
    "start_time": "2022-12-24T21:10:40.612Z"
   },
   {
    "duration": 197,
    "start_time": "2022-12-24T21:10:40.813Z"
   },
   {
    "duration": 586,
    "start_time": "2022-12-24T21:10:41.012Z"
   },
   {
    "duration": 96,
    "start_time": "2022-12-24T21:10:41.602Z"
   },
   {
    "duration": 10,
    "start_time": "2022-12-24T21:10:41.700Z"
   },
   {
    "duration": 6,
    "start_time": "2022-12-24T21:10:41.711Z"
   },
   {
    "duration": 7,
    "start_time": "2022-12-24T21:10:41.718Z"
   },
   {
    "duration": 10,
    "start_time": "2022-12-24T21:10:41.726Z"
   },
   {
    "duration": 7,
    "start_time": "2022-12-24T21:10:41.737Z"
   },
   {
    "duration": 14,
    "start_time": "2022-12-24T21:10:44.321Z"
   },
   {
    "duration": 18,
    "start_time": "2022-12-24T21:24:58.521Z"
   },
   {
    "duration": 27,
    "start_time": "2022-12-24T21:24:58.901Z"
   },
   {
    "duration": 15,
    "start_time": "2022-12-24T21:24:59.159Z"
   },
   {
    "duration": 15,
    "start_time": "2022-12-24T21:24:59.337Z"
   },
   {
    "duration": 20,
    "start_time": "2022-12-24T21:24:59.712Z"
   },
   {
    "duration": 16,
    "start_time": "2022-12-24T21:26:48.052Z"
   },
   {
    "duration": 4,
    "start_time": "2022-12-24T21:27:26.366Z"
   },
   {
    "duration": 15,
    "start_time": "2022-12-24T21:27:30.733Z"
   },
   {
    "duration": 4,
    "start_time": "2022-12-24T21:28:56.559Z"
   },
   {
    "duration": 25,
    "start_time": "2022-12-24T21:28:58.890Z"
   },
   {
    "duration": 12,
    "start_time": "2022-12-24T21:31:34.902Z"
   },
   {
    "duration": 5,
    "start_time": "2022-12-24T21:34:41.145Z"
   },
   {
    "duration": 12,
    "start_time": "2022-12-24T21:34:43.814Z"
   },
   {
    "duration": 3,
    "start_time": "2022-12-24T21:36:18.808Z"
   },
   {
    "duration": 3,
    "start_time": "2022-12-24T21:36:21.093Z"
   },
   {
    "duration": 11,
    "start_time": "2022-12-24T21:36:23.868Z"
   },
   {
    "duration": 5,
    "start_time": "2022-12-24T21:36:53.854Z"
   },
   {
    "duration": 4,
    "start_time": "2022-12-24T21:37:03.031Z"
   },
   {
    "duration": 12,
    "start_time": "2022-12-24T21:37:04.367Z"
   },
   {
    "duration": 3,
    "start_time": "2022-12-24T21:38:10.084Z"
   },
   {
    "duration": 4,
    "start_time": "2022-12-24T21:38:11.881Z"
   },
   {
    "duration": 12,
    "start_time": "2022-12-24T21:38:12.765Z"
   },
   {
    "duration": 3,
    "start_time": "2022-12-24T21:39:00.178Z"
   },
   {
    "duration": 4,
    "start_time": "2022-12-24T21:39:03.172Z"
   },
   {
    "duration": 12,
    "start_time": "2022-12-24T21:39:03.771Z"
   },
   {
    "duration": 11,
    "start_time": "2022-12-24T21:41:12.381Z"
   },
   {
    "duration": 11,
    "start_time": "2022-12-24T21:41:13.328Z"
   },
   {
    "duration": 0,
    "start_time": "2022-12-24T21:41:14.652Z"
   },
   {
    "duration": 0,
    "start_time": "2022-12-24T21:41:14.999Z"
   },
   {
    "duration": 11,
    "start_time": "2022-12-24T21:41:21.235Z"
   },
   {
    "duration": 4,
    "start_time": "2022-12-24T21:41:58.983Z"
   },
   {
    "duration": 11,
    "start_time": "2022-12-24T21:42:03.390Z"
   },
   {
    "duration": 13,
    "start_time": "2022-12-24T21:42:03.569Z"
   },
   {
    "duration": 10,
    "start_time": "2022-12-24T21:42:03.698Z"
   },
   {
    "duration": 12,
    "start_time": "2022-12-24T21:42:03.956Z"
   },
   {
    "duration": 1052,
    "start_time": "2022-12-25T06:13:24.644Z"
   },
   {
    "duration": 762,
    "start_time": "2022-12-25T06:13:25.698Z"
   },
   {
    "duration": 3,
    "start_time": "2022-12-25T06:13:26.461Z"
   },
   {
    "duration": 868,
    "start_time": "2022-12-25T06:13:26.465Z"
   },
   {
    "duration": 0,
    "start_time": "2022-12-25T06:13:27.335Z"
   },
   {
    "duration": 0,
    "start_time": "2022-12-25T06:13:27.336Z"
   },
   {
    "duration": 0,
    "start_time": "2022-12-25T06:13:27.338Z"
   },
   {
    "duration": 0,
    "start_time": "2022-12-25T06:13:27.339Z"
   },
   {
    "duration": 0,
    "start_time": "2022-12-25T06:13:27.340Z"
   },
   {
    "duration": 0,
    "start_time": "2022-12-25T06:13:27.341Z"
   },
   {
    "duration": 0,
    "start_time": "2022-12-25T06:13:27.342Z"
   },
   {
    "duration": 0,
    "start_time": "2022-12-25T06:13:27.343Z"
   },
   {
    "duration": 0,
    "start_time": "2022-12-25T06:13:27.344Z"
   },
   {
    "duration": 0,
    "start_time": "2022-12-25T06:13:27.345Z"
   },
   {
    "duration": 0,
    "start_time": "2022-12-25T06:13:27.347Z"
   },
   {
    "duration": 0,
    "start_time": "2022-12-25T06:13:27.347Z"
   },
   {
    "duration": 0,
    "start_time": "2022-12-25T06:13:27.348Z"
   },
   {
    "duration": 3,
    "start_time": "2022-12-25T06:13:47.710Z"
   },
   {
    "duration": 360,
    "start_time": "2022-12-25T06:13:47.715Z"
   },
   {
    "duration": 3,
    "start_time": "2022-12-25T06:13:48.076Z"
   },
   {
    "duration": 351,
    "start_time": "2022-12-25T06:13:48.081Z"
   },
   {
    "duration": 0,
    "start_time": "2022-12-25T06:13:48.433Z"
   },
   {
    "duration": 0,
    "start_time": "2022-12-25T06:13:48.434Z"
   },
   {
    "duration": 0,
    "start_time": "2022-12-25T06:13:48.435Z"
   },
   {
    "duration": 0,
    "start_time": "2022-12-25T06:13:48.436Z"
   },
   {
    "duration": 0,
    "start_time": "2022-12-25T06:13:48.437Z"
   },
   {
    "duration": 0,
    "start_time": "2022-12-25T06:13:48.438Z"
   },
   {
    "duration": 0,
    "start_time": "2022-12-25T06:13:48.438Z"
   },
   {
    "duration": 0,
    "start_time": "2022-12-25T06:13:48.439Z"
   },
   {
    "duration": 0,
    "start_time": "2022-12-25T06:13:48.440Z"
   },
   {
    "duration": 0,
    "start_time": "2022-12-25T06:13:48.441Z"
   },
   {
    "duration": 0,
    "start_time": "2022-12-25T06:13:48.442Z"
   },
   {
    "duration": 0,
    "start_time": "2022-12-25T06:13:48.443Z"
   },
   {
    "duration": 3,
    "start_time": "2022-12-25T06:14:33.037Z"
   },
   {
    "duration": 373,
    "start_time": "2022-12-25T06:14:33.042Z"
   },
   {
    "duration": 3,
    "start_time": "2022-12-25T06:14:33.416Z"
   },
   {
    "duration": 426,
    "start_time": "2022-12-25T06:14:33.421Z"
   },
   {
    "duration": 359,
    "start_time": "2022-12-25T06:14:33.849Z"
   },
   {
    "duration": 361,
    "start_time": "2022-12-25T06:14:34.212Z"
   },
   {
    "duration": 5,
    "start_time": "2022-12-25T06:14:34.574Z"
   },
   {
    "duration": 135,
    "start_time": "2022-12-25T06:14:34.581Z"
   },
   {
    "duration": 115,
    "start_time": "2022-12-25T06:14:34.719Z"
   },
   {
    "duration": 195,
    "start_time": "2022-12-25T06:14:34.836Z"
   },
   {
    "duration": 491,
    "start_time": "2022-12-25T06:14:35.033Z"
   },
   {
    "duration": 95,
    "start_time": "2022-12-25T06:14:35.525Z"
   },
   {
    "duration": 8,
    "start_time": "2022-12-25T06:14:35.712Z"
   },
   {
    "duration": 6,
    "start_time": "2022-12-25T06:14:35.721Z"
   },
   {
    "duration": 6,
    "start_time": "2022-12-25T06:14:35.728Z"
   },
   {
    "duration": 5,
    "start_time": "2022-12-25T06:14:35.735Z"
   },
   {
    "duration": 3,
    "start_time": "2022-12-25T06:14:37.865Z"
   },
   {
    "duration": 11,
    "start_time": "2022-12-25T06:14:39.050Z"
   },
   {
    "duration": 4,
    "start_time": "2022-12-25T06:19:32.343Z"
   },
   {
    "duration": 13,
    "start_time": "2022-12-25T06:19:35.032Z"
   },
   {
    "duration": 3,
    "start_time": "2022-12-25T06:19:43.101Z"
   },
   {
    "duration": 4,
    "start_time": "2022-12-25T06:23:03.590Z"
   },
   {
    "duration": 11,
    "start_time": "2022-12-25T06:23:05.902Z"
   },
   {
    "duration": 4,
    "start_time": "2022-12-25T06:24:10.242Z"
   },
   {
    "duration": 16,
    "start_time": "2022-12-25T06:24:12.510Z"
   },
   {
    "duration": 4,
    "start_time": "2022-12-25T06:25:33.853Z"
   },
   {
    "duration": 12,
    "start_time": "2022-12-25T06:25:35.726Z"
   },
   {
    "duration": 4,
    "start_time": "2022-12-25T06:26:07.633Z"
   },
   {
    "duration": 13,
    "start_time": "2022-12-25T06:26:10.557Z"
   },
   {
    "duration": 4,
    "start_time": "2022-12-25T06:26:17.311Z"
   },
   {
    "duration": 13,
    "start_time": "2022-12-25T06:26:20.267Z"
   },
   {
    "duration": 4,
    "start_time": "2022-12-25T06:29:06.569Z"
   },
   {
    "duration": 11,
    "start_time": "2022-12-25T06:29:08.740Z"
   },
   {
    "duration": 11,
    "start_time": "2022-12-25T06:31:53.327Z"
   },
   {
    "duration": 18,
    "start_time": "2022-12-25T06:32:27.631Z"
   },
   {
    "duration": 19,
    "start_time": "2022-12-25T06:33:34.575Z"
   },
   {
    "duration": 4,
    "start_time": "2022-12-25T06:35:13.661Z"
   },
   {
    "duration": 18,
    "start_time": "2022-12-25T06:35:15.243Z"
   },
   {
    "duration": 4,
    "start_time": "2022-12-25T06:39:40.297Z"
   },
   {
    "duration": 392,
    "start_time": "2022-12-25T06:39:44.323Z"
   },
   {
    "duration": 5,
    "start_time": "2022-12-25T06:39:48.437Z"
   },
   {
    "duration": 4,
    "start_time": "2022-12-25T06:39:56.107Z"
   },
   {
    "duration": 4,
    "start_time": "2022-12-25T06:39:57.160Z"
   },
   {
    "duration": 14,
    "start_time": "2022-12-25T06:39:58.576Z"
   },
   {
    "duration": 4,
    "start_time": "2022-12-25T06:41:12.342Z"
   },
   {
    "duration": 13,
    "start_time": "2022-12-25T06:41:13.146Z"
   },
   {
    "duration": 4,
    "start_time": "2022-12-25T06:42:05.653Z"
   },
   {
    "duration": 14,
    "start_time": "2022-12-25T06:42:07.253Z"
   },
   {
    "duration": 4,
    "start_time": "2022-12-25T06:42:10.178Z"
   },
   {
    "duration": 3,
    "start_time": "2022-12-25T06:42:11.032Z"
   },
   {
    "duration": 5,
    "start_time": "2022-12-25T06:42:11.746Z"
   },
   {
    "duration": 13,
    "start_time": "2022-12-25T06:42:13.054Z"
   },
   {
    "duration": 3,
    "start_time": "2022-12-25T06:42:32.898Z"
   },
   {
    "duration": 4,
    "start_time": "2022-12-25T06:42:33.973Z"
   },
   {
    "duration": 4,
    "start_time": "2022-12-25T06:42:35.236Z"
   },
   {
    "duration": 16,
    "start_time": "2022-12-25T06:42:37.407Z"
   },
   {
    "duration": 3,
    "start_time": "2022-12-25T06:48:15.694Z"
   },
   {
    "duration": 3,
    "start_time": "2022-12-25T06:48:18.081Z"
   },
   {
    "duration": 4,
    "start_time": "2022-12-25T06:48:18.695Z"
   },
   {
    "duration": 17,
    "start_time": "2022-12-25T06:48:19.942Z"
   },
   {
    "duration": 3,
    "start_time": "2022-12-25T06:49:09.146Z"
   },
   {
    "duration": 4,
    "start_time": "2022-12-25T06:50:04.081Z"
   },
   {
    "duration": 3,
    "start_time": "2022-12-25T06:50:06.506Z"
   },
   {
    "duration": 2,
    "start_time": "2022-12-25T06:50:07.669Z"
   },
   {
    "duration": 17,
    "start_time": "2022-12-25T06:50:09.997Z"
   },
   {
    "duration": 3,
    "start_time": "2022-12-25T06:50:20.838Z"
   },
   {
    "duration": 3,
    "start_time": "2022-12-25T06:50:25.949Z"
   },
   {
    "duration": 3,
    "start_time": "2022-12-25T06:50:27.219Z"
   },
   {
    "duration": 4,
    "start_time": "2022-12-25T06:50:27.842Z"
   },
   {
    "duration": 19,
    "start_time": "2022-12-25T06:50:28.999Z"
   },
   {
    "duration": 3,
    "start_time": "2022-12-25T06:51:48.869Z"
   },
   {
    "duration": 12,
    "start_time": "2022-12-25T06:51:49.852Z"
   },
   {
    "duration": 18,
    "start_time": "2022-12-25T06:52:58.884Z"
   },
   {
    "duration": 4,
    "start_time": "2022-12-25T06:53:24.458Z"
   },
   {
    "duration": 3,
    "start_time": "2022-12-25T06:53:26.773Z"
   },
   {
    "duration": 3,
    "start_time": "2022-12-25T06:53:28.291Z"
   },
   {
    "duration": 15,
    "start_time": "2022-12-25T06:53:31.624Z"
   },
   {
    "duration": 4,
    "start_time": "2022-12-25T07:27:28.072Z"
   },
   {
    "duration": 16,
    "start_time": "2022-12-25T07:27:30.252Z"
   },
   {
    "duration": 15,
    "start_time": "2022-12-25T07:27:34.626Z"
   },
   {
    "duration": 3,
    "start_time": "2022-12-25T07:28:32.292Z"
   },
   {
    "duration": 4,
    "start_time": "2022-12-25T07:28:33.263Z"
   },
   {
    "duration": 18,
    "start_time": "2022-12-25T07:28:34.177Z"
   },
   {
    "duration": 4,
    "start_time": "2022-12-25T07:29:01.591Z"
   },
   {
    "duration": 3,
    "start_time": "2022-12-25T07:29:03.544Z"
   },
   {
    "duration": 4,
    "start_time": "2022-12-25T07:29:04.246Z"
   },
   {
    "duration": 25,
    "start_time": "2022-12-25T07:29:05.092Z"
   },
   {
    "duration": 4,
    "start_time": "2022-12-25T07:30:06.297Z"
   },
   {
    "duration": 5,
    "start_time": "2022-12-25T07:30:08.186Z"
   },
   {
    "duration": 5,
    "start_time": "2022-12-25T07:30:08.705Z"
   },
   {
    "duration": 24,
    "start_time": "2022-12-25T07:30:09.910Z"
   },
   {
    "duration": 4,
    "start_time": "2022-12-25T07:47:32.692Z"
   },
   {
    "duration": 3,
    "start_time": "2022-12-25T07:47:35.390Z"
   },
   {
    "duration": 5,
    "start_time": "2022-12-25T07:47:40.431Z"
   },
   {
    "duration": 864,
    "start_time": "2022-12-25T07:47:41.428Z"
   },
   {
    "duration": 5,
    "start_time": "2022-12-25T08:06:47.135Z"
   },
   {
    "duration": 25,
    "start_time": "2022-12-25T08:06:48.816Z"
   },
   {
    "duration": 3,
    "start_time": "2022-12-25T08:07:07.385Z"
   },
   {
    "duration": 3,
    "start_time": "2022-12-25T08:07:17.306Z"
   },
   {
    "duration": 412,
    "start_time": "2022-12-25T08:07:17.313Z"
   },
   {
    "duration": 3,
    "start_time": "2022-12-25T08:07:17.729Z"
   },
   {
    "duration": 407,
    "start_time": "2022-12-25T08:07:17.734Z"
   },
   {
    "duration": 430,
    "start_time": "2022-12-25T08:07:18.143Z"
   },
   {
    "duration": 409,
    "start_time": "2022-12-25T08:07:18.575Z"
   },
   {
    "duration": 8,
    "start_time": "2022-12-25T08:07:18.987Z"
   },
   {
    "duration": 118,
    "start_time": "2022-12-25T08:07:18.997Z"
   },
   {
    "duration": 117,
    "start_time": "2022-12-25T08:07:19.117Z"
   },
   {
    "duration": 288,
    "start_time": "2022-12-25T08:07:19.236Z"
   },
   {
    "duration": 397,
    "start_time": "2022-12-25T08:07:19.527Z"
   },
   {
    "duration": 15,
    "start_time": "2022-12-25T08:07:20.011Z"
   },
   {
    "duration": 97,
    "start_time": "2022-12-25T08:07:20.034Z"
   },
   {
    "duration": 6,
    "start_time": "2022-12-25T08:07:20.134Z"
   },
   {
    "duration": 5,
    "start_time": "2022-12-25T08:07:20.141Z"
   },
   {
    "duration": 6,
    "start_time": "2022-12-25T08:07:20.148Z"
   },
   {
    "duration": 6,
    "start_time": "2022-12-25T08:07:20.156Z"
   },
   {
    "duration": 13,
    "start_time": "2022-12-25T08:07:22.430Z"
   },
   {
    "duration": 13,
    "start_time": "2022-12-25T08:07:37.445Z"
   },
   {
    "duration": 5,
    "start_time": "2022-12-25T08:13:49.234Z"
   },
   {
    "duration": 1385,
    "start_time": "2022-12-25T08:13:52.223Z"
   },
   {
    "duration": 4,
    "start_time": "2022-12-25T08:17:39.167Z"
   },
   {
    "duration": 5,
    "start_time": "2022-12-25T09:10:29.314Z"
   },
   {
    "duration": 978,
    "start_time": "2022-12-25T09:10:35.019Z"
   },
   {
    "duration": 1019,
    "start_time": "2022-12-25T09:10:39.145Z"
   },
   {
    "duration": 3,
    "start_time": "2022-12-25T09:10:43.932Z"
   },
   {
    "duration": 380,
    "start_time": "2022-12-25T09:10:43.937Z"
   },
   {
    "duration": 3,
    "start_time": "2022-12-25T09:10:44.318Z"
   },
   {
    "duration": 521,
    "start_time": "2022-12-25T09:10:44.324Z"
   },
   {
    "duration": 439,
    "start_time": "2022-12-25T09:10:44.848Z"
   },
   {
    "duration": 399,
    "start_time": "2022-12-25T09:10:45.289Z"
   },
   {
    "duration": 5,
    "start_time": "2022-12-25T09:10:45.690Z"
   },
   {
    "duration": 34,
    "start_time": "2022-12-25T09:10:45.697Z"
   },
   {
    "duration": 197,
    "start_time": "2022-12-25T09:10:45.733Z"
   },
   {
    "duration": 199,
    "start_time": "2022-12-25T09:10:45.932Z"
   },
   {
    "duration": 582,
    "start_time": "2022-12-25T09:10:46.133Z"
   },
   {
    "duration": 95,
    "start_time": "2022-12-25T09:10:46.717Z"
   },
   {
    "duration": 4,
    "start_time": "2022-12-25T09:10:46.814Z"
   },
   {
    "duration": 92,
    "start_time": "2022-12-25T09:10:46.820Z"
   },
   {
    "duration": 3,
    "start_time": "2022-12-25T09:10:46.914Z"
   },
   {
    "duration": 9,
    "start_time": "2022-12-25T09:10:46.919Z"
   },
   {
    "duration": 5,
    "start_time": "2022-12-25T09:10:46.929Z"
   },
   {
    "duration": 964,
    "start_time": "2022-12-25T09:10:51.409Z"
   },
   {
    "duration": 8,
    "start_time": "2022-12-25T09:18:18.879Z"
   },
   {
    "duration": 4,
    "start_time": "2022-12-25T09:19:07.273Z"
   },
   {
    "duration": 9,
    "start_time": "2022-12-25T09:19:10.203Z"
   },
   {
    "duration": 4,
    "start_time": "2022-12-25T09:20:20.248Z"
   },
   {
    "duration": 9,
    "start_time": "2022-12-25T09:20:24.439Z"
   },
   {
    "duration": 9,
    "start_time": "2022-12-25T09:23:17.754Z"
   },
   {
    "duration": 4,
    "start_time": "2022-12-25T09:23:24.108Z"
   },
   {
    "duration": 8,
    "start_time": "2022-12-25T09:23:25.492Z"
   },
   {
    "duration": 17,
    "start_time": "2022-12-25T09:25:26.982Z"
   },
   {
    "duration": 23,
    "start_time": "2022-12-25T09:42:02.781Z"
   },
   {
    "duration": 17,
    "start_time": "2022-12-25T09:42:13.975Z"
   },
   {
    "duration": 24,
    "start_time": "2022-12-25T09:42:42.788Z"
   },
   {
    "duration": 18,
    "start_time": "2022-12-25T09:43:13.715Z"
   },
   {
    "duration": 17,
    "start_time": "2022-12-25T09:43:41.802Z"
   },
   {
    "duration": 20,
    "start_time": "2022-12-25T09:44:30.184Z"
   },
   {
    "duration": 20,
    "start_time": "2022-12-25T09:48:25.922Z"
   },
   {
    "duration": 20,
    "start_time": "2022-12-25T09:48:44.191Z"
   },
   {
    "duration": 18,
    "start_time": "2022-12-25T09:49:04.538Z"
   },
   {
    "duration": 18,
    "start_time": "2022-12-25T09:49:22.638Z"
   },
   {
    "duration": 3,
    "start_time": "2022-12-25T09:58:47.744Z"
   },
   {
    "duration": 382,
    "start_time": "2022-12-25T09:58:47.749Z"
   },
   {
    "duration": 3,
    "start_time": "2022-12-25T09:58:48.133Z"
   },
   {
    "duration": 384,
    "start_time": "2022-12-25T09:58:48.138Z"
   },
   {
    "duration": 381,
    "start_time": "2022-12-25T09:58:48.524Z"
   },
   {
    "duration": 517,
    "start_time": "2022-12-25T09:58:48.911Z"
   },
   {
    "duration": 6,
    "start_time": "2022-12-25T09:58:49.430Z"
   },
   {
    "duration": 35,
    "start_time": "2022-12-25T09:58:49.438Z"
   },
   {
    "duration": 116,
    "start_time": "2022-12-25T09:58:49.513Z"
   },
   {
    "duration": 189,
    "start_time": "2022-12-25T09:58:49.631Z"
   },
   {
    "duration": 589,
    "start_time": "2022-12-25T09:58:49.823Z"
   },
   {
    "duration": 96,
    "start_time": "2022-12-25T09:58:50.415Z"
   },
   {
    "duration": 7,
    "start_time": "2022-12-25T09:58:50.513Z"
   },
   {
    "duration": 6,
    "start_time": "2022-12-25T09:58:50.522Z"
   },
   {
    "duration": 5,
    "start_time": "2022-12-25T09:58:50.530Z"
   },
   {
    "duration": 6,
    "start_time": "2022-12-25T09:58:50.536Z"
   },
   {
    "duration": 6,
    "start_time": "2022-12-25T09:58:50.543Z"
   },
   {
    "duration": 27,
    "start_time": "2022-12-25T09:58:50.550Z"
   },
   {
    "duration": 45,
    "start_time": "2022-12-25T10:07:59.927Z"
   },
   {
    "duration": 9,
    "start_time": "2022-12-25T10:08:09.395Z"
   },
   {
    "duration": 4,
    "start_time": "2022-12-25T10:08:12.258Z"
   },
   {
    "duration": 1014,
    "start_time": "2022-12-25T10:08:17.784Z"
   },
   {
    "duration": 1015,
    "start_time": "2022-12-25T10:09:35.349Z"
   },
   {
    "duration": 7,
    "start_time": "2022-12-25T10:20:34.849Z"
   },
   {
    "duration": 3030,
    "start_time": "2022-12-25T10:20:56.668Z"
   },
   {
    "duration": 3115,
    "start_time": "2022-12-25T11:22:12.761Z"
   },
   {
    "duration": 3177,
    "start_time": "2022-12-25T11:22:19.403Z"
   },
   {
    "duration": 3227,
    "start_time": "2022-12-25T11:22:26.377Z"
   },
   {
    "duration": 3096,
    "start_time": "2022-12-25T11:22:32.945Z"
   },
   {
    "duration": 3037,
    "start_time": "2022-12-25T11:22:38.324Z"
   },
   {
    "duration": 3186,
    "start_time": "2022-12-25T11:22:44.241Z"
   },
   {
    "duration": 4,
    "start_time": "2022-12-25T11:23:27.551Z"
   },
   {
    "duration": 19,
    "start_time": "2022-12-25T11:23:29.375Z"
   },
   {
    "duration": 21,
    "start_time": "2022-12-25T11:23:30.960Z"
   },
   {
    "duration": 17,
    "start_time": "2022-12-25T11:23:31.632Z"
   },
   {
    "duration": 29,
    "start_time": "2022-12-25T11:23:32.237Z"
   },
   {
    "duration": 20,
    "start_time": "2022-12-25T11:23:32.875Z"
   },
   {
    "duration": 2996,
    "start_time": "2022-12-25T11:23:34.033Z"
   },
   {
    "duration": 3111,
    "start_time": "2022-12-25T11:23:39.068Z"
   },
   {
    "duration": 2916,
    "start_time": "2022-12-25T11:23:43.402Z"
   },
   {
    "duration": 2970,
    "start_time": "2022-12-25T11:23:47.836Z"
   },
   {
    "duration": 2912,
    "start_time": "2022-12-25T11:24:11.139Z"
   },
   {
    "duration": 2919,
    "start_time": "2022-12-25T11:24:15.530Z"
   },
   {
    "duration": 2970,
    "start_time": "2022-12-25T11:24:19.997Z"
   },
   {
    "duration": 3089,
    "start_time": "2022-12-25T11:24:26.146Z"
   },
   {
    "duration": 58,
    "start_time": "2022-12-25T11:31:17.088Z"
   },
   {
    "duration": 43,
    "start_time": "2022-12-25T11:31:22.137Z"
   },
   {
    "duration": 41,
    "start_time": "2022-12-25T11:31:30.869Z"
   },
   {
    "duration": 5,
    "start_time": "2022-12-25T11:31:40.300Z"
   },
   {
    "duration": 978,
    "start_time": "2022-12-25T11:31:44.374Z"
   },
   {
    "duration": 5,
    "start_time": "2022-12-25T11:32:05.200Z"
   },
   {
    "duration": 2832,
    "start_time": "2022-12-25T11:32:07.286Z"
   },
   {
    "duration": 2899,
    "start_time": "2022-12-25T11:32:26.226Z"
   },
   {
    "duration": 2819,
    "start_time": "2022-12-25T11:33:17.078Z"
   },
   {
    "duration": 2898,
    "start_time": "2022-12-25T11:33:29.466Z"
   },
   {
    "duration": 4,
    "start_time": "2022-12-25T11:33:44.373Z"
   },
   {
    "duration": 2868,
    "start_time": "2022-12-25T11:33:46.941Z"
   },
   {
    "duration": 3088,
    "start_time": "2022-12-25T11:35:54.005Z"
   },
   {
    "duration": 2980,
    "start_time": "2022-12-25T11:36:04.985Z"
   },
   {
    "duration": 3008,
    "start_time": "2022-12-25T11:40:57.092Z"
   },
   {
    "duration": 3198,
    "start_time": "2022-12-25T11:41:03.379Z"
   },
   {
    "duration": 3069,
    "start_time": "2022-12-25T11:41:08.507Z"
   },
   {
    "duration": 2998,
    "start_time": "2022-12-25T11:41:13.188Z"
   },
   {
    "duration": 5,
    "start_time": "2022-12-25T11:41:43.263Z"
   },
   {
    "duration": 22,
    "start_time": "2022-12-25T11:41:46.479Z"
   },
   {
    "duration": 3003,
    "start_time": "2022-12-25T11:41:47.681Z"
   },
   {
    "duration": 3065,
    "start_time": "2022-12-25T11:41:51.997Z"
   },
   {
    "duration": 3197,
    "start_time": "2022-12-25T11:41:55.800Z"
   },
   {
    "duration": 2946,
    "start_time": "2022-12-25T11:42:00.586Z"
   },
   {
    "duration": 8,
    "start_time": "2022-12-25T11:46:28.931Z"
   },
   {
    "duration": 5,
    "start_time": "2022-12-25T11:47:35.689Z"
   },
   {
    "duration": 5,
    "start_time": "2022-12-25T11:47:39.051Z"
   },
   {
    "duration": 2945,
    "start_time": "2022-12-25T11:47:41.607Z"
   },
   {
    "duration": 3286,
    "start_time": "2022-12-25T11:47:56.172Z"
   },
   {
    "duration": 3214,
    "start_time": "2022-12-25T11:52:25.549Z"
   },
   {
    "duration": 5,
    "start_time": "2022-12-25T11:52:31.391Z"
   },
   {
    "duration": 3166,
    "start_time": "2022-12-25T11:52:33.192Z"
   },
   {
    "duration": 1205,
    "start_time": "2022-12-25T11:53:45.342Z"
   },
   {
    "duration": 1108,
    "start_time": "2022-12-25T11:53:55.272Z"
   },
   {
    "duration": 1043,
    "start_time": "2022-12-25T11:54:01.322Z"
   },
   {
    "duration": 6,
    "start_time": "2022-12-25T11:54:42.488Z"
   },
   {
    "duration": 27,
    "start_time": "2022-12-25T11:54:45.269Z"
   },
   {
    "duration": 999,
    "start_time": "2022-12-25T11:54:48.024Z"
   },
   {
    "duration": 1182,
    "start_time": "2022-12-25T11:54:51.693Z"
   },
   {
    "duration": 1074,
    "start_time": "2022-12-25T11:54:54.899Z"
   },
   {
    "duration": 26,
    "start_time": "2022-12-25T11:59:23.428Z"
   },
   {
    "duration": 23,
    "start_time": "2022-12-25T11:59:24.261Z"
   },
   {
    "duration": 28,
    "start_time": "2022-12-25T11:59:24.876Z"
   },
   {
    "duration": 1219,
    "start_time": "2022-12-25T12:00:41.622Z"
   },
   {
    "duration": 26,
    "start_time": "2022-12-25T12:01:18.972Z"
   },
   {
    "duration": 1122,
    "start_time": "2022-12-25T12:01:28.609Z"
   },
   {
    "duration": 1088,
    "start_time": "2022-12-25T12:01:32.174Z"
   },
   {
    "duration": 1095,
    "start_time": "2022-12-25T12:01:34.173Z"
   },
   {
    "duration": 10,
    "start_time": "2022-12-25T12:07:44.589Z"
   },
   {
    "duration": 4,
    "start_time": "2022-12-25T12:08:31.300Z"
   },
   {
    "duration": 3,
    "start_time": "2022-12-25T12:08:36.750Z"
   },
   {
    "duration": 6,
    "start_time": "2022-12-25T12:08:38.825Z"
   },
   {
    "duration": 1071,
    "start_time": "2022-12-25T12:08:42.128Z"
   },
   {
    "duration": 1210,
    "start_time": "2022-12-25T12:08:46.054Z"
   },
   {
    "duration": 1119,
    "start_time": "2022-12-25T12:08:48.382Z"
   },
   {
    "duration": 1001,
    "start_time": "2022-12-25T12:13:43.906Z"
   },
   {
    "duration": 1032,
    "start_time": "2022-12-25T12:13:45.860Z"
   },
   {
    "duration": 954,
    "start_time": "2022-12-25T12:13:49.422Z"
   },
   {
    "duration": 948,
    "start_time": "2022-12-25T12:13:51.642Z"
   },
   {
    "duration": 1014,
    "start_time": "2022-12-25T12:13:53.419Z"
   },
   {
    "duration": 978,
    "start_time": "2022-12-25T12:13:56.704Z"
   },
   {
    "duration": 5,
    "start_time": "2022-12-25T12:14:12.790Z"
   },
   {
    "duration": 939,
    "start_time": "2022-12-25T12:14:16.792Z"
   },
   {
    "duration": 974,
    "start_time": "2022-12-25T12:14:19.675Z"
   },
   {
    "duration": 1014,
    "start_time": "2022-12-25T12:14:21.475Z"
   },
   {
    "duration": 1063,
    "start_time": "2022-12-25T12:14:23.601Z"
   },
   {
    "duration": 1179,
    "start_time": "2022-12-25T12:15:36.328Z"
   },
   {
    "duration": 1064,
    "start_time": "2022-12-25T12:15:38.625Z"
   },
   {
    "duration": 1017,
    "start_time": "2022-12-25T12:15:41.735Z"
   },
   {
    "duration": 1048,
    "start_time": "2022-12-25T12:15:44.324Z"
   },
   {
    "duration": 1062,
    "start_time": "2022-12-25T12:15:48.224Z"
   },
   {
    "duration": 1036,
    "start_time": "2022-12-25T12:15:50.350Z"
   },
   {
    "duration": 8,
    "start_time": "2022-12-25T12:17:12.967Z"
   },
   {
    "duration": 1134,
    "start_time": "2022-12-25T12:17:16.234Z"
   },
   {
    "duration": 1150,
    "start_time": "2022-12-25T12:17:18.461Z"
   },
   {
    "duration": 1100,
    "start_time": "2022-12-25T12:17:20.571Z"
   },
   {
    "duration": 1078,
    "start_time": "2022-12-25T12:17:39.281Z"
   },
   {
    "duration": 1164,
    "start_time": "2022-12-25T12:17:41.238Z"
   },
   {
    "duration": 1078,
    "start_time": "2022-12-25T12:17:43.104Z"
   },
   {
    "duration": 1097,
    "start_time": "2022-12-25T12:17:44.763Z"
   },
   {
    "duration": 4,
    "start_time": "2022-12-25T12:18:15.820Z"
   },
   {
    "duration": 581,
    "start_time": "2022-12-25T12:18:15.827Z"
   },
   {
    "duration": 9,
    "start_time": "2022-12-25T12:18:16.413Z"
   },
   {
    "duration": 822,
    "start_time": "2022-12-25T12:18:16.426Z"
   },
   {
    "duration": 416,
    "start_time": "2022-12-25T12:18:17.250Z"
   },
   {
    "duration": 451,
    "start_time": "2022-12-25T12:18:17.667Z"
   },
   {
    "duration": 6,
    "start_time": "2022-12-25T12:18:18.122Z"
   },
   {
    "duration": 31,
    "start_time": "2022-12-25T12:18:18.130Z"
   },
   {
    "duration": 161,
    "start_time": "2022-12-25T12:18:18.172Z"
   },
   {
    "duration": 181,
    "start_time": "2022-12-25T12:18:18.338Z"
   },
   {
    "duration": 414,
    "start_time": "2022-12-25T12:18:18.524Z"
   },
   {
    "duration": 75,
    "start_time": "2022-12-25T12:18:18.940Z"
   },
   {
    "duration": 116,
    "start_time": "2022-12-25T12:18:19.017Z"
   },
   {
    "duration": 34,
    "start_time": "2022-12-25T12:18:19.136Z"
   },
   {
    "duration": 21,
    "start_time": "2022-12-25T12:18:19.172Z"
   },
   {
    "duration": 8,
    "start_time": "2022-12-25T12:18:19.196Z"
   },
   {
    "duration": 47,
    "start_time": "2022-12-25T12:18:19.206Z"
   },
   {
    "duration": 1086,
    "start_time": "2022-12-25T12:18:19.255Z"
   },
   {
    "duration": 1086,
    "start_time": "2022-12-25T12:18:20.346Z"
   },
   {
    "duration": 1105,
    "start_time": "2022-12-25T12:18:21.434Z"
   },
   {
    "duration": 6,
    "start_time": "2022-12-25T12:25:18.990Z"
   },
   {
    "duration": 19,
    "start_time": "2022-12-25T12:25:45.974Z"
   },
   {
    "duration": 1017,
    "start_time": "2022-12-25T12:25:50.819Z"
   },
   {
    "duration": 1085,
    "start_time": "2022-12-25T12:25:55.892Z"
   },
   {
    "duration": 1085,
    "start_time": "2022-12-25T12:25:58.417Z"
   },
   {
    "duration": 6,
    "start_time": "2022-12-25T12:26:38.808Z"
   },
   {
    "duration": 1007,
    "start_time": "2022-12-25T12:26:42.618Z"
   },
   {
    "duration": 1039,
    "start_time": "2022-12-25T12:26:44.528Z"
   },
   {
    "duration": 1081,
    "start_time": "2022-12-25T12:26:46.539Z"
   },
   {
    "duration": 1232,
    "start_time": "2022-12-25T12:32:03.811Z"
   },
   {
    "duration": 1107,
    "start_time": "2022-12-25T12:35:23.147Z"
   },
   {
    "duration": 3,
    "start_time": "2022-12-25T12:45:08.546Z"
   },
   {
    "duration": 4,
    "start_time": "2022-12-25T12:45:09.683Z"
   },
   {
    "duration": 5,
    "start_time": "2022-12-25T12:45:10.950Z"
   },
   {
    "duration": 980,
    "start_time": "2022-12-25T12:45:12.372Z"
   },
   {
    "duration": 949,
    "start_time": "2022-12-25T12:45:14.220Z"
   },
   {
    "duration": 1078,
    "start_time": "2022-12-25T12:45:15.950Z"
   },
   {
    "duration": 1032,
    "start_time": "2022-12-25T12:45:19.618Z"
   },
   {
    "duration": 1055,
    "start_time": "2022-12-25T12:45:21.512Z"
   },
   {
    "duration": 1024,
    "start_time": "2022-12-25T12:45:23.325Z"
   },
   {
    "duration": 956,
    "start_time": "2022-12-25T12:45:25.042Z"
   },
   {
    "duration": 996,
    "start_time": "2022-12-25T12:45:26.969Z"
   },
   {
    "duration": 1050,
    "start_time": "2022-12-25T12:45:28.708Z"
   },
   {
    "duration": 8,
    "start_time": "2022-12-25T12:46:16.098Z"
   },
   {
    "duration": 18,
    "start_time": "2022-12-25T12:46:19.987Z"
   },
   {
    "duration": 9,
    "start_time": "2022-12-26T07:56:41.809Z"
   },
   {
    "duration": 49,
    "start_time": "2022-12-26T07:56:42.501Z"
   },
   {
    "duration": 1454,
    "start_time": "2022-12-26T07:56:47.785Z"
   },
   {
    "duration": 728,
    "start_time": "2022-12-26T07:56:49.241Z"
   },
   {
    "duration": 4,
    "start_time": "2022-12-26T07:56:49.970Z"
   },
   {
    "duration": 405,
    "start_time": "2022-12-26T07:56:49.976Z"
   },
   {
    "duration": 407,
    "start_time": "2022-12-26T07:56:50.383Z"
   },
   {
    "duration": 386,
    "start_time": "2022-12-26T07:56:50.792Z"
   },
   {
    "duration": 6,
    "start_time": "2022-12-26T07:56:51.179Z"
   },
   {
    "duration": 127,
    "start_time": "2022-12-26T07:56:51.186Z"
   },
   {
    "duration": 120,
    "start_time": "2022-12-26T07:56:51.315Z"
   },
   {
    "duration": 122,
    "start_time": "2022-12-26T07:56:51.516Z"
   },
   {
    "duration": 676,
    "start_time": "2022-12-26T07:56:51.640Z"
   },
   {
    "duration": 94,
    "start_time": "2022-12-26T07:56:52.319Z"
   },
   {
    "duration": 8,
    "start_time": "2022-12-26T07:56:52.416Z"
   },
   {
    "duration": 94,
    "start_time": "2022-12-26T07:56:52.425Z"
   },
   {
    "duration": 6,
    "start_time": "2022-12-26T07:56:52.520Z"
   },
   {
    "duration": 10,
    "start_time": "2022-12-26T07:56:52.528Z"
   },
   {
    "duration": 5,
    "start_time": "2022-12-26T07:56:55.527Z"
   },
   {
    "duration": 18,
    "start_time": "2022-12-26T07:56:58.856Z"
   },
   {
    "duration": 1062,
    "start_time": "2022-12-26T07:57:00.839Z"
   },
   {
    "duration": 984,
    "start_time": "2022-12-26T07:57:02.875Z"
   },
   {
    "duration": 1028,
    "start_time": "2022-12-26T07:57:04.938Z"
   },
   {
    "duration": 1006,
    "start_time": "2022-12-26T07:57:06.849Z"
   },
   {
    "duration": 1047,
    "start_time": "2022-12-26T07:57:08.842Z"
   },
   {
    "duration": 990,
    "start_time": "2022-12-26T07:57:10.769Z"
   },
   {
    "duration": 1011,
    "start_time": "2022-12-26T07:57:14.539Z"
   },
   {
    "duration": 1052,
    "start_time": "2022-12-26T07:57:16.308Z"
   },
   {
    "duration": 1001,
    "start_time": "2022-12-26T07:57:18.001Z"
   },
   {
    "duration": 1028,
    "start_time": "2022-12-26T07:57:19.810Z"
   },
   {
    "duration": 1008,
    "start_time": "2022-12-26T07:57:23.584Z"
   },
   {
    "duration": 1011,
    "start_time": "2022-12-26T07:58:19.136Z"
   },
   {
    "duration": 963,
    "start_time": "2022-12-26T07:58:21.214Z"
   },
   {
    "duration": 967,
    "start_time": "2022-12-26T07:58:23.339Z"
   },
   {
    "duration": 1064,
    "start_time": "2022-12-26T07:58:26.158Z"
   },
   {
    "duration": 5,
    "start_time": "2022-12-26T08:00:44.115Z"
   },
   {
    "duration": 4,
    "start_time": "2022-12-26T08:00:45.188Z"
   },
   {
    "duration": 974,
    "start_time": "2022-12-26T08:00:48.094Z"
   },
   {
    "duration": 970,
    "start_time": "2022-12-26T08:00:49.852Z"
   },
   {
    "duration": 970,
    "start_time": "2022-12-26T08:00:51.547Z"
   },
   {
    "duration": 975,
    "start_time": "2022-12-26T08:00:53.139Z"
   },
   {
    "duration": 3,
    "start_time": "2022-12-26T08:01:57.868Z"
   },
   {
    "duration": 5,
    "start_time": "2022-12-26T08:01:58.996Z"
   },
   {
    "duration": 1005,
    "start_time": "2022-12-26T08:02:03.143Z"
   },
   {
    "duration": 1008,
    "start_time": "2022-12-26T08:02:05.264Z"
   },
   {
    "duration": 966,
    "start_time": "2022-12-26T08:02:07.026Z"
   },
   {
    "duration": 1009,
    "start_time": "2022-12-26T08:02:09.519Z"
   },
   {
    "duration": 1030,
    "start_time": "2022-12-26T08:02:12.445Z"
   },
   {
    "duration": 1253,
    "start_time": "2022-12-26T08:02:14.083Z"
   },
   {
    "duration": 44,
    "start_time": "2022-12-26T10:14:28.268Z"
   },
   {
    "duration": 1429,
    "start_time": "2022-12-26T10:14:33.619Z"
   },
   {
    "duration": 1673,
    "start_time": "2022-12-26T10:14:35.050Z"
   },
   {
    "duration": 3,
    "start_time": "2022-12-26T10:14:36.724Z"
   },
   {
    "duration": 364,
    "start_time": "2022-12-26T10:14:36.729Z"
   },
   {
    "duration": 372,
    "start_time": "2022-12-26T10:14:37.094Z"
   },
   {
    "duration": 350,
    "start_time": "2022-12-26T10:14:37.468Z"
   },
   {
    "duration": 14,
    "start_time": "2022-12-26T10:14:37.819Z"
   },
   {
    "duration": 100,
    "start_time": "2022-12-26T10:14:37.835Z"
   },
   {
    "duration": 287,
    "start_time": "2022-12-26T10:14:37.940Z"
   },
   {
    "duration": 201,
    "start_time": "2022-12-26T10:14:38.230Z"
   },
   {
    "duration": 511,
    "start_time": "2022-12-26T10:14:38.432Z"
   },
   {
    "duration": 83,
    "start_time": "2022-12-26T10:14:38.945Z"
   },
   {
    "duration": 106,
    "start_time": "2022-12-26T10:14:39.029Z"
   },
   {
    "duration": 7,
    "start_time": "2022-12-26T10:14:39.136Z"
   },
   {
    "duration": 8,
    "start_time": "2022-12-26T10:14:39.145Z"
   },
   {
    "duration": 8,
    "start_time": "2022-12-26T10:14:39.154Z"
   },
   {
    "duration": 11,
    "start_time": "2022-12-26T10:14:39.164Z"
   },
   {
    "duration": 6,
    "start_time": "2022-12-26T10:14:39.177Z"
   },
   {
    "duration": 24,
    "start_time": "2022-12-26T10:14:39.185Z"
   },
   {
    "duration": 963,
    "start_time": "2022-12-26T10:14:43.113Z"
   },
   {
    "duration": 1188,
    "start_time": "2022-12-26T10:15:55.168Z"
   },
   {
    "duration": 923,
    "start_time": "2022-12-26T10:16:04.622Z"
   },
   {
    "duration": 982,
    "start_time": "2022-12-26T10:16:06.490Z"
   },
   {
    "duration": 936,
    "start_time": "2022-12-26T10:16:08.315Z"
   },
   {
    "duration": 6,
    "start_time": "2022-12-26T10:18:34.249Z"
   },
   {
    "duration": 953,
    "start_time": "2022-12-26T10:18:38.792Z"
   },
   {
    "duration": 917,
    "start_time": "2022-12-26T10:19:30.032Z"
   },
   {
    "duration": 1025,
    "start_time": "2022-12-26T10:19:32.868Z"
   },
   {
    "duration": 1034,
    "start_time": "2022-12-26T10:19:35.059Z"
   },
   {
    "duration": 933,
    "start_time": "2022-12-26T10:19:36.940Z"
   },
   {
    "duration": 932,
    "start_time": "2022-12-26T10:19:39.311Z"
   },
   {
    "duration": 1005,
    "start_time": "2022-12-26T10:19:41.021Z"
   },
   {
    "duration": 947,
    "start_time": "2022-12-26T10:19:44.149Z"
   },
   {
    "duration": 985,
    "start_time": "2022-12-26T10:19:46.119Z"
   },
   {
    "duration": 1029,
    "start_time": "2022-12-26T10:19:47.918Z"
   },
   {
    "duration": 957,
    "start_time": "2022-12-26T10:20:00.353Z"
   },
   {
    "duration": 5,
    "start_time": "2022-12-26T10:20:18.964Z"
   },
   {
    "duration": 18,
    "start_time": "2022-12-26T10:20:22.570Z"
   },
   {
    "duration": 20,
    "start_time": "2022-12-26T10:20:24.349Z"
   },
   {
    "duration": 1051,
    "start_time": "2022-12-26T10:20:25.508Z"
   },
   {
    "duration": 960,
    "start_time": "2022-12-26T10:20:27.543Z"
   },
   {
    "duration": 963,
    "start_time": "2022-12-26T10:20:29.646Z"
   },
   {
    "duration": 1079,
    "start_time": "2022-12-26T10:20:31.540Z"
   },
   {
    "duration": 1006,
    "start_time": "2022-12-26T10:20:34.015Z"
   },
   {
    "duration": 5543,
    "start_time": "2022-12-27T04:50:13.988Z"
   },
   {
    "duration": 937,
    "start_time": "2022-12-27T04:50:19.533Z"
   },
   {
    "duration": 5,
    "start_time": "2022-12-27T04:50:20.472Z"
   },
   {
    "duration": 522,
    "start_time": "2022-12-27T04:50:20.480Z"
   },
   {
    "duration": 465,
    "start_time": "2022-12-27T04:50:21.004Z"
   },
   {
    "duration": 458,
    "start_time": "2022-12-27T04:50:21.471Z"
   },
   {
    "duration": 6,
    "start_time": "2022-12-27T04:50:21.930Z"
   },
   {
    "duration": 88,
    "start_time": "2022-12-27T04:50:21.938Z"
   },
   {
    "duration": 215,
    "start_time": "2022-12-27T04:50:22.028Z"
   },
   {
    "duration": 320,
    "start_time": "2022-12-27T04:50:22.246Z"
   },
   {
    "duration": 390,
    "start_time": "2022-12-27T04:50:22.568Z"
   },
   {
    "duration": 78,
    "start_time": "2022-12-27T04:50:22.961Z"
   },
   {
    "duration": 99,
    "start_time": "2022-12-27T04:50:23.044Z"
   },
   {
    "duration": 10,
    "start_time": "2022-12-27T04:50:23.145Z"
   },
   {
    "duration": 8,
    "start_time": "2022-12-27T04:50:23.157Z"
   },
   {
    "duration": 20,
    "start_time": "2022-12-27T04:50:23.166Z"
   },
   {
    "duration": 20,
    "start_time": "2022-12-27T04:50:23.187Z"
   },
   {
    "duration": 22,
    "start_time": "2022-12-27T04:50:23.209Z"
   },
   {
    "duration": 47,
    "start_time": "2022-12-27T04:50:23.234Z"
   },
   {
    "duration": 1023,
    "start_time": "2022-12-27T04:50:23.284Z"
   },
   {
    "duration": 1039,
    "start_time": "2022-12-27T04:50:24.309Z"
   },
   {
    "duration": 1046,
    "start_time": "2022-12-27T04:50:25.349Z"
   },
   {
    "duration": 3,
    "start_time": "2022-12-27T04:50:27.832Z"
   },
   {
    "duration": 5,
    "start_time": "2022-12-27T04:50:28.120Z"
   },
   {
    "duration": 20,
    "start_time": "2022-12-27T04:50:28.668Z"
   },
   {
    "duration": 1062,
    "start_time": "2022-12-27T04:50:31.213Z"
   },
   {
    "duration": 1072,
    "start_time": "2022-12-27T04:50:33.164Z"
   },
   {
    "duration": 1066,
    "start_time": "2022-12-27T04:50:34.238Z"
   },
   {
    "duration": 48,
    "start_time": "2022-12-27T06:39:51.232Z"
   },
   {
    "duration": 1571,
    "start_time": "2022-12-27T06:39:54.886Z"
   },
   {
    "duration": 768,
    "start_time": "2022-12-27T06:39:56.459Z"
   },
   {
    "duration": 3,
    "start_time": "2022-12-27T06:39:57.229Z"
   },
   {
    "duration": 403,
    "start_time": "2022-12-27T06:39:57.235Z"
   },
   {
    "duration": 396,
    "start_time": "2022-12-27T06:39:57.639Z"
   },
   {
    "duration": 402,
    "start_time": "2022-12-27T06:39:58.037Z"
   },
   {
    "duration": 6,
    "start_time": "2022-12-27T06:39:58.441Z"
   },
   {
    "duration": 168,
    "start_time": "2022-12-27T06:39:58.448Z"
   },
   {
    "duration": 115,
    "start_time": "2022-12-27T06:39:58.619Z"
   },
   {
    "duration": 290,
    "start_time": "2022-12-27T06:39:58.737Z"
   },
   {
    "duration": 508,
    "start_time": "2022-12-27T06:39:59.121Z"
   },
   {
    "duration": 86,
    "start_time": "2022-12-27T06:39:59.631Z"
   },
   {
    "duration": 103,
    "start_time": "2022-12-27T06:39:59.719Z"
   },
   {
    "duration": 9,
    "start_time": "2022-12-27T06:39:59.823Z"
   },
   {
    "duration": 7,
    "start_time": "2022-12-27T06:39:59.834Z"
   },
   {
    "duration": 11,
    "start_time": "2022-12-27T06:39:59.843Z"
   },
   {
    "duration": 6,
    "start_time": "2022-12-27T06:39:59.857Z"
   },
   {
    "duration": 7,
    "start_time": "2022-12-27T06:39:59.864Z"
   },
   {
    "duration": 22,
    "start_time": "2022-12-27T06:39:59.873Z"
   },
   {
    "duration": 1002,
    "start_time": "2022-12-27T06:40:04.470Z"
   },
   {
    "duration": 948,
    "start_time": "2022-12-27T06:40:06.694Z"
   },
   {
    "duration": 5,
    "start_time": "2022-12-27T06:42:24.815Z"
   },
   {
    "duration": 959,
    "start_time": "2022-12-27T06:42:27.942Z"
   },
   {
    "duration": 976,
    "start_time": "2022-12-27T06:42:30.104Z"
   },
   {
    "duration": 998,
    "start_time": "2022-12-27T06:42:31.962Z"
   },
   {
    "duration": 956,
    "start_time": "2022-12-27T06:42:34.060Z"
   },
   {
    "duration": 997,
    "start_time": "2022-12-27T06:42:35.903Z"
   },
   {
    "duration": 1028,
    "start_time": "2022-12-27T06:42:37.584Z"
   },
   {
    "duration": 5,
    "start_time": "2022-12-27T06:43:23.255Z"
   },
   {
    "duration": 1003,
    "start_time": "2022-12-27T06:43:26.037Z"
   },
   {
    "duration": 1022,
    "start_time": "2022-12-27T06:43:27.910Z"
   },
   {
    "duration": 981,
    "start_time": "2022-12-27T06:43:29.635Z"
   },
   {
    "duration": 967,
    "start_time": "2022-12-27T06:43:31.535Z"
   },
   {
    "duration": 5,
    "start_time": "2022-12-27T06:44:08.132Z"
   },
   {
    "duration": 1059,
    "start_time": "2022-12-27T06:44:12.400Z"
   },
   {
    "duration": 988,
    "start_time": "2022-12-27T06:44:14.691Z"
   },
   {
    "duration": 957,
    "start_time": "2022-12-27T06:44:16.601Z"
   },
   {
    "duration": 975,
    "start_time": "2022-12-27T06:44:18.680Z"
   },
   {
    "duration": 925,
    "start_time": "2022-12-27T06:44:20.583Z"
   },
   {
    "duration": 953,
    "start_time": "2022-12-27T06:44:22.499Z"
   },
   {
    "duration": 969,
    "start_time": "2022-12-27T06:44:24.561Z"
   },
   {
    "duration": 975,
    "start_time": "2022-12-27T06:44:26.318Z"
   },
   {
    "duration": 979,
    "start_time": "2022-12-27T06:44:31.128Z"
   },
   {
    "duration": 1046,
    "start_time": "2022-12-27T06:44:32.785Z"
   },
   {
    "duration": 967,
    "start_time": "2022-12-27T06:44:34.655Z"
   },
   {
    "duration": 3,
    "start_time": "2022-12-27T06:48:26.513Z"
   },
   {
    "duration": 5,
    "start_time": "2022-12-27T06:48:27.709Z"
   },
   {
    "duration": 18,
    "start_time": "2022-12-27T06:48:29.904Z"
   },
   {
    "duration": 1033,
    "start_time": "2022-12-27T06:48:31.885Z"
   },
   {
    "duration": 970,
    "start_time": "2022-12-27T06:48:33.588Z"
   },
   {
    "duration": 967,
    "start_time": "2022-12-27T06:48:35.216Z"
   },
   {
    "duration": 952,
    "start_time": "2022-12-27T06:48:36.707Z"
   },
   {
    "duration": 5,
    "start_time": "2022-12-27T06:49:09.971Z"
   },
   {
    "duration": 6,
    "start_time": "2022-12-27T06:49:10.717Z"
   },
   {
    "duration": 6,
    "start_time": "2022-12-27T06:49:11.293Z"
   },
   {
    "duration": 5,
    "start_time": "2022-12-27T06:49:11.826Z"
   },
   {
    "duration": 6,
    "start_time": "2022-12-27T06:49:12.446Z"
   },
   {
    "duration": 5,
    "start_time": "2022-12-27T06:49:12.972Z"
   },
   {
    "duration": 8,
    "start_time": "2022-12-28T10:40:18.223Z"
   },
   {
    "duration": 43,
    "start_time": "2022-12-28T10:40:21.006Z"
   },
   {
    "duration": 1279,
    "start_time": "2022-12-28T10:40:27.008Z"
   },
   {
    "duration": 807,
    "start_time": "2022-12-28T10:40:28.288Z"
   },
   {
    "duration": 4,
    "start_time": "2022-12-28T10:40:29.097Z"
   },
   {
    "duration": 420,
    "start_time": "2022-12-28T10:40:31.326Z"
   },
   {
    "duration": 3,
    "start_time": "2022-12-28T10:40:43.565Z"
   },
   {
    "duration": 131,
    "start_time": "2022-12-28T10:40:45.117Z"
   },
   {
    "duration": 3,
    "start_time": "2022-12-28T10:40:57.820Z"
   },
   {
    "duration": 368,
    "start_time": "2022-12-28T10:40:59.008Z"
   },
   {
    "duration": 10,
    "start_time": "2022-12-28T19:02:13.533Z"
   },
   {
    "duration": 40,
    "start_time": "2022-12-28T19:02:18.084Z"
   },
   {
    "duration": 1345,
    "start_time": "2022-12-28T19:02:22.547Z"
   },
   {
    "duration": 775,
    "start_time": "2022-12-28T19:02:23.895Z"
   },
   {
    "duration": 4,
    "start_time": "2022-12-28T19:02:24.672Z"
   },
   {
    "duration": 450,
    "start_time": "2022-12-28T19:02:24.678Z"
   },
   {
    "duration": 395,
    "start_time": "2022-12-28T19:02:25.129Z"
   },
   {
    "duration": 409,
    "start_time": "2022-12-28T19:02:25.526Z"
   },
   {
    "duration": 7,
    "start_time": "2022-12-28T19:02:25.937Z"
   },
   {
    "duration": 65,
    "start_time": "2022-12-28T19:02:25.946Z"
   },
   {
    "duration": 118,
    "start_time": "2022-12-28T19:02:26.099Z"
   },
   {
    "duration": 277,
    "start_time": "2022-12-28T19:02:26.221Z"
   },
   {
    "duration": 604,
    "start_time": "2022-12-28T19:02:26.500Z"
   },
   {
    "duration": 93,
    "start_time": "2022-12-28T19:02:27.105Z"
   },
   {
    "duration": 105,
    "start_time": "2022-12-28T19:02:27.200Z"
   },
   {
    "duration": 32,
    "start_time": "2022-12-28T19:02:27.307Z"
   },
   {
    "duration": 5,
    "start_time": "2022-12-28T19:02:27.341Z"
   },
   {
    "duration": 14,
    "start_time": "2022-12-28T19:02:27.347Z"
   },
   {
    "duration": 6,
    "start_time": "2022-12-28T19:02:27.363Z"
   },
   {
    "duration": 30,
    "start_time": "2022-12-28T19:02:27.370Z"
   },
   {
    "duration": 5,
    "start_time": "2022-12-28T19:02:33.380Z"
   },
   {
    "duration": 17,
    "start_time": "2022-12-28T19:02:34.913Z"
   },
   {
    "duration": 952,
    "start_time": "2022-12-28T19:02:36.439Z"
   },
   {
    "duration": 1065,
    "start_time": "2022-12-28T19:02:42.961Z"
   },
   {
    "duration": 1122,
    "start_time": "2022-12-28T19:02:45.021Z"
   },
   {
    "duration": 1000,
    "start_time": "2022-12-28T19:02:47.008Z"
   },
   {
    "duration": 6,
    "start_time": "2022-12-28T19:02:55.716Z"
   },
   {
    "duration": 20,
    "start_time": "2022-12-28T19:02:57.234Z"
   },
   {
    "duration": 886,
    "start_time": "2022-12-28T19:03:00.105Z"
   },
   {
    "duration": 896,
    "start_time": "2022-12-28T19:03:02.462Z"
   },
   {
    "duration": 955,
    "start_time": "2022-12-28T19:04:05.217Z"
   },
   {
    "duration": 900,
    "start_time": "2022-12-28T19:04:06.971Z"
   },
   {
    "duration": 973,
    "start_time": "2022-12-28T19:04:08.534Z"
   },
   {
    "duration": 920,
    "start_time": "2022-12-28T19:04:11.605Z"
   },
   {
    "duration": 1090,
    "start_time": "2022-12-28T19:04:13.982Z"
   },
   {
    "duration": 950,
    "start_time": "2022-12-28T19:14:18.198Z"
   }
  ],
  "kernelspec": {
   "display_name": "Python 3 (ipykernel)",
   "language": "python",
   "name": "python3"
  },
  "language_info": {
   "codemirror_mode": {
    "name": "ipython",
    "version": 3
   },
   "file_extension": ".py",
   "mimetype": "text/x-python",
   "name": "python",
   "nbconvert_exporter": "python",
   "pygments_lexer": "ipython3",
   "version": "3.9.12"
  },
  "toc": {
   "base_numbering": 1,
   "nav_menu": {},
   "number_sections": true,
   "sideBar": true,
   "skip_h1_title": true,
   "title_cell": "Table of Contents",
   "title_sidebar": "Contents",
   "toc_cell": false,
   "toc_position": {},
   "toc_section_display": true,
   "toc_window_display": false
  }
 },
 "nbformat": 4,
 "nbformat_minor": 2
}

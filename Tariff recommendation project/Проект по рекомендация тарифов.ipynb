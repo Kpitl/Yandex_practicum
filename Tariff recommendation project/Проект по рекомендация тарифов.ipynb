{
 "cells": [
  {
   "cell_type": "markdown",
   "metadata": {},
   "source": [
    "# Рекомендация тарифов"
   ]
  },
  {
   "cell_type": "markdown",
   "metadata": {},
   "source": [
    "В вашем распоряжении данные о поведении клиентов, которые уже перешли на эти тарифы (из проекта курса «Статистический анализ данных»). Нужно построить модель для задачи классификации, которая выберет подходящий тариф. Предобработка данных не понадобится — вы её уже сделали.\n",
    "\n",
    "Постройте модель с максимально большим значением *accuracy*. Чтобы сдать проект успешно, нужно довести долю правильных ответов по крайней мере до 0.75. Проверьте *accuracy* на тестовой выборке самостоятельно."
   ]
  },
  {
   "cell_type": "markdown",
   "metadata": {},
   "source": [
    "## Откройте и изучите файл"
   ]
  },
  {
   "cell_type": "code",
   "execution_count": 2,
   "metadata": {},
   "outputs": [],
   "source": [
    "# Импортируем все необходимые библиотеки \n",
    "import pandas as pd\n",
    "import matplotlib.pyplot as plt\n",
    "from sklearn.tree import DecisionTreeClassifier\n",
    "from sklearn.dummy import DummyClassifier\n",
    "from sklearn.model_selection import train_test_split\n",
    "from sklearn.ensemble import RandomForestClassifier\n",
    "from sklearn.metrics import accuracy_score\n",
    "from sklearn.linear_model import LogisticRegression\n",
    "from joblib import dump\n",
    "from tqdm import tqdm"
   ]
  },
  {
   "cell_type": "code",
   "execution_count": 3,
   "metadata": {},
   "outputs": [
    {
     "data": {
      "text/plain": [
       "<bound method NDFrame.sample of       calls  minutes  messages   mb_used  is_ultra\n",
       "0      40.0   311.90      83.0  19915.42         0\n",
       "1      85.0   516.75      56.0  22696.96         0\n",
       "2      77.0   467.66      86.0  21060.45         0\n",
       "3     106.0   745.53      81.0   8437.39         1\n",
       "4      66.0   418.74       1.0  14502.75         0\n",
       "...     ...      ...       ...       ...       ...\n",
       "3209  122.0   910.98      20.0  35124.90         1\n",
       "3210   25.0   190.36       0.0   3275.61         0\n",
       "3211   97.0   634.44      70.0  13974.06         0\n",
       "3212   64.0   462.32      90.0  31239.78         0\n",
       "3213   80.0   566.09       6.0  29480.52         1\n",
       "\n",
       "[3214 rows x 5 columns]>"
      ]
     },
     "metadata": {},
     "output_type": "display_data"
    },
    {
     "name": "stdout",
     "output_type": "stream",
     "text": [
      "<class 'pandas.core.frame.DataFrame'>\n",
      "RangeIndex: 3214 entries, 0 to 3213\n",
      "Data columns (total 5 columns):\n",
      " #   Column    Non-Null Count  Dtype  \n",
      "---  ------    --------------  -----  \n",
      " 0   calls     3214 non-null   float64\n",
      " 1   minutes   3214 non-null   float64\n",
      " 2   messages  3214 non-null   float64\n",
      " 3   mb_used   3214 non-null   float64\n",
      " 4   is_ultra  3214 non-null   int64  \n",
      "dtypes: float64(4), int64(1)\n",
      "memory usage: 125.7 KB\n"
     ]
    },
    {
     "data": {
      "text/html": [
       "<div>\n",
       "<style scoped>\n",
       "    .dataframe tbody tr th:only-of-type {\n",
       "        vertical-align: middle;\n",
       "    }\n",
       "\n",
       "    .dataframe tbody tr th {\n",
       "        vertical-align: top;\n",
       "    }\n",
       "\n",
       "    .dataframe thead th {\n",
       "        text-align: right;\n",
       "    }\n",
       "</style>\n",
       "<table border=\"1\" class=\"dataframe\">\n",
       "  <thead>\n",
       "    <tr style=\"text-align: right;\">\n",
       "      <th></th>\n",
       "      <th>calls</th>\n",
       "      <th>minutes</th>\n",
       "      <th>messages</th>\n",
       "      <th>mb_used</th>\n",
       "      <th>is_ultra</th>\n",
       "    </tr>\n",
       "  </thead>\n",
       "  <tbody>\n",
       "    <tr>\n",
       "      <th>count</th>\n",
       "      <td>3214.000000</td>\n",
       "      <td>3214.000000</td>\n",
       "      <td>3214.000000</td>\n",
       "      <td>3214.000000</td>\n",
       "      <td>3214.000000</td>\n",
       "    </tr>\n",
       "    <tr>\n",
       "      <th>mean</th>\n",
       "      <td>63.038892</td>\n",
       "      <td>438.208787</td>\n",
       "      <td>38.281269</td>\n",
       "      <td>17207.673836</td>\n",
       "      <td>0.306472</td>\n",
       "    </tr>\n",
       "    <tr>\n",
       "      <th>std</th>\n",
       "      <td>33.236368</td>\n",
       "      <td>234.569872</td>\n",
       "      <td>36.148326</td>\n",
       "      <td>7570.968246</td>\n",
       "      <td>0.461100</td>\n",
       "    </tr>\n",
       "    <tr>\n",
       "      <th>min</th>\n",
       "      <td>0.000000</td>\n",
       "      <td>0.000000</td>\n",
       "      <td>0.000000</td>\n",
       "      <td>0.000000</td>\n",
       "      <td>0.000000</td>\n",
       "    </tr>\n",
       "    <tr>\n",
       "      <th>25%</th>\n",
       "      <td>40.000000</td>\n",
       "      <td>274.575000</td>\n",
       "      <td>9.000000</td>\n",
       "      <td>12491.902500</td>\n",
       "      <td>0.000000</td>\n",
       "    </tr>\n",
       "    <tr>\n",
       "      <th>50%</th>\n",
       "      <td>62.000000</td>\n",
       "      <td>430.600000</td>\n",
       "      <td>30.000000</td>\n",
       "      <td>16943.235000</td>\n",
       "      <td>0.000000</td>\n",
       "    </tr>\n",
       "    <tr>\n",
       "      <th>75%</th>\n",
       "      <td>82.000000</td>\n",
       "      <td>571.927500</td>\n",
       "      <td>57.000000</td>\n",
       "      <td>21424.700000</td>\n",
       "      <td>1.000000</td>\n",
       "    </tr>\n",
       "    <tr>\n",
       "      <th>max</th>\n",
       "      <td>244.000000</td>\n",
       "      <td>1632.060000</td>\n",
       "      <td>224.000000</td>\n",
       "      <td>49745.730000</td>\n",
       "      <td>1.000000</td>\n",
       "    </tr>\n",
       "  </tbody>\n",
       "</table>\n",
       "</div>"
      ],
      "text/plain": [
       "             calls      minutes     messages       mb_used     is_ultra\n",
       "count  3214.000000  3214.000000  3214.000000   3214.000000  3214.000000\n",
       "mean     63.038892   438.208787    38.281269  17207.673836     0.306472\n",
       "std      33.236368   234.569872    36.148326   7570.968246     0.461100\n",
       "min       0.000000     0.000000     0.000000      0.000000     0.000000\n",
       "25%      40.000000   274.575000     9.000000  12491.902500     0.000000\n",
       "50%      62.000000   430.600000    30.000000  16943.235000     0.000000\n",
       "75%      82.000000   571.927500    57.000000  21424.700000     1.000000\n",
       "max     244.000000  1632.060000   224.000000  49745.730000     1.000000"
      ]
     },
     "execution_count": 3,
     "metadata": {},
     "output_type": "execute_result"
    }
   ],
   "source": [
    "# Открытие файла /datasets/users_behavior и сохранение его в переменную df\n",
    "try:\n",
    "    df = pd.read_csv('/datasets/users_behavior.csv')\n",
    "except:\n",
    "    df = pd.read_csv('users_behavior.csv')\n",
    "\n",
    "# Вывод таблицы\n",
    "display(df.sample)\n",
    "\n",
    "# Вывод информации о типах данных в таблицах  \n",
    "df.info()\n",
    "\n",
    "df.describe()"
   ]
  },
  {
   "cell_type": "code",
   "execution_count": 4,
   "metadata": {},
   "outputs": [
    {
     "data": {
      "text/plain": [
       "calls       0\n",
       "minutes     0\n",
       "messages    0\n",
       "mb_used     0\n",
       "is_ultra    0\n",
       "dtype: int64"
      ]
     },
     "execution_count": 4,
     "metadata": {},
     "output_type": "execute_result"
    }
   ],
   "source": [
    "# вывод количества пропущенных значений\n",
    "df.isna().sum()"
   ]
  },
  {
   "cell_type": "code",
   "execution_count": 5,
   "metadata": {},
   "outputs": [
    {
     "data": {
      "text/plain": [
       "0"
      ]
     },
     "execution_count": 5,
     "metadata": {},
     "output_type": "execute_result"
    }
   ],
   "source": [
    "df.duplicated().sum()"
   ]
  },
  {
   "cell_type": "markdown",
   "metadata": {},
   "source": [
    "**Вывод:** в таблицах отсутствуют пропущенные значения и дупликаты, дополниельной предобработки не требуется "
   ]
  },
  {
   "cell_type": "markdown",
   "metadata": {},
   "source": [
    "## Разбейте данные на выборки"
   ]
  },
  {
   "cell_type": "markdown",
   "metadata": {},
   "source": [
    "Разделим исходные данные на три выборки: обучающую, валидационную и тестовую. Так как у нас нет спрятанной тестовой выборки, то данные нужно разбить на три части в соотношении 3:1:1"
   ]
  },
  {
   "cell_type": "code",
   "execution_count": 5,
   "metadata": {},
   "outputs": [
    {
     "data": {
      "text/html": [
       "<div>\n",
       "<style scoped>\n",
       "    .dataframe tbody tr th:only-of-type {\n",
       "        vertical-align: middle;\n",
       "    }\n",
       "\n",
       "    .dataframe tbody tr th {\n",
       "        vertical-align: top;\n",
       "    }\n",
       "\n",
       "    .dataframe thead th {\n",
       "        text-align: right;\n",
       "    }\n",
       "</style>\n",
       "<table border=\"1\" class=\"dataframe\">\n",
       "  <thead>\n",
       "    <tr style=\"text-align: right;\">\n",
       "      <th></th>\n",
       "      <th>calls</th>\n",
       "      <th>minutes</th>\n",
       "      <th>messages</th>\n",
       "      <th>mb_used</th>\n",
       "      <th>is_ultra</th>\n",
       "    </tr>\n",
       "  </thead>\n",
       "  <tbody>\n",
       "    <tr>\n",
       "      <th>341</th>\n",
       "      <td>108.0</td>\n",
       "      <td>728.68</td>\n",
       "      <td>4.0</td>\n",
       "      <td>14340.84</td>\n",
       "      <td>1</td>\n",
       "    </tr>\n",
       "    <tr>\n",
       "      <th>1803</th>\n",
       "      <td>54.0</td>\n",
       "      <td>386.47</td>\n",
       "      <td>68.0</td>\n",
       "      <td>27401.56</td>\n",
       "      <td>0</td>\n",
       "    </tr>\n",
       "    <tr>\n",
       "      <th>888</th>\n",
       "      <td>46.0</td>\n",
       "      <td>308.33</td>\n",
       "      <td>23.0</td>\n",
       "      <td>18865.35</td>\n",
       "      <td>0</td>\n",
       "    </tr>\n",
       "    <tr>\n",
       "      <th>1172</th>\n",
       "      <td>144.0</td>\n",
       "      <td>1031.79</td>\n",
       "      <td>99.0</td>\n",
       "      <td>40174.34</td>\n",
       "      <td>1</td>\n",
       "    </tr>\n",
       "    <tr>\n",
       "      <th>412</th>\n",
       "      <td>89.0</td>\n",
       "      <td>716.92</td>\n",
       "      <td>22.0</td>\n",
       "      <td>29139.66</td>\n",
       "      <td>1</td>\n",
       "    </tr>\n",
       "    <tr>\n",
       "      <th>...</th>\n",
       "      <td>...</td>\n",
       "      <td>...</td>\n",
       "      <td>...</td>\n",
       "      <td>...</td>\n",
       "      <td>...</td>\n",
       "    </tr>\n",
       "    <tr>\n",
       "      <th>2513</th>\n",
       "      <td>39.0</td>\n",
       "      <td>242.71</td>\n",
       "      <td>0.0</td>\n",
       "      <td>20480.11</td>\n",
       "      <td>0</td>\n",
       "    </tr>\n",
       "    <tr>\n",
       "      <th>3004</th>\n",
       "      <td>108.0</td>\n",
       "      <td>772.08</td>\n",
       "      <td>91.0</td>\n",
       "      <td>14948.40</td>\n",
       "      <td>0</td>\n",
       "    </tr>\n",
       "    <tr>\n",
       "      <th>439</th>\n",
       "      <td>52.0</td>\n",
       "      <td>342.10</td>\n",
       "      <td>4.0</td>\n",
       "      <td>17785.85</td>\n",
       "      <td>0</td>\n",
       "    </tr>\n",
       "    <tr>\n",
       "      <th>516</th>\n",
       "      <td>53.0</td>\n",
       "      <td>385.59</td>\n",
       "      <td>63.0</td>\n",
       "      <td>16987.84</td>\n",
       "      <td>0</td>\n",
       "    </tr>\n",
       "    <tr>\n",
       "      <th>3184</th>\n",
       "      <td>87.0</td>\n",
       "      <td>609.21</td>\n",
       "      <td>77.0</td>\n",
       "      <td>18405.39</td>\n",
       "      <td>0</td>\n",
       "    </tr>\n",
       "  </tbody>\n",
       "</table>\n",
       "<p>2056 rows × 5 columns</p>\n",
       "</div>"
      ],
      "text/plain": [
       "      calls  minutes  messages   mb_used  is_ultra\n",
       "341   108.0   728.68       4.0  14340.84         1\n",
       "1803   54.0   386.47      68.0  27401.56         0\n",
       "888    46.0   308.33      23.0  18865.35         0\n",
       "1172  144.0  1031.79      99.0  40174.34         1\n",
       "412    89.0   716.92      22.0  29139.66         1\n",
       "...     ...      ...       ...       ...       ...\n",
       "2513   39.0   242.71       0.0  20480.11         0\n",
       "3004  108.0   772.08      91.0  14948.40         0\n",
       "439    52.0   342.10       4.0  17785.85         0\n",
       "516    53.0   385.59      63.0  16987.84         0\n",
       "3184   87.0   609.21      77.0  18405.39         0\n",
       "\n",
       "[2056 rows x 5 columns]"
      ]
     },
     "metadata": {},
     "output_type": "display_data"
    },
    {
     "data": {
      "text/html": [
       "<div>\n",
       "<style scoped>\n",
       "    .dataframe tbody tr th:only-of-type {\n",
       "        vertical-align: middle;\n",
       "    }\n",
       "\n",
       "    .dataframe tbody tr th {\n",
       "        vertical-align: top;\n",
       "    }\n",
       "\n",
       "    .dataframe thead th {\n",
       "        text-align: right;\n",
       "    }\n",
       "</style>\n",
       "<table border=\"1\" class=\"dataframe\">\n",
       "  <thead>\n",
       "    <tr style=\"text-align: right;\">\n",
       "      <th></th>\n",
       "      <th>calls</th>\n",
       "      <th>minutes</th>\n",
       "      <th>messages</th>\n",
       "      <th>mb_used</th>\n",
       "      <th>is_ultra</th>\n",
       "    </tr>\n",
       "  </thead>\n",
       "  <tbody>\n",
       "    <tr>\n",
       "      <th>1151</th>\n",
       "      <td>53.0</td>\n",
       "      <td>459.43</td>\n",
       "      <td>78.0</td>\n",
       "      <td>21131.38</td>\n",
       "      <td>0</td>\n",
       "    </tr>\n",
       "    <tr>\n",
       "      <th>1633</th>\n",
       "      <td>87.0</td>\n",
       "      <td>638.31</td>\n",
       "      <td>76.0</td>\n",
       "      <td>28239.49</td>\n",
       "      <td>1</td>\n",
       "    </tr>\n",
       "    <tr>\n",
       "      <th>827</th>\n",
       "      <td>54.0</td>\n",
       "      <td>448.87</td>\n",
       "      <td>0.0</td>\n",
       "      <td>9670.72</td>\n",
       "      <td>0</td>\n",
       "    </tr>\n",
       "    <tr>\n",
       "      <th>280</th>\n",
       "      <td>68.0</td>\n",
       "      <td>413.20</td>\n",
       "      <td>29.0</td>\n",
       "      <td>13526.61</td>\n",
       "      <td>1</td>\n",
       "    </tr>\n",
       "    <tr>\n",
       "      <th>2970</th>\n",
       "      <td>56.0</td>\n",
       "      <td>382.18</td>\n",
       "      <td>12.0</td>\n",
       "      <td>21071.42</td>\n",
       "      <td>0</td>\n",
       "    </tr>\n",
       "    <tr>\n",
       "      <th>...</th>\n",
       "      <td>...</td>\n",
       "      <td>...</td>\n",
       "      <td>...</td>\n",
       "      <td>...</td>\n",
       "      <td>...</td>\n",
       "    </tr>\n",
       "    <tr>\n",
       "      <th>346</th>\n",
       "      <td>54.0</td>\n",
       "      <td>394.52</td>\n",
       "      <td>59.0</td>\n",
       "      <td>16207.41</td>\n",
       "      <td>0</td>\n",
       "    </tr>\n",
       "    <tr>\n",
       "      <th>1097</th>\n",
       "      <td>69.0</td>\n",
       "      <td>449.93</td>\n",
       "      <td>64.0</td>\n",
       "      <td>15557.04</td>\n",
       "      <td>0</td>\n",
       "    </tr>\n",
       "    <tr>\n",
       "      <th>1477</th>\n",
       "      <td>98.0</td>\n",
       "      <td>703.16</td>\n",
       "      <td>4.0</td>\n",
       "      <td>25391.67</td>\n",
       "      <td>1</td>\n",
       "    </tr>\n",
       "    <tr>\n",
       "      <th>2836</th>\n",
       "      <td>56.0</td>\n",
       "      <td>433.63</td>\n",
       "      <td>22.0</td>\n",
       "      <td>20869.68</td>\n",
       "      <td>0</td>\n",
       "    </tr>\n",
       "    <tr>\n",
       "      <th>3151</th>\n",
       "      <td>84.0</td>\n",
       "      <td>622.60</td>\n",
       "      <td>32.0</td>\n",
       "      <td>16318.74</td>\n",
       "      <td>0</td>\n",
       "    </tr>\n",
       "  </tbody>\n",
       "</table>\n",
       "<p>643 rows × 5 columns</p>\n",
       "</div>"
      ],
      "text/plain": [
       "      calls  minutes  messages   mb_used  is_ultra\n",
       "1151   53.0   459.43      78.0  21131.38         0\n",
       "1633   87.0   638.31      76.0  28239.49         1\n",
       "827    54.0   448.87       0.0   9670.72         0\n",
       "280    68.0   413.20      29.0  13526.61         1\n",
       "2970   56.0   382.18      12.0  21071.42         0\n",
       "...     ...      ...       ...       ...       ...\n",
       "346    54.0   394.52      59.0  16207.41         0\n",
       "1097   69.0   449.93      64.0  15557.04         0\n",
       "1477   98.0   703.16       4.0  25391.67         1\n",
       "2836   56.0   433.63      22.0  20869.68         0\n",
       "3151   84.0   622.60      32.0  16318.74         0\n",
       "\n",
       "[643 rows x 5 columns]"
      ]
     },
     "metadata": {},
     "output_type": "display_data"
    },
    {
     "data": {
      "text/html": [
       "<div>\n",
       "<style scoped>\n",
       "    .dataframe tbody tr th:only-of-type {\n",
       "        vertical-align: middle;\n",
       "    }\n",
       "\n",
       "    .dataframe tbody tr th {\n",
       "        vertical-align: top;\n",
       "    }\n",
       "\n",
       "    .dataframe thead th {\n",
       "        text-align: right;\n",
       "    }\n",
       "</style>\n",
       "<table border=\"1\" class=\"dataframe\">\n",
       "  <thead>\n",
       "    <tr style=\"text-align: right;\">\n",
       "      <th></th>\n",
       "      <th>calls</th>\n",
       "      <th>minutes</th>\n",
       "      <th>messages</th>\n",
       "      <th>mb_used</th>\n",
       "      <th>is_ultra</th>\n",
       "    </tr>\n",
       "  </thead>\n",
       "  <tbody>\n",
       "    <tr>\n",
       "      <th>1409</th>\n",
       "      <td>40.0</td>\n",
       "      <td>247.63</td>\n",
       "      <td>0.0</td>\n",
       "      <td>21420.44</td>\n",
       "      <td>0</td>\n",
       "    </tr>\n",
       "    <tr>\n",
       "      <th>2967</th>\n",
       "      <td>80.0</td>\n",
       "      <td>583.37</td>\n",
       "      <td>58.0</td>\n",
       "      <td>20898.57</td>\n",
       "      <td>1</td>\n",
       "    </tr>\n",
       "    <tr>\n",
       "      <th>2105</th>\n",
       "      <td>102.0</td>\n",
       "      <td>760.64</td>\n",
       "      <td>0.0</td>\n",
       "      <td>23166.00</td>\n",
       "      <td>1</td>\n",
       "    </tr>\n",
       "    <tr>\n",
       "      <th>1675</th>\n",
       "      <td>65.0</td>\n",
       "      <td>426.35</td>\n",
       "      <td>75.0</td>\n",
       "      <td>12099.84</td>\n",
       "      <td>1</td>\n",
       "    </tr>\n",
       "    <tr>\n",
       "      <th>1929</th>\n",
       "      <td>34.0</td>\n",
       "      <td>239.76</td>\n",
       "      <td>62.0</td>\n",
       "      <td>10793.22</td>\n",
       "      <td>0</td>\n",
       "    </tr>\n",
       "    <tr>\n",
       "      <th>...</th>\n",
       "      <td>...</td>\n",
       "      <td>...</td>\n",
       "      <td>...</td>\n",
       "      <td>...</td>\n",
       "      <td>...</td>\n",
       "    </tr>\n",
       "    <tr>\n",
       "      <th>2431</th>\n",
       "      <td>55.0</td>\n",
       "      <td>347.15</td>\n",
       "      <td>15.0</td>\n",
       "      <td>10648.36</td>\n",
       "      <td>0</td>\n",
       "    </tr>\n",
       "    <tr>\n",
       "      <th>2950</th>\n",
       "      <td>97.0</td>\n",
       "      <td>705.23</td>\n",
       "      <td>30.0</td>\n",
       "      <td>14103.81</td>\n",
       "      <td>0</td>\n",
       "    </tr>\n",
       "    <tr>\n",
       "      <th>1859</th>\n",
       "      <td>184.0</td>\n",
       "      <td>1203.11</td>\n",
       "      <td>52.0</td>\n",
       "      <td>43931.39</td>\n",
       "      <td>1</td>\n",
       "    </tr>\n",
       "    <tr>\n",
       "      <th>1303</th>\n",
       "      <td>81.0</td>\n",
       "      <td>625.49</td>\n",
       "      <td>126.0</td>\n",
       "      <td>16538.89</td>\n",
       "      <td>1</td>\n",
       "    </tr>\n",
       "    <tr>\n",
       "      <th>1804</th>\n",
       "      <td>69.0</td>\n",
       "      <td>449.53</td>\n",
       "      <td>41.0</td>\n",
       "      <td>11087.66</td>\n",
       "      <td>0</td>\n",
       "    </tr>\n",
       "  </tbody>\n",
       "</table>\n",
       "<p>515 rows × 5 columns</p>\n",
       "</div>"
      ],
      "text/plain": [
       "      calls  minutes  messages   mb_used  is_ultra\n",
       "1409   40.0   247.63       0.0  21420.44         0\n",
       "2967   80.0   583.37      58.0  20898.57         1\n",
       "2105  102.0   760.64       0.0  23166.00         1\n",
       "1675   65.0   426.35      75.0  12099.84         1\n",
       "1929   34.0   239.76      62.0  10793.22         0\n",
       "...     ...      ...       ...       ...       ...\n",
       "2431   55.0   347.15      15.0  10648.36         0\n",
       "2950   97.0   705.23      30.0  14103.81         0\n",
       "1859  184.0  1203.11      52.0  43931.39         1\n",
       "1303   81.0   625.49     126.0  16538.89         1\n",
       "1804   69.0   449.53      41.0  11087.66         0\n",
       "\n",
       "[515 rows x 5 columns]"
      ]
     },
     "metadata": {},
     "output_type": "display_data"
    }
   ],
   "source": [
    "# Разделим исходные данные на тестовую и обучающую выборки\n",
    "df_train, df_test = train_test_split(df, test_size=0.2, random_state=59429, stratify=df['is_ultra'])\n",
    "\n",
    "# Теперь разделим тренировачные данные и отдадим 20 процентов валидационной выборке \n",
    "df_train, df_valid = train_test_split(df_train, test_size=0.2, random_state=59429, stratify=df_train['is_ultra'])\n",
    "\n",
    "# Выведем полученные таблицы\n",
    "display(df_train)\n",
    "display(df_test)\n",
    "display(df_valid)"
   ]
  },
  {
   "cell_type": "code",
   "execution_count": 6,
   "metadata": {},
   "outputs": [
    {
     "name": "stdout",
     "output_type": "stream",
     "text": [
      "(2056, 4)\n",
      "(2056,)\n",
      "(643, 4)\n",
      "(643,)\n",
      "(515, 4)\n",
      "(515,)\n"
     ]
    }
   ],
   "source": [
    "# Создадим переменные для признаков и целевого признака тренеровочной выборки: \n",
    "features_train = df_train.drop(['is_ultra'], axis=1)\n",
    "target_train = df_train['is_ultra']\n",
    "\n",
    "# Создадим переменные для признаков и целевого признака тестовой выборки: \n",
    "features_test = df_test.drop(['is_ultra'], axis=1)\n",
    "target_test = df_test['is_ultra']\n",
    "\n",
    "# Создадим переменные для признаков и целевого признака валидационной выборки: \n",
    "features_valid = df_valid.drop(['is_ultra'], axis=1)\n",
    "target_valid = df_valid['is_ultra']\n",
    "\n",
    "# Выведем результаты\n",
    "print(features_train.shape)\n",
    "print(target_train.shape)\n",
    "print(features_test.shape)\n",
    "print(target_test.shape)\n",
    "print(features_valid.shape)\n",
    "print(target_valid.shape)"
   ]
  },
  {
   "cell_type": "markdown",
   "metadata": {},
   "source": [
    "**Вывод:** Весь датафрейм разбит на три выборки: тренеровачная(60%), тестовая(20%) и валидационная(20%). Также для этих выборок созданы переменные с признаками. "
   ]
  },
  {
   "cell_type": "markdown",
   "metadata": {},
   "source": [
    "## Исследуйте модели"
   ]
  },
  {
   "cell_type": "markdown",
   "metadata": {},
   "source": [
    "Теперь определим качество моделей, меняя им гиперпараметры "
   ]
  },
  {
   "cell_type": "code",
   "execution_count": 7,
   "metadata": {},
   "outputs": [
    {
     "name": "stdout",
     "output_type": "stream",
     "text": [
      "max_depth = 1 : 0.7533980582524272\n",
      "max_depth = 2 : 0.7805825242718447\n",
      "max_depth = 3 : 0.7980582524271844\n",
      "max_depth = 4 : 0.7902912621359224\n",
      "max_depth = 5 : 0.8019417475728156\n"
     ]
    }
   ],
   "source": [
    "# Настроим гиперпараметры дерева решений от 1 до 5\n",
    "for depth in range(1, 6):\n",
    "    model = DecisionTreeClassifier(random_state=9058, max_depth=depth)\n",
    "    \n",
    "    model.fit(features_train, target_train)\n",
    "    \n",
    "    predictions_valid = model.predict(features_valid)\n",
    "    \n",
    "    print(\"max_depth =\", depth, \": \", end='')\n",
    "    print(accuracy_score(target_valid, predictions_valid))"
   ]
  },
  {
   "cell_type": "markdown",
   "metadata": {},
   "source": [
    "**Вывод:** Модель не стала лучше, поэтому необходимо использовать другую модель "
   ]
  },
  {
   "cell_type": "code",
   "execution_count": 8,
   "metadata": {},
   "outputs": [
    {
     "name": "stderr",
     "output_type": "stream",
     "text": [
      "100%|██████████| 14/14 [00:01<00:00, 13.24it/s]"
     ]
    },
    {
     "name": "stdout",
     "output_type": "stream",
     "text": [
      "Accuracy наилучшей модели на валидационной выборке: 0.8135922330097087\n",
      "CPU times: user 1.01 s, sys: 18.7 ms, total: 1.03 s\n",
      "Wall time: 1.06 s\n"
     ]
    },
    {
     "name": "stderr",
     "output_type": "stream",
     "text": [
      "\n"
     ]
    }
   ],
   "source": [
    "%%time\n",
    "# Обучим модель случайного леса, при котором будет выявлена лучшая метрика валидации \n",
    "best_model = None\n",
    "best_result = 0\n",
    "for est in tqdm(range(1, 15)):\n",
    "    for depth in range(5, 8):\n",
    "        model = RandomForestClassifier(random_state=9058, n_estimators=est, max_depth=depth)\n",
    "        model.fit(features_train, target_train)\n",
    "        result = model.score(features_valid, target_valid)\n",
    "        if result > best_result:\n",
    "            best_model = model\n",
    "            best_result = result\n",
    "print(\"Accuracy наилучшей модели на валидационной выборке:\", best_result)"
   ]
  },
  {
   "cell_type": "markdown",
   "metadata": {},
   "source": [
    "**Вывод:** В результате использования случайного леса с числом деревьев от 1 до 15 и глубинной от 5 до 8, выявлена лучшая метрика валидации   результат, которой составляет 0,81 "
   ]
  },
  {
   "cell_type": "markdown",
   "metadata": {},
   "source": [
    "Теперь попробуем применить модель логистической регрессии и посмотреть на результат: "
   ]
  },
  {
   "cell_type": "code",
   "execution_count": 9,
   "metadata": {},
   "outputs": [
    {
     "name": "stdout",
     "output_type": "stream",
     "text": [
      "Accuracy: 0.7067961165048544\n"
     ]
    }
   ],
   "source": [
    "model = LogisticRegression(random_state=9058, solver='lbfgs', max_iter=1000)\n",
    "\n",
    "model.fit(features_train, target_train)\n",
    "\n",
    "print(\"Accuracy:\", model.score(features_valid, target_valid))\n"
   ]
  },
  {
   "cell_type": "markdown",
   "metadata": {},
   "source": [
    "**Выводы:** Самое высокое качество показала модель случайного леса. На второе место стоит поставить логистическую регрессию, так как у неё меньше всего параметров, следовательно выше скорость работы и ей не грозит переобучение, в отличие от дерева решений "
   ]
  },
  {
   "cell_type": "markdown",
   "metadata": {},
   "source": [
    "## Проверьте модель на тестовой выборке"
   ]
  },
  {
   "cell_type": "code",
   "execution_count": 10,
   "metadata": {},
   "outputs": [
    {
     "name": "stdout",
     "output_type": "stream",
     "text": [
      "Accuracy на тестовой выборке: 0.7682737169517885\n"
     ]
    }
   ],
   "source": [
    "# Дообучим модель на тренеровачно-валидационной выборке \n",
    "features = pd.concat([features_train, features_valid])\n",
    "target = pd.concat([target_train, target_valid])\n",
    "\n",
    "# Проверка лучшей модели на тестовой выборке\n",
    "best_model = best_model.fit(features, target)\n",
    "pred_test = best_model.score(features_test, target_test)\n",
    "\n",
    "print(\"Accuracy на тестовой выборке:\", pred_test)"
   ]
  },
  {
   "cell_type": "markdown",
   "metadata": {},
   "source": [
    "**Вывод:** В результате проверки лучшей модели на тестовой выборки значение Accuracy получилось: 0.77"
   ]
  },
  {
   "cell_type": "markdown",
   "metadata": {},
   "source": [
    "## Проверка модели на адекватность"
   ]
  },
  {
   "cell_type": "code",
   "execution_count": 11,
   "metadata": {},
   "outputs": [
    {
     "data": {
      "text/plain": [
       "0.6936236391912908"
      ]
     },
     "execution_count": 11,
     "metadata": {},
     "output_type": "execute_result"
    }
   ],
   "source": [
    "dumm = DummyClassifier(strategy='most_frequent', random_state=1)\n",
    "dumm.fit(features_train, target_train)\n",
    "dumm.predict(features_test)\n",
    "dumm.score(features_test, target_test)"
   ]
  },
  {
   "cell_type": "markdown",
   "metadata": {},
   "source": [
    "**Вывод:** Accuracy при дисбалансе в таргете, составялет 69 %. Модель в целом можно расценивать, как адекватную."
   ]
  },
  {
   "cell_type": "markdown",
   "metadata": {},
   "source": [
    "## Чек-лист готовности проекта"
   ]
  },
  {
   "cell_type": "markdown",
   "metadata": {},
   "source": [
    "Поставьте 'x' в выполненных пунктах. Далее нажмите Shift+Enter."
   ]
  },
  {
   "cell_type": "markdown",
   "metadata": {},
   "source": [
    "- [x] Jupyter Notebook открыт\n",
    "- [x] Весь код исполняется без ошибок\n",
    "- [X] Ячейки с кодом расположены в порядке исполнения\n",
    "- [X] Выполнено задание 1: данные загружены и изучены\n",
    "- [X] Выполнено задание 2: данные разбиты на три выборки\n",
    "- [X] Выполнено задание 3: проведено исследование моделей\n",
    "    - [X] Рассмотрено больше одной модели\n",
    "    - [X] Рассмотрено хотя бы 3 значения гипепараметров для какой-нибудь модели\n",
    "    - [X] Написаны выводы по результатам исследования\n",
    "- [X] Выполнено задание 3: Проведено тестирование\n",
    "- [X] Удалось достичь accuracy не меньше 0.75\n"
   ]
  },
  {
   "cell_type": "code",
   "execution_count": null,
   "metadata": {},
   "outputs": [],
   "source": []
  }
 ],
 "metadata": {
  "ExecuteTimeLog": [
   {
    "duration": 54,
    "start_time": "2022-11-21T09:13:08.583Z"
   },
   {
    "duration": 469,
    "start_time": "2022-11-21T09:13:23.248Z"
   },
   {
    "duration": 2,
    "start_time": "2022-11-21T09:14:11.393Z"
   },
   {
    "duration": 21,
    "start_time": "2022-11-21T09:14:15.936Z"
   },
   {
    "duration": 123,
    "start_time": "2022-11-21T09:14:39.506Z"
   },
   {
    "duration": 47,
    "start_time": "2022-11-21T09:14:58.366Z"
   },
   {
    "duration": 10,
    "start_time": "2022-11-21T09:48:37.731Z"
   },
   {
    "duration": 855,
    "start_time": "2022-11-21T09:48:48.847Z"
   },
   {
    "duration": 63,
    "start_time": "2022-11-22T07:02:58.972Z"
   },
   {
    "duration": 9,
    "start_time": "2022-11-22T07:05:46.154Z"
   },
   {
    "duration": 1065,
    "start_time": "2022-11-22T07:07:29.272Z"
   },
   {
    "duration": 138,
    "start_time": "2022-11-22T07:07:31.990Z"
   },
   {
    "duration": 105,
    "start_time": "2022-11-22T07:08:25.332Z"
   },
   {
    "duration": 65,
    "start_time": "2022-11-22T07:09:33.571Z"
   },
   {
    "duration": 61,
    "start_time": "2022-11-22T07:12:07.931Z"
   },
   {
    "duration": 6,
    "start_time": "2022-11-22T07:14:48.954Z"
   },
   {
    "duration": 7,
    "start_time": "2022-11-22T07:17:03.775Z"
   },
   {
    "duration": 7,
    "start_time": "2022-11-22T07:17:10.803Z"
   },
   {
    "duration": 4,
    "start_time": "2022-11-22T09:17:47.438Z"
   },
   {
    "duration": 5,
    "start_time": "2022-11-22T09:18:25.519Z"
   },
   {
    "duration": 14,
    "start_time": "2022-11-22T17:04:07.294Z"
   },
   {
    "duration": 12,
    "start_time": "2022-11-22T17:04:30.892Z"
   },
   {
    "duration": 3,
    "start_time": "2022-11-22T17:04:36.299Z"
   },
   {
    "duration": 73,
    "start_time": "2022-11-22T17:04:36.327Z"
   },
   {
    "duration": 7,
    "start_time": "2022-11-22T17:04:36.403Z"
   },
   {
    "duration": 9,
    "start_time": "2022-11-22T17:04:36.411Z"
   },
   {
    "duration": 9,
    "start_time": "2022-11-22T17:04:41.788Z"
   },
   {
    "duration": 45,
    "start_time": "2022-11-23T06:19:22.682Z"
   },
   {
    "duration": 7,
    "start_time": "2022-11-23T06:20:18.852Z"
   },
   {
    "duration": 1080,
    "start_time": "2022-11-23T06:20:23.557Z"
   },
   {
    "duration": 107,
    "start_time": "2022-11-23T06:20:24.639Z"
   },
   {
    "duration": 5,
    "start_time": "2022-11-23T06:20:24.748Z"
   },
   {
    "duration": 57,
    "start_time": "2022-11-23T06:20:24.755Z"
   },
   {
    "duration": 7,
    "start_time": "2022-11-23T06:20:26.760Z"
   },
   {
    "duration": 4,
    "start_time": "2022-11-23T06:23:21.380Z"
   },
   {
    "duration": 4,
    "start_time": "2022-11-23T06:23:23.974Z"
   },
   {
    "duration": 5,
    "start_time": "2022-11-23T06:56:06.445Z"
   },
   {
    "duration": 15,
    "start_time": "2022-11-23T07:03:45.497Z"
   },
   {
    "duration": 16,
    "start_time": "2022-11-23T07:04:08.923Z"
   },
   {
    "duration": 7,
    "start_time": "2022-11-23T07:07:37.413Z"
   },
   {
    "duration": 21,
    "start_time": "2022-11-23T07:08:43.386Z"
   },
   {
    "duration": 3,
    "start_time": "2022-11-23T07:16:31.643Z"
   },
   {
    "duration": 99,
    "start_time": "2022-11-23T07:16:31.649Z"
   },
   {
    "duration": 5,
    "start_time": "2022-11-23T07:16:31.750Z"
   },
   {
    "duration": 26,
    "start_time": "2022-11-23T07:16:31.757Z"
   },
   {
    "duration": 16,
    "start_time": "2022-11-23T07:18:20.964Z"
   },
   {
    "duration": 72,
    "start_time": "2022-11-23T07:18:26.781Z"
   },
   {
    "duration": 25,
    "start_time": "2022-11-23T07:18:31.383Z"
   },
   {
    "duration": 18,
    "start_time": "2022-11-23T07:23:29.290Z"
   },
   {
    "duration": 18,
    "start_time": "2022-11-23T07:24:06.904Z"
   },
   {
    "duration": 20,
    "start_time": "2022-11-23T07:24:31.644Z"
   },
   {
    "duration": 22,
    "start_time": "2022-11-23T07:25:45.042Z"
   },
   {
    "duration": 21,
    "start_time": "2022-11-23T07:26:01.838Z"
   },
   {
    "duration": 7,
    "start_time": "2022-11-23T08:32:54.157Z"
   },
   {
    "duration": 42,
    "start_time": "2022-11-23T12:51:36.761Z"
   },
   {
    "duration": 1031,
    "start_time": "2022-11-23T12:51:41.270Z"
   },
   {
    "duration": 101,
    "start_time": "2022-11-23T12:51:42.303Z"
   },
   {
    "duration": 6,
    "start_time": "2022-11-23T12:51:42.405Z"
   },
   {
    "duration": 9,
    "start_time": "2022-11-23T12:51:42.413Z"
   },
   {
    "duration": 24,
    "start_time": "2022-11-23T12:51:42.424Z"
   },
   {
    "duration": 8,
    "start_time": "2022-11-23T12:51:42.450Z"
   },
   {
    "duration": 14,
    "start_time": "2022-11-23T12:51:44.368Z"
   },
   {
    "duration": 11,
    "start_time": "2022-11-23T12:52:09.108Z"
   },
   {
    "duration": 14,
    "start_time": "2022-11-23T12:52:12.384Z"
   },
   {
    "duration": 32,
    "start_time": "2022-11-23T12:53:03.876Z"
   },
   {
    "duration": 62,
    "start_time": "2022-11-23T12:53:32.781Z"
   },
   {
    "duration": 32,
    "start_time": "2022-11-23T12:54:30.052Z"
   },
   {
    "duration": 69,
    "start_time": "2022-11-23T14:28:31.273Z"
   },
   {
    "duration": 18,
    "start_time": "2022-11-23T14:29:07.007Z"
   },
   {
    "duration": 96,
    "start_time": "2022-11-23T14:29:07.028Z"
   },
   {
    "duration": 7,
    "start_time": "2022-11-23T14:29:07.131Z"
   },
   {
    "duration": 36,
    "start_time": "2022-11-23T14:29:07.139Z"
   },
   {
    "duration": 53,
    "start_time": "2022-11-23T14:29:07.177Z"
   },
   {
    "duration": 24,
    "start_time": "2022-11-23T14:29:07.233Z"
   },
   {
    "duration": 94,
    "start_time": "2022-11-23T14:29:07.259Z"
   },
   {
    "duration": 259,
    "start_time": "2022-11-23T14:29:09.536Z"
   },
   {
    "duration": 245,
    "start_time": "2022-11-23T14:29:35.626Z"
   },
   {
    "duration": 246,
    "start_time": "2022-11-23T14:30:51.949Z"
   },
   {
    "duration": 281,
    "start_time": "2022-11-23T14:31:00.986Z"
   },
   {
    "duration": 171,
    "start_time": "2022-11-23T14:34:03.277Z"
   },
   {
    "duration": 40,
    "start_time": "2022-11-23T14:35:50.426Z"
   },
   {
    "duration": 819,
    "start_time": "2022-11-23T14:36:06.231Z"
   },
   {
    "duration": 1758,
    "start_time": "2022-11-23T14:36:13.103Z"
   },
   {
    "duration": 4866,
    "start_time": "2022-11-23T14:36:22.977Z"
   },
   {
    "duration": 211,
    "start_time": "2022-11-23T14:36:35.373Z"
   },
   {
    "duration": 466,
    "start_time": "2022-11-23T14:36:39.790Z"
   },
   {
    "duration": 838,
    "start_time": "2022-11-23T14:36:50.242Z"
   },
   {
    "duration": 301,
    "start_time": "2022-11-23T14:36:58.395Z"
   },
   {
    "duration": 363,
    "start_time": "2022-11-23T14:37:02.948Z"
   },
   {
    "duration": 399,
    "start_time": "2022-11-23T14:37:08.203Z"
   },
   {
    "duration": 533,
    "start_time": "2022-11-23T14:37:12.178Z"
   },
   {
    "duration": 467,
    "start_time": "2022-11-23T14:37:23.010Z"
   },
   {
    "duration": 49,
    "start_time": "2022-11-24T06:21:13.246Z"
   },
   {
    "duration": 1118,
    "start_time": "2022-11-24T06:21:18.252Z"
   },
   {
    "duration": 100,
    "start_time": "2022-11-24T06:21:19.372Z"
   },
   {
    "duration": 5,
    "start_time": "2022-11-24T06:21:19.473Z"
   },
   {
    "duration": 7,
    "start_time": "2022-11-24T06:21:19.480Z"
   },
   {
    "duration": 19,
    "start_time": "2022-11-24T06:21:19.488Z"
   },
   {
    "duration": 6,
    "start_time": "2022-11-24T06:21:19.509Z"
   },
   {
    "duration": 115,
    "start_time": "2022-11-24T06:21:22.083Z"
   },
   {
    "duration": 31,
    "start_time": "2022-11-24T06:21:47.825Z"
   },
   {
    "duration": 475,
    "start_time": "2022-11-24T06:24:39.549Z"
   },
   {
    "duration": 61,
    "start_time": "2022-11-24T06:31:04.354Z"
   },
   {
    "duration": 4,
    "start_time": "2022-11-24T06:31:43.008Z"
   },
   {
    "duration": 76,
    "start_time": "2022-11-24T06:31:43.014Z"
   },
   {
    "duration": 7,
    "start_time": "2022-11-24T06:31:43.092Z"
   },
   {
    "duration": 12,
    "start_time": "2022-11-24T06:31:43.101Z"
   },
   {
    "duration": 21,
    "start_time": "2022-11-24T06:31:43.115Z"
   },
   {
    "duration": 9,
    "start_time": "2022-11-24T06:31:43.137Z"
   },
   {
    "duration": 65,
    "start_time": "2022-11-24T06:31:43.148Z"
   },
   {
    "duration": 502,
    "start_time": "2022-11-24T06:31:43.214Z"
   },
   {
    "duration": 9,
    "start_time": "2022-11-24T06:31:50.356Z"
   },
   {
    "duration": 30,
    "start_time": "2022-11-24T06:33:23.142Z"
   },
   {
    "duration": 162,
    "start_time": "2022-11-24T06:35:37.323Z"
   },
   {
    "duration": 91,
    "start_time": "2022-11-24T06:35:52.765Z"
   },
   {
    "duration": 31,
    "start_time": "2022-11-24T06:37:11.788Z"
   },
   {
    "duration": 29,
    "start_time": "2022-11-24T06:37:17.176Z"
   },
   {
    "duration": 41,
    "start_time": "2022-11-24T06:37:21.525Z"
   },
   {
    "duration": 42,
    "start_time": "2022-11-24T06:37:26.961Z"
   },
   {
    "duration": 28,
    "start_time": "2022-11-24T06:38:30.623Z"
   },
   {
    "duration": 29,
    "start_time": "2022-11-24T06:38:33.196Z"
   },
   {
    "duration": 30,
    "start_time": "2022-11-24T06:38:44.864Z"
   },
   {
    "duration": 30,
    "start_time": "2022-11-24T06:51:40.849Z"
   },
   {
    "duration": 465,
    "start_time": "2022-11-24T08:00:19.933Z"
   },
   {
    "duration": 223,
    "start_time": "2022-11-24T08:01:04.234Z"
   },
   {
    "duration": 80,
    "start_time": "2022-11-24T08:01:12.141Z"
   },
   {
    "duration": 483,
    "start_time": "2022-11-24T08:01:17.626Z"
   },
   {
    "duration": 255,
    "start_time": "2022-11-24T08:17:02.643Z"
   },
   {
    "duration": 446,
    "start_time": "2022-11-24T08:17:17.738Z"
   },
   {
    "duration": 1602,
    "start_time": "2022-11-24T08:48:15.129Z"
   },
   {
    "duration": 79,
    "start_time": "2022-11-24T08:48:16.733Z"
   },
   {
    "duration": 6,
    "start_time": "2022-11-24T08:48:16.813Z"
   },
   {
    "duration": 13,
    "start_time": "2022-11-24T08:48:16.821Z"
   },
   {
    "duration": 29,
    "start_time": "2022-11-24T08:48:16.835Z"
   },
   {
    "duration": 8,
    "start_time": "2022-11-24T08:48:16.865Z"
   },
   {
    "duration": 64,
    "start_time": "2022-11-24T08:48:16.875Z"
   },
   {
    "duration": 494,
    "start_time": "2022-11-24T08:48:16.941Z"
   },
   {
    "duration": 29,
    "start_time": "2022-11-24T08:48:17.437Z"
   },
   {
    "duration": 500,
    "start_time": "2022-11-24T08:48:17.469Z"
   },
   {
    "duration": 37,
    "start_time": "2022-11-24T09:04:01.545Z"
   },
   {
    "duration": 33,
    "start_time": "2022-11-24T09:04:25.641Z"
   },
   {
    "duration": 1063,
    "start_time": "2022-11-24T13:16:31.550Z"
   },
   {
    "duration": 99,
    "start_time": "2022-11-24T13:33:01.729Z"
   },
   {
    "duration": 3,
    "start_time": "2022-11-24T13:33:07.565Z"
   },
   {
    "duration": 125,
    "start_time": "2022-11-24T13:33:07.570Z"
   },
   {
    "duration": 5,
    "start_time": "2022-11-24T13:33:07.697Z"
   },
   {
    "duration": 11,
    "start_time": "2022-11-24T13:33:07.703Z"
   },
   {
    "duration": 11,
    "start_time": "2022-11-24T13:33:14.948Z"
   },
   {
    "duration": 36,
    "start_time": "2022-11-24T13:33:34.211Z"
   },
   {
    "duration": 16,
    "start_time": "2022-11-24T13:34:57.446Z"
   },
   {
    "duration": 35,
    "start_time": "2022-11-24T13:35:07.744Z"
   },
   {
    "duration": 36,
    "start_time": "2022-11-24T13:35:12.412Z"
   },
   {
    "duration": 123,
    "start_time": "2022-11-24T13:35:52.742Z"
   },
   {
    "duration": 33,
    "start_time": "2022-11-24T13:35:58.676Z"
   },
   {
    "duration": 15,
    "start_time": "2022-11-24T13:36:18.707Z"
   },
   {
    "duration": 37,
    "start_time": "2022-11-24T13:36:41.104Z"
   },
   {
    "duration": 16,
    "start_time": "2022-11-24T13:37:06.054Z"
   },
   {
    "duration": 16,
    "start_time": "2022-11-24T13:37:36.300Z"
   },
   {
    "duration": 13,
    "start_time": "2022-11-24T13:39:04.520Z"
   },
   {
    "duration": 2,
    "start_time": "2022-11-24T13:39:11.753Z"
   },
   {
    "duration": 63,
    "start_time": "2022-11-24T13:39:11.757Z"
   },
   {
    "duration": 6,
    "start_time": "2022-11-24T13:39:11.822Z"
   },
   {
    "duration": 10,
    "start_time": "2022-11-24T13:39:11.830Z"
   },
   {
    "duration": 12,
    "start_time": "2022-11-24T13:39:19.083Z"
   },
   {
    "duration": 31,
    "start_time": "2022-11-24T13:40:29.210Z"
   },
   {
    "duration": 94,
    "start_time": "2022-11-24T13:40:51.486Z"
   },
   {
    "duration": 4,
    "start_time": "2022-11-24T16:22:37.369Z"
   },
   {
    "duration": 113,
    "start_time": "2022-11-24T16:22:44.484Z"
   },
   {
    "duration": 3,
    "start_time": "2022-11-24T16:22:56.121Z"
   },
   {
    "duration": 71,
    "start_time": "2022-11-24T16:22:56.126Z"
   },
   {
    "duration": 6,
    "start_time": "2022-11-24T16:22:56.199Z"
   },
   {
    "duration": 21,
    "start_time": "2022-11-24T16:22:56.207Z"
   },
   {
    "duration": 59,
    "start_time": "2022-11-24T16:22:56.230Z"
   },
   {
    "duration": 9,
    "start_time": "2022-11-24T16:22:56.291Z"
   },
   {
    "duration": 41,
    "start_time": "2022-11-24T16:22:56.302Z"
   },
   {
    "duration": 467,
    "start_time": "2022-11-24T16:23:00.851Z"
   },
   {
    "duration": 80,
    "start_time": "2022-11-24T16:23:42.320Z"
   },
   {
    "duration": 5,
    "start_time": "2022-11-24T16:23:55.525Z"
   },
   {
    "duration": 483,
    "start_time": "2022-11-24T16:24:08.527Z"
   },
   {
    "duration": 46,
    "start_time": "2022-11-25T06:27:16.167Z"
   },
   {
    "duration": 1043,
    "start_time": "2022-11-25T06:27:20.095Z"
   },
   {
    "duration": 152,
    "start_time": "2022-11-25T06:27:21.140Z"
   },
   {
    "duration": 6,
    "start_time": "2022-11-25T06:27:21.293Z"
   },
   {
    "duration": 41,
    "start_time": "2022-11-25T06:27:21.301Z"
   },
   {
    "duration": 45,
    "start_time": "2022-11-25T06:27:21.344Z"
   },
   {
    "duration": 7,
    "start_time": "2022-11-25T06:27:21.391Z"
   },
   {
    "duration": 63,
    "start_time": "2022-11-25T06:27:21.400Z"
   },
   {
    "duration": 13,
    "start_time": "2022-11-25T06:28:52.073Z"
   },
   {
    "duration": 11,
    "start_time": "2022-11-25T06:30:40.450Z"
   },
   {
    "duration": 4,
    "start_time": "2022-11-25T06:31:06.270Z"
   },
   {
    "duration": 504,
    "start_time": "2022-11-25T06:40:30.461Z"
   },
   {
    "duration": 4,
    "start_time": "2022-11-25T06:42:49.947Z"
   },
   {
    "duration": 115,
    "start_time": "2022-11-25T07:03:58.925Z"
   },
   {
    "duration": 88,
    "start_time": "2022-11-25T07:04:25.633Z"
   },
   {
    "duration": 220,
    "start_time": "2022-11-25T07:04:34.660Z"
   },
   {
    "duration": 10,
    "start_time": "2022-11-25T07:04:42.347Z"
   },
   {
    "duration": 4,
    "start_time": "2022-11-25T07:09:50.126Z"
   },
   {
    "duration": 44,
    "start_time": "2022-11-25T07:12:57.998Z"
   },
   {
    "duration": 3,
    "start_time": "2022-11-25T07:15:44.211Z"
   },
   {
    "duration": 469,
    "start_time": "2022-11-25T07:15:50.933Z"
   },
   {
    "duration": 8,
    "start_time": "2022-11-25T07:16:41.201Z"
   },
   {
    "duration": 4,
    "start_time": "2022-11-25T07:16:44.189Z"
   },
   {
    "duration": 556,
    "start_time": "2022-11-25T07:17:02.187Z"
   },
   {
    "duration": 509,
    "start_time": "2022-11-25T07:17:09.495Z"
   },
   {
    "duration": 45,
    "start_time": "2022-11-25T07:17:35.460Z"
   },
   {
    "duration": 496,
    "start_time": "2022-11-25T07:17:45.155Z"
   },
   {
    "duration": 13,
    "start_time": "2022-11-25T07:26:41.551Z"
   },
   {
    "duration": 14,
    "start_time": "2022-11-25T07:27:25.865Z"
   },
   {
    "duration": 479,
    "start_time": "2022-11-25T07:31:39.944Z"
   },
   {
    "duration": 250,
    "start_time": "2022-11-25T08:07:51.863Z"
   },
   {
    "duration": 11,
    "start_time": "2022-11-25T08:12:10.442Z"
   },
   {
    "duration": 10,
    "start_time": "2022-11-25T08:12:32.255Z"
   },
   {
    "duration": 10,
    "start_time": "2022-11-25T08:13:58.822Z"
   },
   {
    "duration": 299,
    "start_time": "2022-11-25T08:16:22.631Z"
   },
   {
    "duration": 19,
    "start_time": "2022-11-25T08:16:37.550Z"
   },
   {
    "duration": 244,
    "start_time": "2022-11-25T08:17:43.221Z"
   },
   {
    "duration": 553,
    "start_time": "2022-11-25T08:18:00.187Z"
   },
   {
    "duration": 3,
    "start_time": "2022-11-25T08:56:42.450Z"
   },
   {
    "duration": 5,
    "start_time": "2022-11-25T08:58:42.405Z"
   },
   {
    "duration": 9,
    "start_time": "2022-11-25T08:59:41.758Z"
   },
   {
    "duration": 4,
    "start_time": "2022-11-25T08:59:45.671Z"
   },
   {
    "duration": 6,
    "start_time": "2022-11-25T09:00:32.862Z"
   },
   {
    "duration": 56,
    "start_time": "2022-11-25T13:18:12.020Z"
   },
   {
    "duration": 1114,
    "start_time": "2022-11-25T13:18:20.179Z"
   },
   {
    "duration": 103,
    "start_time": "2022-11-25T13:18:21.295Z"
   },
   {
    "duration": 5,
    "start_time": "2022-11-25T13:18:21.400Z"
   },
   {
    "duration": 11,
    "start_time": "2022-11-25T13:18:21.407Z"
   },
   {
    "duration": 36,
    "start_time": "2022-11-25T13:18:21.420Z"
   },
   {
    "duration": 23,
    "start_time": "2022-11-25T13:18:21.457Z"
   },
   {
    "duration": 45,
    "start_time": "2022-11-25T13:18:21.481Z"
   },
   {
    "duration": 524,
    "start_time": "2022-11-25T13:18:21.528Z"
   },
   {
    "duration": 38,
    "start_time": "2022-11-25T13:18:22.054Z"
   },
   {
    "duration": 564,
    "start_time": "2022-11-25T13:18:22.093Z"
   },
   {
    "duration": 5,
    "start_time": "2022-11-25T13:18:22.658Z"
   },
   {
    "duration": 7,
    "start_time": "2022-11-25T13:18:24.659Z"
   },
   {
    "duration": 6,
    "start_time": "2022-11-25T13:19:10.719Z"
   },
   {
    "duration": 62,
    "start_time": "2022-11-25T13:22:44.464Z"
   },
   {
    "duration": 12,
    "start_time": "2022-11-25T13:23:20.167Z"
   },
   {
    "duration": 23,
    "start_time": "2022-11-25T13:24:11.265Z"
   },
   {
    "duration": 647,
    "start_time": "2022-11-25T13:25:00.964Z"
   },
   {
    "duration": 9,
    "start_time": "2022-11-25T13:25:07.988Z"
   },
   {
    "duration": 9,
    "start_time": "2022-11-25T13:32:06.200Z"
   },
   {
    "duration": 9,
    "start_time": "2022-11-25T13:32:08.708Z"
   },
   {
    "duration": 9,
    "start_time": "2022-11-25T13:33:40.923Z"
   },
   {
    "duration": 7,
    "start_time": "2022-11-25T13:35:12.709Z"
   },
   {
    "duration": 3,
    "start_time": "2022-11-25T13:35:30.157Z"
   },
   {
    "duration": 77,
    "start_time": "2022-11-25T13:35:30.162Z"
   },
   {
    "duration": 6,
    "start_time": "2022-11-25T13:35:30.240Z"
   },
   {
    "duration": 13,
    "start_time": "2022-11-25T13:35:30.248Z"
   },
   {
    "duration": 42,
    "start_time": "2022-11-25T13:35:30.263Z"
   },
   {
    "duration": 8,
    "start_time": "2022-11-25T13:35:30.307Z"
   },
   {
    "duration": 61,
    "start_time": "2022-11-25T13:35:30.317Z"
   },
   {
    "duration": 501,
    "start_time": "2022-11-25T13:35:30.381Z"
   },
   {
    "duration": 11,
    "start_time": "2022-11-25T13:35:37.830Z"
   },
   {
    "duration": 4,
    "start_time": "2022-11-25T13:36:14.645Z"
   },
   {
    "duration": 9,
    "start_time": "2022-11-25T13:36:43.845Z"
   },
   {
    "duration": 5,
    "start_time": "2022-11-25T13:36:50.215Z"
   },
   {
    "duration": 68,
    "start_time": "2022-11-25T13:37:24.608Z"
   },
   {
    "duration": 86,
    "start_time": "2022-11-25T13:37:38.149Z"
   },
   {
    "duration": 68,
    "start_time": "2022-11-25T13:37:54.407Z"
   },
   {
    "duration": 78,
    "start_time": "2022-11-25T13:38:55.172Z"
   },
   {
    "duration": 71,
    "start_time": "2022-11-25T13:39:05.510Z"
   },
   {
    "duration": 74,
    "start_time": "2022-11-25T13:40:50.525Z"
   },
   {
    "duration": 40,
    "start_time": "2022-11-25T13:44:19.575Z"
   },
   {
    "duration": 36,
    "start_time": "2022-11-25T13:44:42.132Z"
   },
   {
    "duration": 8,
    "start_time": "2022-11-25T13:44:52.551Z"
   },
   {
    "duration": 7,
    "start_time": "2022-11-25T13:44:53.559Z"
   },
   {
    "duration": 35,
    "start_time": "2022-11-25T13:45:26.464Z"
   },
   {
    "duration": 36,
    "start_time": "2022-11-25T13:45:27.425Z"
   },
   {
    "duration": 89,
    "start_time": "2022-11-25T13:45:33.189Z"
   },
   {
    "duration": 35,
    "start_time": "2022-11-25T13:45:40.977Z"
   },
   {
    "duration": 34,
    "start_time": "2022-11-25T13:45:46.576Z"
   },
   {
    "duration": 8,
    "start_time": "2022-11-25T13:46:37.936Z"
   },
   {
    "duration": 863,
    "start_time": "2022-11-25T13:48:24.646Z"
   },
   {
    "duration": 982,
    "start_time": "2022-11-25T13:48:50.431Z"
   },
   {
    "duration": 942,
    "start_time": "2022-11-25T13:49:42.373Z"
   },
   {
    "duration": 1047,
    "start_time": "2022-11-25T13:51:12.763Z"
   },
   {
    "duration": 1013,
    "start_time": "2022-11-25T13:51:17.149Z"
   },
   {
    "duration": 434,
    "start_time": "2022-11-25T14:01:57.020Z"
   },
   {
    "duration": 73,
    "start_time": "2022-11-25T14:02:53.648Z"
   },
   {
    "duration": 88,
    "start_time": "2022-11-25T14:03:31.728Z"
   },
   {
    "duration": 25,
    "start_time": "2022-11-25T14:03:38.332Z"
   },
   {
    "duration": 13,
    "start_time": "2022-11-25T14:59:10.202Z"
   },
   {
    "duration": 47,
    "start_time": "2022-11-26T08:40:40.138Z"
   },
   {
    "duration": 1455,
    "start_time": "2022-11-26T08:40:46.284Z"
   },
   {
    "duration": 107,
    "start_time": "2022-11-26T08:40:47.742Z"
   },
   {
    "duration": 7,
    "start_time": "2022-11-26T08:40:47.851Z"
   },
   {
    "duration": 8,
    "start_time": "2022-11-26T08:40:47.860Z"
   },
   {
    "duration": 63,
    "start_time": "2022-11-26T08:40:47.869Z"
   },
   {
    "duration": 8,
    "start_time": "2022-11-26T08:40:47.934Z"
   },
   {
    "duration": 41,
    "start_time": "2022-11-26T08:40:47.944Z"
   },
   {
    "duration": 85,
    "start_time": "2022-11-26T08:40:47.987Z"
   },
   {
    "duration": 0,
    "start_time": "2022-11-26T08:40:48.074Z"
   },
   {
    "duration": 0,
    "start_time": "2022-11-26T08:40:48.075Z"
   },
   {
    "duration": 0,
    "start_time": "2022-11-26T08:40:48.076Z"
   },
   {
    "duration": 9,
    "start_time": "2022-11-26T08:40:52.578Z"
   },
   {
    "duration": 3,
    "start_time": "2022-11-26T08:41:02.646Z"
   },
   {
    "duration": 75,
    "start_time": "2022-11-26T08:41:02.652Z"
   },
   {
    "duration": 6,
    "start_time": "2022-11-26T08:41:02.729Z"
   },
   {
    "duration": 26,
    "start_time": "2022-11-26T08:41:02.737Z"
   },
   {
    "duration": 36,
    "start_time": "2022-11-26T08:41:02.766Z"
   },
   {
    "duration": 12,
    "start_time": "2022-11-26T08:41:02.804Z"
   },
   {
    "duration": 35,
    "start_time": "2022-11-26T08:41:02.818Z"
   },
   {
    "duration": 11,
    "start_time": "2022-11-26T08:41:02.855Z"
   },
   {
    "duration": 0,
    "start_time": "2022-11-26T08:41:02.868Z"
   },
   {
    "duration": 0,
    "start_time": "2022-11-26T08:41:02.869Z"
   },
   {
    "duration": 4,
    "start_time": "2022-11-26T08:41:07.724Z"
   },
   {
    "duration": 110,
    "start_time": "2022-11-26T08:41:07.731Z"
   },
   {
    "duration": 5,
    "start_time": "2022-11-26T08:41:07.843Z"
   },
   {
    "duration": 19,
    "start_time": "2022-11-26T08:41:07.850Z"
   },
   {
    "duration": 39,
    "start_time": "2022-11-26T08:41:07.870Z"
   },
   {
    "duration": 7,
    "start_time": "2022-11-26T08:41:07.913Z"
   },
   {
    "duration": 47,
    "start_time": "2022-11-26T08:41:07.922Z"
   },
   {
    "duration": 13,
    "start_time": "2022-11-26T08:41:07.971Z"
   },
   {
    "duration": 0,
    "start_time": "2022-11-26T08:41:07.987Z"
   },
   {
    "duration": 0,
    "start_time": "2022-11-26T08:41:07.988Z"
   },
   {
    "duration": 13,
    "start_time": "2022-11-26T08:41:16.699Z"
   },
   {
    "duration": 4,
    "start_time": "2022-11-26T08:41:37.185Z"
   },
   {
    "duration": 77,
    "start_time": "2022-11-26T08:41:37.192Z"
   },
   {
    "duration": 5,
    "start_time": "2022-11-26T08:41:37.270Z"
   },
   {
    "duration": 9,
    "start_time": "2022-11-26T08:41:37.276Z"
   },
   {
    "duration": 43,
    "start_time": "2022-11-26T08:41:37.287Z"
   },
   {
    "duration": 6,
    "start_time": "2022-11-26T08:41:37.331Z"
   },
   {
    "duration": 36,
    "start_time": "2022-11-26T08:41:37.339Z"
   },
   {
    "duration": 964,
    "start_time": "2022-11-26T08:41:37.376Z"
   },
   {
    "duration": 18,
    "start_time": "2022-11-26T08:41:38.341Z"
   },
   {
    "duration": 570,
    "start_time": "2022-11-26T08:41:38.361Z"
   },
   {
    "duration": 24,
    "start_time": "2022-11-26T08:41:41.626Z"
   },
   {
    "duration": 26,
    "start_time": "2022-11-26T08:41:53.885Z"
   },
   {
    "duration": 37,
    "start_time": "2022-11-26T08:44:58.698Z"
   },
   {
    "duration": 29,
    "start_time": "2022-11-26T08:45:16.399Z"
   },
   {
    "duration": 31,
    "start_time": "2022-11-26T08:45:36.649Z"
   },
   {
    "duration": 29,
    "start_time": "2022-11-26T08:46:05.596Z"
   },
   {
    "duration": 1946,
    "start_time": "2022-11-26T09:51:30.104Z"
   },
   {
    "duration": 65,
    "start_time": "2022-11-26T09:51:32.052Z"
   },
   {
    "duration": 6,
    "start_time": "2022-11-26T09:51:32.118Z"
   },
   {
    "duration": 12,
    "start_time": "2022-11-26T09:51:32.125Z"
   },
   {
    "duration": 37,
    "start_time": "2022-11-26T09:51:32.139Z"
   },
   {
    "duration": 8,
    "start_time": "2022-11-26T09:51:32.178Z"
   },
   {
    "duration": 66,
    "start_time": "2022-11-26T09:51:32.188Z"
   },
   {
    "duration": 978,
    "start_time": "2022-11-26T09:51:32.256Z"
   },
   {
    "duration": 19,
    "start_time": "2022-11-26T09:51:33.238Z"
   },
   {
    "duration": 626,
    "start_time": "2022-11-26T09:51:33.260Z"
   },
   {
    "duration": 142,
    "start_time": "2022-11-26T09:51:33.887Z"
   },
   {
    "duration": 0,
    "start_time": "2022-11-26T09:51:34.031Z"
   },
   {
    "duration": 5,
    "start_time": "2022-11-26T09:53:57.093Z"
   },
   {
    "duration": 28,
    "start_time": "2022-11-26T09:54:27.475Z"
   },
   {
    "duration": 32,
    "start_time": "2022-11-26T09:54:40.292Z"
   },
   {
    "duration": 35,
    "start_time": "2022-11-26T09:54:45.356Z"
   },
   {
    "duration": 28,
    "start_time": "2022-11-26T09:54:48.308Z"
   },
   {
    "duration": 7,
    "start_time": "2022-11-26T09:56:43.729Z"
   },
   {
    "duration": 29,
    "start_time": "2022-11-26T10:21:28.928Z"
   },
   {
    "duration": 34,
    "start_time": "2022-11-26T10:27:11.251Z"
   },
   {
    "duration": 607,
    "start_time": "2022-11-26T10:33:34.447Z"
   },
   {
    "duration": 29,
    "start_time": "2022-11-26T11:29:58.769Z"
   },
   {
    "duration": 28,
    "start_time": "2022-11-26T11:30:51.481Z"
   },
   {
    "duration": 3,
    "start_time": "2022-11-26T11:31:19.701Z"
   },
   {
    "duration": 30,
    "start_time": "2022-11-26T11:47:04.144Z"
   },
   {
    "duration": 1021,
    "start_time": "2022-11-26T11:47:18.010Z"
   },
   {
    "duration": 17,
    "start_time": "2022-11-26T11:50:11.649Z"
   },
   {
    "duration": 4,
    "start_time": "2022-11-26T12:33:39.225Z"
   },
   {
    "duration": 31,
    "start_time": "2022-11-26T12:33:44.418Z"
   },
   {
    "duration": 45,
    "start_time": "2022-11-26T12:34:57.574Z"
   },
   {
    "duration": 30,
    "start_time": "2022-11-26T12:35:10.416Z"
   },
   {
    "duration": 27,
    "start_time": "2022-11-26T12:35:21.876Z"
   },
   {
    "duration": 30,
    "start_time": "2022-11-26T12:35:34.171Z"
   },
   {
    "duration": 2120,
    "start_time": "2022-11-26T16:20:19.343Z"
   },
   {
    "duration": 69,
    "start_time": "2022-11-26T16:20:21.466Z"
   },
   {
    "duration": 6,
    "start_time": "2022-11-26T16:20:21.537Z"
   },
   {
    "duration": 7,
    "start_time": "2022-11-26T16:20:21.546Z"
   },
   {
    "duration": 39,
    "start_time": "2022-11-26T16:20:21.555Z"
   },
   {
    "duration": 8,
    "start_time": "2022-11-26T16:20:21.596Z"
   },
   {
    "duration": 65,
    "start_time": "2022-11-26T16:20:21.606Z"
   },
   {
    "duration": 1066,
    "start_time": "2022-11-26T16:20:21.673Z"
   },
   {
    "duration": 20,
    "start_time": "2022-11-26T16:20:22.741Z"
   },
   {
    "duration": 46,
    "start_time": "2022-11-26T16:20:22.765Z"
   },
   {
    "duration": 30,
    "start_time": "2022-11-26T16:20:22.813Z"
   },
   {
    "duration": 7,
    "start_time": "2022-11-26T16:20:50.105Z"
   },
   {
    "duration": 33,
    "start_time": "2022-11-26T16:22:55.479Z"
   },
   {
    "duration": 108,
    "start_time": "2022-11-26T16:23:50.846Z"
   },
   {
    "duration": 19,
    "start_time": "2022-11-26T16:23:56.855Z"
   },
   {
    "duration": 1093,
    "start_time": "2022-11-26T16:25:31.049Z"
   },
   {
    "duration": 5,
    "start_time": "2022-11-26T16:25:43.714Z"
   },
   {
    "duration": 2567,
    "start_time": "2022-11-26T16:27:09.238Z"
   },
   {
    "duration": 35,
    "start_time": "2022-11-26T16:27:33.505Z"
   },
   {
    "duration": 4,
    "start_time": "2022-11-26T16:27:48.470Z"
   },
   {
    "duration": 315,
    "start_time": "2022-11-26T16:28:13.581Z"
   },
   {
    "duration": 49,
    "start_time": "2022-12-06T06:35:51.637Z"
   },
   {
    "duration": 722,
    "start_time": "2022-12-06T06:36:01.662Z"
   },
   {
    "duration": 10,
    "start_time": "2022-12-06T06:37:00.327Z"
   },
   {
    "duration": 48,
    "start_time": "2023-01-24T15:23:05.535Z"
   },
   {
    "duration": 1414,
    "start_time": "2023-01-24T15:23:11.611Z"
   },
   {
    "duration": 173,
    "start_time": "2023-01-24T15:23:13.027Z"
   },
   {
    "duration": 6,
    "start_time": "2023-01-24T15:23:13.201Z"
   },
   {
    "duration": 6,
    "start_time": "2023-01-24T15:23:17.959Z"
   }
  ],
  "kernelspec": {
   "display_name": "Python 3 (ipykernel)",
   "language": "python",
   "name": "python3"
  },
  "language_info": {
   "codemirror_mode": {
    "name": "ipython",
    "version": 3
   },
   "file_extension": ".py",
   "mimetype": "text/x-python",
   "name": "python",
   "nbconvert_exporter": "python",
   "pygments_lexer": "ipython3",
   "version": "3.9.12"
  },
  "toc": {
   "base_numbering": 1,
   "nav_menu": {},
   "number_sections": true,
   "sideBar": true,
   "skip_h1_title": true,
   "title_cell": "Table of Contents",
   "title_sidebar": "Contents",
   "toc_cell": false,
   "toc_position": {},
   "toc_section_display": true,
   "toc_window_display": false
  }
 },
 "nbformat": 4,
 "nbformat_minor": 2
}
